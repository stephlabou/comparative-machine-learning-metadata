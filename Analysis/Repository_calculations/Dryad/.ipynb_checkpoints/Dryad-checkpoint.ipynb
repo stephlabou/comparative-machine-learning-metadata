{
 "cells": [
  {
   "cell_type": "markdown",
   "id": "f743f8b9",
   "metadata": {
    "pycharm": {
     "name": "#%% md\n"
    }
   },
   "source": [
    "# Analysis Template Walkthrough"
   ]
  },
  {
   "cell_type": "markdown",
   "id": "3169bcdc",
   "metadata": {
    "pycharm": {
     "name": "#%% md\n"
    }
   },
   "source": [
    "# Setup"
   ]
  },
  {
   "cell_type": "markdown",
   "id": "0ec546fd",
   "metadata": {
    "pycharm": {
     "name": "#%% md\n"
    }
   },
   "source": [
    "## Select extract\n",
    "In order for the template cells to query data from the correct repository, enter the repository name as `repository` and repository object type as `object_type`."
   ]
  },
  {
   "cell_type": "code",
   "execution_count": 1,
   "id": "d3c80de9",
   "metadata": {
    "pycharm": {
     "name": "#%%\n"
    }
   },
   "outputs": [],
   "source": [
    "repository = 'dryad'\n",
    "object_type = 'records'"
   ]
  },
  {
   "cell_type": "code",
   "execution_count": 2,
   "id": "96952f82",
   "metadata": {
    "pycharm": {
     "name": "#%%\n"
    }
   },
   "outputs": [],
   "source": [
    "import pandas as pd\n",
    "import numpy as np\n",
    "import re\n",
    "from pathlib import Path"
   ]
  },
  {
   "cell_type": "code",
   "execution_count": 3,
   "id": "f8eae9b7",
   "metadata": {},
   "outputs": [],
   "source": [
    "#see more rows and columns of output\n",
    "pd.set_option('display.max_rows', 100)\n",
    "pd.set_option('display.max_columns', 100) "
   ]
  },
  {
   "cell_type": "markdown",
   "id": "886d5cc0",
   "metadata": {
    "pycharm": {
     "name": "#%% md\n"
    }
   },
   "source": [
    "## Helper Functions"
   ]
  },
  {
   "cell_type": "code",
   "execution_count": 4,
   "id": "60210c1d",
   "metadata": {
    "pycharm": {
     "name": "#%%\n"
    }
   },
   "outputs": [],
   "source": [
    "import os, sys\n",
    "dir2 = os.path.abspath('../')\n",
    "dir1 = os.path.dirname(dir2)\n",
    "if not dir1 in sys.path: sys.path.append(dir1)\n",
    "\n",
    "from utils import analysis\n",
    "from utils.crosswalk import RepositoryExtract, property_crosswalk\n",
    "from utils import accessors"
   ]
  },
  {
   "cell_type": "markdown",
   "id": "32620ae7",
   "metadata": {
    "pycharm": {
     "name": "#%% md\n"
    }
   },
   "source": [
    "# Summary Statistic Walkthroughs"
   ]
  },
  {
   "cell_type": "markdown",
   "id": "0e2dc048",
   "metadata": {
    "pycharm": {
     "name": "#%% md\n"
    }
   },
   "source": [
    "Read in repository extracts .json file"
   ]
  },
  {
   "cell_type": "code",
   "execution_count": 5,
   "id": "f71012d1",
   "metadata": {
    "pycharm": {
     "name": "#%%\n"
    }
   },
   "outputs": [],
   "source": [
    "df = pd.read_json(f'{repository}_{object_type}.json')"
   ]
  },
  {
   "cell_type": "code",
   "execution_count": 6,
   "id": "d78c3310",
   "metadata": {
    "scrolled": true
   },
   "outputs": [
    {
     "data": {
      "text/html": [
       "<div>\n",
       "<style scoped>\n",
       "    .dataframe tbody tr th:only-of-type {\n",
       "        vertical-align: middle;\n",
       "    }\n",
       "\n",
       "    .dataframe tbody tr th {\n",
       "        vertical-align: top;\n",
       "    }\n",
       "\n",
       "    .dataframe thead th {\n",
       "        text-align: right;\n",
       "    }\n",
       "</style>\n",
       "<table border=\"1\" class=\"dataframe\">\n",
       "  <thead>\n",
       "    <tr style=\"text-align: right;\">\n",
       "      <th></th>\n",
       "      <th>_links_search</th>\n",
       "      <th>identifier</th>\n",
       "      <th>id</th>\n",
       "      <th>storageSize</th>\n",
       "      <th>relatedPublicationISSN</th>\n",
       "      <th>title</th>\n",
       "      <th>authors</th>\n",
       "      <th>abstract</th>\n",
       "      <th>funders</th>\n",
       "      <th>keywords</th>\n",
       "      <th>usageNotes</th>\n",
       "      <th>locations</th>\n",
       "      <th>relatedWorks</th>\n",
       "      <th>versionNumber</th>\n",
       "      <th>versionStatus</th>\n",
       "      <th>curationStatus</th>\n",
       "      <th>versionChanges</th>\n",
       "      <th>publicationDate</th>\n",
       "      <th>lastModificationDate</th>\n",
       "      <th>visibility</th>\n",
       "      <th>sharingLink</th>\n",
       "      <th>userId</th>\n",
       "      <th>license</th>\n",
       "      <th>fieldOfScience</th>\n",
       "      <th>methods</th>\n",
       "      <th>page_search</th>\n",
       "      <th>version</th>\n",
       "      <th>numCitations</th>\n",
       "      <th>numDownloads</th>\n",
       "      <th>numViews</th>\n",
       "      <th>_links_metadata</th>\n",
       "      <th>path</th>\n",
       "      <th>url</th>\n",
       "      <th>size</th>\n",
       "      <th>mimeType</th>\n",
       "      <th>status</th>\n",
       "      <th>digest</th>\n",
       "      <th>digestType</th>\n",
       "      <th>description</th>\n",
       "      <th>page_metadata</th>\n",
       "    </tr>\n",
       "  </thead>\n",
       "  <tbody>\n",
       "    <tr>\n",
       "      <th>0</th>\n",
       "      <td>{'self': {'href': '/api/v2/datasets/doi%3A10.5...</td>\n",
       "      <td>doi:10.5061/dryad.nj2mg77</td>\n",
       "      <td>28194</td>\n",
       "      <td>1769456</td>\n",
       "      <td>1055-7903</td>\n",
       "      <td>Data from: A demonstration of unsupervised mac...</td>\n",
       "      <td>[{'firstName': 'Shahan', 'lastName': 'Derkarab...</td>\n",
       "      <td>One major challenge to delimiting species with...</td>\n",
       "      <td>[{'organization': 'National Science Foundation...</td>\n",
       "      <td>[Paranonychidae, integrative taxonomy, Neogene...</td>\n",
       "      <td>&lt;div class=\"o-metadata__file-usage-entry\"&gt;&lt;h4 ...</td>\n",
       "      <td>[{'place': 'western North America'}]</td>\n",
       "      <td>[{'relationship': 'primary_article', 'identifi...</td>\n",
       "      <td>1</td>\n",
       "      <td>submitted</td>\n",
       "      <td>Published</td>\n",
       "      <td>none</td>\n",
       "      <td>2019-07-26</td>\n",
       "      <td>2019-09-23</td>\n",
       "      <td>public</td>\n",
       "      <td>https://datadryad.org/stash/share/U7pTmtqObvWK...</td>\n",
       "      <td>7103</td>\n",
       "      <td>https://creativecommons.org/publicdomain/zero/...</td>\n",
       "      <td>None</td>\n",
       "      <td>None</td>\n",
       "      <td>1</td>\n",
       "      <td>29027</td>\n",
       "      <td>1</td>\n",
       "      <td>39</td>\n",
       "      <td>165</td>\n",
       "      <td>{'self': {'href': '/api/v2/files/109249'}, 'st...</td>\n",
       "      <td>Metanonychus_Input_Matrices.zip</td>\n",
       "      <td>https://dryad-assetstore-east.s3.amazonaws.com...</td>\n",
       "      <td>802735.0</td>\n",
       "      <td>application/zip</td>\n",
       "      <td>created</td>\n",
       "      <td>63d7a0bc8ff595700ce8b2f974f6fa34</td>\n",
       "      <td>md5</td>\n",
       "      <td>Data Input matrices used for all analyses cond...</td>\n",
       "      <td>2.0</td>\n",
       "    </tr>\n",
       "    <tr>\n",
       "      <th>1</th>\n",
       "      <td>{'self': {'href': '/api/v2/datasets/doi%3A10.5...</td>\n",
       "      <td>doi:10.5061/dryad.nj2mg77</td>\n",
       "      <td>28194</td>\n",
       "      <td>1769456</td>\n",
       "      <td>1055-7903</td>\n",
       "      <td>Data from: A demonstration of unsupervised mac...</td>\n",
       "      <td>[{'firstName': 'Shahan', 'lastName': 'Derkarab...</td>\n",
       "      <td>One major challenge to delimiting species with...</td>\n",
       "      <td>[{'organization': 'National Science Foundation...</td>\n",
       "      <td>[Paranonychidae, integrative taxonomy, Neogene...</td>\n",
       "      <td>&lt;div class=\"o-metadata__file-usage-entry\"&gt;&lt;h4 ...</td>\n",
       "      <td>[{'place': 'western North America'}]</td>\n",
       "      <td>[{'relationship': 'primary_article', 'identifi...</td>\n",
       "      <td>1</td>\n",
       "      <td>submitted</td>\n",
       "      <td>Published</td>\n",
       "      <td>none</td>\n",
       "      <td>2019-07-26</td>\n",
       "      <td>2019-09-23</td>\n",
       "      <td>public</td>\n",
       "      <td>https://datadryad.org/stash/share/U7pTmtqObvWK...</td>\n",
       "      <td>7103</td>\n",
       "      <td>https://creativecommons.org/publicdomain/zero/...</td>\n",
       "      <td>None</td>\n",
       "      <td>None</td>\n",
       "      <td>1</td>\n",
       "      <td>29027</td>\n",
       "      <td>1</td>\n",
       "      <td>39</td>\n",
       "      <td>165</td>\n",
       "      <td>{'self': {'href': '/api/v2/files/109250'}, 'st...</td>\n",
       "      <td>Metanonychus_UCEalignments_50percent.zip</td>\n",
       "      <td>https://dryad-assetstore-east.s3.amazonaws.com...</td>\n",
       "      <td>540588.0</td>\n",
       "      <td>application/zip</td>\n",
       "      <td>created</td>\n",
       "      <td>bf7931bf1a534ce065a8a81b9305f1be</td>\n",
       "      <td>md5</td>\n",
       "      <td>Individual UCE locus alignments included in th...</td>\n",
       "      <td>2.0</td>\n",
       "    </tr>\n",
       "    <tr>\n",
       "      <th>2</th>\n",
       "      <td>{'self': {'href': '/api/v2/datasets/doi%3A10.5...</td>\n",
       "      <td>doi:10.5061/dryad.nj2mg77</td>\n",
       "      <td>28194</td>\n",
       "      <td>1769456</td>\n",
       "      <td>1055-7903</td>\n",
       "      <td>Data from: A demonstration of unsupervised mac...</td>\n",
       "      <td>[{'firstName': 'Shahan', 'lastName': 'Derkarab...</td>\n",
       "      <td>One major challenge to delimiting species with...</td>\n",
       "      <td>[{'organization': 'National Science Foundation...</td>\n",
       "      <td>[Paranonychidae, integrative taxonomy, Neogene...</td>\n",
       "      <td>&lt;div class=\"o-metadata__file-usage-entry\"&gt;&lt;h4 ...</td>\n",
       "      <td>[{'place': 'western North America'}]</td>\n",
       "      <td>[{'relationship': 'primary_article', 'identifi...</td>\n",
       "      <td>1</td>\n",
       "      <td>submitted</td>\n",
       "      <td>Published</td>\n",
       "      <td>none</td>\n",
       "      <td>2019-07-26</td>\n",
       "      <td>2019-09-23</td>\n",
       "      <td>public</td>\n",
       "      <td>https://datadryad.org/stash/share/U7pTmtqObvWK...</td>\n",
       "      <td>7103</td>\n",
       "      <td>https://creativecommons.org/publicdomain/zero/...</td>\n",
       "      <td>None</td>\n",
       "      <td>None</td>\n",
       "      <td>1</td>\n",
       "      <td>29027</td>\n",
       "      <td>1</td>\n",
       "      <td>39</td>\n",
       "      <td>165</td>\n",
       "      <td>{'self': {'href': '/api/v2/files/109252'}, 'st...</td>\n",
       "      <td>Metanonychus_UCEalignments_70percent.zip</td>\n",
       "      <td>https://dryad-assetstore-east.s3.amazonaws.com...</td>\n",
       "      <td>390902.0</td>\n",
       "      <td>application/zip</td>\n",
       "      <td>created</td>\n",
       "      <td>519686daaeadbcc983a16924ccb7754d</td>\n",
       "      <td>md5</td>\n",
       "      <td>Individual UCE locus alignments included in th...</td>\n",
       "      <td>2.0</td>\n",
       "    </tr>\n",
       "    <tr>\n",
       "      <th>3</th>\n",
       "      <td>{'self': {'href': '/api/v2/datasets/doi%3A10.5...</td>\n",
       "      <td>doi:10.5061/dryad.nj2mg77</td>\n",
       "      <td>28194</td>\n",
       "      <td>1769456</td>\n",
       "      <td>1055-7903</td>\n",
       "      <td>Data from: A demonstration of unsupervised mac...</td>\n",
       "      <td>[{'firstName': 'Shahan', 'lastName': 'Derkarab...</td>\n",
       "      <td>One major challenge to delimiting species with...</td>\n",
       "      <td>[{'organization': 'National Science Foundation...</td>\n",
       "      <td>[Paranonychidae, integrative taxonomy, Neogene...</td>\n",
       "      <td>&lt;div class=\"o-metadata__file-usage-entry\"&gt;&lt;h4 ...</td>\n",
       "      <td>[{'place': 'western North America'}]</td>\n",
       "      <td>[{'relationship': 'primary_article', 'identifi...</td>\n",
       "      <td>1</td>\n",
       "      <td>submitted</td>\n",
       "      <td>Published</td>\n",
       "      <td>none</td>\n",
       "      <td>2019-07-26</td>\n",
       "      <td>2019-09-23</td>\n",
       "      <td>public</td>\n",
       "      <td>https://datadryad.org/stash/share/U7pTmtqObvWK...</td>\n",
       "      <td>7103</td>\n",
       "      <td>https://creativecommons.org/publicdomain/zero/...</td>\n",
       "      <td>None</td>\n",
       "      <td>None</td>\n",
       "      <td>1</td>\n",
       "      <td>29027</td>\n",
       "      <td>1</td>\n",
       "      <td>39</td>\n",
       "      <td>165</td>\n",
       "      <td>{'self': {'href': '/api/v2/files/109253'}, 'st...</td>\n",
       "      <td>Phylogenies.zip</td>\n",
       "      <td>https://dryad-assetstore-east.s3.amazonaws.com...</td>\n",
       "      <td>11041.0</td>\n",
       "      <td>application/zip</td>\n",
       "      <td>created</td>\n",
       "      <td>bf92e9e120644642d96341c9fcea9e3a</td>\n",
       "      <td>md5</td>\n",
       "      <td>Resulting tree files for the COI and UCE 70% t...</td>\n",
       "      <td>2.0</td>\n",
       "    </tr>\n",
       "    <tr>\n",
       "      <th>4</th>\n",
       "      <td>{'self': {'href': '/api/v2/datasets/doi%3A10.5...</td>\n",
       "      <td>doi:10.5061/dryad.q6ft5</td>\n",
       "      <td>17689</td>\n",
       "      <td>31656</td>\n",
       "      <td>1932-6203</td>\n",
       "      <td>Data from: Development of machine learning mod...</td>\n",
       "      <td>[{'firstName': 'Seongjae', 'lastName': 'Kim', ...</td>\n",
       "      <td>The study aimed to develop machine learning mo...</td>\n",
       "      <td>None</td>\n",
       "      <td>[cornea thickness, RNFL, glaucoma, ocular pres...</td>\n",
       "      <td>&lt;div class=\"o-metadata__file-usage-entry\"&gt;&lt;h4 ...</td>\n",
       "      <td>None</td>\n",
       "      <td>[{'relationship': 'primary_article', 'identifi...</td>\n",
       "      <td>1</td>\n",
       "      <td>submitted</td>\n",
       "      <td>Published</td>\n",
       "      <td>none</td>\n",
       "      <td>2018-05-05</td>\n",
       "      <td>2020-06-24</td>\n",
       "      <td>public</td>\n",
       "      <td>https://datadryad.org/stash/share/tUEvRKvbHxD3...</td>\n",
       "      <td>25912</td>\n",
       "      <td>https://creativecommons.org/publicdomain/zero/...</td>\n",
       "      <td>None</td>\n",
       "      <td>None</td>\n",
       "      <td>1</td>\n",
       "      <td>17751</td>\n",
       "      <td>1</td>\n",
       "      <td>260</td>\n",
       "      <td>550</td>\n",
       "      <td>{'self': {'href': '/api/v2/files/59494'}, 'sta...</td>\n",
       "      <td>dataset.zip</td>\n",
       "      <td>https://dryad-assetstore-east.s3.amazonaws.com...</td>\n",
       "      <td>12461.0</td>\n",
       "      <td>application/zip</td>\n",
       "      <td>created</td>\n",
       "      <td>290eb9445e14c4dd1198acdc8636543c</td>\n",
       "      <td>md5</td>\n",
       "      <td>This file includes examination records of reti...</td>\n",
       "      <td>2.0</td>\n",
       "    </tr>\n",
       "    <tr>\n",
       "      <th>...</th>\n",
       "      <td>...</td>\n",
       "      <td>...</td>\n",
       "      <td>...</td>\n",
       "      <td>...</td>\n",
       "      <td>...</td>\n",
       "      <td>...</td>\n",
       "      <td>...</td>\n",
       "      <td>...</td>\n",
       "      <td>...</td>\n",
       "      <td>...</td>\n",
       "      <td>...</td>\n",
       "      <td>...</td>\n",
       "      <td>...</td>\n",
       "      <td>...</td>\n",
       "      <td>...</td>\n",
       "      <td>...</td>\n",
       "      <td>...</td>\n",
       "      <td>...</td>\n",
       "      <td>...</td>\n",
       "      <td>...</td>\n",
       "      <td>...</td>\n",
       "      <td>...</td>\n",
       "      <td>...</td>\n",
       "      <td>...</td>\n",
       "      <td>...</td>\n",
       "      <td>...</td>\n",
       "      <td>...</td>\n",
       "      <td>...</td>\n",
       "      <td>...</td>\n",
       "      <td>...</td>\n",
       "      <td>...</td>\n",
       "      <td>...</td>\n",
       "      <td>...</td>\n",
       "      <td>...</td>\n",
       "      <td>...</td>\n",
       "      <td>...</td>\n",
       "      <td>...</td>\n",
       "      <td>...</td>\n",
       "      <td>...</td>\n",
       "      <td>...</td>\n",
       "    </tr>\n",
       "    <tr>\n",
       "      <th>2971</th>\n",
       "      <td>{'self': {'href': '/api/v2/datasets/doi%3A10.5...</td>\n",
       "      <td>doi:10.5061/dryad.6m905qfzp</td>\n",
       "      <td>61800</td>\n",
       "      <td>1455995</td>\n",
       "      <td>1365-2699</td>\n",
       "      <td>Environmental correlates of taxonomic and phyl...</td>\n",
       "      <td>[{'firstName': 'Andrea', 'lastName': 'Paz', 'e...</td>\n",
       "      <td>&lt;p&gt;&lt;b&gt;Aim:&lt;/b&gt; There is little consensus on wh...</td>\n",
       "      <td>[{'organization': 'Fulbright Colombia', 'ident...</td>\n",
       "      <td>[Biodiversity correlates, climate stability, P...</td>\n",
       "      <td>None</td>\n",
       "      <td>None</td>\n",
       "      <td>[{'relationship': 'primary_article', 'identifi...</td>\n",
       "      <td>6</td>\n",
       "      <td>submitted</td>\n",
       "      <td>Published</td>\n",
       "      <td>metadata_changed</td>\n",
       "      <td>2021-04-30</td>\n",
       "      <td>2021-04-30</td>\n",
       "      <td>public</td>\n",
       "      <td>https://datadryad.org/stash/share/vk4qgKxkhi0i...</td>\n",
       "      <td>66451</td>\n",
       "      <td>https://creativecommons.org/publicdomain/zero/...</td>\n",
       "      <td>None</td>\n",
       "      <td>None</td>\n",
       "      <td>3</td>\n",
       "      <td>117654</td>\n",
       "      <td>0</td>\n",
       "      <td>10</td>\n",
       "      <td>34</td>\n",
       "      <td>{'self': {'href': '/api/v2/files/679090'}, 'st...</td>\n",
       "      <td>Readme.txt</td>\n",
       "      <td>None</td>\n",
       "      <td>2060.0</td>\n",
       "      <td>text/plain</td>\n",
       "      <td>copied</td>\n",
       "      <td>None</td>\n",
       "      <td>None</td>\n",
       "      <td>None</td>\n",
       "      <td>2.0</td>\n",
       "    </tr>\n",
       "    <tr>\n",
       "      <th>2972</th>\n",
       "      <td>{'self': {'href': '/api/v2/datasets/doi%3A10.5...</td>\n",
       "      <td>doi:10.5061/dryad.078bn</td>\n",
       "      <td>12676</td>\n",
       "      <td>89062</td>\n",
       "      <td>1932-6203</td>\n",
       "      <td>Data from: Morbidity rate prediction of dengue...</td>\n",
       "      <td>[{'firstName': 'Kraisak', 'lastName': 'Kesorn'...</td>\n",
       "      <td>Background: In the past few decades, several r...</td>\n",
       "      <td>None</td>\n",
       "      <td>None</td>\n",
       "      <td>&lt;div class=\"o-metadata__file-usage-entry\"&gt;&lt;h4 ...</td>\n",
       "      <td>None</td>\n",
       "      <td>[{'relationship': 'primary_article', 'identifi...</td>\n",
       "      <td>1</td>\n",
       "      <td>submitted</td>\n",
       "      <td>Published</td>\n",
       "      <td>none</td>\n",
       "      <td>2016-05-01</td>\n",
       "      <td>2020-06-24</td>\n",
       "      <td>public</td>\n",
       "      <td>https://datadryad.org/stash/share/uN2piD5h00eA...</td>\n",
       "      <td>10611</td>\n",
       "      <td>https://creativecommons.org/publicdomain/zero/...</td>\n",
       "      <td>None</td>\n",
       "      <td>None</td>\n",
       "      <td>3</td>\n",
       "      <td>12722</td>\n",
       "      <td>1</td>\n",
       "      <td>85</td>\n",
       "      <td>243</td>\n",
       "      <td>{'self': {'href': '/api/v2/files/49658'}, 'sta...</td>\n",
       "      <td>PONE-D-14-48810.txt</td>\n",
       "      <td>https://dryad-assetstore-east.s3.amazonaws.com...</td>\n",
       "      <td>64813.0</td>\n",
       "      <td>text/plain</td>\n",
       "      <td>created</td>\n",
       "      <td>fb6b3fff00fdb11592b4cec6e21af469</td>\n",
       "      <td>md5</td>\n",
       "      <td>Raw data for PLOS ONE journal entitle: Morbidi...</td>\n",
       "      <td>2.0</td>\n",
       "    </tr>\n",
       "    <tr>\n",
       "      <th>2973</th>\n",
       "      <td>{'self': {'href': '/api/v2/datasets/doi%3A10.5...</td>\n",
       "      <td>doi:10.5061/dryad.fj6q573qd</td>\n",
       "      <td>37657</td>\n",
       "      <td>2432316</td>\n",
       "      <td>1063-5157</td>\n",
       "      <td>Repositories for taxonomic data: Where we are ...</td>\n",
       "      <td>[{'firstName': 'Aurélien', 'lastName': 'Mirall...</td>\n",
       "      <td>&lt;p&gt;Natural history collections are leading suc...</td>\n",
       "      <td>None</td>\n",
       "      <td>[Big Data, cyberspecimen, omics, repositories,...</td>\n",
       "      <td>None</td>\n",
       "      <td>None</td>\n",
       "      <td>None</td>\n",
       "      <td>4</td>\n",
       "      <td>submitted</td>\n",
       "      <td>Published</td>\n",
       "      <td>metadata_changed</td>\n",
       "      <td>2021-06-24</td>\n",
       "      <td>2021-06-24</td>\n",
       "      <td>public</td>\n",
       "      <td>https://datadryad.org/stash/share/_Fcz-E8P3XeD...</td>\n",
       "      <td>49122</td>\n",
       "      <td>https://creativecommons.org/publicdomain/zero/...</td>\n",
       "      <td>None</td>\n",
       "      <td>None</td>\n",
       "      <td>3</td>\n",
       "      <td>126492</td>\n",
       "      <td>0</td>\n",
       "      <td>7</td>\n",
       "      <td>23</td>\n",
       "      <td>{'self': {'href': '/api/v2/files/772045'}, 'st...</td>\n",
       "      <td>Template_taxonomy_data_(from_Appendix_S10_and_...</td>\n",
       "      <td>None</td>\n",
       "      <td>65255.0</td>\n",
       "      <td>application/vnd.openxmlformats-officedocument....</td>\n",
       "      <td>copied</td>\n",
       "      <td>None</td>\n",
       "      <td>None</td>\n",
       "      <td>None</td>\n",
       "      <td>2.0</td>\n",
       "    </tr>\n",
       "    <tr>\n",
       "      <th>2974</th>\n",
       "      <td>{'self': {'href': '/api/v2/datasets/doi%3A10.5...</td>\n",
       "      <td>doi:10.5061/dryad.fj6q573qd</td>\n",
       "      <td>37657</td>\n",
       "      <td>2432316</td>\n",
       "      <td>1063-5157</td>\n",
       "      <td>Repositories for taxonomic data: Where we are ...</td>\n",
       "      <td>[{'firstName': 'Aurélien', 'lastName': 'Mirall...</td>\n",
       "      <td>&lt;p&gt;Natural history collections are leading suc...</td>\n",
       "      <td>None</td>\n",
       "      <td>[Big Data, cyberspecimen, omics, repositories,...</td>\n",
       "      <td>None</td>\n",
       "      <td>None</td>\n",
       "      <td>None</td>\n",
       "      <td>4</td>\n",
       "      <td>submitted</td>\n",
       "      <td>Published</td>\n",
       "      <td>metadata_changed</td>\n",
       "      <td>2021-06-24</td>\n",
       "      <td>2021-06-24</td>\n",
       "      <td>public</td>\n",
       "      <td>https://datadryad.org/stash/share/_Fcz-E8P3XeD...</td>\n",
       "      <td>49122</td>\n",
       "      <td>https://creativecommons.org/publicdomain/zero/...</td>\n",
       "      <td>None</td>\n",
       "      <td>None</td>\n",
       "      <td>3</td>\n",
       "      <td>126492</td>\n",
       "      <td>0</td>\n",
       "      <td>7</td>\n",
       "      <td>23</td>\n",
       "      <td>{'self': {'href': '/api/v2/files/772046'}, 'st...</td>\n",
       "      <td>Dataset_Journal_survey_all.xlsx</td>\n",
       "      <td>None</td>\n",
       "      <td>795941.0</td>\n",
       "      <td>application/vnd.openxmlformats-officedocument....</td>\n",
       "      <td>copied</td>\n",
       "      <td>None</td>\n",
       "      <td>None</td>\n",
       "      <td>None</td>\n",
       "      <td>2.0</td>\n",
       "    </tr>\n",
       "    <tr>\n",
       "      <th>2975</th>\n",
       "      <td>{'self': {'href': '/api/v2/datasets/doi%3A10.5...</td>\n",
       "      <td>doi:10.5061/dryad.fj6q573qd</td>\n",
       "      <td>37657</td>\n",
       "      <td>2432316</td>\n",
       "      <td>1063-5157</td>\n",
       "      <td>Repositories for taxonomic data: Where we are ...</td>\n",
       "      <td>[{'firstName': 'Aurélien', 'lastName': 'Mirall...</td>\n",
       "      <td>&lt;p&gt;Natural history collections are leading suc...</td>\n",
       "      <td>None</td>\n",
       "      <td>[Big Data, cyberspecimen, omics, repositories,...</td>\n",
       "      <td>None</td>\n",
       "      <td>None</td>\n",
       "      <td>None</td>\n",
       "      <td>4</td>\n",
       "      <td>submitted</td>\n",
       "      <td>Published</td>\n",
       "      <td>metadata_changed</td>\n",
       "      <td>2021-06-24</td>\n",
       "      <td>2021-06-24</td>\n",
       "      <td>public</td>\n",
       "      <td>https://datadryad.org/stash/share/_Fcz-E8P3XeD...</td>\n",
       "      <td>49122</td>\n",
       "      <td>https://creativecommons.org/publicdomain/zero/...</td>\n",
       "      <td>None</td>\n",
       "      <td>None</td>\n",
       "      <td>3</td>\n",
       "      <td>126492</td>\n",
       "      <td>0</td>\n",
       "      <td>7</td>\n",
       "      <td>23</td>\n",
       "      <td>{'self': {'href': '/api/v2/files/772047'}, 'st...</td>\n",
       "      <td>Supplementary_Materials.pdf</td>\n",
       "      <td>None</td>\n",
       "      <td>956532.0</td>\n",
       "      <td>application/pdf</td>\n",
       "      <td>copied</td>\n",
       "      <td>None</td>\n",
       "      <td>None</td>\n",
       "      <td>None</td>\n",
       "      <td>2.0</td>\n",
       "    </tr>\n",
       "  </tbody>\n",
       "</table>\n",
       "<p>2976 rows × 40 columns</p>\n",
       "</div>"
      ],
      "text/plain": [
       "                                          _links_search  \\\n",
       "0     {'self': {'href': '/api/v2/datasets/doi%3A10.5...   \n",
       "1     {'self': {'href': '/api/v2/datasets/doi%3A10.5...   \n",
       "2     {'self': {'href': '/api/v2/datasets/doi%3A10.5...   \n",
       "3     {'self': {'href': '/api/v2/datasets/doi%3A10.5...   \n",
       "4     {'self': {'href': '/api/v2/datasets/doi%3A10.5...   \n",
       "...                                                 ...   \n",
       "2971  {'self': {'href': '/api/v2/datasets/doi%3A10.5...   \n",
       "2972  {'self': {'href': '/api/v2/datasets/doi%3A10.5...   \n",
       "2973  {'self': {'href': '/api/v2/datasets/doi%3A10.5...   \n",
       "2974  {'self': {'href': '/api/v2/datasets/doi%3A10.5...   \n",
       "2975  {'self': {'href': '/api/v2/datasets/doi%3A10.5...   \n",
       "\n",
       "                       identifier     id  storageSize relatedPublicationISSN  \\\n",
       "0       doi:10.5061/dryad.nj2mg77  28194      1769456              1055-7903   \n",
       "1       doi:10.5061/dryad.nj2mg77  28194      1769456              1055-7903   \n",
       "2       doi:10.5061/dryad.nj2mg77  28194      1769456              1055-7903   \n",
       "3       doi:10.5061/dryad.nj2mg77  28194      1769456              1055-7903   \n",
       "4         doi:10.5061/dryad.q6ft5  17689        31656              1932-6203   \n",
       "...                           ...    ...          ...                    ...   \n",
       "2971  doi:10.5061/dryad.6m905qfzp  61800      1455995              1365-2699   \n",
       "2972      doi:10.5061/dryad.078bn  12676        89062              1932-6203   \n",
       "2973  doi:10.5061/dryad.fj6q573qd  37657      2432316              1063-5157   \n",
       "2974  doi:10.5061/dryad.fj6q573qd  37657      2432316              1063-5157   \n",
       "2975  doi:10.5061/dryad.fj6q573qd  37657      2432316              1063-5157   \n",
       "\n",
       "                                                  title  \\\n",
       "0     Data from: A demonstration of unsupervised mac...   \n",
       "1     Data from: A demonstration of unsupervised mac...   \n",
       "2     Data from: A demonstration of unsupervised mac...   \n",
       "3     Data from: A demonstration of unsupervised mac...   \n",
       "4     Data from: Development of machine learning mod...   \n",
       "...                                                 ...   \n",
       "2971  Environmental correlates of taxonomic and phyl...   \n",
       "2972  Data from: Morbidity rate prediction of dengue...   \n",
       "2973  Repositories for taxonomic data: Where we are ...   \n",
       "2974  Repositories for taxonomic data: Where we are ...   \n",
       "2975  Repositories for taxonomic data: Where we are ...   \n",
       "\n",
       "                                                authors  \\\n",
       "0     [{'firstName': 'Shahan', 'lastName': 'Derkarab...   \n",
       "1     [{'firstName': 'Shahan', 'lastName': 'Derkarab...   \n",
       "2     [{'firstName': 'Shahan', 'lastName': 'Derkarab...   \n",
       "3     [{'firstName': 'Shahan', 'lastName': 'Derkarab...   \n",
       "4     [{'firstName': 'Seongjae', 'lastName': 'Kim', ...   \n",
       "...                                                 ...   \n",
       "2971  [{'firstName': 'Andrea', 'lastName': 'Paz', 'e...   \n",
       "2972  [{'firstName': 'Kraisak', 'lastName': 'Kesorn'...   \n",
       "2973  [{'firstName': 'Aurélien', 'lastName': 'Mirall...   \n",
       "2974  [{'firstName': 'Aurélien', 'lastName': 'Mirall...   \n",
       "2975  [{'firstName': 'Aurélien', 'lastName': 'Mirall...   \n",
       "\n",
       "                                               abstract  \\\n",
       "0     One major challenge to delimiting species with...   \n",
       "1     One major challenge to delimiting species with...   \n",
       "2     One major challenge to delimiting species with...   \n",
       "3     One major challenge to delimiting species with...   \n",
       "4     The study aimed to develop machine learning mo...   \n",
       "...                                                 ...   \n",
       "2971  <p><b>Aim:</b> There is little consensus on wh...   \n",
       "2972  Background: In the past few decades, several r...   \n",
       "2973  <p>Natural history collections are leading suc...   \n",
       "2974  <p>Natural history collections are leading suc...   \n",
       "2975  <p>Natural history collections are leading suc...   \n",
       "\n",
       "                                                funders  \\\n",
       "0     [{'organization': 'National Science Foundation...   \n",
       "1     [{'organization': 'National Science Foundation...   \n",
       "2     [{'organization': 'National Science Foundation...   \n",
       "3     [{'organization': 'National Science Foundation...   \n",
       "4                                                  None   \n",
       "...                                                 ...   \n",
       "2971  [{'organization': 'Fulbright Colombia', 'ident...   \n",
       "2972                                               None   \n",
       "2973                                               None   \n",
       "2974                                               None   \n",
       "2975                                               None   \n",
       "\n",
       "                                               keywords  \\\n",
       "0     [Paranonychidae, integrative taxonomy, Neogene...   \n",
       "1     [Paranonychidae, integrative taxonomy, Neogene...   \n",
       "2     [Paranonychidae, integrative taxonomy, Neogene...   \n",
       "3     [Paranonychidae, integrative taxonomy, Neogene...   \n",
       "4     [cornea thickness, RNFL, glaucoma, ocular pres...   \n",
       "...                                                 ...   \n",
       "2971  [Biodiversity correlates, climate stability, P...   \n",
       "2972                                               None   \n",
       "2973  [Big Data, cyberspecimen, omics, repositories,...   \n",
       "2974  [Big Data, cyberspecimen, omics, repositories,...   \n",
       "2975  [Big Data, cyberspecimen, omics, repositories,...   \n",
       "\n",
       "                                             usageNotes  \\\n",
       "0     <div class=\"o-metadata__file-usage-entry\"><h4 ...   \n",
       "1     <div class=\"o-metadata__file-usage-entry\"><h4 ...   \n",
       "2     <div class=\"o-metadata__file-usage-entry\"><h4 ...   \n",
       "3     <div class=\"o-metadata__file-usage-entry\"><h4 ...   \n",
       "4     <div class=\"o-metadata__file-usage-entry\"><h4 ...   \n",
       "...                                                 ...   \n",
       "2971                                               None   \n",
       "2972  <div class=\"o-metadata__file-usage-entry\"><h4 ...   \n",
       "2973                                               None   \n",
       "2974                                               None   \n",
       "2975                                               None   \n",
       "\n",
       "                                 locations  \\\n",
       "0     [{'place': 'western North America'}]   \n",
       "1     [{'place': 'western North America'}]   \n",
       "2     [{'place': 'western North America'}]   \n",
       "3     [{'place': 'western North America'}]   \n",
       "4                                     None   \n",
       "...                                    ...   \n",
       "2971                                  None   \n",
       "2972                                  None   \n",
       "2973                                  None   \n",
       "2974                                  None   \n",
       "2975                                  None   \n",
       "\n",
       "                                           relatedWorks  versionNumber  \\\n",
       "0     [{'relationship': 'primary_article', 'identifi...              1   \n",
       "1     [{'relationship': 'primary_article', 'identifi...              1   \n",
       "2     [{'relationship': 'primary_article', 'identifi...              1   \n",
       "3     [{'relationship': 'primary_article', 'identifi...              1   \n",
       "4     [{'relationship': 'primary_article', 'identifi...              1   \n",
       "...                                                 ...            ...   \n",
       "2971  [{'relationship': 'primary_article', 'identifi...              6   \n",
       "2972  [{'relationship': 'primary_article', 'identifi...              1   \n",
       "2973                                               None              4   \n",
       "2974                                               None              4   \n",
       "2975                                               None              4   \n",
       "\n",
       "     versionStatus curationStatus    versionChanges publicationDate  \\\n",
       "0        submitted      Published              none      2019-07-26   \n",
       "1        submitted      Published              none      2019-07-26   \n",
       "2        submitted      Published              none      2019-07-26   \n",
       "3        submitted      Published              none      2019-07-26   \n",
       "4        submitted      Published              none      2018-05-05   \n",
       "...            ...            ...               ...             ...   \n",
       "2971     submitted      Published  metadata_changed      2021-04-30   \n",
       "2972     submitted      Published              none      2016-05-01   \n",
       "2973     submitted      Published  metadata_changed      2021-06-24   \n",
       "2974     submitted      Published  metadata_changed      2021-06-24   \n",
       "2975     submitted      Published  metadata_changed      2021-06-24   \n",
       "\n",
       "     lastModificationDate visibility  \\\n",
       "0              2019-09-23     public   \n",
       "1              2019-09-23     public   \n",
       "2              2019-09-23     public   \n",
       "3              2019-09-23     public   \n",
       "4              2020-06-24     public   \n",
       "...                   ...        ...   \n",
       "2971           2021-04-30     public   \n",
       "2972           2020-06-24     public   \n",
       "2973           2021-06-24     public   \n",
       "2974           2021-06-24     public   \n",
       "2975           2021-06-24     public   \n",
       "\n",
       "                                            sharingLink  userId  \\\n",
       "0     https://datadryad.org/stash/share/U7pTmtqObvWK...    7103   \n",
       "1     https://datadryad.org/stash/share/U7pTmtqObvWK...    7103   \n",
       "2     https://datadryad.org/stash/share/U7pTmtqObvWK...    7103   \n",
       "3     https://datadryad.org/stash/share/U7pTmtqObvWK...    7103   \n",
       "4     https://datadryad.org/stash/share/tUEvRKvbHxD3...   25912   \n",
       "...                                                 ...     ...   \n",
       "2971  https://datadryad.org/stash/share/vk4qgKxkhi0i...   66451   \n",
       "2972  https://datadryad.org/stash/share/uN2piD5h00eA...   10611   \n",
       "2973  https://datadryad.org/stash/share/_Fcz-E8P3XeD...   49122   \n",
       "2974  https://datadryad.org/stash/share/_Fcz-E8P3XeD...   49122   \n",
       "2975  https://datadryad.org/stash/share/_Fcz-E8P3XeD...   49122   \n",
       "\n",
       "                                                license fieldOfScience  \\\n",
       "0     https://creativecommons.org/publicdomain/zero/...           None   \n",
       "1     https://creativecommons.org/publicdomain/zero/...           None   \n",
       "2     https://creativecommons.org/publicdomain/zero/...           None   \n",
       "3     https://creativecommons.org/publicdomain/zero/...           None   \n",
       "4     https://creativecommons.org/publicdomain/zero/...           None   \n",
       "...                                                 ...            ...   \n",
       "2971  https://creativecommons.org/publicdomain/zero/...           None   \n",
       "2972  https://creativecommons.org/publicdomain/zero/...           None   \n",
       "2973  https://creativecommons.org/publicdomain/zero/...           None   \n",
       "2974  https://creativecommons.org/publicdomain/zero/...           None   \n",
       "2975  https://creativecommons.org/publicdomain/zero/...           None   \n",
       "\n",
       "     methods  page_search  version  numCitations  numDownloads  numViews  \\\n",
       "0       None            1    29027             1            39       165   \n",
       "1       None            1    29027             1            39       165   \n",
       "2       None            1    29027             1            39       165   \n",
       "3       None            1    29027             1            39       165   \n",
       "4       None            1    17751             1           260       550   \n",
       "...      ...          ...      ...           ...           ...       ...   \n",
       "2971    None            3   117654             0            10        34   \n",
       "2972    None            3    12722             1            85       243   \n",
       "2973    None            3   126492             0             7        23   \n",
       "2974    None            3   126492             0             7        23   \n",
       "2975    None            3   126492             0             7        23   \n",
       "\n",
       "                                        _links_metadata  \\\n",
       "0     {'self': {'href': '/api/v2/files/109249'}, 'st...   \n",
       "1     {'self': {'href': '/api/v2/files/109250'}, 'st...   \n",
       "2     {'self': {'href': '/api/v2/files/109252'}, 'st...   \n",
       "3     {'self': {'href': '/api/v2/files/109253'}, 'st...   \n",
       "4     {'self': {'href': '/api/v2/files/59494'}, 'sta...   \n",
       "...                                                 ...   \n",
       "2971  {'self': {'href': '/api/v2/files/679090'}, 'st...   \n",
       "2972  {'self': {'href': '/api/v2/files/49658'}, 'sta...   \n",
       "2973  {'self': {'href': '/api/v2/files/772045'}, 'st...   \n",
       "2974  {'self': {'href': '/api/v2/files/772046'}, 'st...   \n",
       "2975  {'self': {'href': '/api/v2/files/772047'}, 'st...   \n",
       "\n",
       "                                                   path  \\\n",
       "0                       Metanonychus_Input_Matrices.zip   \n",
       "1              Metanonychus_UCEalignments_50percent.zip   \n",
       "2              Metanonychus_UCEalignments_70percent.zip   \n",
       "3                                       Phylogenies.zip   \n",
       "4                                           dataset.zip   \n",
       "...                                                 ...   \n",
       "2971                                         Readme.txt   \n",
       "2972                                PONE-D-14-48810.txt   \n",
       "2973  Template_taxonomy_data_(from_Appendix_S10_and_...   \n",
       "2974                    Dataset_Journal_survey_all.xlsx   \n",
       "2975                        Supplementary_Materials.pdf   \n",
       "\n",
       "                                                    url      size  \\\n",
       "0     https://dryad-assetstore-east.s3.amazonaws.com...  802735.0   \n",
       "1     https://dryad-assetstore-east.s3.amazonaws.com...  540588.0   \n",
       "2     https://dryad-assetstore-east.s3.amazonaws.com...  390902.0   \n",
       "3     https://dryad-assetstore-east.s3.amazonaws.com...   11041.0   \n",
       "4     https://dryad-assetstore-east.s3.amazonaws.com...   12461.0   \n",
       "...                                                 ...       ...   \n",
       "2971                                               None    2060.0   \n",
       "2972  https://dryad-assetstore-east.s3.amazonaws.com...   64813.0   \n",
       "2973                                               None   65255.0   \n",
       "2974                                               None  795941.0   \n",
       "2975                                               None  956532.0   \n",
       "\n",
       "                                               mimeType   status  \\\n",
       "0                                       application/zip  created   \n",
       "1                                       application/zip  created   \n",
       "2                                       application/zip  created   \n",
       "3                                       application/zip  created   \n",
       "4                                       application/zip  created   \n",
       "...                                                 ...      ...   \n",
       "2971                                         text/plain   copied   \n",
       "2972                                         text/plain  created   \n",
       "2973  application/vnd.openxmlformats-officedocument....   copied   \n",
       "2974  application/vnd.openxmlformats-officedocument....   copied   \n",
       "2975                                    application/pdf   copied   \n",
       "\n",
       "                                digest digestType  \\\n",
       "0     63d7a0bc8ff595700ce8b2f974f6fa34        md5   \n",
       "1     bf7931bf1a534ce065a8a81b9305f1be        md5   \n",
       "2     519686daaeadbcc983a16924ccb7754d        md5   \n",
       "3     bf92e9e120644642d96341c9fcea9e3a        md5   \n",
       "4     290eb9445e14c4dd1198acdc8636543c        md5   \n",
       "...                                ...        ...   \n",
       "2971                              None       None   \n",
       "2972  fb6b3fff00fdb11592b4cec6e21af469        md5   \n",
       "2973                              None       None   \n",
       "2974                              None       None   \n",
       "2975                              None       None   \n",
       "\n",
       "                                            description  page_metadata  \n",
       "0     Data Input matrices used for all analyses cond...            2.0  \n",
       "1     Individual UCE locus alignments included in th...            2.0  \n",
       "2     Individual UCE locus alignments included in th...            2.0  \n",
       "3     Resulting tree files for the COI and UCE 70% t...            2.0  \n",
       "4     This file includes examination records of reti...            2.0  \n",
       "...                                                 ...            ...  \n",
       "2971                                               None            2.0  \n",
       "2972  Raw data for PLOS ONE journal entitle: Morbidi...            2.0  \n",
       "2973                                               None            2.0  \n",
       "2974                                               None            2.0  \n",
       "2975                                               None            2.0  \n",
       "\n",
       "[2976 rows x 40 columns]"
      ]
     },
     "execution_count": 6,
     "metadata": {},
     "output_type": "execute_result"
    }
   ],
   "source": [
    "df"
   ]
  },
  {
   "cell_type": "code",
   "execution_count": 7,
   "id": "c03a96fb",
   "metadata": {
    "scrolled": true
   },
   "outputs": [
    {
     "data": {
      "text/plain": [
       "['_links_search',\n",
       " 'identifier',\n",
       " 'id',\n",
       " 'storageSize',\n",
       " 'relatedPublicationISSN',\n",
       " 'title',\n",
       " 'authors',\n",
       " 'abstract',\n",
       " 'funders',\n",
       " 'keywords',\n",
       " 'usageNotes',\n",
       " 'locations',\n",
       " 'relatedWorks',\n",
       " 'versionNumber',\n",
       " 'versionStatus',\n",
       " 'curationStatus',\n",
       " 'versionChanges',\n",
       " 'publicationDate',\n",
       " 'lastModificationDate',\n",
       " 'visibility',\n",
       " 'sharingLink',\n",
       " 'userId',\n",
       " 'license',\n",
       " 'fieldOfScience',\n",
       " 'methods',\n",
       " 'page_search',\n",
       " 'version',\n",
       " 'numCitations',\n",
       " 'numDownloads',\n",
       " 'numViews',\n",
       " '_links_metadata',\n",
       " 'path',\n",
       " 'url',\n",
       " 'size',\n",
       " 'mimeType',\n",
       " 'status',\n",
       " 'digest',\n",
       " 'digestType',\n",
       " 'description',\n",
       " 'page_metadata']"
      ]
     },
     "execution_count": 7,
     "metadata": {},
     "output_type": "execute_result"
    }
   ],
   "source": [
    "list(df.columns)"
   ]
  },
  {
   "cell_type": "markdown",
   "id": "36822a94",
   "metadata": {
    "pycharm": {
     "name": "#%% md\n"
    }
   },
   "source": [
    "## 1. How many total objects (not just records) are in our main dataset extracts for each repository?\n",
    "**Property:** unique_identifier"
   ]
  },
  {
   "cell_type": "code",
   "execution_count": 8,
   "id": "2baec208",
   "metadata": {
    "pycharm": {
     "name": "#%%\n"
    }
   },
   "outputs": [],
   "source": [
    "ids = df.DryadRecordsCrosswalk.unique_identifier"
   ]
  },
  {
   "cell_type": "code",
   "execution_count": 9,
   "id": "61f7c78a",
   "metadata": {},
   "outputs": [
    {
     "data": {
      "text/plain": [
       "0       28194\n",
       "1       28194\n",
       "2       28194\n",
       "3       28194\n",
       "4       17689\n",
       "        ...  \n",
       "2971    61800\n",
       "2972    12676\n",
       "2973    37657\n",
       "2974    37657\n",
       "2975    37657\n",
       "Name: id, Length: 2976, dtype: int64"
      ]
     },
     "execution_count": 9,
     "metadata": {},
     "output_type": "execute_result"
    }
   ],
   "source": [
    "ids"
   ]
  },
  {
   "cell_type": "code",
   "execution_count": 10,
   "id": "43546af6",
   "metadata": {
    "pycharm": {
     "name": "#%%\n"
    }
   },
   "outputs": [
    {
     "data": {
      "text/plain": [
       "219"
      ]
     },
     "execution_count": 10,
     "metadata": {},
     "output_type": "execute_result"
    }
   ],
   "source": [
    "ids.nunique()"
   ]
  },
  {
   "cell_type": "code",
   "execution_count": 11,
   "id": "e244e6c8",
   "metadata": {},
   "outputs": [
    {
     "name": "stdout",
     "output_type": "stream",
     "text": [
      "There are 2976 items in the Dryad extract, with 219 unique IDs.\n"
     ]
    }
   ],
   "source": [
    "print(f'There are {len(ids)} items in the Dryad extract, with {ids.nunique()} unique IDs.')"
   ]
  },
  {
   "cell_type": "code",
   "execution_count": 12,
   "id": "1f6b5044",
   "metadata": {
    "scrolled": true
   },
   "outputs": [
    {
     "data": {
      "text/plain": [
       "1      70\n",
       "2      53\n",
       "4      22\n",
       "3      20\n",
       "6       8\n",
       "7       7\n",
       "5       6\n",
       "11      6\n",
       "8       3\n",
       "9       3\n",
       "15      2\n",
       "345     1\n",
       "12      1\n",
       "13      1\n",
       "14      1\n",
       "617     1\n",
       "21      1\n",
       "29      1\n",
       "31      1\n",
       "32      1\n",
       "35      1\n",
       "46      1\n",
       "47      1\n",
       "74      1\n",
       "156     1\n",
       "159     1\n",
       "218     1\n",
       "242     1\n",
       "268     1\n",
       "19      1\n",
       "Name: id, dtype: int64"
      ]
     },
     "execution_count": 12,
     "metadata": {},
     "output_type": "execute_result"
    }
   ],
   "source": [
    "#we can see that a few objects have a large number of associated components\n",
    "ids.value_counts().value_counts()"
   ]
  },
  {
   "cell_type": "code",
   "execution_count": 13,
   "id": "0e02e577",
   "metadata": {
    "scrolled": true
   },
   "outputs": [
    {
     "data": {
      "text/html": [
       "<div>\n",
       "<style scoped>\n",
       "    .dataframe tbody tr th:only-of-type {\n",
       "        vertical-align: middle;\n",
       "    }\n",
       "\n",
       "    .dataframe tbody tr th {\n",
       "        vertical-align: top;\n",
       "    }\n",
       "\n",
       "    .dataframe thead th {\n",
       "        text-align: right;\n",
       "    }\n",
       "</style>\n",
       "<table border=\"1\" class=\"dataframe\">\n",
       "  <thead>\n",
       "    <tr style=\"text-align: right;\">\n",
       "      <th></th>\n",
       "      <th>_links_search</th>\n",
       "      <th>identifier</th>\n",
       "      <th>id</th>\n",
       "      <th>storageSize</th>\n",
       "      <th>relatedPublicationISSN</th>\n",
       "      <th>title</th>\n",
       "      <th>authors</th>\n",
       "      <th>abstract</th>\n",
       "      <th>funders</th>\n",
       "      <th>keywords</th>\n",
       "      <th>usageNotes</th>\n",
       "      <th>locations</th>\n",
       "      <th>relatedWorks</th>\n",
       "      <th>versionNumber</th>\n",
       "      <th>versionStatus</th>\n",
       "      <th>curationStatus</th>\n",
       "      <th>versionChanges</th>\n",
       "      <th>publicationDate</th>\n",
       "      <th>lastModificationDate</th>\n",
       "      <th>visibility</th>\n",
       "      <th>sharingLink</th>\n",
       "      <th>userId</th>\n",
       "      <th>license</th>\n",
       "      <th>fieldOfScience</th>\n",
       "      <th>methods</th>\n",
       "      <th>page_search</th>\n",
       "      <th>version</th>\n",
       "      <th>numCitations</th>\n",
       "      <th>numDownloads</th>\n",
       "      <th>numViews</th>\n",
       "      <th>_links_metadata</th>\n",
       "      <th>path</th>\n",
       "      <th>url</th>\n",
       "      <th>size</th>\n",
       "      <th>mimeType</th>\n",
       "      <th>status</th>\n",
       "      <th>digest</th>\n",
       "      <th>digestType</th>\n",
       "      <th>description</th>\n",
       "      <th>page_metadata</th>\n",
       "    </tr>\n",
       "  </thead>\n",
       "  <tbody>\n",
       "    <tr>\n",
       "      <th>0</th>\n",
       "      <td>{'self': {'href': '/api/v2/datasets/doi%3A10.5...</td>\n",
       "      <td>doi:10.5061/dryad.nj2mg77</td>\n",
       "      <td>28194</td>\n",
       "      <td>1769456</td>\n",
       "      <td>1055-7903</td>\n",
       "      <td>Data from: A demonstration of unsupervised mac...</td>\n",
       "      <td>[{'firstName': 'Shahan', 'lastName': 'Derkarab...</td>\n",
       "      <td>One major challenge to delimiting species with...</td>\n",
       "      <td>[{'organization': 'National Science Foundation...</td>\n",
       "      <td>[Paranonychidae, integrative taxonomy, Neogene...</td>\n",
       "      <td>&lt;div class=\"o-metadata__file-usage-entry\"&gt;&lt;h4 ...</td>\n",
       "      <td>[{'place': 'western North America'}]</td>\n",
       "      <td>[{'relationship': 'primary_article', 'identifi...</td>\n",
       "      <td>1</td>\n",
       "      <td>submitted</td>\n",
       "      <td>Published</td>\n",
       "      <td>none</td>\n",
       "      <td>2019-07-26</td>\n",
       "      <td>2019-09-23</td>\n",
       "      <td>public</td>\n",
       "      <td>https://datadryad.org/stash/share/U7pTmtqObvWK...</td>\n",
       "      <td>7103</td>\n",
       "      <td>https://creativecommons.org/publicdomain/zero/...</td>\n",
       "      <td>None</td>\n",
       "      <td>None</td>\n",
       "      <td>1</td>\n",
       "      <td>29027</td>\n",
       "      <td>1</td>\n",
       "      <td>39</td>\n",
       "      <td>165</td>\n",
       "      <td>{'self': {'href': '/api/v2/files/109249'}, 'st...</td>\n",
       "      <td>Metanonychus_Input_Matrices.zip</td>\n",
       "      <td>https://dryad-assetstore-east.s3.amazonaws.com...</td>\n",
       "      <td>802735.0</td>\n",
       "      <td>application/zip</td>\n",
       "      <td>created</td>\n",
       "      <td>63d7a0bc8ff595700ce8b2f974f6fa34</td>\n",
       "      <td>md5</td>\n",
       "      <td>Data Input matrices used for all analyses cond...</td>\n",
       "      <td>2.0</td>\n",
       "    </tr>\n",
       "    <tr>\n",
       "      <th>1</th>\n",
       "      <td>{'self': {'href': '/api/v2/datasets/doi%3A10.5...</td>\n",
       "      <td>doi:10.5061/dryad.nj2mg77</td>\n",
       "      <td>28194</td>\n",
       "      <td>1769456</td>\n",
       "      <td>1055-7903</td>\n",
       "      <td>Data from: A demonstration of unsupervised mac...</td>\n",
       "      <td>[{'firstName': 'Shahan', 'lastName': 'Derkarab...</td>\n",
       "      <td>One major challenge to delimiting species with...</td>\n",
       "      <td>[{'organization': 'National Science Foundation...</td>\n",
       "      <td>[Paranonychidae, integrative taxonomy, Neogene...</td>\n",
       "      <td>&lt;div class=\"o-metadata__file-usage-entry\"&gt;&lt;h4 ...</td>\n",
       "      <td>[{'place': 'western North America'}]</td>\n",
       "      <td>[{'relationship': 'primary_article', 'identifi...</td>\n",
       "      <td>1</td>\n",
       "      <td>submitted</td>\n",
       "      <td>Published</td>\n",
       "      <td>none</td>\n",
       "      <td>2019-07-26</td>\n",
       "      <td>2019-09-23</td>\n",
       "      <td>public</td>\n",
       "      <td>https://datadryad.org/stash/share/U7pTmtqObvWK...</td>\n",
       "      <td>7103</td>\n",
       "      <td>https://creativecommons.org/publicdomain/zero/...</td>\n",
       "      <td>None</td>\n",
       "      <td>None</td>\n",
       "      <td>1</td>\n",
       "      <td>29027</td>\n",
       "      <td>1</td>\n",
       "      <td>39</td>\n",
       "      <td>165</td>\n",
       "      <td>{'self': {'href': '/api/v2/files/109250'}, 'st...</td>\n",
       "      <td>Metanonychus_UCEalignments_50percent.zip</td>\n",
       "      <td>https://dryad-assetstore-east.s3.amazonaws.com...</td>\n",
       "      <td>540588.0</td>\n",
       "      <td>application/zip</td>\n",
       "      <td>created</td>\n",
       "      <td>bf7931bf1a534ce065a8a81b9305f1be</td>\n",
       "      <td>md5</td>\n",
       "      <td>Individual UCE locus alignments included in th...</td>\n",
       "      <td>2.0</td>\n",
       "    </tr>\n",
       "    <tr>\n",
       "      <th>2</th>\n",
       "      <td>{'self': {'href': '/api/v2/datasets/doi%3A10.5...</td>\n",
       "      <td>doi:10.5061/dryad.nj2mg77</td>\n",
       "      <td>28194</td>\n",
       "      <td>1769456</td>\n",
       "      <td>1055-7903</td>\n",
       "      <td>Data from: A demonstration of unsupervised mac...</td>\n",
       "      <td>[{'firstName': 'Shahan', 'lastName': 'Derkarab...</td>\n",
       "      <td>One major challenge to delimiting species with...</td>\n",
       "      <td>[{'organization': 'National Science Foundation...</td>\n",
       "      <td>[Paranonychidae, integrative taxonomy, Neogene...</td>\n",
       "      <td>&lt;div class=\"o-metadata__file-usage-entry\"&gt;&lt;h4 ...</td>\n",
       "      <td>[{'place': 'western North America'}]</td>\n",
       "      <td>[{'relationship': 'primary_article', 'identifi...</td>\n",
       "      <td>1</td>\n",
       "      <td>submitted</td>\n",
       "      <td>Published</td>\n",
       "      <td>none</td>\n",
       "      <td>2019-07-26</td>\n",
       "      <td>2019-09-23</td>\n",
       "      <td>public</td>\n",
       "      <td>https://datadryad.org/stash/share/U7pTmtqObvWK...</td>\n",
       "      <td>7103</td>\n",
       "      <td>https://creativecommons.org/publicdomain/zero/...</td>\n",
       "      <td>None</td>\n",
       "      <td>None</td>\n",
       "      <td>1</td>\n",
       "      <td>29027</td>\n",
       "      <td>1</td>\n",
       "      <td>39</td>\n",
       "      <td>165</td>\n",
       "      <td>{'self': {'href': '/api/v2/files/109252'}, 'st...</td>\n",
       "      <td>Metanonychus_UCEalignments_70percent.zip</td>\n",
       "      <td>https://dryad-assetstore-east.s3.amazonaws.com...</td>\n",
       "      <td>390902.0</td>\n",
       "      <td>application/zip</td>\n",
       "      <td>created</td>\n",
       "      <td>519686daaeadbcc983a16924ccb7754d</td>\n",
       "      <td>md5</td>\n",
       "      <td>Individual UCE locus alignments included in th...</td>\n",
       "      <td>2.0</td>\n",
       "    </tr>\n",
       "    <tr>\n",
       "      <th>3</th>\n",
       "      <td>{'self': {'href': '/api/v2/datasets/doi%3A10.5...</td>\n",
       "      <td>doi:10.5061/dryad.nj2mg77</td>\n",
       "      <td>28194</td>\n",
       "      <td>1769456</td>\n",
       "      <td>1055-7903</td>\n",
       "      <td>Data from: A demonstration of unsupervised mac...</td>\n",
       "      <td>[{'firstName': 'Shahan', 'lastName': 'Derkarab...</td>\n",
       "      <td>One major challenge to delimiting species with...</td>\n",
       "      <td>[{'organization': 'National Science Foundation...</td>\n",
       "      <td>[Paranonychidae, integrative taxonomy, Neogene...</td>\n",
       "      <td>&lt;div class=\"o-metadata__file-usage-entry\"&gt;&lt;h4 ...</td>\n",
       "      <td>[{'place': 'western North America'}]</td>\n",
       "      <td>[{'relationship': 'primary_article', 'identifi...</td>\n",
       "      <td>1</td>\n",
       "      <td>submitted</td>\n",
       "      <td>Published</td>\n",
       "      <td>none</td>\n",
       "      <td>2019-07-26</td>\n",
       "      <td>2019-09-23</td>\n",
       "      <td>public</td>\n",
       "      <td>https://datadryad.org/stash/share/U7pTmtqObvWK...</td>\n",
       "      <td>7103</td>\n",
       "      <td>https://creativecommons.org/publicdomain/zero/...</td>\n",
       "      <td>None</td>\n",
       "      <td>None</td>\n",
       "      <td>1</td>\n",
       "      <td>29027</td>\n",
       "      <td>1</td>\n",
       "      <td>39</td>\n",
       "      <td>165</td>\n",
       "      <td>{'self': {'href': '/api/v2/files/109253'}, 'st...</td>\n",
       "      <td>Phylogenies.zip</td>\n",
       "      <td>https://dryad-assetstore-east.s3.amazonaws.com...</td>\n",
       "      <td>11041.0</td>\n",
       "      <td>application/zip</td>\n",
       "      <td>created</td>\n",
       "      <td>bf92e9e120644642d96341c9fcea9e3a</td>\n",
       "      <td>md5</td>\n",
       "      <td>Resulting tree files for the COI and UCE 70% t...</td>\n",
       "      <td>2.0</td>\n",
       "    </tr>\n",
       "  </tbody>\n",
       "</table>\n",
       "</div>"
      ],
      "text/plain": [
       "                                       _links_search  \\\n",
       "0  {'self': {'href': '/api/v2/datasets/doi%3A10.5...   \n",
       "1  {'self': {'href': '/api/v2/datasets/doi%3A10.5...   \n",
       "2  {'self': {'href': '/api/v2/datasets/doi%3A10.5...   \n",
       "3  {'self': {'href': '/api/v2/datasets/doi%3A10.5...   \n",
       "\n",
       "                  identifier     id  storageSize relatedPublicationISSN  \\\n",
       "0  doi:10.5061/dryad.nj2mg77  28194      1769456              1055-7903   \n",
       "1  doi:10.5061/dryad.nj2mg77  28194      1769456              1055-7903   \n",
       "2  doi:10.5061/dryad.nj2mg77  28194      1769456              1055-7903   \n",
       "3  doi:10.5061/dryad.nj2mg77  28194      1769456              1055-7903   \n",
       "\n",
       "                                               title  \\\n",
       "0  Data from: A demonstration of unsupervised mac...   \n",
       "1  Data from: A demonstration of unsupervised mac...   \n",
       "2  Data from: A demonstration of unsupervised mac...   \n",
       "3  Data from: A demonstration of unsupervised mac...   \n",
       "\n",
       "                                             authors  \\\n",
       "0  [{'firstName': 'Shahan', 'lastName': 'Derkarab...   \n",
       "1  [{'firstName': 'Shahan', 'lastName': 'Derkarab...   \n",
       "2  [{'firstName': 'Shahan', 'lastName': 'Derkarab...   \n",
       "3  [{'firstName': 'Shahan', 'lastName': 'Derkarab...   \n",
       "\n",
       "                                            abstract  \\\n",
       "0  One major challenge to delimiting species with...   \n",
       "1  One major challenge to delimiting species with...   \n",
       "2  One major challenge to delimiting species with...   \n",
       "3  One major challenge to delimiting species with...   \n",
       "\n",
       "                                             funders  \\\n",
       "0  [{'organization': 'National Science Foundation...   \n",
       "1  [{'organization': 'National Science Foundation...   \n",
       "2  [{'organization': 'National Science Foundation...   \n",
       "3  [{'organization': 'National Science Foundation...   \n",
       "\n",
       "                                            keywords  \\\n",
       "0  [Paranonychidae, integrative taxonomy, Neogene...   \n",
       "1  [Paranonychidae, integrative taxonomy, Neogene...   \n",
       "2  [Paranonychidae, integrative taxonomy, Neogene...   \n",
       "3  [Paranonychidae, integrative taxonomy, Neogene...   \n",
       "\n",
       "                                          usageNotes  \\\n",
       "0  <div class=\"o-metadata__file-usage-entry\"><h4 ...   \n",
       "1  <div class=\"o-metadata__file-usage-entry\"><h4 ...   \n",
       "2  <div class=\"o-metadata__file-usage-entry\"><h4 ...   \n",
       "3  <div class=\"o-metadata__file-usage-entry\"><h4 ...   \n",
       "\n",
       "                              locations  \\\n",
       "0  [{'place': 'western North America'}]   \n",
       "1  [{'place': 'western North America'}]   \n",
       "2  [{'place': 'western North America'}]   \n",
       "3  [{'place': 'western North America'}]   \n",
       "\n",
       "                                        relatedWorks  versionNumber  \\\n",
       "0  [{'relationship': 'primary_article', 'identifi...              1   \n",
       "1  [{'relationship': 'primary_article', 'identifi...              1   \n",
       "2  [{'relationship': 'primary_article', 'identifi...              1   \n",
       "3  [{'relationship': 'primary_article', 'identifi...              1   \n",
       "\n",
       "  versionStatus curationStatus versionChanges publicationDate  \\\n",
       "0     submitted      Published           none      2019-07-26   \n",
       "1     submitted      Published           none      2019-07-26   \n",
       "2     submitted      Published           none      2019-07-26   \n",
       "3     submitted      Published           none      2019-07-26   \n",
       "\n",
       "  lastModificationDate visibility  \\\n",
       "0           2019-09-23     public   \n",
       "1           2019-09-23     public   \n",
       "2           2019-09-23     public   \n",
       "3           2019-09-23     public   \n",
       "\n",
       "                                         sharingLink  userId  \\\n",
       "0  https://datadryad.org/stash/share/U7pTmtqObvWK...    7103   \n",
       "1  https://datadryad.org/stash/share/U7pTmtqObvWK...    7103   \n",
       "2  https://datadryad.org/stash/share/U7pTmtqObvWK...    7103   \n",
       "3  https://datadryad.org/stash/share/U7pTmtqObvWK...    7103   \n",
       "\n",
       "                                             license fieldOfScience methods  \\\n",
       "0  https://creativecommons.org/publicdomain/zero/...           None    None   \n",
       "1  https://creativecommons.org/publicdomain/zero/...           None    None   \n",
       "2  https://creativecommons.org/publicdomain/zero/...           None    None   \n",
       "3  https://creativecommons.org/publicdomain/zero/...           None    None   \n",
       "\n",
       "   page_search  version  numCitations  numDownloads  numViews  \\\n",
       "0            1    29027             1            39       165   \n",
       "1            1    29027             1            39       165   \n",
       "2            1    29027             1            39       165   \n",
       "3            1    29027             1            39       165   \n",
       "\n",
       "                                     _links_metadata  \\\n",
       "0  {'self': {'href': '/api/v2/files/109249'}, 'st...   \n",
       "1  {'self': {'href': '/api/v2/files/109250'}, 'st...   \n",
       "2  {'self': {'href': '/api/v2/files/109252'}, 'st...   \n",
       "3  {'self': {'href': '/api/v2/files/109253'}, 'st...   \n",
       "\n",
       "                                       path  \\\n",
       "0           Metanonychus_Input_Matrices.zip   \n",
       "1  Metanonychus_UCEalignments_50percent.zip   \n",
       "2  Metanonychus_UCEalignments_70percent.zip   \n",
       "3                           Phylogenies.zip   \n",
       "\n",
       "                                                 url      size  \\\n",
       "0  https://dryad-assetstore-east.s3.amazonaws.com...  802735.0   \n",
       "1  https://dryad-assetstore-east.s3.amazonaws.com...  540588.0   \n",
       "2  https://dryad-assetstore-east.s3.amazonaws.com...  390902.0   \n",
       "3  https://dryad-assetstore-east.s3.amazonaws.com...   11041.0   \n",
       "\n",
       "          mimeType   status                            digest digestType  \\\n",
       "0  application/zip  created  63d7a0bc8ff595700ce8b2f974f6fa34        md5   \n",
       "1  application/zip  created  bf7931bf1a534ce065a8a81b9305f1be        md5   \n",
       "2  application/zip  created  519686daaeadbcc983a16924ccb7754d        md5   \n",
       "3  application/zip  created  bf92e9e120644642d96341c9fcea9e3a        md5   \n",
       "\n",
       "                                         description  page_metadata  \n",
       "0  Data Input matrices used for all analyses cond...            2.0  \n",
       "1  Individual UCE locus alignments included in th...            2.0  \n",
       "2  Individual UCE locus alignments included in th...            2.0  \n",
       "3  Resulting tree files for the COI and UCE 70% t...            2.0  "
      ]
     },
     "execution_count": 13,
     "metadata": {},
     "output_type": "execute_result"
    }
   ],
   "source": [
    "#look closer at duplicate ids\n",
    "dryad_dupes = df.loc[df['id'] == 28194]\n",
    "dryad_dupes"
   ]
  },
  {
   "cell_type": "code",
   "execution_count": 14,
   "id": "2b57b4aa",
   "metadata": {},
   "outputs": [],
   "source": [
    "#Dryad extract is set up such that each row is a component (unique path within id)\n",
    "#with components grouped by the same unique ID\n",
    "#therefore, we can group by ID to get object-level results, or look at each row to get component-level results"
   ]
  },
  {
   "cell_type": "markdown",
   "id": "1871d713",
   "metadata": {
    "pycharm": {
     "name": "#%% md\n"
    }
   },
   "source": [
    "## 2. See the \"Licenses offered\" tab in /Working documents/Licenses sheet for list of licenses by repo.\n",
    "\n",
    "## Given the type(s) of license(s) offered by the repo, how many of each type is assigned?\n",
    "**Property:** License"
   ]
  },
  {
   "cell_type": "code",
   "execution_count": 15,
   "id": "b0652cdc",
   "metadata": {
    "pycharm": {
     "name": "#%%\n"
    }
   },
   "outputs": [
    {
     "data": {
      "text/plain": [
       "0       https://creativecommons.org/publicdomain/zero/...\n",
       "1       https://creativecommons.org/publicdomain/zero/...\n",
       "2       https://creativecommons.org/publicdomain/zero/...\n",
       "3       https://creativecommons.org/publicdomain/zero/...\n",
       "4       https://creativecommons.org/publicdomain/zero/...\n",
       "                              ...                        \n",
       "2971    https://creativecommons.org/publicdomain/zero/...\n",
       "2972    https://creativecommons.org/publicdomain/zero/...\n",
       "2973    https://creativecommons.org/publicdomain/zero/...\n",
       "2974    https://creativecommons.org/publicdomain/zero/...\n",
       "2975    https://creativecommons.org/publicdomain/zero/...\n",
       "Name: license, Length: 2976, dtype: object"
      ]
     },
     "execution_count": 15,
     "metadata": {},
     "output_type": "execute_result"
    }
   ],
   "source": [
    "licenses = df.DryadRecordsCrosswalk.license\n",
    "licenses"
   ]
  },
  {
   "cell_type": "code",
   "execution_count": 16,
   "id": "205c2104",
   "metadata": {},
   "outputs": [
    {
     "data": {
      "text/plain": [
       "1"
      ]
     },
     "execution_count": 16,
     "metadata": {},
     "output_type": "execute_result"
    }
   ],
   "source": [
    "#all objects in Dryad have the same license\n",
    "licenses.nunique()"
   ]
  },
  {
   "cell_type": "code",
   "execution_count": 17,
   "id": "4229024a",
   "metadata": {
    "pycharm": {
     "name": "#%%\n"
    }
   },
   "outputs": [
    {
     "data": {
      "text/plain": [
       "https://creativecommons.org/publicdomain/zero/1.0/    2976\n",
       "Name: license, dtype: int64"
      ]
     },
     "execution_count": 17,
     "metadata": {},
     "output_type": "execute_result"
    }
   ],
   "source": [
    "licenses.value_counts()"
   ]
  },
  {
   "cell_type": "markdown",
   "id": "02bbd836",
   "metadata": {
    "pycharm": {
     "name": "#%% md\n"
    }
   },
   "source": [
    "## 3. What is the mean number of characters (excluding whitespaces, if possible) per object?\n",
    "**Property:** Description\n",
    "**Related function:** `mean_characters`"
   ]
  },
  {
   "cell_type": "code",
   "execution_count": 18,
   "id": "a4aca7b7",
   "metadata": {
    "pycharm": {
     "name": "#%%\n"
    }
   },
   "outputs": [
    {
     "data": {
      "text/plain": [
       "0       One major challenge to delimiting species with...\n",
       "1       One major challenge to delimiting species with...\n",
       "2       One major challenge to delimiting species with...\n",
       "3       One major challenge to delimiting species with...\n",
       "4       The study aimed to develop machine learning mo...\n",
       "                              ...                        \n",
       "2971    <p><b>Aim:</b> There is little consensus on wh...\n",
       "2972    Background: In the past few decades, several r...\n",
       "2973    <p>Natural history collections are leading suc...\n",
       "2974    <p>Natural history collections are leading suc...\n",
       "2975    <p>Natural history collections are leading suc...\n",
       "Name: abstract, Length: 2976, dtype: object"
      ]
     },
     "execution_count": 18,
     "metadata": {},
     "output_type": "execute_result"
    }
   ],
   "source": [
    "descriptions = df.DryadRecordsCrosswalk.description\n",
    "descriptions"
   ]
  },
  {
   "cell_type": "code",
   "execution_count": 19,
   "id": "1a600fcb",
   "metadata": {},
   "outputs": [
    {
     "data": {
      "text/plain": [
       "0       One major challenge to delimiting species with...\n",
       "4       The study aimed to develop machine learning mo...\n",
       "5       <p>We introduce Optimal-Transport-based Unfold...\n",
       "8       <p>This data set describes the occurrence (yes...\n",
       "9       <p>Current moist physics parameterization sche...\n",
       "                              ...                        \n",
       "2935    After the dramatic eutrophication-induced decl...\n",
       "2964    Workers processing nephrite, antigorite, or ta...\n",
       "2965    <p><b>Aim:</b> There is little consensus on wh...\n",
       "2972    Background: In the past few decades, several r...\n",
       "2973    <p>Natural history collections are leading suc...\n",
       "Length: 216, dtype: object"
      ]
     },
     "execution_count": 19,
     "metadata": {},
     "output_type": "execute_result"
    }
   ],
   "source": [
    "#remove None and drop duplicates\n",
    "#length of output < number of unique IDs, meaning not all objects have description associated\n",
    "descriptions = pd.Series(filter(None, descriptions)).drop_duplicates()\n",
    "descriptions"
   ]
  },
  {
   "cell_type": "code",
   "execution_count": 20,
   "id": "56637f4e",
   "metadata": {
    "pycharm": {
     "name": "#%%\n"
    }
   },
   "outputs": [
    {
     "name": "stdout",
     "output_type": "stream",
     "text": [
      "1688.861111111111 mean characters\n"
     ]
    }
   ],
   "source": [
    "print(f'{analysis.mean_characters(descriptions)} mean characters')"
   ]
  },
  {
   "cell_type": "markdown",
   "id": "6120605b",
   "metadata": {
    "pycharm": {
     "name": "#%% md\n"
    }
   },
   "source": [
    "## 4. What is the mean number of characters (excluding whitespaces, if possible) per object?\n",
    "**Property:** Methods\n",
    "**Related function:** `mean_characters`"
   ]
  },
  {
   "cell_type": "code",
   "execution_count": 21,
   "id": "2e492fd7",
   "metadata": {
    "pycharm": {
     "name": "#%%\n"
    }
   },
   "outputs": [
    {
     "data": {
      "text/plain": [
       "0       None\n",
       "1       None\n",
       "2       None\n",
       "3       None\n",
       "4       None\n",
       "        ... \n",
       "2971    None\n",
       "2972    None\n",
       "2973    None\n",
       "2974    None\n",
       "2975    None\n",
       "Name: methods, Length: 2976, dtype: object"
      ]
     },
     "execution_count": 21,
     "metadata": {},
     "output_type": "execute_result"
    }
   ],
   "source": [
    "methods = df.DryadRecordsCrosswalk.methods\n",
    "methods"
   ]
  },
  {
   "cell_type": "code",
   "execution_count": 22,
   "id": "8e855de4",
   "metadata": {
    "scrolled": true
   },
   "outputs": [
    {
     "data": {
      "text/plain": [
       "0       <p>The data is divided into two sets correspon...\n",
       "3       <p>The bird distribution data are from BirdLif...\n",
       "4       <p>T<span style=\"font-style:normal;\"><span><sp...\n",
       "5       <p>This data has been generated by applying mu...\n",
       "6       <p>The file 'Serengeti.csv' includes Thomson’s...\n",
       "11             <p>See manuscript Methods section.</p>\\r\\n\n",
       "14      <p style=\"text-indent: 0.5in;text-align: justi...\n",
       "33      <p class=\"MDPI31text\" style=\"text-indent:0cm;t...\n",
       "35      <p>This dataset is extracted from a simulation...\n",
       "36      <p>This is a script for R used for the analysi...\n",
       "37      <p>In this study, girls with secondary sexual ...\n",
       "38      <p>We built a system composed of VI and IR sol...\n",
       "280     <p>Data were compiled from open-access databas...\n",
       "287     <p>Data to test the models was sourced from:</...\n",
       "289     <p>The GT-A sequences were collected by a simi...\n",
       "906     <p>The “Mechanical MNIST Crack Path” dataset i...\n",
       "941     <p>Retrospective cohort analysis of consecutiv...\n",
       "943     <p>Data represent measurements taken of images...\n",
       "946     <p>Data were collected from 118 Youtube videos...\n",
       "948     <p>A description of the methods used to collec...\n",
       "953     <p>We have developed a machine learning model ...\n",
       "954     <p><strong>Dataset collection:</strong></p>\\r\\...\n",
       "955     <p>This dataset includes trained medical conce...\n",
       "957     <p style=\"text-align:justify;\"><b>Data Source<...\n",
       "958     <p>The DRIAMS dataset is ressource intended fo...\n",
       "963     <p>The reference genome of <em>G. quinquepunct...\n",
       "974     <p>NLM-Chem corpus consists of 150 full-text a...\n",
       "976     <p>These files were extracted from recordings ...\n",
       "977     <p>Datasets (1) dictionary (2a) saga texts wer...\n",
       "983     <p>Data represents model weights as described ...\n",
       "985     <p><b>Patients and Data Description</b></p>\\r\\...\n",
       "989     <p>Participants with suspected<i> </i>OSA (sno...\n",
       "991     <p>The data was recorded with UHF-GPS collars ...\n",
       "992     <p>The raw NHANES and RCT datasets are downloa...\n",
       "994     <p>Data of ultrafiltration UF performance (dur...\n",
       "995     <p>A bottom-up machine learning approach selec...\n",
       "1001    <p>A bottom-up machine learning approach selec...\n",
       "1007    <p>Because the data used to train these models...\n",
       "1008    <p>A full description of the methods can be fo...\n",
       "1009    <p>The data were collected using Respironics A...\n",
       "1010    <p>Each collision is uniquely defined by a set...\n",
       "1013    <p><strong>Multiple sequence alignments</stron...\n",
       "1014    <p>The soundings through April 2012 are derive...\n",
       "1015    <p style=\"margin-top:16px;margin-bottom:16px;t...\n",
       "1016    <p>Source data for environmental layers are li...\n",
       "1048    <p>Data were collected using primary literatur...\n",
       "1060    <p>167 features towards chondroitin sulfate-A ...\n",
       "1062    <p>This dataset was provided by DataCastle, a ...\n",
       "1065    <p>This dataset has two components: training a...\n",
       "1068    <p>FACS data:<br>\\r\\n </p>\\r\\n\\r\\n<p class=\"Cx...\n",
       "1072    <p>The data were obtained from quantum chemica...\n",
       "1073    <p>The ‘Dataset’ directory contains two datase...\n",
       "1076    <p style=\"margin-bottom:11px;\">The raw data co...\n",
       "1078    <p style=\"text-indent:.5in;\">We used three rec...\n",
       "1081    <p style=\"text-indent: 0px;text-align: justify...\n",
       "1083    <p style=\"margin-bottom:10px;\">The energy cons...\n",
       "1084    <p>X-ray diffraction images were recorded as ....\n",
       "1085    <p>Please see supplementary information of the...\n",
       "1089    <p>Full details on sample collection and analy...\n",
       "1090    <p>Data accompanying Hoyal Cuthill et al 2020,...\n",
       "1096    <p>We collected physiological signals (e.g., s...\n",
       "1098    <h4>Supplementary data 1:</h4>\\r\\n\\r\\n<p>Diato...\n",
       "1102    <p>See terraref-dryad.pdf, metadata/methods.cs...\n",
       "1108    <p>We used the Arachnida 1.1Kv1 probe set (Arb...\n",
       "1116    <p>Whole genomic DNA was extracted using sever...\n",
       "1117    <p>Derived using GIS and Random Forest models ...\n",
       "1118    <p>The impact of Glyphosate and of its commerc...\n",
       "1121    <p>Presence-absence data of four butterfly spe...\n",
       "1125    <p>Raster files showing estimated relative spa...\n",
       "1284    <p>These data were collected by the coauthors,...\n",
       "1285    <p>Please see Material and Methods section in ...\n",
       "1287    <p style=\"margin-bottom:11px;\">This test datas...\n",
       "dtype: object"
      ]
     },
     "execution_count": 22,
     "metadata": {},
     "output_type": "execute_result"
    }
   ],
   "source": [
    "#remove None and drop duplicates\n",
    "#length of output < number of unique IDs, meaning not all components/objects have methods associated\n",
    "methods = pd.Series(filter(None, methods)).drop_duplicates()\n",
    "methods"
   ]
  },
  {
   "cell_type": "code",
   "execution_count": 23,
   "id": "40025f64",
   "metadata": {},
   "outputs": [
    {
     "name": "stdout",
     "output_type": "stream",
     "text": [
      "1302.5 mean characters\n"
     ]
    }
   ],
   "source": [
    "print(f'{analysis.mean_characters(methods)} mean characters')"
   ]
  },
  {
   "cell_type": "markdown",
   "id": "1ea7490d",
   "metadata": {
    "pycharm": {
     "name": "#%% md\n"
    }
   },
   "source": [
    "## 5. What are the min and max publication dates for each repo?\n",
    "\n",
    "## How many objects were published each year for each repo?\n",
    "**Property:** Publication date"
   ]
  },
  {
   "cell_type": "code",
   "execution_count": 24,
   "id": "0cd56369",
   "metadata": {
    "pycharm": {
     "name": "#%%\n"
    }
   },
   "outputs": [
    {
     "data": {
      "text/plain": [
       "0       2019-07-26\n",
       "1       2019-07-26\n",
       "2       2019-07-26\n",
       "3       2019-07-26\n",
       "4       2018-05-05\n",
       "           ...    \n",
       "2971    2021-04-30\n",
       "2972    2016-05-01\n",
       "2973    2021-06-24\n",
       "2974    2021-06-24\n",
       "2975    2021-06-24\n",
       "Name: publicationDate, Length: 2976, dtype: object"
      ]
     },
     "execution_count": 24,
     "metadata": {},
     "output_type": "execute_result"
    }
   ],
   "source": [
    "publication_dates = df.DryadRecordsCrosswalk.publication_date\n",
    "publication_dates"
   ]
  },
  {
   "cell_type": "code",
   "execution_count": 25,
   "id": "fa1f4634",
   "metadata": {},
   "outputs": [
    {
     "data": {
      "text/html": [
       "<div>\n",
       "<style scoped>\n",
       "    .dataframe tbody tr th:only-of-type {\n",
       "        vertical-align: middle;\n",
       "    }\n",
       "\n",
       "    .dataframe tbody tr th {\n",
       "        vertical-align: top;\n",
       "    }\n",
       "\n",
       "    .dataframe thead th {\n",
       "        text-align: right;\n",
       "    }\n",
       "</style>\n",
       "<table border=\"1\" class=\"dataframe\">\n",
       "  <thead>\n",
       "    <tr style=\"text-align: right;\">\n",
       "      <th></th>\n",
       "      <th>id</th>\n",
       "      <th>publicationDate</th>\n",
       "    </tr>\n",
       "  </thead>\n",
       "  <tbody>\n",
       "    <tr>\n",
       "      <th>0</th>\n",
       "      <td>28194</td>\n",
       "      <td>2019-07-26</td>\n",
       "    </tr>\n",
       "    <tr>\n",
       "      <th>4</th>\n",
       "      <td>17689</td>\n",
       "      <td>2018-05-05</td>\n",
       "    </tr>\n",
       "    <tr>\n",
       "      <th>5</th>\n",
       "      <td>67581</td>\n",
       "      <td>2021-05-04</td>\n",
       "    </tr>\n",
       "    <tr>\n",
       "      <th>8</th>\n",
       "      <td>40246</td>\n",
       "      <td>2020-03-02</td>\n",
       "    </tr>\n",
       "    <tr>\n",
       "      <th>9</th>\n",
       "      <td>50040</td>\n",
       "      <td>2021-03-04</td>\n",
       "    </tr>\n",
       "    <tr>\n",
       "      <th>...</th>\n",
       "      <td>...</td>\n",
       "      <td>...</td>\n",
       "    </tr>\n",
       "    <tr>\n",
       "      <th>2935</th>\n",
       "      <td>27035</td>\n",
       "      <td>2016-08-10</td>\n",
       "    </tr>\n",
       "    <tr>\n",
       "      <th>2964</th>\n",
       "      <td>23265</td>\n",
       "      <td>2019-04-12</td>\n",
       "    </tr>\n",
       "    <tr>\n",
       "      <th>2965</th>\n",
       "      <td>61800</td>\n",
       "      <td>2021-04-30</td>\n",
       "    </tr>\n",
       "    <tr>\n",
       "      <th>2972</th>\n",
       "      <td>12676</td>\n",
       "      <td>2016-05-01</td>\n",
       "    </tr>\n",
       "    <tr>\n",
       "      <th>2973</th>\n",
       "      <td>37657</td>\n",
       "      <td>2021-06-24</td>\n",
       "    </tr>\n",
       "  </tbody>\n",
       "</table>\n",
       "<p>219 rows × 2 columns</p>\n",
       "</div>"
      ],
      "text/plain": [
       "         id publicationDate\n",
       "0     28194      2019-07-26\n",
       "4     17689      2018-05-05\n",
       "5     67581      2021-05-04\n",
       "8     40246      2020-03-02\n",
       "9     50040      2021-03-04\n",
       "...     ...             ...\n",
       "2935  27035      2016-08-10\n",
       "2964  23265      2019-04-12\n",
       "2965  61800      2021-04-30\n",
       "2972  12676      2016-05-01\n",
       "2973  37657      2021-06-24\n",
       "\n",
       "[219 rows x 2 columns]"
      ]
     },
     "execution_count": 25,
     "metadata": {},
     "output_type": "execute_result"
    }
   ],
   "source": [
    "#concatenate ids and keep unique - object likely has same publication date across components\n",
    "publication_dates_unique = pd.concat([ids, publication_dates], axis = 1)\n",
    "publication_dates_unique = publication_dates_unique.drop_duplicates()\n",
    "publication_dates_unique"
   ]
  },
  {
   "cell_type": "code",
   "execution_count": 26,
   "id": "e4bb0b12",
   "metadata": {},
   "outputs": [
    {
     "data": {
      "text/plain": [
       "0       2019-07-26\n",
       "4       2018-05-05\n",
       "5       2021-05-04\n",
       "8       2020-03-02\n",
       "9       2021-03-04\n",
       "           ...    \n",
       "2935    2016-08-10\n",
       "2964    2019-04-12\n",
       "2965    2021-04-30\n",
       "2972    2016-05-01\n",
       "2973    2021-06-24\n",
       "Name: publicationDate, Length: 219, dtype: object"
      ]
     },
     "execution_count": 26,
     "metadata": {},
     "output_type": "execute_result"
    }
   ],
   "source": [
    "#extract unique dates column as series\n",
    "publication_dates_use = publication_dates_unique['publicationDate']\n",
    "publication_dates_use"
   ]
  },
  {
   "cell_type": "code",
   "execution_count": 27,
   "id": "df93b946",
   "metadata": {},
   "outputs": [
    {
     "data": {
      "text/plain": [
       "0      2019-07-26\n",
       "1      2018-05-05\n",
       "2      2021-05-04\n",
       "3      2020-03-02\n",
       "4      2021-03-04\n",
       "          ...    \n",
       "213    2016-08-10\n",
       "214    2019-04-12\n",
       "215    2021-04-30\n",
       "216    2016-05-01\n",
       "217    2021-06-24\n",
       "Length: 218, dtype: object"
      ]
     },
     "execution_count": 27,
     "metadata": {},
     "output_type": "execute_result"
    }
   ],
   "source": [
    "#remove None values\n",
    "publication_dates_use = pd.Series(filter(None, publication_dates_use))\n",
    "publication_dates_use"
   ]
  },
  {
   "cell_type": "code",
   "execution_count": 28,
   "id": "3a0be68d",
   "metadata": {},
   "outputs": [
    {
     "data": {
      "text/plain": [
       "('2013-09-06', '2022-11-08')"
      ]
     },
     "execution_count": 28,
     "metadata": {},
     "output_type": "execute_result"
    }
   ],
   "source": [
    "#min and max publication year\n",
    "publication_dates_use.min(), publication_dates_use.max()"
   ]
  },
  {
   "cell_type": "code",
   "execution_count": 29,
   "id": "fcc8a5a2",
   "metadata": {},
   "outputs": [
    {
     "data": {
      "text/plain": [
       "2013     1\n",
       "2014     3\n",
       "2015     6\n",
       "2016    12\n",
       "2017    10\n",
       "2018    23\n",
       "2019    39\n",
       "2020    45\n",
       "2021    70\n",
       "2022     9\n",
       "dtype: int64"
      ]
     },
     "execution_count": 29,
     "metadata": {},
     "output_type": "execute_result"
    }
   ],
   "source": [
    "#records per year\n",
    "publication_dates_use.astype('datetime64[ns]').apply(lambda date: date.year).value_counts().sort_index()"
   ]
  },
  {
   "cell_type": "code",
   "execution_count": 30,
   "id": "0db547ed",
   "metadata": {},
   "outputs": [],
   "source": [
    "#ready for plotting export - order and make dataframe\n",
    "pub_dates_export = publication_dates_use.astype('datetime64[ns]').apply(lambda date: date.year).value_counts().sort_index().to_frame()"
   ]
  },
  {
   "cell_type": "code",
   "execution_count": 31,
   "id": "f160ff43",
   "metadata": {},
   "outputs": [
    {
     "data": {
      "text/html": [
       "<div>\n",
       "<style scoped>\n",
       "    .dataframe tbody tr th:only-of-type {\n",
       "        vertical-align: middle;\n",
       "    }\n",
       "\n",
       "    .dataframe tbody tr th {\n",
       "        vertical-align: top;\n",
       "    }\n",
       "\n",
       "    .dataframe thead th {\n",
       "        text-align: right;\n",
       "    }\n",
       "</style>\n",
       "<table border=\"1\" class=\"dataframe\">\n",
       "  <thead>\n",
       "    <tr style=\"text-align: right;\">\n",
       "      <th></th>\n",
       "      <th>0</th>\n",
       "    </tr>\n",
       "  </thead>\n",
       "  <tbody>\n",
       "    <tr>\n",
       "      <th>2013</th>\n",
       "      <td>1</td>\n",
       "    </tr>\n",
       "    <tr>\n",
       "      <th>2014</th>\n",
       "      <td>3</td>\n",
       "    </tr>\n",
       "    <tr>\n",
       "      <th>2015</th>\n",
       "      <td>6</td>\n",
       "    </tr>\n",
       "    <tr>\n",
       "      <th>2016</th>\n",
       "      <td>12</td>\n",
       "    </tr>\n",
       "    <tr>\n",
       "      <th>2017</th>\n",
       "      <td>10</td>\n",
       "    </tr>\n",
       "    <tr>\n",
       "      <th>2018</th>\n",
       "      <td>23</td>\n",
       "    </tr>\n",
       "    <tr>\n",
       "      <th>2019</th>\n",
       "      <td>39</td>\n",
       "    </tr>\n",
       "    <tr>\n",
       "      <th>2020</th>\n",
       "      <td>45</td>\n",
       "    </tr>\n",
       "    <tr>\n",
       "      <th>2021</th>\n",
       "      <td>70</td>\n",
       "    </tr>\n",
       "    <tr>\n",
       "      <th>2022</th>\n",
       "      <td>9</td>\n",
       "    </tr>\n",
       "  </tbody>\n",
       "</table>\n",
       "</div>"
      ],
      "text/plain": [
       "       0\n",
       "2013   1\n",
       "2014   3\n",
       "2015   6\n",
       "2016  12\n",
       "2017  10\n",
       "2018  23\n",
       "2019  39\n",
       "2020  45\n",
       "2021  70\n",
       "2022   9"
      ]
     },
     "execution_count": 31,
     "metadata": {},
     "output_type": "execute_result"
    }
   ],
   "source": [
    "pub_dates_export"
   ]
  },
  {
   "cell_type": "code",
   "execution_count": 32,
   "id": "7a8d12d7",
   "metadata": {},
   "outputs": [
    {
     "data": {
      "text/html": [
       "<div>\n",
       "<style scoped>\n",
       "    .dataframe tbody tr th:only-of-type {\n",
       "        vertical-align: middle;\n",
       "    }\n",
       "\n",
       "    .dataframe tbody tr th {\n",
       "        vertical-align: top;\n",
       "    }\n",
       "\n",
       "    .dataframe thead th {\n",
       "        text-align: right;\n",
       "    }\n",
       "</style>\n",
       "<table border=\"1\" class=\"dataframe\">\n",
       "  <thead>\n",
       "    <tr style=\"text-align: right;\">\n",
       "      <th></th>\n",
       "      <th>year</th>\n",
       "      <th>count</th>\n",
       "    </tr>\n",
       "  </thead>\n",
       "  <tbody>\n",
       "    <tr>\n",
       "      <th>0</th>\n",
       "      <td>2013</td>\n",
       "      <td>1</td>\n",
       "    </tr>\n",
       "    <tr>\n",
       "      <th>1</th>\n",
       "      <td>2014</td>\n",
       "      <td>3</td>\n",
       "    </tr>\n",
       "    <tr>\n",
       "      <th>2</th>\n",
       "      <td>2015</td>\n",
       "      <td>6</td>\n",
       "    </tr>\n",
       "    <tr>\n",
       "      <th>3</th>\n",
       "      <td>2016</td>\n",
       "      <td>12</td>\n",
       "    </tr>\n",
       "    <tr>\n",
       "      <th>4</th>\n",
       "      <td>2017</td>\n",
       "      <td>10</td>\n",
       "    </tr>\n",
       "    <tr>\n",
       "      <th>5</th>\n",
       "      <td>2018</td>\n",
       "      <td>23</td>\n",
       "    </tr>\n",
       "    <tr>\n",
       "      <th>6</th>\n",
       "      <td>2019</td>\n",
       "      <td>39</td>\n",
       "    </tr>\n",
       "    <tr>\n",
       "      <th>7</th>\n",
       "      <td>2020</td>\n",
       "      <td>45</td>\n",
       "    </tr>\n",
       "    <tr>\n",
       "      <th>8</th>\n",
       "      <td>2021</td>\n",
       "      <td>70</td>\n",
       "    </tr>\n",
       "    <tr>\n",
       "      <th>9</th>\n",
       "      <td>2022</td>\n",
       "      <td>9</td>\n",
       "    </tr>\n",
       "  </tbody>\n",
       "</table>\n",
       "</div>"
      ],
      "text/plain": [
       "   year  count\n",
       "0  2013      1\n",
       "1  2014      3\n",
       "2  2015      6\n",
       "3  2016     12\n",
       "4  2017     10\n",
       "5  2018     23\n",
       "6  2019     39\n",
       "7  2020     45\n",
       "8  2021     70\n",
       "9  2022      9"
      ]
     },
     "execution_count": 32,
     "metadata": {},
     "output_type": "execute_result"
    }
   ],
   "source": [
    "#update column names\n",
    "pub_dates_export_ready = pub_dates_export.reset_index(level=0)\n",
    "pub_dates_export_ready.columns = ['year', 'count']\n",
    "pub_dates_export_ready"
   ]
  },
  {
   "cell_type": "code",
   "execution_count": 33,
   "id": "c7e30f29",
   "metadata": {},
   "outputs": [],
   "source": [
    "#add column with name of repo\n",
    "pub_dates_export_ready['repo'] = 'dryad'"
   ]
  },
  {
   "cell_type": "code",
   "execution_count": 34,
   "id": "b9b3158a",
   "metadata": {},
   "outputs": [
    {
     "data": {
      "text/html": [
       "<div>\n",
       "<style scoped>\n",
       "    .dataframe tbody tr th:only-of-type {\n",
       "        vertical-align: middle;\n",
       "    }\n",
       "\n",
       "    .dataframe tbody tr th {\n",
       "        vertical-align: top;\n",
       "    }\n",
       "\n",
       "    .dataframe thead th {\n",
       "        text-align: right;\n",
       "    }\n",
       "</style>\n",
       "<table border=\"1\" class=\"dataframe\">\n",
       "  <thead>\n",
       "    <tr style=\"text-align: right;\">\n",
       "      <th></th>\n",
       "      <th>year</th>\n",
       "      <th>count</th>\n",
       "      <th>repo</th>\n",
       "    </tr>\n",
       "  </thead>\n",
       "  <tbody>\n",
       "    <tr>\n",
       "      <th>0</th>\n",
       "      <td>2013</td>\n",
       "      <td>1</td>\n",
       "      <td>dryad</td>\n",
       "    </tr>\n",
       "    <tr>\n",
       "      <th>1</th>\n",
       "      <td>2014</td>\n",
       "      <td>3</td>\n",
       "      <td>dryad</td>\n",
       "    </tr>\n",
       "    <tr>\n",
       "      <th>2</th>\n",
       "      <td>2015</td>\n",
       "      <td>6</td>\n",
       "      <td>dryad</td>\n",
       "    </tr>\n",
       "    <tr>\n",
       "      <th>3</th>\n",
       "      <td>2016</td>\n",
       "      <td>12</td>\n",
       "      <td>dryad</td>\n",
       "    </tr>\n",
       "    <tr>\n",
       "      <th>4</th>\n",
       "      <td>2017</td>\n",
       "      <td>10</td>\n",
       "      <td>dryad</td>\n",
       "    </tr>\n",
       "    <tr>\n",
       "      <th>5</th>\n",
       "      <td>2018</td>\n",
       "      <td>23</td>\n",
       "      <td>dryad</td>\n",
       "    </tr>\n",
       "    <tr>\n",
       "      <th>6</th>\n",
       "      <td>2019</td>\n",
       "      <td>39</td>\n",
       "      <td>dryad</td>\n",
       "    </tr>\n",
       "    <tr>\n",
       "      <th>7</th>\n",
       "      <td>2020</td>\n",
       "      <td>45</td>\n",
       "      <td>dryad</td>\n",
       "    </tr>\n",
       "    <tr>\n",
       "      <th>8</th>\n",
       "      <td>2021</td>\n",
       "      <td>70</td>\n",
       "      <td>dryad</td>\n",
       "    </tr>\n",
       "    <tr>\n",
       "      <th>9</th>\n",
       "      <td>2022</td>\n",
       "      <td>9</td>\n",
       "      <td>dryad</td>\n",
       "    </tr>\n",
       "  </tbody>\n",
       "</table>\n",
       "</div>"
      ],
      "text/plain": [
       "   year  count   repo\n",
       "0  2013      1  dryad\n",
       "1  2014      3  dryad\n",
       "2  2015      6  dryad\n",
       "3  2016     12  dryad\n",
       "4  2017     10  dryad\n",
       "5  2018     23  dryad\n",
       "6  2019     39  dryad\n",
       "7  2020     45  dryad\n",
       "8  2021     70  dryad\n",
       "9  2022      9  dryad"
      ]
     },
     "execution_count": 34,
     "metadata": {},
     "output_type": "execute_result"
    }
   ],
   "source": [
    "pub_dates_export_ready"
   ]
  },
  {
   "cell_type": "code",
   "execution_count": 35,
   "id": "cee26e35",
   "metadata": {},
   "outputs": [],
   "source": [
    "#export to Figures folder\n",
    "pub_dates_export_ready.to_csv('..\\\\..\\\\Figures\\\\Figure1\\\\repository_dates\\\\dryad_pub_years.csv')"
   ]
  },
  {
   "cell_type": "markdown",
   "id": "8e0c2e62",
   "metadata": {
    "pycharm": {
     "name": "#%% md\n"
    }
   },
   "source": [
    "## 6. What are the unweighted mean, median, and max file sizes among all ingested files?\n",
    "**Property:** File size\n",
    "**Related function:** `get_summary_statistics`"
   ]
  },
  {
   "cell_type": "markdown",
   "id": "ae24513c",
   "metadata": {
    "pycharm": {
     "name": "#%% md\n"
    }
   },
   "source": [
    "We first get the file size attribute using the crosswalk."
   ]
  },
  {
   "cell_type": "code",
   "execution_count": 36,
   "id": "6fe6c76a",
   "metadata": {
    "pycharm": {
     "name": "#%%\n"
    }
   },
   "outputs": [
    {
     "data": {
      "text/plain": [
       "0       802735.0\n",
       "1       540588.0\n",
       "2       390902.0\n",
       "3        11041.0\n",
       "4        12461.0\n",
       "          ...   \n",
       "2971      2060.0\n",
       "2972     64813.0\n",
       "2973     65255.0\n",
       "2974    795941.0\n",
       "2975    956532.0\n",
       "Name: size, Length: 2976, dtype: float64"
      ]
     },
     "execution_count": 36,
     "metadata": {},
     "output_type": "execute_result"
    }
   ],
   "source": [
    "file_sizes = df.DryadRecordsCrosswalk.file_size\n",
    "file_sizes"
   ]
  },
  {
   "cell_type": "code",
   "execution_count": 37,
   "id": "cbcdf12f",
   "metadata": {},
   "outputs": [
    {
     "data": {
      "text/plain": [
       "1997   NaN\n",
       "Name: size, dtype: float64"
      ]
     },
     "execution_count": 37,
     "metadata": {},
     "output_type": "execute_result"
    }
   ],
   "source": [
    "#need to replace any NaN values to get accurate median\n",
    "file_sizes[file_sizes.isna()==True]"
   ]
  },
  {
   "cell_type": "code",
   "execution_count": 38,
   "id": "5e9658b3",
   "metadata": {},
   "outputs": [],
   "source": [
    "#drop NaN values\n",
    "file_sizes_use = file_sizes.dropna()"
   ]
  },
  {
   "cell_type": "code",
   "execution_count": 39,
   "id": "cef7325e",
   "metadata": {},
   "outputs": [
    {
     "data": {
      "text/plain": [
       "{'mean': 442714782.11563027, 'median': 568064.0, 'max': 240410703734.0}"
      ]
     },
     "execution_count": 39,
     "metadata": {},
     "output_type": "execute_result"
    }
   ],
   "source": [
    "#get summary statistics\n",
    "analysis.get_summary_statistics(file_sizes_use)"
   ]
  },
  {
   "cell_type": "markdown",
   "id": "7436441a",
   "metadata": {
    "pycharm": {
     "name": "#%% md\n"
    }
   },
   "source": [
    "## 7. What are the mean, median, and max number of files per object?\n",
    "**Property:** URL\n",
    "**Related function:** `get_summary_statistics`"
   ]
  },
  {
   "cell_type": "markdown",
   "id": "ef700f69",
   "metadata": {
    "pycharm": {
     "name": "#%% md\n"
    }
   },
   "source": [
    "`missing` is set to an empty list so that the `None` values for objects without files have \"zero files\""
   ]
  },
  {
   "cell_type": "code",
   "execution_count": 40,
   "id": "42ab0d1b",
   "metadata": {
    "pycharm": {
     "name": "#%%\n"
    }
   },
   "outputs": [
    {
     "data": {
      "text/plain": [
       "0                         Metanonychus_Input_Matrices.zip\n",
       "1                Metanonychus_UCEalignments_50percent.zip\n",
       "2                Metanonychus_UCEalignments_70percent.zip\n",
       "3                                         Phylogenies.zip\n",
       "4                                             dataset.zip\n",
       "                              ...                        \n",
       "2971                                           Readme.txt\n",
       "2972                                  PONE-D-14-48810.txt\n",
       "2973    Template_taxonomy_data_(from_Appendix_S10_and_...\n",
       "2974                      Dataset_Journal_survey_all.xlsx\n",
       "2975                          Supplementary_Materials.pdf\n",
       "Name: path, Length: 2976, dtype: object"
      ]
     },
     "execution_count": 40,
     "metadata": {},
     "output_type": "execute_result"
    }
   ],
   "source": [
    "files = df.DryadRecordsCrosswalk.url\n",
    "files"
   ]
  },
  {
   "cell_type": "code",
   "execution_count": 41,
   "id": "adeaf01c",
   "metadata": {},
   "outputs": [
    {
     "data": {
      "text/html": [
       "<div>\n",
       "<style scoped>\n",
       "    .dataframe tbody tr th:only-of-type {\n",
       "        vertical-align: middle;\n",
       "    }\n",
       "\n",
       "    .dataframe tbody tr th {\n",
       "        vertical-align: top;\n",
       "    }\n",
       "\n",
       "    .dataframe thead th {\n",
       "        text-align: right;\n",
       "    }\n",
       "</style>\n",
       "<table border=\"1\" class=\"dataframe\">\n",
       "  <thead>\n",
       "    <tr style=\"text-align: right;\">\n",
       "      <th></th>\n",
       "      <th>id</th>\n",
       "      <th>path</th>\n",
       "    </tr>\n",
       "  </thead>\n",
       "  <tbody>\n",
       "    <tr>\n",
       "      <th>0</th>\n",
       "      <td>28194</td>\n",
       "      <td>Metanonychus_Input_Matrices.zip</td>\n",
       "    </tr>\n",
       "    <tr>\n",
       "      <th>1</th>\n",
       "      <td>28194</td>\n",
       "      <td>Metanonychus_UCEalignments_50percent.zip</td>\n",
       "    </tr>\n",
       "    <tr>\n",
       "      <th>2</th>\n",
       "      <td>28194</td>\n",
       "      <td>Metanonychus_UCEalignments_70percent.zip</td>\n",
       "    </tr>\n",
       "    <tr>\n",
       "      <th>3</th>\n",
       "      <td>28194</td>\n",
       "      <td>Phylogenies.zip</td>\n",
       "    </tr>\n",
       "    <tr>\n",
       "      <th>4</th>\n",
       "      <td>17689</td>\n",
       "      <td>dataset.zip</td>\n",
       "    </tr>\n",
       "    <tr>\n",
       "      <th>...</th>\n",
       "      <td>...</td>\n",
       "      <td>...</td>\n",
       "    </tr>\n",
       "    <tr>\n",
       "      <th>2971</th>\n",
       "      <td>61800</td>\n",
       "      <td>Readme.txt</td>\n",
       "    </tr>\n",
       "    <tr>\n",
       "      <th>2972</th>\n",
       "      <td>12676</td>\n",
       "      <td>PONE-D-14-48810.txt</td>\n",
       "    </tr>\n",
       "    <tr>\n",
       "      <th>2973</th>\n",
       "      <td>37657</td>\n",
       "      <td>Template_taxonomy_data_(from_Appendix_S10_and_...</td>\n",
       "    </tr>\n",
       "    <tr>\n",
       "      <th>2974</th>\n",
       "      <td>37657</td>\n",
       "      <td>Dataset_Journal_survey_all.xlsx</td>\n",
       "    </tr>\n",
       "    <tr>\n",
       "      <th>2975</th>\n",
       "      <td>37657</td>\n",
       "      <td>Supplementary_Materials.pdf</td>\n",
       "    </tr>\n",
       "  </tbody>\n",
       "</table>\n",
       "<p>2976 rows × 2 columns</p>\n",
       "</div>"
      ],
      "text/plain": [
       "         id                                               path\n",
       "0     28194                    Metanonychus_Input_Matrices.zip\n",
       "1     28194           Metanonychus_UCEalignments_50percent.zip\n",
       "2     28194           Metanonychus_UCEalignments_70percent.zip\n",
       "3     28194                                    Phylogenies.zip\n",
       "4     17689                                        dataset.zip\n",
       "...     ...                                                ...\n",
       "2971  61800                                         Readme.txt\n",
       "2972  12676                                PONE-D-14-48810.txt\n",
       "2973  37657  Template_taxonomy_data_(from_Appendix_S10_and_...\n",
       "2974  37657                    Dataset_Journal_survey_all.xlsx\n",
       "2975  37657                        Supplementary_Materials.pdf\n",
       "\n",
       "[2976 rows x 2 columns]"
      ]
     },
     "execution_count": 41,
     "metadata": {},
     "output_type": "execute_result"
    }
   ],
   "source": [
    "#since interested in per object, need to group by ID\n",
    "files_ids = pd.concat([ids, files], axis = 1)\n",
    "files_ids"
   ]
  },
  {
   "cell_type": "code",
   "execution_count": 42,
   "id": "3a651e8e",
   "metadata": {
    "scrolled": true
   },
   "outputs": [
    {
     "data": {
      "text/html": [
       "<div>\n",
       "<style scoped>\n",
       "    .dataframe tbody tr th:only-of-type {\n",
       "        vertical-align: middle;\n",
       "    }\n",
       "\n",
       "    .dataframe tbody tr th {\n",
       "        vertical-align: top;\n",
       "    }\n",
       "\n",
       "    .dataframe thead th {\n",
       "        text-align: right;\n",
       "    }\n",
       "</style>\n",
       "<table border=\"1\" class=\"dataframe\">\n",
       "  <thead>\n",
       "    <tr style=\"text-align: right;\">\n",
       "      <th></th>\n",
       "      <th></th>\n",
       "      <th>0</th>\n",
       "    </tr>\n",
       "    <tr>\n",
       "      <th>id</th>\n",
       "      <th>path</th>\n",
       "      <th></th>\n",
       "    </tr>\n",
       "  </thead>\n",
       "  <tbody>\n",
       "    <tr>\n",
       "      <th rowspan=\"5\" valign=\"top\">493</th>\n",
       "      <th>README_for_consensus_data.docx</th>\n",
       "      <td>1</td>\n",
       "    </tr>\n",
       "    <tr>\n",
       "      <th>all_images.csv</th>\n",
       "      <td>1</td>\n",
       "    </tr>\n",
       "    <tr>\n",
       "      <th>consensus_data.csv</th>\n",
       "      <td>1</td>\n",
       "    </tr>\n",
       "    <tr>\n",
       "      <th>gold_standard_data.csv</th>\n",
       "      <td>1</td>\n",
       "    </tr>\n",
       "    <tr>\n",
       "      <th>raw_data_for_dryad.csv.zip</th>\n",
       "      <td>1</td>\n",
       "    </tr>\n",
       "    <tr>\n",
       "      <th>...</th>\n",
       "      <th>...</th>\n",
       "      <td>...</td>\n",
       "    </tr>\n",
       "    <tr>\n",
       "      <th rowspan=\"5\" valign=\"top\">79987</th>\n",
       "      <th>Tex_partitions.txt.best_model.nex_copy</th>\n",
       "      <td>1</td>\n",
       "    </tr>\n",
       "    <tr>\n",
       "      <th>Tex_partitions_6out.txt.contree.tre</th>\n",
       "      <td>1</td>\n",
       "    </tr>\n",
       "    <tr>\n",
       "      <th>Texella_alignments.zip</th>\n",
       "      <td>1</td>\n",
       "    </tr>\n",
       "    <tr>\n",
       "      <th>Texfull_concat.nex</th>\n",
       "      <td>1</td>\n",
       "    </tr>\n",
       "    <tr>\n",
       "      <th>partitions.Allsamples_txt.contree.tre</th>\n",
       "      <td>1</td>\n",
       "    </tr>\n",
       "  </tbody>\n",
       "</table>\n",
       "<p>2941 rows × 1 columns</p>\n",
       "</div>"
      ],
      "text/plain": [
       "                                              0\n",
       "id    path                                     \n",
       "493   README_for_consensus_data.docx          1\n",
       "      all_images.csv                          1\n",
       "      consensus_data.csv                      1\n",
       "      gold_standard_data.csv                  1\n",
       "      raw_data_for_dryad.csv.zip              1\n",
       "...                                          ..\n",
       "79987 Tex_partitions.txt.best_model.nex_copy  1\n",
       "      Tex_partitions_6out.txt.contree.tre     1\n",
       "      Texella_alignments.zip                  1\n",
       "      Texfull_concat.nex                      1\n",
       "      partitions.Allsamples_txt.contree.tre   1\n",
       "\n",
       "[2941 rows x 1 columns]"
      ]
     },
     "execution_count": 42,
     "metadata": {},
     "output_type": "execute_result"
    }
   ],
   "source": [
    "#group by ID to get count of records/components per object\n",
    "file_ids_grouped = files_ids.groupby('id').value_counts().to_frame()\n",
    "file_ids_grouped"
   ]
  },
  {
   "cell_type": "code",
   "execution_count": 43,
   "id": "d3d1ca41",
   "metadata": {},
   "outputs": [
    {
     "data": {
      "text/plain": [
       "id\n",
       "493       7\n",
       "665       1\n",
       "672       4\n",
       "775       2\n",
       "791      15\n",
       "         ..\n",
       "78183     1\n",
       "78209     1\n",
       "78239     2\n",
       "78962     2\n",
       "79987     8\n",
       "Length: 218, dtype: int64"
      ]
     },
     "execution_count": 43,
     "metadata": {},
     "output_type": "execute_result"
    }
   ],
   "source": [
    "file_ids_counts = file_ids_grouped.groupby('id').size()\n",
    "file_ids_counts"
   ]
  },
  {
   "cell_type": "code",
   "execution_count": 44,
   "id": "1804fb80",
   "metadata": {},
   "outputs": [
    {
     "data": {
      "text/html": [
       "<div>\n",
       "<style scoped>\n",
       "    .dataframe tbody tr th:only-of-type {\n",
       "        vertical-align: middle;\n",
       "    }\n",
       "\n",
       "    .dataframe tbody tr th {\n",
       "        vertical-align: top;\n",
       "    }\n",
       "\n",
       "    .dataframe thead th {\n",
       "        text-align: right;\n",
       "    }\n",
       "</style>\n",
       "<table border=\"1\" class=\"dataframe\">\n",
       "  <thead>\n",
       "    <tr style=\"text-align: right;\">\n",
       "      <th></th>\n",
       "      <th>id</th>\n",
       "      <th>path</th>\n",
       "    </tr>\n",
       "  </thead>\n",
       "  <tbody>\n",
       "    <tr>\n",
       "      <th>1793</th>\n",
       "      <td>493</td>\n",
       "      <td>consensus_data.csv</td>\n",
       "    </tr>\n",
       "    <tr>\n",
       "      <th>1797</th>\n",
       "      <td>493</td>\n",
       "      <td>README_for_raw_data_for_dryad.csv.docx</td>\n",
       "    </tr>\n",
       "    <tr>\n",
       "      <th>1796</th>\n",
       "      <td>493</td>\n",
       "      <td>raw_data_for_dryad.csv.zip</td>\n",
       "    </tr>\n",
       "    <tr>\n",
       "      <th>1795</th>\n",
       "      <td>493</td>\n",
       "      <td>all_images.csv</td>\n",
       "    </tr>\n",
       "    <tr>\n",
       "      <th>1794</th>\n",
       "      <td>493</td>\n",
       "      <td>README_for_consensus_data.docx</td>\n",
       "    </tr>\n",
       "    <tr>\n",
       "      <th>1792</th>\n",
       "      <td>493</td>\n",
       "      <td>search_effort.csv</td>\n",
       "    </tr>\n",
       "    <tr>\n",
       "      <th>1791</th>\n",
       "      <td>493</td>\n",
       "      <td>gold_standard_data.csv</td>\n",
       "    </tr>\n",
       "    <tr>\n",
       "      <th>646</th>\n",
       "      <td>665</td>\n",
       "      <td>raw_labels.csv</td>\n",
       "    </tr>\n",
       "    <tr>\n",
       "      <th>1615</th>\n",
       "      <td>672</td>\n",
       "      <td>Sankar_et_al_data_file_3.zip</td>\n",
       "    </tr>\n",
       "    <tr>\n",
       "      <th>1614</th>\n",
       "      <td>672</td>\n",
       "      <td>Sankar_et_al_data_file_2.zip</td>\n",
       "    </tr>\n",
       "  </tbody>\n",
       "</table>\n",
       "</div>"
      ],
      "text/plain": [
       "       id                                    path\n",
       "1793  493                      consensus_data.csv\n",
       "1797  493  README_for_raw_data_for_dryad.csv.docx\n",
       "1796  493              raw_data_for_dryad.csv.zip\n",
       "1795  493                          all_images.csv\n",
       "1794  493          README_for_consensus_data.docx\n",
       "1792  493                       search_effort.csv\n",
       "1791  493                  gold_standard_data.csv\n",
       "646   665                          raw_labels.csv\n",
       "1615  672            Sankar_et_al_data_file_3.zip\n",
       "1614  672            Sankar_et_al_data_file_2.zip"
      ]
     },
     "execution_count": 44,
     "metadata": {},
     "output_type": "execute_result"
    }
   ],
   "source": [
    "#confirm accuracy - can see that id 493 has 7 file components\n",
    "files_ids.sort_values('id').head(10)"
   ]
  },
  {
   "cell_type": "code",
   "execution_count": 45,
   "id": "ffd47065",
   "metadata": {},
   "outputs": [
    {
     "data": {
      "text/plain": [
       "{'mean': 13.490825688073395, 'median': 2.0, 'max': 617}"
      ]
     },
     "execution_count": 45,
     "metadata": {},
     "output_type": "execute_result"
    }
   ],
   "source": [
    "#get summary statistics\n",
    "analysis.get_summary_statistics(file_ids_counts)"
   ]
  },
  {
   "cell_type": "markdown",
   "id": "f9bead28",
   "metadata": {
    "pycharm": {
     "name": "#%% md\n"
    }
   },
   "source": [
    "## 8. What are the unweighted mean, median, and max *dataset* sizes (1 object size = sum of that object files) among all ingested objects?\n",
    "\n",
    "**Property:** Dataset size\n",
    "**Related function:** `get_summary_statistics`"
   ]
  },
  {
   "cell_type": "code",
   "execution_count": 46,
   "id": "4904884d",
   "metadata": {
    "pycharm": {
     "name": "#%%\n"
    }
   },
   "outputs": [
    {
     "data": {
      "text/plain": [
       "0       1769456\n",
       "1       1769456\n",
       "2       1769456\n",
       "3       1769456\n",
       "4         31656\n",
       "         ...   \n",
       "2971    1455995\n",
       "2972      89062\n",
       "2973    2432316\n",
       "2974    2432316\n",
       "2975    2432316\n",
       "Name: storageSize, Length: 2976, dtype: int64"
      ]
     },
     "execution_count": 46,
     "metadata": {},
     "output_type": "execute_result"
    }
   ],
   "source": [
    "dataset_sizes = df.DryadRecordsCrosswalk.dataset_size\n",
    "dataset_sizes"
   ]
  },
  {
   "cell_type": "code",
   "execution_count": 47,
   "id": "00578625",
   "metadata": {},
   "outputs": [
    {
     "data": {
      "text/html": [
       "<div>\n",
       "<style scoped>\n",
       "    .dataframe tbody tr th:only-of-type {\n",
       "        vertical-align: middle;\n",
       "    }\n",
       "\n",
       "    .dataframe tbody tr th {\n",
       "        vertical-align: top;\n",
       "    }\n",
       "\n",
       "    .dataframe thead th {\n",
       "        text-align: right;\n",
       "    }\n",
       "</style>\n",
       "<table border=\"1\" class=\"dataframe\">\n",
       "  <thead>\n",
       "    <tr style=\"text-align: right;\">\n",
       "      <th></th>\n",
       "      <th>id</th>\n",
       "      <th>storageSize</th>\n",
       "    </tr>\n",
       "  </thead>\n",
       "  <tbody>\n",
       "    <tr>\n",
       "      <th>0</th>\n",
       "      <td>28194</td>\n",
       "      <td>1769456</td>\n",
       "    </tr>\n",
       "    <tr>\n",
       "      <th>1</th>\n",
       "      <td>28194</td>\n",
       "      <td>1769456</td>\n",
       "    </tr>\n",
       "    <tr>\n",
       "      <th>2</th>\n",
       "      <td>28194</td>\n",
       "      <td>1769456</td>\n",
       "    </tr>\n",
       "    <tr>\n",
       "      <th>3</th>\n",
       "      <td>28194</td>\n",
       "      <td>1769456</td>\n",
       "    </tr>\n",
       "    <tr>\n",
       "      <th>4</th>\n",
       "      <td>17689</td>\n",
       "      <td>31656</td>\n",
       "    </tr>\n",
       "    <tr>\n",
       "      <th>...</th>\n",
       "      <td>...</td>\n",
       "      <td>...</td>\n",
       "    </tr>\n",
       "    <tr>\n",
       "      <th>2971</th>\n",
       "      <td>61800</td>\n",
       "      <td>1455995</td>\n",
       "    </tr>\n",
       "    <tr>\n",
       "      <th>2972</th>\n",
       "      <td>12676</td>\n",
       "      <td>89062</td>\n",
       "    </tr>\n",
       "    <tr>\n",
       "      <th>2973</th>\n",
       "      <td>37657</td>\n",
       "      <td>2432316</td>\n",
       "    </tr>\n",
       "    <tr>\n",
       "      <th>2974</th>\n",
       "      <td>37657</td>\n",
       "      <td>2432316</td>\n",
       "    </tr>\n",
       "    <tr>\n",
       "      <th>2975</th>\n",
       "      <td>37657</td>\n",
       "      <td>2432316</td>\n",
       "    </tr>\n",
       "  </tbody>\n",
       "</table>\n",
       "<p>2976 rows × 2 columns</p>\n",
       "</div>"
      ],
      "text/plain": [
       "         id  storageSize\n",
       "0     28194      1769456\n",
       "1     28194      1769456\n",
       "2     28194      1769456\n",
       "3     28194      1769456\n",
       "4     17689        31656\n",
       "...     ...          ...\n",
       "2971  61800      1455995\n",
       "2972  12676        89062\n",
       "2973  37657      2432316\n",
       "2974  37657      2432316\n",
       "2975  37657      2432316\n",
       "\n",
       "[2976 rows x 2 columns]"
      ]
     },
     "execution_count": 47,
     "metadata": {},
     "output_type": "execute_result"
    }
   ],
   "source": [
    "#since interested in per object, need to group by ID\n",
    "dataset_sizes_ids = pd.concat([ids, dataset_sizes], axis = 1)\n",
    "dataset_sizes_ids"
   ]
  },
  {
   "cell_type": "code",
   "execution_count": 48,
   "id": "11305003",
   "metadata": {},
   "outputs": [
    {
     "data": {
      "text/html": [
       "<div>\n",
       "<style scoped>\n",
       "    .dataframe tbody tr th:only-of-type {\n",
       "        vertical-align: middle;\n",
       "    }\n",
       "\n",
       "    .dataframe tbody tr th {\n",
       "        vertical-align: top;\n",
       "    }\n",
       "\n",
       "    .dataframe thead th {\n",
       "        text-align: right;\n",
       "    }\n",
       "</style>\n",
       "<table border=\"1\" class=\"dataframe\">\n",
       "  <thead>\n",
       "    <tr style=\"text-align: right;\">\n",
       "      <th></th>\n",
       "      <th>id</th>\n",
       "      <th>storageSize</th>\n",
       "    </tr>\n",
       "  </thead>\n",
       "  <tbody>\n",
       "    <tr>\n",
       "      <th>0</th>\n",
       "      <td>28194</td>\n",
       "      <td>1769456</td>\n",
       "    </tr>\n",
       "    <tr>\n",
       "      <th>4</th>\n",
       "      <td>17689</td>\n",
       "      <td>31656</td>\n",
       "    </tr>\n",
       "    <tr>\n",
       "      <th>5</th>\n",
       "      <td>67581</td>\n",
       "      <td>241082358</td>\n",
       "    </tr>\n",
       "    <tr>\n",
       "      <th>8</th>\n",
       "      <td>40246</td>\n",
       "      <td>141267</td>\n",
       "    </tr>\n",
       "    <tr>\n",
       "      <th>9</th>\n",
       "      <td>50040</td>\n",
       "      <td>240410779544</td>\n",
       "    </tr>\n",
       "    <tr>\n",
       "      <th>...</th>\n",
       "      <td>...</td>\n",
       "      <td>...</td>\n",
       "    </tr>\n",
       "    <tr>\n",
       "      <th>2935</th>\n",
       "      <td>27035</td>\n",
       "      <td>18363137</td>\n",
       "    </tr>\n",
       "    <tr>\n",
       "      <th>2964</th>\n",
       "      <td>23265</td>\n",
       "      <td>70472</td>\n",
       "    </tr>\n",
       "    <tr>\n",
       "      <th>2965</th>\n",
       "      <td>61800</td>\n",
       "      <td>1455995</td>\n",
       "    </tr>\n",
       "    <tr>\n",
       "      <th>2972</th>\n",
       "      <td>12676</td>\n",
       "      <td>89062</td>\n",
       "    </tr>\n",
       "    <tr>\n",
       "      <th>2973</th>\n",
       "      <td>37657</td>\n",
       "      <td>2432316</td>\n",
       "    </tr>\n",
       "  </tbody>\n",
       "</table>\n",
       "<p>219 rows × 2 columns</p>\n",
       "</div>"
      ],
      "text/plain": [
       "         id   storageSize\n",
       "0     28194       1769456\n",
       "4     17689         31656\n",
       "5     67581     241082358\n",
       "8     40246        141267\n",
       "9     50040  240410779544\n",
       "...     ...           ...\n",
       "2935  27035      18363137\n",
       "2964  23265         70472\n",
       "2965  61800       1455995\n",
       "2972  12676         89062\n",
       "2973  37657       2432316\n",
       "\n",
       "[219 rows x 2 columns]"
      ]
     },
     "execution_count": 48,
     "metadata": {},
     "output_type": "execute_result"
    }
   ],
   "source": [
    "#storage size appears to already be aggregated to ID - each unique ID has same storage size for each record within ID\n",
    "dataset_sizes_ids_unique = dataset_sizes_ids.drop_duplicates()\n",
    "dataset_sizes_ids_unique"
   ]
  },
  {
   "cell_type": "code",
   "execution_count": 49,
   "id": "bc7f4080",
   "metadata": {},
   "outputs": [],
   "source": [
    "#confirmed - unique storage size with ID is 219, the number of unique IDs"
   ]
  },
  {
   "cell_type": "code",
   "execution_count": 50,
   "id": "6f5ca86e",
   "metadata": {},
   "outputs": [
    {
     "data": {
      "text/plain": [
       "{'mean': 6277159593.812785, 'median': 20990220.0, 'max': 240410779544}"
      ]
     },
     "execution_count": 50,
     "metadata": {},
     "output_type": "execute_result"
    }
   ],
   "source": [
    "#summary stats for object size, across all objects\n",
    "analysis.get_summary_statistics(dataset_sizes_ids_unique['storageSize'])"
   ]
  },
  {
   "cell_type": "markdown",
   "id": "3410d1d2",
   "metadata": {
    "pycharm": {
     "name": "#%% md\n"
    }
   },
   "source": [
    "## 9. How many of each scientific domain are assigned?\n",
    "**Property:** Domain\n",
    "**Related function:** `domains.value_counts()`"
   ]
  },
  {
   "cell_type": "code",
   "execution_count": 51,
   "id": "0887968c",
   "metadata": {
    "pycharm": {
     "name": "#%%\n"
    }
   },
   "outputs": [
    {
     "data": {
      "text/plain": [
       "0       None\n",
       "1       None\n",
       "2       None\n",
       "3       None\n",
       "4       None\n",
       "        ... \n",
       "2971    None\n",
       "2972    None\n",
       "2973    None\n",
       "2974    None\n",
       "2975    None\n",
       "Name: fieldOfScience, Length: 2976, dtype: object"
      ]
     },
     "execution_count": 51,
     "metadata": {},
     "output_type": "execute_result"
    }
   ],
   "source": [
    "domains = df.DryadRecordsCrosswalk.domain\n",
    "domains"
   ]
  },
  {
   "cell_type": "code",
   "execution_count": 52,
   "id": "10c70ebf",
   "metadata": {},
   "outputs": [
    {
     "data": {
      "text/html": [
       "<div>\n",
       "<style scoped>\n",
       "    .dataframe tbody tr th:only-of-type {\n",
       "        vertical-align: middle;\n",
       "    }\n",
       "\n",
       "    .dataframe tbody tr th {\n",
       "        vertical-align: top;\n",
       "    }\n",
       "\n",
       "    .dataframe thead th {\n",
       "        text-align: right;\n",
       "    }\n",
       "</style>\n",
       "<table border=\"1\" class=\"dataframe\">\n",
       "  <thead>\n",
       "    <tr style=\"text-align: right;\">\n",
       "      <th></th>\n",
       "      <th>id</th>\n",
       "      <th>fieldOfScience</th>\n",
       "    </tr>\n",
       "  </thead>\n",
       "  <tbody>\n",
       "    <tr>\n",
       "      <th>0</th>\n",
       "      <td>28194</td>\n",
       "      <td>None</td>\n",
       "    </tr>\n",
       "    <tr>\n",
       "      <th>1</th>\n",
       "      <td>28194</td>\n",
       "      <td>None</td>\n",
       "    </tr>\n",
       "    <tr>\n",
       "      <th>2</th>\n",
       "      <td>28194</td>\n",
       "      <td>None</td>\n",
       "    </tr>\n",
       "    <tr>\n",
       "      <th>3</th>\n",
       "      <td>28194</td>\n",
       "      <td>None</td>\n",
       "    </tr>\n",
       "    <tr>\n",
       "      <th>4</th>\n",
       "      <td>17689</td>\n",
       "      <td>None</td>\n",
       "    </tr>\n",
       "    <tr>\n",
       "      <th>...</th>\n",
       "      <td>...</td>\n",
       "      <td>...</td>\n",
       "    </tr>\n",
       "    <tr>\n",
       "      <th>2971</th>\n",
       "      <td>61800</td>\n",
       "      <td>None</td>\n",
       "    </tr>\n",
       "    <tr>\n",
       "      <th>2972</th>\n",
       "      <td>12676</td>\n",
       "      <td>None</td>\n",
       "    </tr>\n",
       "    <tr>\n",
       "      <th>2973</th>\n",
       "      <td>37657</td>\n",
       "      <td>None</td>\n",
       "    </tr>\n",
       "    <tr>\n",
       "      <th>2974</th>\n",
       "      <td>37657</td>\n",
       "      <td>None</td>\n",
       "    </tr>\n",
       "    <tr>\n",
       "      <th>2975</th>\n",
       "      <td>37657</td>\n",
       "      <td>None</td>\n",
       "    </tr>\n",
       "  </tbody>\n",
       "</table>\n",
       "<p>2976 rows × 2 columns</p>\n",
       "</div>"
      ],
      "text/plain": [
       "         id fieldOfScience\n",
       "0     28194           None\n",
       "1     28194           None\n",
       "2     28194           None\n",
       "3     28194           None\n",
       "4     17689           None\n",
       "...     ...            ...\n",
       "2971  61800           None\n",
       "2972  12676           None\n",
       "2973  37657           None\n",
       "2974  37657           None\n",
       "2975  37657           None\n",
       "\n",
       "[2976 rows x 2 columns]"
      ]
     },
     "execution_count": 52,
     "metadata": {},
     "output_type": "execute_result"
    }
   ],
   "source": [
    "#domains likely to be at object level, so need to group by ID\n",
    "domains_ids = pd.concat([ids, domains], axis = 1)\n",
    "domains_ids"
   ]
  },
  {
   "cell_type": "code",
   "execution_count": 53,
   "id": "5cf31d3f",
   "metadata": {},
   "outputs": [
    {
     "data": {
      "text/html": [
       "<div>\n",
       "<style scoped>\n",
       "    .dataframe tbody tr th:only-of-type {\n",
       "        vertical-align: middle;\n",
       "    }\n",
       "\n",
       "    .dataframe tbody tr th {\n",
       "        vertical-align: top;\n",
       "    }\n",
       "\n",
       "    .dataframe thead th {\n",
       "        text-align: right;\n",
       "    }\n",
       "</style>\n",
       "<table border=\"1\" class=\"dataframe\">\n",
       "  <thead>\n",
       "    <tr style=\"text-align: right;\">\n",
       "      <th></th>\n",
       "      <th>id</th>\n",
       "      <th>fieldOfScience</th>\n",
       "    </tr>\n",
       "  </thead>\n",
       "  <tbody>\n",
       "    <tr>\n",
       "      <th>0</th>\n",
       "      <td>28194</td>\n",
       "      <td>None</td>\n",
       "    </tr>\n",
       "    <tr>\n",
       "      <th>4</th>\n",
       "      <td>17689</td>\n",
       "      <td>None</td>\n",
       "    </tr>\n",
       "    <tr>\n",
       "      <th>5</th>\n",
       "      <td>67581</td>\n",
       "      <td>Physical sciences</td>\n",
       "    </tr>\n",
       "    <tr>\n",
       "      <th>8</th>\n",
       "      <td>40246</td>\n",
       "      <td>None</td>\n",
       "    </tr>\n",
       "    <tr>\n",
       "      <th>9</th>\n",
       "      <td>50040</td>\n",
       "      <td>None</td>\n",
       "    </tr>\n",
       "    <tr>\n",
       "      <th>...</th>\n",
       "      <td>...</td>\n",
       "      <td>...</td>\n",
       "    </tr>\n",
       "    <tr>\n",
       "      <th>2935</th>\n",
       "      <td>27035</td>\n",
       "      <td>None</td>\n",
       "    </tr>\n",
       "    <tr>\n",
       "      <th>2964</th>\n",
       "      <td>23265</td>\n",
       "      <td>None</td>\n",
       "    </tr>\n",
       "    <tr>\n",
       "      <th>2965</th>\n",
       "      <td>61800</td>\n",
       "      <td>None</td>\n",
       "    </tr>\n",
       "    <tr>\n",
       "      <th>2972</th>\n",
       "      <td>12676</td>\n",
       "      <td>None</td>\n",
       "    </tr>\n",
       "    <tr>\n",
       "      <th>2973</th>\n",
       "      <td>37657</td>\n",
       "      <td>None</td>\n",
       "    </tr>\n",
       "  </tbody>\n",
       "</table>\n",
       "<p>219 rows × 2 columns</p>\n",
       "</div>"
      ],
      "text/plain": [
       "         id     fieldOfScience\n",
       "0     28194               None\n",
       "4     17689               None\n",
       "5     67581  Physical sciences\n",
       "8     40246               None\n",
       "9     50040               None\n",
       "...     ...                ...\n",
       "2935  27035               None\n",
       "2964  23265               None\n",
       "2965  61800               None\n",
       "2972  12676               None\n",
       "2973  37657               None\n",
       "\n",
       "[219 rows x 2 columns]"
      ]
     },
     "execution_count": 53,
     "metadata": {},
     "output_type": "execute_result"
    }
   ],
   "source": [
    "#drop duplicates\n",
    "domains_ids = domains_ids.drop_duplicates()\n",
    "domains_ids"
   ]
  },
  {
   "cell_type": "code",
   "execution_count": 54,
   "id": "8944b74f",
   "metadata": {},
   "outputs": [
    {
     "data": {
      "text/plain": [
       "0                    None\n",
       "4                    None\n",
       "5       Physical sciences\n",
       "8                    None\n",
       "9                    None\n",
       "              ...        \n",
       "2935                 None\n",
       "2964                 None\n",
       "2965                 None\n",
       "2972                 None\n",
       "2973                 None\n",
       "Name: fieldOfScience, Length: 219, dtype: object"
      ]
     },
     "execution_count": 54,
     "metadata": {},
     "output_type": "execute_result"
    }
   ],
   "source": [
    "domains_ids = domains_ids['fieldOfScience']\n",
    "domains_ids"
   ]
  },
  {
   "cell_type": "code",
   "execution_count": 55,
   "id": "7673bd3c",
   "metadata": {
    "scrolled": true
   },
   "outputs": [
    {
     "data": {
      "text/html": [
       "<div>\n",
       "<style scoped>\n",
       "    .dataframe tbody tr th:only-of-type {\n",
       "        vertical-align: middle;\n",
       "    }\n",
       "\n",
       "    .dataframe tbody tr th {\n",
       "        vertical-align: top;\n",
       "    }\n",
       "\n",
       "    .dataframe thead th {\n",
       "        text-align: right;\n",
       "    }\n",
       "</style>\n",
       "<table border=\"1\" class=\"dataframe\">\n",
       "  <thead>\n",
       "    <tr style=\"text-align: right;\">\n",
       "      <th></th>\n",
       "      <th>fieldOfScience</th>\n",
       "      <th>percent</th>\n",
       "    </tr>\n",
       "  </thead>\n",
       "  <tbody>\n",
       "    <tr>\n",
       "      <th>Biological sciences</th>\n",
       "      <td>16</td>\n",
       "      <td>7.305936</td>\n",
       "    </tr>\n",
       "    <tr>\n",
       "      <th>Computer and information sciences</th>\n",
       "      <td>8</td>\n",
       "      <td>3.652968</td>\n",
       "    </tr>\n",
       "    <tr>\n",
       "      <th>Earth and related environmental sciences</th>\n",
       "      <td>3</td>\n",
       "      <td>1.369863</td>\n",
       "    </tr>\n",
       "    <tr>\n",
       "      <th>Clinical medicine</th>\n",
       "      <td>3</td>\n",
       "      <td>1.369863</td>\n",
       "    </tr>\n",
       "    <tr>\n",
       "      <th>Medical and health sciences</th>\n",
       "      <td>3</td>\n",
       "      <td>1.369863</td>\n",
       "    </tr>\n",
       "    <tr>\n",
       "      <th>Physical sciences</th>\n",
       "      <td>2</td>\n",
       "      <td>0.913242</td>\n",
       "    </tr>\n",
       "    <tr>\n",
       "      <th>Agriculture, forestry, and fisheries</th>\n",
       "      <td>2</td>\n",
       "      <td>0.913242</td>\n",
       "    </tr>\n",
       "    <tr>\n",
       "      <th>Health sciences</th>\n",
       "      <td>2</td>\n",
       "      <td>0.913242</td>\n",
       "    </tr>\n",
       "    <tr>\n",
       "      <th>Environmental engineering</th>\n",
       "      <td>2</td>\n",
       "      <td>0.913242</td>\n",
       "    </tr>\n",
       "    <tr>\n",
       "      <th>Civil engineering</th>\n",
       "      <td>1</td>\n",
       "      <td>0.456621</td>\n",
       "    </tr>\n",
       "    <tr>\n",
       "      <th>Chemical engineering</th>\n",
       "      <td>1</td>\n",
       "      <td>0.456621</td>\n",
       "    </tr>\n",
       "    <tr>\n",
       "      <th>Social and economic geography</th>\n",
       "      <td>1</td>\n",
       "      <td>0.456621</td>\n",
       "    </tr>\n",
       "    <tr>\n",
       "      <th>Natural sciences</th>\n",
       "      <td>1</td>\n",
       "      <td>0.456621</td>\n",
       "    </tr>\n",
       "  </tbody>\n",
       "</table>\n",
       "</div>"
      ],
      "text/plain": [
       "                                          fieldOfScience   percent\n",
       "Biological sciences                                   16  7.305936\n",
       "Computer and information sciences                      8  3.652968\n",
       "Earth and related environmental sciences               3  1.369863\n",
       "Clinical medicine                                      3  1.369863\n",
       "Medical and health sciences                            3  1.369863\n",
       "Physical sciences                                      2  0.913242\n",
       "Agriculture, forestry, and fisheries                   2  0.913242\n",
       "Health sciences                                        2  0.913242\n",
       "Environmental engineering                              2  0.913242\n",
       "Civil engineering                                      1  0.456621\n",
       "Chemical engineering                                   1  0.456621\n",
       "Social and economic geography                          1  0.456621\n",
       "Natural sciences                                       1  0.456621"
      ]
     },
     "execution_count": 55,
     "metadata": {},
     "output_type": "execute_result"
    }
   ],
   "source": [
    "domains_counts = domains_ids.value_counts().to_frame()\n",
    "domains_counts['percent'] = domains_counts/len(domains_ids) * 100\n",
    "domains_counts"
   ]
  },
  {
   "cell_type": "markdown",
   "id": "4aaade4b",
   "metadata": {
    "pycharm": {
     "name": "#%% md\n"
    }
   },
   "source": [
    "## 10. What is the mean number of characters (excluding whitespaces, if possible) of usage notes per object?\n",
    "**Property:** Technical details\n",
    "**Related function:** `mean_characters`"
   ]
  },
  {
   "cell_type": "code",
   "execution_count": 56,
   "id": "efcd9ff0",
   "metadata": {
    "pycharm": {
     "name": "#%%\n"
    }
   },
   "outputs": [],
   "source": [
    "# \"usage notes\" is not in crosswalk - need to return to"
   ]
  },
  {
   "cell_type": "markdown",
   "id": "fe16a590",
   "metadata": {
    "pycharm": {
     "name": "#%% md\n"
    }
   },
   "source": [
    "## 11-13. What are the mean and median total number of keyword terms per object, after merging results for Keyword, Geographic keyword, and Scientific keyword?\n",
    "**Property:** Keyword"
   ]
  },
  {
   "cell_type": "code",
   "execution_count": 57,
   "id": "4ef64ade",
   "metadata": {},
   "outputs": [
    {
     "name": "stdout",
     "output_type": "stream",
     "text": [
      "0       [Paranonychidae, integrative taxonomy, Neogene...\n",
      "1       [Paranonychidae, integrative taxonomy, Neogene...\n",
      "2       [Paranonychidae, integrative taxonomy, Neogene...\n",
      "3       [Paranonychidae, integrative taxonomy, Neogene...\n",
      "4       [cornea thickness, RNFL, glaucoma, ocular pres...\n",
      "                              ...                        \n",
      "2971    [Biodiversity correlates, climate stability, P...\n",
      "2972                                                 None\n",
      "2973    [Big Data, cyberspecimen, omics, repositories,...\n",
      "2974    [Big Data, cyberspecimen, omics, repositories,...\n",
      "2975    [Big Data, cyberspecimen, omics, repositories,...\n",
      "Name: keywords, Length: 2976, dtype: object\n"
     ]
    }
   ],
   "source": [
    "print(df.DryadRecordsCrosswalk.keyword)"
   ]
  },
  {
   "cell_type": "code",
   "execution_count": 58,
   "id": "7f2e0b14",
   "metadata": {},
   "outputs": [
    {
     "name": "stdout",
     "output_type": "stream",
     "text": [
      "0       [western North America]\n",
      "1       [western North America]\n",
      "2       [western North America]\n",
      "3       [western North America]\n",
      "4                          None\n",
      "                 ...           \n",
      "2971                       None\n",
      "2972                       None\n",
      "2973                       None\n",
      "2974                       None\n",
      "2975                       None\n",
      "Name: locations, Length: 2976, dtype: object\n"
     ]
    }
   ],
   "source": [
    "print(df.DryadRecordsCrosswalk.geographic_keyword)"
   ]
  },
  {
   "cell_type": "code",
   "execution_count": 59,
   "id": "5fab9b1a",
   "metadata": {},
   "outputs": [
    {
     "name": "stdout",
     "output_type": "stream",
     "text": [
      "None\n"
     ]
    }
   ],
   "source": [
    "print(df.DryadRecordsCrosswalk.scientific_keyword)"
   ]
  },
  {
   "cell_type": "code",
   "execution_count": 60,
   "id": "129abc08",
   "metadata": {},
   "outputs": [],
   "source": [
    "#create and concatenate unique keywords fields\n",
    "keywords1 = df.DryadRecordsCrosswalk.keyword\n",
    "keywords2 = df.DryadRecordsCrosswalk.geographic_keyword"
   ]
  },
  {
   "cell_type": "code",
   "execution_count": 61,
   "id": "2cddbc1f",
   "metadata": {},
   "outputs": [
    {
     "data": {
      "text/html": [
       "<div>\n",
       "<style scoped>\n",
       "    .dataframe tbody tr th:only-of-type {\n",
       "        vertical-align: middle;\n",
       "    }\n",
       "\n",
       "    .dataframe tbody tr th {\n",
       "        vertical-align: top;\n",
       "    }\n",
       "\n",
       "    .dataframe thead th {\n",
       "        text-align: right;\n",
       "    }\n",
       "</style>\n",
       "<table border=\"1\" class=\"dataframe\">\n",
       "  <thead>\n",
       "    <tr style=\"text-align: right;\">\n",
       "      <th></th>\n",
       "      <th>id</th>\n",
       "      <th>keywords</th>\n",
       "      <th>locations</th>\n",
       "    </tr>\n",
       "  </thead>\n",
       "  <tbody>\n",
       "    <tr>\n",
       "      <th>0</th>\n",
       "      <td>28194</td>\n",
       "      <td>[Paranonychidae, integrative taxonomy, Neogene...</td>\n",
       "      <td>[western North America]</td>\n",
       "    </tr>\n",
       "    <tr>\n",
       "      <th>1</th>\n",
       "      <td>28194</td>\n",
       "      <td>[Paranonychidae, integrative taxonomy, Neogene...</td>\n",
       "      <td>[western North America]</td>\n",
       "    </tr>\n",
       "    <tr>\n",
       "      <th>2</th>\n",
       "      <td>28194</td>\n",
       "      <td>[Paranonychidae, integrative taxonomy, Neogene...</td>\n",
       "      <td>[western North America]</td>\n",
       "    </tr>\n",
       "    <tr>\n",
       "      <th>3</th>\n",
       "      <td>28194</td>\n",
       "      <td>[Paranonychidae, integrative taxonomy, Neogene...</td>\n",
       "      <td>[western North America]</td>\n",
       "    </tr>\n",
       "    <tr>\n",
       "      <th>4</th>\n",
       "      <td>17689</td>\n",
       "      <td>[cornea thickness, RNFL, glaucoma, ocular pres...</td>\n",
       "      <td>None</td>\n",
       "    </tr>\n",
       "    <tr>\n",
       "      <th>...</th>\n",
       "      <td>...</td>\n",
       "      <td>...</td>\n",
       "      <td>...</td>\n",
       "    </tr>\n",
       "    <tr>\n",
       "      <th>2971</th>\n",
       "      <td>61800</td>\n",
       "      <td>[Biodiversity correlates, climate stability, P...</td>\n",
       "      <td>None</td>\n",
       "    </tr>\n",
       "    <tr>\n",
       "      <th>2972</th>\n",
       "      <td>12676</td>\n",
       "      <td>None</td>\n",
       "      <td>None</td>\n",
       "    </tr>\n",
       "    <tr>\n",
       "      <th>2973</th>\n",
       "      <td>37657</td>\n",
       "      <td>[Big Data, cyberspecimen, omics, repositories,...</td>\n",
       "      <td>None</td>\n",
       "    </tr>\n",
       "    <tr>\n",
       "      <th>2974</th>\n",
       "      <td>37657</td>\n",
       "      <td>[Big Data, cyberspecimen, omics, repositories,...</td>\n",
       "      <td>None</td>\n",
       "    </tr>\n",
       "    <tr>\n",
       "      <th>2975</th>\n",
       "      <td>37657</td>\n",
       "      <td>[Big Data, cyberspecimen, omics, repositories,...</td>\n",
       "      <td>None</td>\n",
       "    </tr>\n",
       "  </tbody>\n",
       "</table>\n",
       "<p>2976 rows × 3 columns</p>\n",
       "</div>"
      ],
      "text/plain": [
       "         id                                           keywords  \\\n",
       "0     28194  [Paranonychidae, integrative taxonomy, Neogene...   \n",
       "1     28194  [Paranonychidae, integrative taxonomy, Neogene...   \n",
       "2     28194  [Paranonychidae, integrative taxonomy, Neogene...   \n",
       "3     28194  [Paranonychidae, integrative taxonomy, Neogene...   \n",
       "4     17689  [cornea thickness, RNFL, glaucoma, ocular pres...   \n",
       "...     ...                                                ...   \n",
       "2971  61800  [Biodiversity correlates, climate stability, P...   \n",
       "2972  12676                                               None   \n",
       "2973  37657  [Big Data, cyberspecimen, omics, repositories,...   \n",
       "2974  37657  [Big Data, cyberspecimen, omics, repositories,...   \n",
       "2975  37657  [Big Data, cyberspecimen, omics, repositories,...   \n",
       "\n",
       "                    locations  \n",
       "0     [western North America]  \n",
       "1     [western North America]  \n",
       "2     [western North America]  \n",
       "3     [western North America]  \n",
       "4                        None  \n",
       "...                       ...  \n",
       "2971                     None  \n",
       "2972                     None  \n",
       "2973                     None  \n",
       "2974                     None  \n",
       "2975                     None  \n",
       "\n",
       "[2976 rows x 3 columns]"
      ]
     },
     "execution_count": 61,
     "metadata": {},
     "output_type": "execute_result"
    }
   ],
   "source": [
    "keywords_all = pd.concat([keywords1, keywords2], axis = 1)\n",
    "keywords_all = pd.concat([ids, keywords_all], axis = 1)\n",
    "keywords_all"
   ]
  },
  {
   "cell_type": "code",
   "execution_count": 62,
   "id": "57db2e17",
   "metadata": {},
   "outputs": [
    {
     "data": {
      "text/html": [
       "<div>\n",
       "<style scoped>\n",
       "    .dataframe tbody tr th:only-of-type {\n",
       "        vertical-align: middle;\n",
       "    }\n",
       "\n",
       "    .dataframe tbody tr th {\n",
       "        vertical-align: top;\n",
       "    }\n",
       "\n",
       "    .dataframe thead th {\n",
       "        text-align: right;\n",
       "    }\n",
       "</style>\n",
       "<table border=\"1\" class=\"dataframe\">\n",
       "  <thead>\n",
       "    <tr style=\"text-align: right;\">\n",
       "      <th></th>\n",
       "      <th>id</th>\n",
       "      <th>keywords</th>\n",
       "      <th>locations</th>\n",
       "    </tr>\n",
       "  </thead>\n",
       "  <tbody>\n",
       "    <tr>\n",
       "      <th>0</th>\n",
       "      <td>28194</td>\n",
       "      <td>[Paranonychidae, integrative taxonomy, Neogene...</td>\n",
       "      <td>[western North America]</td>\n",
       "    </tr>\n",
       "    <tr>\n",
       "      <th>1</th>\n",
       "      <td>28194</td>\n",
       "      <td>[Paranonychidae, integrative taxonomy, Neogene...</td>\n",
       "      <td>[western North America]</td>\n",
       "    </tr>\n",
       "    <tr>\n",
       "      <th>2</th>\n",
       "      <td>28194</td>\n",
       "      <td>[Paranonychidae, integrative taxonomy, Neogene...</td>\n",
       "      <td>[western North America]</td>\n",
       "    </tr>\n",
       "    <tr>\n",
       "      <th>3</th>\n",
       "      <td>28194</td>\n",
       "      <td>[Paranonychidae, integrative taxonomy, Neogene...</td>\n",
       "      <td>[western North America]</td>\n",
       "    </tr>\n",
       "    <tr>\n",
       "      <th>4</th>\n",
       "      <td>17689</td>\n",
       "      <td>[cornea thickness, RNFL, glaucoma, ocular pres...</td>\n",
       "      <td>[]</td>\n",
       "    </tr>\n",
       "    <tr>\n",
       "      <th>...</th>\n",
       "      <td>...</td>\n",
       "      <td>...</td>\n",
       "      <td>...</td>\n",
       "    </tr>\n",
       "    <tr>\n",
       "      <th>2971</th>\n",
       "      <td>61800</td>\n",
       "      <td>[Biodiversity correlates, climate stability, P...</td>\n",
       "      <td>[]</td>\n",
       "    </tr>\n",
       "    <tr>\n",
       "      <th>2972</th>\n",
       "      <td>12676</td>\n",
       "      <td>[]</td>\n",
       "      <td>[]</td>\n",
       "    </tr>\n",
       "    <tr>\n",
       "      <th>2973</th>\n",
       "      <td>37657</td>\n",
       "      <td>[Big Data, cyberspecimen, omics, repositories,...</td>\n",
       "      <td>[]</td>\n",
       "    </tr>\n",
       "    <tr>\n",
       "      <th>2974</th>\n",
       "      <td>37657</td>\n",
       "      <td>[Big Data, cyberspecimen, omics, repositories,...</td>\n",
       "      <td>[]</td>\n",
       "    </tr>\n",
       "    <tr>\n",
       "      <th>2975</th>\n",
       "      <td>37657</td>\n",
       "      <td>[Big Data, cyberspecimen, omics, repositories,...</td>\n",
       "      <td>[]</td>\n",
       "    </tr>\n",
       "  </tbody>\n",
       "</table>\n",
       "<p>2976 rows × 3 columns</p>\n",
       "</div>"
      ],
      "text/plain": [
       "         id                                           keywords  \\\n",
       "0     28194  [Paranonychidae, integrative taxonomy, Neogene...   \n",
       "1     28194  [Paranonychidae, integrative taxonomy, Neogene...   \n",
       "2     28194  [Paranonychidae, integrative taxonomy, Neogene...   \n",
       "3     28194  [Paranonychidae, integrative taxonomy, Neogene...   \n",
       "4     17689  [cornea thickness, RNFL, glaucoma, ocular pres...   \n",
       "...     ...                                                ...   \n",
       "2971  61800  [Biodiversity correlates, climate stability, P...   \n",
       "2972  12676                                                 []   \n",
       "2973  37657  [Big Data, cyberspecimen, omics, repositories,...   \n",
       "2974  37657  [Big Data, cyberspecimen, omics, repositories,...   \n",
       "2975  37657  [Big Data, cyberspecimen, omics, repositories,...   \n",
       "\n",
       "                    locations  \n",
       "0     [western North America]  \n",
       "1     [western North America]  \n",
       "2     [western North America]  \n",
       "3     [western North America]  \n",
       "4                          []  \n",
       "...                       ...  \n",
       "2971                       []  \n",
       "2972                       []  \n",
       "2973                       []  \n",
       "2974                       []  \n",
       "2975                       []  \n",
       "\n",
       "[2976 rows x 3 columns]"
      ]
     },
     "execution_count": 62,
     "metadata": {},
     "output_type": "execute_result"
    }
   ],
   "source": [
    "#replace the None values with empty lists so the count of string values evaluates to 0\n",
    "keywords_all = keywords_all.apply(\n",
    "    lambda row: row.apply(\n",
    "        lambda cell: cell if cell else []\n",
    "    ),\n",
    "    axis=1\n",
    ")\n",
    "keywords_all"
   ]
  },
  {
   "cell_type": "code",
   "execution_count": 63,
   "id": "d2260205",
   "metadata": {},
   "outputs": [
    {
     "data": {
      "text/html": [
       "<div>\n",
       "<style scoped>\n",
       "    .dataframe tbody tr th:only-of-type {\n",
       "        vertical-align: middle;\n",
       "    }\n",
       "\n",
       "    .dataframe tbody tr th {\n",
       "        vertical-align: top;\n",
       "    }\n",
       "\n",
       "    .dataframe thead th {\n",
       "        text-align: right;\n",
       "    }\n",
       "</style>\n",
       "<table border=\"1\" class=\"dataframe\">\n",
       "  <thead>\n",
       "    <tr style=\"text-align: right;\">\n",
       "      <th></th>\n",
       "      <th>keywords</th>\n",
       "      <th>locations</th>\n",
       "    </tr>\n",
       "    <tr>\n",
       "      <th>id</th>\n",
       "      <th></th>\n",
       "      <th></th>\n",
       "    </tr>\n",
       "  </thead>\n",
       "  <tbody>\n",
       "    <tr>\n",
       "      <th>493</th>\n",
       "      <td>[Canis, Alcelaphus buselaphus, Numidia meleagr...</td>\n",
       "      <td>[Serengeti National Park, Tanzania, Serengeti-...</td>\n",
       "    </tr>\n",
       "    <tr>\n",
       "      <th>665</th>\n",
       "      <td>[]</td>\n",
       "      <td>[]</td>\n",
       "    </tr>\n",
       "    <tr>\n",
       "      <th>672</th>\n",
       "      <td>[Arabidopsis thaliana, cellular features, seco...</td>\n",
       "      <td>[]</td>\n",
       "    </tr>\n",
       "    <tr>\n",
       "      <th>775</th>\n",
       "      <td>[]</td>\n",
       "      <td>[]</td>\n",
       "    </tr>\n",
       "    <tr>\n",
       "      <th>791</th>\n",
       "      <td>[beta lactamase, CTX-M9]</td>\n",
       "      <td>[]</td>\n",
       "    </tr>\n",
       "    <tr>\n",
       "      <th>...</th>\n",
       "      <td>...</td>\n",
       "      <td>...</td>\n",
       "    </tr>\n",
       "    <tr>\n",
       "      <th>78183</th>\n",
       "      <td>[]</td>\n",
       "      <td>[]</td>\n",
       "    </tr>\n",
       "    <tr>\n",
       "      <th>78209</th>\n",
       "      <td>[]</td>\n",
       "      <td>[]</td>\n",
       "    </tr>\n",
       "    <tr>\n",
       "      <th>78239</th>\n",
       "      <td>[]</td>\n",
       "      <td>[]</td>\n",
       "    </tr>\n",
       "    <tr>\n",
       "      <th>78962</th>\n",
       "      <td>[Diagonal of Open Formations, Neotropics, rang...</td>\n",
       "      <td>[]</td>\n",
       "    </tr>\n",
       "    <tr>\n",
       "      <th>79987</th>\n",
       "      <td>[]</td>\n",
       "      <td>[]</td>\n",
       "    </tr>\n",
       "  </tbody>\n",
       "</table>\n",
       "<p>219 rows × 2 columns</p>\n",
       "</div>"
      ],
      "text/plain": [
       "                                                keywords  \\\n",
       "id                                                         \n",
       "493    [Canis, Alcelaphus buselaphus, Numidia meleagr...   \n",
       "665                                                   []   \n",
       "672    [Arabidopsis thaliana, cellular features, seco...   \n",
       "775                                                   []   \n",
       "791                             [beta lactamase, CTX-M9]   \n",
       "...                                                  ...   \n",
       "78183                                                 []   \n",
       "78209                                                 []   \n",
       "78239                                                 []   \n",
       "78962  [Diagonal of Open Formations, Neotropics, rang...   \n",
       "79987                                                 []   \n",
       "\n",
       "                                               locations  \n",
       "id                                                        \n",
       "493    [Serengeti National Park, Tanzania, Serengeti-...  \n",
       "665                                                   []  \n",
       "672                                                   []  \n",
       "775                                                   []  \n",
       "791                                                   []  \n",
       "...                                                  ...  \n",
       "78183                                                 []  \n",
       "78209                                                 []  \n",
       "78239                                                 []  \n",
       "78962                                                 []  \n",
       "79987                                                 []  \n",
       "\n",
       "[219 rows x 2 columns]"
      ]
     },
     "execution_count": 63,
     "metadata": {},
     "output_type": "execute_result"
    }
   ],
   "source": [
    "#pandas df is picky about dropping duplicates when have lists in column\n",
    "#so keep just first row for each ID\n",
    "keywords_unique = keywords_all.groupby('id').first()\n",
    "keywords_unique"
   ]
  },
  {
   "cell_type": "code",
   "execution_count": 64,
   "id": "09b245ea",
   "metadata": {},
   "outputs": [
    {
     "data": {
      "text/plain": [
       "id\n",
       "493      48\n",
       "665       0\n",
       "672       4\n",
       "775       0\n",
       "791       2\n",
       "         ..\n",
       "78183     0\n",
       "78209     0\n",
       "78239     0\n",
       "78962     5\n",
       "79987     0\n",
       "Length: 219, dtype: int64"
      ]
     },
     "execution_count": 64,
     "metadata": {},
     "output_type": "execute_result"
    }
   ],
   "source": [
    "#count keywords for each id (each row)\n",
    "keyword_counts = keywords_unique.apply(\n",
    "    lambda row: sum([len(row[entry]) for entry in keywords_unique.columns if row[entry]]),\n",
    "    axis=1\n",
    ")\n",
    "keyword_counts"
   ]
  },
  {
   "cell_type": "code",
   "execution_count": 65,
   "id": "e76dad3d",
   "metadata": {},
   "outputs": [
    {
     "data": {
      "text/plain": [
       "{'mean': 4.063926940639269, 'median': 3.0, 'max': 92}"
      ]
     },
     "execution_count": 65,
     "metadata": {},
     "output_type": "execute_result"
    }
   ],
   "source": [
    "#get summary statistics\n",
    "analysis.get_summary_statistics(keyword_counts)"
   ]
  },
  {
   "cell_type": "markdown",
   "id": "bb9a4ddb",
   "metadata": {},
   "source": [
    "#### confirm calculation accuracy - counting keyword phrases, not each individual word"
   ]
  },
  {
   "cell_type": "code",
   "execution_count": 66,
   "id": "81da2e2c",
   "metadata": {},
   "outputs": [
    {
     "data": {
      "text/plain": [
       "['Salmo salar', 'SNP Selection', 'Individual Assignment']"
      ]
     },
     "execution_count": 66,
     "metadata": {},
     "output_type": "execute_result"
    }
   ],
   "source": [
    "keywords_unique.iloc[7]['keywords']"
   ]
  },
  {
   "cell_type": "code",
   "execution_count": 67,
   "id": "11c15a6d",
   "metadata": {},
   "outputs": [
    {
     "data": {
      "text/plain": [
       "3"
      ]
     },
     "execution_count": 67,
     "metadata": {},
     "output_type": "execute_result"
    }
   ],
   "source": [
    "len(keywords_unique.iloc[7]['keywords'])"
   ]
  },
  {
   "cell_type": "code",
   "execution_count": 68,
   "id": "27b7976a",
   "metadata": {},
   "outputs": [
    {
     "data": {
      "text/plain": [
       "['Labrador']"
      ]
     },
     "execution_count": 68,
     "metadata": {},
     "output_type": "execute_result"
    }
   ],
   "source": [
    "keywords_unique.iloc[7]['locations']"
   ]
  },
  {
   "cell_type": "code",
   "execution_count": 69,
   "id": "ed2853f7",
   "metadata": {},
   "outputs": [
    {
     "data": {
      "text/plain": [
       "1"
      ]
     },
     "execution_count": 69,
     "metadata": {},
     "output_type": "execute_result"
    }
   ],
   "source": [
    "len(keywords_unique.iloc[7]['locations'])"
   ]
  },
  {
   "cell_type": "markdown",
   "id": "905fe875",
   "metadata": {
    "pycharm": {
     "name": "#%% md\n"
    }
   },
   "source": [
    "## 14. Who are the most common funding agencies for each repo? What are the object counts per agency?\n",
    "**Property:** Funding Agency"
   ]
  },
  {
   "cell_type": "code",
   "execution_count": 70,
   "id": "a5b952d4",
   "metadata": {
    "pycharm": {
     "name": "#%%\n"
    }
   },
   "outputs": [
    {
     "data": {
      "text/plain": [
       "0                           [National Science Foundation]\n",
       "1                           [National Science Foundation]\n",
       "2                           [National Science Foundation]\n",
       "3                           [National Science Foundation]\n",
       "4                                                    None\n",
       "                              ...                        \n",
       "2971    [Fulbright Colombia, Fundação de Amparo à Pesq...\n",
       "2972                                                 None\n",
       "2973                                                 None\n",
       "2974                                                 None\n",
       "2975                                                 None\n",
       "Name: funders, Length: 2976, dtype: object"
      ]
     },
     "execution_count": 70,
     "metadata": {},
     "output_type": "execute_result"
    }
   ],
   "source": [
    "funders = df.DryadRecordsCrosswalk.funding_agency\n",
    "funders"
   ]
  },
  {
   "cell_type": "code",
   "execution_count": 71,
   "id": "68137d64",
   "metadata": {},
   "outputs": [
    {
     "data": {
      "text/html": [
       "<div>\n",
       "<style scoped>\n",
       "    .dataframe tbody tr th:only-of-type {\n",
       "        vertical-align: middle;\n",
       "    }\n",
       "\n",
       "    .dataframe tbody tr th {\n",
       "        vertical-align: top;\n",
       "    }\n",
       "\n",
       "    .dataframe thead th {\n",
       "        text-align: right;\n",
       "    }\n",
       "</style>\n",
       "<table border=\"1\" class=\"dataframe\">\n",
       "  <thead>\n",
       "    <tr style=\"text-align: right;\">\n",
       "      <th></th>\n",
       "      <th>id</th>\n",
       "      <th>funders</th>\n",
       "    </tr>\n",
       "  </thead>\n",
       "  <tbody>\n",
       "    <tr>\n",
       "      <th>0</th>\n",
       "      <td>28194</td>\n",
       "      <td>[National Science Foundation]</td>\n",
       "    </tr>\n",
       "    <tr>\n",
       "      <th>1</th>\n",
       "      <td>28194</td>\n",
       "      <td>[National Science Foundation]</td>\n",
       "    </tr>\n",
       "    <tr>\n",
       "      <th>2</th>\n",
       "      <td>28194</td>\n",
       "      <td>[National Science Foundation]</td>\n",
       "    </tr>\n",
       "    <tr>\n",
       "      <th>3</th>\n",
       "      <td>28194</td>\n",
       "      <td>[National Science Foundation]</td>\n",
       "    </tr>\n",
       "    <tr>\n",
       "      <th>4</th>\n",
       "      <td>17689</td>\n",
       "      <td>None</td>\n",
       "    </tr>\n",
       "    <tr>\n",
       "      <th>...</th>\n",
       "      <td>...</td>\n",
       "      <td>...</td>\n",
       "    </tr>\n",
       "    <tr>\n",
       "      <th>2971</th>\n",
       "      <td>61800</td>\n",
       "      <td>[Fulbright Colombia, Fundação de Amparo à Pesq...</td>\n",
       "    </tr>\n",
       "    <tr>\n",
       "      <th>2972</th>\n",
       "      <td>12676</td>\n",
       "      <td>None</td>\n",
       "    </tr>\n",
       "    <tr>\n",
       "      <th>2973</th>\n",
       "      <td>37657</td>\n",
       "      <td>None</td>\n",
       "    </tr>\n",
       "    <tr>\n",
       "      <th>2974</th>\n",
       "      <td>37657</td>\n",
       "      <td>None</td>\n",
       "    </tr>\n",
       "    <tr>\n",
       "      <th>2975</th>\n",
       "      <td>37657</td>\n",
       "      <td>None</td>\n",
       "    </tr>\n",
       "  </tbody>\n",
       "</table>\n",
       "<p>2976 rows × 2 columns</p>\n",
       "</div>"
      ],
      "text/plain": [
       "         id                                            funders\n",
       "0     28194                      [National Science Foundation]\n",
       "1     28194                      [National Science Foundation]\n",
       "2     28194                      [National Science Foundation]\n",
       "3     28194                      [National Science Foundation]\n",
       "4     17689                                               None\n",
       "...     ...                                                ...\n",
       "2971  61800  [Fulbright Colombia, Fundação de Amparo à Pesq...\n",
       "2972  12676                                               None\n",
       "2973  37657                                               None\n",
       "2974  37657                                               None\n",
       "2975  37657                                               None\n",
       "\n",
       "[2976 rows x 2 columns]"
      ]
     },
     "execution_count": 71,
     "metadata": {},
     "output_type": "execute_result"
    }
   ],
   "source": [
    "#since interested in per object, need to group by ID\n",
    "funders_ids = pd.concat([ids, funders], axis = 1)\n",
    "funders_ids"
   ]
  },
  {
   "cell_type": "code",
   "execution_count": 72,
   "id": "7024c8b7",
   "metadata": {
    "pycharm": {
     "name": "#%%\n"
    }
   },
   "outputs": [
    {
     "data": {
      "text/html": [
       "<div>\n",
       "<style scoped>\n",
       "    .dataframe tbody tr th:only-of-type {\n",
       "        vertical-align: middle;\n",
       "    }\n",
       "\n",
       "    .dataframe tbody tr th {\n",
       "        vertical-align: top;\n",
       "    }\n",
       "\n",
       "    .dataframe thead th {\n",
       "        text-align: right;\n",
       "    }\n",
       "</style>\n",
       "<table border=\"1\" class=\"dataframe\">\n",
       "  <thead>\n",
       "    <tr style=\"text-align: right;\">\n",
       "      <th></th>\n",
       "      <th>id</th>\n",
       "      <th>funders</th>\n",
       "    </tr>\n",
       "  </thead>\n",
       "  <tbody>\n",
       "    <tr>\n",
       "      <th>0</th>\n",
       "      <td>28194</td>\n",
       "      <td>National Science Foundation</td>\n",
       "    </tr>\n",
       "    <tr>\n",
       "      <th>1</th>\n",
       "      <td>28194</td>\n",
       "      <td>National Science Foundation</td>\n",
       "    </tr>\n",
       "    <tr>\n",
       "      <th>2</th>\n",
       "      <td>28194</td>\n",
       "      <td>National Science Foundation</td>\n",
       "    </tr>\n",
       "    <tr>\n",
       "      <th>3</th>\n",
       "      <td>28194</td>\n",
       "      <td>National Science Foundation</td>\n",
       "    </tr>\n",
       "    <tr>\n",
       "      <th>4</th>\n",
       "      <td>17689</td>\n",
       "      <td>None</td>\n",
       "    </tr>\n",
       "    <tr>\n",
       "      <th>...</th>\n",
       "      <td>...</td>\n",
       "      <td>...</td>\n",
       "    </tr>\n",
       "    <tr>\n",
       "      <th>2971</th>\n",
       "      <td>61800</td>\n",
       "      <td>Conselho Nacional de Desenvolvimento Científic...</td>\n",
       "    </tr>\n",
       "    <tr>\n",
       "      <th>2972</th>\n",
       "      <td>12676</td>\n",
       "      <td>None</td>\n",
       "    </tr>\n",
       "    <tr>\n",
       "      <th>2973</th>\n",
       "      <td>37657</td>\n",
       "      <td>None</td>\n",
       "    </tr>\n",
       "    <tr>\n",
       "      <th>2974</th>\n",
       "      <td>37657</td>\n",
       "      <td>None</td>\n",
       "    </tr>\n",
       "    <tr>\n",
       "      <th>2975</th>\n",
       "      <td>37657</td>\n",
       "      <td>None</td>\n",
       "    </tr>\n",
       "  </tbody>\n",
       "</table>\n",
       "<p>5611 rows × 2 columns</p>\n",
       "</div>"
      ],
      "text/plain": [
       "         id                                            funders\n",
       "0     28194                        National Science Foundation\n",
       "1     28194                        National Science Foundation\n",
       "2     28194                        National Science Foundation\n",
       "3     28194                        National Science Foundation\n",
       "4     17689                                               None\n",
       "...     ...                                                ...\n",
       "2971  61800  Conselho Nacional de Desenvolvimento Científic...\n",
       "2972  12676                                               None\n",
       "2973  37657                                               None\n",
       "2974  37657                                               None\n",
       "2975  37657                                               None\n",
       "\n",
       "[5611 rows x 2 columns]"
      ]
     },
     "execution_count": 72,
     "metadata": {},
     "output_type": "execute_result"
    }
   ],
   "source": [
    "#may be more than one funder per object, so expand\n",
    "funders_long = funders_ids.explode(['funders'])\n",
    "funders_long"
   ]
  },
  {
   "cell_type": "code",
   "execution_count": 73,
   "id": "e22c4c90",
   "metadata": {
    "scrolled": true
   },
   "outputs": [
    {
     "data": {
      "text/html": [
       "<div>\n",
       "<style scoped>\n",
       "    .dataframe tbody tr th:only-of-type {\n",
       "        vertical-align: middle;\n",
       "    }\n",
       "\n",
       "    .dataframe tbody tr th {\n",
       "        vertical-align: top;\n",
       "    }\n",
       "\n",
       "    .dataframe thead th {\n",
       "        text-align: right;\n",
       "    }\n",
       "</style>\n",
       "<table border=\"1\" class=\"dataframe\">\n",
       "  <thead>\n",
       "    <tr style=\"text-align: right;\">\n",
       "      <th></th>\n",
       "      <th>id</th>\n",
       "      <th>funders</th>\n",
       "    </tr>\n",
       "  </thead>\n",
       "  <tbody>\n",
       "    <tr>\n",
       "      <th>0</th>\n",
       "      <td>28194</td>\n",
       "      <td>National Science Foundation</td>\n",
       "    </tr>\n",
       "    <tr>\n",
       "      <th>4</th>\n",
       "      <td>17689</td>\n",
       "      <td>None</td>\n",
       "    </tr>\n",
       "    <tr>\n",
       "      <th>5</th>\n",
       "      <td>67581</td>\n",
       "      <td>National Science Foundation</td>\n",
       "    </tr>\n",
       "    <tr>\n",
       "      <th>5</th>\n",
       "      <td>67581</td>\n",
       "      <td>Office of Science</td>\n",
       "    </tr>\n",
       "    <tr>\n",
       "      <th>5</th>\n",
       "      <td>67581</td>\n",
       "      <td>Hasso Plattner Foundation</td>\n",
       "    </tr>\n",
       "    <tr>\n",
       "      <th>...</th>\n",
       "      <td>...</td>\n",
       "      <td>...</td>\n",
       "    </tr>\n",
       "    <tr>\n",
       "      <th>2965</th>\n",
       "      <td>61800</td>\n",
       "      <td>Fundação de Amparo à Pesquisa do Estado de São...</td>\n",
       "    </tr>\n",
       "    <tr>\n",
       "      <th>2965</th>\n",
       "      <td>61800</td>\n",
       "      <td>National Aeronautics and Space Administration</td>\n",
       "    </tr>\n",
       "    <tr>\n",
       "      <th>2965</th>\n",
       "      <td>61800</td>\n",
       "      <td>Conselho Nacional de Desenvolvimento Científic...</td>\n",
       "    </tr>\n",
       "    <tr>\n",
       "      <th>2972</th>\n",
       "      <td>12676</td>\n",
       "      <td>None</td>\n",
       "    </tr>\n",
       "    <tr>\n",
       "      <th>2973</th>\n",
       "      <td>37657</td>\n",
       "      <td>None</td>\n",
       "    </tr>\n",
       "  </tbody>\n",
       "</table>\n",
       "<p>323 rows × 2 columns</p>\n",
       "</div>"
      ],
      "text/plain": [
       "         id                                            funders\n",
       "0     28194                        National Science Foundation\n",
       "4     17689                                               None\n",
       "5     67581                        National Science Foundation\n",
       "5     67581                                  Office of Science\n",
       "5     67581                          Hasso Plattner Foundation\n",
       "...     ...                                                ...\n",
       "2965  61800  Fundação de Amparo à Pesquisa do Estado de São...\n",
       "2965  61800      National Aeronautics and Space Administration\n",
       "2965  61800  Conselho Nacional de Desenvolvimento Científic...\n",
       "2972  12676                                               None\n",
       "2973  37657                                               None\n",
       "\n",
       "[323 rows x 2 columns]"
      ]
     },
     "execution_count": 73,
     "metadata": {},
     "output_type": "execute_result"
    }
   ],
   "source": [
    "#drop duplicates so each object has a row for each funder of object\n",
    "funders_long_unique = funders_long.drop_duplicates()\n",
    "funders_long_unique"
   ]
  },
  {
   "cell_type": "code",
   "execution_count": 74,
   "id": "f56c2c1d-f123-4266-b99b-0af33930d713",
   "metadata": {},
   "outputs": [
    {
     "data": {
      "text/plain": [
       "funders\n",
       "National Science Foundation                                                          29\n",
       "National Natural Science Foundation of China                                          4\n",
       "National Institutes of Health                                                         4\n",
       "U.S. Department of Energy                                                             4\n",
       "U.S. Department of Agriculture                                                        3\n",
       "                                                                                     ..\n",
       "Hatch Act capacity funding program                                                    1\n",
       "Hasso Plattner Foundation                                                             1\n",
       "Guangzhou Institute of Pediatrics, Guangzhou Women and Children’s Medical Center*     1\n",
       "Guangzhou Institute of Pediatrics, Guangzhou Women and Children’s Medical Center      1\n",
       "Youth Innovation Promotion Association of the Chinese Academy of Sciences             1\n",
       "Length: 134, dtype: int64"
      ]
     },
     "execution_count": 74,
     "metadata": {},
     "output_type": "execute_result"
    }
   ],
   "source": [
    "funders_counts = funders_long_unique.value_counts('funders')\n",
    "funders_counts"
   ]
  },
  {
   "cell_type": "markdown",
   "id": "614ea755",
   "metadata": {
    "pycharm": {
     "name": "#%% md\n"
    }
   },
   "source": [
    "## 15. What are the mean, median, and max number of Views per object?\n",
    "**Property:** Views\n",
    "**Related function:** `get_summary_statistics`"
   ]
  },
  {
   "cell_type": "code",
   "execution_count": 75,
   "id": "8b218fe2",
   "metadata": {
    "pycharm": {
     "name": "#%%\n"
    }
   },
   "outputs": [
    {
     "data": {
      "text/plain": [
       "0       165\n",
       "1       165\n",
       "2       165\n",
       "3       165\n",
       "4       550\n",
       "       ... \n",
       "2971     34\n",
       "2972    243\n",
       "2973     23\n",
       "2974     23\n",
       "2975     23\n",
       "Name: numViews, Length: 2976, dtype: int64"
      ]
     },
     "execution_count": 75,
     "metadata": {},
     "output_type": "execute_result"
    }
   ],
   "source": [
    "views = df.DryadRecordsCrosswalk.views\n",
    "views"
   ]
  },
  {
   "cell_type": "code",
   "execution_count": 76,
   "id": "68bad12b",
   "metadata": {},
   "outputs": [
    {
     "data": {
      "text/html": [
       "<div>\n",
       "<style scoped>\n",
       "    .dataframe tbody tr th:only-of-type {\n",
       "        vertical-align: middle;\n",
       "    }\n",
       "\n",
       "    .dataframe tbody tr th {\n",
       "        vertical-align: top;\n",
       "    }\n",
       "\n",
       "    .dataframe thead th {\n",
       "        text-align: right;\n",
       "    }\n",
       "</style>\n",
       "<table border=\"1\" class=\"dataframe\">\n",
       "  <thead>\n",
       "    <tr style=\"text-align: right;\">\n",
       "      <th></th>\n",
       "      <th>id</th>\n",
       "      <th>numViews</th>\n",
       "    </tr>\n",
       "  </thead>\n",
       "  <tbody>\n",
       "    <tr>\n",
       "      <th>0</th>\n",
       "      <td>28194</td>\n",
       "      <td>165</td>\n",
       "    </tr>\n",
       "    <tr>\n",
       "      <th>1</th>\n",
       "      <td>28194</td>\n",
       "      <td>165</td>\n",
       "    </tr>\n",
       "    <tr>\n",
       "      <th>2</th>\n",
       "      <td>28194</td>\n",
       "      <td>165</td>\n",
       "    </tr>\n",
       "    <tr>\n",
       "      <th>3</th>\n",
       "      <td>28194</td>\n",
       "      <td>165</td>\n",
       "    </tr>\n",
       "    <tr>\n",
       "      <th>4</th>\n",
       "      <td>17689</td>\n",
       "      <td>550</td>\n",
       "    </tr>\n",
       "    <tr>\n",
       "      <th>...</th>\n",
       "      <td>...</td>\n",
       "      <td>...</td>\n",
       "    </tr>\n",
       "    <tr>\n",
       "      <th>2971</th>\n",
       "      <td>61800</td>\n",
       "      <td>34</td>\n",
       "    </tr>\n",
       "    <tr>\n",
       "      <th>2972</th>\n",
       "      <td>12676</td>\n",
       "      <td>243</td>\n",
       "    </tr>\n",
       "    <tr>\n",
       "      <th>2973</th>\n",
       "      <td>37657</td>\n",
       "      <td>23</td>\n",
       "    </tr>\n",
       "    <tr>\n",
       "      <th>2974</th>\n",
       "      <td>37657</td>\n",
       "      <td>23</td>\n",
       "    </tr>\n",
       "    <tr>\n",
       "      <th>2975</th>\n",
       "      <td>37657</td>\n",
       "      <td>23</td>\n",
       "    </tr>\n",
       "  </tbody>\n",
       "</table>\n",
       "<p>2976 rows × 2 columns</p>\n",
       "</div>"
      ],
      "text/plain": [
       "         id  numViews\n",
       "0     28194       165\n",
       "1     28194       165\n",
       "2     28194       165\n",
       "3     28194       165\n",
       "4     17689       550\n",
       "...     ...       ...\n",
       "2971  61800        34\n",
       "2972  12676       243\n",
       "2973  37657        23\n",
       "2974  37657        23\n",
       "2975  37657        23\n",
       "\n",
       "[2976 rows x 2 columns]"
      ]
     },
     "execution_count": 76,
     "metadata": {},
     "output_type": "execute_result"
    }
   ],
   "source": [
    "#since interested in per object, need to group by ID\n",
    "views_ids = pd.concat([ids, views], axis = 1)\n",
    "views_ids"
   ]
  },
  {
   "cell_type": "code",
   "execution_count": 77,
   "id": "d403e35f",
   "metadata": {},
   "outputs": [
    {
     "data": {
      "text/html": [
       "<div>\n",
       "<style scoped>\n",
       "    .dataframe tbody tr th:only-of-type {\n",
       "        vertical-align: middle;\n",
       "    }\n",
       "\n",
       "    .dataframe tbody tr th {\n",
       "        vertical-align: top;\n",
       "    }\n",
       "\n",
       "    .dataframe thead th {\n",
       "        text-align: right;\n",
       "    }\n",
       "</style>\n",
       "<table border=\"1\" class=\"dataframe\">\n",
       "  <thead>\n",
       "    <tr style=\"text-align: right;\">\n",
       "      <th></th>\n",
       "      <th>id</th>\n",
       "      <th>numViews</th>\n",
       "    </tr>\n",
       "  </thead>\n",
       "  <tbody>\n",
       "    <tr>\n",
       "      <th>0</th>\n",
       "      <td>28194</td>\n",
       "      <td>165</td>\n",
       "    </tr>\n",
       "    <tr>\n",
       "      <th>4</th>\n",
       "      <td>17689</td>\n",
       "      <td>550</td>\n",
       "    </tr>\n",
       "    <tr>\n",
       "      <th>5</th>\n",
       "      <td>67581</td>\n",
       "      <td>38</td>\n",
       "    </tr>\n",
       "    <tr>\n",
       "      <th>8</th>\n",
       "      <td>40246</td>\n",
       "      <td>98</td>\n",
       "    </tr>\n",
       "    <tr>\n",
       "      <th>9</th>\n",
       "      <td>50040</td>\n",
       "      <td>30</td>\n",
       "    </tr>\n",
       "    <tr>\n",
       "      <th>...</th>\n",
       "      <td>...</td>\n",
       "      <td>...</td>\n",
       "    </tr>\n",
       "    <tr>\n",
       "      <th>2935</th>\n",
       "      <td>27035</td>\n",
       "      <td>141</td>\n",
       "    </tr>\n",
       "    <tr>\n",
       "      <th>2964</th>\n",
       "      <td>23265</td>\n",
       "      <td>131</td>\n",
       "    </tr>\n",
       "    <tr>\n",
       "      <th>2965</th>\n",
       "      <td>61800</td>\n",
       "      <td>34</td>\n",
       "    </tr>\n",
       "    <tr>\n",
       "      <th>2972</th>\n",
       "      <td>12676</td>\n",
       "      <td>243</td>\n",
       "    </tr>\n",
       "    <tr>\n",
       "      <th>2973</th>\n",
       "      <td>37657</td>\n",
       "      <td>23</td>\n",
       "    </tr>\n",
       "  </tbody>\n",
       "</table>\n",
       "<p>219 rows × 2 columns</p>\n",
       "</div>"
      ],
      "text/plain": [
       "         id  numViews\n",
       "0     28194       165\n",
       "4     17689       550\n",
       "5     67581        38\n",
       "8     40246        98\n",
       "9     50040        30\n",
       "...     ...       ...\n",
       "2935  27035       141\n",
       "2964  23265       131\n",
       "2965  61800        34\n",
       "2972  12676       243\n",
       "2973  37657        23\n",
       "\n",
       "[219 rows x 2 columns]"
      ]
     },
     "execution_count": 77,
     "metadata": {},
     "output_type": "execute_result"
    }
   ],
   "source": [
    "#views already unique at object level\n",
    "views_ids_unique = views_ids.drop_duplicates()\n",
    "views_ids_unique"
   ]
  },
  {
   "cell_type": "code",
   "execution_count": 78,
   "id": "9716fc1d",
   "metadata": {},
   "outputs": [
    {
     "data": {
      "text/plain": [
       "{'mean': 173.53424657534248, 'median': 79.0, 'max': 4681}"
      ]
     },
     "execution_count": 78,
     "metadata": {},
     "output_type": "execute_result"
    }
   ],
   "source": [
    "analysis.get_summary_statistics(views_ids_unique['numViews'])"
   ]
  },
  {
   "cell_type": "markdown",
   "id": "54ec7768",
   "metadata": {
    "pycharm": {
     "name": "#%% md\n"
    }
   },
   "source": [
    "## 16. What are the mean, median, and max (total) number of downloads per object?\n",
    "**Property:** Downloads\n",
    "**Related function:** `get_summary_statistics`"
   ]
  },
  {
   "cell_type": "code",
   "execution_count": 79,
   "id": "eb9ff0d1",
   "metadata": {
    "pycharm": {
     "name": "#%%\n"
    }
   },
   "outputs": [
    {
     "data": {
      "text/plain": [
       "0        39\n",
       "1        39\n",
       "2        39\n",
       "3        39\n",
       "4       260\n",
       "       ... \n",
       "2971     10\n",
       "2972     85\n",
       "2973      7\n",
       "2974      7\n",
       "2975      7\n",
       "Name: numDownloads, Length: 2976, dtype: int64"
      ]
     },
     "execution_count": 79,
     "metadata": {},
     "output_type": "execute_result"
    }
   ],
   "source": [
    "downloads = df.DryadRecordsCrosswalk.downloads\n",
    "downloads"
   ]
  },
  {
   "cell_type": "code",
   "execution_count": 80,
   "id": "4e784a27",
   "metadata": {},
   "outputs": [
    {
     "data": {
      "text/html": [
       "<div>\n",
       "<style scoped>\n",
       "    .dataframe tbody tr th:only-of-type {\n",
       "        vertical-align: middle;\n",
       "    }\n",
       "\n",
       "    .dataframe tbody tr th {\n",
       "        vertical-align: top;\n",
       "    }\n",
       "\n",
       "    .dataframe thead th {\n",
       "        text-align: right;\n",
       "    }\n",
       "</style>\n",
       "<table border=\"1\" class=\"dataframe\">\n",
       "  <thead>\n",
       "    <tr style=\"text-align: right;\">\n",
       "      <th></th>\n",
       "      <th>id</th>\n",
       "      <th>numDownloads</th>\n",
       "    </tr>\n",
       "  </thead>\n",
       "  <tbody>\n",
       "    <tr>\n",
       "      <th>0</th>\n",
       "      <td>28194</td>\n",
       "      <td>39</td>\n",
       "    </tr>\n",
       "    <tr>\n",
       "      <th>1</th>\n",
       "      <td>28194</td>\n",
       "      <td>39</td>\n",
       "    </tr>\n",
       "    <tr>\n",
       "      <th>2</th>\n",
       "      <td>28194</td>\n",
       "      <td>39</td>\n",
       "    </tr>\n",
       "    <tr>\n",
       "      <th>3</th>\n",
       "      <td>28194</td>\n",
       "      <td>39</td>\n",
       "    </tr>\n",
       "    <tr>\n",
       "      <th>4</th>\n",
       "      <td>17689</td>\n",
       "      <td>260</td>\n",
       "    </tr>\n",
       "    <tr>\n",
       "      <th>...</th>\n",
       "      <td>...</td>\n",
       "      <td>...</td>\n",
       "    </tr>\n",
       "    <tr>\n",
       "      <th>2971</th>\n",
       "      <td>61800</td>\n",
       "      <td>10</td>\n",
       "    </tr>\n",
       "    <tr>\n",
       "      <th>2972</th>\n",
       "      <td>12676</td>\n",
       "      <td>85</td>\n",
       "    </tr>\n",
       "    <tr>\n",
       "      <th>2973</th>\n",
       "      <td>37657</td>\n",
       "      <td>7</td>\n",
       "    </tr>\n",
       "    <tr>\n",
       "      <th>2974</th>\n",
       "      <td>37657</td>\n",
       "      <td>7</td>\n",
       "    </tr>\n",
       "    <tr>\n",
       "      <th>2975</th>\n",
       "      <td>37657</td>\n",
       "      <td>7</td>\n",
       "    </tr>\n",
       "  </tbody>\n",
       "</table>\n",
       "<p>2976 rows × 2 columns</p>\n",
       "</div>"
      ],
      "text/plain": [
       "         id  numDownloads\n",
       "0     28194            39\n",
       "1     28194            39\n",
       "2     28194            39\n",
       "3     28194            39\n",
       "4     17689           260\n",
       "...     ...           ...\n",
       "2971  61800            10\n",
       "2972  12676            85\n",
       "2973  37657             7\n",
       "2974  37657             7\n",
       "2975  37657             7\n",
       "\n",
       "[2976 rows x 2 columns]"
      ]
     },
     "execution_count": 80,
     "metadata": {},
     "output_type": "execute_result"
    }
   ],
   "source": [
    "#since interested in per object, need to group by ID\n",
    "downloads_ids = pd.concat([ids, downloads], axis = 1)\n",
    "downloads_ids"
   ]
  },
  {
   "cell_type": "code",
   "execution_count": 81,
   "id": "84689a07",
   "metadata": {},
   "outputs": [
    {
     "data": {
      "text/html": [
       "<div>\n",
       "<style scoped>\n",
       "    .dataframe tbody tr th:only-of-type {\n",
       "        vertical-align: middle;\n",
       "    }\n",
       "\n",
       "    .dataframe tbody tr th {\n",
       "        vertical-align: top;\n",
       "    }\n",
       "\n",
       "    .dataframe thead th {\n",
       "        text-align: right;\n",
       "    }\n",
       "</style>\n",
       "<table border=\"1\" class=\"dataframe\">\n",
       "  <thead>\n",
       "    <tr style=\"text-align: right;\">\n",
       "      <th></th>\n",
       "      <th>id</th>\n",
       "      <th>numDownloads</th>\n",
       "    </tr>\n",
       "  </thead>\n",
       "  <tbody>\n",
       "    <tr>\n",
       "      <th>0</th>\n",
       "      <td>28194</td>\n",
       "      <td>39</td>\n",
       "    </tr>\n",
       "    <tr>\n",
       "      <th>4</th>\n",
       "      <td>17689</td>\n",
       "      <td>260</td>\n",
       "    </tr>\n",
       "    <tr>\n",
       "      <th>5</th>\n",
       "      <td>67581</td>\n",
       "      <td>0</td>\n",
       "    </tr>\n",
       "    <tr>\n",
       "      <th>8</th>\n",
       "      <td>40246</td>\n",
       "      <td>11</td>\n",
       "    </tr>\n",
       "    <tr>\n",
       "      <th>9</th>\n",
       "      <td>50040</td>\n",
       "      <td>9</td>\n",
       "    </tr>\n",
       "    <tr>\n",
       "      <th>...</th>\n",
       "      <td>...</td>\n",
       "      <td>...</td>\n",
       "    </tr>\n",
       "    <tr>\n",
       "      <th>2935</th>\n",
       "      <td>27035</td>\n",
       "      <td>34</td>\n",
       "    </tr>\n",
       "    <tr>\n",
       "      <th>2964</th>\n",
       "      <td>23265</td>\n",
       "      <td>45</td>\n",
       "    </tr>\n",
       "    <tr>\n",
       "      <th>2965</th>\n",
       "      <td>61800</td>\n",
       "      <td>10</td>\n",
       "    </tr>\n",
       "    <tr>\n",
       "      <th>2972</th>\n",
       "      <td>12676</td>\n",
       "      <td>85</td>\n",
       "    </tr>\n",
       "    <tr>\n",
       "      <th>2973</th>\n",
       "      <td>37657</td>\n",
       "      <td>7</td>\n",
       "    </tr>\n",
       "  </tbody>\n",
       "</table>\n",
       "<p>219 rows × 2 columns</p>\n",
       "</div>"
      ],
      "text/plain": [
       "         id  numDownloads\n",
       "0     28194            39\n",
       "4     17689           260\n",
       "5     67581             0\n",
       "8     40246            11\n",
       "9     50040             9\n",
       "...     ...           ...\n",
       "2935  27035            34\n",
       "2964  23265            45\n",
       "2965  61800            10\n",
       "2972  12676            85\n",
       "2973  37657             7\n",
       "\n",
       "[219 rows x 2 columns]"
      ]
     },
     "execution_count": 81,
     "metadata": {},
     "output_type": "execute_result"
    }
   ],
   "source": [
    "#downloads already unique at object level\n",
    "downloads_ids_unique = downloads_ids.drop_duplicates()\n",
    "downloads_ids_unique"
   ]
  },
  {
   "cell_type": "code",
   "execution_count": 82,
   "id": "d67dc4d2",
   "metadata": {},
   "outputs": [
    {
     "data": {
      "text/plain": [
       "{'mean': 85.53424657534246, 'median': 12.0, 'max': 4557}"
      ]
     },
     "execution_count": 82,
     "metadata": {},
     "output_type": "execute_result"
    }
   ],
   "source": [
    "#get summary statistics\n",
    "analysis.get_summary_statistics(downloads_ids_unique['numDownloads'])"
   ]
  },
  {
   "cell_type": "markdown",
   "id": "cfe990f9",
   "metadata": {
    "pycharm": {
     "name": "#%% md\n"
    }
   },
   "source": [
    "## 17. What are the mean, median, and max Citation counts per object?\n",
    "**Property:** Citation count\n",
    "**Related function:** `get_summary_statistics`"
   ]
  },
  {
   "cell_type": "code",
   "execution_count": 83,
   "id": "cd415be0",
   "metadata": {
    "pycharm": {
     "name": "#%%\n"
    }
   },
   "outputs": [
    {
     "data": {
      "text/plain": [
       "0       1\n",
       "1       1\n",
       "2       1\n",
       "3       1\n",
       "4       1\n",
       "       ..\n",
       "2971    0\n",
       "2972    1\n",
       "2973    0\n",
       "2974    0\n",
       "2975    0\n",
       "Name: numCitations, Length: 2976, dtype: int64"
      ]
     },
     "execution_count": 83,
     "metadata": {},
     "output_type": "execute_result"
    }
   ],
   "source": [
    "citation_count = df.DryadRecordsCrosswalk.citation_count\n",
    "citation_count"
   ]
  },
  {
   "cell_type": "code",
   "execution_count": 84,
   "id": "bda75495",
   "metadata": {},
   "outputs": [
    {
     "data": {
      "text/html": [
       "<div>\n",
       "<style scoped>\n",
       "    .dataframe tbody tr th:only-of-type {\n",
       "        vertical-align: middle;\n",
       "    }\n",
       "\n",
       "    .dataframe tbody tr th {\n",
       "        vertical-align: top;\n",
       "    }\n",
       "\n",
       "    .dataframe thead th {\n",
       "        text-align: right;\n",
       "    }\n",
       "</style>\n",
       "<table border=\"1\" class=\"dataframe\">\n",
       "  <thead>\n",
       "    <tr style=\"text-align: right;\">\n",
       "      <th></th>\n",
       "      <th>id</th>\n",
       "      <th>numCitations</th>\n",
       "    </tr>\n",
       "  </thead>\n",
       "  <tbody>\n",
       "    <tr>\n",
       "      <th>0</th>\n",
       "      <td>28194</td>\n",
       "      <td>1</td>\n",
       "    </tr>\n",
       "    <tr>\n",
       "      <th>1</th>\n",
       "      <td>28194</td>\n",
       "      <td>1</td>\n",
       "    </tr>\n",
       "    <tr>\n",
       "      <th>2</th>\n",
       "      <td>28194</td>\n",
       "      <td>1</td>\n",
       "    </tr>\n",
       "    <tr>\n",
       "      <th>3</th>\n",
       "      <td>28194</td>\n",
       "      <td>1</td>\n",
       "    </tr>\n",
       "    <tr>\n",
       "      <th>4</th>\n",
       "      <td>17689</td>\n",
       "      <td>1</td>\n",
       "    </tr>\n",
       "    <tr>\n",
       "      <th>...</th>\n",
       "      <td>...</td>\n",
       "      <td>...</td>\n",
       "    </tr>\n",
       "    <tr>\n",
       "      <th>2971</th>\n",
       "      <td>61800</td>\n",
       "      <td>0</td>\n",
       "    </tr>\n",
       "    <tr>\n",
       "      <th>2972</th>\n",
       "      <td>12676</td>\n",
       "      <td>1</td>\n",
       "    </tr>\n",
       "    <tr>\n",
       "      <th>2973</th>\n",
       "      <td>37657</td>\n",
       "      <td>0</td>\n",
       "    </tr>\n",
       "    <tr>\n",
       "      <th>2974</th>\n",
       "      <td>37657</td>\n",
       "      <td>0</td>\n",
       "    </tr>\n",
       "    <tr>\n",
       "      <th>2975</th>\n",
       "      <td>37657</td>\n",
       "      <td>0</td>\n",
       "    </tr>\n",
       "  </tbody>\n",
       "</table>\n",
       "<p>2976 rows × 2 columns</p>\n",
       "</div>"
      ],
      "text/plain": [
       "         id  numCitations\n",
       "0     28194             1\n",
       "1     28194             1\n",
       "2     28194             1\n",
       "3     28194             1\n",
       "4     17689             1\n",
       "...     ...           ...\n",
       "2971  61800             0\n",
       "2972  12676             1\n",
       "2973  37657             0\n",
       "2974  37657             0\n",
       "2975  37657             0\n",
       "\n",
       "[2976 rows x 2 columns]"
      ]
     },
     "execution_count": 84,
     "metadata": {},
     "output_type": "execute_result"
    }
   ],
   "source": [
    "#since interested in per object, need to group by ID\n",
    "citation_ids = pd.concat([ids, citation_count], axis = 1)\n",
    "citation_ids"
   ]
  },
  {
   "cell_type": "code",
   "execution_count": 85,
   "id": "c44d0c28",
   "metadata": {},
   "outputs": [
    {
     "data": {
      "text/html": [
       "<div>\n",
       "<style scoped>\n",
       "    .dataframe tbody tr th:only-of-type {\n",
       "        vertical-align: middle;\n",
       "    }\n",
       "\n",
       "    .dataframe tbody tr th {\n",
       "        vertical-align: top;\n",
       "    }\n",
       "\n",
       "    .dataframe thead th {\n",
       "        text-align: right;\n",
       "    }\n",
       "</style>\n",
       "<table border=\"1\" class=\"dataframe\">\n",
       "  <thead>\n",
       "    <tr style=\"text-align: right;\">\n",
       "      <th></th>\n",
       "      <th>id</th>\n",
       "      <th>numCitations</th>\n",
       "    </tr>\n",
       "  </thead>\n",
       "  <tbody>\n",
       "    <tr>\n",
       "      <th>0</th>\n",
       "      <td>28194</td>\n",
       "      <td>1</td>\n",
       "    </tr>\n",
       "    <tr>\n",
       "      <th>4</th>\n",
       "      <td>17689</td>\n",
       "      <td>1</td>\n",
       "    </tr>\n",
       "    <tr>\n",
       "      <th>5</th>\n",
       "      <td>67581</td>\n",
       "      <td>2</td>\n",
       "    </tr>\n",
       "    <tr>\n",
       "      <th>8</th>\n",
       "      <td>40246</td>\n",
       "      <td>1</td>\n",
       "    </tr>\n",
       "    <tr>\n",
       "      <th>9</th>\n",
       "      <td>50040</td>\n",
       "      <td>1</td>\n",
       "    </tr>\n",
       "    <tr>\n",
       "      <th>...</th>\n",
       "      <td>...</td>\n",
       "      <td>...</td>\n",
       "    </tr>\n",
       "    <tr>\n",
       "      <th>2935</th>\n",
       "      <td>27035</td>\n",
       "      <td>1</td>\n",
       "    </tr>\n",
       "    <tr>\n",
       "      <th>2964</th>\n",
       "      <td>23265</td>\n",
       "      <td>1</td>\n",
       "    </tr>\n",
       "    <tr>\n",
       "      <th>2965</th>\n",
       "      <td>61800</td>\n",
       "      <td>0</td>\n",
       "    </tr>\n",
       "    <tr>\n",
       "      <th>2972</th>\n",
       "      <td>12676</td>\n",
       "      <td>1</td>\n",
       "    </tr>\n",
       "    <tr>\n",
       "      <th>2973</th>\n",
       "      <td>37657</td>\n",
       "      <td>0</td>\n",
       "    </tr>\n",
       "  </tbody>\n",
       "</table>\n",
       "<p>219 rows × 2 columns</p>\n",
       "</div>"
      ],
      "text/plain": [
       "         id  numCitations\n",
       "0     28194             1\n",
       "4     17689             1\n",
       "5     67581             2\n",
       "8     40246             1\n",
       "9     50040             1\n",
       "...     ...           ...\n",
       "2935  27035             1\n",
       "2964  23265             1\n",
       "2965  61800             0\n",
       "2972  12676             1\n",
       "2973  37657             0\n",
       "\n",
       "[219 rows x 2 columns]"
      ]
     },
     "execution_count": 85,
     "metadata": {},
     "output_type": "execute_result"
    }
   ],
   "source": [
    "#citation counts already unique at object level\n",
    "citation_ids_unique = citation_ids.drop_duplicates()\n",
    "citation_ids_unique"
   ]
  },
  {
   "cell_type": "code",
   "execution_count": 86,
   "id": "542e5e60",
   "metadata": {},
   "outputs": [
    {
     "data": {
      "text/plain": [
       "{'mean': 0.4429223744292237, 'median': 0.0, 'max': 5}"
      ]
     },
     "execution_count": 86,
     "metadata": {},
     "output_type": "execute_result"
    }
   ],
   "source": [
    "#get summary statistics\n",
    "analysis.get_summary_statistics(citation_ids_unique['numCitations'])"
   ]
  },
  {
   "cell_type": "markdown",
   "id": "470b28cb",
   "metadata": {
    "pycharm": {
     "name": "#%% md\n"
    }
   },
   "source": [
    "## 18. How many objects contain each given resource type?\n",
    "**Property:** Resource type"
   ]
  },
  {
   "cell_type": "code",
   "execution_count": 87,
   "id": "05d2e774",
   "metadata": {
    "pycharm": {
     "name": "#%%\n"
    }
   },
   "outputs": [],
   "source": [
    "resource_types = df.DryadRecordsCrosswalk.resource_type\n",
    "resource_types"
   ]
  },
  {
   "cell_type": "code",
   "execution_count": 88,
   "id": "e3b33bb0",
   "metadata": {},
   "outputs": [
    {
     "name": "stdout",
     "output_type": "stream",
     "text": [
      "None\n"
     ]
    }
   ],
   "source": [
    "#confirm missing for this repo\n",
    "print(df.DryadRecordsCrosswalk.resource_type)"
   ]
  },
  {
   "cell_type": "markdown",
   "id": "bbb297d7",
   "metadata": {
    "pycharm": {
     "name": "#%% md\n"
    }
   },
   "source": [
    "## 19. How many objects contain each type of file extension given?\n",
    "**Property:** File Extension\n",
    "**Related function:** `get_file_extensions`"
   ]
  },
  {
   "cell_type": "code",
   "execution_count": 89,
   "id": "b7dddea0",
   "metadata": {
    "pycharm": {
     "name": "#%%\n"
    }
   },
   "outputs": [
    {
     "data": {
      "text/plain": [
       "0                         Metanonychus_Input_Matrices.zip\n",
       "1                Metanonychus_UCEalignments_50percent.zip\n",
       "2                Metanonychus_UCEalignments_70percent.zip\n",
       "3                                         Phylogenies.zip\n",
       "4                                             dataset.zip\n",
       "                              ...                        \n",
       "2971                                           Readme.txt\n",
       "2972                                  PONE-D-14-48810.txt\n",
       "2973    Template_taxonomy_data_(from_Appendix_S10_and_...\n",
       "2974                      Dataset_Journal_survey_all.xlsx\n",
       "2975                          Supplementary_Materials.pdf\n",
       "Name: path, Length: 2976, dtype: object"
      ]
     },
     "execution_count": 89,
     "metadata": {},
     "output_type": "execute_result"
    }
   ],
   "source": [
    "files = df.DryadRecordsCrosswalk.file_extension\n",
    "files"
   ]
  },
  {
   "cell_type": "code",
   "execution_count": 90,
   "id": "72f61dd2",
   "metadata": {
    "scrolled": true
   },
   "outputs": [
    {
     "data": {
      "text/html": [
       "<div>\n",
       "<style scoped>\n",
       "    .dataframe tbody tr th:only-of-type {\n",
       "        vertical-align: middle;\n",
       "    }\n",
       "\n",
       "    .dataframe tbody tr th {\n",
       "        vertical-align: top;\n",
       "    }\n",
       "\n",
       "    .dataframe thead th {\n",
       "        text-align: right;\n",
       "    }\n",
       "</style>\n",
       "<table border=\"1\" class=\"dataframe\">\n",
       "  <thead>\n",
       "    <tr style=\"text-align: right;\">\n",
       "      <th></th>\n",
       "      <th>id</th>\n",
       "      <th>path</th>\n",
       "    </tr>\n",
       "  </thead>\n",
       "  <tbody>\n",
       "    <tr>\n",
       "      <th>0</th>\n",
       "      <td>28194</td>\n",
       "      <td>Metanonychus_Input_Matrices.zip</td>\n",
       "    </tr>\n",
       "    <tr>\n",
       "      <th>1</th>\n",
       "      <td>28194</td>\n",
       "      <td>Metanonychus_UCEalignments_50percent.zip</td>\n",
       "    </tr>\n",
       "    <tr>\n",
       "      <th>2</th>\n",
       "      <td>28194</td>\n",
       "      <td>Metanonychus_UCEalignments_70percent.zip</td>\n",
       "    </tr>\n",
       "    <tr>\n",
       "      <th>3</th>\n",
       "      <td>28194</td>\n",
       "      <td>Phylogenies.zip</td>\n",
       "    </tr>\n",
       "    <tr>\n",
       "      <th>4</th>\n",
       "      <td>17689</td>\n",
       "      <td>dataset.zip</td>\n",
       "    </tr>\n",
       "    <tr>\n",
       "      <th>...</th>\n",
       "      <td>...</td>\n",
       "      <td>...</td>\n",
       "    </tr>\n",
       "    <tr>\n",
       "      <th>2971</th>\n",
       "      <td>61800</td>\n",
       "      <td>Readme.txt</td>\n",
       "    </tr>\n",
       "    <tr>\n",
       "      <th>2972</th>\n",
       "      <td>12676</td>\n",
       "      <td>PONE-D-14-48810.txt</td>\n",
       "    </tr>\n",
       "    <tr>\n",
       "      <th>2973</th>\n",
       "      <td>37657</td>\n",
       "      <td>Template_taxonomy_data_(from_Appendix_S10_and_...</td>\n",
       "    </tr>\n",
       "    <tr>\n",
       "      <th>2974</th>\n",
       "      <td>37657</td>\n",
       "      <td>Dataset_Journal_survey_all.xlsx</td>\n",
       "    </tr>\n",
       "    <tr>\n",
       "      <th>2975</th>\n",
       "      <td>37657</td>\n",
       "      <td>Supplementary_Materials.pdf</td>\n",
       "    </tr>\n",
       "  </tbody>\n",
       "</table>\n",
       "<p>2976 rows × 2 columns</p>\n",
       "</div>"
      ],
      "text/plain": [
       "         id                                               path\n",
       "0     28194                    Metanonychus_Input_Matrices.zip\n",
       "1     28194           Metanonychus_UCEalignments_50percent.zip\n",
       "2     28194           Metanonychus_UCEalignments_70percent.zip\n",
       "3     28194                                    Phylogenies.zip\n",
       "4     17689                                        dataset.zip\n",
       "...     ...                                                ...\n",
       "2971  61800                                         Readme.txt\n",
       "2972  12676                                PONE-D-14-48810.txt\n",
       "2973  37657  Template_taxonomy_data_(from_Appendix_S10_and_...\n",
       "2974  37657                    Dataset_Journal_survey_all.xlsx\n",
       "2975  37657                        Supplementary_Materials.pdf\n",
       "\n",
       "[2976 rows x 2 columns]"
      ]
     },
     "execution_count": 90,
     "metadata": {},
     "output_type": "execute_result"
    }
   ],
   "source": [
    "#since interested in per object, need to group by ID\n",
    "files_ids = pd.concat([ids, files], axis = 1)\n",
    "files_ids"
   ]
  },
  {
   "cell_type": "code",
   "execution_count": 91,
   "id": "a4f1bf1a",
   "metadata": {},
   "outputs": [
    {
     "data": {
      "text/plain": [
       "id\n",
       "493      [gold_standard_data.csv, search_effort.csv, co...\n",
       "665                                       [raw_labels.csv]\n",
       "672      [Sankar_et_al_data_file_1.zip, Sankar_et_al_da...\n",
       "775      [df_spectral_and_health_plosone.xlsx, df_spect...\n",
       "791      [ctx_acyl.tpr, ctx_pocket_trajs.tgz, l48a_pock...\n",
       "                               ...                        \n",
       "78183                                       [raw_data.zip]\n",
       "78209    [learning-protein-fitness-from-evolutionary-an...\n",
       "78239                  [S1_Raw_data_drone.csv, readme.txt]\n",
       "78962                               [README.txt, Data.zip]\n",
       "79987    [SVD_Tex6out_concat.tre, Tex6out_concat.nex, S...\n",
       "Name: path, Length: 219, dtype: object"
      ]
     },
     "execution_count": 91,
     "metadata": {},
     "output_type": "execute_result"
    }
   ],
   "source": [
    "#put all files in a single ID into a list for that ID\n",
    "files_ids_list = files_ids.groupby('id')['path'].apply(list)\n",
    "files_ids_list"
   ]
  },
  {
   "cell_type": "code",
   "execution_count": 92,
   "id": "91c19fc1",
   "metadata": {
    "scrolled": true
   },
   "outputs": [
    {
     "data": {
      "text/plain": [
       "id\n",
       "493      [gold_standard_data.csv, search_effort.csv, co...\n",
       "665                                       [raw_labels.csv]\n",
       "672      [Sankar_et_al_data_file_1.zip, Sankar_et_al_da...\n",
       "775      [df_spectral_and_health_plosone.xlsx, df_spect...\n",
       "791      [ctx_acyl.tpr, ctx_pocket_trajs.tgz, l48a_pock...\n",
       "                               ...                        \n",
       "78183                                       [raw_data.zip]\n",
       "78209    [learning-protein-fitness-from-evolutionary-an...\n",
       "78239                  [S1_Raw_data_drone.csv, readme.txt]\n",
       "78962                               [README.txt, Data.zip]\n",
       "79987    [SVD_Tex6out_concat.tre, Tex6out_concat.nex, S...\n",
       "Name: path, Length: 219, dtype: object"
      ]
     },
     "execution_count": 92,
     "metadata": {},
     "output_type": "execute_result"
    }
   ],
   "source": [
    "#replace None values with empty list\n",
    "files_ids_list = files_ids_list.apply(lambda d: d if isinstance(d, list) else [])\n",
    "files_ids_list"
   ]
  },
  {
   "cell_type": "code",
   "execution_count": 93,
   "id": "651682d1",
   "metadata": {
    "scrolled": true
   },
   "outputs": [
    {
     "data": {
      "text/plain": [
       "30410"
      ]
     },
     "execution_count": 93,
     "metadata": {},
     "output_type": "execute_result"
    }
   ],
   "source": [
    "#first iteration run revealed a lingering [None] list value, which caused code to error\n",
    "#this is ID 30410, index 86\n",
    "files_ids_list.index[86]"
   ]
  },
  {
   "cell_type": "code",
   "execution_count": 94,
   "id": "af803593",
   "metadata": {},
   "outputs": [
    {
     "data": {
      "text/plain": [
       "id\n",
       "493      [gold_standard_data.csv, search_effort.csv, co...\n",
       "665                                       [raw_labels.csv]\n",
       "672      [Sankar_et_al_data_file_1.zip, Sankar_et_al_da...\n",
       "775      [df_spectral_and_health_plosone.xlsx, df_spect...\n",
       "791      [ctx_acyl.tpr, ctx_pocket_trajs.tgz, l48a_pock...\n",
       "                               ...                        \n",
       "78183                                       [raw_data.zip]\n",
       "78209    [learning-protein-fitness-from-evolutionary-an...\n",
       "78239                  [S1_Raw_data_drone.csv, readme.txt]\n",
       "78962                               [README.txt, Data.zip]\n",
       "79987    [SVD_Tex6out_concat.tre, Tex6out_concat.nex, S...\n",
       "Name: path, Length: 218, dtype: object"
      ]
     },
     "execution_count": 94,
     "metadata": {},
     "output_type": "execute_result"
    }
   ],
   "source": [
    "#drop this value                                          \n",
    "files_ids_clean = files_ids_list.drop(files_ids_list.index[86])\n",
    "files_ids_clean"
   ]
  },
  {
   "cell_type": "markdown",
   "id": "167d4547",
   "metadata": {
    "pycharm": {
     "name": "#%% md\n"
    }
   },
   "source": [
    "The following code separates the full file extensions (all dot-separated values after the first dot) for a list of files and creates a set, allowing us to only look at the number of objects that contain a given extension."
   ]
  },
  {
   "cell_type": "code",
   "execution_count": 95,
   "id": "15649a68",
   "metadata": {
    "scrolled": true
   },
   "outputs": [
    {
     "data": {
      "text/plain": [
       "id\n",
       "493                     [.csv.docx, .csv.zip, .docx, .csv]\n",
       "665                                                 [.csv]\n",
       "672                                                 [.zip]\n",
       "775                                           [.xlsx, .h5]\n",
       "791                   [.pdb, .itp, .tgz, .tpr, .rtp, .atp]\n",
       "                               ...                        \n",
       "78183                                               [.zip]\n",
       "78209                                            [.tar.gz]\n",
       "78239                                         [.txt, .csv]\n",
       "78962                                         [.txt, .zip]\n",
       "79987    [.nex, .txt.best_model.nex_copy, .Allsamples_t...\n",
       "Name: path, Length: 218, dtype: object"
      ]
     },
     "execution_count": 95,
     "metadata": {},
     "output_type": "execute_result"
    }
   ],
   "source": [
    "files_extension_set = files_ids_clean.apply(\n",
    "    lambda file_list: list({''.join(Path(file).suffixes) for file in file_list})\n",
    ")\n",
    "files_extension_set"
   ]
  },
  {
   "cell_type": "code",
   "execution_count": 96,
   "id": "7fa314c2",
   "metadata": {},
   "outputs": [
    {
     "data": {
      "text/html": [
       "<div>\n",
       "<style scoped>\n",
       "    .dataframe tbody tr th:only-of-type {\n",
       "        vertical-align: middle;\n",
       "    }\n",
       "\n",
       "    .dataframe tbody tr th {\n",
       "        vertical-align: top;\n",
       "    }\n",
       "\n",
       "    .dataframe thead th {\n",
       "        text-align: right;\n",
       "    }\n",
       "</style>\n",
       "<table border=\"1\" class=\"dataframe\">\n",
       "  <thead>\n",
       "    <tr style=\"text-align: right;\">\n",
       "      <th></th>\n",
       "      <th>id</th>\n",
       "      <th>path</th>\n",
       "    </tr>\n",
       "  </thead>\n",
       "  <tbody>\n",
       "    <tr>\n",
       "      <th>1791</th>\n",
       "      <td>493</td>\n",
       "      <td>gold_standard_data.csv</td>\n",
       "    </tr>\n",
       "    <tr>\n",
       "      <th>1792</th>\n",
       "      <td>493</td>\n",
       "      <td>search_effort.csv</td>\n",
       "    </tr>\n",
       "    <tr>\n",
       "      <th>1793</th>\n",
       "      <td>493</td>\n",
       "      <td>consensus_data.csv</td>\n",
       "    </tr>\n",
       "    <tr>\n",
       "      <th>1794</th>\n",
       "      <td>493</td>\n",
       "      <td>README_for_consensus_data.docx</td>\n",
       "    </tr>\n",
       "    <tr>\n",
       "      <th>1795</th>\n",
       "      <td>493</td>\n",
       "      <td>all_images.csv</td>\n",
       "    </tr>\n",
       "    <tr>\n",
       "      <th>1796</th>\n",
       "      <td>493</td>\n",
       "      <td>raw_data_for_dryad.csv.zip</td>\n",
       "    </tr>\n",
       "    <tr>\n",
       "      <th>1797</th>\n",
       "      <td>493</td>\n",
       "      <td>README_for_raw_data_for_dryad.csv.docx</td>\n",
       "    </tr>\n",
       "  </tbody>\n",
       "</table>\n",
       "</div>"
      ],
      "text/plain": [
       "       id                                    path\n",
       "1791  493                  gold_standard_data.csv\n",
       "1792  493                       search_effort.csv\n",
       "1793  493                      consensus_data.csv\n",
       "1794  493          README_for_consensus_data.docx\n",
       "1795  493                          all_images.csv\n",
       "1796  493              raw_data_for_dryad.csv.zip\n",
       "1797  493  README_for_raw_data_for_dryad.csv.docx"
      ]
     },
     "execution_count": 96,
     "metadata": {},
     "output_type": "execute_result"
    }
   ],
   "source": [
    "#confirm accuracy\n",
    "files_ids[files_ids['id'] == 493]"
   ]
  },
  {
   "cell_type": "code",
   "execution_count": 97,
   "id": "b2c5546b",
   "metadata": {},
   "outputs": [
    {
     "data": {
      "text/plain": [
       "['.csv.docx', '.csv.zip', '.docx', '.csv']"
      ]
     },
     "execution_count": 97,
     "metadata": {},
     "output_type": "execute_result"
    }
   ],
   "source": [
    "#object id 493 has 7 files, across 4 file types\n",
    "#(for our purposes, csv.zip != csv)\n",
    "files_extension_set[493]"
   ]
  },
  {
   "cell_type": "code",
   "execution_count": 98,
   "id": "686b120b",
   "metadata": {},
   "outputs": [
    {
     "data": {
      "text/html": [
       "<div>\n",
       "<style scoped>\n",
       "    .dataframe tbody tr th:only-of-type {\n",
       "        vertical-align: middle;\n",
       "    }\n",
       "\n",
       "    .dataframe tbody tr th {\n",
       "        vertical-align: top;\n",
       "    }\n",
       "\n",
       "    .dataframe thead th {\n",
       "        text-align: right;\n",
       "    }\n",
       "</style>\n",
       "<table border=\"1\" class=\"dataframe\">\n",
       "  <thead>\n",
       "    <tr style=\"text-align: right;\">\n",
       "      <th></th>\n",
       "      <th>path</th>\n",
       "    </tr>\n",
       "    <tr>\n",
       "      <th>id</th>\n",
       "      <th></th>\n",
       "    </tr>\n",
       "  </thead>\n",
       "  <tbody>\n",
       "    <tr>\n",
       "      <th>493</th>\n",
       "      <td>.csv.docx</td>\n",
       "    </tr>\n",
       "    <tr>\n",
       "      <th>493</th>\n",
       "      <td>.csv.zip</td>\n",
       "    </tr>\n",
       "    <tr>\n",
       "      <th>493</th>\n",
       "      <td>.docx</td>\n",
       "    </tr>\n",
       "    <tr>\n",
       "      <th>493</th>\n",
       "      <td>.csv</td>\n",
       "    </tr>\n",
       "    <tr>\n",
       "      <th>665</th>\n",
       "      <td>.csv</td>\n",
       "    </tr>\n",
       "    <tr>\n",
       "      <th>...</th>\n",
       "      <td>...</td>\n",
       "    </tr>\n",
       "    <tr>\n",
       "      <th>79987</th>\n",
       "      <td>.txt.best_model.nex_copy</td>\n",
       "    </tr>\n",
       "    <tr>\n",
       "      <th>79987</th>\n",
       "      <td>.Allsamples_txt.contree.tre</td>\n",
       "    </tr>\n",
       "    <tr>\n",
       "      <th>79987</th>\n",
       "      <td>.tre</td>\n",
       "    </tr>\n",
       "    <tr>\n",
       "      <th>79987</th>\n",
       "      <td>.txt.contree.tre</td>\n",
       "    </tr>\n",
       "    <tr>\n",
       "      <th>79987</th>\n",
       "      <td>.zip</td>\n",
       "    </tr>\n",
       "  </tbody>\n",
       "</table>\n",
       "<p>475 rows × 1 columns</p>\n",
       "</div>"
      ],
      "text/plain": [
       "                              path\n",
       "id                                \n",
       "493                      .csv.docx\n",
       "493                       .csv.zip\n",
       "493                          .docx\n",
       "493                           .csv\n",
       "665                           .csv\n",
       "...                            ...\n",
       "79987     .txt.best_model.nex_copy\n",
       "79987  .Allsamples_txt.contree.tre\n",
       "79987                         .tre\n",
       "79987             .txt.contree.tre\n",
       "79987                         .zip\n",
       "\n",
       "[475 rows x 1 columns]"
      ]
     },
     "execution_count": 98,
     "metadata": {},
     "output_type": "execute_result"
    }
   ],
   "source": [
    "#expand so each file within object is own row\n",
    "files_ext_ids = files_extension_set.explode().to_frame()\n",
    "files_ext_ids"
   ]
  },
  {
   "cell_type": "code",
   "execution_count": 99,
   "id": "b4c1c268",
   "metadata": {
    "scrolled": true
   },
   "outputs": [
    {
     "data": {
      "text/html": [
       "<div>\n",
       "<style scoped>\n",
       "    .dataframe tbody tr th:only-of-type {\n",
       "        vertical-align: middle;\n",
       "    }\n",
       "\n",
       "    .dataframe tbody tr th {\n",
       "        vertical-align: top;\n",
       "    }\n",
       "\n",
       "    .dataframe thead th {\n",
       "        text-align: right;\n",
       "    }\n",
       "</style>\n",
       "<table border=\"1\" class=\"dataframe\">\n",
       "  <thead>\n",
       "    <tr style=\"text-align: right;\">\n",
       "      <th></th>\n",
       "      <th>0</th>\n",
       "      <th>percent</th>\n",
       "    </tr>\n",
       "    <tr>\n",
       "      <th>path</th>\n",
       "      <th></th>\n",
       "      <th></th>\n",
       "    </tr>\n",
       "  </thead>\n",
       "  <tbody>\n",
       "    <tr>\n",
       "      <th>.zip</th>\n",
       "      <td>72</td>\n",
       "      <td>33.0</td>\n",
       "    </tr>\n",
       "    <tr>\n",
       "      <th>.txt</th>\n",
       "      <td>57</td>\n",
       "      <td>26.0</td>\n",
       "    </tr>\n",
       "    <tr>\n",
       "      <th>.csv</th>\n",
       "      <td>52</td>\n",
       "      <td>24.0</td>\n",
       "    </tr>\n",
       "    <tr>\n",
       "      <th>.xlsx</th>\n",
       "      <td>41</td>\n",
       "      <td>19.0</td>\n",
       "    </tr>\n",
       "    <tr>\n",
       "      <th>.docx</th>\n",
       "      <td>23</td>\n",
       "      <td>11.0</td>\n",
       "    </tr>\n",
       "    <tr>\n",
       "      <th>.pdf</th>\n",
       "      <td>19</td>\n",
       "      <td>9.0</td>\n",
       "    </tr>\n",
       "    <tr>\n",
       "      <th>.tar.gz</th>\n",
       "      <td>16</td>\n",
       "      <td>7.0</td>\n",
       "    </tr>\n",
       "    <tr>\n",
       "      <th>.R</th>\n",
       "      <td>15</td>\n",
       "      <td>7.0</td>\n",
       "    </tr>\n",
       "  </tbody>\n",
       "</table>\n",
       "</div>"
      ],
      "text/plain": [
       "          0  percent\n",
       "path                \n",
       ".zip     72     33.0\n",
       ".txt     57     26.0\n",
       ".csv     52     24.0\n",
       ".xlsx    41     19.0\n",
       ".docx    23     11.0\n",
       ".pdf     19      9.0\n",
       ".tar.gz  16      7.0\n",
       ".R       15      7.0"
      ]
     },
     "execution_count": 99,
     "metadata": {},
     "output_type": "execute_result"
    }
   ],
   "source": [
    "#get ESTIMATE of most common file formats - needs clean up\n",
    "\n",
    "#group by extension type to count how many objects have each file type\n",
    "ext_grouped = files_ext_ids.groupby('path').value_counts().to_frame().sort_values(by = 0, ascending = False)\n",
    "ext_grouped['percent'] = round(ext_grouped/len(files_ids_list) * 100)\n",
    "ext_grouped[ext_grouped['percent'] >= 5]"
   ]
  },
  {
   "cell_type": "code",
   "execution_count": 100,
   "id": "3c68ec31",
   "metadata": {
    "scrolled": true
   },
   "outputs": [],
   "source": [
    "#export for further clean up, refining estimates, and plotting"
   ]
  },
  {
   "cell_type": "code",
   "execution_count": 101,
   "id": "28d6ccad",
   "metadata": {},
   "outputs": [
    {
     "data": {
      "text/html": [
       "<div>\n",
       "<style scoped>\n",
       "    .dataframe tbody tr th:only-of-type {\n",
       "        vertical-align: middle;\n",
       "    }\n",
       "\n",
       "    .dataframe tbody tr th {\n",
       "        vertical-align: top;\n",
       "    }\n",
       "\n",
       "    .dataframe thead th {\n",
       "        text-align: right;\n",
       "    }\n",
       "</style>\n",
       "<table border=\"1\" class=\"dataframe\">\n",
       "  <thead>\n",
       "    <tr style=\"text-align: right;\">\n",
       "      <th></th>\n",
       "      <th>index</th>\n",
       "      <th>files</th>\n",
       "      <th>repo</th>\n",
       "    </tr>\n",
       "  </thead>\n",
       "  <tbody>\n",
       "    <tr>\n",
       "      <th>0</th>\n",
       "      <td>493</td>\n",
       "      <td>.csv.docx</td>\n",
       "      <td>dryad</td>\n",
       "    </tr>\n",
       "    <tr>\n",
       "      <th>1</th>\n",
       "      <td>493</td>\n",
       "      <td>.csv.zip</td>\n",
       "      <td>dryad</td>\n",
       "    </tr>\n",
       "    <tr>\n",
       "      <th>2</th>\n",
       "      <td>493</td>\n",
       "      <td>.docx</td>\n",
       "      <td>dryad</td>\n",
       "    </tr>\n",
       "    <tr>\n",
       "      <th>3</th>\n",
       "      <td>493</td>\n",
       "      <td>.csv</td>\n",
       "      <td>dryad</td>\n",
       "    </tr>\n",
       "    <tr>\n",
       "      <th>4</th>\n",
       "      <td>665</td>\n",
       "      <td>.csv</td>\n",
       "      <td>dryad</td>\n",
       "    </tr>\n",
       "    <tr>\n",
       "      <th>...</th>\n",
       "      <td>...</td>\n",
       "      <td>...</td>\n",
       "      <td>...</td>\n",
       "    </tr>\n",
       "    <tr>\n",
       "      <th>470</th>\n",
       "      <td>79987</td>\n",
       "      <td>.txt.best_model.nex_copy</td>\n",
       "      <td>dryad</td>\n",
       "    </tr>\n",
       "    <tr>\n",
       "      <th>471</th>\n",
       "      <td>79987</td>\n",
       "      <td>.Allsamples_txt.contree.tre</td>\n",
       "      <td>dryad</td>\n",
       "    </tr>\n",
       "    <tr>\n",
       "      <th>472</th>\n",
       "      <td>79987</td>\n",
       "      <td>.tre</td>\n",
       "      <td>dryad</td>\n",
       "    </tr>\n",
       "    <tr>\n",
       "      <th>473</th>\n",
       "      <td>79987</td>\n",
       "      <td>.txt.contree.tre</td>\n",
       "      <td>dryad</td>\n",
       "    </tr>\n",
       "    <tr>\n",
       "      <th>474</th>\n",
       "      <td>79987</td>\n",
       "      <td>.zip</td>\n",
       "      <td>dryad</td>\n",
       "    </tr>\n",
       "  </tbody>\n",
       "</table>\n",
       "<p>475 rows × 3 columns</p>\n",
       "</div>"
      ],
      "text/plain": [
       "     index                        files   repo\n",
       "0      493                    .csv.docx  dryad\n",
       "1      493                     .csv.zip  dryad\n",
       "2      493                        .docx  dryad\n",
       "3      493                         .csv  dryad\n",
       "4      665                         .csv  dryad\n",
       "..     ...                          ...    ...\n",
       "470  79987     .txt.best_model.nex_copy  dryad\n",
       "471  79987  .Allsamples_txt.contree.tre  dryad\n",
       "472  79987                         .tre  dryad\n",
       "473  79987             .txt.contree.tre  dryad\n",
       "474  79987                         .zip  dryad\n",
       "\n",
       "[475 rows x 3 columns]"
      ]
     },
     "execution_count": 101,
     "metadata": {},
     "output_type": "execute_result"
    }
   ],
   "source": [
    "#reset index and update column names\n",
    "ext_grouped_ready = files_ext_ids.reset_index(level=0)\n",
    "ext_grouped_ready.columns = ['index', 'files']\n",
    "\n",
    "#add column with name of repo\n",
    "ext_grouped_ready['repo'] = 'dryad'\n",
    "\n",
    "ext_grouped_ready"
   ]
  },
  {
   "cell_type": "code",
   "execution_count": 102,
   "id": "45086060",
   "metadata": {},
   "outputs": [],
   "source": [
    "#export to Figures folder\n",
    "ext_grouped_ready.to_csv('..\\\\..\\\\Figures\\\\Figure2\\\\file_ext_data\\\\dryad_extensions.csv')"
   ]
  },
  {
   "cell_type": "markdown",
   "id": "4abddb9b",
   "metadata": {
    "pycharm": {
     "name": "#%% md\n"
    }
   },
   "source": [
    "## 19.5 How many files of each type of file extension are present?\n",
    "**Property:** File extension"
   ]
  },
  {
   "cell_type": "code",
   "execution_count": 103,
   "id": "6a7316a9",
   "metadata": {
    "pycharm": {
     "name": "#%%\n"
    },
    "scrolled": true
   },
   "outputs": [
    {
     "data": {
      "text/plain": [
       "0                         Metanonychus_Input_Matrices.zip\n",
       "1                Metanonychus_UCEalignments_50percent.zip\n",
       "2                Metanonychus_UCEalignments_70percent.zip\n",
       "3                                         Phylogenies.zip\n",
       "4                                             dataset.zip\n",
       "                              ...                        \n",
       "2971                                           Readme.txt\n",
       "2972                                  PONE-D-14-48810.txt\n",
       "2973    Template_taxonomy_data_(from_Appendix_S10_and_...\n",
       "2974                      Dataset_Journal_survey_all.xlsx\n",
       "2975                          Supplementary_Materials.pdf\n",
       "Name: path, Length: 2976, dtype: object"
      ]
     },
     "execution_count": 103,
     "metadata": {},
     "output_type": "execute_result"
    }
   ],
   "source": [
    "#pick up from files\n",
    "files"
   ]
  },
  {
   "cell_type": "code",
   "execution_count": 104,
   "id": "5640403b",
   "metadata": {},
   "outputs": [
    {
     "data": {
      "text/plain": [
       "0                         Metanonychus_Input_Matrices.zip\n",
       "1                Metanonychus_UCEalignments_50percent.zip\n",
       "2                Metanonychus_UCEalignments_70percent.zip\n",
       "3                                         Phylogenies.zip\n",
       "4                                             dataset.zip\n",
       "                              ...                        \n",
       "2970                                           Readme.txt\n",
       "2971                                  PONE-D-14-48810.txt\n",
       "2972    Template_taxonomy_data_(from_Appendix_S10_and_...\n",
       "2973                      Dataset_Journal_survey_all.xlsx\n",
       "2974                          Supplementary_Materials.pdf\n",
       "Length: 2975, dtype: object"
      ]
     },
     "execution_count": 104,
     "metadata": {},
     "output_type": "execute_result"
    }
   ],
   "source": [
    "#remove None\n",
    "files_ext_all = pd.Series(filter(None, files))\n",
    "files_ext_all"
   ]
  },
  {
   "cell_type": "code",
   "execution_count": 105,
   "id": "cbfd2bb2",
   "metadata": {},
   "outputs": [
    {
     "data": {
      "text/plain": [
       "0        [.zip]\n",
       "1        [.zip]\n",
       "2        [.zip]\n",
       "3        [.zip]\n",
       "4        [.zip]\n",
       "         ...   \n",
       "2970     [.txt]\n",
       "2971     [.txt]\n",
       "2972    [.xlsx]\n",
       "2973    [.xlsx]\n",
       "2974     [.pdf]\n",
       "Length: 2975, dtype: object"
      ]
     },
     "execution_count": 105,
     "metadata": {},
     "output_type": "execute_result"
    }
   ],
   "source": [
    "files_ext_all_df = files_ext_all.apply(lambda fn: Path(fn).suffixes)\n",
    "files_ext_all_df"
   ]
  },
  {
   "cell_type": "code",
   "execution_count": 106,
   "id": "09e52896",
   "metadata": {
    "scrolled": true
   },
   "outputs": [
    {
     "data": {
      "text/html": [
       "<div>\n",
       "<style scoped>\n",
       "    .dataframe tbody tr th:only-of-type {\n",
       "        vertical-align: middle;\n",
       "    }\n",
       "\n",
       "    .dataframe tbody tr th {\n",
       "        vertical-align: top;\n",
       "    }\n",
       "\n",
       "    .dataframe thead th {\n",
       "        text-align: right;\n",
       "    }\n",
       "</style>\n",
       "<table border=\"1\" class=\"dataframe\">\n",
       "  <thead>\n",
       "    <tr style=\"text-align: right;\">\n",
       "      <th></th>\n",
       "      <th>0</th>\n",
       "    </tr>\n",
       "  </thead>\n",
       "  <tbody>\n",
       "    <tr>\n",
       "      <th>[.zip]</th>\n",
       "      <td>444</td>\n",
       "    </tr>\n",
       "    <tr>\n",
       "      <th>[.jpg]</th>\n",
       "      <td>346</td>\n",
       "    </tr>\n",
       "    <tr>\n",
       "      <th>[.tsv]</th>\n",
       "      <td>312</td>\n",
       "    </tr>\n",
       "    <tr>\n",
       "      <th>[.fasta]</th>\n",
       "      <td>308</td>\n",
       "    </tr>\n",
       "    <tr>\n",
       "      <th>[.fastq, .gz]</th>\n",
       "      <td>280</td>\n",
       "    </tr>\n",
       "    <tr>\n",
       "      <th>[.phy]</th>\n",
       "      <td>271</td>\n",
       "    </tr>\n",
       "    <tr>\n",
       "      <th>[.tif]</th>\n",
       "      <td>199</td>\n",
       "    </tr>\n",
       "    <tr>\n",
       "      <th>[.txt]</th>\n",
       "      <td>154</td>\n",
       "    </tr>\n",
       "    <tr>\n",
       "      <th>[.csv]</th>\n",
       "      <td>121</td>\n",
       "    </tr>\n",
       "    <tr>\n",
       "      <th>[.xlsx]</th>\n",
       "      <td>60</td>\n",
       "    </tr>\n",
       "  </tbody>\n",
       "</table>\n",
       "</div>"
      ],
      "text/plain": [
       "                 0\n",
       "[.zip]         444\n",
       "[.jpg]         346\n",
       "[.tsv]         312\n",
       "[.fasta]       308\n",
       "[.fastq, .gz]  280\n",
       "[.phy]         271\n",
       "[.tif]         199\n",
       "[.txt]         154\n",
       "[.csv]         121\n",
       "[.xlsx]         60"
      ]
     },
     "execution_count": 106,
     "metadata": {},
     "output_type": "execute_result"
    }
   ],
   "source": [
    "files_ext_counts = files_ext_all_df.value_counts().to_frame()\n",
    "files_ext_counts.head(10)"
   ]
  },
  {
   "cell_type": "markdown",
   "id": "182cd74d",
   "metadata": {
    "pycharm": {
     "name": "#%% md\n"
    }
   },
   "source": [
    "## 20. How many objects contain each type of File format given?\n",
    "**Property:** File format"
   ]
  },
  {
   "cell_type": "code",
   "execution_count": 107,
   "id": "6b28b655",
   "metadata": {
    "pycharm": {
     "name": "#%%\n"
    },
    "scrolled": true
   },
   "outputs": [],
   "source": [
    "file_formats = df.DryadRecordsCrosswalk.file_format\n",
    "file_formats"
   ]
  },
  {
   "cell_type": "code",
   "execution_count": 108,
   "id": "376edc73",
   "metadata": {},
   "outputs": [
    {
     "name": "stdout",
     "output_type": "stream",
     "text": [
      "None\n"
     ]
    }
   ],
   "source": [
    "#confirm missing for this repo\n",
    "print(df.DryadRecordsCrosswalk.file_format)"
   ]
  },
  {
   "cell_type": "markdown",
   "id": "57ab1d5a",
   "metadata": {
    "pycharm": {
     "name": "#%% md\n"
    }
   },
   "source": [
    "## 21. How many objects contain each type of Media type given?\n",
    "**Property:** Media type"
   ]
  },
  {
   "cell_type": "code",
   "execution_count": 109,
   "id": "7a6c0c24",
   "metadata": {
    "pycharm": {
     "name": "#%%\n"
    }
   },
   "outputs": [
    {
     "data": {
      "text/plain": [
       "0                                         application/zip\n",
       "1                                         application/zip\n",
       "2                                         application/zip\n",
       "3                                         application/zip\n",
       "4                                         application/zip\n",
       "                              ...                        \n",
       "2971                                           text/plain\n",
       "2972                                           text/plain\n",
       "2973    application/vnd.openxmlformats-officedocument....\n",
       "2974    application/vnd.openxmlformats-officedocument....\n",
       "2975                                      application/pdf\n",
       "Name: mimeType, Length: 2976, dtype: object"
      ]
     },
     "execution_count": 109,
     "metadata": {},
     "output_type": "execute_result"
    }
   ],
   "source": [
    "media_types = df.DryadRecordsCrosswalk.media_type\n",
    "media_types"
   ]
  },
  {
   "cell_type": "code",
   "execution_count": 110,
   "id": "8a08dcc4",
   "metadata": {},
   "outputs": [
    {
     "data": {
      "text/html": [
       "<div>\n",
       "<style scoped>\n",
       "    .dataframe tbody tr th:only-of-type {\n",
       "        vertical-align: middle;\n",
       "    }\n",
       "\n",
       "    .dataframe tbody tr th {\n",
       "        vertical-align: top;\n",
       "    }\n",
       "\n",
       "    .dataframe thead th {\n",
       "        text-align: right;\n",
       "    }\n",
       "</style>\n",
       "<table border=\"1\" class=\"dataframe\">\n",
       "  <thead>\n",
       "    <tr style=\"text-align: right;\">\n",
       "      <th></th>\n",
       "      <th>id</th>\n",
       "      <th>mimeType</th>\n",
       "    </tr>\n",
       "  </thead>\n",
       "  <tbody>\n",
       "    <tr>\n",
       "      <th>0</th>\n",
       "      <td>28194</td>\n",
       "      <td>application/zip</td>\n",
       "    </tr>\n",
       "    <tr>\n",
       "      <th>1</th>\n",
       "      <td>28194</td>\n",
       "      <td>application/zip</td>\n",
       "    </tr>\n",
       "    <tr>\n",
       "      <th>2</th>\n",
       "      <td>28194</td>\n",
       "      <td>application/zip</td>\n",
       "    </tr>\n",
       "    <tr>\n",
       "      <th>3</th>\n",
       "      <td>28194</td>\n",
       "      <td>application/zip</td>\n",
       "    </tr>\n",
       "    <tr>\n",
       "      <th>4</th>\n",
       "      <td>17689</td>\n",
       "      <td>application/zip</td>\n",
       "    </tr>\n",
       "    <tr>\n",
       "      <th>...</th>\n",
       "      <td>...</td>\n",
       "      <td>...</td>\n",
       "    </tr>\n",
       "    <tr>\n",
       "      <th>2971</th>\n",
       "      <td>61800</td>\n",
       "      <td>text/plain</td>\n",
       "    </tr>\n",
       "    <tr>\n",
       "      <th>2972</th>\n",
       "      <td>12676</td>\n",
       "      <td>text/plain</td>\n",
       "    </tr>\n",
       "    <tr>\n",
       "      <th>2973</th>\n",
       "      <td>37657</td>\n",
       "      <td>application/vnd.openxmlformats-officedocument....</td>\n",
       "    </tr>\n",
       "    <tr>\n",
       "      <th>2974</th>\n",
       "      <td>37657</td>\n",
       "      <td>application/vnd.openxmlformats-officedocument....</td>\n",
       "    </tr>\n",
       "    <tr>\n",
       "      <th>2975</th>\n",
       "      <td>37657</td>\n",
       "      <td>application/pdf</td>\n",
       "    </tr>\n",
       "  </tbody>\n",
       "</table>\n",
       "<p>2976 rows × 2 columns</p>\n",
       "</div>"
      ],
      "text/plain": [
       "         id                                           mimeType\n",
       "0     28194                                    application/zip\n",
       "1     28194                                    application/zip\n",
       "2     28194                                    application/zip\n",
       "3     28194                                    application/zip\n",
       "4     17689                                    application/zip\n",
       "...     ...                                                ...\n",
       "2971  61800                                         text/plain\n",
       "2972  12676                                         text/plain\n",
       "2973  37657  application/vnd.openxmlformats-officedocument....\n",
       "2974  37657  application/vnd.openxmlformats-officedocument....\n",
       "2975  37657                                    application/pdf\n",
       "\n",
       "[2976 rows x 2 columns]"
      ]
     },
     "execution_count": 110,
     "metadata": {},
     "output_type": "execute_result"
    }
   ],
   "source": [
    "#since interested in per object, need to group by ID\n",
    "media_ids = pd.concat([ids, media_types], axis = 1)\n",
    "media_ids"
   ]
  },
  {
   "cell_type": "code",
   "execution_count": 111,
   "id": "4a98d3ae",
   "metadata": {},
   "outputs": [
    {
     "data": {
      "text/html": [
       "<div>\n",
       "<style scoped>\n",
       "    .dataframe tbody tr th:only-of-type {\n",
       "        vertical-align: middle;\n",
       "    }\n",
       "\n",
       "    .dataframe tbody tr th {\n",
       "        vertical-align: top;\n",
       "    }\n",
       "\n",
       "    .dataframe thead th {\n",
       "        text-align: right;\n",
       "    }\n",
       "</style>\n",
       "<table border=\"1\" class=\"dataframe\">\n",
       "  <thead>\n",
       "    <tr style=\"text-align: right;\">\n",
       "      <th></th>\n",
       "      <th>id</th>\n",
       "      <th>mimeType</th>\n",
       "    </tr>\n",
       "  </thead>\n",
       "  <tbody>\n",
       "    <tr>\n",
       "      <th>0</th>\n",
       "      <td>28194</td>\n",
       "      <td>application/zip</td>\n",
       "    </tr>\n",
       "    <tr>\n",
       "      <th>4</th>\n",
       "      <td>17689</td>\n",
       "      <td>application/zip</td>\n",
       "    </tr>\n",
       "    <tr>\n",
       "      <th>5</th>\n",
       "      <td>67581</td>\n",
       "      <td></td>\n",
       "    </tr>\n",
       "    <tr>\n",
       "      <th>7</th>\n",
       "      <td>67581</td>\n",
       "      <td>text/plain</td>\n",
       "    </tr>\n",
       "    <tr>\n",
       "      <th>8</th>\n",
       "      <td>40246</td>\n",
       "      <td>application/octet-stream</td>\n",
       "    </tr>\n",
       "    <tr>\n",
       "      <th>...</th>\n",
       "      <td>...</td>\n",
       "      <td>...</td>\n",
       "    </tr>\n",
       "    <tr>\n",
       "      <th>2968</th>\n",
       "      <td>61800</td>\n",
       "      <td>application/octet-stream</td>\n",
       "    </tr>\n",
       "    <tr>\n",
       "      <th>2971</th>\n",
       "      <td>61800</td>\n",
       "      <td>text/plain</td>\n",
       "    </tr>\n",
       "    <tr>\n",
       "      <th>2972</th>\n",
       "      <td>12676</td>\n",
       "      <td>text/plain</td>\n",
       "    </tr>\n",
       "    <tr>\n",
       "      <th>2973</th>\n",
       "      <td>37657</td>\n",
       "      <td>application/vnd.openxmlformats-officedocument....</td>\n",
       "    </tr>\n",
       "    <tr>\n",
       "      <th>2975</th>\n",
       "      <td>37657</td>\n",
       "      <td>application/pdf</td>\n",
       "    </tr>\n",
       "  </tbody>\n",
       "</table>\n",
       "<p>384 rows × 2 columns</p>\n",
       "</div>"
      ],
      "text/plain": [
       "         id                                           mimeType\n",
       "0     28194                                    application/zip\n",
       "4     17689                                    application/zip\n",
       "5     67581                                                   \n",
       "7     67581                                         text/plain\n",
       "8     40246                           application/octet-stream\n",
       "...     ...                                                ...\n",
       "2968  61800                           application/octet-stream\n",
       "2971  61800                                         text/plain\n",
       "2972  12676                                         text/plain\n",
       "2973  37657  application/vnd.openxmlformats-officedocument....\n",
       "2975  37657                                    application/pdf\n",
       "\n",
       "[384 rows x 2 columns]"
      ]
     },
     "execution_count": 111,
     "metadata": {},
     "output_type": "execute_result"
    }
   ],
   "source": [
    "#drop duplicates\n",
    "media_ids_unique = media_ids.drop_duplicates()\n",
    "media_ids_unique"
   ]
  },
  {
   "cell_type": "code",
   "execution_count": 112,
   "id": "f7b31ced",
   "metadata": {
    "scrolled": true
   },
   "outputs": [],
   "source": [
    "#group by media type to find number of objects\n",
    "media_grouped = media_ids_unique.groupby('mimeType').value_counts().groupby('mimeType').size().sort_values(ascending = False)\n",
    "media_grouped = pd.DataFrame(media_grouped)"
   ]
  },
  {
   "cell_type": "code",
   "execution_count": 113,
   "id": "bc476e64",
   "metadata": {},
   "outputs": [
    {
     "data": {
      "text/html": [
       "<div>\n",
       "<style scoped>\n",
       "    .dataframe tbody tr th:only-of-type {\n",
       "        vertical-align: middle;\n",
       "    }\n",
       "\n",
       "    .dataframe tbody tr th {\n",
       "        vertical-align: top;\n",
       "    }\n",
       "\n",
       "    .dataframe thead th {\n",
       "        text-align: right;\n",
       "    }\n",
       "</style>\n",
       "<table border=\"1\" class=\"dataframe\">\n",
       "  <thead>\n",
       "    <tr style=\"text-align: right;\">\n",
       "      <th></th>\n",
       "      <th>0</th>\n",
       "      <th>percent</th>\n",
       "    </tr>\n",
       "    <tr>\n",
       "      <th>mimeType</th>\n",
       "      <th></th>\n",
       "      <th></th>\n",
       "    </tr>\n",
       "  </thead>\n",
       "  <tbody>\n",
       "    <tr>\n",
       "      <th>text/plain</th>\n",
       "      <td>67</td>\n",
       "      <td>31.0</td>\n",
       "    </tr>\n",
       "    <tr>\n",
       "      <th>application/zip</th>\n",
       "      <td>61</td>\n",
       "      <td>28.0</td>\n",
       "    </tr>\n",
       "    <tr>\n",
       "      <th>application/vnd.openxmlformats-officedocument.spreadsheetml.sheet</th>\n",
       "      <td>42</td>\n",
       "      <td>19.0</td>\n",
       "    </tr>\n",
       "    <tr>\n",
       "      <th>application/octet-stream</th>\n",
       "      <td>38</td>\n",
       "      <td>17.0</td>\n",
       "    </tr>\n",
       "    <tr>\n",
       "      <th>text/csv</th>\n",
       "      <td>34</td>\n",
       "      <td>16.0</td>\n",
       "    </tr>\n",
       "    <tr>\n",
       "      <th>application/vnd.openxmlformats-officedocument.wordprocessingml.document</th>\n",
       "      <td>23</td>\n",
       "      <td>11.0</td>\n",
       "    </tr>\n",
       "    <tr>\n",
       "      <th>application/vnd.ms-excel</th>\n",
       "      <td>20</td>\n",
       "      <td>9.0</td>\n",
       "    </tr>\n",
       "    <tr>\n",
       "      <th>application/pdf</th>\n",
       "      <td>19</td>\n",
       "      <td>9.0</td>\n",
       "    </tr>\n",
       "    <tr>\n",
       "      <th>application/x-gzip</th>\n",
       "      <td>16</td>\n",
       "      <td>7.0</td>\n",
       "    </tr>\n",
       "    <tr>\n",
       "      <th>application/x-zip-compressed</th>\n",
       "      <td>14</td>\n",
       "      <td>6.0</td>\n",
       "    </tr>\n",
       "    <tr>\n",
       "      <th></th>\n",
       "      <td>10</td>\n",
       "      <td>5.0</td>\n",
       "    </tr>\n",
       "  </tbody>\n",
       "</table>\n",
       "</div>"
      ],
      "text/plain": [
       "                                                     0  percent\n",
       "mimeType                                                       \n",
       "text/plain                                          67     31.0\n",
       "application/zip                                     61     28.0\n",
       "application/vnd.openxmlformats-officedocument.s...  42     19.0\n",
       "application/octet-stream                            38     17.0\n",
       "text/csv                                            34     16.0\n",
       "application/vnd.openxmlformats-officedocument.w...  23     11.0\n",
       "application/vnd.ms-excel                            20      9.0\n",
       "application/pdf                                     19      9.0\n",
       "application/x-gzip                                  16      7.0\n",
       "application/x-zip-compressed                        14      6.0\n",
       "                                                    10      5.0"
      ]
     },
     "execution_count": 113,
     "metadata": {},
     "output_type": "execute_result"
    }
   ],
   "source": [
    "media_grouped['percent'] = round(media_grouped[0]/len(files_ids_list) * 100)\n",
    "media_grouped[media_grouped['percent'] >= 5]"
   ]
  },
  {
   "cell_type": "markdown",
   "id": "a1b72082",
   "metadata": {
    "pycharm": {
     "name": "#%% md\n"
    }
   },
   "source": [
    "## 22. a) How many objects report one related resource type, and b) how many objects report each of those types? c) How many objects report multiple related resource types (regardless of which types)?\n",
    "**Property:** Related resource type"
   ]
  },
  {
   "cell_type": "code",
   "execution_count": 114,
   "id": "76563a14",
   "metadata": {
    "pycharm": {
     "name": "#%%\n"
    }
   },
   "outputs": [
    {
     "data": {
      "text/plain": [
       "0       [primary_article]\n",
       "1       [primary_article]\n",
       "2       [primary_article]\n",
       "3       [primary_article]\n",
       "4       [primary_article]\n",
       "              ...        \n",
       "2971    [primary_article]\n",
       "2972    [primary_article]\n",
       "2973                 None\n",
       "2974                 None\n",
       "2975                 None\n",
       "Name: relatedWorks, Length: 2976, dtype: object"
      ]
     },
     "execution_count": 114,
     "metadata": {},
     "output_type": "execute_result"
    }
   ],
   "source": [
    "related_resource_types = df.DryadRecordsCrosswalk.related_resource_type\n",
    "related_resource_types"
   ]
  },
  {
   "cell_type": "code",
   "execution_count": 115,
   "id": "13294f52",
   "metadata": {},
   "outputs": [
    {
     "name": "stdout",
     "output_type": "stream",
     "text": [
      "0       [primary_article]\n",
      "1       [primary_article]\n",
      "2       [primary_article]\n",
      "3       [primary_article]\n",
      "4       [primary_article]\n",
      "              ...        \n",
      "2971    [primary_article]\n",
      "2972    [primary_article]\n",
      "2973                 None\n",
      "2974                 None\n",
      "2975                 None\n",
      "Name: relatedWorks, Length: 2976, dtype: object\n"
     ]
    }
   ],
   "source": [
    "#confirm missing for this repo\n",
    "print(df.DryadRecordsCrosswalk.related_resource_type)"
   ]
  },
  {
   "cell_type": "markdown",
   "id": "8975767e",
   "metadata": {
    "pycharm": {
     "name": "#%% md\n"
    }
   },
   "source": [
    "\n",
    "## 23-25. If there is an entry for an object in one of the three properties (Original data URL, Primary manuscript PID/URL, and Related resource identifier) count as Related resources = True and then count the number of objects that return True.\n",
    "**Property:** Related Resource Identifier"
   ]
  },
  {
   "cell_type": "code",
   "execution_count": 116,
   "id": "61d2339d",
   "metadata": {},
   "outputs": [
    {
     "name": "stdout",
     "output_type": "stream",
     "text": [
      "None\n"
     ]
    }
   ],
   "source": [
    "print(df.DryadRecordsCrosswalk.original_data_url)"
   ]
  },
  {
   "cell_type": "code",
   "execution_count": 117,
   "id": "53e5b218",
   "metadata": {},
   "outputs": [
    {
     "name": "stdout",
     "output_type": "stream",
     "text": [
      "0        [https://doi.org/10.1016/j.ympev.2019.106562]\n",
      "1        [https://doi.org/10.1016/j.ympev.2019.106562]\n",
      "2        [https://doi.org/10.1016/j.ympev.2019.106562]\n",
      "3        [https://doi.org/10.1016/j.ympev.2019.106562]\n",
      "4       [https://doi.org/10.1371/journal.pone.0177726]\n",
      "                             ...                      \n",
      "2971               [https://doi.org/10.1111/jbi.14083]\n",
      "2972    [https://doi.org/10.1371/journal.pone.0125049]\n",
      "2973                                              None\n",
      "2974                                              None\n",
      "2975                                              None\n",
      "Name: relatedWorks, Length: 2976, dtype: object\n"
     ]
    }
   ],
   "source": [
    "print(df.DryadRecordsCrosswalk.primary_manuscript)"
   ]
  },
  {
   "cell_type": "code",
   "execution_count": 118,
   "id": "4d68d2a7",
   "metadata": {
    "scrolled": true
   },
   "outputs": [
    {
     "name": "stdout",
     "output_type": "stream",
     "text": [
      "0        [https://doi.org/10.1016/j.ympev.2019.106562]\n",
      "1        [https://doi.org/10.1016/j.ympev.2019.106562]\n",
      "2        [https://doi.org/10.1016/j.ympev.2019.106562]\n",
      "3        [https://doi.org/10.1016/j.ympev.2019.106562]\n",
      "4       [https://doi.org/10.1371/journal.pone.0177726]\n",
      "                             ...                      \n",
      "2971               [https://doi.org/10.1111/jbi.14083]\n",
      "2972    [https://doi.org/10.1371/journal.pone.0125049]\n",
      "2973                                              None\n",
      "2974                                              None\n",
      "2975                                              None\n",
      "Name: relatedWorks, Length: 2976, dtype: object\n"
     ]
    }
   ],
   "source": [
    "print(df.DryadRecordsCrosswalk.related_resource_identifier)"
   ]
  },
  {
   "cell_type": "code",
   "execution_count": 119,
   "id": "a80b2017",
   "metadata": {},
   "outputs": [],
   "source": [
    "related_resource1 = df.DryadRecordsCrosswalk.primary_manuscript\n",
    "related_resource2 = df.DryadRecordsCrosswalk.related_resource_identifier"
   ]
  },
  {
   "cell_type": "code",
   "execution_count": 120,
   "id": "0520f8fd",
   "metadata": {
    "scrolled": true
   },
   "outputs": [
    {
     "data": {
      "text/html": [
       "<div>\n",
       "<style scoped>\n",
       "    .dataframe tbody tr th:only-of-type {\n",
       "        vertical-align: middle;\n",
       "    }\n",
       "\n",
       "    .dataframe tbody tr th {\n",
       "        vertical-align: top;\n",
       "    }\n",
       "\n",
       "    .dataframe thead th {\n",
       "        text-align: right;\n",
       "    }\n",
       "</style>\n",
       "<table border=\"1\" class=\"dataframe\">\n",
       "  <thead>\n",
       "    <tr style=\"text-align: right;\">\n",
       "      <th></th>\n",
       "      <th>relatedWorks</th>\n",
       "      <th>relatedWorks</th>\n",
       "      <th>id</th>\n",
       "    </tr>\n",
       "  </thead>\n",
       "  <tbody>\n",
       "    <tr>\n",
       "      <th>0</th>\n",
       "      <td>[https://doi.org/10.1016/j.ympev.2019.106562]</td>\n",
       "      <td>[https://doi.org/10.1016/j.ympev.2019.106562]</td>\n",
       "      <td>28194</td>\n",
       "    </tr>\n",
       "    <tr>\n",
       "      <th>1</th>\n",
       "      <td>[https://doi.org/10.1016/j.ympev.2019.106562]</td>\n",
       "      <td>[https://doi.org/10.1016/j.ympev.2019.106562]</td>\n",
       "      <td>28194</td>\n",
       "    </tr>\n",
       "    <tr>\n",
       "      <th>2</th>\n",
       "      <td>[https://doi.org/10.1016/j.ympev.2019.106562]</td>\n",
       "      <td>[https://doi.org/10.1016/j.ympev.2019.106562]</td>\n",
       "      <td>28194</td>\n",
       "    </tr>\n",
       "    <tr>\n",
       "      <th>3</th>\n",
       "      <td>[https://doi.org/10.1016/j.ympev.2019.106562]</td>\n",
       "      <td>[https://doi.org/10.1016/j.ympev.2019.106562]</td>\n",
       "      <td>28194</td>\n",
       "    </tr>\n",
       "    <tr>\n",
       "      <th>4</th>\n",
       "      <td>[https://doi.org/10.1371/journal.pone.0177726]</td>\n",
       "      <td>[https://doi.org/10.1371/journal.pone.0177726]</td>\n",
       "      <td>17689</td>\n",
       "    </tr>\n",
       "    <tr>\n",
       "      <th>...</th>\n",
       "      <td>...</td>\n",
       "      <td>...</td>\n",
       "      <td>...</td>\n",
       "    </tr>\n",
       "    <tr>\n",
       "      <th>2971</th>\n",
       "      <td>[https://doi.org/10.1111/jbi.14083]</td>\n",
       "      <td>[https://doi.org/10.1111/jbi.14083]</td>\n",
       "      <td>61800</td>\n",
       "    </tr>\n",
       "    <tr>\n",
       "      <th>2972</th>\n",
       "      <td>[https://doi.org/10.1371/journal.pone.0125049]</td>\n",
       "      <td>[https://doi.org/10.1371/journal.pone.0125049]</td>\n",
       "      <td>12676</td>\n",
       "    </tr>\n",
       "    <tr>\n",
       "      <th>2973</th>\n",
       "      <td>None</td>\n",
       "      <td>None</td>\n",
       "      <td>37657</td>\n",
       "    </tr>\n",
       "    <tr>\n",
       "      <th>2974</th>\n",
       "      <td>None</td>\n",
       "      <td>None</td>\n",
       "      <td>37657</td>\n",
       "    </tr>\n",
       "    <tr>\n",
       "      <th>2975</th>\n",
       "      <td>None</td>\n",
       "      <td>None</td>\n",
       "      <td>37657</td>\n",
       "    </tr>\n",
       "  </tbody>\n",
       "</table>\n",
       "<p>2976 rows × 3 columns</p>\n",
       "</div>"
      ],
      "text/plain": [
       "                                        relatedWorks  \\\n",
       "0      [https://doi.org/10.1016/j.ympev.2019.106562]   \n",
       "1      [https://doi.org/10.1016/j.ympev.2019.106562]   \n",
       "2      [https://doi.org/10.1016/j.ympev.2019.106562]   \n",
       "3      [https://doi.org/10.1016/j.ympev.2019.106562]   \n",
       "4     [https://doi.org/10.1371/journal.pone.0177726]   \n",
       "...                                              ...   \n",
       "2971             [https://doi.org/10.1111/jbi.14083]   \n",
       "2972  [https://doi.org/10.1371/journal.pone.0125049]   \n",
       "2973                                            None   \n",
       "2974                                            None   \n",
       "2975                                            None   \n",
       "\n",
       "                                        relatedWorks     id  \n",
       "0      [https://doi.org/10.1016/j.ympev.2019.106562]  28194  \n",
       "1      [https://doi.org/10.1016/j.ympev.2019.106562]  28194  \n",
       "2      [https://doi.org/10.1016/j.ympev.2019.106562]  28194  \n",
       "3      [https://doi.org/10.1016/j.ympev.2019.106562]  28194  \n",
       "4     [https://doi.org/10.1371/journal.pone.0177726]  17689  \n",
       "...                                              ...    ...  \n",
       "2971             [https://doi.org/10.1111/jbi.14083]  61800  \n",
       "2972  [https://doi.org/10.1371/journal.pone.0125049]  12676  \n",
       "2973                                            None  37657  \n",
       "2974                                            None  37657  \n",
       "2975                                            None  37657  \n",
       "\n",
       "[2976 rows x 3 columns]"
      ]
     },
     "execution_count": 120,
     "metadata": {},
     "output_type": "execute_result"
    }
   ],
   "source": [
    "#concatenate resources along with id\n",
    "related_resource_all = pd.concat([related_resource1, related_resource2], axis = 1)\n",
    "related_resource_all = pd.concat([related_resource_all, ids], axis = 1)\n",
    "related_resource_all"
   ]
  },
  {
   "cell_type": "code",
   "execution_count": 121,
   "id": "69cb5f91",
   "metadata": {
    "scrolled": true
   },
   "outputs": [
    {
     "data": {
      "text/html": [
       "<div>\n",
       "<style scoped>\n",
       "    .dataframe tbody tr th:only-of-type {\n",
       "        vertical-align: middle;\n",
       "    }\n",
       "\n",
       "    .dataframe tbody tr th {\n",
       "        vertical-align: top;\n",
       "    }\n",
       "\n",
       "    .dataframe thead th {\n",
       "        text-align: right;\n",
       "    }\n",
       "</style>\n",
       "<table border=\"1\" class=\"dataframe\">\n",
       "  <thead>\n",
       "    <tr style=\"text-align: right;\">\n",
       "      <th></th>\n",
       "      <th>relatedWorks</th>\n",
       "      <th>relatedWorks</th>\n",
       "      <th>id</th>\n",
       "    </tr>\n",
       "  </thead>\n",
       "  <tbody>\n",
       "    <tr>\n",
       "      <th>0</th>\n",
       "      <td>[https://doi.org/10.1016/j.ympev.2019.106562]</td>\n",
       "      <td>[https://doi.org/10.1016/j.ympev.2019.106562]</td>\n",
       "      <td>28194</td>\n",
       "    </tr>\n",
       "    <tr>\n",
       "      <th>1</th>\n",
       "      <td>[https://doi.org/10.1016/j.ympev.2019.106562]</td>\n",
       "      <td>[https://doi.org/10.1016/j.ympev.2019.106562]</td>\n",
       "      <td>28194</td>\n",
       "    </tr>\n",
       "    <tr>\n",
       "      <th>2</th>\n",
       "      <td>[https://doi.org/10.1016/j.ympev.2019.106562]</td>\n",
       "      <td>[https://doi.org/10.1016/j.ympev.2019.106562]</td>\n",
       "      <td>28194</td>\n",
       "    </tr>\n",
       "    <tr>\n",
       "      <th>3</th>\n",
       "      <td>[https://doi.org/10.1016/j.ympev.2019.106562]</td>\n",
       "      <td>[https://doi.org/10.1016/j.ympev.2019.106562]</td>\n",
       "      <td>28194</td>\n",
       "    </tr>\n",
       "    <tr>\n",
       "      <th>4</th>\n",
       "      <td>[https://doi.org/10.1371/journal.pone.0177726]</td>\n",
       "      <td>[https://doi.org/10.1371/journal.pone.0177726]</td>\n",
       "      <td>17689</td>\n",
       "    </tr>\n",
       "    <tr>\n",
       "      <th>...</th>\n",
       "      <td>...</td>\n",
       "      <td>...</td>\n",
       "      <td>...</td>\n",
       "    </tr>\n",
       "    <tr>\n",
       "      <th>2971</th>\n",
       "      <td>[https://doi.org/10.1111/jbi.14083]</td>\n",
       "      <td>[https://doi.org/10.1111/jbi.14083]</td>\n",
       "      <td>61800</td>\n",
       "    </tr>\n",
       "    <tr>\n",
       "      <th>2972</th>\n",
       "      <td>[https://doi.org/10.1371/journal.pone.0125049]</td>\n",
       "      <td>[https://doi.org/10.1371/journal.pone.0125049]</td>\n",
       "      <td>12676</td>\n",
       "    </tr>\n",
       "    <tr>\n",
       "      <th>2973</th>\n",
       "      <td>[]</td>\n",
       "      <td>[]</td>\n",
       "      <td>37657</td>\n",
       "    </tr>\n",
       "    <tr>\n",
       "      <th>2974</th>\n",
       "      <td>[]</td>\n",
       "      <td>[]</td>\n",
       "      <td>37657</td>\n",
       "    </tr>\n",
       "    <tr>\n",
       "      <th>2975</th>\n",
       "      <td>[]</td>\n",
       "      <td>[]</td>\n",
       "      <td>37657</td>\n",
       "    </tr>\n",
       "  </tbody>\n",
       "</table>\n",
       "<p>2976 rows × 3 columns</p>\n",
       "</div>"
      ],
      "text/plain": [
       "                                        relatedWorks  \\\n",
       "0      [https://doi.org/10.1016/j.ympev.2019.106562]   \n",
       "1      [https://doi.org/10.1016/j.ympev.2019.106562]   \n",
       "2      [https://doi.org/10.1016/j.ympev.2019.106562]   \n",
       "3      [https://doi.org/10.1016/j.ympev.2019.106562]   \n",
       "4     [https://doi.org/10.1371/journal.pone.0177726]   \n",
       "...                                              ...   \n",
       "2971             [https://doi.org/10.1111/jbi.14083]   \n",
       "2972  [https://doi.org/10.1371/journal.pone.0125049]   \n",
       "2973                                              []   \n",
       "2974                                              []   \n",
       "2975                                              []   \n",
       "\n",
       "                                        relatedWorks     id  \n",
       "0      [https://doi.org/10.1016/j.ympev.2019.106562]  28194  \n",
       "1      [https://doi.org/10.1016/j.ympev.2019.106562]  28194  \n",
       "2      [https://doi.org/10.1016/j.ympev.2019.106562]  28194  \n",
       "3      [https://doi.org/10.1016/j.ympev.2019.106562]  28194  \n",
       "4     [https://doi.org/10.1371/journal.pone.0177726]  17689  \n",
       "...                                              ...    ...  \n",
       "2971             [https://doi.org/10.1111/jbi.14083]  61800  \n",
       "2972  [https://doi.org/10.1371/journal.pone.0125049]  12676  \n",
       "2973                                              []  37657  \n",
       "2974                                              []  37657  \n",
       "2975                                              []  37657  \n",
       "\n",
       "[2976 rows x 3 columns]"
      ]
     },
     "execution_count": 121,
     "metadata": {},
     "output_type": "execute_result"
    }
   ],
   "source": [
    "#replace the None values with empty lists so the count of string values evaluates to 0\n",
    "related_resource_all = related_resource_all.apply(\n",
    "    lambda row: row.apply(\n",
    "        lambda cell: cell if cell else []\n",
    "    ),\n",
    "    axis=1\n",
    ")\n",
    "related_resource_all"
   ]
  },
  {
   "cell_type": "code",
   "execution_count": 122,
   "id": "c5b9a9cb",
   "metadata": {},
   "outputs": [
    {
     "data": {
      "text/plain": [
       "True"
      ]
     },
     "execution_count": 122,
     "metadata": {},
     "output_type": "execute_result"
    }
   ],
   "source": [
    "#confirm that the 2 columns are identical, meaning we only need one of these\n",
    "related_resource_all.iloc[:,0].equals(related_resource_all.iloc[:,1])"
   ]
  },
  {
   "cell_type": "code",
   "execution_count": 123,
   "id": "5802e75d",
   "metadata": {},
   "outputs": [],
   "source": [
    "#keep only one of the columns\n",
    "related_resource_use = related_resource_all.iloc[:, [0,2]]"
   ]
  },
  {
   "cell_type": "code",
   "execution_count": 124,
   "id": "739aac3b",
   "metadata": {},
   "outputs": [
    {
     "data": {
      "text/html": [
       "<div>\n",
       "<style scoped>\n",
       "    .dataframe tbody tr th:only-of-type {\n",
       "        vertical-align: middle;\n",
       "    }\n",
       "\n",
       "    .dataframe tbody tr th {\n",
       "        vertical-align: top;\n",
       "    }\n",
       "\n",
       "    .dataframe thead th {\n",
       "        text-align: right;\n",
       "    }\n",
       "</style>\n",
       "<table border=\"1\" class=\"dataframe\">\n",
       "  <thead>\n",
       "    <tr style=\"text-align: right;\">\n",
       "      <th></th>\n",
       "      <th>relatedWorks</th>\n",
       "      <th>id</th>\n",
       "    </tr>\n",
       "  </thead>\n",
       "  <tbody>\n",
       "    <tr>\n",
       "      <th>0</th>\n",
       "      <td>[https://doi.org/10.1016/j.ympev.2019.106562]</td>\n",
       "      <td>28194</td>\n",
       "    </tr>\n",
       "    <tr>\n",
       "      <th>1</th>\n",
       "      <td>[https://doi.org/10.1016/j.ympev.2019.106562]</td>\n",
       "      <td>28194</td>\n",
       "    </tr>\n",
       "    <tr>\n",
       "      <th>2</th>\n",
       "      <td>[https://doi.org/10.1016/j.ympev.2019.106562]</td>\n",
       "      <td>28194</td>\n",
       "    </tr>\n",
       "    <tr>\n",
       "      <th>3</th>\n",
       "      <td>[https://doi.org/10.1016/j.ympev.2019.106562]</td>\n",
       "      <td>28194</td>\n",
       "    </tr>\n",
       "    <tr>\n",
       "      <th>4</th>\n",
       "      <td>[https://doi.org/10.1371/journal.pone.0177726]</td>\n",
       "      <td>17689</td>\n",
       "    </tr>\n",
       "    <tr>\n",
       "      <th>...</th>\n",
       "      <td>...</td>\n",
       "      <td>...</td>\n",
       "    </tr>\n",
       "    <tr>\n",
       "      <th>2971</th>\n",
       "      <td>[https://doi.org/10.1111/jbi.14083]</td>\n",
       "      <td>61800</td>\n",
       "    </tr>\n",
       "    <tr>\n",
       "      <th>2972</th>\n",
       "      <td>[https://doi.org/10.1371/journal.pone.0125049]</td>\n",
       "      <td>12676</td>\n",
       "    </tr>\n",
       "    <tr>\n",
       "      <th>2973</th>\n",
       "      <td>[]</td>\n",
       "      <td>37657</td>\n",
       "    </tr>\n",
       "    <tr>\n",
       "      <th>2974</th>\n",
       "      <td>[]</td>\n",
       "      <td>37657</td>\n",
       "    </tr>\n",
       "    <tr>\n",
       "      <th>2975</th>\n",
       "      <td>[]</td>\n",
       "      <td>37657</td>\n",
       "    </tr>\n",
       "  </tbody>\n",
       "</table>\n",
       "<p>2976 rows × 2 columns</p>\n",
       "</div>"
      ],
      "text/plain": [
       "                                        relatedWorks     id\n",
       "0      [https://doi.org/10.1016/j.ympev.2019.106562]  28194\n",
       "1      [https://doi.org/10.1016/j.ympev.2019.106562]  28194\n",
       "2      [https://doi.org/10.1016/j.ympev.2019.106562]  28194\n",
       "3      [https://doi.org/10.1016/j.ympev.2019.106562]  28194\n",
       "4     [https://doi.org/10.1371/journal.pone.0177726]  17689\n",
       "...                                              ...    ...\n",
       "2971             [https://doi.org/10.1111/jbi.14083]  61800\n",
       "2972  [https://doi.org/10.1371/journal.pone.0125049]  12676\n",
       "2973                                              []  37657\n",
       "2974                                              []  37657\n",
       "2975                                              []  37657\n",
       "\n",
       "[2976 rows x 2 columns]"
      ]
     },
     "execution_count": 124,
     "metadata": {},
     "output_type": "execute_result"
    }
   ],
   "source": [
    "related_resource_use"
   ]
  },
  {
   "cell_type": "code",
   "execution_count": 125,
   "id": "405ab29a",
   "metadata": {},
   "outputs": [
    {
     "data": {
      "text/html": [
       "<div>\n",
       "<style scoped>\n",
       "    .dataframe tbody tr th:only-of-type {\n",
       "        vertical-align: middle;\n",
       "    }\n",
       "\n",
       "    .dataframe tbody tr th {\n",
       "        vertical-align: top;\n",
       "    }\n",
       "\n",
       "    .dataframe thead th {\n",
       "        text-align: right;\n",
       "    }\n",
       "</style>\n",
       "<table border=\"1\" class=\"dataframe\">\n",
       "  <thead>\n",
       "    <tr style=\"text-align: right;\">\n",
       "      <th></th>\n",
       "      <th>relatedWorks</th>\n",
       "      <th>id</th>\n",
       "    </tr>\n",
       "  </thead>\n",
       "  <tbody>\n",
       "    <tr>\n",
       "      <th>0</th>\n",
       "      <td>https://doi.org/10.1016/j.ympev.2019.106562</td>\n",
       "      <td>28194</td>\n",
       "    </tr>\n",
       "    <tr>\n",
       "      <th>4</th>\n",
       "      <td>https://doi.org/10.1371/journal.pone.0177726</td>\n",
       "      <td>17689</td>\n",
       "    </tr>\n",
       "    <tr>\n",
       "      <th>5</th>\n",
       "      <td>https://arxiv.org/abs/2101.08944</td>\n",
       "      <td>67581</td>\n",
       "    </tr>\n",
       "    <tr>\n",
       "      <th>5</th>\n",
       "      <td>https://doi.org/10.5281/zenodo.4706055</td>\n",
       "      <td>67581</td>\n",
       "    </tr>\n",
       "    <tr>\n",
       "      <th>5</th>\n",
       "      <td>https://doi.org/10.5281/zenodo.4706191</td>\n",
       "      <td>67581</td>\n",
       "    </tr>\n",
       "    <tr>\n",
       "      <th>...</th>\n",
       "      <td>...</td>\n",
       "      <td>...</td>\n",
       "    </tr>\n",
       "    <tr>\n",
       "      <th>2935</th>\n",
       "      <td>https://doi.org/10.1111/1365-2664.12681</td>\n",
       "      <td>27035</td>\n",
       "    </tr>\n",
       "    <tr>\n",
       "      <th>2964</th>\n",
       "      <td>https://doi.org/10.1371/journal.pone.0214808</td>\n",
       "      <td>23265</td>\n",
       "    </tr>\n",
       "    <tr>\n",
       "      <th>2965</th>\n",
       "      <td>https://doi.org/10.1111/jbi.14083</td>\n",
       "      <td>61800</td>\n",
       "    </tr>\n",
       "    <tr>\n",
       "      <th>2972</th>\n",
       "      <td>https://doi.org/10.1371/journal.pone.0125049</td>\n",
       "      <td>12676</td>\n",
       "    </tr>\n",
       "    <tr>\n",
       "      <th>2973</th>\n",
       "      <td>NaN</td>\n",
       "      <td>37657</td>\n",
       "    </tr>\n",
       "  </tbody>\n",
       "</table>\n",
       "<p>252 rows × 2 columns</p>\n",
       "</div>"
      ],
      "text/plain": [
       "                                      relatedWorks     id\n",
       "0      https://doi.org/10.1016/j.ympev.2019.106562  28194\n",
       "4     https://doi.org/10.1371/journal.pone.0177726  17689\n",
       "5                 https://arxiv.org/abs/2101.08944  67581\n",
       "5           https://doi.org/10.5281/zenodo.4706055  67581\n",
       "5           https://doi.org/10.5281/zenodo.4706191  67581\n",
       "...                                            ...    ...\n",
       "2935       https://doi.org/10.1111/1365-2664.12681  27035\n",
       "2964  https://doi.org/10.1371/journal.pone.0214808  23265\n",
       "2965             https://doi.org/10.1111/jbi.14083  61800\n",
       "2972  https://doi.org/10.1371/journal.pone.0125049  12676\n",
       "2973                                           NaN  37657\n",
       "\n",
       "[252 rows x 2 columns]"
      ]
     },
     "execution_count": 125,
     "metadata": {},
     "output_type": "execute_result"
    }
   ],
   "source": [
    "#expand related works list and remove duplicates\n",
    "#(duplicates because unique ID has multiple rows)\n",
    "related_resource_use = related_resource_use.explode('relatedWorks')\n",
    "related_resource_use = related_resource_use.drop_duplicates()\n",
    "related_resource_use"
   ]
  },
  {
   "cell_type": "code",
   "execution_count": 126,
   "id": "adc1bd77",
   "metadata": {},
   "outputs": [
    {
     "data": {
      "text/html": [
       "<div>\n",
       "<style scoped>\n",
       "    .dataframe tbody tr th:only-of-type {\n",
       "        vertical-align: middle;\n",
       "    }\n",
       "\n",
       "    .dataframe tbody tr th {\n",
       "        vertical-align: top;\n",
       "    }\n",
       "\n",
       "    .dataframe thead th {\n",
       "        text-align: right;\n",
       "    }\n",
       "</style>\n",
       "<table border=\"1\" class=\"dataframe\">\n",
       "  <thead>\n",
       "    <tr style=\"text-align: right;\">\n",
       "      <th></th>\n",
       "      <th>relatedWorks</th>\n",
       "      <th>id</th>\n",
       "    </tr>\n",
       "  </thead>\n",
       "  <tbody>\n",
       "    <tr>\n",
       "      <th>0</th>\n",
       "      <td>https://doi.org/10.1016/j.ympev.2019.106562</td>\n",
       "      <td>28194</td>\n",
       "    </tr>\n",
       "    <tr>\n",
       "      <th>4</th>\n",
       "      <td>https://doi.org/10.1371/journal.pone.0177726</td>\n",
       "      <td>17689</td>\n",
       "    </tr>\n",
       "    <tr>\n",
       "      <th>5</th>\n",
       "      <td>https://arxiv.org/abs/2101.08944</td>\n",
       "      <td>67581</td>\n",
       "    </tr>\n",
       "    <tr>\n",
       "      <th>5</th>\n",
       "      <td>https://doi.org/10.5281/zenodo.4706055</td>\n",
       "      <td>67581</td>\n",
       "    </tr>\n",
       "    <tr>\n",
       "      <th>5</th>\n",
       "      <td>https://doi.org/10.5281/zenodo.4706191</td>\n",
       "      <td>67581</td>\n",
       "    </tr>\n",
       "    <tr>\n",
       "      <th>...</th>\n",
       "      <td>...</td>\n",
       "      <td>...</td>\n",
       "    </tr>\n",
       "    <tr>\n",
       "      <th>2931</th>\n",
       "      <td>https://doi.org/10.1186/s40462-019-0172-6</td>\n",
       "      <td>28463</td>\n",
       "    </tr>\n",
       "    <tr>\n",
       "      <th>2935</th>\n",
       "      <td>https://doi.org/10.1111/1365-2664.12681</td>\n",
       "      <td>27035</td>\n",
       "    </tr>\n",
       "    <tr>\n",
       "      <th>2964</th>\n",
       "      <td>https://doi.org/10.1371/journal.pone.0214808</td>\n",
       "      <td>23265</td>\n",
       "    </tr>\n",
       "    <tr>\n",
       "      <th>2965</th>\n",
       "      <td>https://doi.org/10.1111/jbi.14083</td>\n",
       "      <td>61800</td>\n",
       "    </tr>\n",
       "    <tr>\n",
       "      <th>2972</th>\n",
       "      <td>https://doi.org/10.1371/journal.pone.0125049</td>\n",
       "      <td>12676</td>\n",
       "    </tr>\n",
       "  </tbody>\n",
       "</table>\n",
       "<p>195 rows × 2 columns</p>\n",
       "</div>"
      ],
      "text/plain": [
       "                                      relatedWorks     id\n",
       "0      https://doi.org/10.1016/j.ympev.2019.106562  28194\n",
       "4     https://doi.org/10.1371/journal.pone.0177726  17689\n",
       "5                 https://arxiv.org/abs/2101.08944  67581\n",
       "5           https://doi.org/10.5281/zenodo.4706055  67581\n",
       "5           https://doi.org/10.5281/zenodo.4706191  67581\n",
       "...                                            ...    ...\n",
       "2931     https://doi.org/10.1186/s40462-019-0172-6  28463\n",
       "2935       https://doi.org/10.1111/1365-2664.12681  27035\n",
       "2964  https://doi.org/10.1371/journal.pone.0214808  23265\n",
       "2965             https://doi.org/10.1111/jbi.14083  61800\n",
       "2972  https://doi.org/10.1371/journal.pone.0125049  12676\n",
       "\n",
       "[195 rows x 2 columns]"
      ]
     },
     "execution_count": 126,
     "metadata": {},
     "output_type": "execute_result"
    }
   ],
   "source": [
    "#remove None/NaN\n",
    "related_resource_use = related_resource_use.dropna()\n",
    "related_resource_use"
   ]
  },
  {
   "cell_type": "code",
   "execution_count": 127,
   "id": "bfe98211",
   "metadata": {},
   "outputs": [
    {
     "data": {
      "text/plain": [
       "42372    8\n",
       "64596    4\n",
       "62405    3\n",
       "67581    3\n",
       "53069    3\n",
       "        ..\n",
       "43757    1\n",
       "23144    1\n",
       "29230    1\n",
       "1383     1\n",
       "12676    1\n",
       "Name: id, Length: 162, dtype: int64"
      ]
     },
     "execution_count": 127,
     "metadata": {},
     "output_type": "execute_result"
    }
   ],
   "source": [
    "#there are duplicate rows per ID\n",
    "related_resource_use.id.value_counts()"
   ]
  },
  {
   "cell_type": "code",
   "execution_count": 128,
   "id": "bc281e90",
   "metadata": {},
   "outputs": [
    {
     "data": {
      "text/plain": [
       "162"
      ]
     },
     "execution_count": 128,
     "metadata": {},
     "output_type": "execute_result"
    }
   ],
   "source": [
    "#find number of unique IDs to get number of objects\n",
    "rr_objs = related_resource_use['id'].nunique()\n",
    "rr_objs"
   ]
  },
  {
   "cell_type": "code",
   "execution_count": 129,
   "id": "1d034864",
   "metadata": {},
   "outputs": [
    {
     "name": "stdout",
     "output_type": "stream",
     "text": [
      "There are 162 objects with a related resource link\n"
     ]
    }
   ],
   "source": [
    "print(f'There are {rr_objs} objects with a related resource link')"
   ]
  },
  {
   "cell_type": "markdown",
   "id": "a5b237a2",
   "metadata": {
    "pycharm": {
     "name": "#%% md\n"
    }
   },
   "source": [
    "## 23-25. Also, what is the mean number of related resource links per object (again looking at the three properties (Original data URL, Primary manuscript PID/URL, and Related resource identifier)?\n",
    "**Property:** Related Resource Identifier"
   ]
  },
  {
   "cell_type": "markdown",
   "id": "ae4e1dbd",
   "metadata": {},
   "source": [
    "We want to calculate this value to be mean number of links *for objects that have links*\n",
    "\n",
    "We can use `related_resource_use`, grouped by `id`, since each row is a unique related resource link"
   ]
  },
  {
   "cell_type": "code",
   "execution_count": 130,
   "id": "d031e138",
   "metadata": {},
   "outputs": [
    {
     "data": {
      "text/html": [
       "<div>\n",
       "<style scoped>\n",
       "    .dataframe tbody tr th:only-of-type {\n",
       "        vertical-align: middle;\n",
       "    }\n",
       "\n",
       "    .dataframe tbody tr th {\n",
       "        vertical-align: top;\n",
       "    }\n",
       "\n",
       "    .dataframe thead th {\n",
       "        text-align: right;\n",
       "    }\n",
       "</style>\n",
       "<table border=\"1\" class=\"dataframe\">\n",
       "  <thead>\n",
       "    <tr style=\"text-align: right;\">\n",
       "      <th></th>\n",
       "      <th>relatedWorks</th>\n",
       "      <th>id</th>\n",
       "    </tr>\n",
       "  </thead>\n",
       "  <tbody>\n",
       "    <tr>\n",
       "      <th>0</th>\n",
       "      <td>https://doi.org/10.1016/j.ympev.2019.106562</td>\n",
       "      <td>28194</td>\n",
       "    </tr>\n",
       "    <tr>\n",
       "      <th>4</th>\n",
       "      <td>https://doi.org/10.1371/journal.pone.0177726</td>\n",
       "      <td>17689</td>\n",
       "    </tr>\n",
       "    <tr>\n",
       "      <th>5</th>\n",
       "      <td>https://arxiv.org/abs/2101.08944</td>\n",
       "      <td>67581</td>\n",
       "    </tr>\n",
       "    <tr>\n",
       "      <th>5</th>\n",
       "      <td>https://doi.org/10.5281/zenodo.4706055</td>\n",
       "      <td>67581</td>\n",
       "    </tr>\n",
       "    <tr>\n",
       "      <th>5</th>\n",
       "      <td>https://doi.org/10.5281/zenodo.4706191</td>\n",
       "      <td>67581</td>\n",
       "    </tr>\n",
       "  </tbody>\n",
       "</table>\n",
       "</div>"
      ],
      "text/plain": [
       "                                   relatedWorks     id\n",
       "0   https://doi.org/10.1016/j.ympev.2019.106562  28194\n",
       "4  https://doi.org/10.1371/journal.pone.0177726  17689\n",
       "5              https://arxiv.org/abs/2101.08944  67581\n",
       "5        https://doi.org/10.5281/zenodo.4706055  67581\n",
       "5        https://doi.org/10.5281/zenodo.4706191  67581"
      ]
     },
     "execution_count": 130,
     "metadata": {},
     "output_type": "execute_result"
    }
   ],
   "source": [
    "related_resource_use.head()"
   ]
  },
  {
   "cell_type": "code",
   "execution_count": 131,
   "id": "c2fd65c7",
   "metadata": {},
   "outputs": [
    {
     "data": {
      "text/plain": [
       "42372    8\n",
       "64596    4\n",
       "62405    3\n",
       "67581    3\n",
       "53069    3\n",
       "        ..\n",
       "43757    1\n",
       "23144    1\n",
       "29230    1\n",
       "1383     1\n",
       "12676    1\n",
       "Name: id, Length: 162, dtype: int64"
      ]
     },
     "execution_count": 131,
     "metadata": {},
     "output_type": "execute_result"
    }
   ],
   "source": [
    "rr_counts = related_resource_use.id.value_counts()\n",
    "rr_counts"
   ]
  },
  {
   "cell_type": "code",
   "execution_count": 132,
   "id": "6ba9224f",
   "metadata": {
    "pycharm": {
     "name": "#%%\n"
    }
   },
   "outputs": [
    {
     "name": "stdout",
     "output_type": "stream",
     "text": [
      "mean 1.204 links per object\n"
     ]
    }
   ],
   "source": [
    "print(f'mean {round(rr_counts.mean(), 3)} links per object')"
   ]
  },
  {
   "cell_type": "code",
   "execution_count": 133,
   "id": "ff256280",
   "metadata": {},
   "outputs": [
    {
     "name": "stdout",
     "output_type": "stream",
     "text": [
      "median 1.0 links per object\n"
     ]
    }
   ],
   "source": [
    "print(f'median {round(rr_counts.median(), 3)} links per object')"
   ]
  },
  {
   "cell_type": "markdown",
   "id": "1ce011c5",
   "metadata": {
    "pycharm": {
     "name": "#%% md\n"
    }
   },
   "source": [
    "## 26. How many objects report each relation type? How many objects report multiple relation types, regardless of what those types are?\n",
    "**Property:** Related resource relation type"
   ]
  },
  {
   "cell_type": "code",
   "execution_count": 134,
   "id": "70a683a4",
   "metadata": {
    "pycharm": {
     "name": "#%%\n"
    }
   },
   "outputs": [
    {
     "data": {
      "text/plain": [
       "0       [DOI]\n",
       "1       [DOI]\n",
       "2       [DOI]\n",
       "3       [DOI]\n",
       "4       [DOI]\n",
       "        ...  \n",
       "2971    [DOI]\n",
       "2972    [DOI]\n",
       "2973     None\n",
       "2974     None\n",
       "2975     None\n",
       "Name: relatedWorks, Length: 2976, dtype: object"
      ]
     },
     "execution_count": 134,
     "metadata": {},
     "output_type": "execute_result"
    }
   ],
   "source": [
    "relation_type = df.DryadRecordsCrosswalk.related_resource_relation_type\n",
    "relation_type"
   ]
  },
  {
   "cell_type": "code",
   "execution_count": 135,
   "id": "4895b924",
   "metadata": {
    "scrolled": true
   },
   "outputs": [
    {
     "data": {
      "text/html": [
       "<div>\n",
       "<style scoped>\n",
       "    .dataframe tbody tr th:only-of-type {\n",
       "        vertical-align: middle;\n",
       "    }\n",
       "\n",
       "    .dataframe tbody tr th {\n",
       "        vertical-align: top;\n",
       "    }\n",
       "\n",
       "    .dataframe thead th {\n",
       "        text-align: right;\n",
       "    }\n",
       "</style>\n",
       "<table border=\"1\" class=\"dataframe\">\n",
       "  <thead>\n",
       "    <tr style=\"text-align: right;\">\n",
       "      <th></th>\n",
       "      <th>id</th>\n",
       "      <th>relatedWorks</th>\n",
       "    </tr>\n",
       "  </thead>\n",
       "  <tbody>\n",
       "    <tr>\n",
       "      <th>0</th>\n",
       "      <td>28194</td>\n",
       "      <td>[DOI]</td>\n",
       "    </tr>\n",
       "    <tr>\n",
       "      <th>1</th>\n",
       "      <td>28194</td>\n",
       "      <td>[DOI]</td>\n",
       "    </tr>\n",
       "    <tr>\n",
       "      <th>2</th>\n",
       "      <td>28194</td>\n",
       "      <td>[DOI]</td>\n",
       "    </tr>\n",
       "    <tr>\n",
       "      <th>3</th>\n",
       "      <td>28194</td>\n",
       "      <td>[DOI]</td>\n",
       "    </tr>\n",
       "    <tr>\n",
       "      <th>4</th>\n",
       "      <td>17689</td>\n",
       "      <td>[DOI]</td>\n",
       "    </tr>\n",
       "    <tr>\n",
       "      <th>...</th>\n",
       "      <td>...</td>\n",
       "      <td>...</td>\n",
       "    </tr>\n",
       "    <tr>\n",
       "      <th>2971</th>\n",
       "      <td>61800</td>\n",
       "      <td>[DOI]</td>\n",
       "    </tr>\n",
       "    <tr>\n",
       "      <th>2972</th>\n",
       "      <td>12676</td>\n",
       "      <td>[DOI]</td>\n",
       "    </tr>\n",
       "    <tr>\n",
       "      <th>2973</th>\n",
       "      <td>37657</td>\n",
       "      <td>None</td>\n",
       "    </tr>\n",
       "    <tr>\n",
       "      <th>2974</th>\n",
       "      <td>37657</td>\n",
       "      <td>None</td>\n",
       "    </tr>\n",
       "    <tr>\n",
       "      <th>2975</th>\n",
       "      <td>37657</td>\n",
       "      <td>None</td>\n",
       "    </tr>\n",
       "  </tbody>\n",
       "</table>\n",
       "<p>2976 rows × 2 columns</p>\n",
       "</div>"
      ],
      "text/plain": [
       "         id relatedWorks\n",
       "0     28194        [DOI]\n",
       "1     28194        [DOI]\n",
       "2     28194        [DOI]\n",
       "3     28194        [DOI]\n",
       "4     17689        [DOI]\n",
       "...     ...          ...\n",
       "2971  61800        [DOI]\n",
       "2972  12676        [DOI]\n",
       "2973  37657         None\n",
       "2974  37657         None\n",
       "2975  37657         None\n",
       "\n",
       "[2976 rows x 2 columns]"
      ]
     },
     "execution_count": 135,
     "metadata": {},
     "output_type": "execute_result"
    }
   ],
   "source": [
    "#since interested in per object, need to group by ID\n",
    "relation_type_ids = pd.concat([ids, relation_type], axis = 1)\n",
    "relation_type_ids"
   ]
  },
  {
   "cell_type": "markdown",
   "id": "705b6153",
   "metadata": {},
   "source": [
    "#### How many objects report each relation type?"
   ]
  },
  {
   "cell_type": "code",
   "execution_count": 136,
   "id": "1f1d547c",
   "metadata": {
    "scrolled": true
   },
   "outputs": [
    {
     "data": {
      "text/html": [
       "<div>\n",
       "<style scoped>\n",
       "    .dataframe tbody tr th:only-of-type {\n",
       "        vertical-align: middle;\n",
       "    }\n",
       "\n",
       "    .dataframe tbody tr th {\n",
       "        vertical-align: top;\n",
       "    }\n",
       "\n",
       "    .dataframe thead th {\n",
       "        text-align: right;\n",
       "    }\n",
       "</style>\n",
       "<table border=\"1\" class=\"dataframe\">\n",
       "  <thead>\n",
       "    <tr style=\"text-align: right;\">\n",
       "      <th></th>\n",
       "      <th>id</th>\n",
       "      <th>relatedWorks</th>\n",
       "    </tr>\n",
       "  </thead>\n",
       "  <tbody>\n",
       "    <tr>\n",
       "      <th>0</th>\n",
       "      <td>28194</td>\n",
       "      <td>DOI</td>\n",
       "    </tr>\n",
       "    <tr>\n",
       "      <th>4</th>\n",
       "      <td>17689</td>\n",
       "      <td>DOI</td>\n",
       "    </tr>\n",
       "    <tr>\n",
       "      <th>5</th>\n",
       "      <td>67581</td>\n",
       "      <td>URL</td>\n",
       "    </tr>\n",
       "    <tr>\n",
       "      <th>5</th>\n",
       "      <td>67581</td>\n",
       "      <td>DOI</td>\n",
       "    </tr>\n",
       "    <tr>\n",
       "      <th>8</th>\n",
       "      <td>40246</td>\n",
       "      <td>DOI</td>\n",
       "    </tr>\n",
       "    <tr>\n",
       "      <th>...</th>\n",
       "      <td>...</td>\n",
       "      <td>...</td>\n",
       "    </tr>\n",
       "    <tr>\n",
       "      <th>2935</th>\n",
       "      <td>27035</td>\n",
       "      <td>DOI</td>\n",
       "    </tr>\n",
       "    <tr>\n",
       "      <th>2964</th>\n",
       "      <td>23265</td>\n",
       "      <td>DOI</td>\n",
       "    </tr>\n",
       "    <tr>\n",
       "      <th>2965</th>\n",
       "      <td>61800</td>\n",
       "      <td>DOI</td>\n",
       "    </tr>\n",
       "    <tr>\n",
       "      <th>2972</th>\n",
       "      <td>12676</td>\n",
       "      <td>DOI</td>\n",
       "    </tr>\n",
       "    <tr>\n",
       "      <th>2973</th>\n",
       "      <td>37657</td>\n",
       "      <td>None</td>\n",
       "    </tr>\n",
       "  </tbody>\n",
       "</table>\n",
       "<p>225 rows × 2 columns</p>\n",
       "</div>"
      ],
      "text/plain": [
       "         id relatedWorks\n",
       "0     28194          DOI\n",
       "4     17689          DOI\n",
       "5     67581          URL\n",
       "5     67581          DOI\n",
       "8     40246          DOI\n",
       "...     ...          ...\n",
       "2935  27035          DOI\n",
       "2964  23265          DOI\n",
       "2965  61800          DOI\n",
       "2972  12676          DOI\n",
       "2973  37657         None\n",
       "\n",
       "[225 rows x 2 columns]"
      ]
     },
     "execution_count": 136,
     "metadata": {},
     "output_type": "execute_result"
    }
   ],
   "source": [
    "#expand so each type within object is own row, keep unique\n",
    "relation_type_ids_unique = relation_type_ids.explode('relatedWorks')\n",
    "relation_type_ids_unique = relation_type_ids_unique.drop_duplicates()\n",
    "relation_type_ids_unique"
   ]
  },
  {
   "cell_type": "code",
   "execution_count": 137,
   "id": "4e639f61",
   "metadata": {},
   "outputs": [],
   "source": [
    "#confirmed accuracy\n",
    "\n",
    "#from relation_type_ids\n",
    "# 5\t67581\t[URL, DOI, DOI]\n",
    "# 6\t67581\t[URL, DOI, DOI]\n",
    "\n",
    "#from relation_type_ids_unique\n",
    "# 5\t67581\tURL\n",
    "# 5\t67581\tDOI"
   ]
  },
  {
   "cell_type": "code",
   "execution_count": 138,
   "id": "b000b29d",
   "metadata": {
    "scrolled": true
   },
   "outputs": [
    {
     "data": {
      "text/html": [
       "<div>\n",
       "<style scoped>\n",
       "    .dataframe tbody tr th:only-of-type {\n",
       "        vertical-align: middle;\n",
       "    }\n",
       "\n",
       "    .dataframe tbody tr th {\n",
       "        vertical-align: top;\n",
       "    }\n",
       "\n",
       "    .dataframe thead th {\n",
       "        text-align: right;\n",
       "    }\n",
       "</style>\n",
       "<table border=\"1\" class=\"dataframe\">\n",
       "  <thead>\n",
       "    <tr style=\"text-align: right;\">\n",
       "      <th></th>\n",
       "      <th>0</th>\n",
       "    </tr>\n",
       "    <tr>\n",
       "      <th>relatedWorks</th>\n",
       "      <th></th>\n",
       "    </tr>\n",
       "  </thead>\n",
       "  <tbody>\n",
       "    <tr>\n",
       "      <th>DOI</th>\n",
       "      <td>153</td>\n",
       "    </tr>\n",
       "    <tr>\n",
       "      <th>URL</th>\n",
       "      <td>15</td>\n",
       "    </tr>\n",
       "  </tbody>\n",
       "</table>\n",
       "</div>"
      ],
      "text/plain": [
       "                0\n",
       "relatedWorks     \n",
       "DOI           153\n",
       "URL            15"
      ]
     },
     "execution_count": 138,
     "metadata": {},
     "output_type": "execute_result"
    }
   ],
   "source": [
    "relation_type_ids_grouped = relation_type_ids_unique.groupby('relatedWorks').size().to_frame()\n",
    "relation_type_ids_grouped"
   ]
  },
  {
   "cell_type": "markdown",
   "id": "5ce8e35e",
   "metadata": {},
   "source": [
    "#### How many objects report multiple relation types, regardless of what those types are?"
   ]
  },
  {
   "cell_type": "code",
   "execution_count": 139,
   "id": "5b7403d4",
   "metadata": {},
   "outputs": [
    {
     "data": {
      "text/html": [
       "<div>\n",
       "<style scoped>\n",
       "    .dataframe tbody tr th:only-of-type {\n",
       "        vertical-align: middle;\n",
       "    }\n",
       "\n",
       "    .dataframe tbody tr th {\n",
       "        vertical-align: top;\n",
       "    }\n",
       "\n",
       "    .dataframe thead th {\n",
       "        text-align: right;\n",
       "    }\n",
       "</style>\n",
       "<table border=\"1\" class=\"dataframe\">\n",
       "  <thead>\n",
       "    <tr style=\"text-align: right;\">\n",
       "      <th></th>\n",
       "      <th>id</th>\n",
       "      <th>relatedWorks</th>\n",
       "    </tr>\n",
       "  </thead>\n",
       "  <tbody>\n",
       "    <tr>\n",
       "      <th>0</th>\n",
       "      <td>28194</td>\n",
       "      <td>DOI</td>\n",
       "    </tr>\n",
       "    <tr>\n",
       "      <th>4</th>\n",
       "      <td>17689</td>\n",
       "      <td>DOI</td>\n",
       "    </tr>\n",
       "    <tr>\n",
       "      <th>5</th>\n",
       "      <td>67581</td>\n",
       "      <td>URL</td>\n",
       "    </tr>\n",
       "    <tr>\n",
       "      <th>5</th>\n",
       "      <td>67581</td>\n",
       "      <td>DOI</td>\n",
       "    </tr>\n",
       "    <tr>\n",
       "      <th>8</th>\n",
       "      <td>40246</td>\n",
       "      <td>DOI</td>\n",
       "    </tr>\n",
       "    <tr>\n",
       "      <th>...</th>\n",
       "      <td>...</td>\n",
       "      <td>...</td>\n",
       "    </tr>\n",
       "    <tr>\n",
       "      <th>2931</th>\n",
       "      <td>28463</td>\n",
       "      <td>DOI</td>\n",
       "    </tr>\n",
       "    <tr>\n",
       "      <th>2935</th>\n",
       "      <td>27035</td>\n",
       "      <td>DOI</td>\n",
       "    </tr>\n",
       "    <tr>\n",
       "      <th>2964</th>\n",
       "      <td>23265</td>\n",
       "      <td>DOI</td>\n",
       "    </tr>\n",
       "    <tr>\n",
       "      <th>2965</th>\n",
       "      <td>61800</td>\n",
       "      <td>DOI</td>\n",
       "    </tr>\n",
       "    <tr>\n",
       "      <th>2972</th>\n",
       "      <td>12676</td>\n",
       "      <td>DOI</td>\n",
       "    </tr>\n",
       "  </tbody>\n",
       "</table>\n",
       "<p>168 rows × 2 columns</p>\n",
       "</div>"
      ],
      "text/plain": [
       "         id relatedWorks\n",
       "0     28194          DOI\n",
       "4     17689          DOI\n",
       "5     67581          URL\n",
       "5     67581          DOI\n",
       "8     40246          DOI\n",
       "...     ...          ...\n",
       "2931  28463          DOI\n",
       "2935  27035          DOI\n",
       "2964  23265          DOI\n",
       "2965  61800          DOI\n",
       "2972  12676          DOI\n",
       "\n",
       "[168 rows x 2 columns]"
      ]
     },
     "execution_count": 139,
     "metadata": {},
     "output_type": "execute_result"
    }
   ],
   "source": [
    "relation_type_ids_unique = relation_type_ids_unique.dropna()\n",
    "relation_type_ids_unique"
   ]
  },
  {
   "cell_type": "code",
   "execution_count": 140,
   "id": "a4fedfbd",
   "metadata": {},
   "outputs": [
    {
     "data": {
      "text/html": [
       "<div>\n",
       "<style scoped>\n",
       "    .dataframe tbody tr th:only-of-type {\n",
       "        vertical-align: middle;\n",
       "    }\n",
       "\n",
       "    .dataframe tbody tr th {\n",
       "        vertical-align: top;\n",
       "    }\n",
       "\n",
       "    .dataframe thead th {\n",
       "        text-align: right;\n",
       "    }\n",
       "</style>\n",
       "<table border=\"1\" class=\"dataframe\">\n",
       "  <thead>\n",
       "    <tr style=\"text-align: right;\">\n",
       "      <th></th>\n",
       "      <th>0</th>\n",
       "    </tr>\n",
       "    <tr>\n",
       "      <th>0</th>\n",
       "      <th></th>\n",
       "    </tr>\n",
       "  </thead>\n",
       "  <tbody>\n",
       "    <tr>\n",
       "      <th>1</th>\n",
       "      <td>156</td>\n",
       "    </tr>\n",
       "    <tr>\n",
       "      <th>2</th>\n",
       "      <td>6</td>\n",
       "    </tr>\n",
       "  </tbody>\n",
       "</table>\n",
       "</div>"
      ],
      "text/plain": [
       "     0\n",
       "0     \n",
       "1  156\n",
       "2    6"
      ]
     },
     "execution_count": 140,
     "metadata": {},
     "output_type": "execute_result"
    }
   ],
   "source": [
    "relation_type_ids_unique.groupby('id').size().to_frame().groupby(0).size().to_frame()"
   ]
  },
  {
   "cell_type": "markdown",
   "id": "093cbc32",
   "metadata": {
    "pycharm": {
     "name": "#%% md\n"
    }
   },
   "source": [
    "## 27. For repositories that store the full citation in a designated field, how many objects have a populated citation? How many objects have a citation and a URL or other actionable link?\n",
    "**Property:** Citation"
   ]
  },
  {
   "cell_type": "code",
   "execution_count": 141,
   "id": "3eedef60",
   "metadata": {
    "pycharm": {
     "name": "#%%\n"
    }
   },
   "outputs": [],
   "source": [
    "citations = df.DryadRecordsCrosswalk.citation\n",
    "citations"
   ]
  },
  {
   "cell_type": "code",
   "execution_count": 142,
   "id": "eee55678",
   "metadata": {},
   "outputs": [
    {
     "name": "stdout",
     "output_type": "stream",
     "text": [
      "None\n"
     ]
    }
   ],
   "source": [
    "#confirm missing for this repo\n",
    "print(df.DryadRecordsCrosswalk.citation)"
   ]
  }
 ],
 "metadata": {
  "kernelspec": {
   "display_name": "Python 3 (ipykernel)",
   "language": "python",
   "name": "python3"
  },
  "language_info": {
   "codemirror_mode": {
    "name": "ipython",
    "version": 3
   },
   "file_extension": ".py",
   "mimetype": "text/x-python",
   "name": "python",
   "nbconvert_exporter": "python",
   "pygments_lexer": "ipython3",
   "version": "3.10.0"
  }
 },
 "nbformat": 4,
 "nbformat_minor": 5
}
