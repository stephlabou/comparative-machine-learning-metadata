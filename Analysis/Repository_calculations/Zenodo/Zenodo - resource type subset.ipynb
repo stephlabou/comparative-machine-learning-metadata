{
 "cells": [
  {
   "cell_type": "markdown",
   "id": "f743f8b9",
   "metadata": {
    "pycharm": {
     "name": "#%% md\n"
    }
   },
   "source": [
    "# Analysis Template Walkthrough"
   ]
  },
  {
   "cell_type": "markdown",
   "id": "3169bcdc",
   "metadata": {
    "pycharm": {
     "name": "#%% md\n"
    }
   },
   "source": [
    "# Setup"
   ]
  },
  {
   "cell_type": "markdown",
   "id": "990c559f",
   "metadata": {
    "pycharm": {
     "name": "#%% md\n"
    }
   },
   "source": [
    "## Select extract\n",
    "In order for the template cells to query data from the correct repository, enter the repository name as `repository` and repository object type as `object_type`."
   ]
  },
  {
   "cell_type": "code",
   "execution_count": 1,
   "id": "b3366aa8",
   "metadata": {
    "pycharm": {
     "name": "#%%\n"
    }
   },
   "outputs": [],
   "source": [
    "repository = 'zenodo'\n",
    "object_type = 'records'"
   ]
  },
  {
   "cell_type": "code",
   "execution_count": 2,
   "id": "c04ee2b7",
   "metadata": {
    "pycharm": {
     "name": "#%%\n"
    }
   },
   "outputs": [],
   "source": [
    "import pandas as pd\n",
    "import numpy as np\n",
    "import re\n",
    "from pathlib import Path"
   ]
  },
  {
   "cell_type": "code",
   "execution_count": 3,
   "id": "ba654988",
   "metadata": {},
   "outputs": [],
   "source": [
    "#see more rows and columns of output\n",
    "pd.set_option('display.max_rows', 100)\n",
    "pd.set_option('display.max_columns', 100) "
   ]
  },
  {
   "cell_type": "markdown",
   "id": "886d5cc0",
   "metadata": {
    "pycharm": {
     "name": "#%% md\n"
    }
   },
   "source": [
    "## Helper Functions"
   ]
  },
  {
   "cell_type": "code",
   "execution_count": 4,
   "id": "fe48bcca",
   "metadata": {
    "pycharm": {
     "name": "#%%\n"
    }
   },
   "outputs": [],
   "source": [
    "import os, sys\n",
    "dir2 = os.path.abspath('../')\n",
    "dir1 = os.path.dirname(dir2)\n",
    "if not dir1 in sys.path: sys.path.append(dir1)\n",
    "\n",
    "from utils import analysis\n",
    "from utils.crosswalk import RepositoryExtract, property_crosswalk\n",
    "from utils import accessors"
   ]
  },
  {
   "cell_type": "markdown",
   "id": "fbe60672",
   "metadata": {
    "pycharm": {
     "name": "#%% md\n"
    }
   },
   "source": [
    "# Summary Statistic Walkthroughs"
   ]
  },
  {
   "cell_type": "markdown",
   "id": "0e2dc048",
   "metadata": {
    "pycharm": {
     "name": "#%% md\n"
    }
   },
   "source": [
    "Read in the repository .json file"
   ]
  },
  {
   "cell_type": "code",
   "execution_count": 5,
   "id": "3fc193c4",
   "metadata": {},
   "outputs": [],
   "source": [
    "df = pd.read_json(f'{repository}_{object_type}.json')"
   ]
  },
  {
   "cell_type": "code",
   "execution_count": 6,
   "id": "7c57f6c3",
   "metadata": {
    "scrolled": true
   },
   "outputs": [
    {
     "data": {
      "text/html": [
       "<div>\n",
       "<style scoped>\n",
       "    .dataframe tbody tr th:only-of-type {\n",
       "        vertical-align: middle;\n",
       "    }\n",
       "\n",
       "    .dataframe tbody tr th {\n",
       "        vertical-align: top;\n",
       "    }\n",
       "\n",
       "    .dataframe thead th {\n",
       "        text-align: right;\n",
       "    }\n",
       "</style>\n",
       "<table border=\"1\" class=\"dataframe\">\n",
       "  <thead>\n",
       "    <tr style=\"text-align: right;\">\n",
       "      <th></th>\n",
       "      <th>conceptdoi</th>\n",
       "      <th>conceptrecid</th>\n",
       "      <th>created</th>\n",
       "      <th>doi</th>\n",
       "      <th>files</th>\n",
       "      <th>id</th>\n",
       "      <th>links</th>\n",
       "      <th>metadata</th>\n",
       "      <th>owners</th>\n",
       "      <th>revision</th>\n",
       "      <th>stats</th>\n",
       "      <th>updated</th>\n",
       "      <th>page</th>\n",
       "    </tr>\n",
       "  </thead>\n",
       "  <tbody>\n",
       "    <tr>\n",
       "      <th>0</th>\n",
       "      <td>10.5281/zenodo.5528620</td>\n",
       "      <td>5528620</td>\n",
       "      <td>2021-09-26T12:38:34.480681+00:00</td>\n",
       "      <td>10.5281/zenodo.5528621</td>\n",
       "      <td>[{'bucket': '23d1783f-8ed3-4b80-ae21-4cec73073...</td>\n",
       "      <td>5528621</td>\n",
       "      <td>{'badge': 'https://zenodo.org/badge/doi/10.528...</td>\n",
       "      <td>{'access_right': 'open', 'access_right_categor...</td>\n",
       "      <td>[255977]</td>\n",
       "      <td>2</td>\n",
       "      <td>{'downloads': 17.0, 'unique_downloads': 17.0, ...</td>\n",
       "      <td>2021-09-26T13:48:23.212663+00:00</td>\n",
       "      <td>1</td>\n",
       "    </tr>\n",
       "    <tr>\n",
       "      <th>1</th>\n",
       "      <td>10.5281/zenodo.5747172</td>\n",
       "      <td>5747172</td>\n",
       "      <td>2021-12-01T13:47:08.272108+00:00</td>\n",
       "      <td>10.5281/zenodo.5747173</td>\n",
       "      <td>None</td>\n",
       "      <td>5747173</td>\n",
       "      <td>{'badge': 'https://zenodo.org/badge/doi/10.528...</td>\n",
       "      <td>{'access_conditions': '&lt;p&gt;The dataset is set t...</td>\n",
       "      <td>[262744]</td>\n",
       "      <td>6</td>\n",
       "      <td>{'downloads': 1.0, 'unique_downloads': 1.0, 'u...</td>\n",
       "      <td>2021-12-03T01:48:35.649838+00:00</td>\n",
       "      <td>1</td>\n",
       "    </tr>\n",
       "    <tr>\n",
       "      <th>2</th>\n",
       "      <td>None</td>\n",
       "      <td>4768051</td>\n",
       "      <td>2021-05-17T17:53:16.165204+00:00</td>\n",
       "      <td>10.1007/s10994-021-05968-x</td>\n",
       "      <td>[{'bucket': 'a43e8b77-a43a-488c-8e02-489f02047...</td>\n",
       "      <td>4768052</td>\n",
       "      <td>{'badge': 'https://zenodo.org/badge/doi/10.100...</td>\n",
       "      <td>{'access_right': 'open', 'access_right_categor...</td>\n",
       "      <td>[71235]</td>\n",
       "      <td>2</td>\n",
       "      <td>{'downloads': 18.0, 'unique_downloads': 18.0, ...</td>\n",
       "      <td>2021-05-18T01:48:13.633614+00:00</td>\n",
       "      <td>1</td>\n",
       "    </tr>\n",
       "    <tr>\n",
       "      <th>3</th>\n",
       "      <td>10.5281/zenodo.4738769</td>\n",
       "      <td>4738769</td>\n",
       "      <td>2021-05-05T10:21:43.604973+00:00</td>\n",
       "      <td>10.5281/zenodo.4738770</td>\n",
       "      <td>[{'bucket': 'fdefeabc-7897-4130-9628-438795c87...</td>\n",
       "      <td>4738770</td>\n",
       "      <td>{'badge': 'https://zenodo.org/badge/doi/10.528...</td>\n",
       "      <td>{'access_right': 'open', 'access_right_categor...</td>\n",
       "      <td>[37667]</td>\n",
       "      <td>3</td>\n",
       "      <td>{'downloads': 11.0, 'unique_downloads': 11.0, ...</td>\n",
       "      <td>2021-05-05T13:48:11.586654+00:00</td>\n",
       "      <td>1</td>\n",
       "    </tr>\n",
       "    <tr>\n",
       "      <th>4</th>\n",
       "      <td>10.5281/zenodo.5602144</td>\n",
       "      <td>5602144</td>\n",
       "      <td>2021-10-28T21:22:24.722154+00:00</td>\n",
       "      <td>10.5281/zenodo.5609988</td>\n",
       "      <td>[{'bucket': '9ecdb5a8-e08a-45a1-a900-70eacf48b...</td>\n",
       "      <td>5609988</td>\n",
       "      <td>{'badge': 'https://zenodo.org/badge/doi/10.528...</td>\n",
       "      <td>{'access_right': 'open', 'access_right_categor...</td>\n",
       "      <td>[260803]</td>\n",
       "      <td>2</td>\n",
       "      <td>{'downloads': 3.0, 'unique_downloads': 2.0, 'u...</td>\n",
       "      <td>2021-10-29T01:48:57.739525+00:00</td>\n",
       "      <td>1</td>\n",
       "    </tr>\n",
       "    <tr>\n",
       "      <th>...</th>\n",
       "      <td>...</td>\n",
       "      <td>...</td>\n",
       "      <td>...</td>\n",
       "      <td>...</td>\n",
       "      <td>...</td>\n",
       "      <td>...</td>\n",
       "      <td>...</td>\n",
       "      <td>...</td>\n",
       "      <td>...</td>\n",
       "      <td>...</td>\n",
       "      <td>...</td>\n",
       "      <td>...</td>\n",
       "      <td>...</td>\n",
       "    </tr>\n",
       "    <tr>\n",
       "      <th>7953</th>\n",
       "      <td>None</td>\n",
       "      <td>642480</td>\n",
       "      <td>2014-03-10T17:39:52+00:00</td>\n",
       "      <td>10.1186/1471-2105-14-170</td>\n",
       "      <td>[{'bucket': 'a625bb5f-df27-4cbe-b49c-345a41f1b...</td>\n",
       "      <td>8330</td>\n",
       "      <td>{'badge': 'https://zenodo.org/badge/doi/10.118...</td>\n",
       "      <td>{'access_right': 'open', 'access_right_categor...</td>\n",
       "      <td>[2290]</td>\n",
       "      <td>11</td>\n",
       "      <td>{'downloads': 70.0, 'unique_downloads': 69.0, ...</td>\n",
       "      <td>2020-01-20T16:14:01.294191+00:00</td>\n",
       "      <td>1</td>\n",
       "    </tr>\n",
       "    <tr>\n",
       "      <th>7954</th>\n",
       "      <td>None</td>\n",
       "      <td>641703</td>\n",
       "      <td>2014-03-10T17:38:32+00:00</td>\n",
       "      <td>10.5281/zenodo.7490</td>\n",
       "      <td>[{'bucket': '5d9de852-6754-41d2-b0ac-cacfeb1d4...</td>\n",
       "      <td>7490</td>\n",
       "      <td>{'badge': 'https://zenodo.org/badge/doi/10.528...</td>\n",
       "      <td>{'access_right': 'open', 'access_right_categor...</td>\n",
       "      <td>[946]</td>\n",
       "      <td>12</td>\n",
       "      <td>{'downloads': 14289.0, 'unique_downloads': 141...</td>\n",
       "      <td>2020-01-20T17:33:37.234664+00:00</td>\n",
       "      <td>1</td>\n",
       "    </tr>\n",
       "    <tr>\n",
       "      <th>7955</th>\n",
       "      <td>None</td>\n",
       "      <td>641617</td>\n",
       "      <td>2014-03-10T17:37:37+00:00</td>\n",
       "      <td>10.2478/v10229-011-0015-3</td>\n",
       "      <td>[{'bucket': 'bccfe33c-0ef8-45a7-ac8e-ec48c4d0b...</td>\n",
       "      <td>7016</td>\n",
       "      <td>{'badge': 'https://zenodo.org/badge/doi/10.247...</td>\n",
       "      <td>{'access_right': 'open', 'access_right_categor...</td>\n",
       "      <td>[]</td>\n",
       "      <td>9</td>\n",
       "      <td>{'downloads': 112.0, 'unique_downloads': 109.0...</td>\n",
       "      <td>2020-01-20T14:23:17.635939+00:00</td>\n",
       "      <td>1</td>\n",
       "    </tr>\n",
       "    <tr>\n",
       "      <th>7956</th>\n",
       "      <td>None</td>\n",
       "      <td>641676</td>\n",
       "      <td>2014-03-10T17:37:37+00:00</td>\n",
       "      <td>None</td>\n",
       "      <td>[{'bucket': 'bb3a59b2-fe88-4964-bc17-78a73b620...</td>\n",
       "      <td>7015</td>\n",
       "      <td>{'bucket': 'https://zenodo.org/api/files/bb3a5...</td>\n",
       "      <td>{'access_right': 'open', 'access_right_categor...</td>\n",
       "      <td>[]</td>\n",
       "      <td>8</td>\n",
       "      <td>{'downloads': 17.0, 'unique_downloads': 16.0, ...</td>\n",
       "      <td>2020-01-20T15:09:19.938762+00:00</td>\n",
       "      <td>1</td>\n",
       "    </tr>\n",
       "    <tr>\n",
       "      <th>7957</th>\n",
       "      <td>None</td>\n",
       "      <td>606456</td>\n",
       "      <td>2014-11-17T10:12:41+00:00</td>\n",
       "      <td>10.3390/en7116930</td>\n",
       "      <td>[{'bucket': '34624700-7d2c-462c-b810-1543fe7e0...</td>\n",
       "      <td>12726</td>\n",
       "      <td>{'badge': 'https://zenodo.org/badge/doi/10.339...</td>\n",
       "      <td>{'access_right': 'open', 'access_right_categor...</td>\n",
       "      <td>[6567]</td>\n",
       "      <td>10</td>\n",
       "      <td>{'downloads': 148.0, 'unique_downloads': 143.0...</td>\n",
       "      <td>2020-01-20T17:08:04.983527+00:00</td>\n",
       "      <td>1</td>\n",
       "    </tr>\n",
       "  </tbody>\n",
       "</table>\n",
       "<p>7958 rows × 13 columns</p>\n",
       "</div>"
      ],
      "text/plain": [
       "                  conceptdoi  conceptrecid                           created  \\\n",
       "0     10.5281/zenodo.5528620       5528620  2021-09-26T12:38:34.480681+00:00   \n",
       "1     10.5281/zenodo.5747172       5747172  2021-12-01T13:47:08.272108+00:00   \n",
       "2                       None       4768051  2021-05-17T17:53:16.165204+00:00   \n",
       "3     10.5281/zenodo.4738769       4738769  2021-05-05T10:21:43.604973+00:00   \n",
       "4     10.5281/zenodo.5602144       5602144  2021-10-28T21:22:24.722154+00:00   \n",
       "...                      ...           ...                               ...   \n",
       "7953                    None        642480         2014-03-10T17:39:52+00:00   \n",
       "7954                    None        641703         2014-03-10T17:38:32+00:00   \n",
       "7955                    None        641617         2014-03-10T17:37:37+00:00   \n",
       "7956                    None        641676         2014-03-10T17:37:37+00:00   \n",
       "7957                    None        606456         2014-11-17T10:12:41+00:00   \n",
       "\n",
       "                             doi  \\\n",
       "0         10.5281/zenodo.5528621   \n",
       "1         10.5281/zenodo.5747173   \n",
       "2     10.1007/s10994-021-05968-x   \n",
       "3         10.5281/zenodo.4738770   \n",
       "4         10.5281/zenodo.5609988   \n",
       "...                          ...   \n",
       "7953    10.1186/1471-2105-14-170   \n",
       "7954         10.5281/zenodo.7490   \n",
       "7955   10.2478/v10229-011-0015-3   \n",
       "7956                        None   \n",
       "7957           10.3390/en7116930   \n",
       "\n",
       "                                                  files       id  \\\n",
       "0     [{'bucket': '23d1783f-8ed3-4b80-ae21-4cec73073...  5528621   \n",
       "1                                                  None  5747173   \n",
       "2     [{'bucket': 'a43e8b77-a43a-488c-8e02-489f02047...  4768052   \n",
       "3     [{'bucket': 'fdefeabc-7897-4130-9628-438795c87...  4738770   \n",
       "4     [{'bucket': '9ecdb5a8-e08a-45a1-a900-70eacf48b...  5609988   \n",
       "...                                                 ...      ...   \n",
       "7953  [{'bucket': 'a625bb5f-df27-4cbe-b49c-345a41f1b...     8330   \n",
       "7954  [{'bucket': '5d9de852-6754-41d2-b0ac-cacfeb1d4...     7490   \n",
       "7955  [{'bucket': 'bccfe33c-0ef8-45a7-ac8e-ec48c4d0b...     7016   \n",
       "7956  [{'bucket': 'bb3a59b2-fe88-4964-bc17-78a73b620...     7015   \n",
       "7957  [{'bucket': '34624700-7d2c-462c-b810-1543fe7e0...    12726   \n",
       "\n",
       "                                                  links  \\\n",
       "0     {'badge': 'https://zenodo.org/badge/doi/10.528...   \n",
       "1     {'badge': 'https://zenodo.org/badge/doi/10.528...   \n",
       "2     {'badge': 'https://zenodo.org/badge/doi/10.100...   \n",
       "3     {'badge': 'https://zenodo.org/badge/doi/10.528...   \n",
       "4     {'badge': 'https://zenodo.org/badge/doi/10.528...   \n",
       "...                                                 ...   \n",
       "7953  {'badge': 'https://zenodo.org/badge/doi/10.118...   \n",
       "7954  {'badge': 'https://zenodo.org/badge/doi/10.528...   \n",
       "7955  {'badge': 'https://zenodo.org/badge/doi/10.247...   \n",
       "7956  {'bucket': 'https://zenodo.org/api/files/bb3a5...   \n",
       "7957  {'badge': 'https://zenodo.org/badge/doi/10.339...   \n",
       "\n",
       "                                               metadata    owners  revision  \\\n",
       "0     {'access_right': 'open', 'access_right_categor...  [255977]         2   \n",
       "1     {'access_conditions': '<p>The dataset is set t...  [262744]         6   \n",
       "2     {'access_right': 'open', 'access_right_categor...   [71235]         2   \n",
       "3     {'access_right': 'open', 'access_right_categor...   [37667]         3   \n",
       "4     {'access_right': 'open', 'access_right_categor...  [260803]         2   \n",
       "...                                                 ...       ...       ...   \n",
       "7953  {'access_right': 'open', 'access_right_categor...    [2290]        11   \n",
       "7954  {'access_right': 'open', 'access_right_categor...     [946]        12   \n",
       "7955  {'access_right': 'open', 'access_right_categor...        []         9   \n",
       "7956  {'access_right': 'open', 'access_right_categor...        []         8   \n",
       "7957  {'access_right': 'open', 'access_right_categor...    [6567]        10   \n",
       "\n",
       "                                                  stats  \\\n",
       "0     {'downloads': 17.0, 'unique_downloads': 17.0, ...   \n",
       "1     {'downloads': 1.0, 'unique_downloads': 1.0, 'u...   \n",
       "2     {'downloads': 18.0, 'unique_downloads': 18.0, ...   \n",
       "3     {'downloads': 11.0, 'unique_downloads': 11.0, ...   \n",
       "4     {'downloads': 3.0, 'unique_downloads': 2.0, 'u...   \n",
       "...                                                 ...   \n",
       "7953  {'downloads': 70.0, 'unique_downloads': 69.0, ...   \n",
       "7954  {'downloads': 14289.0, 'unique_downloads': 141...   \n",
       "7955  {'downloads': 112.0, 'unique_downloads': 109.0...   \n",
       "7956  {'downloads': 17.0, 'unique_downloads': 16.0, ...   \n",
       "7957  {'downloads': 148.0, 'unique_downloads': 143.0...   \n",
       "\n",
       "                               updated  page  \n",
       "0     2021-09-26T13:48:23.212663+00:00     1  \n",
       "1     2021-12-03T01:48:35.649838+00:00     1  \n",
       "2     2021-05-18T01:48:13.633614+00:00     1  \n",
       "3     2021-05-05T13:48:11.586654+00:00     1  \n",
       "4     2021-10-29T01:48:57.739525+00:00     1  \n",
       "...                                ...   ...  \n",
       "7953  2020-01-20T16:14:01.294191+00:00     1  \n",
       "7954  2020-01-20T17:33:37.234664+00:00     1  \n",
       "7955  2020-01-20T14:23:17.635939+00:00     1  \n",
       "7956  2020-01-20T15:09:19.938762+00:00     1  \n",
       "7957  2020-01-20T17:08:04.983527+00:00     1  \n",
       "\n",
       "[7958 rows x 13 columns]"
      ]
     },
     "execution_count": 6,
     "metadata": {},
     "output_type": "execute_result"
    }
   ],
   "source": [
    "df"
   ]
  },
  {
   "cell_type": "markdown",
   "id": "ce8b285a",
   "metadata": {},
   "source": [
    "Zenodo \"machine learning\" objects include a variety of resource types that are not relevant to the question at hand, such as journal articles, book chapters, and other items.\n",
    "\n",
    "Full Zenodo resource types returned from inital metadata extract, with relevant subset identified in bold:\n",
    "* Journal article\n",
    "* **Dataset**\n",
    "* **Software**\n",
    "* Conference paper\n",
    "* Presentation\n",
    "* Poster\n",
    "* Project deliverable\n",
    "* Other\n",
    "* Report\n",
    "* Thesis\n",
    "* Figure\n",
    "* Preprint\n",
    "* Working paper\n",
    "* Video/Audio\n",
    "* Book section\n",
    "* Book\n",
    "* Lesson\n",
    "* Technical note\n",
    "* Software documentation\n",
    "* Photo\n",
    "* Proposal\n",
    "* Patent\n",
    "* Data management plan\n",
    "* Physical object\n",
    "* Diagram\n",
    "* Taxonomic treatment\n",
    "* Plot"
   ]
  },
  {
   "cell_type": "markdown",
   "id": "7cfdaae4",
   "metadata": {},
   "source": [
    "We want to re-run all summary statistics on this subset of Zenodo metadata."
   ]
  },
  {
   "cell_type": "code",
   "execution_count": 7,
   "id": "b1d29588",
   "metadata": {},
   "outputs": [],
   "source": [
    "#subset df based on resource type"
   ]
  },
  {
   "cell_type": "code",
   "execution_count": 8,
   "id": "3c9360b2",
   "metadata": {},
   "outputs": [
    {
     "data": {
      "text/plain": [
       "0       5528621\n",
       "1       5747173\n",
       "2       4768052\n",
       "3       4738770\n",
       "4       5609988\n",
       "         ...   \n",
       "7953       8330\n",
       "7954       7490\n",
       "7955       7016\n",
       "7956       7015\n",
       "7957      12726\n",
       "Name: id, Length: 7958, dtype: int64"
      ]
     },
     "execution_count": 8,
     "metadata": {},
     "output_type": "execute_result"
    }
   ],
   "source": [
    "ids = df.ZenodoRecordsCrosswalk.unique_identifier\n",
    "ids"
   ]
  },
  {
   "cell_type": "code",
   "execution_count": 9,
   "id": "6110817c",
   "metadata": {},
   "outputs": [
    {
     "data": {
      "text/plain": [
       "0           Presentation\n",
       "1                Dataset\n",
       "2        Journal article\n",
       "3               Software\n",
       "4       Conference paper\n",
       "              ...       \n",
       "7953     Journal article\n",
       "7954              Report\n",
       "7955     Journal article\n",
       "7956              Report\n",
       "7957     Journal article\n",
       "Name: metadata, Length: 7958, dtype: object"
      ]
     },
     "execution_count": 9,
     "metadata": {},
     "output_type": "execute_result"
    }
   ],
   "source": [
    "resource_types = df.ZenodoRecordsCrosswalk.resource_type\n",
    "resource_types"
   ]
  },
  {
   "cell_type": "code",
   "execution_count": 10,
   "id": "711dd501",
   "metadata": {},
   "outputs": [
    {
     "data": {
      "text/html": [
       "<div>\n",
       "<style scoped>\n",
       "    .dataframe tbody tr th:only-of-type {\n",
       "        vertical-align: middle;\n",
       "    }\n",
       "\n",
       "    .dataframe tbody tr th {\n",
       "        vertical-align: top;\n",
       "    }\n",
       "\n",
       "    .dataframe thead th {\n",
       "        text-align: right;\n",
       "    }\n",
       "</style>\n",
       "<table border=\"1\" class=\"dataframe\">\n",
       "  <thead>\n",
       "    <tr style=\"text-align: right;\">\n",
       "      <th></th>\n",
       "      <th>id</th>\n",
       "      <th>metadata</th>\n",
       "    </tr>\n",
       "  </thead>\n",
       "  <tbody>\n",
       "    <tr>\n",
       "      <th>0</th>\n",
       "      <td>5528621</td>\n",
       "      <td>Presentation</td>\n",
       "    </tr>\n",
       "    <tr>\n",
       "      <th>1</th>\n",
       "      <td>5747173</td>\n",
       "      <td>Dataset</td>\n",
       "    </tr>\n",
       "    <tr>\n",
       "      <th>2</th>\n",
       "      <td>4768052</td>\n",
       "      <td>Journal article</td>\n",
       "    </tr>\n",
       "    <tr>\n",
       "      <th>3</th>\n",
       "      <td>4738770</td>\n",
       "      <td>Software</td>\n",
       "    </tr>\n",
       "    <tr>\n",
       "      <th>4</th>\n",
       "      <td>5609988</td>\n",
       "      <td>Conference paper</td>\n",
       "    </tr>\n",
       "    <tr>\n",
       "      <th>...</th>\n",
       "      <td>...</td>\n",
       "      <td>...</td>\n",
       "    </tr>\n",
       "    <tr>\n",
       "      <th>7953</th>\n",
       "      <td>8330</td>\n",
       "      <td>Journal article</td>\n",
       "    </tr>\n",
       "    <tr>\n",
       "      <th>7954</th>\n",
       "      <td>7490</td>\n",
       "      <td>Report</td>\n",
       "    </tr>\n",
       "    <tr>\n",
       "      <th>7955</th>\n",
       "      <td>7016</td>\n",
       "      <td>Journal article</td>\n",
       "    </tr>\n",
       "    <tr>\n",
       "      <th>7956</th>\n",
       "      <td>7015</td>\n",
       "      <td>Report</td>\n",
       "    </tr>\n",
       "    <tr>\n",
       "      <th>7957</th>\n",
       "      <td>12726</td>\n",
       "      <td>Journal article</td>\n",
       "    </tr>\n",
       "  </tbody>\n",
       "</table>\n",
       "<p>7958 rows × 2 columns</p>\n",
       "</div>"
      ],
      "text/plain": [
       "           id          metadata\n",
       "0     5528621      Presentation\n",
       "1     5747173           Dataset\n",
       "2     4768052   Journal article\n",
       "3     4738770          Software\n",
       "4     5609988  Conference paper\n",
       "...       ...               ...\n",
       "7953     8330   Journal article\n",
       "7954     7490            Report\n",
       "7955     7016   Journal article\n",
       "7956     7015            Report\n",
       "7957    12726   Journal article\n",
       "\n",
       "[7958 rows x 2 columns]"
      ]
     },
     "execution_count": 10,
     "metadata": {},
     "output_type": "execute_result"
    }
   ],
   "source": [
    "#add ID column to resource type column\n",
    "resource_ids = pd.concat([ids, resource_types], axis = 1)\n",
    "resource_ids"
   ]
  },
  {
   "cell_type": "code",
   "execution_count": 11,
   "id": "daffa7e0",
   "metadata": {},
   "outputs": [
    {
     "data": {
      "text/plain": [
       "1       5747173\n",
       "3       4738770\n",
       "7       4456470\n",
       "9       5654850\n",
       "10      4547779\n",
       "         ...   \n",
       "7935      14183\n",
       "7938      22204\n",
       "7939      31904\n",
       "7942      10075\n",
       "7949      12501\n",
       "Name: id, Length: 2217, dtype: int64"
      ]
     },
     "execution_count": 11,
     "metadata": {},
     "output_type": "execute_result"
    }
   ],
   "source": [
    "#keep only ids that are 'Dataset', 'Software'\n",
    "keep_subset = resource_ids[resource_ids['metadata'].isin(['Dataset', 'Software'])]\n",
    "keep_ids = keep_subset['id']\n",
    "keep_ids"
   ]
  },
  {
   "cell_type": "code",
   "execution_count": 12,
   "id": "790d4ae4",
   "metadata": {},
   "outputs": [],
   "source": [
    "#subset full dataset to keep only these ids\n",
    "subset_df = df[df['id'].isin(keep_ids)]"
   ]
  },
  {
   "cell_type": "code",
   "execution_count": 13,
   "id": "3824ec8d",
   "metadata": {
    "scrolled": true
   },
   "outputs": [
    {
     "data": {
      "text/html": [
       "<div>\n",
       "<style scoped>\n",
       "    .dataframe tbody tr th:only-of-type {\n",
       "        vertical-align: middle;\n",
       "    }\n",
       "\n",
       "    .dataframe tbody tr th {\n",
       "        vertical-align: top;\n",
       "    }\n",
       "\n",
       "    .dataframe thead th {\n",
       "        text-align: right;\n",
       "    }\n",
       "</style>\n",
       "<table border=\"1\" class=\"dataframe\">\n",
       "  <thead>\n",
       "    <tr style=\"text-align: right;\">\n",
       "      <th></th>\n",
       "      <th>conceptdoi</th>\n",
       "      <th>conceptrecid</th>\n",
       "      <th>created</th>\n",
       "      <th>doi</th>\n",
       "      <th>files</th>\n",
       "      <th>id</th>\n",
       "      <th>links</th>\n",
       "      <th>metadata</th>\n",
       "      <th>owners</th>\n",
       "      <th>revision</th>\n",
       "      <th>stats</th>\n",
       "      <th>updated</th>\n",
       "      <th>page</th>\n",
       "    </tr>\n",
       "  </thead>\n",
       "  <tbody>\n",
       "    <tr>\n",
       "      <th>1</th>\n",
       "      <td>10.5281/zenodo.5747172</td>\n",
       "      <td>5747172</td>\n",
       "      <td>2021-12-01T13:47:08.272108+00:00</td>\n",
       "      <td>10.5281/zenodo.5747173</td>\n",
       "      <td>None</td>\n",
       "      <td>5747173</td>\n",
       "      <td>{'badge': 'https://zenodo.org/badge/doi/10.528...</td>\n",
       "      <td>{'access_conditions': '&lt;p&gt;The dataset is set t...</td>\n",
       "      <td>[262744]</td>\n",
       "      <td>6</td>\n",
       "      <td>{'downloads': 1.0, 'unique_downloads': 1.0, 'u...</td>\n",
       "      <td>2021-12-03T01:48:35.649838+00:00</td>\n",
       "      <td>1</td>\n",
       "    </tr>\n",
       "    <tr>\n",
       "      <th>3</th>\n",
       "      <td>10.5281/zenodo.4738769</td>\n",
       "      <td>4738769</td>\n",
       "      <td>2021-05-05T10:21:43.604973+00:00</td>\n",
       "      <td>10.5281/zenodo.4738770</td>\n",
       "      <td>[{'bucket': 'fdefeabc-7897-4130-9628-438795c87...</td>\n",
       "      <td>4738770</td>\n",
       "      <td>{'badge': 'https://zenodo.org/badge/doi/10.528...</td>\n",
       "      <td>{'access_right': 'open', 'access_right_categor...</td>\n",
       "      <td>[37667]</td>\n",
       "      <td>3</td>\n",
       "      <td>{'downloads': 11.0, 'unique_downloads': 11.0, ...</td>\n",
       "      <td>2021-05-05T13:48:11.586654+00:00</td>\n",
       "      <td>1</td>\n",
       "    </tr>\n",
       "    <tr>\n",
       "      <th>7</th>\n",
       "      <td>10.5281/zenodo.4456151</td>\n",
       "      <td>4456151</td>\n",
       "      <td>2021-01-22T08:59:53.920317+00:00</td>\n",
       "      <td>10.5281/zenodo.4456470</td>\n",
       "      <td>[{'bucket': '723fc682-b0bd-4b5a-ba84-5c13f1586...</td>\n",
       "      <td>4456470</td>\n",
       "      <td>{'badge': 'https://zenodo.org/badge/doi/10.528...</td>\n",
       "      <td>{'access_right': 'open', 'access_right_categor...</td>\n",
       "      <td>[189980]</td>\n",
       "      <td>2</td>\n",
       "      <td>{'downloads': 5.0, 'unique_downloads': 5.0, 'u...</td>\n",
       "      <td>2021-01-22T12:27:21.545991+00:00</td>\n",
       "      <td>1</td>\n",
       "    </tr>\n",
       "    <tr>\n",
       "      <th>9</th>\n",
       "      <td>10.5281/zenodo.5639567</td>\n",
       "      <td>5639567</td>\n",
       "      <td>2021-11-08T16:12:09.613970+00:00</td>\n",
       "      <td>10.5281/zenodo.5654850</td>\n",
       "      <td>[{'bucket': '9ebdf204-c339-45f0-890d-2ec282f81...</td>\n",
       "      <td>5654850</td>\n",
       "      <td>{'badge': 'https://zenodo.org/badge/doi/10.528...</td>\n",
       "      <td>{'access_right': 'open', 'access_right_categor...</td>\n",
       "      <td>[259815]</td>\n",
       "      <td>3</td>\n",
       "      <td>{'downloads': 0.0, 'unique_downloads': 0.0, 'u...</td>\n",
       "      <td>2021-11-09T13:48:40.037016+00:00</td>\n",
       "      <td>1</td>\n",
       "    </tr>\n",
       "    <tr>\n",
       "      <th>10</th>\n",
       "      <td>10.5281/zenodo.4547778</td>\n",
       "      <td>4547778</td>\n",
       "      <td>2021-02-18T05:59:05.081026+00:00</td>\n",
       "      <td>10.5281/zenodo.4547779</td>\n",
       "      <td>[{'bucket': '0b35fbd4-0d16-463a-b3eb-571fbc57c...</td>\n",
       "      <td>4547779</td>\n",
       "      <td>{'badge': 'https://zenodo.org/badge/doi/10.528...</td>\n",
       "      <td>{'access_right': 'open', 'access_right_categor...</td>\n",
       "      <td>[197830]</td>\n",
       "      <td>3</td>\n",
       "      <td>{'downloads': 1.0, 'unique_downloads': 1.0, 'u...</td>\n",
       "      <td>2021-02-18T12:27:25.273226+00:00</td>\n",
       "      <td>1</td>\n",
       "    </tr>\n",
       "    <tr>\n",
       "      <th>...</th>\n",
       "      <td>...</td>\n",
       "      <td>...</td>\n",
       "      <td>...</td>\n",
       "      <td>...</td>\n",
       "      <td>...</td>\n",
       "      <td>...</td>\n",
       "      <td>...</td>\n",
       "      <td>...</td>\n",
       "      <td>...</td>\n",
       "      <td>...</td>\n",
       "      <td>...</td>\n",
       "      <td>...</td>\n",
       "      <td>...</td>\n",
       "    </tr>\n",
       "    <tr>\n",
       "      <th>7935</th>\n",
       "      <td>10.5281/zenodo.592829</td>\n",
       "      <td>592829</td>\n",
       "      <td>2015-06-25T15:09:27+00:00</td>\n",
       "      <td>10.5281/zenodo.14183</td>\n",
       "      <td>[{'bucket': '051fce62-5352-4abd-b53b-b4de2d1ac...</td>\n",
       "      <td>14183</td>\n",
       "      <td>{'badge': 'https://zenodo.org/badge/doi/10.528...</td>\n",
       "      <td>{'access_right': 'open', 'access_right_categor...</td>\n",
       "      <td>[7022]</td>\n",
       "      <td>10</td>\n",
       "      <td>{'downloads': 3.0, 'unique_downloads': 3.0, 'u...</td>\n",
       "      <td>2020-01-25T19:23:07.983801+00:00</td>\n",
       "      <td>1</td>\n",
       "    </tr>\n",
       "    <tr>\n",
       "      <th>7938</th>\n",
       "      <td>None</td>\n",
       "      <td>597810</td>\n",
       "      <td>2015-07-31T06:02:49+00:00</td>\n",
       "      <td>10.5281/zenodo.22204</td>\n",
       "      <td>[{'bucket': 'bff7131e-f8e3-42c3-b3b2-cc6d88aad...</td>\n",
       "      <td>22204</td>\n",
       "      <td>{'badge': 'https://zenodo.org/badge/doi/10.528...</td>\n",
       "      <td>{'access_right': 'open', 'access_right_categor...</td>\n",
       "      <td>[16206]</td>\n",
       "      <td>15</td>\n",
       "      <td>{'downloads': 7.0, 'unique_downloads': 7.0, 'u...</td>\n",
       "      <td>2020-01-25T07:22:23.620589+00:00</td>\n",
       "      <td>1</td>\n",
       "    </tr>\n",
       "    <tr>\n",
       "      <th>7939</th>\n",
       "      <td>None</td>\n",
       "      <td>591554</td>\n",
       "      <td>2015-10-07T13:20:53+00:00</td>\n",
       "      <td>10.5281/zenodo.31904</td>\n",
       "      <td>[{'bucket': '09dd6cd5-c5ca-4776-bda9-3c40d1326...</td>\n",
       "      <td>31904</td>\n",
       "      <td>{'badge': 'https://zenodo.org/badge/doi/10.528...</td>\n",
       "      <td>{'access_right': 'open', 'access_right_categor...</td>\n",
       "      <td>[3832]</td>\n",
       "      <td>10</td>\n",
       "      <td>{'downloads': 1.0, 'unique_downloads': 1.0, 'u...</td>\n",
       "      <td>2020-01-24T19:22:25.401259+00:00</td>\n",
       "      <td>1</td>\n",
       "    </tr>\n",
       "    <tr>\n",
       "      <th>7942</th>\n",
       "      <td>None</td>\n",
       "      <td>592133</td>\n",
       "      <td>2015-06-25T15:03:29+00:00</td>\n",
       "      <td>10.5281/zenodo.10075</td>\n",
       "      <td>[{'bucket': 'c0dccdf0-92fa-4df5-94ca-78c581e72...</td>\n",
       "      <td>10075</td>\n",
       "      <td>{'badge': 'https://zenodo.org/badge/doi/10.528...</td>\n",
       "      <td>{'access_right': 'open', 'access_right_categor...</td>\n",
       "      <td>[4179]</td>\n",
       "      <td>11</td>\n",
       "      <td>{'downloads': 8.0, 'unique_downloads': 8.0, 'u...</td>\n",
       "      <td>2020-01-25T19:21:23.237152+00:00</td>\n",
       "      <td>1</td>\n",
       "    </tr>\n",
       "    <tr>\n",
       "      <th>7949</th>\n",
       "      <td>None</td>\n",
       "      <td>606281</td>\n",
       "      <td>2014-11-10T18:06:14+00:00</td>\n",
       "      <td>10.5281/zenodo.12501</td>\n",
       "      <td>[{'bucket': '269831f2-f474-4421-b214-f1187f9d8...</td>\n",
       "      <td>12501</td>\n",
       "      <td>{'badge': 'https://zenodo.org/badge/doi/10.528...</td>\n",
       "      <td>{'access_right': 'open', 'access_right_categor...</td>\n",
       "      <td>[6885]</td>\n",
       "      <td>10</td>\n",
       "      <td>{'downloads': 117.0, 'unique_downloads': 115.0...</td>\n",
       "      <td>2020-01-24T19:26:06.455761+00:00</td>\n",
       "      <td>1</td>\n",
       "    </tr>\n",
       "  </tbody>\n",
       "</table>\n",
       "<p>2217 rows × 13 columns</p>\n",
       "</div>"
      ],
      "text/plain": [
       "                  conceptdoi  conceptrecid                           created  \\\n",
       "1     10.5281/zenodo.5747172       5747172  2021-12-01T13:47:08.272108+00:00   \n",
       "3     10.5281/zenodo.4738769       4738769  2021-05-05T10:21:43.604973+00:00   \n",
       "7     10.5281/zenodo.4456151       4456151  2021-01-22T08:59:53.920317+00:00   \n",
       "9     10.5281/zenodo.5639567       5639567  2021-11-08T16:12:09.613970+00:00   \n",
       "10    10.5281/zenodo.4547778       4547778  2021-02-18T05:59:05.081026+00:00   \n",
       "...                      ...           ...                               ...   \n",
       "7935   10.5281/zenodo.592829        592829         2015-06-25T15:09:27+00:00   \n",
       "7938                    None        597810         2015-07-31T06:02:49+00:00   \n",
       "7939                    None        591554         2015-10-07T13:20:53+00:00   \n",
       "7942                    None        592133         2015-06-25T15:03:29+00:00   \n",
       "7949                    None        606281         2014-11-10T18:06:14+00:00   \n",
       "\n",
       "                         doi  \\\n",
       "1     10.5281/zenodo.5747173   \n",
       "3     10.5281/zenodo.4738770   \n",
       "7     10.5281/zenodo.4456470   \n",
       "9     10.5281/zenodo.5654850   \n",
       "10    10.5281/zenodo.4547779   \n",
       "...                      ...   \n",
       "7935    10.5281/zenodo.14183   \n",
       "7938    10.5281/zenodo.22204   \n",
       "7939    10.5281/zenodo.31904   \n",
       "7942    10.5281/zenodo.10075   \n",
       "7949    10.5281/zenodo.12501   \n",
       "\n",
       "                                                  files       id  \\\n",
       "1                                                  None  5747173   \n",
       "3     [{'bucket': 'fdefeabc-7897-4130-9628-438795c87...  4738770   \n",
       "7     [{'bucket': '723fc682-b0bd-4b5a-ba84-5c13f1586...  4456470   \n",
       "9     [{'bucket': '9ebdf204-c339-45f0-890d-2ec282f81...  5654850   \n",
       "10    [{'bucket': '0b35fbd4-0d16-463a-b3eb-571fbc57c...  4547779   \n",
       "...                                                 ...      ...   \n",
       "7935  [{'bucket': '051fce62-5352-4abd-b53b-b4de2d1ac...    14183   \n",
       "7938  [{'bucket': 'bff7131e-f8e3-42c3-b3b2-cc6d88aad...    22204   \n",
       "7939  [{'bucket': '09dd6cd5-c5ca-4776-bda9-3c40d1326...    31904   \n",
       "7942  [{'bucket': 'c0dccdf0-92fa-4df5-94ca-78c581e72...    10075   \n",
       "7949  [{'bucket': '269831f2-f474-4421-b214-f1187f9d8...    12501   \n",
       "\n",
       "                                                  links  \\\n",
       "1     {'badge': 'https://zenodo.org/badge/doi/10.528...   \n",
       "3     {'badge': 'https://zenodo.org/badge/doi/10.528...   \n",
       "7     {'badge': 'https://zenodo.org/badge/doi/10.528...   \n",
       "9     {'badge': 'https://zenodo.org/badge/doi/10.528...   \n",
       "10    {'badge': 'https://zenodo.org/badge/doi/10.528...   \n",
       "...                                                 ...   \n",
       "7935  {'badge': 'https://zenodo.org/badge/doi/10.528...   \n",
       "7938  {'badge': 'https://zenodo.org/badge/doi/10.528...   \n",
       "7939  {'badge': 'https://zenodo.org/badge/doi/10.528...   \n",
       "7942  {'badge': 'https://zenodo.org/badge/doi/10.528...   \n",
       "7949  {'badge': 'https://zenodo.org/badge/doi/10.528...   \n",
       "\n",
       "                                               metadata    owners  revision  \\\n",
       "1     {'access_conditions': '<p>The dataset is set t...  [262744]         6   \n",
       "3     {'access_right': 'open', 'access_right_categor...   [37667]         3   \n",
       "7     {'access_right': 'open', 'access_right_categor...  [189980]         2   \n",
       "9     {'access_right': 'open', 'access_right_categor...  [259815]         3   \n",
       "10    {'access_right': 'open', 'access_right_categor...  [197830]         3   \n",
       "...                                                 ...       ...       ...   \n",
       "7935  {'access_right': 'open', 'access_right_categor...    [7022]        10   \n",
       "7938  {'access_right': 'open', 'access_right_categor...   [16206]        15   \n",
       "7939  {'access_right': 'open', 'access_right_categor...    [3832]        10   \n",
       "7942  {'access_right': 'open', 'access_right_categor...    [4179]        11   \n",
       "7949  {'access_right': 'open', 'access_right_categor...    [6885]        10   \n",
       "\n",
       "                                                  stats  \\\n",
       "1     {'downloads': 1.0, 'unique_downloads': 1.0, 'u...   \n",
       "3     {'downloads': 11.0, 'unique_downloads': 11.0, ...   \n",
       "7     {'downloads': 5.0, 'unique_downloads': 5.0, 'u...   \n",
       "9     {'downloads': 0.0, 'unique_downloads': 0.0, 'u...   \n",
       "10    {'downloads': 1.0, 'unique_downloads': 1.0, 'u...   \n",
       "...                                                 ...   \n",
       "7935  {'downloads': 3.0, 'unique_downloads': 3.0, 'u...   \n",
       "7938  {'downloads': 7.0, 'unique_downloads': 7.0, 'u...   \n",
       "7939  {'downloads': 1.0, 'unique_downloads': 1.0, 'u...   \n",
       "7942  {'downloads': 8.0, 'unique_downloads': 8.0, 'u...   \n",
       "7949  {'downloads': 117.0, 'unique_downloads': 115.0...   \n",
       "\n",
       "                               updated  page  \n",
       "1     2021-12-03T01:48:35.649838+00:00     1  \n",
       "3     2021-05-05T13:48:11.586654+00:00     1  \n",
       "7     2021-01-22T12:27:21.545991+00:00     1  \n",
       "9     2021-11-09T13:48:40.037016+00:00     1  \n",
       "10    2021-02-18T12:27:25.273226+00:00     1  \n",
       "...                                ...   ...  \n",
       "7935  2020-01-25T19:23:07.983801+00:00     1  \n",
       "7938  2020-01-25T07:22:23.620589+00:00     1  \n",
       "7939  2020-01-24T19:22:25.401259+00:00     1  \n",
       "7942  2020-01-25T19:21:23.237152+00:00     1  \n",
       "7949  2020-01-24T19:26:06.455761+00:00     1  \n",
       "\n",
       "[2217 rows x 13 columns]"
      ]
     },
     "execution_count": 13,
     "metadata": {},
     "output_type": "execute_result"
    }
   ],
   "source": [
    "subset_df"
   ]
  },
  {
   "cell_type": "code",
   "execution_count": 14,
   "id": "53c5947d",
   "metadata": {},
   "outputs": [],
   "source": [
    "#rename subset_df back to df, so remainder of code identical to full extract\n",
    "del df\n",
    "df = subset_df"
   ]
  },
  {
   "cell_type": "code",
   "execution_count": 15,
   "id": "2403268e",
   "metadata": {
    "scrolled": true
   },
   "outputs": [
    {
     "data": {
      "text/html": [
       "<div>\n",
       "<style scoped>\n",
       "    .dataframe tbody tr th:only-of-type {\n",
       "        vertical-align: middle;\n",
       "    }\n",
       "\n",
       "    .dataframe tbody tr th {\n",
       "        vertical-align: top;\n",
       "    }\n",
       "\n",
       "    .dataframe thead th {\n",
       "        text-align: right;\n",
       "    }\n",
       "</style>\n",
       "<table border=\"1\" class=\"dataframe\">\n",
       "  <thead>\n",
       "    <tr style=\"text-align: right;\">\n",
       "      <th></th>\n",
       "      <th>conceptdoi</th>\n",
       "      <th>conceptrecid</th>\n",
       "      <th>created</th>\n",
       "      <th>doi</th>\n",
       "      <th>files</th>\n",
       "      <th>id</th>\n",
       "      <th>links</th>\n",
       "      <th>metadata</th>\n",
       "      <th>owners</th>\n",
       "      <th>revision</th>\n",
       "      <th>stats</th>\n",
       "      <th>updated</th>\n",
       "      <th>page</th>\n",
       "    </tr>\n",
       "  </thead>\n",
       "  <tbody>\n",
       "    <tr>\n",
       "      <th>1</th>\n",
       "      <td>10.5281/zenodo.5747172</td>\n",
       "      <td>5747172</td>\n",
       "      <td>2021-12-01T13:47:08.272108+00:00</td>\n",
       "      <td>10.5281/zenodo.5747173</td>\n",
       "      <td>None</td>\n",
       "      <td>5747173</td>\n",
       "      <td>{'badge': 'https://zenodo.org/badge/doi/10.528...</td>\n",
       "      <td>{'access_conditions': '&lt;p&gt;The dataset is set t...</td>\n",
       "      <td>[262744]</td>\n",
       "      <td>6</td>\n",
       "      <td>{'downloads': 1.0, 'unique_downloads': 1.0, 'u...</td>\n",
       "      <td>2021-12-03T01:48:35.649838+00:00</td>\n",
       "      <td>1</td>\n",
       "    </tr>\n",
       "    <tr>\n",
       "      <th>3</th>\n",
       "      <td>10.5281/zenodo.4738769</td>\n",
       "      <td>4738769</td>\n",
       "      <td>2021-05-05T10:21:43.604973+00:00</td>\n",
       "      <td>10.5281/zenodo.4738770</td>\n",
       "      <td>[{'bucket': 'fdefeabc-7897-4130-9628-438795c87...</td>\n",
       "      <td>4738770</td>\n",
       "      <td>{'badge': 'https://zenodo.org/badge/doi/10.528...</td>\n",
       "      <td>{'access_right': 'open', 'access_right_categor...</td>\n",
       "      <td>[37667]</td>\n",
       "      <td>3</td>\n",
       "      <td>{'downloads': 11.0, 'unique_downloads': 11.0, ...</td>\n",
       "      <td>2021-05-05T13:48:11.586654+00:00</td>\n",
       "      <td>1</td>\n",
       "    </tr>\n",
       "    <tr>\n",
       "      <th>7</th>\n",
       "      <td>10.5281/zenodo.4456151</td>\n",
       "      <td>4456151</td>\n",
       "      <td>2021-01-22T08:59:53.920317+00:00</td>\n",
       "      <td>10.5281/zenodo.4456470</td>\n",
       "      <td>[{'bucket': '723fc682-b0bd-4b5a-ba84-5c13f1586...</td>\n",
       "      <td>4456470</td>\n",
       "      <td>{'badge': 'https://zenodo.org/badge/doi/10.528...</td>\n",
       "      <td>{'access_right': 'open', 'access_right_categor...</td>\n",
       "      <td>[189980]</td>\n",
       "      <td>2</td>\n",
       "      <td>{'downloads': 5.0, 'unique_downloads': 5.0, 'u...</td>\n",
       "      <td>2021-01-22T12:27:21.545991+00:00</td>\n",
       "      <td>1</td>\n",
       "    </tr>\n",
       "    <tr>\n",
       "      <th>9</th>\n",
       "      <td>10.5281/zenodo.5639567</td>\n",
       "      <td>5639567</td>\n",
       "      <td>2021-11-08T16:12:09.613970+00:00</td>\n",
       "      <td>10.5281/zenodo.5654850</td>\n",
       "      <td>[{'bucket': '9ebdf204-c339-45f0-890d-2ec282f81...</td>\n",
       "      <td>5654850</td>\n",
       "      <td>{'badge': 'https://zenodo.org/badge/doi/10.528...</td>\n",
       "      <td>{'access_right': 'open', 'access_right_categor...</td>\n",
       "      <td>[259815]</td>\n",
       "      <td>3</td>\n",
       "      <td>{'downloads': 0.0, 'unique_downloads': 0.0, 'u...</td>\n",
       "      <td>2021-11-09T13:48:40.037016+00:00</td>\n",
       "      <td>1</td>\n",
       "    </tr>\n",
       "    <tr>\n",
       "      <th>10</th>\n",
       "      <td>10.5281/zenodo.4547778</td>\n",
       "      <td>4547778</td>\n",
       "      <td>2021-02-18T05:59:05.081026+00:00</td>\n",
       "      <td>10.5281/zenodo.4547779</td>\n",
       "      <td>[{'bucket': '0b35fbd4-0d16-463a-b3eb-571fbc57c...</td>\n",
       "      <td>4547779</td>\n",
       "      <td>{'badge': 'https://zenodo.org/badge/doi/10.528...</td>\n",
       "      <td>{'access_right': 'open', 'access_right_categor...</td>\n",
       "      <td>[197830]</td>\n",
       "      <td>3</td>\n",
       "      <td>{'downloads': 1.0, 'unique_downloads': 1.0, 'u...</td>\n",
       "      <td>2021-02-18T12:27:25.273226+00:00</td>\n",
       "      <td>1</td>\n",
       "    </tr>\n",
       "    <tr>\n",
       "      <th>...</th>\n",
       "      <td>...</td>\n",
       "      <td>...</td>\n",
       "      <td>...</td>\n",
       "      <td>...</td>\n",
       "      <td>...</td>\n",
       "      <td>...</td>\n",
       "      <td>...</td>\n",
       "      <td>...</td>\n",
       "      <td>...</td>\n",
       "      <td>...</td>\n",
       "      <td>...</td>\n",
       "      <td>...</td>\n",
       "      <td>...</td>\n",
       "    </tr>\n",
       "    <tr>\n",
       "      <th>7935</th>\n",
       "      <td>10.5281/zenodo.592829</td>\n",
       "      <td>592829</td>\n",
       "      <td>2015-06-25T15:09:27+00:00</td>\n",
       "      <td>10.5281/zenodo.14183</td>\n",
       "      <td>[{'bucket': '051fce62-5352-4abd-b53b-b4de2d1ac...</td>\n",
       "      <td>14183</td>\n",
       "      <td>{'badge': 'https://zenodo.org/badge/doi/10.528...</td>\n",
       "      <td>{'access_right': 'open', 'access_right_categor...</td>\n",
       "      <td>[7022]</td>\n",
       "      <td>10</td>\n",
       "      <td>{'downloads': 3.0, 'unique_downloads': 3.0, 'u...</td>\n",
       "      <td>2020-01-25T19:23:07.983801+00:00</td>\n",
       "      <td>1</td>\n",
       "    </tr>\n",
       "    <tr>\n",
       "      <th>7938</th>\n",
       "      <td>None</td>\n",
       "      <td>597810</td>\n",
       "      <td>2015-07-31T06:02:49+00:00</td>\n",
       "      <td>10.5281/zenodo.22204</td>\n",
       "      <td>[{'bucket': 'bff7131e-f8e3-42c3-b3b2-cc6d88aad...</td>\n",
       "      <td>22204</td>\n",
       "      <td>{'badge': 'https://zenodo.org/badge/doi/10.528...</td>\n",
       "      <td>{'access_right': 'open', 'access_right_categor...</td>\n",
       "      <td>[16206]</td>\n",
       "      <td>15</td>\n",
       "      <td>{'downloads': 7.0, 'unique_downloads': 7.0, 'u...</td>\n",
       "      <td>2020-01-25T07:22:23.620589+00:00</td>\n",
       "      <td>1</td>\n",
       "    </tr>\n",
       "    <tr>\n",
       "      <th>7939</th>\n",
       "      <td>None</td>\n",
       "      <td>591554</td>\n",
       "      <td>2015-10-07T13:20:53+00:00</td>\n",
       "      <td>10.5281/zenodo.31904</td>\n",
       "      <td>[{'bucket': '09dd6cd5-c5ca-4776-bda9-3c40d1326...</td>\n",
       "      <td>31904</td>\n",
       "      <td>{'badge': 'https://zenodo.org/badge/doi/10.528...</td>\n",
       "      <td>{'access_right': 'open', 'access_right_categor...</td>\n",
       "      <td>[3832]</td>\n",
       "      <td>10</td>\n",
       "      <td>{'downloads': 1.0, 'unique_downloads': 1.0, 'u...</td>\n",
       "      <td>2020-01-24T19:22:25.401259+00:00</td>\n",
       "      <td>1</td>\n",
       "    </tr>\n",
       "    <tr>\n",
       "      <th>7942</th>\n",
       "      <td>None</td>\n",
       "      <td>592133</td>\n",
       "      <td>2015-06-25T15:03:29+00:00</td>\n",
       "      <td>10.5281/zenodo.10075</td>\n",
       "      <td>[{'bucket': 'c0dccdf0-92fa-4df5-94ca-78c581e72...</td>\n",
       "      <td>10075</td>\n",
       "      <td>{'badge': 'https://zenodo.org/badge/doi/10.528...</td>\n",
       "      <td>{'access_right': 'open', 'access_right_categor...</td>\n",
       "      <td>[4179]</td>\n",
       "      <td>11</td>\n",
       "      <td>{'downloads': 8.0, 'unique_downloads': 8.0, 'u...</td>\n",
       "      <td>2020-01-25T19:21:23.237152+00:00</td>\n",
       "      <td>1</td>\n",
       "    </tr>\n",
       "    <tr>\n",
       "      <th>7949</th>\n",
       "      <td>None</td>\n",
       "      <td>606281</td>\n",
       "      <td>2014-11-10T18:06:14+00:00</td>\n",
       "      <td>10.5281/zenodo.12501</td>\n",
       "      <td>[{'bucket': '269831f2-f474-4421-b214-f1187f9d8...</td>\n",
       "      <td>12501</td>\n",
       "      <td>{'badge': 'https://zenodo.org/badge/doi/10.528...</td>\n",
       "      <td>{'access_right': 'open', 'access_right_categor...</td>\n",
       "      <td>[6885]</td>\n",
       "      <td>10</td>\n",
       "      <td>{'downloads': 117.0, 'unique_downloads': 115.0...</td>\n",
       "      <td>2020-01-24T19:26:06.455761+00:00</td>\n",
       "      <td>1</td>\n",
       "    </tr>\n",
       "  </tbody>\n",
       "</table>\n",
       "<p>2217 rows × 13 columns</p>\n",
       "</div>"
      ],
      "text/plain": [
       "                  conceptdoi  conceptrecid                           created  \\\n",
       "1     10.5281/zenodo.5747172       5747172  2021-12-01T13:47:08.272108+00:00   \n",
       "3     10.5281/zenodo.4738769       4738769  2021-05-05T10:21:43.604973+00:00   \n",
       "7     10.5281/zenodo.4456151       4456151  2021-01-22T08:59:53.920317+00:00   \n",
       "9     10.5281/zenodo.5639567       5639567  2021-11-08T16:12:09.613970+00:00   \n",
       "10    10.5281/zenodo.4547778       4547778  2021-02-18T05:59:05.081026+00:00   \n",
       "...                      ...           ...                               ...   \n",
       "7935   10.5281/zenodo.592829        592829         2015-06-25T15:09:27+00:00   \n",
       "7938                    None        597810         2015-07-31T06:02:49+00:00   \n",
       "7939                    None        591554         2015-10-07T13:20:53+00:00   \n",
       "7942                    None        592133         2015-06-25T15:03:29+00:00   \n",
       "7949                    None        606281         2014-11-10T18:06:14+00:00   \n",
       "\n",
       "                         doi  \\\n",
       "1     10.5281/zenodo.5747173   \n",
       "3     10.5281/zenodo.4738770   \n",
       "7     10.5281/zenodo.4456470   \n",
       "9     10.5281/zenodo.5654850   \n",
       "10    10.5281/zenodo.4547779   \n",
       "...                      ...   \n",
       "7935    10.5281/zenodo.14183   \n",
       "7938    10.5281/zenodo.22204   \n",
       "7939    10.5281/zenodo.31904   \n",
       "7942    10.5281/zenodo.10075   \n",
       "7949    10.5281/zenodo.12501   \n",
       "\n",
       "                                                  files       id  \\\n",
       "1                                                  None  5747173   \n",
       "3     [{'bucket': 'fdefeabc-7897-4130-9628-438795c87...  4738770   \n",
       "7     [{'bucket': '723fc682-b0bd-4b5a-ba84-5c13f1586...  4456470   \n",
       "9     [{'bucket': '9ebdf204-c339-45f0-890d-2ec282f81...  5654850   \n",
       "10    [{'bucket': '0b35fbd4-0d16-463a-b3eb-571fbc57c...  4547779   \n",
       "...                                                 ...      ...   \n",
       "7935  [{'bucket': '051fce62-5352-4abd-b53b-b4de2d1ac...    14183   \n",
       "7938  [{'bucket': 'bff7131e-f8e3-42c3-b3b2-cc6d88aad...    22204   \n",
       "7939  [{'bucket': '09dd6cd5-c5ca-4776-bda9-3c40d1326...    31904   \n",
       "7942  [{'bucket': 'c0dccdf0-92fa-4df5-94ca-78c581e72...    10075   \n",
       "7949  [{'bucket': '269831f2-f474-4421-b214-f1187f9d8...    12501   \n",
       "\n",
       "                                                  links  \\\n",
       "1     {'badge': 'https://zenodo.org/badge/doi/10.528...   \n",
       "3     {'badge': 'https://zenodo.org/badge/doi/10.528...   \n",
       "7     {'badge': 'https://zenodo.org/badge/doi/10.528...   \n",
       "9     {'badge': 'https://zenodo.org/badge/doi/10.528...   \n",
       "10    {'badge': 'https://zenodo.org/badge/doi/10.528...   \n",
       "...                                                 ...   \n",
       "7935  {'badge': 'https://zenodo.org/badge/doi/10.528...   \n",
       "7938  {'badge': 'https://zenodo.org/badge/doi/10.528...   \n",
       "7939  {'badge': 'https://zenodo.org/badge/doi/10.528...   \n",
       "7942  {'badge': 'https://zenodo.org/badge/doi/10.528...   \n",
       "7949  {'badge': 'https://zenodo.org/badge/doi/10.528...   \n",
       "\n",
       "                                               metadata    owners  revision  \\\n",
       "1     {'access_conditions': '<p>The dataset is set t...  [262744]         6   \n",
       "3     {'access_right': 'open', 'access_right_categor...   [37667]         3   \n",
       "7     {'access_right': 'open', 'access_right_categor...  [189980]         2   \n",
       "9     {'access_right': 'open', 'access_right_categor...  [259815]         3   \n",
       "10    {'access_right': 'open', 'access_right_categor...  [197830]         3   \n",
       "...                                                 ...       ...       ...   \n",
       "7935  {'access_right': 'open', 'access_right_categor...    [7022]        10   \n",
       "7938  {'access_right': 'open', 'access_right_categor...   [16206]        15   \n",
       "7939  {'access_right': 'open', 'access_right_categor...    [3832]        10   \n",
       "7942  {'access_right': 'open', 'access_right_categor...    [4179]        11   \n",
       "7949  {'access_right': 'open', 'access_right_categor...    [6885]        10   \n",
       "\n",
       "                                                  stats  \\\n",
       "1     {'downloads': 1.0, 'unique_downloads': 1.0, 'u...   \n",
       "3     {'downloads': 11.0, 'unique_downloads': 11.0, ...   \n",
       "7     {'downloads': 5.0, 'unique_downloads': 5.0, 'u...   \n",
       "9     {'downloads': 0.0, 'unique_downloads': 0.0, 'u...   \n",
       "10    {'downloads': 1.0, 'unique_downloads': 1.0, 'u...   \n",
       "...                                                 ...   \n",
       "7935  {'downloads': 3.0, 'unique_downloads': 3.0, 'u...   \n",
       "7938  {'downloads': 7.0, 'unique_downloads': 7.0, 'u...   \n",
       "7939  {'downloads': 1.0, 'unique_downloads': 1.0, 'u...   \n",
       "7942  {'downloads': 8.0, 'unique_downloads': 8.0, 'u...   \n",
       "7949  {'downloads': 117.0, 'unique_downloads': 115.0...   \n",
       "\n",
       "                               updated  page  \n",
       "1     2021-12-03T01:48:35.649838+00:00     1  \n",
       "3     2021-05-05T13:48:11.586654+00:00     1  \n",
       "7     2021-01-22T12:27:21.545991+00:00     1  \n",
       "9     2021-11-09T13:48:40.037016+00:00     1  \n",
       "10    2021-02-18T12:27:25.273226+00:00     1  \n",
       "...                                ...   ...  \n",
       "7935  2020-01-25T19:23:07.983801+00:00     1  \n",
       "7938  2020-01-25T07:22:23.620589+00:00     1  \n",
       "7939  2020-01-24T19:22:25.401259+00:00     1  \n",
       "7942  2020-01-25T19:21:23.237152+00:00     1  \n",
       "7949  2020-01-24T19:26:06.455761+00:00     1  \n",
       "\n",
       "[2217 rows x 13 columns]"
      ]
     },
     "execution_count": 15,
     "metadata": {},
     "output_type": "execute_result"
    }
   ],
   "source": [
    "df"
   ]
  },
  {
   "cell_type": "markdown",
   "id": "14a2617f",
   "metadata": {
    "pycharm": {
     "name": "#%% md\n"
    }
   },
   "source": [
    "## 1. How many total objects (not just records) are in our main dataset extracts for each repository?\n",
    "**Property:** unique_identifier"
   ]
  },
  {
   "cell_type": "code",
   "execution_count": 16,
   "id": "3abf8bb7",
   "metadata": {
    "pycharm": {
     "is_executing": true,
     "name": "#%%\n"
    }
   },
   "outputs": [
    {
     "data": {
      "text/plain": [
       "1       5747173\n",
       "3       4738770\n",
       "7       4456470\n",
       "9       5654850\n",
       "10      4547779\n",
       "         ...   \n",
       "7935      14183\n",
       "7938      22204\n",
       "7939      31904\n",
       "7942      10075\n",
       "7949      12501\n",
       "Name: id, Length: 2217, dtype: int64"
      ]
     },
     "execution_count": 16,
     "metadata": {},
     "output_type": "execute_result"
    }
   ],
   "source": [
    "ids = df.ZenodoRecordsCrosswalk.unique_identifier\n",
    "ids"
   ]
  },
  {
   "cell_type": "code",
   "execution_count": 17,
   "id": "c7066d68",
   "metadata": {
    "pycharm": {
     "name": "#%%\n"
    }
   },
   "outputs": [
    {
     "data": {
      "text/plain": [
       "2217"
      ]
     },
     "execution_count": 17,
     "metadata": {},
     "output_type": "execute_result"
    }
   ],
   "source": [
    "ids.nunique()"
   ]
  },
  {
   "cell_type": "code",
   "execution_count": 18,
   "id": "1f4c788d",
   "metadata": {},
   "outputs": [
    {
     "name": "stdout",
     "output_type": "stream",
     "text": [
      "There are 2217 items in the Zenodo extract, with 2217 unique IDs.\n"
     ]
    }
   ],
   "source": [
    "#number of items = number of unique ID --> each row (item/record) is a unique object\n",
    "print(f'There are {len(ids)} items in the Zenodo extract, with {ids.nunique()} unique IDs.')"
   ]
  },
  {
   "cell_type": "markdown",
   "id": "379b872b",
   "metadata": {
    "pycharm": {
     "name": "#%% md\n"
    }
   },
   "source": [
    "## 2. See the \"Licenses offered\" tab in /Working documents/Licenses sheet for list of licenses by repo.\n",
    "\n",
    "## Given the type(s) of license(s) offered by the repo, how many of each type is assigned?\n",
    "**Property:** License"
   ]
  },
  {
   "cell_type": "code",
   "execution_count": 19,
   "id": "7853a44b",
   "metadata": {
    "pycharm": {
     "name": "#%%\n"
    }
   },
   "outputs": [
    {
     "data": {
      "text/plain": [
       "1             None\n",
       "3       other-open\n",
       "7        CC-BY-4.0\n",
       "9       other-open\n",
       "10      other-open\n",
       "           ...    \n",
       "7935    other-open\n",
       "7938    other-open\n",
       "7939       CC0-1.0\n",
       "7942       GPL-3.0\n",
       "7949     CC-BY-4.0\n",
       "Name: metadata, Length: 2217, dtype: object"
      ]
     },
     "execution_count": 19,
     "metadata": {},
     "output_type": "execute_result"
    }
   ],
   "source": [
    "licenses = df.ZenodoRecordsCrosswalk.license\n",
    "licenses"
   ]
  },
  {
   "cell_type": "code",
   "execution_count": 20,
   "id": "45c09a92",
   "metadata": {
    "scrolled": true
   },
   "outputs": [
    {
     "data": {
      "text/html": [
       "<div>\n",
       "<style scoped>\n",
       "    .dataframe tbody tr th:only-of-type {\n",
       "        vertical-align: middle;\n",
       "    }\n",
       "\n",
       "    .dataframe tbody tr th {\n",
       "        vertical-align: top;\n",
       "    }\n",
       "\n",
       "    .dataframe thead th {\n",
       "        text-align: right;\n",
       "    }\n",
       "</style>\n",
       "<table border=\"1\" class=\"dataframe\">\n",
       "  <thead>\n",
       "    <tr style=\"text-align: right;\">\n",
       "      <th></th>\n",
       "      <th>metadata</th>\n",
       "      <th>percent</th>\n",
       "    </tr>\n",
       "  </thead>\n",
       "  <tbody>\n",
       "    <tr>\n",
       "      <th>CC-BY-4.0</th>\n",
       "      <td>1067</td>\n",
       "      <td>48.128101</td>\n",
       "    </tr>\n",
       "    <tr>\n",
       "      <th>other-open</th>\n",
       "      <td>373</td>\n",
       "      <td>16.824538</td>\n",
       "    </tr>\n",
       "    <tr>\n",
       "      <th>CC0-1.0</th>\n",
       "      <td>240</td>\n",
       "      <td>10.825440</td>\n",
       "    </tr>\n",
       "    <tr>\n",
       "      <th>MIT</th>\n",
       "      <td>106</td>\n",
       "      <td>4.781236</td>\n",
       "    </tr>\n",
       "    <tr>\n",
       "      <th>ODbL-1.0</th>\n",
       "      <td>61</td>\n",
       "      <td>2.751466</td>\n",
       "    </tr>\n",
       "    <tr>\n",
       "      <th>Apache-2.0</th>\n",
       "      <td>49</td>\n",
       "      <td>2.210194</td>\n",
       "    </tr>\n",
       "    <tr>\n",
       "      <th>GPL-3.0</th>\n",
       "      <td>32</td>\n",
       "      <td>1.443392</td>\n",
       "    </tr>\n",
       "    <tr>\n",
       "      <th>CC-BY-NC-SA-4.0</th>\n",
       "      <td>31</td>\n",
       "      <td>1.398286</td>\n",
       "    </tr>\n",
       "    <tr>\n",
       "      <th>CC-BY-SA-4.0</th>\n",
       "      <td>30</td>\n",
       "      <td>1.353180</td>\n",
       "    </tr>\n",
       "    <tr>\n",
       "      <th>CC-BY-NC-4.0</th>\n",
       "      <td>17</td>\n",
       "      <td>0.766802</td>\n",
       "    </tr>\n",
       "    <tr>\n",
       "      <th>ODC-By-1.0</th>\n",
       "      <td>13</td>\n",
       "      <td>0.586378</td>\n",
       "    </tr>\n",
       "    <tr>\n",
       "      <th>AGPL-3.0</th>\n",
       "      <td>10</td>\n",
       "      <td>0.451060</td>\n",
       "    </tr>\n",
       "    <tr>\n",
       "      <th>GPL-2.0</th>\n",
       "      <td>9</td>\n",
       "      <td>0.405954</td>\n",
       "    </tr>\n",
       "    <tr>\n",
       "      <th>other-at</th>\n",
       "      <td>9</td>\n",
       "      <td>0.405954</td>\n",
       "    </tr>\n",
       "    <tr>\n",
       "      <th>BSD-3-Clause</th>\n",
       "      <td>8</td>\n",
       "      <td>0.360848</td>\n",
       "    </tr>\n",
       "    <tr>\n",
       "      <th>GPL-2.0+</th>\n",
       "      <td>8</td>\n",
       "      <td>0.360848</td>\n",
       "    </tr>\n",
       "    <tr>\n",
       "      <th>GPL-3.0-only</th>\n",
       "      <td>8</td>\n",
       "      <td>0.360848</td>\n",
       "    </tr>\n",
       "    <tr>\n",
       "      <th>CC-BY-NC-ND-4.0</th>\n",
       "      <td>7</td>\n",
       "      <td>0.315742</td>\n",
       "    </tr>\n",
       "    <tr>\n",
       "      <th>GPL-3.0+</th>\n",
       "      <td>6</td>\n",
       "      <td>0.270636</td>\n",
       "    </tr>\n",
       "    <tr>\n",
       "      <th>other-nc</th>\n",
       "      <td>6</td>\n",
       "      <td>0.270636</td>\n",
       "    </tr>\n",
       "    <tr>\n",
       "      <th>CC-BY-3.0</th>\n",
       "      <td>5</td>\n",
       "      <td>0.225530</td>\n",
       "    </tr>\n",
       "    <tr>\n",
       "      <th>CC-BY-1.0</th>\n",
       "      <td>5</td>\n",
       "      <td>0.225530</td>\n",
       "    </tr>\n",
       "    <tr>\n",
       "      <th>BSD-2-Clause</th>\n",
       "      <td>4</td>\n",
       "      <td>0.180424</td>\n",
       "    </tr>\n",
       "    <tr>\n",
       "      <th>bsd-license</th>\n",
       "      <td>4</td>\n",
       "      <td>0.180424</td>\n",
       "    </tr>\n",
       "    <tr>\n",
       "      <th>LGPL-3.0+</th>\n",
       "      <td>3</td>\n",
       "      <td>0.135318</td>\n",
       "    </tr>\n",
       "    <tr>\n",
       "      <th>BSD-3-Clause-LBNL</th>\n",
       "      <td>3</td>\n",
       "      <td>0.135318</td>\n",
       "    </tr>\n",
       "    <tr>\n",
       "      <th>GPL-2.0-or-later</th>\n",
       "      <td>3</td>\n",
       "      <td>0.135318</td>\n",
       "    </tr>\n",
       "    <tr>\n",
       "      <th>CC-BY-3.0-US</th>\n",
       "      <td>3</td>\n",
       "      <td>0.135318</td>\n",
       "    </tr>\n",
       "    <tr>\n",
       "      <th>CC-BY-SA-3.0</th>\n",
       "      <td>2</td>\n",
       "      <td>0.090212</td>\n",
       "    </tr>\n",
       "    <tr>\n",
       "      <th>ISC</th>\n",
       "      <td>2</td>\n",
       "      <td>0.090212</td>\n",
       "    </tr>\n",
       "    <tr>\n",
       "      <th>LGPL-3.0</th>\n",
       "      <td>2</td>\n",
       "      <td>0.090212</td>\n",
       "    </tr>\n",
       "    <tr>\n",
       "      <th>LGPL-2.1</th>\n",
       "      <td>2</td>\n",
       "      <td>0.090212</td>\n",
       "    </tr>\n",
       "    <tr>\n",
       "      <th>AGPL-3.0-or-later</th>\n",
       "      <td>2</td>\n",
       "      <td>0.090212</td>\n",
       "    </tr>\n",
       "    <tr>\n",
       "      <th>CC-BY-2.5</th>\n",
       "      <td>1</td>\n",
       "      <td>0.045106</td>\n",
       "    </tr>\n",
       "    <tr>\n",
       "      <th>NCSA</th>\n",
       "      <td>1</td>\n",
       "      <td>0.045106</td>\n",
       "    </tr>\n",
       "    <tr>\n",
       "      <th>AGPL-1.0-or-later</th>\n",
       "      <td>1</td>\n",
       "      <td>0.045106</td>\n",
       "    </tr>\n",
       "    <tr>\n",
       "      <th>CDLA-Sharing-1.0</th>\n",
       "      <td>1</td>\n",
       "      <td>0.045106</td>\n",
       "    </tr>\n",
       "    <tr>\n",
       "      <th>BSD-3-Clause-Clear</th>\n",
       "      <td>1</td>\n",
       "      <td>0.045106</td>\n",
       "    </tr>\n",
       "    <tr>\n",
       "      <th>CC-BY-2.0</th>\n",
       "      <td>1</td>\n",
       "      <td>0.045106</td>\n",
       "    </tr>\n",
       "    <tr>\n",
       "      <th>BSD-3-Clause-Attribution</th>\n",
       "      <td>1</td>\n",
       "      <td>0.045106</td>\n",
       "    </tr>\n",
       "    <tr>\n",
       "      <th>GPL-2.0-only</th>\n",
       "      <td>1</td>\n",
       "      <td>0.045106</td>\n",
       "    </tr>\n",
       "    <tr>\n",
       "      <th>CC-PDDC</th>\n",
       "      <td>1</td>\n",
       "      <td>0.045106</td>\n",
       "    </tr>\n",
       "    <tr>\n",
       "      <th>CC-BY-NC-SA-3.0</th>\n",
       "      <td>1</td>\n",
       "      <td>0.045106</td>\n",
       "    </tr>\n",
       "    <tr>\n",
       "      <th>GPL-1.0-or-later</th>\n",
       "      <td>1</td>\n",
       "      <td>0.045106</td>\n",
       "    </tr>\n",
       "    <tr>\n",
       "      <th>CC-BY-NC-SA-2.0</th>\n",
       "      <td>1</td>\n",
       "      <td>0.045106</td>\n",
       "    </tr>\n",
       "    <tr>\n",
       "      <th>BSD-2-Clause-FreeBSD</th>\n",
       "      <td>1</td>\n",
       "      <td>0.045106</td>\n",
       "    </tr>\n",
       "    <tr>\n",
       "      <th>LGPL-2.0-only</th>\n",
       "      <td>1</td>\n",
       "      <td>0.045106</td>\n",
       "    </tr>\n",
       "    <tr>\n",
       "      <th>LGPL-2.1-only</th>\n",
       "      <td>1</td>\n",
       "      <td>0.045106</td>\n",
       "    </tr>\n",
       "    <tr>\n",
       "      <th>other-pd</th>\n",
       "      <td>1</td>\n",
       "      <td>0.045106</td>\n",
       "    </tr>\n",
       "    <tr>\n",
       "      <th>OGL-UK-3.0</th>\n",
       "      <td>1</td>\n",
       "      <td>0.045106</td>\n",
       "    </tr>\n",
       "    <tr>\n",
       "      <th>CC-BY-ND-4.0</th>\n",
       "      <td>1</td>\n",
       "      <td>0.045106</td>\n",
       "    </tr>\n",
       "  </tbody>\n",
       "</table>\n",
       "</div>"
      ],
      "text/plain": [
       "                          metadata    percent\n",
       "CC-BY-4.0                     1067  48.128101\n",
       "other-open                     373  16.824538\n",
       "CC0-1.0                        240  10.825440\n",
       "MIT                            106   4.781236\n",
       "ODbL-1.0                        61   2.751466\n",
       "Apache-2.0                      49   2.210194\n",
       "GPL-3.0                         32   1.443392\n",
       "CC-BY-NC-SA-4.0                 31   1.398286\n",
       "CC-BY-SA-4.0                    30   1.353180\n",
       "CC-BY-NC-4.0                    17   0.766802\n",
       "ODC-By-1.0                      13   0.586378\n",
       "AGPL-3.0                        10   0.451060\n",
       "GPL-2.0                          9   0.405954\n",
       "other-at                         9   0.405954\n",
       "BSD-3-Clause                     8   0.360848\n",
       "GPL-2.0+                         8   0.360848\n",
       "GPL-3.0-only                     8   0.360848\n",
       "CC-BY-NC-ND-4.0                  7   0.315742\n",
       "GPL-3.0+                         6   0.270636\n",
       "other-nc                         6   0.270636\n",
       "CC-BY-3.0                        5   0.225530\n",
       "CC-BY-1.0                        5   0.225530\n",
       "BSD-2-Clause                     4   0.180424\n",
       "bsd-license                      4   0.180424\n",
       "LGPL-3.0+                        3   0.135318\n",
       "BSD-3-Clause-LBNL                3   0.135318\n",
       "GPL-2.0-or-later                 3   0.135318\n",
       "CC-BY-3.0-US                     3   0.135318\n",
       "CC-BY-SA-3.0                     2   0.090212\n",
       "ISC                              2   0.090212\n",
       "LGPL-3.0                         2   0.090212\n",
       "LGPL-2.1                         2   0.090212\n",
       "AGPL-3.0-or-later                2   0.090212\n",
       "CC-BY-2.5                        1   0.045106\n",
       "NCSA                             1   0.045106\n",
       "AGPL-1.0-or-later                1   0.045106\n",
       "CDLA-Sharing-1.0                 1   0.045106\n",
       "BSD-3-Clause-Clear               1   0.045106\n",
       "CC-BY-2.0                        1   0.045106\n",
       "BSD-3-Clause-Attribution         1   0.045106\n",
       "GPL-2.0-only                     1   0.045106\n",
       "CC-PDDC                          1   0.045106\n",
       "CC-BY-NC-SA-3.0                  1   0.045106\n",
       "GPL-1.0-or-later                 1   0.045106\n",
       "CC-BY-NC-SA-2.0                  1   0.045106\n",
       "BSD-2-Clause-FreeBSD             1   0.045106\n",
       "LGPL-2.0-only                    1   0.045106\n",
       "LGPL-2.1-only                    1   0.045106\n",
       "other-pd                         1   0.045106\n",
       "OGL-UK-3.0                       1   0.045106\n",
       "CC-BY-ND-4.0                     1   0.045106"
      ]
     },
     "execution_count": 20,
     "metadata": {},
     "output_type": "execute_result"
    }
   ],
   "source": [
    "license_counts = licenses.value_counts().to_frame()\n",
    "license_counts['percent'] = license_counts['metadata']/len(licenses) * 100\n",
    "license_counts"
   ]
  },
  {
   "cell_type": "markdown",
   "id": "02bbd836",
   "metadata": {
    "pycharm": {
     "name": "#%% md\n"
    }
   },
   "source": [
    "## 3. What is the mean number of characters (excluding whitespaces, if possible) per object?\n",
    "**Property:** Description\n",
    "**Related function:** `mean_characters`"
   ]
  },
  {
   "cell_type": "code",
   "execution_count": 21,
   "id": "a4aca7b7",
   "metadata": {
    "pycharm": {
     "name": "#%%\n"
    }
   },
   "outputs": [
    {
     "data": {
      "text/plain": [
       "1       <pre>&nbsp;</pre>\\n\\n<p>A dataset containing I...\n",
       "3                                No description provided.\n",
       "7       <p>Supplement to https://github.com/twopin/CAM...\n",
       "9       <p>Code and data supporting Delphi's PNAS pape...\n",
       "10      <p>Release for making bibtex citation.\\nIt is ...\n",
       "                              ...                        \n",
       "7935    <p>This version offers some improvements over ...\n",
       "7938    <p><strong>Training and testing of the agents ...\n",
       "7939    <p><strong>Abstract</strong></p>\\n\\n<p>Taxonom...\n",
       "7942    <p>Malheur is a tool for the automatic analysi...\n",
       "7949    <p>This dataset includes classification of Eng...\n",
       "Name: metadata, Length: 2217, dtype: object"
      ]
     },
     "execution_count": 21,
     "metadata": {},
     "output_type": "execute_result"
    }
   ],
   "source": [
    "descriptions = df.ZenodoRecordsCrosswalk.description\n",
    "descriptions"
   ]
  },
  {
   "cell_type": "code",
   "execution_count": 22,
   "id": "2ebb8784",
   "metadata": {},
   "outputs": [
    {
     "data": {
      "text/plain": [
       "count                         2217\n",
       "unique                        2188\n",
       "top       No description provided.\n",
       "freq                             5\n",
       "Name: metadata, dtype: object"
      ]
     },
     "execution_count": 22,
     "metadata": {},
     "output_type": "execute_result"
    }
   ],
   "source": [
    "descriptions.describe()"
   ]
  },
  {
   "cell_type": "code",
   "execution_count": 23,
   "id": "2476af7d",
   "metadata": {},
   "outputs": [
    {
     "name": "stdout",
     "output_type": "stream",
     "text": [
      "Number of null descriptions: 0\n"
     ]
    }
   ],
   "source": [
    "print(f'Number of null descriptions: {sum(descriptions.isna())}')"
   ]
  },
  {
   "cell_type": "code",
   "execution_count": 24,
   "id": "56637f4e",
   "metadata": {
    "pycharm": {
     "name": "#%%\n"
    }
   },
   "outputs": [
    {
     "name": "stdout",
     "output_type": "stream",
     "text": [
      "1371.393967093236 mean characters\n"
     ]
    }
   ],
   "source": [
    "#this is a rough approximation, given additional characters like paragraph and newline indicators in description\n",
    "print(f'{analysis.mean_characters(descriptions)} mean characters')"
   ]
  },
  {
   "cell_type": "markdown",
   "id": "c5c6dd4e",
   "metadata": {
    "pycharm": {
     "name": "#%% md\n"
    }
   },
   "source": [
    "## 4. What is the mean number of characters (excluding whitespaces, if possible) per object?\n",
    "**Property:** Methods\n",
    "**Related function:** `mean_characters`"
   ]
  },
  {
   "cell_type": "code",
   "execution_count": 25,
   "id": "69409ca0",
   "metadata": {
    "pycharm": {
     "name": "#%%\n"
    }
   },
   "outputs": [],
   "source": [
    "methods = df.ZenodoRecordsCrosswalk.methods\n",
    "methods"
   ]
  },
  {
   "cell_type": "code",
   "execution_count": 26,
   "id": "355ab24b",
   "metadata": {},
   "outputs": [
    {
     "name": "stdout",
     "output_type": "stream",
     "text": [
      "None\n"
     ]
    }
   ],
   "source": [
    "#Confirm missing for this repo\n",
    "print(df.ZenodoRecordsCrosswalk.methods)"
   ]
  },
  {
   "cell_type": "markdown",
   "id": "1da87423",
   "metadata": {
    "pycharm": {
     "name": "#%% md\n"
    }
   },
   "source": [
    "## 5. What are the min and max publication dates for each repo?\n",
    "\n",
    "## How many objects were published each year for each repo?\n",
    "**Property:** Publication date"
   ]
  },
  {
   "cell_type": "code",
   "execution_count": 27,
   "id": "8d92877b",
   "metadata": {
    "pycharm": {
     "name": "#%%\n"
    }
   },
   "outputs": [
    {
     "data": {
      "text/plain": [
       "1       2021-12-01\n",
       "3       2021-05-05\n",
       "7       2021-01-22\n",
       "9       2021-11-04\n",
       "10      2021-02-18\n",
       "           ...    \n",
       "7935    2015-01-22\n",
       "7938    2015-07-30\n",
       "7939    2015-10-07\n",
       "7942    2013-12-25\n",
       "7949    2014-10-30\n",
       "Name: metadata, Length: 2217, dtype: object"
      ]
     },
     "execution_count": 27,
     "metadata": {},
     "output_type": "execute_result"
    }
   ],
   "source": [
    "publication_dates = df.ZenodoRecordsCrosswalk.publication_date\n",
    "publication_dates"
   ]
  },
  {
   "cell_type": "code",
   "execution_count": 28,
   "id": "29fd9ba5",
   "metadata": {},
   "outputs": [
    {
     "data": {
      "text/plain": [
       "('2006-01-01', '2022-06-04')"
      ]
     },
     "execution_count": 28,
     "metadata": {},
     "output_type": "execute_result"
    }
   ],
   "source": [
    "#min and max publication year\n",
    "publication_dates.min(), publication_dates.max()"
   ]
  },
  {
   "cell_type": "code",
   "execution_count": 29,
   "id": "70ab46eb",
   "metadata": {
    "scrolled": true
   },
   "outputs": [
    {
     "data": {
      "text/plain": [
       "2006      1\n",
       "2012      3\n",
       "2013      4\n",
       "2014     11\n",
       "2015     29\n",
       "2016     52\n",
       "2017     97\n",
       "2018    179\n",
       "2019    326\n",
       "2020    642\n",
       "2021    872\n",
       "2022      1\n",
       "Name: metadata, dtype: int64"
      ]
     },
     "execution_count": 29,
     "metadata": {},
     "output_type": "execute_result"
    }
   ],
   "source": [
    "#objects per year\n",
    "publication_dates.astype('datetime64').apply(lambda date: date.year).value_counts().sort_index()"
   ]
  },
  {
   "cell_type": "code",
   "execution_count": 30,
   "id": "32b94ff1",
   "metadata": {},
   "outputs": [],
   "source": [
    "#ready for plotting export\n",
    "pub_dates_export = publication_dates.astype('datetime64').apply(lambda date: date.year).value_counts().sort_index().to_frame()"
   ]
  },
  {
   "cell_type": "code",
   "execution_count": 31,
   "id": "145d1bd8",
   "metadata": {},
   "outputs": [],
   "source": [
    "#update column names\n",
    "pub_dates_export_ready = pub_dates_export.reset_index(level=0)\n",
    "pub_dates_export_ready.columns = ['year', 'count']"
   ]
  },
  {
   "cell_type": "code",
   "execution_count": 32,
   "id": "e096c7b0",
   "metadata": {},
   "outputs": [],
   "source": [
    "#add column with name of repo\n",
    "pub_dates_export_ready['repo'] = 'zenodo_subset'"
   ]
  },
  {
   "cell_type": "code",
   "execution_count": 33,
   "id": "dd82d0ba",
   "metadata": {},
   "outputs": [
    {
     "data": {
      "text/html": [
       "<div>\n",
       "<style scoped>\n",
       "    .dataframe tbody tr th:only-of-type {\n",
       "        vertical-align: middle;\n",
       "    }\n",
       "\n",
       "    .dataframe tbody tr th {\n",
       "        vertical-align: top;\n",
       "    }\n",
       "\n",
       "    .dataframe thead th {\n",
       "        text-align: right;\n",
       "    }\n",
       "</style>\n",
       "<table border=\"1\" class=\"dataframe\">\n",
       "  <thead>\n",
       "    <tr style=\"text-align: right;\">\n",
       "      <th></th>\n",
       "      <th>year</th>\n",
       "      <th>count</th>\n",
       "      <th>repo</th>\n",
       "    </tr>\n",
       "  </thead>\n",
       "  <tbody>\n",
       "    <tr>\n",
       "      <th>0</th>\n",
       "      <td>2006</td>\n",
       "      <td>1</td>\n",
       "      <td>zenodo_subset</td>\n",
       "    </tr>\n",
       "    <tr>\n",
       "      <th>1</th>\n",
       "      <td>2012</td>\n",
       "      <td>3</td>\n",
       "      <td>zenodo_subset</td>\n",
       "    </tr>\n",
       "    <tr>\n",
       "      <th>2</th>\n",
       "      <td>2013</td>\n",
       "      <td>4</td>\n",
       "      <td>zenodo_subset</td>\n",
       "    </tr>\n",
       "    <tr>\n",
       "      <th>3</th>\n",
       "      <td>2014</td>\n",
       "      <td>11</td>\n",
       "      <td>zenodo_subset</td>\n",
       "    </tr>\n",
       "    <tr>\n",
       "      <th>4</th>\n",
       "      <td>2015</td>\n",
       "      <td>29</td>\n",
       "      <td>zenodo_subset</td>\n",
       "    </tr>\n",
       "    <tr>\n",
       "      <th>5</th>\n",
       "      <td>2016</td>\n",
       "      <td>52</td>\n",
       "      <td>zenodo_subset</td>\n",
       "    </tr>\n",
       "    <tr>\n",
       "      <th>6</th>\n",
       "      <td>2017</td>\n",
       "      <td>97</td>\n",
       "      <td>zenodo_subset</td>\n",
       "    </tr>\n",
       "    <tr>\n",
       "      <th>7</th>\n",
       "      <td>2018</td>\n",
       "      <td>179</td>\n",
       "      <td>zenodo_subset</td>\n",
       "    </tr>\n",
       "    <tr>\n",
       "      <th>8</th>\n",
       "      <td>2019</td>\n",
       "      <td>326</td>\n",
       "      <td>zenodo_subset</td>\n",
       "    </tr>\n",
       "    <tr>\n",
       "      <th>9</th>\n",
       "      <td>2020</td>\n",
       "      <td>642</td>\n",
       "      <td>zenodo_subset</td>\n",
       "    </tr>\n",
       "    <tr>\n",
       "      <th>10</th>\n",
       "      <td>2021</td>\n",
       "      <td>872</td>\n",
       "      <td>zenodo_subset</td>\n",
       "    </tr>\n",
       "    <tr>\n",
       "      <th>11</th>\n",
       "      <td>2022</td>\n",
       "      <td>1</td>\n",
       "      <td>zenodo_subset</td>\n",
       "    </tr>\n",
       "  </tbody>\n",
       "</table>\n",
       "</div>"
      ],
      "text/plain": [
       "    year  count           repo\n",
       "0   2006      1  zenodo_subset\n",
       "1   2012      3  zenodo_subset\n",
       "2   2013      4  zenodo_subset\n",
       "3   2014     11  zenodo_subset\n",
       "4   2015     29  zenodo_subset\n",
       "5   2016     52  zenodo_subset\n",
       "6   2017     97  zenodo_subset\n",
       "7   2018    179  zenodo_subset\n",
       "8   2019    326  zenodo_subset\n",
       "9   2020    642  zenodo_subset\n",
       "10  2021    872  zenodo_subset\n",
       "11  2022      1  zenodo_subset"
      ]
     },
     "execution_count": 33,
     "metadata": {},
     "output_type": "execute_result"
    }
   ],
   "source": [
    "pub_dates_export_ready"
   ]
  },
  {
   "cell_type": "code",
   "execution_count": 34,
   "id": "8dea039e",
   "metadata": {},
   "outputs": [],
   "source": [
    "#export to Figures folder\n",
    "pub_dates_export_ready.to_csv('..\\\\..\\\\Figures\\\\Figure1\\\\repository_dates\\\\zenodo_subset_pub_years.csv')"
   ]
  },
  {
   "cell_type": "markdown",
   "id": "8e0c2e62",
   "metadata": {
    "pycharm": {
     "name": "#%% md\n"
    }
   },
   "source": [
    "## 6. What are the unweighted mean, median, and max file sizes among all ingested files?\n",
    "**Property:** File size\n",
    "**Related function:** `get_summary_statistics`"
   ]
  },
  {
   "cell_type": "code",
   "execution_count": 35,
   "id": "6fe6c76a",
   "metadata": {
    "pycharm": {
     "name": "#%%\n"
    }
   },
   "outputs": [
    {
     "data": {
      "text/plain": [
       "1             None\n",
       "3         [133317]\n",
       "7       [58343170]\n",
       "9       [45947386]\n",
       "10       [1577773]\n",
       "           ...    \n",
       "7935     [3906128]\n",
       "7938    [25615252]\n",
       "7939    [31428769]\n",
       "7942      [140158]\n",
       "7949     [2084084]\n",
       "Name: files, Length: 2217, dtype: object"
      ]
     },
     "execution_count": 35,
     "metadata": {},
     "output_type": "execute_result"
    }
   ],
   "source": [
    "file_sizes = df.ZenodoRecordsCrosswalk.file_size\n",
    "file_sizes"
   ]
  },
  {
   "cell_type": "code",
   "execution_count": 36,
   "id": "8d3bbef6",
   "metadata": {},
   "outputs": [
    {
     "data": {
      "text/plain": [
       "1               []\n",
       "3         [133317]\n",
       "7       [58343170]\n",
       "9       [45947386]\n",
       "10       [1577773]\n",
       "           ...    \n",
       "7935     [3906128]\n",
       "7938    [25615252]\n",
       "7939    [31428769]\n",
       "7942      [140158]\n",
       "7949     [2084084]\n",
       "Name: files, Length: 2217, dtype: object"
      ]
     },
     "execution_count": 36,
     "metadata": {},
     "output_type": "execute_result"
    }
   ],
   "source": [
    "#replace None values with empty list\n",
    "file_sizes = file_sizes.apply(lambda d: d if isinstance(d, list) else [])\n",
    "file_sizes"
   ]
  },
  {
   "cell_type": "code",
   "execution_count": 37,
   "id": "b9e64ccc",
   "metadata": {},
   "outputs": [
    {
     "data": {
      "text/plain": [
       "1            NaN\n",
       "3         133317\n",
       "7       58343170\n",
       "9       45947386\n",
       "10       1577773\n",
       "          ...   \n",
       "7935     3906128\n",
       "7938    25615252\n",
       "7939    31428769\n",
       "7942      140158\n",
       "7949     2084084\n",
       "Name: files, Length: 19060, dtype: object"
      ]
     },
     "execution_count": 37,
     "metadata": {},
     "output_type": "execute_result"
    }
   ],
   "source": [
    "#collapse into single column - each file size in own row, since we are interested in summary stats across all files\n",
    "file_sizes_long = file_sizes.explode()\n",
    "file_sizes_long"
   ]
  },
  {
   "cell_type": "code",
   "execution_count": 38,
   "id": "26b51325",
   "metadata": {},
   "outputs": [
    {
     "data": {
      "text/plain": [
       "3         133317\n",
       "7       58343170\n",
       "9       45947386\n",
       "10       1577773\n",
       "12          3731\n",
       "          ...   \n",
       "7935     3906128\n",
       "7938    25615252\n",
       "7939    31428769\n",
       "7942      140158\n",
       "7949     2084084\n",
       "Name: files, Length: 18989, dtype: object"
      ]
     },
     "execution_count": 38,
     "metadata": {},
     "output_type": "execute_result"
    }
   ],
   "source": [
    "#drop NaN values, so median calculates correctly\n",
    "file_sizes_long = file_sizes_long.dropna()\n",
    "file_sizes_long"
   ]
  },
  {
   "cell_type": "code",
   "execution_count": 39,
   "id": "048665fe",
   "metadata": {
    "scrolled": true
   },
   "outputs": [
    {
     "data": {
      "text/plain": [
       "{'mean': 609352656.069198, 'median': 18996648.0, 'max': 279115940800}"
      ]
     },
     "execution_count": 39,
     "metadata": {},
     "output_type": "execute_result"
    }
   ],
   "source": [
    "#get summary statistics\n",
    "analysis.get_summary_statistics(file_sizes_long)"
   ]
  },
  {
   "cell_type": "markdown",
   "id": "d5ad457d",
   "metadata": {},
   "source": [
    "Alternative approach with array gives same values"
   ]
  },
  {
   "cell_type": "code",
   "execution_count": 40,
   "id": "24cc8e75",
   "metadata": {},
   "outputs": [
    {
     "data": {
      "text/plain": [
       "array([  133317, 58343170, 45947386, ..., 31428769,   140158,  2084084],\n",
       "      dtype=int64)"
      ]
     },
     "execution_count": 40,
     "metadata": {},
     "output_type": "execute_result"
    }
   ],
   "source": [
    "#confirm accuracy with alternative method\n",
    "file_size_array = np.array([size for size_list in file_sizes for size in size_list])\n",
    "file_size_array"
   ]
  },
  {
   "cell_type": "code",
   "execution_count": 41,
   "id": "1eeb76ad",
   "metadata": {},
   "outputs": [
    {
     "name": "stdout",
     "output_type": "stream",
     "text": [
      "mean: 609352656.069198\n",
      "median: 18996648.0\n",
      "max: 279115940800\n"
     ]
    }
   ],
   "source": [
    "analysis.get_summary_statistics(file_size_array, suppress_output=False);"
   ]
  },
  {
   "cell_type": "markdown",
   "id": "86c23afb",
   "metadata": {
    "pycharm": {
     "name": "#%% md\n"
    }
   },
   "source": [
    "## 7. What are the mean, median, and max number of files per object?\n",
    "**Property:** URL\n",
    "**Related function:** `get_summary_statistics`"
   ]
  },
  {
   "cell_type": "markdown",
   "id": "1e68f36f",
   "metadata": {
    "pycharm": {
     "name": "#%% md\n"
    }
   },
   "source": [
    "`missing` is set to an empty list so that the `None` values for objects without files have \"zero files\""
   ]
  },
  {
   "cell_type": "code",
   "execution_count": 42,
   "id": "a64eb624",
   "metadata": {
    "pycharm": {
     "name": "#%%\n"
    }
   },
   "outputs": [
    {
     "data": {
      "text/plain": [
       "1                                                    None\n",
       "3       [https://zenodo.org/api/files/fdefeabc-7897-41...\n",
       "7       [https://zenodo.org/api/files/723fc682-b0bd-4b...\n",
       "9       [https://zenodo.org/api/files/9ebdf204-c339-45...\n",
       "10      [https://zenodo.org/api/files/0b35fbd4-0d16-46...\n",
       "                              ...                        \n",
       "7935    [https://zenodo.org/api/files/051fce62-5352-4a...\n",
       "7938    [https://zenodo.org/api/files/bff7131e-f8e3-42...\n",
       "7939    [https://zenodo.org/api/files/09dd6cd5-c5ca-47...\n",
       "7942    [https://zenodo.org/api/files/c0dccdf0-92fa-4d...\n",
       "7949    [https://zenodo.org/api/files/269831f2-f474-44...\n",
       "Name: files, Length: 2217, dtype: object"
      ]
     },
     "execution_count": 42,
     "metadata": {},
     "output_type": "execute_result"
    }
   ],
   "source": [
    "files = df.ZenodoRecordsCrosswalk.url\n",
    "files"
   ]
  },
  {
   "cell_type": "code",
   "execution_count": 43,
   "id": "4d659a75",
   "metadata": {},
   "outputs": [
    {
     "data": {
      "text/plain": [
       "1                                                      []\n",
       "3       [https://zenodo.org/api/files/fdefeabc-7897-41...\n",
       "7       [https://zenodo.org/api/files/723fc682-b0bd-4b...\n",
       "9       [https://zenodo.org/api/files/9ebdf204-c339-45...\n",
       "10      [https://zenodo.org/api/files/0b35fbd4-0d16-46...\n",
       "                              ...                        \n",
       "7935    [https://zenodo.org/api/files/051fce62-5352-4a...\n",
       "7938    [https://zenodo.org/api/files/bff7131e-f8e3-42...\n",
       "7939    [https://zenodo.org/api/files/09dd6cd5-c5ca-47...\n",
       "7942    [https://zenodo.org/api/files/c0dccdf0-92fa-4d...\n",
       "7949    [https://zenodo.org/api/files/269831f2-f474-44...\n",
       "Name: files, Length: 2217, dtype: object"
      ]
     },
     "execution_count": 43,
     "metadata": {},
     "output_type": "execute_result"
    }
   ],
   "source": [
    "#replace None with empty list\n",
    "files = files.apply(lambda d: d if isinstance(d, list) else [])\n",
    "files"
   ]
  },
  {
   "cell_type": "code",
   "execution_count": 44,
   "id": "62032f3d",
   "metadata": {},
   "outputs": [
    {
     "data": {
      "text/plain": [
       "1       0\n",
       "3       1\n",
       "7       1\n",
       "9       1\n",
       "10      1\n",
       "       ..\n",
       "7935    1\n",
       "7938    1\n",
       "7939    1\n",
       "7942    1\n",
       "7949    1\n",
       "Name: files, Length: 2217, dtype: int64"
      ]
     },
     "execution_count": 44,
     "metadata": {},
     "output_type": "execute_result"
    }
   ],
   "source": [
    "#get files per object\n",
    "files_counts = files.apply(len)\n",
    "files_counts"
   ]
  },
  {
   "cell_type": "code",
   "execution_count": 45,
   "id": "db8d5106",
   "metadata": {},
   "outputs": [
    {
     "data": {
      "text/plain": [
       "{'mean': 8.565178168696436, 'median': 1.0, 'max': 2600}"
      ]
     },
     "execution_count": 45,
     "metadata": {},
     "output_type": "execute_result"
    }
   ],
   "source": [
    "#get summary statistics\n",
    "analysis.get_summary_statistics(files_counts)"
   ]
  },
  {
   "cell_type": "markdown",
   "id": "1f64059a",
   "metadata": {
    "pycharm": {
     "name": "#%% md\n"
    }
   },
   "source": [
    "## 8. What are the mean, median, and max total dataset size (summed across all files) per object?\n",
    "**Property:** Dataset size\n",
    "**Related function:** `get_summary_statistics`"
   ]
  },
  {
   "cell_type": "code",
   "execution_count": 46,
   "id": "4904884d",
   "metadata": {
    "pycharm": {
     "name": "#%%\n"
    }
   },
   "outputs": [
    {
     "data": {
      "text/plain": [
       "1             None\n",
       "3         [133317]\n",
       "7       [58343170]\n",
       "9       [45947386]\n",
       "10       [1577773]\n",
       "           ...    \n",
       "7935     [3906128]\n",
       "7938    [25615252]\n",
       "7939    [31428769]\n",
       "7942      [140158]\n",
       "7949     [2084084]\n",
       "Name: files, Length: 2217, dtype: object"
      ]
     },
     "execution_count": 46,
     "metadata": {},
     "output_type": "execute_result"
    }
   ],
   "source": [
    "dataset_sizes = df.ZenodoRecordsCrosswalk.dataset_size\n",
    "dataset_sizes"
   ]
  },
  {
   "cell_type": "code",
   "execution_count": 47,
   "id": "419112a5",
   "metadata": {},
   "outputs": [
    {
     "data": {
      "text/plain": [
       "1               []\n",
       "3         [133317]\n",
       "7       [58343170]\n",
       "9       [45947386]\n",
       "10       [1577773]\n",
       "           ...    \n",
       "7935     [3906128]\n",
       "7938    [25615252]\n",
       "7939    [31428769]\n",
       "7942      [140158]\n",
       "7949     [2084084]\n",
       "Name: files, Length: 2217, dtype: object"
      ]
     },
     "execution_count": 47,
     "metadata": {},
     "output_type": "execute_result"
    }
   ],
   "source": [
    "#replace None values with empty list, file size of 0\n",
    "dataset_sizes = dataset_sizes.apply(lambda d: d if isinstance(d, list) else [])\n",
    "dataset_sizes"
   ]
  },
  {
   "cell_type": "code",
   "execution_count": 48,
   "id": "2f1a0c35",
   "metadata": {},
   "outputs": [
    {
     "data": {
      "text/plain": [
       "1              0\n",
       "3         133317\n",
       "7       58343170\n",
       "9       45947386\n",
       "10       1577773\n",
       "          ...   \n",
       "7935     3906128\n",
       "7938    25615252\n",
       "7939    31428769\n",
       "7942      140158\n",
       "7949     2084084\n",
       "Name: files, Length: 2217, dtype: int64"
      ]
     },
     "execution_count": 48,
     "metadata": {},
     "output_type": "execute_result"
    }
   ],
   "source": [
    "#sum up size of files within object (sum up within each list in series)\n",
    "dataset_sizes_total = dataset_sizes.apply(sum)\n",
    "dataset_sizes_total"
   ]
  },
  {
   "cell_type": "code",
   "execution_count": 49,
   "id": "5cd5283d",
   "metadata": {},
   "outputs": [
    {
     "name": "stdout",
     "output_type": "stream",
     "text": [
      "mean: 5219214066.801083\n",
      "median: 32713830.0\n",
      "max: 300398018118\n"
     ]
    }
   ],
   "source": [
    "#get summary statistics\n",
    "analysis.get_summary_statistics(dataset_sizes_total, suppress_output=False);"
   ]
  },
  {
   "cell_type": "markdown",
   "id": "3410d1d2",
   "metadata": {
    "pycharm": {
     "name": "#%% md\n"
    }
   },
   "source": [
    "## 9. How many of each scientific domain are assigned?\n",
    "**Property:** Domain\n",
    "**Related function:** `domains.value_counts()`"
   ]
  },
  {
   "cell_type": "code",
   "execution_count": 50,
   "id": "0887968c",
   "metadata": {
    "pycharm": {
     "name": "#%%\n"
    }
   },
   "outputs": [],
   "source": [
    "domains = df.ZenodoRecordsCrosswalk.domain\n",
    "domains"
   ]
  },
  {
   "cell_type": "code",
   "execution_count": 51,
   "id": "d4597de1",
   "metadata": {},
   "outputs": [
    {
     "name": "stdout",
     "output_type": "stream",
     "text": [
      "None\n"
     ]
    }
   ],
   "source": [
    "#confirm missing for this repo\n",
    "print(df.ZenodoRecordsCrosswalk.domain)"
   ]
  },
  {
   "cell_type": "markdown",
   "id": "0728562f",
   "metadata": {
    "pycharm": {
     "name": "#%% md\n"
    }
   },
   "source": [
    "## 10. What is the mean number of characters (excluding whitespaces, if possible) for usage notes per object?\n",
    "**Property:** Technical details\n",
    "**Related function:** `mean_characters`"
   ]
  },
  {
   "cell_type": "code",
   "execution_count": 52,
   "id": "78ead60b",
   "metadata": {},
   "outputs": [],
   "source": [
    "# \"usage notes\" is not in crosswalk - need to return to"
   ]
  },
  {
   "cell_type": "markdown",
   "id": "b401b527",
   "metadata": {
    "pycharm": {
     "name": "#%% md\n"
    }
   },
   "source": [
    "## 11-13. What are the mean and median total number of keyword terms per object, after merging results for Keyword, Geographic keyword, and Scientific keyword?\n",
    "**Property:** Keyword"
   ]
  },
  {
   "cell_type": "code",
   "execution_count": 53,
   "id": "ba81fa90",
   "metadata": {},
   "outputs": [
    {
     "name": "stdout",
     "output_type": "stream",
     "text": [
      "1                                                    None\n",
      "3                                                    None\n",
      "7                                                    None\n",
      "9                                                    None\n",
      "10                                                   None\n",
      "                              ...                        \n",
      "7935                                                 None\n",
      "7938                                                 None\n",
      "7939    [artificial neural networks, Cypripedioideae, ...\n",
      "7942                                                 None\n",
      "7949    [educational data mining, word levels, machine...\n",
      "Name: metadata, Length: 2217, dtype: object\n"
     ]
    }
   ],
   "source": [
    "print(df.ZenodoRecordsCrosswalk.keyword)"
   ]
  },
  {
   "cell_type": "code",
   "execution_count": 54,
   "id": "d8d0dfa3",
   "metadata": {},
   "outputs": [
    {
     "name": "stdout",
     "output_type": "stream",
     "text": [
      "1                                                    None\n",
      "3                                                    None\n",
      "7                                                    None\n",
      "9                                                    None\n",
      "10                                                   None\n",
      "                              ...                        \n",
      "7935                                                 None\n",
      "7938                                                 None\n",
      "7939    [artificial neural networks, Cypripedioideae, ...\n",
      "7942                                                 None\n",
      "7949    [educational data mining, word levels, machine...\n",
      "Name: metadata, Length: 2217, dtype: object\n"
     ]
    }
   ],
   "source": [
    "print(df.ZenodoRecordsCrosswalk.geographic_keyword)"
   ]
  },
  {
   "cell_type": "code",
   "execution_count": 55,
   "id": "b040fd8b",
   "metadata": {},
   "outputs": [],
   "source": [
    "# Crosswalk lists:  ('genus', 'kingdom', 'order', 'phylum', 'scientificNameAuthorship', 'specificEpithet') \n",
    "# for \"scientific_keyword\"\n",
    "# but not seeing those anywhere in metadata column so ignoring for now"
   ]
  },
  {
   "cell_type": "code",
   "execution_count": 56,
   "id": "3ab214e1",
   "metadata": {},
   "outputs": [],
   "source": [
    "#create and concatenate keywords\n",
    "keywords1 = df.ZenodoRecordsCrosswalk.keyword\n",
    "keywords2 = df.ZenodoRecordsCrosswalk.geographic_keyword"
   ]
  },
  {
   "cell_type": "code",
   "execution_count": 57,
   "id": "1b3cf8ee",
   "metadata": {
    "scrolled": true
   },
   "outputs": [
    {
     "data": {
      "text/html": [
       "<div>\n",
       "<style scoped>\n",
       "    .dataframe tbody tr th:only-of-type {\n",
       "        vertical-align: middle;\n",
       "    }\n",
       "\n",
       "    .dataframe tbody tr th {\n",
       "        vertical-align: top;\n",
       "    }\n",
       "\n",
       "    .dataframe thead th {\n",
       "        text-align: right;\n",
       "    }\n",
       "</style>\n",
       "<table border=\"1\" class=\"dataframe\">\n",
       "  <thead>\n",
       "    <tr style=\"text-align: right;\">\n",
       "      <th></th>\n",
       "      <th>metadata</th>\n",
       "      <th>metadata</th>\n",
       "    </tr>\n",
       "  </thead>\n",
       "  <tbody>\n",
       "    <tr>\n",
       "      <th>1</th>\n",
       "      <td>None</td>\n",
       "      <td>None</td>\n",
       "    </tr>\n",
       "    <tr>\n",
       "      <th>3</th>\n",
       "      <td>None</td>\n",
       "      <td>None</td>\n",
       "    </tr>\n",
       "    <tr>\n",
       "      <th>7</th>\n",
       "      <td>None</td>\n",
       "      <td>None</td>\n",
       "    </tr>\n",
       "    <tr>\n",
       "      <th>9</th>\n",
       "      <td>None</td>\n",
       "      <td>None</td>\n",
       "    </tr>\n",
       "    <tr>\n",
       "      <th>10</th>\n",
       "      <td>None</td>\n",
       "      <td>None</td>\n",
       "    </tr>\n",
       "    <tr>\n",
       "      <th>...</th>\n",
       "      <td>...</td>\n",
       "      <td>...</td>\n",
       "    </tr>\n",
       "    <tr>\n",
       "      <th>7935</th>\n",
       "      <td>None</td>\n",
       "      <td>None</td>\n",
       "    </tr>\n",
       "    <tr>\n",
       "      <th>7938</th>\n",
       "      <td>None</td>\n",
       "      <td>None</td>\n",
       "    </tr>\n",
       "    <tr>\n",
       "      <th>7939</th>\n",
       "      <td>[artificial neural networks, Cypripedioideae, ...</td>\n",
       "      <td>[artificial neural networks, Cypripedioideae, ...</td>\n",
       "    </tr>\n",
       "    <tr>\n",
       "      <th>7942</th>\n",
       "      <td>None</td>\n",
       "      <td>None</td>\n",
       "    </tr>\n",
       "    <tr>\n",
       "      <th>7949</th>\n",
       "      <td>[educational data mining, word levels, machine...</td>\n",
       "      <td>[educational data mining, word levels, machine...</td>\n",
       "    </tr>\n",
       "  </tbody>\n",
       "</table>\n",
       "<p>2217 rows × 2 columns</p>\n",
       "</div>"
      ],
      "text/plain": [
       "                                               metadata  \\\n",
       "1                                                  None   \n",
       "3                                                  None   \n",
       "7                                                  None   \n",
       "9                                                  None   \n",
       "10                                                 None   \n",
       "...                                                 ...   \n",
       "7935                                               None   \n",
       "7938                                               None   \n",
       "7939  [artificial neural networks, Cypripedioideae, ...   \n",
       "7942                                               None   \n",
       "7949  [educational data mining, word levels, machine...   \n",
       "\n",
       "                                               metadata  \n",
       "1                                                  None  \n",
       "3                                                  None  \n",
       "7                                                  None  \n",
       "9                                                  None  \n",
       "10                                                 None  \n",
       "...                                                 ...  \n",
       "7935                                               None  \n",
       "7938                                               None  \n",
       "7939  [artificial neural networks, Cypripedioideae, ...  \n",
       "7942                                               None  \n",
       "7949  [educational data mining, word levels, machine...  \n",
       "\n",
       "[2217 rows x 2 columns]"
      ]
     },
     "execution_count": 57,
     "metadata": {},
     "output_type": "execute_result"
    }
   ],
   "source": [
    "keywords_all = pd.concat([keywords1, keywords2], axis = 1)\n",
    "keywords_all"
   ]
  },
  {
   "cell_type": "code",
   "execution_count": 58,
   "id": "a1b07a70",
   "metadata": {
    "scrolled": true
   },
   "outputs": [
    {
     "data": {
      "text/html": [
       "<div>\n",
       "<style scoped>\n",
       "    .dataframe tbody tr th:only-of-type {\n",
       "        vertical-align: middle;\n",
       "    }\n",
       "\n",
       "    .dataframe tbody tr th {\n",
       "        vertical-align: top;\n",
       "    }\n",
       "\n",
       "    .dataframe thead th {\n",
       "        text-align: right;\n",
       "    }\n",
       "</style>\n",
       "<table border=\"1\" class=\"dataframe\">\n",
       "  <thead>\n",
       "    <tr style=\"text-align: right;\">\n",
       "      <th></th>\n",
       "      <th>metadata</th>\n",
       "      <th>metadata</th>\n",
       "    </tr>\n",
       "  </thead>\n",
       "  <tbody>\n",
       "    <tr>\n",
       "      <th>1</th>\n",
       "      <td>[]</td>\n",
       "      <td>[]</td>\n",
       "    </tr>\n",
       "    <tr>\n",
       "      <th>3</th>\n",
       "      <td>[]</td>\n",
       "      <td>[]</td>\n",
       "    </tr>\n",
       "    <tr>\n",
       "      <th>7</th>\n",
       "      <td>[]</td>\n",
       "      <td>[]</td>\n",
       "    </tr>\n",
       "    <tr>\n",
       "      <th>9</th>\n",
       "      <td>[]</td>\n",
       "      <td>[]</td>\n",
       "    </tr>\n",
       "    <tr>\n",
       "      <th>10</th>\n",
       "      <td>[]</td>\n",
       "      <td>[]</td>\n",
       "    </tr>\n",
       "    <tr>\n",
       "      <th>...</th>\n",
       "      <td>...</td>\n",
       "      <td>...</td>\n",
       "    </tr>\n",
       "    <tr>\n",
       "      <th>7935</th>\n",
       "      <td>[]</td>\n",
       "      <td>[]</td>\n",
       "    </tr>\n",
       "    <tr>\n",
       "      <th>7938</th>\n",
       "      <td>[]</td>\n",
       "      <td>[]</td>\n",
       "    </tr>\n",
       "    <tr>\n",
       "      <th>7939</th>\n",
       "      <td>[artificial neural networks, Cypripedioideae, ...</td>\n",
       "      <td>[artificial neural networks, Cypripedioideae, ...</td>\n",
       "    </tr>\n",
       "    <tr>\n",
       "      <th>7942</th>\n",
       "      <td>[]</td>\n",
       "      <td>[]</td>\n",
       "    </tr>\n",
       "    <tr>\n",
       "      <th>7949</th>\n",
       "      <td>[educational data mining, word levels, machine...</td>\n",
       "      <td>[educational data mining, word levels, machine...</td>\n",
       "    </tr>\n",
       "  </tbody>\n",
       "</table>\n",
       "<p>2217 rows × 2 columns</p>\n",
       "</div>"
      ],
      "text/plain": [
       "                                               metadata  \\\n",
       "1                                                    []   \n",
       "3                                                    []   \n",
       "7                                                    []   \n",
       "9                                                    []   \n",
       "10                                                   []   \n",
       "...                                                 ...   \n",
       "7935                                                 []   \n",
       "7938                                                 []   \n",
       "7939  [artificial neural networks, Cypripedioideae, ...   \n",
       "7942                                                 []   \n",
       "7949  [educational data mining, word levels, machine...   \n",
       "\n",
       "                                               metadata  \n",
       "1                                                    []  \n",
       "3                                                    []  \n",
       "7                                                    []  \n",
       "9                                                    []  \n",
       "10                                                   []  \n",
       "...                                                 ...  \n",
       "7935                                                 []  \n",
       "7938                                                 []  \n",
       "7939  [artificial neural networks, Cypripedioideae, ...  \n",
       "7942                                                 []  \n",
       "7949  [educational data mining, word levels, machine...  \n",
       "\n",
       "[2217 rows x 2 columns]"
      ]
     },
     "execution_count": 58,
     "metadata": {},
     "output_type": "execute_result"
    }
   ],
   "source": [
    "#replace the None values with empty lists so the count of string values evaluates to 0\n",
    "keywords_all = keywords_all.apply(\n",
    "    lambda row: row.apply(\n",
    "        lambda cell: cell if cell else []\n",
    "    ),\n",
    "    axis=1\n",
    ")\n",
    "keywords_all"
   ]
  },
  {
   "cell_type": "code",
   "execution_count": 59,
   "id": "48a784ef",
   "metadata": {},
   "outputs": [
    {
     "data": {
      "text/plain": [
       "True"
      ]
     },
     "execution_count": 59,
     "metadata": {},
     "output_type": "execute_result"
    }
   ],
   "source": [
    "#confirm that the 2 columns are identical, meaning we only need to count keywords in one of these\n",
    "keywords_all.iloc[:,0].equals(keywords_all.iloc[:,1])"
   ]
  },
  {
   "cell_type": "code",
   "execution_count": 60,
   "id": "e924477d",
   "metadata": {},
   "outputs": [
    {
     "data": {
      "text/html": [
       "<div>\n",
       "<style scoped>\n",
       "    .dataframe tbody tr th:only-of-type {\n",
       "        vertical-align: middle;\n",
       "    }\n",
       "\n",
       "    .dataframe tbody tr th {\n",
       "        vertical-align: top;\n",
       "    }\n",
       "\n",
       "    .dataframe thead th {\n",
       "        text-align: right;\n",
       "    }\n",
       "</style>\n",
       "<table border=\"1\" class=\"dataframe\">\n",
       "  <thead>\n",
       "    <tr style=\"text-align: right;\">\n",
       "      <th></th>\n",
       "      <th>metadata</th>\n",
       "    </tr>\n",
       "  </thead>\n",
       "  <tbody>\n",
       "    <tr>\n",
       "      <th>1</th>\n",
       "      <td>[]</td>\n",
       "    </tr>\n",
       "    <tr>\n",
       "      <th>3</th>\n",
       "      <td>[]</td>\n",
       "    </tr>\n",
       "    <tr>\n",
       "      <th>7</th>\n",
       "      <td>[]</td>\n",
       "    </tr>\n",
       "    <tr>\n",
       "      <th>9</th>\n",
       "      <td>[]</td>\n",
       "    </tr>\n",
       "    <tr>\n",
       "      <th>10</th>\n",
       "      <td>[]</td>\n",
       "    </tr>\n",
       "    <tr>\n",
       "      <th>...</th>\n",
       "      <td>...</td>\n",
       "    </tr>\n",
       "    <tr>\n",
       "      <th>7935</th>\n",
       "      <td>[]</td>\n",
       "    </tr>\n",
       "    <tr>\n",
       "      <th>7938</th>\n",
       "      <td>[]</td>\n",
       "    </tr>\n",
       "    <tr>\n",
       "      <th>7939</th>\n",
       "      <td>[artificial neural networks, Cypripedioideae, ...</td>\n",
       "    </tr>\n",
       "    <tr>\n",
       "      <th>7942</th>\n",
       "      <td>[]</td>\n",
       "    </tr>\n",
       "    <tr>\n",
       "      <th>7949</th>\n",
       "      <td>[educational data mining, word levels, machine...</td>\n",
       "    </tr>\n",
       "  </tbody>\n",
       "</table>\n",
       "<p>2217 rows × 1 columns</p>\n",
       "</div>"
      ],
      "text/plain": [
       "                                               metadata\n",
       "1                                                    []\n",
       "3                                                    []\n",
       "7                                                    []\n",
       "9                                                    []\n",
       "10                                                   []\n",
       "...                                                 ...\n",
       "7935                                                 []\n",
       "7938                                                 []\n",
       "7939  [artificial neural networks, Cypripedioideae, ...\n",
       "7942                                                 []\n",
       "7949  [educational data mining, word levels, machine...\n",
       "\n",
       "[2217 rows x 1 columns]"
      ]
     },
     "execution_count": 60,
     "metadata": {},
     "output_type": "execute_result"
    }
   ],
   "source": [
    "#keep one column of keywords\n",
    "keywords_use = keywords_all.iloc[:,0].to_frame()\n",
    "keywords_use"
   ]
  },
  {
   "cell_type": "code",
   "execution_count": 61,
   "id": "afa40cd4",
   "metadata": {},
   "outputs": [
    {
     "data": {
      "text/plain": [
       "1       0\n",
       "3       0\n",
       "7       0\n",
       "9       0\n",
       "10      0\n",
       "       ..\n",
       "7935    0\n",
       "7938    0\n",
       "7939    7\n",
       "7942    0\n",
       "7949    1\n",
       "Length: 2217, dtype: int64"
      ]
     },
     "execution_count": 61,
     "metadata": {},
     "output_type": "execute_result"
    }
   ],
   "source": [
    "#count number of keywords for each row\n",
    "keyword_counts = keywords_use.apply(\n",
    "    lambda row: sum([len(row[entry]) for entry in keywords_use.columns if row[entry]]),\n",
    "    axis=1\n",
    ")\n",
    "keyword_counts"
   ]
  },
  {
   "cell_type": "code",
   "execution_count": 62,
   "id": "f56b4bc2",
   "metadata": {},
   "outputs": [
    {
     "data": {
      "text/plain": [
       "[]"
      ]
     },
     "execution_count": 62,
     "metadata": {},
     "output_type": "execute_result"
    }
   ],
   "source": [
    "#confirm accuracy - counting keyword phrases, not all individual words\n",
    "keywords_use.iloc[0]['metadata']"
   ]
  },
  {
   "cell_type": "code",
   "execution_count": 63,
   "id": "65614206",
   "metadata": {},
   "outputs": [
    {
     "data": {
      "text/plain": [
       "[]"
      ]
     },
     "execution_count": 63,
     "metadata": {},
     "output_type": "execute_result"
    }
   ],
   "source": [
    "keywords_use.iloc[1]['metadata']"
   ]
  },
  {
   "cell_type": "code",
   "execution_count": 64,
   "id": "c624d9ae",
   "metadata": {},
   "outputs": [
    {
     "data": {
      "text/plain": [
       "{'mean': 2.8407758231844835, 'median': 2.0, 'max': 92}"
      ]
     },
     "execution_count": 64,
     "metadata": {},
     "output_type": "execute_result"
    }
   ],
   "source": [
    "#get summary statistics\n",
    "analysis.get_summary_statistics(keyword_counts)"
   ]
  },
  {
   "cell_type": "markdown",
   "id": "d3e9ed23",
   "metadata": {
    "pycharm": {
     "name": "#%% md\n"
    }
   },
   "source": [
    "## 14. Who are the most common funding agencies for each repo? What are the object counts per agency?\n",
    "**Property:** Funding Agency"
   ]
  },
  {
   "cell_type": "code",
   "execution_count": 65,
   "id": "cc179c71",
   "metadata": {
    "pycharm": {
     "name": "#%%\n"
    }
   },
   "outputs": [
    {
     "data": {
      "text/plain": [
       "1       None\n",
       "3       None\n",
       "7       None\n",
       "9       None\n",
       "10      None\n",
       "        ... \n",
       "7935    None\n",
       "7938    None\n",
       "7939    None\n",
       "7942    None\n",
       "7949    None\n",
       "Name: metadata, Length: 2217, dtype: object"
      ]
     },
     "execution_count": 65,
     "metadata": {},
     "output_type": "execute_result"
    }
   ],
   "source": [
    "funders = df.ZenodoRecordsCrosswalk.funding_agency\n",
    "funders"
   ]
  },
  {
   "cell_type": "code",
   "execution_count": 66,
   "id": "d7bcd215",
   "metadata": {},
   "outputs": [
    {
     "data": {
      "text/plain": [
       "227"
      ]
     },
     "execution_count": 66,
     "metadata": {},
     "output_type": "execute_result"
    }
   ],
   "source": [
    "#how many are not none?\n",
    "len(pd.Series(filter(None, funders)))"
   ]
  },
  {
   "cell_type": "code",
   "execution_count": 67,
   "id": "7f929258",
   "metadata": {},
   "outputs": [
    {
     "data": {
      "text/plain": [
       "1       None\n",
       "3       None\n",
       "7       None\n",
       "9       None\n",
       "10      None\n",
       "        ... \n",
       "7935    None\n",
       "7938    None\n",
       "7939    None\n",
       "7942    None\n",
       "7949    None\n",
       "Name: metadata, Length: 2272, dtype: object"
      ]
     },
     "execution_count": 67,
     "metadata": {},
     "output_type": "execute_result"
    }
   ],
   "source": [
    "#may be more than one funder per object, so expand\n",
    "funders_long = funders.explode()\n",
    "funders_long"
   ]
  },
  {
   "cell_type": "code",
   "execution_count": 68,
   "id": "f2b5a158",
   "metadata": {
    "scrolled": true
   },
   "outputs": [
    {
     "data": {
      "text/html": [
       "<div>\n",
       "<style scoped>\n",
       "    .dataframe tbody tr th:only-of-type {\n",
       "        vertical-align: middle;\n",
       "    }\n",
       "\n",
       "    .dataframe tbody tr th {\n",
       "        vertical-align: top;\n",
       "    }\n",
       "\n",
       "    .dataframe thead th {\n",
       "        text-align: right;\n",
       "    }\n",
       "</style>\n",
       "<table border=\"1\" class=\"dataframe\">\n",
       "  <thead>\n",
       "    <tr style=\"text-align: right;\">\n",
       "      <th></th>\n",
       "      <th>metadata</th>\n",
       "      <th>percent</th>\n",
       "    </tr>\n",
       "  </thead>\n",
       "  <tbody>\n",
       "    <tr>\n",
       "      <th>European Commission</th>\n",
       "      <td>178</td>\n",
       "      <td>8.028868</td>\n",
       "    </tr>\n",
       "    <tr>\n",
       "      <th>Research Councils UK</th>\n",
       "      <td>26</td>\n",
       "      <td>1.172756</td>\n",
       "    </tr>\n",
       "    <tr>\n",
       "      <th>Schweizerischer Nationalfonds zur Förderung der Wissenschaftlichen Forschung</th>\n",
       "      <td>24</td>\n",
       "      <td>1.082544</td>\n",
       "    </tr>\n",
       "    <tr>\n",
       "      <th>Academy of Finland</th>\n",
       "      <td>14</td>\n",
       "      <td>0.631484</td>\n",
       "    </tr>\n",
       "    <tr>\n",
       "      <th>National Science Foundation</th>\n",
       "      <td>13</td>\n",
       "      <td>0.586378</td>\n",
       "    </tr>\n",
       "    <tr>\n",
       "      <th>Austrian Science Fund</th>\n",
       "      <td>7</td>\n",
       "      <td>0.315742</td>\n",
       "    </tr>\n",
       "    <tr>\n",
       "      <th>Wellcome Trust</th>\n",
       "      <td>5</td>\n",
       "      <td>0.225530</td>\n",
       "    </tr>\n",
       "    <tr>\n",
       "      <th>National Institutes of Health</th>\n",
       "      <td>5</td>\n",
       "      <td>0.225530</td>\n",
       "    </tr>\n",
       "    <tr>\n",
       "      <th>Agence Nationale de la Recherche</th>\n",
       "      <td>2</td>\n",
       "      <td>0.090212</td>\n",
       "    </tr>\n",
       "    <tr>\n",
       "      <th>Australian Research Council</th>\n",
       "      <td>2</td>\n",
       "      <td>0.090212</td>\n",
       "    </tr>\n",
       "    <tr>\n",
       "      <th>Ministarstvo Prosvete, Nauke i Tehnološkog Razvoja</th>\n",
       "      <td>2</td>\n",
       "      <td>0.090212</td>\n",
       "    </tr>\n",
       "    <tr>\n",
       "      <th>Science Foundation Ireland</th>\n",
       "      <td>2</td>\n",
       "      <td>0.090212</td>\n",
       "    </tr>\n",
       "    <tr>\n",
       "      <th>National Health and Medical Research Council</th>\n",
       "      <td>1</td>\n",
       "      <td>0.045106</td>\n",
       "    </tr>\n",
       "    <tr>\n",
       "      <th>Nederlandse Organisatie voor Wetenschappelijk Onderzoek</th>\n",
       "      <td>1</td>\n",
       "      <td>0.045106</td>\n",
       "    </tr>\n",
       "  </tbody>\n",
       "</table>\n",
       "</div>"
      ],
      "text/plain": [
       "                                                    metadata   percent\n",
       "European Commission                                      178  8.028868\n",
       "Research Councils UK                                      26  1.172756\n",
       "Schweizerischer Nationalfonds zur Förderung der...        24  1.082544\n",
       "Academy of Finland                                        14  0.631484\n",
       "National Science Foundation                               13  0.586378\n",
       "Austrian Science Fund                                      7  0.315742\n",
       "Wellcome Trust                                             5  0.225530\n",
       "National Institutes of Health                              5  0.225530\n",
       "Agence Nationale de la Recherche                           2  0.090212\n",
       "Australian Research Council                                2  0.090212\n",
       "Ministarstvo Prosvete, Nauke i Tehnološkog Razvoja         2  0.090212\n",
       "Science Foundation Ireland                                 2  0.090212\n",
       "National Health and Medical Research Council               1  0.045106\n",
       "Nederlandse Organisatie voor Wetenschappelijk O...         1  0.045106"
      ]
     },
     "execution_count": 68,
     "metadata": {},
     "output_type": "execute_result"
    }
   ],
   "source": [
    "funders_counts = funders_long.value_counts().to_frame()\n",
    "funders_counts['percent'] = funders_counts['metadata']/len(funders) * 100\n",
    "funders_counts"
   ]
  },
  {
   "cell_type": "markdown",
   "id": "bb85f4e8",
   "metadata": {
    "pycharm": {
     "name": "#%% md\n"
    }
   },
   "source": [
    "## 15. What are the mean, median, and max number of Views per object?\n",
    "**Property:** Views\n",
    "**Related function:** `get_summary_statistics`"
   ]
  },
  {
   "cell_type": "code",
   "execution_count": 69,
   "id": "ed2ea9dd",
   "metadata": {
    "pycharm": {
     "name": "#%%\n"
    }
   },
   "outputs": [
    {
     "data": {
      "text/html": [
       "<div>\n",
       "<style scoped>\n",
       "    .dataframe tbody tr th:only-of-type {\n",
       "        vertical-align: middle;\n",
       "    }\n",
       "\n",
       "    .dataframe tbody tr th {\n",
       "        vertical-align: top;\n",
       "    }\n",
       "\n",
       "    .dataframe thead th {\n",
       "        text-align: right;\n",
       "    }\n",
       "</style>\n",
       "<table border=\"1\" class=\"dataframe\">\n",
       "  <thead>\n",
       "    <tr style=\"text-align: right;\">\n",
       "      <th></th>\n",
       "      <th>stats</th>\n",
       "      <th>stats</th>\n",
       "    </tr>\n",
       "  </thead>\n",
       "  <tbody>\n",
       "    <tr>\n",
       "      <th>1</th>\n",
       "      <td>12.0</td>\n",
       "      <td>5.0</td>\n",
       "    </tr>\n",
       "    <tr>\n",
       "      <th>3</th>\n",
       "      <td>66.0</td>\n",
       "      <td>51.0</td>\n",
       "    </tr>\n",
       "    <tr>\n",
       "      <th>7</th>\n",
       "      <td>44.0</td>\n",
       "      <td>43.0</td>\n",
       "    </tr>\n",
       "    <tr>\n",
       "      <th>9</th>\n",
       "      <td>19.0</td>\n",
       "      <td>18.0</td>\n",
       "    </tr>\n",
       "    <tr>\n",
       "      <th>10</th>\n",
       "      <td>6.0</td>\n",
       "      <td>6.0</td>\n",
       "    </tr>\n",
       "    <tr>\n",
       "      <th>...</th>\n",
       "      <td>...</td>\n",
       "      <td>...</td>\n",
       "    </tr>\n",
       "    <tr>\n",
       "      <th>7935</th>\n",
       "      <td>55.0</td>\n",
       "      <td>51.0</td>\n",
       "    </tr>\n",
       "    <tr>\n",
       "      <th>7938</th>\n",
       "      <td>50.0</td>\n",
       "      <td>50.0</td>\n",
       "    </tr>\n",
       "    <tr>\n",
       "      <th>7939</th>\n",
       "      <td>55.0</td>\n",
       "      <td>50.0</td>\n",
       "    </tr>\n",
       "    <tr>\n",
       "      <th>7942</th>\n",
       "      <td>244.0</td>\n",
       "      <td>240.0</td>\n",
       "    </tr>\n",
       "    <tr>\n",
       "      <th>7949</th>\n",
       "      <td>496.0</td>\n",
       "      <td>458.0</td>\n",
       "    </tr>\n",
       "  </tbody>\n",
       "</table>\n",
       "<p>2217 rows × 2 columns</p>\n",
       "</div>"
      ],
      "text/plain": [
       "      stats  stats\n",
       "1      12.0    5.0\n",
       "3      66.0   51.0\n",
       "7      44.0   43.0\n",
       "9      19.0   18.0\n",
       "10      6.0    6.0\n",
       "...     ...    ...\n",
       "7935   55.0   51.0\n",
       "7938   50.0   50.0\n",
       "7939   55.0   50.0\n",
       "7942  244.0  240.0\n",
       "7949  496.0  458.0\n",
       "\n",
       "[2217 rows x 2 columns]"
      ]
     },
     "execution_count": 69,
     "metadata": {},
     "output_type": "execute_result"
    }
   ],
   "source": [
    "views = df.ZenodoRecordsCrosswalk.views\n",
    "views"
   ]
  },
  {
   "cell_type": "code",
   "execution_count": 70,
   "id": "a6f0ba2a",
   "metadata": {},
   "outputs": [],
   "source": [
    "#refer to crosswalk to identify which is unique views and which is total views\n",
    "#{'stats': ('views', 'unique_views')}\n",
    "# first column is 'views', second column is 'unique_views'"
   ]
  },
  {
   "cell_type": "code",
   "execution_count": 71,
   "id": "c9b91576",
   "metadata": {},
   "outputs": [],
   "source": [
    "#get summary stats for 'views', making sure treated as numeric and no missing values\n",
    "all_views = views.iloc[:,0]\n",
    "all_views = pd.to_numeric(all_views)\n",
    "all_views = all_views.dropna()"
   ]
  },
  {
   "cell_type": "code",
   "execution_count": 72,
   "id": "52530ff9",
   "metadata": {
    "scrolled": true
   },
   "outputs": [
    {
     "data": {
      "text/plain": [
       "{'mean': 250.36671177266575, 'median': 40.0, 'max': 132688.0}"
      ]
     },
     "execution_count": 72,
     "metadata": {},
     "output_type": "execute_result"
    }
   ],
   "source": [
    "analysis.get_summary_statistics(all_views)"
   ]
  },
  {
   "cell_type": "code",
   "execution_count": 73,
   "id": "e06dd3a7",
   "metadata": {},
   "outputs": [],
   "source": [
    "#get summary stats for 'unique views', making sure treated as numeric and no missing values\n",
    "unique_views = views.iloc[:,1]\n",
    "unique_views = pd.to_numeric(unique_views)\n",
    "unique_views = unique_views.dropna()"
   ]
  },
  {
   "cell_type": "code",
   "execution_count": 74,
   "id": "966da97b",
   "metadata": {},
   "outputs": [
    {
     "data": {
      "text/plain": [
       "1         5.0\n",
       "3        51.0\n",
       "7        43.0\n",
       "9        18.0\n",
       "10        6.0\n",
       "        ...  \n",
       "7935     51.0\n",
       "7938     50.0\n",
       "7939     50.0\n",
       "7942    240.0\n",
       "7949    458.0\n",
       "Name: stats, Length: 2217, dtype: float64"
      ]
     },
     "execution_count": 74,
     "metadata": {},
     "output_type": "execute_result"
    }
   ],
   "source": [
    "unique_views"
   ]
  },
  {
   "cell_type": "code",
   "execution_count": 75,
   "id": "95825745",
   "metadata": {},
   "outputs": [
    {
     "data": {
      "text/plain": [
       "{'mean': 217.0365358592693, 'median': 35.0, 'max': 114993.0}"
      ]
     },
     "execution_count": 75,
     "metadata": {},
     "output_type": "execute_result"
    }
   ],
   "source": [
    "analysis.get_summary_statistics(unique_views)"
   ]
  },
  {
   "cell_type": "markdown",
   "id": "54ec7768",
   "metadata": {
    "pycharm": {
     "name": "#%% md\n"
    }
   },
   "source": [
    "## 16. What are the mean, median, and max (total) number of downloads per object?\n",
    "**Property:** Downloads\n",
    "**Related function:** `get_summary_statistics`"
   ]
  },
  {
   "cell_type": "code",
   "execution_count": 76,
   "id": "eb9ff0d1",
   "metadata": {
    "pycharm": {
     "name": "#%%\n"
    },
    "scrolled": true
   },
   "outputs": [
    {
     "data": {
      "text/html": [
       "<div>\n",
       "<style scoped>\n",
       "    .dataframe tbody tr th:only-of-type {\n",
       "        vertical-align: middle;\n",
       "    }\n",
       "\n",
       "    .dataframe tbody tr th {\n",
       "        vertical-align: top;\n",
       "    }\n",
       "\n",
       "    .dataframe thead th {\n",
       "        text-align: right;\n",
       "    }\n",
       "</style>\n",
       "<table border=\"1\" class=\"dataframe\">\n",
       "  <thead>\n",
       "    <tr style=\"text-align: right;\">\n",
       "      <th></th>\n",
       "      <th>stats</th>\n",
       "      <th>stats</th>\n",
       "    </tr>\n",
       "  </thead>\n",
       "  <tbody>\n",
       "    <tr>\n",
       "      <th>1</th>\n",
       "      <td>1.0</td>\n",
       "      <td>1.0</td>\n",
       "    </tr>\n",
       "    <tr>\n",
       "      <th>3</th>\n",
       "      <td>11.0</td>\n",
       "      <td>11.0</td>\n",
       "    </tr>\n",
       "    <tr>\n",
       "      <th>7</th>\n",
       "      <td>5.0</td>\n",
       "      <td>5.0</td>\n",
       "    </tr>\n",
       "    <tr>\n",
       "      <th>9</th>\n",
       "      <td>0.0</td>\n",
       "      <td>0.0</td>\n",
       "    </tr>\n",
       "    <tr>\n",
       "      <th>10</th>\n",
       "      <td>1.0</td>\n",
       "      <td>1.0</td>\n",
       "    </tr>\n",
       "    <tr>\n",
       "      <th>...</th>\n",
       "      <td>...</td>\n",
       "      <td>...</td>\n",
       "    </tr>\n",
       "    <tr>\n",
       "      <th>7935</th>\n",
       "      <td>3.0</td>\n",
       "      <td>3.0</td>\n",
       "    </tr>\n",
       "    <tr>\n",
       "      <th>7938</th>\n",
       "      <td>7.0</td>\n",
       "      <td>7.0</td>\n",
       "    </tr>\n",
       "    <tr>\n",
       "      <th>7939</th>\n",
       "      <td>1.0</td>\n",
       "      <td>1.0</td>\n",
       "    </tr>\n",
       "    <tr>\n",
       "      <th>7942</th>\n",
       "      <td>8.0</td>\n",
       "      <td>8.0</td>\n",
       "    </tr>\n",
       "    <tr>\n",
       "      <th>7949</th>\n",
       "      <td>117.0</td>\n",
       "      <td>115.0</td>\n",
       "    </tr>\n",
       "  </tbody>\n",
       "</table>\n",
       "<p>2217 rows × 2 columns</p>\n",
       "</div>"
      ],
      "text/plain": [
       "      stats  stats\n",
       "1       1.0    1.0\n",
       "3      11.0   11.0\n",
       "7       5.0    5.0\n",
       "9       0.0    0.0\n",
       "10      1.0    1.0\n",
       "...     ...    ...\n",
       "7935    3.0    3.0\n",
       "7938    7.0    7.0\n",
       "7939    1.0    1.0\n",
       "7942    8.0    8.0\n",
       "7949  117.0  115.0\n",
       "\n",
       "[2217 rows x 2 columns]"
      ]
     },
     "execution_count": 76,
     "metadata": {},
     "output_type": "execute_result"
    }
   ],
   "source": [
    "downloads = df.ZenodoRecordsCrosswalk.downloads\n",
    "downloads"
   ]
  },
  {
   "cell_type": "code",
   "execution_count": 77,
   "id": "10da06f9",
   "metadata": {},
   "outputs": [],
   "source": [
    "#refer to crosswalk to identify which is unique downloads and which is total downloads\n",
    "# {'stats': ('downloads', 'unique_downloads')}\n",
    "#first column is 'downloads', second column is 'unique downloads'"
   ]
  },
  {
   "cell_type": "code",
   "execution_count": 78,
   "id": "f5bdf1a5",
   "metadata": {},
   "outputs": [],
   "source": [
    "#get summary stats for 'downloads', making sure treated as numeric and no missing values\n",
    "all_downloads = downloads.iloc[:,0]\n",
    "all_downloads = pd.to_numeric(all_downloads)\n",
    "all_downloads = all_downloads.dropna()"
   ]
  },
  {
   "cell_type": "code",
   "execution_count": 79,
   "id": "016e8d64",
   "metadata": {},
   "outputs": [
    {
     "data": {
      "text/plain": [
       "{'mean': 731.2557510148849, 'median': 10.0, 'max': 366857.0}"
      ]
     },
     "execution_count": 79,
     "metadata": {},
     "output_type": "execute_result"
    }
   ],
   "source": [
    "analysis.get_summary_statistics(all_downloads)"
   ]
  },
  {
   "cell_type": "code",
   "execution_count": 80,
   "id": "017c0c19",
   "metadata": {},
   "outputs": [],
   "source": [
    "#get summary stats for 'downloads', making sure treated as numeric and no missing values\n",
    "unique_downloads = downloads.iloc[:,1]\n",
    "unique_downloads = pd.to_numeric(unique_downloads)\n",
    "unique_downloads = unique_downloads.dropna()"
   ]
  },
  {
   "cell_type": "code",
   "execution_count": 81,
   "id": "118c8e1a",
   "metadata": {},
   "outputs": [
    {
     "data": {
      "text/plain": [
       "{'mean': 217.22417681551647, 'median': 7.0, 'max': 186905.0}"
      ]
     },
     "execution_count": 81,
     "metadata": {},
     "output_type": "execute_result"
    }
   ],
   "source": [
    "analysis.get_summary_statistics(unique_downloads)"
   ]
  },
  {
   "cell_type": "markdown",
   "id": "ac77b09c",
   "metadata": {
    "pycharm": {
     "name": "#%% md\n"
    }
   },
   "source": [
    "## 17. What are the mean, median, and max Citation counts per object?\n",
    "**Property:** Citation count\n",
    "**Related function:** `get_summary_statistics`"
   ]
  },
  {
   "cell_type": "code",
   "execution_count": 82,
   "id": "d5f1e68b",
   "metadata": {
    "pycharm": {
     "name": "#%%\n"
    }
   },
   "outputs": [],
   "source": [
    "citation_count = df.ZenodoRecordsCrosswalk.citation_count\n",
    "citation_count"
   ]
  },
  {
   "cell_type": "code",
   "execution_count": 83,
   "id": "a0dca9af",
   "metadata": {},
   "outputs": [
    {
     "name": "stdout",
     "output_type": "stream",
     "text": [
      "None\n"
     ]
    }
   ],
   "source": [
    "#confirm missing for this repo\n",
    "print(df.ZenodoRecordsCrosswalk.citation_count)"
   ]
  },
  {
   "cell_type": "markdown",
   "id": "f2a7e92d",
   "metadata": {
    "pycharm": {
     "name": "#%% md\n"
    }
   },
   "source": [
    "## 18. How many objects contain each given resource type?\n",
    "**Property:** Resource type"
   ]
  },
  {
   "cell_type": "code",
   "execution_count": 84,
   "id": "7809146f",
   "metadata": {
    "pycharm": {
     "name": "#%%\n"
    }
   },
   "outputs": [
    {
     "data": {
      "text/plain": [
       "1        Dataset\n",
       "3       Software\n",
       "7       Software\n",
       "9       Software\n",
       "10      Software\n",
       "          ...   \n",
       "7935    Software\n",
       "7938    Software\n",
       "7939     Dataset\n",
       "7942    Software\n",
       "7949     Dataset\n",
       "Name: metadata, Length: 2217, dtype: object"
      ]
     },
     "execution_count": 84,
     "metadata": {},
     "output_type": "execute_result"
    }
   ],
   "source": [
    "resource_types = df.ZenodoRecordsCrosswalk.resource_type\n",
    "resource_types"
   ]
  },
  {
   "cell_type": "code",
   "execution_count": 85,
   "id": "1984fe06",
   "metadata": {
    "scrolled": true
   },
   "outputs": [
    {
     "data": {
      "text/html": [
       "<div>\n",
       "<style scoped>\n",
       "    .dataframe tbody tr th:only-of-type {\n",
       "        vertical-align: middle;\n",
       "    }\n",
       "\n",
       "    .dataframe tbody tr th {\n",
       "        vertical-align: top;\n",
       "    }\n",
       "\n",
       "    .dataframe thead th {\n",
       "        text-align: right;\n",
       "    }\n",
       "</style>\n",
       "<table border=\"1\" class=\"dataframe\">\n",
       "  <thead>\n",
       "    <tr style=\"text-align: right;\">\n",
       "      <th></th>\n",
       "      <th>metadata</th>\n",
       "      <th>percent</th>\n",
       "    </tr>\n",
       "  </thead>\n",
       "  <tbody>\n",
       "    <tr>\n",
       "      <th>Dataset</th>\n",
       "      <td>1367</td>\n",
       "      <td>62.0</td>\n",
       "    </tr>\n",
       "    <tr>\n",
       "      <th>Software</th>\n",
       "      <td>850</td>\n",
       "      <td>38.0</td>\n",
       "    </tr>\n",
       "  </tbody>\n",
       "</table>\n",
       "</div>"
      ],
      "text/plain": [
       "          metadata  percent\n",
       "Dataset       1367     62.0\n",
       "Software       850     38.0"
      ]
     },
     "execution_count": 85,
     "metadata": {},
     "output_type": "execute_result"
    }
   ],
   "source": [
    "resource_types_counts = resource_types.value_counts().to_frame()\n",
    "resource_types_counts['percent'] = round(resource_types_counts['metadata']/len(resource_types) * 100)\n",
    "resource_types_counts"
   ]
  },
  {
   "cell_type": "markdown",
   "id": "3e07956e",
   "metadata": {
    "pycharm": {
     "name": "#%% md\n"
    }
   },
   "source": [
    "## 19. How many objects contain each type of file extension given?\n",
    "**Property:** File Extension\n",
    "**Related function:** `get_file_extensions`"
   ]
  },
  {
   "cell_type": "code",
   "execution_count": 86,
   "id": "e343eee6",
   "metadata": {
    "pycharm": {
     "is_executing": true,
     "name": "#%%\n"
    }
   },
   "outputs": [
    {
     "data": {
      "text/plain": [
       "1        None\n",
       "3       [zip]\n",
       "7       [zip]\n",
       "9       [zip]\n",
       "10      [zip]\n",
       "        ...  \n",
       "7935    [zip]\n",
       "7938    [zip]\n",
       "7939    [zip]\n",
       "7942    [zip]\n",
       "7949     [gz]\n",
       "Name: files, Length: 2217, dtype: object"
      ]
     },
     "execution_count": 86,
     "metadata": {},
     "output_type": "execute_result"
    }
   ],
   "source": [
    "files = df.ZenodoRecordsCrosswalk.file_extension\n",
    "files"
   ]
  },
  {
   "cell_type": "code",
   "execution_count": 87,
   "id": "3227e0f0",
   "metadata": {},
   "outputs": [
    {
     "data": {
      "text/html": [
       "<div>\n",
       "<style scoped>\n",
       "    .dataframe tbody tr th:only-of-type {\n",
       "        vertical-align: middle;\n",
       "    }\n",
       "\n",
       "    .dataframe tbody tr th {\n",
       "        vertical-align: top;\n",
       "    }\n",
       "\n",
       "    .dataframe thead th {\n",
       "        text-align: right;\n",
       "    }\n",
       "</style>\n",
       "<table border=\"1\" class=\"dataframe\">\n",
       "  <thead>\n",
       "    <tr style=\"text-align: right;\">\n",
       "      <th></th>\n",
       "      <th>id</th>\n",
       "      <th>files</th>\n",
       "    </tr>\n",
       "  </thead>\n",
       "  <tbody>\n",
       "    <tr>\n",
       "      <th>1</th>\n",
       "      <td>5747173</td>\n",
       "      <td>None</td>\n",
       "    </tr>\n",
       "    <tr>\n",
       "      <th>3</th>\n",
       "      <td>4738770</td>\n",
       "      <td>[zip]</td>\n",
       "    </tr>\n",
       "    <tr>\n",
       "      <th>7</th>\n",
       "      <td>4456470</td>\n",
       "      <td>[zip]</td>\n",
       "    </tr>\n",
       "    <tr>\n",
       "      <th>9</th>\n",
       "      <td>5654850</td>\n",
       "      <td>[zip]</td>\n",
       "    </tr>\n",
       "    <tr>\n",
       "      <th>10</th>\n",
       "      <td>4547779</td>\n",
       "      <td>[zip]</td>\n",
       "    </tr>\n",
       "    <tr>\n",
       "      <th>12</th>\n",
       "      <td>4596407</td>\n",
       "      <td>[txt, txt, txt, txt, txt, txt, txt, txt, txt, ...</td>\n",
       "    </tr>\n",
       "    <tr>\n",
       "      <th>13</th>\n",
       "      <td>5515761</td>\n",
       "      <td>[zip]</td>\n",
       "    </tr>\n",
       "    <tr>\n",
       "      <th>14</th>\n",
       "      <td>5008068</td>\n",
       "      <td>[zip, pdf]</td>\n",
       "    </tr>\n",
       "    <tr>\n",
       "      <th>15</th>\n",
       "      <td>5541446</td>\n",
       "      <td>[zip]</td>\n",
       "    </tr>\n",
       "    <tr>\n",
       "      <th>20</th>\n",
       "      <td>4986399</td>\n",
       "      <td>[7z, 7z, 7z, 7z, 7z, 7z, 7z, 7z, 7z, 7z, 7z, 7...</td>\n",
       "    </tr>\n",
       "  </tbody>\n",
       "</table>\n",
       "</div>"
      ],
      "text/plain": [
       "         id                                              files\n",
       "1   5747173                                               None\n",
       "3   4738770                                              [zip]\n",
       "7   4456470                                              [zip]\n",
       "9   5654850                                              [zip]\n",
       "10  4547779                                              [zip]\n",
       "12  4596407  [txt, txt, txt, txt, txt, txt, txt, txt, txt, ...\n",
       "13  5515761                                              [zip]\n",
       "14  5008068                                         [zip, pdf]\n",
       "15  5541446                                              [zip]\n",
       "20  4986399  [7z, 7z, 7z, 7z, 7z, 7z, 7z, 7z, 7z, 7z, 7z, 7..."
      ]
     },
     "execution_count": 87,
     "metadata": {},
     "output_type": "execute_result"
    }
   ],
   "source": [
    "#add ID column to make easier to count by object\n",
    "files_ids = pd.concat([ids, files], axis = 1)\n",
    "files_ids.head(10)"
   ]
  },
  {
   "cell_type": "code",
   "execution_count": 88,
   "id": "c25d1ffb",
   "metadata": {},
   "outputs": [
    {
     "data": {
      "text/html": [
       "<div>\n",
       "<style scoped>\n",
       "    .dataframe tbody tr th:only-of-type {\n",
       "        vertical-align: middle;\n",
       "    }\n",
       "\n",
       "    .dataframe tbody tr th {\n",
       "        vertical-align: top;\n",
       "    }\n",
       "\n",
       "    .dataframe thead th {\n",
       "        text-align: right;\n",
       "    }\n",
       "</style>\n",
       "<table border=\"1\" class=\"dataframe\">\n",
       "  <thead>\n",
       "    <tr style=\"text-align: right;\">\n",
       "      <th></th>\n",
       "      <th>id</th>\n",
       "      <th>files</th>\n",
       "    </tr>\n",
       "  </thead>\n",
       "  <tbody>\n",
       "    <tr>\n",
       "      <th>1</th>\n",
       "      <td>5747173</td>\n",
       "      <td>None</td>\n",
       "    </tr>\n",
       "    <tr>\n",
       "      <th>3</th>\n",
       "      <td>4738770</td>\n",
       "      <td>zip</td>\n",
       "    </tr>\n",
       "    <tr>\n",
       "      <th>7</th>\n",
       "      <td>4456470</td>\n",
       "      <td>zip</td>\n",
       "    </tr>\n",
       "    <tr>\n",
       "      <th>9</th>\n",
       "      <td>5654850</td>\n",
       "      <td>zip</td>\n",
       "    </tr>\n",
       "    <tr>\n",
       "      <th>10</th>\n",
       "      <td>4547779</td>\n",
       "      <td>zip</td>\n",
       "    </tr>\n",
       "    <tr>\n",
       "      <th>12</th>\n",
       "      <td>4596407</td>\n",
       "      <td>txt</td>\n",
       "    </tr>\n",
       "    <tr>\n",
       "      <th>12</th>\n",
       "      <td>4596407</td>\n",
       "      <td>txt</td>\n",
       "    </tr>\n",
       "    <tr>\n",
       "      <th>12</th>\n",
       "      <td>4596407</td>\n",
       "      <td>txt</td>\n",
       "    </tr>\n",
       "    <tr>\n",
       "      <th>12</th>\n",
       "      <td>4596407</td>\n",
       "      <td>txt</td>\n",
       "    </tr>\n",
       "    <tr>\n",
       "      <th>12</th>\n",
       "      <td>4596407</td>\n",
       "      <td>txt</td>\n",
       "    </tr>\n",
       "  </tbody>\n",
       "</table>\n",
       "</div>"
      ],
      "text/plain": [
       "         id files\n",
       "1   5747173  None\n",
       "3   4738770   zip\n",
       "7   4456470   zip\n",
       "9   5654850   zip\n",
       "10  4547779   zip\n",
       "12  4596407   txt\n",
       "12  4596407   txt\n",
       "12  4596407   txt\n",
       "12  4596407   txt\n",
       "12  4596407   txt"
      ]
     },
     "execution_count": 88,
     "metadata": {},
     "output_type": "execute_result"
    }
   ],
   "source": [
    "#expand so each file within object is own row\n",
    "files_ids = files_ids.explode('files')\n",
    "files_ids.head(10)"
   ]
  },
  {
   "cell_type": "code",
   "execution_count": 89,
   "id": "c9ea611b",
   "metadata": {
    "scrolled": true
   },
   "outputs": [
    {
     "data": {
      "text/html": [
       "<div>\n",
       "<style scoped>\n",
       "    .dataframe tbody tr th:only-of-type {\n",
       "        vertical-align: middle;\n",
       "    }\n",
       "\n",
       "    .dataframe tbody tr th {\n",
       "        vertical-align: top;\n",
       "    }\n",
       "\n",
       "    .dataframe thead th {\n",
       "        text-align: right;\n",
       "    }\n",
       "</style>\n",
       "<table border=\"1\" class=\"dataframe\">\n",
       "  <thead>\n",
       "    <tr style=\"text-align: right;\">\n",
       "      <th></th>\n",
       "      <th>id</th>\n",
       "      <th>files</th>\n",
       "    </tr>\n",
       "  </thead>\n",
       "  <tbody>\n",
       "    <tr>\n",
       "      <th>1</th>\n",
       "      <td>5747173</td>\n",
       "      <td>None</td>\n",
       "    </tr>\n",
       "    <tr>\n",
       "      <th>3</th>\n",
       "      <td>4738770</td>\n",
       "      <td>zip</td>\n",
       "    </tr>\n",
       "    <tr>\n",
       "      <th>7</th>\n",
       "      <td>4456470</td>\n",
       "      <td>zip</td>\n",
       "    </tr>\n",
       "    <tr>\n",
       "      <th>9</th>\n",
       "      <td>5654850</td>\n",
       "      <td>zip</td>\n",
       "    </tr>\n",
       "    <tr>\n",
       "      <th>10</th>\n",
       "      <td>4547779</td>\n",
       "      <td>zip</td>\n",
       "    </tr>\n",
       "    <tr>\n",
       "      <th>...</th>\n",
       "      <td>...</td>\n",
       "      <td>...</td>\n",
       "    </tr>\n",
       "    <tr>\n",
       "      <th>7935</th>\n",
       "      <td>14183</td>\n",
       "      <td>zip</td>\n",
       "    </tr>\n",
       "    <tr>\n",
       "      <th>7938</th>\n",
       "      <td>22204</td>\n",
       "      <td>zip</td>\n",
       "    </tr>\n",
       "    <tr>\n",
       "      <th>7939</th>\n",
       "      <td>31904</td>\n",
       "      <td>zip</td>\n",
       "    </tr>\n",
       "    <tr>\n",
       "      <th>7942</th>\n",
       "      <td>10075</td>\n",
       "      <td>zip</td>\n",
       "    </tr>\n",
       "    <tr>\n",
       "      <th>7949</th>\n",
       "      <td>12501</td>\n",
       "      <td>gz</td>\n",
       "    </tr>\n",
       "  </tbody>\n",
       "</table>\n",
       "<p>3363 rows × 2 columns</p>\n",
       "</div>"
      ],
      "text/plain": [
       "           id files\n",
       "1     5747173  None\n",
       "3     4738770   zip\n",
       "7     4456470   zip\n",
       "9     5654850   zip\n",
       "10    4547779   zip\n",
       "...       ...   ...\n",
       "7935    14183   zip\n",
       "7938    22204   zip\n",
       "7939    31904   zip\n",
       "7942    10075   zip\n",
       "7949    12501    gz\n",
       "\n",
       "[3363 rows x 2 columns]"
      ]
     },
     "execution_count": 89,
     "metadata": {},
     "output_type": "execute_result"
    }
   ],
   "source": [
    "#drop duplicates\n",
    "files_ids_unique = files_ids.drop_duplicates()\n",
    "files_ids_unique"
   ]
  },
  {
   "cell_type": "code",
   "execution_count": 90,
   "id": "0431fde8",
   "metadata": {},
   "outputs": [
    {
     "data": {
      "text/html": [
       "<div>\n",
       "<style scoped>\n",
       "    .dataframe tbody tr th:only-of-type {\n",
       "        vertical-align: middle;\n",
       "    }\n",
       "\n",
       "    .dataframe tbody tr th {\n",
       "        vertical-align: top;\n",
       "    }\n",
       "\n",
       "    .dataframe thead th {\n",
       "        text-align: right;\n",
       "    }\n",
       "</style>\n",
       "<table border=\"1\" class=\"dataframe\">\n",
       "  <thead>\n",
       "    <tr style=\"text-align: right;\">\n",
       "      <th></th>\n",
       "      <th>id</th>\n",
       "      <th>files</th>\n",
       "    </tr>\n",
       "  </thead>\n",
       "  <tbody>\n",
       "    <tr>\n",
       "      <th>12</th>\n",
       "      <td>4596407</td>\n",
       "      <td>txt</td>\n",
       "    </tr>\n",
       "  </tbody>\n",
       "</table>\n",
       "</div>"
      ],
      "text/plain": [
       "         id files\n",
       "12  4596407   txt"
      ]
     },
     "execution_count": 90,
     "metadata": {},
     "output_type": "execute_result"
    }
   ],
   "source": [
    "#confirm\n",
    "files_ids_unique.loc[files_ids_unique['id'] == 4596407]"
   ]
  },
  {
   "cell_type": "code",
   "execution_count": 91,
   "id": "cab5c1e1",
   "metadata": {},
   "outputs": [
    {
     "data": {
      "text/html": [
       "<div>\n",
       "<style scoped>\n",
       "    .dataframe tbody tr th:only-of-type {\n",
       "        vertical-align: middle;\n",
       "    }\n",
       "\n",
       "    .dataframe tbody tr th {\n",
       "        vertical-align: top;\n",
       "    }\n",
       "\n",
       "    .dataframe thead th {\n",
       "        text-align: right;\n",
       "    }\n",
       "</style>\n",
       "<table border=\"1\" class=\"dataframe\">\n",
       "  <thead>\n",
       "    <tr style=\"text-align: right;\">\n",
       "      <th></th>\n",
       "      <th>id</th>\n",
       "      <th>files</th>\n",
       "    </tr>\n",
       "  </thead>\n",
       "  <tbody>\n",
       "    <tr>\n",
       "      <th>14</th>\n",
       "      <td>5008068</td>\n",
       "      <td>zip</td>\n",
       "    </tr>\n",
       "    <tr>\n",
       "      <th>14</th>\n",
       "      <td>5008068</td>\n",
       "      <td>pdf</td>\n",
       "    </tr>\n",
       "  </tbody>\n",
       "</table>\n",
       "</div>"
      ],
      "text/plain": [
       "         id files\n",
       "14  5008068   zip\n",
       "14  5008068   pdf"
      ]
     },
     "execution_count": 91,
     "metadata": {},
     "output_type": "execute_result"
    }
   ],
   "source": [
    "#confirm\n",
    "files_ids_unique.loc[files_ids_unique['id'] == 5008068]"
   ]
  },
  {
   "cell_type": "code",
   "execution_count": 92,
   "id": "5d9b2953",
   "metadata": {
    "scrolled": true
   },
   "outputs": [
    {
     "data": {
      "text/html": [
       "<div>\n",
       "<style scoped>\n",
       "    .dataframe tbody tr th:only-of-type {\n",
       "        vertical-align: middle;\n",
       "    }\n",
       "\n",
       "    .dataframe tbody tr th {\n",
       "        vertical-align: top;\n",
       "    }\n",
       "\n",
       "    .dataframe thead th {\n",
       "        text-align: right;\n",
       "    }\n",
       "</style>\n",
       "<table border=\"1\" class=\"dataframe\">\n",
       "  <thead>\n",
       "    <tr style=\"text-align: right;\">\n",
       "      <th></th>\n",
       "      <th>0</th>\n",
       "      <th>percent</th>\n",
       "    </tr>\n",
       "    <tr>\n",
       "      <th>files</th>\n",
       "      <th></th>\n",
       "      <th></th>\n",
       "    </tr>\n",
       "  </thead>\n",
       "  <tbody>\n",
       "    <tr>\n",
       "      <th>zip</th>\n",
       "      <td>1205</td>\n",
       "      <td>54.352729</td>\n",
       "    </tr>\n",
       "    <tr>\n",
       "      <th>gz</th>\n",
       "      <td>292</td>\n",
       "      <td>13.170952</td>\n",
       "    </tr>\n",
       "    <tr>\n",
       "      <th>csv</th>\n",
       "      <td>217</td>\n",
       "      <td>9.788002</td>\n",
       "    </tr>\n",
       "    <tr>\n",
       "      <th>txt</th>\n",
       "      <td>212</td>\n",
       "      <td>9.562472</td>\n",
       "    </tr>\n",
       "    <tr>\n",
       "      <th>xlsx</th>\n",
       "      <td>113</td>\n",
       "      <td>5.096978</td>\n",
       "    </tr>\n",
       "    <tr>\n",
       "      <th>pdf</th>\n",
       "      <td>88</td>\n",
       "      <td>3.969328</td>\n",
       "    </tr>\n",
       "    <tr>\n",
       "      <th>tsv</th>\n",
       "      <td>83</td>\n",
       "      <td>3.743798</td>\n",
       "    </tr>\n",
       "    <tr>\n",
       "      <th>md</th>\n",
       "      <td>76</td>\n",
       "      <td>3.428056</td>\n",
       "    </tr>\n",
       "    <tr>\n",
       "      <th>tif</th>\n",
       "      <td>58</td>\n",
       "      <td>2.616148</td>\n",
       "    </tr>\n",
       "    <tr>\n",
       "      <th>png</th>\n",
       "      <td>55</td>\n",
       "      <td>2.480830</td>\n",
       "    </tr>\n",
       "  </tbody>\n",
       "</table>\n",
       "</div>"
      ],
      "text/plain": [
       "          0    percent\n",
       "files                 \n",
       "zip    1205  54.352729\n",
       "gz      292  13.170952\n",
       "csv     217   9.788002\n",
       "txt     212   9.562472\n",
       "xlsx    113   5.096978\n",
       "pdf      88   3.969328\n",
       "tsv      83   3.743798\n",
       "md       76   3.428056\n",
       "tif      58   2.616148\n",
       "png      55   2.480830"
      ]
     },
     "execution_count": 92,
     "metadata": {},
     "output_type": "execute_result"
    }
   ],
   "source": [
    "#get ESTIMATE of most common formats - needs some clean up\n",
    "\n",
    "#group by file type count objects\n",
    "files_ids_grouped = files_ids_unique.groupby('files').size().to_frame().sort_values(0, ascending = False)\n",
    "files_ids_grouped['percent'] = files_ids_grouped[0]/len(files) * 100\n",
    "files_ids_grouped.head(10)"
   ]
  },
  {
   "cell_type": "code",
   "execution_count": 93,
   "id": "c9217f6c",
   "metadata": {
    "scrolled": true
   },
   "outputs": [],
   "source": [
    "#export for further clean up, refining estimates, and plotting"
   ]
  },
  {
   "cell_type": "code",
   "execution_count": 94,
   "id": "46de34e2",
   "metadata": {},
   "outputs": [
    {
     "data": {
      "text/html": [
       "<div>\n",
       "<style scoped>\n",
       "    .dataframe tbody tr th:only-of-type {\n",
       "        vertical-align: middle;\n",
       "    }\n",
       "\n",
       "    .dataframe tbody tr th {\n",
       "        vertical-align: top;\n",
       "    }\n",
       "\n",
       "    .dataframe thead th {\n",
       "        text-align: right;\n",
       "    }\n",
       "</style>\n",
       "<table border=\"1\" class=\"dataframe\">\n",
       "  <thead>\n",
       "    <tr style=\"text-align: right;\">\n",
       "      <th></th>\n",
       "      <th>index</th>\n",
       "      <th>files</th>\n",
       "      <th>repo</th>\n",
       "    </tr>\n",
       "  </thead>\n",
       "  <tbody>\n",
       "    <tr>\n",
       "      <th>0</th>\n",
       "      <td>1</td>\n",
       "      <td>None</td>\n",
       "      <td>zenodo_subset</td>\n",
       "    </tr>\n",
       "    <tr>\n",
       "      <th>1</th>\n",
       "      <td>3</td>\n",
       "      <td>zip</td>\n",
       "      <td>zenodo_subset</td>\n",
       "    </tr>\n",
       "    <tr>\n",
       "      <th>2</th>\n",
       "      <td>7</td>\n",
       "      <td>zip</td>\n",
       "      <td>zenodo_subset</td>\n",
       "    </tr>\n",
       "    <tr>\n",
       "      <th>3</th>\n",
       "      <td>9</td>\n",
       "      <td>zip</td>\n",
       "      <td>zenodo_subset</td>\n",
       "    </tr>\n",
       "    <tr>\n",
       "      <th>4</th>\n",
       "      <td>10</td>\n",
       "      <td>zip</td>\n",
       "      <td>zenodo_subset</td>\n",
       "    </tr>\n",
       "    <tr>\n",
       "      <th>5</th>\n",
       "      <td>12</td>\n",
       "      <td>txt</td>\n",
       "      <td>zenodo_subset</td>\n",
       "    </tr>\n",
       "    <tr>\n",
       "      <th>6</th>\n",
       "      <td>13</td>\n",
       "      <td>zip</td>\n",
       "      <td>zenodo_subset</td>\n",
       "    </tr>\n",
       "    <tr>\n",
       "      <th>7</th>\n",
       "      <td>14</td>\n",
       "      <td>zip</td>\n",
       "      <td>zenodo_subset</td>\n",
       "    </tr>\n",
       "    <tr>\n",
       "      <th>8</th>\n",
       "      <td>14</td>\n",
       "      <td>pdf</td>\n",
       "      <td>zenodo_subset</td>\n",
       "    </tr>\n",
       "    <tr>\n",
       "      <th>9</th>\n",
       "      <td>15</td>\n",
       "      <td>zip</td>\n",
       "      <td>zenodo_subset</td>\n",
       "    </tr>\n",
       "  </tbody>\n",
       "</table>\n",
       "</div>"
      ],
      "text/plain": [
       "   index files           repo\n",
       "0      1  None  zenodo_subset\n",
       "1      3   zip  zenodo_subset\n",
       "2      7   zip  zenodo_subset\n",
       "3      9   zip  zenodo_subset\n",
       "4     10   zip  zenodo_subset\n",
       "5     12   txt  zenodo_subset\n",
       "6     13   zip  zenodo_subset\n",
       "7     14   zip  zenodo_subset\n",
       "8     14   pdf  zenodo_subset\n",
       "9     15   zip  zenodo_subset"
      ]
     },
     "execution_count": 94,
     "metadata": {},
     "output_type": "execute_result"
    }
   ],
   "source": [
    "#reset index and update column names\n",
    "ext_grouped_ready = files_ids_unique.reset_index(level=0)\n",
    "ext_grouped_ready.columns = ['index', 'id', 'files']\n",
    "\n",
    "#add column with name of repo\n",
    "ext_grouped_ready['repo'] = 'zenodo_subset'\n",
    "\n",
    "#drop extra column to make consistent with other repo exports\n",
    "ext_grouped_ready = ext_grouped_ready.drop(columns=['id'])\n",
    "\n",
    "ext_grouped_ready.head(10)"
   ]
  },
  {
   "cell_type": "code",
   "execution_count": 95,
   "id": "b77b93b5",
   "metadata": {},
   "outputs": [],
   "source": [
    "#export to Figures folder\n",
    "ext_grouped_ready.to_csv('..\\\\..\\\\Figures\\\\Figure2\\\\file_ext_data\\\\zenodo_subset_extensions.csv')"
   ]
  },
  {
   "cell_type": "markdown",
   "id": "1fac5bc5",
   "metadata": {
    "pycharm": {
     "name": "#%% md\n"
    }
   },
   "source": [
    "## 19.5 How many files of each type of file extension are present?\n",
    "**Property:** File extension"
   ]
  },
  {
   "cell_type": "code",
   "execution_count": 96,
   "id": "e1a8babd",
   "metadata": {
    "pycharm": {
     "is_executing": true,
     "name": "#%%\n"
    }
   },
   "outputs": [
    {
     "data": {
      "text/plain": [
       "1        None\n",
       "3       [zip]\n",
       "7       [zip]\n",
       "9       [zip]\n",
       "10      [zip]\n",
       "        ...  \n",
       "7935    [zip]\n",
       "7938    [zip]\n",
       "7939    [zip]\n",
       "7942    [zip]\n",
       "7949     [gz]\n",
       "Name: files, Length: 2217, dtype: object"
      ]
     },
     "execution_count": 96,
     "metadata": {},
     "output_type": "execute_result"
    }
   ],
   "source": [
    "files = df.ZenodoRecordsCrosswalk.file_extension\n",
    "files"
   ]
  },
  {
   "cell_type": "code",
   "execution_count": 97,
   "id": "e84b3b3c",
   "metadata": {
    "scrolled": true
   },
   "outputs": [
    {
     "data": {
      "text/plain": [
       "1       None\n",
       "3        zip\n",
       "7        zip\n",
       "9        zip\n",
       "10       zip\n",
       "        ... \n",
       "7935     zip\n",
       "7938     zip\n",
       "7939     zip\n",
       "7942     zip\n",
       "7949      gz\n",
       "Name: files, Length: 19060, dtype: object"
      ]
     },
     "execution_count": 97,
     "metadata": {},
     "output_type": "execute_result"
    }
   ],
   "source": [
    "files = files.explode()\n",
    "files"
   ]
  },
  {
   "cell_type": "code",
   "execution_count": 98,
   "id": "d4dc62e4",
   "metadata": {},
   "outputs": [
    {
     "data": {
      "text/plain": [
       "xz     3043\n",
       "gz     2634\n",
       "zip    2290\n",
       "jpg    1639\n",
       "tif    1063\n",
       "nc      914\n",
       "csv     848\n",
       "tsv     648\n",
       "bz2     581\n",
       "txt     496\n",
       "Name: files, dtype: int64"
      ]
     },
     "execution_count": 98,
     "metadata": {},
     "output_type": "execute_result"
    }
   ],
   "source": [
    "#drop None and count\n",
    "files_count = files.dropna()\n",
    "files_count = files_count.value_counts()\n",
    "files_count.head(10)"
   ]
  },
  {
   "cell_type": "markdown",
   "id": "32cb8bd4",
   "metadata": {
    "pycharm": {
     "name": "#%% md\n"
    }
   },
   "source": [
    "## 20. How many objects contain each type of File format given?\n",
    "**Property:** File format"
   ]
  },
  {
   "cell_type": "code",
   "execution_count": 99,
   "id": "aeb1e0ec",
   "metadata": {
    "pycharm": {
     "name": "#%%\n"
    }
   },
   "outputs": [],
   "source": [
    "file_formats = df.ZenodoRecordsCrosswalk.file_format\n",
    "file_formats"
   ]
  },
  {
   "cell_type": "code",
   "execution_count": 100,
   "id": "1e27d2c4",
   "metadata": {},
   "outputs": [
    {
     "name": "stdout",
     "output_type": "stream",
     "text": [
      "None\n"
     ]
    }
   ],
   "source": [
    "#confirm missing in this repo\n",
    "print(df.ZenodoRecordsCrosswalk.file_format)"
   ]
  },
  {
   "cell_type": "markdown",
   "id": "908f11d9",
   "metadata": {
    "pycharm": {
     "name": "#%% md\n"
    }
   },
   "source": [
    "## 21. How many objects contain each type of Media type given?\n",
    "**Property:** Media type"
   ]
  },
  {
   "cell_type": "code",
   "execution_count": 101,
   "id": "9214578d",
   "metadata": {
    "pycharm": {
     "name": "#%%\n"
    }
   },
   "outputs": [],
   "source": [
    "media_types = df.ZenodoRecordsCrosswalk.media_type\n",
    "media_types"
   ]
  },
  {
   "cell_type": "code",
   "execution_count": 102,
   "id": "eba7f372",
   "metadata": {},
   "outputs": [
    {
     "name": "stdout",
     "output_type": "stream",
     "text": [
      "None\n"
     ]
    }
   ],
   "source": [
    "#confirm missing in this repo\n",
    "print(df.ZenodoRecordsCrosswalk.media_type)"
   ]
  },
  {
   "cell_type": "markdown",
   "id": "f5ae5792",
   "metadata": {
    "pycharm": {
     "name": "#%% md\n"
    }
   },
   "source": [
    "## 22. a) How many objects report one related resource type, and b) how many objects report each of those types? c) How many objects report multiple related resource types (regardless of which types)?\n",
    "**Property:** Related resource type"
   ]
  },
  {
   "cell_type": "code",
   "execution_count": 103,
   "id": "33c9153c",
   "metadata": {
    "pycharm": {
     "name": "#%%\n"
    }
   },
   "outputs": [
    {
     "data": {
      "text/plain": [
       "1                          [isVersionOf]\n",
       "3          [isSupplementTo, isVersionOf]\n",
       "7                          [isVersionOf]\n",
       "9          [isSupplementTo, isVersionOf]\n",
       "10         [isSupplementTo, isVersionOf]\n",
       "                      ...               \n",
       "7935       [isSupplementTo, isVersionOf]\n",
       "7938                    [isSupplementTo]\n",
       "7939                    [isSupplementTo]\n",
       "7942    [isSupplementTo, isSupplementTo]\n",
       "7949                                None\n",
       "Name: metadata, Length: 2217, dtype: object"
      ]
     },
     "execution_count": 103,
     "metadata": {},
     "output_type": "execute_result"
    }
   ],
   "source": [
    "related_resource_types = df.ZenodoRecordsCrosswalk.related_resource_type\n",
    "related_resource_types"
   ]
  },
  {
   "cell_type": "code",
   "execution_count": 104,
   "id": "26b80694",
   "metadata": {},
   "outputs": [
    {
     "name": "stdout",
     "output_type": "stream",
     "text": [
      "1                          [isVersionOf]\n",
      "3          [isSupplementTo, isVersionOf]\n",
      "7                          [isVersionOf]\n",
      "9          [isSupplementTo, isVersionOf]\n",
      "10         [isSupplementTo, isVersionOf]\n",
      "                      ...               \n",
      "7935       [isSupplementTo, isVersionOf]\n",
      "7938                    [isSupplementTo]\n",
      "7939                    [isSupplementTo]\n",
      "7942    [isSupplementTo, isSupplementTo]\n",
      "7949                                None\n",
      "Name: metadata, Length: 2217, dtype: object\n"
     ]
    }
   ],
   "source": [
    "print(df.ZenodoRecordsCrosswalk.related_resource_type)"
   ]
  },
  {
   "cell_type": "code",
   "execution_count": 105,
   "id": "03f6fdc1",
   "metadata": {
    "scrolled": true
   },
   "outputs": [
    {
     "data": {
      "text/plain": [
       "1                          [isVersionOf]\n",
       "3          [isSupplementTo, isVersionOf]\n",
       "7                          [isVersionOf]\n",
       "9          [isSupplementTo, isVersionOf]\n",
       "10         [isSupplementTo, isVersionOf]\n",
       "                      ...               \n",
       "7935       [isSupplementTo, isVersionOf]\n",
       "7938                    [isSupplementTo]\n",
       "7939                    [isSupplementTo]\n",
       "7942    [isSupplementTo, isSupplementTo]\n",
       "7949                                  []\n",
       "Name: metadata, Length: 2217, dtype: object"
      ]
     },
     "execution_count": 105,
     "metadata": {},
     "output_type": "execute_result"
    }
   ],
   "source": [
    "#replace None values with empty list, 0 related resource types\n",
    "related_resource_types = related_resource_types.apply(lambda d: d if isinstance(d, list) else [])\n",
    "related_resource_types"
   ]
  },
  {
   "cell_type": "code",
   "execution_count": 106,
   "id": "852c6fa8",
   "metadata": {},
   "outputs": [
    {
     "data": {
      "text/plain": [
       "1                          [isVersionOf]\n",
       "3          [isSupplementTo, isVersionOf]\n",
       "7                          [isVersionOf]\n",
       "9          [isSupplementTo, isVersionOf]\n",
       "10         [isSupplementTo, isVersionOf]\n",
       "                      ...               \n",
       "7935       [isSupplementTo, isVersionOf]\n",
       "7938                    [isSupplementTo]\n",
       "7939                    [isSupplementTo]\n",
       "7942    [isSupplementTo, isSupplementTo]\n",
       "7949                                  []\n",
       "Name: metadata, Length: 2217, dtype: object"
      ]
     },
     "execution_count": 106,
     "metadata": {},
     "output_type": "execute_result"
    }
   ],
   "source": [
    "#remove None values from lists\n",
    "related_resource_types_clean = related_resource_types\n",
    "related_resource_types_clean = related_resource_types_clean.apply(lambda el: [x for x in el if x is not None])\n",
    "related_resource_types_clean"
   ]
  },
  {
   "cell_type": "code",
   "execution_count": 107,
   "id": "b5250148",
   "metadata": {},
   "outputs": [
    {
     "data": {
      "text/plain": [
       "1       1\n",
       "3       2\n",
       "7       1\n",
       "9       2\n",
       "10      2\n",
       "       ..\n",
       "7935    2\n",
       "7938    1\n",
       "7939    1\n",
       "7942    2\n",
       "7949    0\n",
       "Name: metadata, Length: 2217, dtype: int64"
      ]
     },
     "execution_count": 107,
     "metadata": {},
     "output_type": "execute_result"
    }
   ],
   "source": [
    "related_resource_types_counts = related_resource_types_clean.apply(len)\n",
    "related_resource_types_counts"
   ]
  },
  {
   "cell_type": "code",
   "execution_count": 108,
   "id": "7f1e1a15",
   "metadata": {
    "scrolled": true
   },
   "outputs": [
    {
     "data": {
      "text/html": [
       "<div>\n",
       "<style scoped>\n",
       "    .dataframe tbody tr th:only-of-type {\n",
       "        vertical-align: middle;\n",
       "    }\n",
       "\n",
       "    .dataframe tbody tr th {\n",
       "        vertical-align: top;\n",
       "    }\n",
       "\n",
       "    .dataframe thead th {\n",
       "        text-align: right;\n",
       "    }\n",
       "</style>\n",
       "<table border=\"1\" class=\"dataframe\">\n",
       "  <thead>\n",
       "    <tr style=\"text-align: right;\">\n",
       "      <th></th>\n",
       "      <th>metadata</th>\n",
       "    </tr>\n",
       "  </thead>\n",
       "  <tbody>\n",
       "    <tr>\n",
       "      <th>1</th>\n",
       "      <td>1205</td>\n",
       "    </tr>\n",
       "    <tr>\n",
       "      <th>2</th>\n",
       "      <td>700</td>\n",
       "    </tr>\n",
       "    <tr>\n",
       "      <th>0</th>\n",
       "      <td>140</td>\n",
       "    </tr>\n",
       "    <tr>\n",
       "      <th>3</th>\n",
       "      <td>77</td>\n",
       "    </tr>\n",
       "    <tr>\n",
       "      <th>4</th>\n",
       "      <td>46</td>\n",
       "    </tr>\n",
       "    <tr>\n",
       "      <th>5</th>\n",
       "      <td>27</td>\n",
       "    </tr>\n",
       "    <tr>\n",
       "      <th>6</th>\n",
       "      <td>10</td>\n",
       "    </tr>\n",
       "    <tr>\n",
       "      <th>8</th>\n",
       "      <td>3</td>\n",
       "    </tr>\n",
       "    <tr>\n",
       "      <th>10</th>\n",
       "      <td>2</td>\n",
       "    </tr>\n",
       "    <tr>\n",
       "      <th>7</th>\n",
       "      <td>2</td>\n",
       "    </tr>\n",
       "    <tr>\n",
       "      <th>20</th>\n",
       "      <td>1</td>\n",
       "    </tr>\n",
       "    <tr>\n",
       "      <th>104</th>\n",
       "      <td>1</td>\n",
       "    </tr>\n",
       "    <tr>\n",
       "      <th>11</th>\n",
       "      <td>1</td>\n",
       "    </tr>\n",
       "    <tr>\n",
       "      <th>15</th>\n",
       "      <td>1</td>\n",
       "    </tr>\n",
       "    <tr>\n",
       "      <th>23</th>\n",
       "      <td>1</td>\n",
       "    </tr>\n",
       "  </tbody>\n",
       "</table>\n",
       "</div>"
      ],
      "text/plain": [
       "     metadata\n",
       "1        1205\n",
       "2         700\n",
       "0         140\n",
       "3          77\n",
       "4          46\n",
       "5          27\n",
       "6          10\n",
       "8           3\n",
       "10          2\n",
       "7           2\n",
       "20          1\n",
       "104         1\n",
       "11          1\n",
       "15          1\n",
       "23          1"
      ]
     },
     "execution_count": 108,
     "metadata": {},
     "output_type": "execute_result"
    }
   ],
   "source": [
    "#how many objects (second column) have a specified number of related resource types listed (first column)\n",
    "related_resource_types_counts.value_counts().to_frame()"
   ]
  },
  {
   "cell_type": "markdown",
   "id": "64b0f499",
   "metadata": {},
   "source": [
    "#### How many objects report each type of related resource?"
   ]
  },
  {
   "cell_type": "code",
   "execution_count": 109,
   "id": "3da2163f",
   "metadata": {
    "scrolled": true
   },
   "outputs": [
    {
     "data": {
      "text/html": [
       "<div>\n",
       "<style scoped>\n",
       "    .dataframe tbody tr th:only-of-type {\n",
       "        vertical-align: middle;\n",
       "    }\n",
       "\n",
       "    .dataframe tbody tr th {\n",
       "        vertical-align: top;\n",
       "    }\n",
       "\n",
       "    .dataframe thead th {\n",
       "        text-align: right;\n",
       "    }\n",
       "</style>\n",
       "<table border=\"1\" class=\"dataframe\">\n",
       "  <thead>\n",
       "    <tr style=\"text-align: right;\">\n",
       "      <th></th>\n",
       "      <th>id</th>\n",
       "      <th>metadata</th>\n",
       "    </tr>\n",
       "  </thead>\n",
       "  <tbody>\n",
       "    <tr>\n",
       "      <th>1</th>\n",
       "      <td>5747173</td>\n",
       "      <td>[isVersionOf]</td>\n",
       "    </tr>\n",
       "    <tr>\n",
       "      <th>3</th>\n",
       "      <td>4738770</td>\n",
       "      <td>[isSupplementTo, isVersionOf]</td>\n",
       "    </tr>\n",
       "    <tr>\n",
       "      <th>7</th>\n",
       "      <td>4456470</td>\n",
       "      <td>[isVersionOf]</td>\n",
       "    </tr>\n",
       "    <tr>\n",
       "      <th>9</th>\n",
       "      <td>5654850</td>\n",
       "      <td>[isSupplementTo, isVersionOf]</td>\n",
       "    </tr>\n",
       "    <tr>\n",
       "      <th>10</th>\n",
       "      <td>4547779</td>\n",
       "      <td>[isSupplementTo, isVersionOf]</td>\n",
       "    </tr>\n",
       "    <tr>\n",
       "      <th>12</th>\n",
       "      <td>4596407</td>\n",
       "      <td>[isSupplementTo, isVersionOf]</td>\n",
       "    </tr>\n",
       "    <tr>\n",
       "      <th>13</th>\n",
       "      <td>5515761</td>\n",
       "      <td>[isVersionOf]</td>\n",
       "    </tr>\n",
       "    <tr>\n",
       "      <th>14</th>\n",
       "      <td>5008068</td>\n",
       "      <td>[cites]</td>\n",
       "    </tr>\n",
       "    <tr>\n",
       "      <th>15</th>\n",
       "      <td>5541446</td>\n",
       "      <td>[isSupplementTo, isVersionOf]</td>\n",
       "    </tr>\n",
       "    <tr>\n",
       "      <th>20</th>\n",
       "      <td>4986399</td>\n",
       "      <td>[isSourceOf, isVersionOf]</td>\n",
       "    </tr>\n",
       "  </tbody>\n",
       "</table>\n",
       "</div>"
      ],
      "text/plain": [
       "         id                       metadata\n",
       "1   5747173                  [isVersionOf]\n",
       "3   4738770  [isSupplementTo, isVersionOf]\n",
       "7   4456470                  [isVersionOf]\n",
       "9   5654850  [isSupplementTo, isVersionOf]\n",
       "10  4547779  [isSupplementTo, isVersionOf]\n",
       "12  4596407  [isSupplementTo, isVersionOf]\n",
       "13  5515761                  [isVersionOf]\n",
       "14  5008068                        [cites]\n",
       "15  5541446  [isSupplementTo, isVersionOf]\n",
       "20  4986399      [isSourceOf, isVersionOf]"
      ]
     },
     "execution_count": 109,
     "metadata": {},
     "output_type": "execute_result"
    }
   ],
   "source": [
    "#add ID column to make easier to count by object\n",
    "related_resource_types_ids = pd.concat([ids, related_resource_types_clean], axis = 1)\n",
    "related_resource_types_ids.head(10)"
   ]
  },
  {
   "cell_type": "code",
   "execution_count": 110,
   "id": "ff91f35c",
   "metadata": {
    "scrolled": true
   },
   "outputs": [
    {
     "data": {
      "text/html": [
       "<div>\n",
       "<style scoped>\n",
       "    .dataframe tbody tr th:only-of-type {\n",
       "        vertical-align: middle;\n",
       "    }\n",
       "\n",
       "    .dataframe tbody tr th {\n",
       "        vertical-align: top;\n",
       "    }\n",
       "\n",
       "    .dataframe thead th {\n",
       "        text-align: right;\n",
       "    }\n",
       "</style>\n",
       "<table border=\"1\" class=\"dataframe\">\n",
       "  <thead>\n",
       "    <tr style=\"text-align: right;\">\n",
       "      <th></th>\n",
       "      <th>id</th>\n",
       "      <th>metadata</th>\n",
       "    </tr>\n",
       "  </thead>\n",
       "  <tbody>\n",
       "    <tr>\n",
       "      <th>1</th>\n",
       "      <td>5747173</td>\n",
       "      <td>isVersionOf</td>\n",
       "    </tr>\n",
       "    <tr>\n",
       "      <th>3</th>\n",
       "      <td>4738770</td>\n",
       "      <td>isSupplementTo</td>\n",
       "    </tr>\n",
       "    <tr>\n",
       "      <th>3</th>\n",
       "      <td>4738770</td>\n",
       "      <td>isVersionOf</td>\n",
       "    </tr>\n",
       "    <tr>\n",
       "      <th>7</th>\n",
       "      <td>4456470</td>\n",
       "      <td>isVersionOf</td>\n",
       "    </tr>\n",
       "    <tr>\n",
       "      <th>9</th>\n",
       "      <td>5654850</td>\n",
       "      <td>isSupplementTo</td>\n",
       "    </tr>\n",
       "    <tr>\n",
       "      <th>9</th>\n",
       "      <td>5654850</td>\n",
       "      <td>isVersionOf</td>\n",
       "    </tr>\n",
       "    <tr>\n",
       "      <th>10</th>\n",
       "      <td>4547779</td>\n",
       "      <td>isSupplementTo</td>\n",
       "    </tr>\n",
       "    <tr>\n",
       "      <th>10</th>\n",
       "      <td>4547779</td>\n",
       "      <td>isVersionOf</td>\n",
       "    </tr>\n",
       "    <tr>\n",
       "      <th>12</th>\n",
       "      <td>4596407</td>\n",
       "      <td>isSupplementTo</td>\n",
       "    </tr>\n",
       "    <tr>\n",
       "      <th>12</th>\n",
       "      <td>4596407</td>\n",
       "      <td>isVersionOf</td>\n",
       "    </tr>\n",
       "  </tbody>\n",
       "</table>\n",
       "</div>"
      ],
      "text/plain": [
       "         id        metadata\n",
       "1   5747173     isVersionOf\n",
       "3   4738770  isSupplementTo\n",
       "3   4738770     isVersionOf\n",
       "7   4456470     isVersionOf\n",
       "9   5654850  isSupplementTo\n",
       "9   5654850     isVersionOf\n",
       "10  4547779  isSupplementTo\n",
       "10  4547779     isVersionOf\n",
       "12  4596407  isSupplementTo\n",
       "12  4596407     isVersionOf"
      ]
     },
     "execution_count": 110,
     "metadata": {},
     "output_type": "execute_result"
    }
   ],
   "source": [
    "#expand so each file within object is own row\n",
    "related_resource_types_ids = related_resource_types_ids.explode('metadata')\n",
    "related_resource_types_ids.head(10)"
   ]
  },
  {
   "cell_type": "code",
   "execution_count": 111,
   "id": "aa497c4c",
   "metadata": {
    "scrolled": true
   },
   "outputs": [
    {
     "data": {
      "text/html": [
       "<div>\n",
       "<style scoped>\n",
       "    .dataframe tbody tr th:only-of-type {\n",
       "        vertical-align: middle;\n",
       "    }\n",
       "\n",
       "    .dataframe tbody tr th {\n",
       "        vertical-align: top;\n",
       "    }\n",
       "\n",
       "    .dataframe thead th {\n",
       "        text-align: right;\n",
       "    }\n",
       "</style>\n",
       "<table border=\"1\" class=\"dataframe\">\n",
       "  <thead>\n",
       "    <tr style=\"text-align: right;\">\n",
       "      <th></th>\n",
       "      <th>0</th>\n",
       "      <th>percent</th>\n",
       "    </tr>\n",
       "    <tr>\n",
       "      <th>metadata</th>\n",
       "      <th></th>\n",
       "      <th></th>\n",
       "    </tr>\n",
       "  </thead>\n",
       "  <tbody>\n",
       "    <tr>\n",
       "      <th>isVersionOf</th>\n",
       "      <td>1886</td>\n",
       "      <td>85.069914</td>\n",
       "    </tr>\n",
       "    <tr>\n",
       "      <th>isSupplementTo</th>\n",
       "      <td>719</td>\n",
       "      <td>32.431213</td>\n",
       "    </tr>\n",
       "    <tr>\n",
       "      <th>cites</th>\n",
       "      <td>329</td>\n",
       "      <td>14.839874</td>\n",
       "    </tr>\n",
       "    <tr>\n",
       "      <th>isSupplementedBy</th>\n",
       "      <td>78</td>\n",
       "      <td>3.518268</td>\n",
       "    </tr>\n",
       "    <tr>\n",
       "      <th>isDocumentedBy</th>\n",
       "      <td>75</td>\n",
       "      <td>3.382950</td>\n",
       "    </tr>\n",
       "    <tr>\n",
       "      <th>isDerivedFrom</th>\n",
       "      <td>55</td>\n",
       "      <td>2.480830</td>\n",
       "    </tr>\n",
       "    <tr>\n",
       "      <th>isCitedBy</th>\n",
       "      <td>52</td>\n",
       "      <td>2.345512</td>\n",
       "    </tr>\n",
       "    <tr>\n",
       "      <th>isCompiledBy</th>\n",
       "      <td>43</td>\n",
       "      <td>1.939558</td>\n",
       "    </tr>\n",
       "    <tr>\n",
       "      <th>references</th>\n",
       "      <td>38</td>\n",
       "      <td>1.714028</td>\n",
       "    </tr>\n",
       "    <tr>\n",
       "      <th>isReferencedBy</th>\n",
       "      <td>37</td>\n",
       "      <td>1.668922</td>\n",
       "    </tr>\n",
       "    <tr>\n",
       "      <th>hasPart</th>\n",
       "      <td>36</td>\n",
       "      <td>1.623816</td>\n",
       "    </tr>\n",
       "    <tr>\n",
       "      <th>compiles</th>\n",
       "      <td>16</td>\n",
       "      <td>0.721696</td>\n",
       "    </tr>\n",
       "    <tr>\n",
       "      <th>isPartOf</th>\n",
       "      <td>14</td>\n",
       "      <td>0.631484</td>\n",
       "    </tr>\n",
       "    <tr>\n",
       "      <th>isNewVersionOf</th>\n",
       "      <td>11</td>\n",
       "      <td>0.496166</td>\n",
       "    </tr>\n",
       "    <tr>\n",
       "      <th>isSourceOf</th>\n",
       "      <td>11</td>\n",
       "      <td>0.496166</td>\n",
       "    </tr>\n",
       "    <tr>\n",
       "      <th>requires</th>\n",
       "      <td>9</td>\n",
       "      <td>0.405954</td>\n",
       "    </tr>\n",
       "    <tr>\n",
       "      <th>isIdenticalTo</th>\n",
       "      <td>8</td>\n",
       "      <td>0.360848</td>\n",
       "    </tr>\n",
       "    <tr>\n",
       "      <th>isContinuedBy</th>\n",
       "      <td>7</td>\n",
       "      <td>0.315742</td>\n",
       "    </tr>\n",
       "    <tr>\n",
       "      <th>isRequiredBy</th>\n",
       "      <td>6</td>\n",
       "      <td>0.270636</td>\n",
       "    </tr>\n",
       "    <tr>\n",
       "      <th>isPreviousVersionOf</th>\n",
       "      <td>5</td>\n",
       "      <td>0.225530</td>\n",
       "    </tr>\n",
       "    <tr>\n",
       "      <th>continues</th>\n",
       "      <td>4</td>\n",
       "      <td>0.180424</td>\n",
       "    </tr>\n",
       "    <tr>\n",
       "      <th>isPublishedIn</th>\n",
       "      <td>3</td>\n",
       "      <td>0.135318</td>\n",
       "    </tr>\n",
       "    <tr>\n",
       "      <th>documents</th>\n",
       "      <td>3</td>\n",
       "      <td>0.135318</td>\n",
       "    </tr>\n",
       "    <tr>\n",
       "      <th>isReviewedBy</th>\n",
       "      <td>1</td>\n",
       "      <td>0.045106</td>\n",
       "    </tr>\n",
       "  </tbody>\n",
       "</table>\n",
       "</div>"
      ],
      "text/plain": [
       "                        0    percent\n",
       "metadata                            \n",
       "isVersionOf          1886  85.069914\n",
       "isSupplementTo        719  32.431213\n",
       "cites                 329  14.839874\n",
       "isSupplementedBy       78   3.518268\n",
       "isDocumentedBy         75   3.382950\n",
       "isDerivedFrom          55   2.480830\n",
       "isCitedBy              52   2.345512\n",
       "isCompiledBy           43   1.939558\n",
       "references             38   1.714028\n",
       "isReferencedBy         37   1.668922\n",
       "hasPart                36   1.623816\n",
       "compiles               16   0.721696\n",
       "isPartOf               14   0.631484\n",
       "isNewVersionOf         11   0.496166\n",
       "isSourceOf             11   0.496166\n",
       "requires                9   0.405954\n",
       "isIdenticalTo           8   0.360848\n",
       "isContinuedBy           7   0.315742\n",
       "isRequiredBy            6   0.270636\n",
       "isPreviousVersionOf     5   0.225530\n",
       "continues               4   0.180424\n",
       "isPublishedIn           3   0.135318\n",
       "documents               3   0.135318\n",
       "isReviewedBy            1   0.045106"
      ]
     },
     "execution_count": 111,
     "metadata": {},
     "output_type": "execute_result"
    }
   ],
   "source": [
    "#group by file type to sum up related resources of same type within objects\n",
    "related_resource_types_ids_grouped = related_resource_types_ids.groupby('metadata').size().to_frame().sort_values(0, ascending = False)\n",
    "related_resource_types_ids_grouped['percent'] = related_resource_types_ids_grouped[0]/len(related_resource_types) * 100\n",
    "related_resource_types_ids_grouped"
   ]
  },
  {
   "cell_type": "markdown",
   "id": "8975767e",
   "metadata": {
    "pycharm": {
     "name": "#%% md\n"
    }
   },
   "source": [
    "\n",
    "## 23-25. If there is an entry for an object in one of the three properties (Original data URL, Primary manuscript PID/URL, and Related resource identifier) count as Related resources = True and then count the number of objects that return True.\n",
    "**Property:** Related Resource Identifier"
   ]
  },
  {
   "cell_type": "code",
   "execution_count": 112,
   "id": "9bfd4dfd",
   "metadata": {},
   "outputs": [],
   "source": [
    "related_resources_1 = df.ZenodoRecordsCrosswalk.original_data_url\n",
    "related_resources_2 = df.ZenodoRecordsCrosswalk.primary_manuscript\n",
    "related_resources_3 = df.ZenodoRecordsCrosswalk.related_resource_identifier"
   ]
  },
  {
   "cell_type": "code",
   "execution_count": 113,
   "id": "01776d1c",
   "metadata": {},
   "outputs": [
    {
     "name": "stdout",
     "output_type": "stream",
     "text": [
      "None\n"
     ]
    }
   ],
   "source": [
    "print(related_resources_1)"
   ]
  },
  {
   "cell_type": "code",
   "execution_count": 114,
   "id": "276fb3b2",
   "metadata": {},
   "outputs": [
    {
     "name": "stdout",
     "output_type": "stream",
     "text": [
      "1                                [10.5281/zenodo.5747172]\n",
      "3       [https://github.com/kratzert/multiple_forcing/...\n",
      "7                                [10.5281/zenodo.4456151]\n",
      "9       [https://github.com/cmu-delphi/covidcast-pnas/...\n",
      "10      [https://github.com/medipixel/rl_algorithms/tr...\n",
      "                              ...                        \n",
      "7935    [https://github.com/datapoet/hubminer/tree/v1....\n",
      "7938    [https://github.com/stefanfausser/neural-netwo...\n",
      "7939    [https://github.com/naturalis/nbclassify-data/...\n",
      "7942    [http://mlsec.org/malheur, https://github.com/...\n",
      "7949                                                 None\n",
      "Name: metadata, Length: 2217, dtype: object\n"
     ]
    }
   ],
   "source": [
    "print(related_resources_2)"
   ]
  },
  {
   "cell_type": "code",
   "execution_count": 115,
   "id": "6097adb4",
   "metadata": {},
   "outputs": [
    {
     "name": "stdout",
     "output_type": "stream",
     "text": [
      "1                                [10.5281/zenodo.5747172]\n",
      "3       [https://github.com/kratzert/multiple_forcing/...\n",
      "7                                [10.5281/zenodo.4456151]\n",
      "9       [https://github.com/cmu-delphi/covidcast-pnas/...\n",
      "10      [https://github.com/medipixel/rl_algorithms/tr...\n",
      "                              ...                        \n",
      "7935    [https://github.com/datapoet/hubminer/tree/v1....\n",
      "7938    [https://github.com/stefanfausser/neural-netwo...\n",
      "7939    [https://github.com/naturalis/nbclassify-data/...\n",
      "7942    [http://mlsec.org/malheur, https://github.com/...\n",
      "7949                                                 None\n",
      "Name: metadata, Length: 2217, dtype: object\n"
     ]
    }
   ],
   "source": [
    "print(related_resources_3)"
   ]
  },
  {
   "cell_type": "code",
   "execution_count": 116,
   "id": "ffc6d21b",
   "metadata": {},
   "outputs": [
    {
     "data": {
      "text/plain": [
       "True"
      ]
     },
     "execution_count": 116,
     "metadata": {},
     "output_type": "execute_result"
    }
   ],
   "source": [
    "#confirm that related_resources_2 and related_resources_3 are identical\n",
    "related_resources_2.equals(related_resources_3)"
   ]
  },
  {
   "cell_type": "code",
   "execution_count": 117,
   "id": "83d2bd27",
   "metadata": {},
   "outputs": [
    {
     "data": {
      "text/plain": [
       "2077"
      ]
     },
     "execution_count": 117,
     "metadata": {},
     "output_type": "execute_result"
    }
   ],
   "source": [
    "#how many are not none?\n",
    "len(pd.Series(filter(None, related_resources_3)))"
   ]
  },
  {
   "cell_type": "code",
   "execution_count": 118,
   "id": "b3bf2d14",
   "metadata": {},
   "outputs": [
    {
     "name": "stdout",
     "output_type": "stream",
     "text": [
      "There are 2077 objects with a related resource link\n"
     ]
    }
   ],
   "source": [
    "print(f'There are {len(pd.Series(filter(None, related_resources_3)))} objects with a related resource link')"
   ]
  },
  {
   "cell_type": "markdown",
   "id": "a5b237a2",
   "metadata": {
    "pycharm": {
     "name": "#%% md\n"
    }
   },
   "source": [
    "## 23-25. Also, what is the mean number of related resource links per object (again looking at the three properties (Original data URL, Primary manuscript PID/URL, nd Related resource identifier)?\n",
    "**Property:** Related Resource Identifier"
   ]
  },
  {
   "cell_type": "markdown",
   "id": "cdf1b9e7",
   "metadata": {},
   "source": [
    "In this case, all objects have at least one related resource, so no need to subset to only objects with related resources, in order to calculate mean/median number of related resources."
   ]
  },
  {
   "cell_type": "code",
   "execution_count": 119,
   "id": "39641fe1",
   "metadata": {
    "pycharm": {
     "name": "#%%\n"
    }
   },
   "outputs": [],
   "source": [
    "#function to count links\n",
    "def count_links(entry):\n",
    "    try:\n",
    "        return len(entry)\n",
    "    except TypeError:\n",
    "        return 0"
   ]
  },
  {
   "cell_type": "markdown",
   "id": "0777f8ce",
   "metadata": {},
   "source": [
    "Function `count_links` is expecting a list (in event of multiple links)"
   ]
  },
  {
   "cell_type": "code",
   "execution_count": 120,
   "id": "25fdcc71",
   "metadata": {},
   "outputs": [
    {
     "data": {
      "text/plain": [
       "0                                [10.5281/zenodo.5747172]\n",
       "1       [https://github.com/kratzert/multiple_forcing/...\n",
       "2                                [10.5281/zenodo.4456151]\n",
       "3       [https://github.com/cmu-delphi/covidcast-pnas/...\n",
       "4       [https://github.com/medipixel/rl_algorithms/tr...\n",
       "                              ...                        \n",
       "2072        [https://github.com/wavecake/housed1/tree/v1]\n",
       "2073    [https://github.com/datapoet/hubminer/tree/v1....\n",
       "2074    [https://github.com/stefanfausser/neural-netwo...\n",
       "2075    [https://github.com/naturalis/nbclassify-data/...\n",
       "2076    [http://mlsec.org/malheur, https://github.com/...\n",
       "Length: 2077, dtype: object"
      ]
     },
     "execution_count": 120,
     "metadata": {},
     "output_type": "execute_result"
    }
   ],
   "source": [
    "#only not none values\n",
    "rr_counts = pd.Series(filter(None, related_resources_3))\n",
    "rr_counts"
   ]
  },
  {
   "cell_type": "code",
   "execution_count": 121,
   "id": "10e62a80",
   "metadata": {},
   "outputs": [
    {
     "data": {
      "text/plain": [
       "0       1\n",
       "1       2\n",
       "2       1\n",
       "3       2\n",
       "4       2\n",
       "       ..\n",
       "2072    1\n",
       "2073    2\n",
       "2074    1\n",
       "2075    1\n",
       "2076    2\n",
       "Length: 2077, dtype: int64"
      ]
     },
     "execution_count": 121,
     "metadata": {},
     "output_type": "execute_result"
    }
   ],
   "source": [
    "#get links per object\n",
    "rr_counts_calc = rr_counts.apply(len)\n",
    "rr_counts_calc"
   ]
  },
  {
   "cell_type": "code",
   "execution_count": 122,
   "id": "a1186f4c",
   "metadata": {},
   "outputs": [
    {
     "data": {
      "text/plain": [
       "{'mean': 1.65912373615792, 'median': 1.0, 'max': 104}"
      ]
     },
     "execution_count": 122,
     "metadata": {},
     "output_type": "execute_result"
    }
   ],
   "source": [
    "#get summary statistics\n",
    "analysis.get_summary_statistics(rr_counts_calc)"
   ]
  },
  {
   "cell_type": "markdown",
   "id": "65e69040",
   "metadata": {
    "pycharm": {
     "name": "#%% md\n"
    }
   },
   "source": [
    "## 26. How many objects report each relation type? How many objects report multiple relation types, regardless of what those types are?\n",
    "**Property:** Related resource relation type"
   ]
  },
  {
   "cell_type": "code",
   "execution_count": 123,
   "id": "70a683a4",
   "metadata": {
    "pycharm": {
     "name": "#%%\n"
    }
   },
   "outputs": [
    {
     "data": {
      "text/plain": [
       "1                          [isVersionOf]\n",
       "3          [isSupplementTo, isVersionOf]\n",
       "7                          [isVersionOf]\n",
       "9          [isSupplementTo, isVersionOf]\n",
       "10         [isSupplementTo, isVersionOf]\n",
       "                      ...               \n",
       "7935       [isSupplementTo, isVersionOf]\n",
       "7938                    [isSupplementTo]\n",
       "7939                    [isSupplementTo]\n",
       "7942    [isSupplementTo, isSupplementTo]\n",
       "7949                                None\n",
       "Name: metadata, Length: 2217, dtype: object"
      ]
     },
     "execution_count": 123,
     "metadata": {},
     "output_type": "execute_result"
    }
   ],
   "source": [
    "relation_type = df.ZenodoRecordsCrosswalk.related_resource_relation_type\n",
    "relation_type"
   ]
  },
  {
   "cell_type": "markdown",
   "id": "705b6153",
   "metadata": {},
   "source": [
    "#### How many objects report each relation type?"
   ]
  },
  {
   "cell_type": "code",
   "execution_count": 124,
   "id": "6b1c1da1",
   "metadata": {
    "scrolled": true
   },
   "outputs": [
    {
     "data": {
      "text/html": [
       "<div>\n",
       "<style scoped>\n",
       "    .dataframe tbody tr th:only-of-type {\n",
       "        vertical-align: middle;\n",
       "    }\n",
       "\n",
       "    .dataframe tbody tr th {\n",
       "        vertical-align: top;\n",
       "    }\n",
       "\n",
       "    .dataframe thead th {\n",
       "        text-align: right;\n",
       "    }\n",
       "</style>\n",
       "<table border=\"1\" class=\"dataframe\">\n",
       "  <thead>\n",
       "    <tr style=\"text-align: right;\">\n",
       "      <th></th>\n",
       "      <th>id</th>\n",
       "      <th>metadata</th>\n",
       "    </tr>\n",
       "  </thead>\n",
       "  <tbody>\n",
       "    <tr>\n",
       "      <th>1</th>\n",
       "      <td>5747173</td>\n",
       "      <td>[isVersionOf]</td>\n",
       "    </tr>\n",
       "    <tr>\n",
       "      <th>3</th>\n",
       "      <td>4738770</td>\n",
       "      <td>[isSupplementTo, isVersionOf]</td>\n",
       "    </tr>\n",
       "    <tr>\n",
       "      <th>7</th>\n",
       "      <td>4456470</td>\n",
       "      <td>[isVersionOf]</td>\n",
       "    </tr>\n",
       "    <tr>\n",
       "      <th>9</th>\n",
       "      <td>5654850</td>\n",
       "      <td>[isSupplementTo, isVersionOf]</td>\n",
       "    </tr>\n",
       "    <tr>\n",
       "      <th>10</th>\n",
       "      <td>4547779</td>\n",
       "      <td>[isSupplementTo, isVersionOf]</td>\n",
       "    </tr>\n",
       "    <tr>\n",
       "      <th>12</th>\n",
       "      <td>4596407</td>\n",
       "      <td>[isSupplementTo, isVersionOf]</td>\n",
       "    </tr>\n",
       "    <tr>\n",
       "      <th>13</th>\n",
       "      <td>5515761</td>\n",
       "      <td>[isVersionOf]</td>\n",
       "    </tr>\n",
       "    <tr>\n",
       "      <th>14</th>\n",
       "      <td>5008068</td>\n",
       "      <td>[cites]</td>\n",
       "    </tr>\n",
       "    <tr>\n",
       "      <th>15</th>\n",
       "      <td>5541446</td>\n",
       "      <td>[isSupplementTo, isVersionOf]</td>\n",
       "    </tr>\n",
       "    <tr>\n",
       "      <th>20</th>\n",
       "      <td>4986399</td>\n",
       "      <td>[isSourceOf, isVersionOf]</td>\n",
       "    </tr>\n",
       "  </tbody>\n",
       "</table>\n",
       "</div>"
      ],
      "text/plain": [
       "         id                       metadata\n",
       "1   5747173                  [isVersionOf]\n",
       "3   4738770  [isSupplementTo, isVersionOf]\n",
       "7   4456470                  [isVersionOf]\n",
       "9   5654850  [isSupplementTo, isVersionOf]\n",
       "10  4547779  [isSupplementTo, isVersionOf]\n",
       "12  4596407  [isSupplementTo, isVersionOf]\n",
       "13  5515761                  [isVersionOf]\n",
       "14  5008068                        [cites]\n",
       "15  5541446  [isSupplementTo, isVersionOf]\n",
       "20  4986399      [isSourceOf, isVersionOf]"
      ]
     },
     "execution_count": 124,
     "metadata": {},
     "output_type": "execute_result"
    }
   ],
   "source": [
    "#add ID column to make easier to count by object\n",
    "relation_type_ids = pd.concat([ids, relation_type], axis = 1)\n",
    "relation_type_ids.head(10)"
   ]
  },
  {
   "cell_type": "code",
   "execution_count": 125,
   "id": "1c0158a6",
   "metadata": {
    "scrolled": true
   },
   "outputs": [
    {
     "data": {
      "text/html": [
       "<div>\n",
       "<style scoped>\n",
       "    .dataframe tbody tr th:only-of-type {\n",
       "        vertical-align: middle;\n",
       "    }\n",
       "\n",
       "    .dataframe tbody tr th {\n",
       "        vertical-align: top;\n",
       "    }\n",
       "\n",
       "    .dataframe thead th {\n",
       "        text-align: right;\n",
       "    }\n",
       "</style>\n",
       "<table border=\"1\" class=\"dataframe\">\n",
       "  <thead>\n",
       "    <tr style=\"text-align: right;\">\n",
       "      <th></th>\n",
       "      <th>id</th>\n",
       "      <th>metadata</th>\n",
       "    </tr>\n",
       "  </thead>\n",
       "  <tbody>\n",
       "    <tr>\n",
       "      <th>1</th>\n",
       "      <td>5747173</td>\n",
       "      <td>isVersionOf</td>\n",
       "    </tr>\n",
       "    <tr>\n",
       "      <th>3</th>\n",
       "      <td>4738770</td>\n",
       "      <td>isSupplementTo</td>\n",
       "    </tr>\n",
       "    <tr>\n",
       "      <th>3</th>\n",
       "      <td>4738770</td>\n",
       "      <td>isVersionOf</td>\n",
       "    </tr>\n",
       "    <tr>\n",
       "      <th>7</th>\n",
       "      <td>4456470</td>\n",
       "      <td>isVersionOf</td>\n",
       "    </tr>\n",
       "    <tr>\n",
       "      <th>9</th>\n",
       "      <td>5654850</td>\n",
       "      <td>isSupplementTo</td>\n",
       "    </tr>\n",
       "    <tr>\n",
       "      <th>9</th>\n",
       "      <td>5654850</td>\n",
       "      <td>isVersionOf</td>\n",
       "    </tr>\n",
       "    <tr>\n",
       "      <th>10</th>\n",
       "      <td>4547779</td>\n",
       "      <td>isSupplementTo</td>\n",
       "    </tr>\n",
       "    <tr>\n",
       "      <th>10</th>\n",
       "      <td>4547779</td>\n",
       "      <td>isVersionOf</td>\n",
       "    </tr>\n",
       "    <tr>\n",
       "      <th>12</th>\n",
       "      <td>4596407</td>\n",
       "      <td>isSupplementTo</td>\n",
       "    </tr>\n",
       "    <tr>\n",
       "      <th>12</th>\n",
       "      <td>4596407</td>\n",
       "      <td>isVersionOf</td>\n",
       "    </tr>\n",
       "  </tbody>\n",
       "</table>\n",
       "</div>"
      ],
      "text/plain": [
       "         id        metadata\n",
       "1   5747173     isVersionOf\n",
       "3   4738770  isSupplementTo\n",
       "3   4738770     isVersionOf\n",
       "7   4456470     isVersionOf\n",
       "9   5654850  isSupplementTo\n",
       "9   5654850     isVersionOf\n",
       "10  4547779  isSupplementTo\n",
       "10  4547779     isVersionOf\n",
       "12  4596407  isSupplementTo\n",
       "12  4596407     isVersionOf"
      ]
     },
     "execution_count": 125,
     "metadata": {},
     "output_type": "execute_result"
    }
   ],
   "source": [
    "#expand so each type within object is own row\n",
    "relation_type_ids = relation_type_ids.explode('metadata')\n",
    "relation_type_ids.head(10)"
   ]
  },
  {
   "cell_type": "code",
   "execution_count": 126,
   "id": "31786d33",
   "metadata": {
    "scrolled": true
   },
   "outputs": [
    {
     "data": {
      "text/html": [
       "<div>\n",
       "<style scoped>\n",
       "    .dataframe tbody tr th:only-of-type {\n",
       "        vertical-align: middle;\n",
       "    }\n",
       "\n",
       "    .dataframe tbody tr th {\n",
       "        vertical-align: top;\n",
       "    }\n",
       "\n",
       "    .dataframe thead th {\n",
       "        text-align: right;\n",
       "    }\n",
       "</style>\n",
       "<table border=\"1\" class=\"dataframe\">\n",
       "  <thead>\n",
       "    <tr style=\"text-align: right;\">\n",
       "      <th></th>\n",
       "      <th></th>\n",
       "      <th>0</th>\n",
       "    </tr>\n",
       "    <tr>\n",
       "      <th>metadata</th>\n",
       "      <th>id</th>\n",
       "      <th></th>\n",
       "    </tr>\n",
       "  </thead>\n",
       "  <tbody>\n",
       "    <tr>\n",
       "      <th rowspan=\"15\" valign=\"top\">references</th>\n",
       "      <th>3332712</th>\n",
       "      <td>1</td>\n",
       "    </tr>\n",
       "    <tr>\n",
       "      <th>808456</th>\n",
       "      <td>1</td>\n",
       "    </tr>\n",
       "    <tr>\n",
       "      <th>2535759</th>\n",
       "      <td>1</td>\n",
       "    </tr>\n",
       "    <tr>\n",
       "      <th>2558452</th>\n",
       "      <td>1</td>\n",
       "    </tr>\n",
       "    <tr>\n",
       "      <th>2634024</th>\n",
       "      <td>1</td>\n",
       "    </tr>\n",
       "    <tr>\n",
       "      <th>2669180</th>\n",
       "      <td>1</td>\n",
       "    </tr>\n",
       "    <tr>\n",
       "      <th>2669505</th>\n",
       "      <td>1</td>\n",
       "    </tr>\n",
       "    <tr>\n",
       "      <th>3601310</th>\n",
       "      <td>1</td>\n",
       "    </tr>\n",
       "    <tr>\n",
       "      <th>3842143</th>\n",
       "      <td>1</td>\n",
       "    </tr>\n",
       "    <tr>\n",
       "      <th>3984905</th>\n",
       "      <td>1</td>\n",
       "    </tr>\n",
       "    <tr>\n",
       "      <th>3992780</th>\n",
       "      <td>1</td>\n",
       "    </tr>\n",
       "    <tr>\n",
       "      <th>4434744</th>\n",
       "      <td>1</td>\n",
       "    </tr>\n",
       "    <tr>\n",
       "      <th>4662816</th>\n",
       "      <td>1</td>\n",
       "    </tr>\n",
       "    <tr>\n",
       "      <th>4686986</th>\n",
       "      <td>1</td>\n",
       "    </tr>\n",
       "    <tr>\n",
       "      <th>5070455</th>\n",
       "      <td>1</td>\n",
       "    </tr>\n",
       "    <tr>\n",
       "      <th rowspan=\"5\" valign=\"top\">requires</th>\n",
       "      <th>5084912</th>\n",
       "      <td>3</td>\n",
       "    </tr>\n",
       "    <tr>\n",
       "      <th>5245175</th>\n",
       "      <td>3</td>\n",
       "    </tr>\n",
       "    <tr>\n",
       "      <th>5164899</th>\n",
       "      <td>1</td>\n",
       "    </tr>\n",
       "    <tr>\n",
       "      <th>5504409</th>\n",
       "      <td>1</td>\n",
       "    </tr>\n",
       "    <tr>\n",
       "      <th>5655291</th>\n",
       "      <td>1</td>\n",
       "    </tr>\n",
       "  </tbody>\n",
       "</table>\n",
       "</div>"
      ],
      "text/plain": [
       "                    0\n",
       "metadata   id        \n",
       "references 3332712  1\n",
       "           808456   1\n",
       "           2535759  1\n",
       "           2558452  1\n",
       "           2634024  1\n",
       "           2669180  1\n",
       "           2669505  1\n",
       "           3601310  1\n",
       "           3842143  1\n",
       "           3984905  1\n",
       "           3992780  1\n",
       "           4434744  1\n",
       "           4662816  1\n",
       "           4686986  1\n",
       "           5070455  1\n",
       "requires   5084912  3\n",
       "           5245175  3\n",
       "           5164899  1\n",
       "           5504409  1\n",
       "           5655291  1"
      ]
     },
     "execution_count": 126,
     "metadata": {},
     "output_type": "execute_result"
    }
   ],
   "source": [
    "#group by relation type to sum up relations of same type within objects\n",
    "relation_type_ids_grouped = relation_type_ids.groupby('metadata').value_counts().to_frame()\n",
    "relation_type_ids_grouped.tail(20)"
   ]
  },
  {
   "cell_type": "code",
   "execution_count": 127,
   "id": "d85327bf",
   "metadata": {
    "scrolled": true
   },
   "outputs": [
    {
     "data": {
      "text/html": [
       "<div>\n",
       "<style scoped>\n",
       "    .dataframe tbody tr th:only-of-type {\n",
       "        vertical-align: middle;\n",
       "    }\n",
       "\n",
       "    .dataframe tbody tr th {\n",
       "        vertical-align: top;\n",
       "    }\n",
       "\n",
       "    .dataframe thead th {\n",
       "        text-align: right;\n",
       "    }\n",
       "</style>\n",
       "<table border=\"1\" class=\"dataframe\">\n",
       "  <thead>\n",
       "    <tr style=\"text-align: right;\">\n",
       "      <th></th>\n",
       "      <th></th>\n",
       "      <th>0</th>\n",
       "      <th>percent</th>\n",
       "    </tr>\n",
       "    <tr>\n",
       "      <th>metadata</th>\n",
       "      <th>0</th>\n",
       "      <th></th>\n",
       "      <th></th>\n",
       "    </tr>\n",
       "  </thead>\n",
       "  <tbody>\n",
       "    <tr>\n",
       "      <th>isVersionOf</th>\n",
       "      <th>1</th>\n",
       "      <td>1886</td>\n",
       "      <td>85.069914</td>\n",
       "    </tr>\n",
       "    <tr>\n",
       "      <th>isSupplementTo</th>\n",
       "      <th>1</th>\n",
       "      <td>654</td>\n",
       "      <td>29.499323</td>\n",
       "    </tr>\n",
       "    <tr>\n",
       "      <th>cites</th>\n",
       "      <th>1</th>\n",
       "      <td>128</td>\n",
       "      <td>5.773568</td>\n",
       "    </tr>\n",
       "    <tr>\n",
       "      <th>isDocumentedBy</th>\n",
       "      <th>1</th>\n",
       "      <td>47</td>\n",
       "      <td>2.119982</td>\n",
       "    </tr>\n",
       "    <tr>\n",
       "      <th>isCitedBy</th>\n",
       "      <th>1</th>\n",
       "      <td>36</td>\n",
       "      <td>1.623816</td>\n",
       "    </tr>\n",
       "    <tr>\n",
       "      <th>isDerivedFrom</th>\n",
       "      <th>1</th>\n",
       "      <td>33</td>\n",
       "      <td>1.488498</td>\n",
       "    </tr>\n",
       "    <tr>\n",
       "      <th>isSupplementedBy</th>\n",
       "      <th>1</th>\n",
       "      <td>24</td>\n",
       "      <td>1.082544</td>\n",
       "    </tr>\n",
       "    <tr>\n",
       "      <th>isReferencedBy</th>\n",
       "      <th>1</th>\n",
       "      <td>23</td>\n",
       "      <td>1.037438</td>\n",
       "    </tr>\n",
       "    <tr>\n",
       "      <th>isCompiledBy</th>\n",
       "      <th>1</th>\n",
       "      <td>21</td>\n",
       "      <td>0.947226</td>\n",
       "    </tr>\n",
       "    <tr>\n",
       "      <th>references</th>\n",
       "      <th>1</th>\n",
       "      <td>15</td>\n",
       "      <td>0.676590</td>\n",
       "    </tr>\n",
       "    <tr>\n",
       "      <th>isPartOf</th>\n",
       "      <th>1</th>\n",
       "      <td>11</td>\n",
       "      <td>0.496166</td>\n",
       "    </tr>\n",
       "    <tr>\n",
       "      <th>isNewVersionOf</th>\n",
       "      <th>1</th>\n",
       "      <td>11</td>\n",
       "      <td>0.496166</td>\n",
       "    </tr>\n",
       "    <tr>\n",
       "      <th>isSourceOf</th>\n",
       "      <th>1</th>\n",
       "      <td>11</td>\n",
       "      <td>0.496166</td>\n",
       "    </tr>\n",
       "    <tr>\n",
       "      <th>compiles</th>\n",
       "      <th>1</th>\n",
       "      <td>9</td>\n",
       "      <td>0.405954</td>\n",
       "    </tr>\n",
       "    <tr>\n",
       "      <th>hasPart</th>\n",
       "      <th>1</th>\n",
       "      <td>9</td>\n",
       "      <td>0.405954</td>\n",
       "    </tr>\n",
       "    <tr>\n",
       "      <th>isContinuedBy</th>\n",
       "      <th>1</th>\n",
       "      <td>7</td>\n",
       "      <td>0.315742</td>\n",
       "    </tr>\n",
       "    <tr>\n",
       "      <th>isRequiredBy</th>\n",
       "      <th>1</th>\n",
       "      <td>6</td>\n",
       "      <td>0.270636</td>\n",
       "    </tr>\n",
       "    <tr>\n",
       "      <th>isIdenticalTo</th>\n",
       "      <th>1</th>\n",
       "      <td>6</td>\n",
       "      <td>0.270636</td>\n",
       "    </tr>\n",
       "    <tr>\n",
       "      <th>isPreviousVersionOf</th>\n",
       "      <th>1</th>\n",
       "      <td>5</td>\n",
       "      <td>0.225530</td>\n",
       "    </tr>\n",
       "    <tr>\n",
       "      <th>continues</th>\n",
       "      <th>1</th>\n",
       "      <td>4</td>\n",
       "      <td>0.180424</td>\n",
       "    </tr>\n",
       "    <tr>\n",
       "      <th>documents</th>\n",
       "      <th>1</th>\n",
       "      <td>3</td>\n",
       "      <td>0.135318</td>\n",
       "    </tr>\n",
       "    <tr>\n",
       "      <th>isPublishedIn</th>\n",
       "      <th>1</th>\n",
       "      <td>3</td>\n",
       "      <td>0.135318</td>\n",
       "    </tr>\n",
       "    <tr>\n",
       "      <th>requires</th>\n",
       "      <th>1</th>\n",
       "      <td>3</td>\n",
       "      <td>0.135318</td>\n",
       "    </tr>\n",
       "    <tr>\n",
       "      <th>isReviewedBy</th>\n",
       "      <th>1</th>\n",
       "      <td>1</td>\n",
       "      <td>0.045106</td>\n",
       "    </tr>\n",
       "    <tr>\n",
       "      <th>isSupplementTo</th>\n",
       "      <th>2</th>\n",
       "      <td>28</td>\n",
       "      <td>1.262968</td>\n",
       "    </tr>\n",
       "    <tr>\n",
       "      <th>isSupplementedBy</th>\n",
       "      <th>2</th>\n",
       "      <td>10</td>\n",
       "      <td>0.451060</td>\n",
       "    </tr>\n",
       "    <tr>\n",
       "      <th>isDerivedFrom</th>\n",
       "      <th>2</th>\n",
       "      <td>9</td>\n",
       "      <td>0.405954</td>\n",
       "    </tr>\n",
       "    <tr>\n",
       "      <th>cites</th>\n",
       "      <th>2</th>\n",
       "      <td>7</td>\n",
       "      <td>0.315742</td>\n",
       "    </tr>\n",
       "    <tr>\n",
       "      <th>isDocumentedBy</th>\n",
       "      <th>2</th>\n",
       "      <td>7</td>\n",
       "      <td>0.315742</td>\n",
       "    </tr>\n",
       "    <tr>\n",
       "      <th>references</th>\n",
       "      <th>2</th>\n",
       "      <td>5</td>\n",
       "      <td>0.225530</td>\n",
       "    </tr>\n",
       "    <tr>\n",
       "      <th>isReferencedBy</th>\n",
       "      <th>2</th>\n",
       "      <td>4</td>\n",
       "      <td>0.180424</td>\n",
       "    </tr>\n",
       "    <tr>\n",
       "      <th>isCitedBy</th>\n",
       "      <th>2</th>\n",
       "      <td>3</td>\n",
       "      <td>0.135318</td>\n",
       "    </tr>\n",
       "    <tr>\n",
       "      <th>isCompiledBy</th>\n",
       "      <th>2</th>\n",
       "      <td>3</td>\n",
       "      <td>0.135318</td>\n",
       "    </tr>\n",
       "    <tr>\n",
       "      <th>compiles</th>\n",
       "      <th>2</th>\n",
       "      <td>2</td>\n",
       "      <td>0.090212</td>\n",
       "    </tr>\n",
       "    <tr>\n",
       "      <th>hasPart</th>\n",
       "      <th>2</th>\n",
       "      <td>2</td>\n",
       "      <td>0.090212</td>\n",
       "    </tr>\n",
       "    <tr>\n",
       "      <th>isIdenticalTo</th>\n",
       "      <th>2</th>\n",
       "      <td>1</td>\n",
       "      <td>0.045106</td>\n",
       "    </tr>\n",
       "    <tr>\n",
       "      <th>cites</th>\n",
       "      <th>3</th>\n",
       "      <td>7</td>\n",
       "      <td>0.315742</td>\n",
       "    </tr>\n",
       "    <tr>\n",
       "      <th>isSupplementedBy</th>\n",
       "      <th>3</th>\n",
       "      <td>5</td>\n",
       "      <td>0.225530</td>\n",
       "    </tr>\n",
       "    <tr>\n",
       "      <th>isCompiledBy</th>\n",
       "      <th>3</th>\n",
       "      <td>4</td>\n",
       "      <td>0.180424</td>\n",
       "    </tr>\n",
       "    <tr>\n",
       "      <th>isSupplementTo</th>\n",
       "      <th>3</th>\n",
       "      <td>3</td>\n",
       "      <td>0.135318</td>\n",
       "    </tr>\n",
       "    <tr>\n",
       "      <th>isReferencedBy</th>\n",
       "      <th>3</th>\n",
       "      <td>2</td>\n",
       "      <td>0.090212</td>\n",
       "    </tr>\n",
       "    <tr>\n",
       "      <th>requires</th>\n",
       "      <th>3</th>\n",
       "      <td>2</td>\n",
       "      <td>0.090212</td>\n",
       "    </tr>\n",
       "    <tr>\n",
       "      <th>isCitedBy</th>\n",
       "      <th>3</th>\n",
       "      <td>2</td>\n",
       "      <td>0.090212</td>\n",
       "    </tr>\n",
       "    <tr>\n",
       "      <th>isDocumentedBy</th>\n",
       "      <th>3</th>\n",
       "      <td>2</td>\n",
       "      <td>0.090212</td>\n",
       "    </tr>\n",
       "    <tr>\n",
       "      <th>isPartOf</th>\n",
       "      <th>3</th>\n",
       "      <td>1</td>\n",
       "      <td>0.045106</td>\n",
       "    </tr>\n",
       "    <tr>\n",
       "      <th>references</th>\n",
       "      <th>3</th>\n",
       "      <td>1</td>\n",
       "      <td>0.045106</td>\n",
       "    </tr>\n",
       "    <tr>\n",
       "      <th>compiles</th>\n",
       "      <th>3</th>\n",
       "      <td>1</td>\n",
       "      <td>0.045106</td>\n",
       "    </tr>\n",
       "    <tr>\n",
       "      <th>isSupplementedBy</th>\n",
       "      <th>4</th>\n",
       "      <td>3</td>\n",
       "      <td>0.135318</td>\n",
       "    </tr>\n",
       "    <tr>\n",
       "      <th>cites</th>\n",
       "      <th>4</th>\n",
       "      <td>2</td>\n",
       "      <td>0.090212</td>\n",
       "    </tr>\n",
       "    <tr>\n",
       "      <th>isCompiledBy</th>\n",
       "      <th>4</th>\n",
       "      <td>1</td>\n",
       "      <td>0.045106</td>\n",
       "    </tr>\n",
       "    <tr>\n",
       "      <th>isDerivedFrom</th>\n",
       "      <th>4</th>\n",
       "      <td>1</td>\n",
       "      <td>0.045106</td>\n",
       "    </tr>\n",
       "    <tr>\n",
       "      <th>isCitedBy</th>\n",
       "      <th>4</th>\n",
       "      <td>1</td>\n",
       "      <td>0.045106</td>\n",
       "    </tr>\n",
       "    <tr>\n",
       "      <th>references</th>\n",
       "      <th>5</th>\n",
       "      <td>2</td>\n",
       "      <td>0.090212</td>\n",
       "    </tr>\n",
       "    <tr>\n",
       "      <th>hasPart</th>\n",
       "      <th>5</th>\n",
       "      <td>2</td>\n",
       "      <td>0.090212</td>\n",
       "    </tr>\n",
       "    <tr>\n",
       "      <th>cites</th>\n",
       "      <th>5</th>\n",
       "      <td>1</td>\n",
       "      <td>0.045106</td>\n",
       "    </tr>\n",
       "    <tr>\n",
       "      <th>isSupplementedBy</th>\n",
       "      <th>7</th>\n",
       "      <td>1</td>\n",
       "      <td>0.045106</td>\n",
       "    </tr>\n",
       "    <tr>\n",
       "      <th>isDocumentedBy</th>\n",
       "      <th>8</th>\n",
       "      <td>1</td>\n",
       "      <td>0.045106</td>\n",
       "    </tr>\n",
       "    <tr>\n",
       "      <th>cites</th>\n",
       "      <th>9</th>\n",
       "      <td>1</td>\n",
       "      <td>0.045106</td>\n",
       "    </tr>\n",
       "    <tr>\n",
       "      <th>hasPart</th>\n",
       "      <th>13</th>\n",
       "      <td>1</td>\n",
       "      <td>0.045106</td>\n",
       "    </tr>\n",
       "    <tr>\n",
       "      <th rowspan=\"3\" valign=\"top\">cites</th>\n",
       "      <th>19</th>\n",
       "      <td>1</td>\n",
       "      <td>0.045106</td>\n",
       "    </tr>\n",
       "    <tr>\n",
       "      <th>22</th>\n",
       "      <td>1</td>\n",
       "      <td>0.045106</td>\n",
       "    </tr>\n",
       "    <tr>\n",
       "      <th>103</th>\n",
       "      <td>1</td>\n",
       "      <td>0.045106</td>\n",
       "    </tr>\n",
       "  </tbody>\n",
       "</table>\n",
       "</div>"
      ],
      "text/plain": [
       "                            0    percent\n",
       "metadata            0                   \n",
       "isVersionOf         1    1886  85.069914\n",
       "isSupplementTo      1     654  29.499323\n",
       "cites               1     128   5.773568\n",
       "isDocumentedBy      1      47   2.119982\n",
       "isCitedBy           1      36   1.623816\n",
       "isDerivedFrom       1      33   1.488498\n",
       "isSupplementedBy    1      24   1.082544\n",
       "isReferencedBy      1      23   1.037438\n",
       "isCompiledBy        1      21   0.947226\n",
       "references          1      15   0.676590\n",
       "isPartOf            1      11   0.496166\n",
       "isNewVersionOf      1      11   0.496166\n",
       "isSourceOf          1      11   0.496166\n",
       "compiles            1       9   0.405954\n",
       "hasPart             1       9   0.405954\n",
       "isContinuedBy       1       7   0.315742\n",
       "isRequiredBy        1       6   0.270636\n",
       "isIdenticalTo       1       6   0.270636\n",
       "isPreviousVersionOf 1       5   0.225530\n",
       "continues           1       4   0.180424\n",
       "documents           1       3   0.135318\n",
       "isPublishedIn       1       3   0.135318\n",
       "requires            1       3   0.135318\n",
       "isReviewedBy        1       1   0.045106\n",
       "isSupplementTo      2      28   1.262968\n",
       "isSupplementedBy    2      10   0.451060\n",
       "isDerivedFrom       2       9   0.405954\n",
       "cites               2       7   0.315742\n",
       "isDocumentedBy      2       7   0.315742\n",
       "references          2       5   0.225530\n",
       "isReferencedBy      2       4   0.180424\n",
       "isCitedBy           2       3   0.135318\n",
       "isCompiledBy        2       3   0.135318\n",
       "compiles            2       2   0.090212\n",
       "hasPart             2       2   0.090212\n",
       "isIdenticalTo       2       1   0.045106\n",
       "cites               3       7   0.315742\n",
       "isSupplementedBy    3       5   0.225530\n",
       "isCompiledBy        3       4   0.180424\n",
       "isSupplementTo      3       3   0.135318\n",
       "isReferencedBy      3       2   0.090212\n",
       "requires            3       2   0.090212\n",
       "isCitedBy           3       2   0.090212\n",
       "isDocumentedBy      3       2   0.090212\n",
       "isPartOf            3       1   0.045106\n",
       "references          3       1   0.045106\n",
       "compiles            3       1   0.045106\n",
       "isSupplementedBy    4       3   0.135318\n",
       "cites               4       2   0.090212\n",
       "isCompiledBy        4       1   0.045106\n",
       "isDerivedFrom       4       1   0.045106\n",
       "isCitedBy           4       1   0.045106\n",
       "references          5       2   0.090212\n",
       "hasPart             5       2   0.090212\n",
       "cites               5       1   0.045106\n",
       "isSupplementedBy    7       1   0.045106\n",
       "isDocumentedBy      8       1   0.045106\n",
       "cites               9       1   0.045106\n",
       "hasPart             13      1   0.045106\n",
       "cites               19      1   0.045106\n",
       "                    22      1   0.045106\n",
       "                    103     1   0.045106"
      ]
     },
     "execution_count": 127,
     "metadata": {},
     "output_type": "execute_result"
    }
   ],
   "source": [
    "#now sum up number of IDs within each relation group\n",
    "relation_type_ids_grouped = relation_type_ids_grouped.groupby('metadata').value_counts('id').to_frame()\n",
    "relation_type_ids_grouped['percent'] = relation_type_ids_grouped[0]/len(relation_type) * 100\n",
    "relation_type_ids_grouped"
   ]
  },
  {
   "cell_type": "markdown",
   "id": "5ce8e35e",
   "metadata": {},
   "source": [
    "#### How many objects report multiple relation types, regardless of what those types are?"
   ]
  },
  {
   "cell_type": "code",
   "execution_count": 128,
   "id": "1ddb3e02",
   "metadata": {},
   "outputs": [
    {
     "data": {
      "text/plain": [
       "1                          [isVersionOf]\n",
       "3          [isSupplementTo, isVersionOf]\n",
       "7                          [isVersionOf]\n",
       "9          [isSupplementTo, isVersionOf]\n",
       "10         [isSupplementTo, isVersionOf]\n",
       "                      ...               \n",
       "7935       [isSupplementTo, isVersionOf]\n",
       "7938                    [isSupplementTo]\n",
       "7939                    [isSupplementTo]\n",
       "7942    [isSupplementTo, isSupplementTo]\n",
       "7949                                  []\n",
       "Name: metadata, Length: 2217, dtype: object"
      ]
     },
     "execution_count": 128,
     "metadata": {},
     "output_type": "execute_result"
    }
   ],
   "source": [
    "#replace None values with empty list, 0 related resource types\n",
    "relation_type = relation_type.apply(lambda d: d if isinstance(d, list) else [])\n",
    "relation_type"
   ]
  },
  {
   "cell_type": "code",
   "execution_count": 129,
   "id": "342243cc",
   "metadata": {},
   "outputs": [
    {
     "data": {
      "text/plain": [
       "1       1\n",
       "3       2\n",
       "7       1\n",
       "9       2\n",
       "10      2\n",
       "       ..\n",
       "7935    2\n",
       "7938    1\n",
       "7939    1\n",
       "7942    2\n",
       "7949    0\n",
       "Name: metadata, Length: 2217, dtype: int64"
      ]
     },
     "execution_count": 129,
     "metadata": {},
     "output_type": "execute_result"
    }
   ],
   "source": [
    "relation_type_counts = relation_type.apply(len)\n",
    "relation_type_counts"
   ]
  },
  {
   "cell_type": "code",
   "execution_count": 130,
   "id": "f8811360",
   "metadata": {
    "scrolled": true
   },
   "outputs": [
    {
     "data": {
      "text/html": [
       "<div>\n",
       "<style scoped>\n",
       "    .dataframe tbody tr th:only-of-type {\n",
       "        vertical-align: middle;\n",
       "    }\n",
       "\n",
       "    .dataframe tbody tr th {\n",
       "        vertical-align: top;\n",
       "    }\n",
       "\n",
       "    .dataframe thead th {\n",
       "        text-align: right;\n",
       "    }\n",
       "</style>\n",
       "<table border=\"1\" class=\"dataframe\">\n",
       "  <thead>\n",
       "    <tr style=\"text-align: right;\">\n",
       "      <th></th>\n",
       "      <th>metadata</th>\n",
       "    </tr>\n",
       "  </thead>\n",
       "  <tbody>\n",
       "    <tr>\n",
       "      <th>1</th>\n",
       "      <td>1205</td>\n",
       "    </tr>\n",
       "    <tr>\n",
       "      <th>2</th>\n",
       "      <td>700</td>\n",
       "    </tr>\n",
       "    <tr>\n",
       "      <th>0</th>\n",
       "      <td>140</td>\n",
       "    </tr>\n",
       "    <tr>\n",
       "      <th>3</th>\n",
       "      <td>77</td>\n",
       "    </tr>\n",
       "    <tr>\n",
       "      <th>4</th>\n",
       "      <td>46</td>\n",
       "    </tr>\n",
       "    <tr>\n",
       "      <th>5</th>\n",
       "      <td>27</td>\n",
       "    </tr>\n",
       "    <tr>\n",
       "      <th>6</th>\n",
       "      <td>10</td>\n",
       "    </tr>\n",
       "    <tr>\n",
       "      <th>8</th>\n",
       "      <td>3</td>\n",
       "    </tr>\n",
       "    <tr>\n",
       "      <th>10</th>\n",
       "      <td>2</td>\n",
       "    </tr>\n",
       "    <tr>\n",
       "      <th>7</th>\n",
       "      <td>2</td>\n",
       "    </tr>\n",
       "    <tr>\n",
       "      <th>20</th>\n",
       "      <td>1</td>\n",
       "    </tr>\n",
       "    <tr>\n",
       "      <th>104</th>\n",
       "      <td>1</td>\n",
       "    </tr>\n",
       "    <tr>\n",
       "      <th>11</th>\n",
       "      <td>1</td>\n",
       "    </tr>\n",
       "    <tr>\n",
       "      <th>15</th>\n",
       "      <td>1</td>\n",
       "    </tr>\n",
       "    <tr>\n",
       "      <th>23</th>\n",
       "      <td>1</td>\n",
       "    </tr>\n",
       "  </tbody>\n",
       "</table>\n",
       "</div>"
      ],
      "text/plain": [
       "     metadata\n",
       "1        1205\n",
       "2         700\n",
       "0         140\n",
       "3          77\n",
       "4          46\n",
       "5          27\n",
       "6          10\n",
       "8           3\n",
       "10          2\n",
       "7           2\n",
       "20          1\n",
       "104         1\n",
       "11          1\n",
       "15          1\n",
       "23          1"
      ]
     },
     "execution_count": 130,
     "metadata": {},
     "output_type": "execute_result"
    }
   ],
   "source": [
    "#how many objects (second column) have a specified number of related resource types listed (first column)\n",
    "relation_type_counts.value_counts().to_frame()"
   ]
  },
  {
   "cell_type": "markdown",
   "id": "4942586d",
   "metadata": {
    "pycharm": {
     "name": "#%% md\n"
    }
   },
   "source": [
    "## 27. For repositories that store the full citation in a designated field, how many objects have a populated citation? How many objects have a citation and a URL or other actionable link?\n",
    "**Property:** Citation"
   ]
  },
  {
   "cell_type": "code",
   "execution_count": 131,
   "id": "0cd2f358",
   "metadata": {
    "pycharm": {
     "name": "#%%\n"
    }
   },
   "outputs": [],
   "source": [
    "citations = df.ZenodoRecordsCrosswalk.citation\n",
    "citations"
   ]
  },
  {
   "cell_type": "code",
   "execution_count": 132,
   "id": "2039b08d",
   "metadata": {},
   "outputs": [
    {
     "name": "stdout",
     "output_type": "stream",
     "text": [
      "None\n"
     ]
    }
   ],
   "source": [
    "#confirm missing in this repo\n",
    "print(df.ZenodoRecordsCrosswalk.citation)"
   ]
  }
 ],
 "metadata": {
  "kernelspec": {
   "display_name": "Python 3 (ipykernel)",
   "language": "python",
   "name": "python3"
  },
  "language_info": {
   "codemirror_mode": {
    "name": "ipython",
    "version": 3
   },
   "file_extension": ".py",
   "mimetype": "text/x-python",
   "name": "python",
   "nbconvert_exporter": "python",
   "pygments_lexer": "ipython3",
   "version": "3.10.0"
  }
 },
 "nbformat": 4,
 "nbformat_minor": 5
}
