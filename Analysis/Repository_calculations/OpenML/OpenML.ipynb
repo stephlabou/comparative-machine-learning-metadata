{
 "cells": [
  {
   "cell_type": "markdown",
   "id": "f743f8b9",
   "metadata": {
    "pycharm": {
     "name": "#%% md\n"
    }
   },
   "source": [
    "# Analysis Template Walkthrough"
   ]
  },
  {
   "cell_type": "markdown",
   "id": "3169bcdc",
   "metadata": {
    "pycharm": {
     "name": "#%% md\n"
    }
   },
   "source": [
    "# Setup"
   ]
  },
  {
   "cell_type": "markdown",
   "id": "eafc422e",
   "metadata": {
    "pycharm": {
     "name": "#%% md\n"
    }
   },
   "source": [
    "## Select extract\n",
    "In order for the template cells to query data from the correct repository, enter the repository name as `repository` and repository object type as `object_type`."
   ]
  },
  {
   "cell_type": "code",
   "execution_count": 1,
   "id": "5b514887",
   "metadata": {
    "pycharm": {
     "name": "#%%\n"
    }
   },
   "outputs": [],
   "source": [
    "repository = 'openml'\n",
    "object_type = 'datasets'"
   ]
  },
  {
   "cell_type": "code",
   "execution_count": 2,
   "id": "bbc3d50b",
   "metadata": {
    "pycharm": {
     "name": "#%%\n"
    }
   },
   "outputs": [],
   "source": [
    "import pandas as pd\n",
    "import numpy as np\n",
    "import re\n",
    "from pathlib import Path"
   ]
  },
  {
   "cell_type": "code",
   "execution_count": 3,
   "id": "dae44ae2",
   "metadata": {},
   "outputs": [],
   "source": [
    "#see more rows and columns of output\n",
    "pd.set_option('display.max_rows', 100)\n",
    "pd.set_option('display.max_columns', 100) "
   ]
  },
  {
   "cell_type": "markdown",
   "id": "886d5cc0",
   "metadata": {
    "pycharm": {
     "name": "#%% md\n"
    }
   },
   "source": [
    "## Helper Functions"
   ]
  },
  {
   "cell_type": "code",
   "execution_count": 4,
   "id": "6ed82337",
   "metadata": {
    "pycharm": {
     "name": "#%%\n"
    }
   },
   "outputs": [],
   "source": [
    "import os, sys\n",
    "dir2 = os.path.abspath('../')\n",
    "dir1 = os.path.dirname(dir2)\n",
    "if not dir1 in sys.path: sys.path.append(dir1)\n",
    "\n",
    "from utils import analysis\n",
    "from utils.crosswalk import RepositoryExtract, property_crosswalk\n",
    "from utils import accessors"
   ]
  },
  {
   "cell_type": "markdown",
   "id": "bf1c9090",
   "metadata": {
    "pycharm": {
     "name": "#%% md\n"
    }
   },
   "source": [
    "# Summary Statistic Walkthroughs"
   ]
  },
  {
   "cell_type": "markdown",
   "id": "1fe30803",
   "metadata": {},
   "source": [
    "Read in repository .json file"
   ]
  },
  {
   "cell_type": "code",
   "execution_count": 5,
   "id": "f71012d1",
   "metadata": {
    "pycharm": {
     "name": "#%%\n"
    }
   },
   "outputs": [],
   "source": [
    "df = pd.read_json(f'{repository}_{object_type}.json')"
   ]
  },
  {
   "cell_type": "code",
   "execution_count": 6,
   "id": "34391f24",
   "metadata": {
    "scrolled": true
   },
   "outputs": [
    {
     "data": {
      "text/html": [
       "<div>\n",
       "<style scoped>\n",
       "    .dataframe tbody tr th:only-of-type {\n",
       "        vertical-align: middle;\n",
       "    }\n",
       "\n",
       "    .dataframe tbody tr th {\n",
       "        vertical-align: top;\n",
       "    }\n",
       "\n",
       "    .dataframe thead th {\n",
       "        text-align: right;\n",
       "    }\n",
       "</style>\n",
       "<table border=\"1\" class=\"dataframe\">\n",
       "  <thead>\n",
       "    <tr style=\"text-align: right;\">\n",
       "      <th></th>\n",
       "      <th>did</th>\n",
       "      <th>name</th>\n",
       "      <th>version</th>\n",
       "      <th>uploader</th>\n",
       "      <th>status</th>\n",
       "      <th>format</th>\n",
       "      <th>MajorityClassSize</th>\n",
       "      <th>MaxNominalAttDistinctValues</th>\n",
       "      <th>MinorityClassSize</th>\n",
       "      <th>NumberOfClasses</th>\n",
       "      <th>NumberOfFeatures</th>\n",
       "      <th>NumberOfInstances</th>\n",
       "      <th>NumberOfInstancesWithMissingValues</th>\n",
       "      <th>NumberOfMissingValues</th>\n",
       "      <th>NumberOfNumericFeatures</th>\n",
       "      <th>NumberOfSymbolicFeatures</th>\n",
       "      <th>page</th>\n",
       "      <th>cache_format</th>\n",
       "      <th>citation</th>\n",
       "      <th>collection_date</th>\n",
       "      <th>contributor</th>\n",
       "      <th>creator</th>\n",
       "      <th>data_feather_file</th>\n",
       "      <th>data_file</th>\n",
       "      <th>data_pickle_file</th>\n",
       "      <th>dataset_id</th>\n",
       "      <th>default_target_attribute</th>\n",
       "      <th>description</th>\n",
       "      <th>feather_attribute_file</th>\n",
       "      <th>features</th>\n",
       "      <th>id</th>\n",
       "      <th>ignore_attribute</th>\n",
       "      <th>language</th>\n",
       "      <th>licence</th>\n",
       "      <th>md5_checksum</th>\n",
       "      <th>openml_url</th>\n",
       "      <th>original_data_url</th>\n",
       "      <th>paper_url</th>\n",
       "      <th>parquet_file</th>\n",
       "      <th>qualities</th>\n",
       "      <th>row_id_attribute</th>\n",
       "      <th>tag</th>\n",
       "      <th>update_comment</th>\n",
       "      <th>upload_date</th>\n",
       "      <th>url</th>\n",
       "      <th>version_label</th>\n",
       "      <th>visibility</th>\n",
       "      <th>num_downloads</th>\n",
       "      <th>num_runs</th>\n",
       "      <th>num_tasks</th>\n",
       "      <th>num_unique_downloads</th>\n",
       "      <th>task_ids</th>\n",
       "      <th>task_types</th>\n",
       "    </tr>\n",
       "  </thead>\n",
       "  <tbody>\n",
       "    <tr>\n",
       "      <th>0</th>\n",
       "      <td>2</td>\n",
       "      <td>anneal</td>\n",
       "      <td>1</td>\n",
       "      <td>1</td>\n",
       "      <td>active</td>\n",
       "      <td>ARFF</td>\n",
       "      <td>684.0</td>\n",
       "      <td>7.0</td>\n",
       "      <td>8.0</td>\n",
       "      <td>5.0</td>\n",
       "      <td>39.0</td>\n",
       "      <td>898.0</td>\n",
       "      <td>898.0</td>\n",
       "      <td>22175.0</td>\n",
       "      <td>6.0</td>\n",
       "      <td>33.0</td>\n",
       "      <td>1</td>\n",
       "      <td>pickle</td>\n",
       "      <td>https://archive.ics.uci.edu/ml/citation_policy...</td>\n",
       "      <td>1990</td>\n",
       "      <td>David Sterling and Wray Buntine</td>\n",
       "      <td>[David Sterling, Wray Buntine]</td>\n",
       "      <td>NaN</td>\n",
       "      <td>/Users/michaelbaluja/.openml/org/openml/www/da...</td>\n",
       "      <td>None</td>\n",
       "      <td>2.0</td>\n",
       "      <td>class</td>\n",
       "      <td>**Author**: Unknown. Donated by David Sterling...</td>\n",
       "      <td>NaN</td>\n",
       "      <td>{'0': {'LEGAL_DATA_TYPES': ['nominal', 'numeri...</td>\n",
       "      <td>2.0</td>\n",
       "      <td>None</td>\n",
       "      <td>English</td>\n",
       "      <td>Public</td>\n",
       "      <td>4eaed8b6ec9d8211024b6c089b064761</td>\n",
       "      <td>https://www.openml.org/d/2</td>\n",
       "      <td>https://archive.ics.uci.edu/ml/datasets/Annealing</td>\n",
       "      <td>None</td>\n",
       "      <td>None</td>\n",
       "      <td>{'AutoCorrelation': 0.6064659978, 'CfsSubsetEv...</td>\n",
       "      <td>None</td>\n",
       "      <td>[study_1, study_14, study_34, study_37, study_...</td>\n",
       "      <td>NaN</td>\n",
       "      <td>2014-04-06T23:19:24</td>\n",
       "      <td>https://www.openml.org/data/v1/download/166687...</td>\n",
       "      <td>1</td>\n",
       "      <td>public</td>\n",
       "      <td>16.0</td>\n",
       "      <td>13779.0</td>\n",
       "      <td>51.0</td>\n",
       "      <td>19.0</td>\n",
       "      <td>[2, 232, 1766, 1882, 7286, 145952, 1945, 23309...</td>\n",
       "      <td>[Supervised Classification, Supervised Classif...</td>\n",
       "    </tr>\n",
       "    <tr>\n",
       "      <th>1</th>\n",
       "      <td>3</td>\n",
       "      <td>kr-vs-kp</td>\n",
       "      <td>1</td>\n",
       "      <td>1</td>\n",
       "      <td>active</td>\n",
       "      <td>ARFF</td>\n",
       "      <td>1669.0</td>\n",
       "      <td>3.0</td>\n",
       "      <td>1527.0</td>\n",
       "      <td>2.0</td>\n",
       "      <td>37.0</td>\n",
       "      <td>3196.0</td>\n",
       "      <td>0.0</td>\n",
       "      <td>0.0</td>\n",
       "      <td>0.0</td>\n",
       "      <td>37.0</td>\n",
       "      <td>1</td>\n",
       "      <td>pickle</td>\n",
       "      <td>https://archive.ics.uci.edu/ml/citation_policy...</td>\n",
       "      <td>1989-08-01</td>\n",
       "      <td>Rob Holte</td>\n",
       "      <td>Alen Shapiro</td>\n",
       "      <td>NaN</td>\n",
       "      <td>/Users/michaelbaluja/.openml/org/openml/www/da...</td>\n",
       "      <td>None</td>\n",
       "      <td>3.0</td>\n",
       "      <td>class</td>\n",
       "      <td>Author: Alen Shapiro\\nSource: [UCI](https://ar...</td>\n",
       "      <td>NaN</td>\n",
       "      <td>{'0': {'LEGAL_DATA_TYPES': ['nominal', 'numeri...</td>\n",
       "      <td>3.0</td>\n",
       "      <td>None</td>\n",
       "      <td>English</td>\n",
       "      <td>Public</td>\n",
       "      <td>ad6eb32b7492524d4382a40e23cdbb8e</td>\n",
       "      <td>https://www.openml.org/d/3</td>\n",
       "      <td>https://archive.ics.uci.edu/ml/datasets/Chess+...</td>\n",
       "      <td>https://dl.acm.org/doi/abs/10.5555/32231</td>\n",
       "      <td>None</td>\n",
       "      <td>{'AutoCorrelation': 0.9990610329, 'CfsSubsetEv...</td>\n",
       "      <td>None</td>\n",
       "      <td>[mythbusting_1, OpenML-CC18, OpenML100, study_...</td>\n",
       "      <td>NaN</td>\n",
       "      <td>2014-04-06T23:19:28</td>\n",
       "      <td>https://www.openml.org/data/v1/download/3/kr-v...</td>\n",
       "      <td>1</td>\n",
       "      <td>public</td>\n",
       "      <td>44.0</td>\n",
       "      <td>274200.0</td>\n",
       "      <td>41.0</td>\n",
       "      <td>56.0</td>\n",
       "      <td>[3, 145953, 1767, 233, 1883, 317602, 233091, 1...</td>\n",
       "      <td>[Supervised Classification, Supervised Classif...</td>\n",
       "    </tr>\n",
       "    <tr>\n",
       "      <th>2</th>\n",
       "      <td>4</td>\n",
       "      <td>labor</td>\n",
       "      <td>1</td>\n",
       "      <td>1</td>\n",
       "      <td>active</td>\n",
       "      <td>ARFF</td>\n",
       "      <td>37.0</td>\n",
       "      <td>3.0</td>\n",
       "      <td>20.0</td>\n",
       "      <td>2.0</td>\n",
       "      <td>17.0</td>\n",
       "      <td>57.0</td>\n",
       "      <td>56.0</td>\n",
       "      <td>326.0</td>\n",
       "      <td>8.0</td>\n",
       "      <td>9.0</td>\n",
       "      <td>1</td>\n",
       "      <td>pickle</td>\n",
       "      <td>https://archive.ics.uci.edu/ml/citation_policy...</td>\n",
       "      <td>1988-11-01</td>\n",
       "      <td>Stan Matwin</td>\n",
       "      <td>Collective Bargaining Review of Labour Canada</td>\n",
       "      <td>NaN</td>\n",
       "      <td>/Users/michaelbaluja/.openml/org/openml/www/da...</td>\n",
       "      <td>None</td>\n",
       "      <td>4.0</td>\n",
       "      <td>class</td>\n",
       "      <td>**Author**: Unknown\\n**Source**: Collective Ba...</td>\n",
       "      <td>NaN</td>\n",
       "      <td>{'0': {'LEGAL_DATA_TYPES': ['nominal', 'numeri...</td>\n",
       "      <td>4.0</td>\n",
       "      <td>None</td>\n",
       "      <td>English</td>\n",
       "      <td>Public</td>\n",
       "      <td>e013a5e0acb7e141d169198a55b22c51</td>\n",
       "      <td>https://www.openml.org/d/4</td>\n",
       "      <td>https://archive.ics.uci.edu/ml/datasets/Labor+...</td>\n",
       "      <td>http://citeseerx.ist.psu.edu/viewdoc/summary?d...</td>\n",
       "      <td>None</td>\n",
       "      <td>{'AutoCorrelation': 0.75, 'CfsSubsetEval_Decis...</td>\n",
       "      <td>None</td>\n",
       "      <td>[mythbusting_1, study_1, study_15, study_20, s...</td>\n",
       "      <td>NaN</td>\n",
       "      <td>2014-04-06T23:19:30</td>\n",
       "      <td>https://www.openml.org/data/v1/download/4/labo...</td>\n",
       "      <td>1</td>\n",
       "      <td>public</td>\n",
       "      <td>17.0</td>\n",
       "      <td>7681.0</td>\n",
       "      <td>29.0</td>\n",
       "      <td>17.0</td>\n",
       "      <td>[4, 1768, 234, 1884, 145954, 1946, 64, 1703, 1...</td>\n",
       "      <td>[Supervised Classification, Supervised Classif...</td>\n",
       "    </tr>\n",
       "    <tr>\n",
       "      <th>3</th>\n",
       "      <td>5</td>\n",
       "      <td>arrhythmia</td>\n",
       "      <td>1</td>\n",
       "      <td>1</td>\n",
       "      <td>active</td>\n",
       "      <td>ARFF</td>\n",
       "      <td>245.0</td>\n",
       "      <td>13.0</td>\n",
       "      <td>2.0</td>\n",
       "      <td>13.0</td>\n",
       "      <td>280.0</td>\n",
       "      <td>452.0</td>\n",
       "      <td>384.0</td>\n",
       "      <td>408.0</td>\n",
       "      <td>206.0</td>\n",
       "      <td>74.0</td>\n",
       "      <td>1</td>\n",
       "      <td>pickle</td>\n",
       "      <td>https://archive.ics.uci.edu/ml/citation_policy...</td>\n",
       "      <td>1998-01-01</td>\n",
       "      <td>None</td>\n",
       "      <td>[H. Altay Guvenir, Burak Acar, Haldun Muderris...</td>\n",
       "      <td>NaN</td>\n",
       "      <td>/Users/michaelbaluja/.openml/org/openml/www/da...</td>\n",
       "      <td>None</td>\n",
       "      <td>5.0</td>\n",
       "      <td>class</td>\n",
       "      <td>**Author**: H. Altay Guvenir, Burak Acar, Hald...</td>\n",
       "      <td>NaN</td>\n",
       "      <td>{'0': {'LEGAL_DATA_TYPES': ['nominal', 'numeri...</td>\n",
       "      <td>5.0</td>\n",
       "      <td>None</td>\n",
       "      <td>None</td>\n",
       "      <td>Public</td>\n",
       "      <td>16b2e6fb5105155638cde38b2d117fac</td>\n",
       "      <td>https://www.openml.org/d/5</td>\n",
       "      <td>https://archive.ics.uci.edu/ml/datasets/arrhyt...</td>\n",
       "      <td>None</td>\n",
       "      <td>None</td>\n",
       "      <td>{'AutoCorrelation': 0.354767184, 'CfsSubsetEva...</td>\n",
       "      <td>None</td>\n",
       "      <td>[sport, study_1, study_41, study_76, study_93,...</td>\n",
       "      <td>NaN</td>\n",
       "      <td>2014-04-06T23:19:36</td>\n",
       "      <td>https://www.openml.org/data/v1/download/5/arrh...</td>\n",
       "      <td>1</td>\n",
       "      <td>public</td>\n",
       "      <td>50.0</td>\n",
       "      <td>4430.0</td>\n",
       "      <td>31.0</td>\n",
       "      <td>57.0</td>\n",
       "      <td>[5, 235, 1769, 1885, 145955, 1947, 233092, 65,...</td>\n",
       "      <td>[Supervised Classification, Supervised Classif...</td>\n",
       "    </tr>\n",
       "    <tr>\n",
       "      <th>4</th>\n",
       "      <td>6</td>\n",
       "      <td>letter</td>\n",
       "      <td>1</td>\n",
       "      <td>1</td>\n",
       "      <td>active</td>\n",
       "      <td>ARFF</td>\n",
       "      <td>813.0</td>\n",
       "      <td>26.0</td>\n",
       "      <td>734.0</td>\n",
       "      <td>26.0</td>\n",
       "      <td>17.0</td>\n",
       "      <td>20000.0</td>\n",
       "      <td>0.0</td>\n",
       "      <td>0.0</td>\n",
       "      <td>16.0</td>\n",
       "      <td>1.0</td>\n",
       "      <td>1</td>\n",
       "      <td>pickle</td>\n",
       "      <td>P. W. Frey and D. J. Slate. \"Letter Recognitio...</td>\n",
       "      <td>1991-01-01</td>\n",
       "      <td>None</td>\n",
       "      <td>David J. Slate</td>\n",
       "      <td>NaN</td>\n",
       "      <td>/Users/michaelbaluja/.openml/org/openml/www/da...</td>\n",
       "      <td>None</td>\n",
       "      <td>6.0</td>\n",
       "      <td>class</td>\n",
       "      <td>**Author**: David J. Slate  \\n**Source**: [UCI...</td>\n",
       "      <td>NaN</td>\n",
       "      <td>{'0': {'LEGAL_DATA_TYPES': ['nominal', 'numeri...</td>\n",
       "      <td>6.0</td>\n",
       "      <td>None</td>\n",
       "      <td>English</td>\n",
       "      <td>Public</td>\n",
       "      <td>9d8a79dccd72f429b67b88387e994db8</td>\n",
       "      <td>https://www.openml.org/d/6</td>\n",
       "      <td>https://archive.ics.uci.edu/ml/datasets/Letter...</td>\n",
       "      <td>https://link.springer.com/article/10.1007%252F...</td>\n",
       "      <td>None</td>\n",
       "      <td>{'AutoCorrelation': 0.0409020451, 'CfsSubsetEv...</td>\n",
       "      <td>None</td>\n",
       "      <td>[AzurePilot, AzurePilot1, OpenML-CC18, OpenML1...</td>\n",
       "      <td>NaN</td>\n",
       "      <td>2014-04-06T23:19:41</td>\n",
       "      <td>https://www.openml.org/data/v1/download/6/lett...</td>\n",
       "      <td>1</td>\n",
       "      <td>public</td>\n",
       "      <td>73.0</td>\n",
       "      <td>69569.0</td>\n",
       "      <td>132.0</td>\n",
       "      <td>89.0</td>\n",
       "      <td>[6, 1770, 236, 1886, 145956, 167150, 1705, 167...</td>\n",
       "      <td>[Supervised Classification, Supervised Classif...</td>\n",
       "    </tr>\n",
       "    <tr>\n",
       "      <th>...</th>\n",
       "      <td>...</td>\n",
       "      <td>...</td>\n",
       "      <td>...</td>\n",
       "      <td>...</td>\n",
       "      <td>...</td>\n",
       "      <td>...</td>\n",
       "      <td>...</td>\n",
       "      <td>...</td>\n",
       "      <td>...</td>\n",
       "      <td>...</td>\n",
       "      <td>...</td>\n",
       "      <td>...</td>\n",
       "      <td>...</td>\n",
       "      <td>...</td>\n",
       "      <td>...</td>\n",
       "      <td>...</td>\n",
       "      <td>...</td>\n",
       "      <td>...</td>\n",
       "      <td>...</td>\n",
       "      <td>...</td>\n",
       "      <td>...</td>\n",
       "      <td>...</td>\n",
       "      <td>...</td>\n",
       "      <td>...</td>\n",
       "      <td>...</td>\n",
       "      <td>...</td>\n",
       "      <td>...</td>\n",
       "      <td>...</td>\n",
       "      <td>...</td>\n",
       "      <td>...</td>\n",
       "      <td>...</td>\n",
       "      <td>...</td>\n",
       "      <td>...</td>\n",
       "      <td>...</td>\n",
       "      <td>...</td>\n",
       "      <td>...</td>\n",
       "      <td>...</td>\n",
       "      <td>...</td>\n",
       "      <td>...</td>\n",
       "      <td>...</td>\n",
       "      <td>...</td>\n",
       "      <td>...</td>\n",
       "      <td>...</td>\n",
       "      <td>...</td>\n",
       "      <td>...</td>\n",
       "      <td>...</td>\n",
       "      <td>...</td>\n",
       "      <td>...</td>\n",
       "      <td>...</td>\n",
       "      <td>...</td>\n",
       "      <td>...</td>\n",
       "      <td>...</td>\n",
       "      <td>...</td>\n",
       "    </tr>\n",
       "    <tr>\n",
       "      <th>3458</th>\n",
       "      <td>43119</td>\n",
       "      <td>white_wine1</td>\n",
       "      <td>1</td>\n",
       "      <td>28720</td>\n",
       "      <td>active</td>\n",
       "      <td>ARFF</td>\n",
       "      <td>NaN</td>\n",
       "      <td>NaN</td>\n",
       "      <td>NaN</td>\n",
       "      <td>NaN</td>\n",
       "      <td>4.0</td>\n",
       "      <td>78.0</td>\n",
       "      <td>0.0</td>\n",
       "      <td>0.0</td>\n",
       "      <td>3.0</td>\n",
       "      <td>1.0</td>\n",
       "      <td>1</td>\n",
       "      <td>pickle</td>\n",
       "      <td>None</td>\n",
       "      <td>None</td>\n",
       "      <td>None</td>\n",
       "      <td>None</td>\n",
       "      <td>NaN</td>\n",
       "      <td>/Users/michaelbaluja/.openml/org/openml/www/da...</td>\n",
       "      <td>None</td>\n",
       "      <td>43119.0</td>\n",
       "      <td>None</td>\n",
       "      <td>whitewine</td>\n",
       "      <td>NaN</td>\n",
       "      <td>{'0': {'LEGAL_DATA_TYPES': ['nominal', 'numeri...</td>\n",
       "      <td>43119.0</td>\n",
       "      <td>None</td>\n",
       "      <td>None</td>\n",
       "      <td>CC0</td>\n",
       "      <td>8da021409c887634001f77c2eeebeec4</td>\n",
       "      <td>https://www.openml.org/d/43119</td>\n",
       "      <td>None</td>\n",
       "      <td>None</td>\n",
       "      <td>None</td>\n",
       "      <td>{'AutoCorrelation': None, 'Dimensionality': 0....</td>\n",
       "      <td>None</td>\n",
       "      <td>None</td>\n",
       "      <td>NaN</td>\n",
       "      <td>2021-11-12T23:49:39</td>\n",
       "      <td>https://www.openml.org/data/v1/download/220479...</td>\n",
       "      <td>1</td>\n",
       "      <td>public</td>\n",
       "      <td>0.0</td>\n",
       "      <td>0.0</td>\n",
       "      <td>0.0</td>\n",
       "      <td>0.0</td>\n",
       "      <td>[]</td>\n",
       "      <td>[]</td>\n",
       "    </tr>\n",
       "    <tr>\n",
       "      <th>3459</th>\n",
       "      <td>43121</td>\n",
       "      <td>Porto_Seguro_Safe_Driver_Prediction_2nd_Place_...</td>\n",
       "      <td>1</td>\n",
       "      <td>28973</td>\n",
       "      <td>active</td>\n",
       "      <td>ARFF</td>\n",
       "      <td>NaN</td>\n",
       "      <td>NaN</td>\n",
       "      <td>NaN</td>\n",
       "      <td>0.0</td>\n",
       "      <td>224.0</td>\n",
       "      <td>595212.0</td>\n",
       "      <td>0.0</td>\n",
       "      <td>0.0</td>\n",
       "      <td>224.0</td>\n",
       "      <td>0.0</td>\n",
       "      <td>1</td>\n",
       "      <td>pickle</td>\n",
       "      <td>None</td>\n",
       "      <td>None</td>\n",
       "      <td>None</td>\n",
       "      <td>xiaozhouwang</td>\n",
       "      <td>NaN</td>\n",
       "      <td>/Users/michaelbaluja/.openml/org/openml/www/da...</td>\n",
       "      <td>None</td>\n",
       "      <td>43121.0</td>\n",
       "      <td>target</td>\n",
       "      <td>2nd Place Lightgbm Solution of Kaggle Porto Se...</td>\n",
       "      <td>NaN</td>\n",
       "      <td>{'0': {'LEGAL_DATA_TYPES': ['nominal', 'numeri...</td>\n",
       "      <td>43121.0</td>\n",
       "      <td>None</td>\n",
       "      <td>None</td>\n",
       "      <td>CC0</td>\n",
       "      <td>5c635974370ccf9bd58a467f0c05f0ec</td>\n",
       "      <td>https://www.openml.org/d/43121</td>\n",
       "      <td>https://www.kaggle.com/xiaozhouwang/2nd-place-...</td>\n",
       "      <td>None</td>\n",
       "      <td>None</td>\n",
       "      <td>{'AutoCorrelation': 0.9298568071000001, 'Dimen...</td>\n",
       "      <td>None</td>\n",
       "      <td>None</td>\n",
       "      <td>NaN</td>\n",
       "      <td>2021-12-05T07:54:08</td>\n",
       "      <td>https://www.openml.org/data/v1/download/221015...</td>\n",
       "      <td>1</td>\n",
       "      <td>public</td>\n",
       "      <td>0.0</td>\n",
       "      <td>0.0</td>\n",
       "      <td>0.0</td>\n",
       "      <td>0.0</td>\n",
       "      <td>[]</td>\n",
       "      <td>[]</td>\n",
       "    </tr>\n",
       "    <tr>\n",
       "      <th>3460</th>\n",
       "      <td>43122</td>\n",
       "      <td>Hyperplane</td>\n",
       "      <td>1</td>\n",
       "      <td>5348</td>\n",
       "      <td>active</td>\n",
       "      <td>ARFF</td>\n",
       "      <td>NaN</td>\n",
       "      <td>NaN</td>\n",
       "      <td>NaN</td>\n",
       "      <td>NaN</td>\n",
       "      <td>11.0</td>\n",
       "      <td>500000.0</td>\n",
       "      <td>0.0</td>\n",
       "      <td>0.0</td>\n",
       "      <td>10.0</td>\n",
       "      <td>1.0</td>\n",
       "      <td>1</td>\n",
       "      <td>pickle</td>\n",
       "      <td>B. Celik and J. Vanschoren, &amp;quot;Adaptation S...</td>\n",
       "      <td>None</td>\n",
       "      <td>None</td>\n",
       "      <td>Bilge Celik</td>\n",
       "      <td>NaN</td>\n",
       "      <td>/Users/michaelbaluja/.openml/org/openml/www/da...</td>\n",
       "      <td>None</td>\n",
       "      <td>43122.0</td>\n",
       "      <td>None</td>\n",
       "      <td>Rotating hyperplane is a stream generator that...</td>\n",
       "      <td>NaN</td>\n",
       "      <td>{'0': {'LEGAL_DATA_TYPES': ['nominal', 'numeri...</td>\n",
       "      <td>43122.0</td>\n",
       "      <td>None</td>\n",
       "      <td>None</td>\n",
       "      <td>CC0</td>\n",
       "      <td>ee463072f60688ae77c996f5a01c5e16</td>\n",
       "      <td>https://www.openml.org/d/43122</td>\n",
       "      <td>None</td>\n",
       "      <td>None</td>\n",
       "      <td>None</td>\n",
       "      <td>{'AutoCorrelation': None, 'Dimensionality': 2....</td>\n",
       "      <td>None</td>\n",
       "      <td>concept drift</td>\n",
       "      <td>NaN</td>\n",
       "      <td>2021-12-08T14:02:06</td>\n",
       "      <td>https://www.openml.org/data/v1/download/221015...</td>\n",
       "      <td>01</td>\n",
       "      <td>public</td>\n",
       "      <td>0.0</td>\n",
       "      <td>0.0</td>\n",
       "      <td>0.0</td>\n",
       "      <td>0.0</td>\n",
       "      <td>[]</td>\n",
       "      <td>[]</td>\n",
       "    </tr>\n",
       "    <tr>\n",
       "      <th>3461</th>\n",
       "      <td>43123</td>\n",
       "      <td>Diabetes(scikit-learn)</td>\n",
       "      <td>7</td>\n",
       "      <td>29044</td>\n",
       "      <td>active</td>\n",
       "      <td>arff</td>\n",
       "      <td>NaN</td>\n",
       "      <td>NaN</td>\n",
       "      <td>NaN</td>\n",
       "      <td>0.0</td>\n",
       "      <td>11.0</td>\n",
       "      <td>442.0</td>\n",
       "      <td>0.0</td>\n",
       "      <td>0.0</td>\n",
       "      <td>11.0</td>\n",
       "      <td>0.0</td>\n",
       "      <td>1</td>\n",
       "      <td>pickle</td>\n",
       "      <td>Bradley Efron, Trevor Hastie, Iain Johnstone a...</td>\n",
       "      <td>09-01-2012</td>\n",
       "      <td>None</td>\n",
       "      <td>Bradley Efron, Trevor Hastie, Iain Johnstone a...</td>\n",
       "      <td>NaN</td>\n",
       "      <td>/Users/michaelbaluja/.openml/org/openml/www/da...</td>\n",
       "      <td>None</td>\n",
       "      <td>43123.0</td>\n",
       "      <td>class</td>\n",
       "      <td>.. _diabetes_dataset:\\n\\nDiabetes dataset\\n---...</td>\n",
       "      <td>NaN</td>\n",
       "      <td>{'0': {'LEGAL_DATA_TYPES': ['nominal', 'numeri...</td>\n",
       "      <td>43123.0</td>\n",
       "      <td>None</td>\n",
       "      <td>English</td>\n",
       "      <td>BSD (from scikit-learn)</td>\n",
       "      <td>ebfe1062afda5b29a14d32aa48e5e571</td>\n",
       "      <td>https://www.openml.org/d/43123</td>\n",
       "      <td>https://www4.stat.ncsu.edu/~boos/var.select/di...</td>\n",
       "      <td>https://web.stanford.edu/~hastie/Papers/LARS/L...</td>\n",
       "      <td>None</td>\n",
       "      <td>{'AutoCorrelation': -84.6371882086, 'Dimension...</td>\n",
       "      <td>None</td>\n",
       "      <td>None</td>\n",
       "      <td>NaN</td>\n",
       "      <td>2021-12-09T13:15:11</td>\n",
       "      <td>https://www.openml.org/data/v1/download/221016...</td>\n",
       "      <td>test</td>\n",
       "      <td>public</td>\n",
       "      <td>0.0</td>\n",
       "      <td>0.0</td>\n",
       "      <td>0.0</td>\n",
       "      <td>0.0</td>\n",
       "      <td>[]</td>\n",
       "      <td>[]</td>\n",
       "    </tr>\n",
       "    <tr>\n",
       "      <th>3462</th>\n",
       "      <td>43127</td>\n",
       "      <td>mytestdataset</td>\n",
       "      <td>1</td>\n",
       "      <td>3229</td>\n",
       "      <td>active</td>\n",
       "      <td>arff</td>\n",
       "      <td>NaN</td>\n",
       "      <td>NaN</td>\n",
       "      <td>NaN</td>\n",
       "      <td>0.0</td>\n",
       "      <td>16.0</td>\n",
       "      <td>992.0</td>\n",
       "      <td>0.0</td>\n",
       "      <td>0.0</td>\n",
       "      <td>14.0</td>\n",
       "      <td>0.0</td>\n",
       "      <td>1</td>\n",
       "      <td>pickle</td>\n",
       "      <td>test citation</td>\n",
       "      <td>15-12-2021</td>\n",
       "      <td>None</td>\n",
       "      <td>test</td>\n",
       "      <td>NaN</td>\n",
       "      <td>/Users/michaelbaluja/.openml/org/openml/www/da...</td>\n",
       "      <td>None</td>\n",
       "      <td>43127.0</td>\n",
       "      <td>Exercice</td>\n",
       "      <td>une description</td>\n",
       "      <td>NaN</td>\n",
       "      <td>{'0': {'LEGAL_DATA_TYPES': ['nominal', 'numeri...</td>\n",
       "      <td>43127.0</td>\n",
       "      <td>None</td>\n",
       "      <td>English</td>\n",
       "      <td>BSD (from scikit-learn)</td>\n",
       "      <td>1da3741ae24f13e2ce52c742dd98e6ec</td>\n",
       "      <td>https://www.openml.org/d/43127</td>\n",
       "      <td>https://www4.stat.ncsu.edu/~boos/var.select/di...</td>\n",
       "      <td>test</td>\n",
       "      <td>None</td>\n",
       "      <td>{'AutoCorrelation': -0.7053481332, 'Dimensiona...</td>\n",
       "      <td>None</td>\n",
       "      <td>None</td>\n",
       "      <td>NaN</td>\n",
       "      <td>2021-12-15T17:36:49</td>\n",
       "      <td>https://www.openml.org/data/v1/download/221016...</td>\n",
       "      <td>test</td>\n",
       "      <td>public</td>\n",
       "      <td>0.0</td>\n",
       "      <td>0.0</td>\n",
       "      <td>0.0</td>\n",
       "      <td>0.0</td>\n",
       "      <td>[]</td>\n",
       "      <td>[]</td>\n",
       "    </tr>\n",
       "  </tbody>\n",
       "</table>\n",
       "<p>3463 rows × 53 columns</p>\n",
       "</div>"
      ],
      "text/plain": [
       "        did                                               name  version  \\\n",
       "0         2                                             anneal        1   \n",
       "1         3                                           kr-vs-kp        1   \n",
       "2         4                                              labor        1   \n",
       "3         5                                         arrhythmia        1   \n",
       "4         6                                             letter        1   \n",
       "...     ...                                                ...      ...   \n",
       "3458  43119                                        white_wine1        1   \n",
       "3459  43121  Porto_Seguro_Safe_Driver_Prediction_2nd_Place_...        1   \n",
       "3460  43122                                         Hyperplane        1   \n",
       "3461  43123                             Diabetes(scikit-learn)        7   \n",
       "3462  43127                                      mytestdataset        1   \n",
       "\n",
       "      uploader  status format  MajorityClassSize  MaxNominalAttDistinctValues  \\\n",
       "0            1  active   ARFF              684.0                          7.0   \n",
       "1            1  active   ARFF             1669.0                          3.0   \n",
       "2            1  active   ARFF               37.0                          3.0   \n",
       "3            1  active   ARFF              245.0                         13.0   \n",
       "4            1  active   ARFF              813.0                         26.0   \n",
       "...        ...     ...    ...                ...                          ...   \n",
       "3458     28720  active   ARFF                NaN                          NaN   \n",
       "3459     28973  active   ARFF                NaN                          NaN   \n",
       "3460      5348  active   ARFF                NaN                          NaN   \n",
       "3461     29044  active   arff                NaN                          NaN   \n",
       "3462      3229  active   arff                NaN                          NaN   \n",
       "\n",
       "      MinorityClassSize  NumberOfClasses  NumberOfFeatures  NumberOfInstances  \\\n",
       "0                   8.0              5.0              39.0              898.0   \n",
       "1                1527.0              2.0              37.0             3196.0   \n",
       "2                  20.0              2.0              17.0               57.0   \n",
       "3                   2.0             13.0             280.0              452.0   \n",
       "4                 734.0             26.0              17.0            20000.0   \n",
       "...                 ...              ...               ...                ...   \n",
       "3458                NaN              NaN               4.0               78.0   \n",
       "3459                NaN              0.0             224.0           595212.0   \n",
       "3460                NaN              NaN              11.0           500000.0   \n",
       "3461                NaN              0.0              11.0              442.0   \n",
       "3462                NaN              0.0              16.0              992.0   \n",
       "\n",
       "      NumberOfInstancesWithMissingValues  NumberOfMissingValues  \\\n",
       "0                                  898.0                22175.0   \n",
       "1                                    0.0                    0.0   \n",
       "2                                   56.0                  326.0   \n",
       "3                                  384.0                  408.0   \n",
       "4                                    0.0                    0.0   \n",
       "...                                  ...                    ...   \n",
       "3458                                 0.0                    0.0   \n",
       "3459                                 0.0                    0.0   \n",
       "3460                                 0.0                    0.0   \n",
       "3461                                 0.0                    0.0   \n",
       "3462                                 0.0                    0.0   \n",
       "\n",
       "      NumberOfNumericFeatures  NumberOfSymbolicFeatures  page cache_format  \\\n",
       "0                         6.0                      33.0     1       pickle   \n",
       "1                         0.0                      37.0     1       pickle   \n",
       "2                         8.0                       9.0     1       pickle   \n",
       "3                       206.0                      74.0     1       pickle   \n",
       "4                        16.0                       1.0     1       pickle   \n",
       "...                       ...                       ...   ...          ...   \n",
       "3458                      3.0                       1.0     1       pickle   \n",
       "3459                    224.0                       0.0     1       pickle   \n",
       "3460                     10.0                       1.0     1       pickle   \n",
       "3461                     11.0                       0.0     1       pickle   \n",
       "3462                     14.0                       0.0     1       pickle   \n",
       "\n",
       "                                               citation collection_date  \\\n",
       "0     https://archive.ics.uci.edu/ml/citation_policy...            1990   \n",
       "1     https://archive.ics.uci.edu/ml/citation_policy...      1989-08-01   \n",
       "2     https://archive.ics.uci.edu/ml/citation_policy...      1988-11-01   \n",
       "3     https://archive.ics.uci.edu/ml/citation_policy...      1998-01-01   \n",
       "4     P. W. Frey and D. J. Slate. \"Letter Recognitio...      1991-01-01   \n",
       "...                                                 ...             ...   \n",
       "3458                                               None            None   \n",
       "3459                                               None            None   \n",
       "3460  B. Celik and J. Vanschoren, &quot;Adaptation S...            None   \n",
       "3461  Bradley Efron, Trevor Hastie, Iain Johnstone a...      09-01-2012   \n",
       "3462                                      test citation      15-12-2021   \n",
       "\n",
       "                          contributor  \\\n",
       "0     David Sterling and Wray Buntine   \n",
       "1                           Rob Holte   \n",
       "2                         Stan Matwin   \n",
       "3                                None   \n",
       "4                                None   \n",
       "...                               ...   \n",
       "3458                             None   \n",
       "3459                             None   \n",
       "3460                             None   \n",
       "3461                             None   \n",
       "3462                             None   \n",
       "\n",
       "                                                creator  data_feather_file  \\\n",
       "0                        [David Sterling, Wray Buntine]                NaN   \n",
       "1                                          Alen Shapiro                NaN   \n",
       "2         Collective Bargaining Review of Labour Canada                NaN   \n",
       "3     [H. Altay Guvenir, Burak Acar, Haldun Muderris...                NaN   \n",
       "4                                        David J. Slate                NaN   \n",
       "...                                                 ...                ...   \n",
       "3458                                               None                NaN   \n",
       "3459                                       xiaozhouwang                NaN   \n",
       "3460                                        Bilge Celik                NaN   \n",
       "3461  Bradley Efron, Trevor Hastie, Iain Johnstone a...                NaN   \n",
       "3462                                               test                NaN   \n",
       "\n",
       "                                              data_file data_pickle_file  \\\n",
       "0     /Users/michaelbaluja/.openml/org/openml/www/da...             None   \n",
       "1     /Users/michaelbaluja/.openml/org/openml/www/da...             None   \n",
       "2     /Users/michaelbaluja/.openml/org/openml/www/da...             None   \n",
       "3     /Users/michaelbaluja/.openml/org/openml/www/da...             None   \n",
       "4     /Users/michaelbaluja/.openml/org/openml/www/da...             None   \n",
       "...                                                 ...              ...   \n",
       "3458  /Users/michaelbaluja/.openml/org/openml/www/da...             None   \n",
       "3459  /Users/michaelbaluja/.openml/org/openml/www/da...             None   \n",
       "3460  /Users/michaelbaluja/.openml/org/openml/www/da...             None   \n",
       "3461  /Users/michaelbaluja/.openml/org/openml/www/da...             None   \n",
       "3462  /Users/michaelbaluja/.openml/org/openml/www/da...             None   \n",
       "\n",
       "      dataset_id default_target_attribute  \\\n",
       "0            2.0                    class   \n",
       "1            3.0                    class   \n",
       "2            4.0                    class   \n",
       "3            5.0                    class   \n",
       "4            6.0                    class   \n",
       "...          ...                      ...   \n",
       "3458     43119.0                     None   \n",
       "3459     43121.0                   target   \n",
       "3460     43122.0                     None   \n",
       "3461     43123.0                    class   \n",
       "3462     43127.0                 Exercice   \n",
       "\n",
       "                                            description  \\\n",
       "0     **Author**: Unknown. Donated by David Sterling...   \n",
       "1     Author: Alen Shapiro\\nSource: [UCI](https://ar...   \n",
       "2     **Author**: Unknown\\n**Source**: Collective Ba...   \n",
       "3     **Author**: H. Altay Guvenir, Burak Acar, Hald...   \n",
       "4     **Author**: David J. Slate  \\n**Source**: [UCI...   \n",
       "...                                                 ...   \n",
       "3458                                          whitewine   \n",
       "3459  2nd Place Lightgbm Solution of Kaggle Porto Se...   \n",
       "3460  Rotating hyperplane is a stream generator that...   \n",
       "3461  .. _diabetes_dataset:\\n\\nDiabetes dataset\\n---...   \n",
       "3462                                    une description   \n",
       "\n",
       "      feather_attribute_file  \\\n",
       "0                        NaN   \n",
       "1                        NaN   \n",
       "2                        NaN   \n",
       "3                        NaN   \n",
       "4                        NaN   \n",
       "...                      ...   \n",
       "3458                     NaN   \n",
       "3459                     NaN   \n",
       "3460                     NaN   \n",
       "3461                     NaN   \n",
       "3462                     NaN   \n",
       "\n",
       "                                               features       id  \\\n",
       "0     {'0': {'LEGAL_DATA_TYPES': ['nominal', 'numeri...      2.0   \n",
       "1     {'0': {'LEGAL_DATA_TYPES': ['nominal', 'numeri...      3.0   \n",
       "2     {'0': {'LEGAL_DATA_TYPES': ['nominal', 'numeri...      4.0   \n",
       "3     {'0': {'LEGAL_DATA_TYPES': ['nominal', 'numeri...      5.0   \n",
       "4     {'0': {'LEGAL_DATA_TYPES': ['nominal', 'numeri...      6.0   \n",
       "...                                                 ...      ...   \n",
       "3458  {'0': {'LEGAL_DATA_TYPES': ['nominal', 'numeri...  43119.0   \n",
       "3459  {'0': {'LEGAL_DATA_TYPES': ['nominal', 'numeri...  43121.0   \n",
       "3460  {'0': {'LEGAL_DATA_TYPES': ['nominal', 'numeri...  43122.0   \n",
       "3461  {'0': {'LEGAL_DATA_TYPES': ['nominal', 'numeri...  43123.0   \n",
       "3462  {'0': {'LEGAL_DATA_TYPES': ['nominal', 'numeri...  43127.0   \n",
       "\n",
       "     ignore_attribute language                  licence  \\\n",
       "0                None  English                   Public   \n",
       "1                None  English                   Public   \n",
       "2                None  English                   Public   \n",
       "3                None     None                   Public   \n",
       "4                None  English                   Public   \n",
       "...               ...      ...                      ...   \n",
       "3458             None     None                      CC0   \n",
       "3459             None     None                      CC0   \n",
       "3460             None     None                      CC0   \n",
       "3461             None  English  BSD (from scikit-learn)   \n",
       "3462             None  English  BSD (from scikit-learn)   \n",
       "\n",
       "                          md5_checksum                      openml_url  \\\n",
       "0     4eaed8b6ec9d8211024b6c089b064761      https://www.openml.org/d/2   \n",
       "1     ad6eb32b7492524d4382a40e23cdbb8e      https://www.openml.org/d/3   \n",
       "2     e013a5e0acb7e141d169198a55b22c51      https://www.openml.org/d/4   \n",
       "3     16b2e6fb5105155638cde38b2d117fac      https://www.openml.org/d/5   \n",
       "4     9d8a79dccd72f429b67b88387e994db8      https://www.openml.org/d/6   \n",
       "...                                ...                             ...   \n",
       "3458  8da021409c887634001f77c2eeebeec4  https://www.openml.org/d/43119   \n",
       "3459  5c635974370ccf9bd58a467f0c05f0ec  https://www.openml.org/d/43121   \n",
       "3460  ee463072f60688ae77c996f5a01c5e16  https://www.openml.org/d/43122   \n",
       "3461  ebfe1062afda5b29a14d32aa48e5e571  https://www.openml.org/d/43123   \n",
       "3462  1da3741ae24f13e2ce52c742dd98e6ec  https://www.openml.org/d/43127   \n",
       "\n",
       "                                      original_data_url  \\\n",
       "0     https://archive.ics.uci.edu/ml/datasets/Annealing   \n",
       "1     https://archive.ics.uci.edu/ml/datasets/Chess+...   \n",
       "2     https://archive.ics.uci.edu/ml/datasets/Labor+...   \n",
       "3     https://archive.ics.uci.edu/ml/datasets/arrhyt...   \n",
       "4     https://archive.ics.uci.edu/ml/datasets/Letter...   \n",
       "...                                                 ...   \n",
       "3458                                               None   \n",
       "3459  https://www.kaggle.com/xiaozhouwang/2nd-place-...   \n",
       "3460                                               None   \n",
       "3461  https://www4.stat.ncsu.edu/~boos/var.select/di...   \n",
       "3462  https://www4.stat.ncsu.edu/~boos/var.select/di...   \n",
       "\n",
       "                                              paper_url parquet_file  \\\n",
       "0                                                  None         None   \n",
       "1              https://dl.acm.org/doi/abs/10.5555/32231         None   \n",
       "2     http://citeseerx.ist.psu.edu/viewdoc/summary?d...         None   \n",
       "3                                                  None         None   \n",
       "4     https://link.springer.com/article/10.1007%252F...         None   \n",
       "...                                                 ...          ...   \n",
       "3458                                               None         None   \n",
       "3459                                               None         None   \n",
       "3460                                               None         None   \n",
       "3461  https://web.stanford.edu/~hastie/Papers/LARS/L...         None   \n",
       "3462                                               test         None   \n",
       "\n",
       "                                              qualities row_id_attribute  \\\n",
       "0     {'AutoCorrelation': 0.6064659978, 'CfsSubsetEv...             None   \n",
       "1     {'AutoCorrelation': 0.9990610329, 'CfsSubsetEv...             None   \n",
       "2     {'AutoCorrelation': 0.75, 'CfsSubsetEval_Decis...             None   \n",
       "3     {'AutoCorrelation': 0.354767184, 'CfsSubsetEva...             None   \n",
       "4     {'AutoCorrelation': 0.0409020451, 'CfsSubsetEv...             None   \n",
       "...                                                 ...              ...   \n",
       "3458  {'AutoCorrelation': None, 'Dimensionality': 0....             None   \n",
       "3459  {'AutoCorrelation': 0.9298568071000001, 'Dimen...             None   \n",
       "3460  {'AutoCorrelation': None, 'Dimensionality': 2....             None   \n",
       "3461  {'AutoCorrelation': -84.6371882086, 'Dimension...             None   \n",
       "3462  {'AutoCorrelation': -0.7053481332, 'Dimensiona...             None   \n",
       "\n",
       "                                                    tag  update_comment  \\\n",
       "0     [study_1, study_14, study_34, study_37, study_...             NaN   \n",
       "1     [mythbusting_1, OpenML-CC18, OpenML100, study_...             NaN   \n",
       "2     [mythbusting_1, study_1, study_15, study_20, s...             NaN   \n",
       "3     [sport, study_1, study_41, study_76, study_93,...             NaN   \n",
       "4     [AzurePilot, AzurePilot1, OpenML-CC18, OpenML1...             NaN   \n",
       "...                                                 ...             ...   \n",
       "3458                                               None             NaN   \n",
       "3459                                               None             NaN   \n",
       "3460                                      concept drift             NaN   \n",
       "3461                                               None             NaN   \n",
       "3462                                               None             NaN   \n",
       "\n",
       "              upload_date                                                url  \\\n",
       "0     2014-04-06T23:19:24  https://www.openml.org/data/v1/download/166687...   \n",
       "1     2014-04-06T23:19:28  https://www.openml.org/data/v1/download/3/kr-v...   \n",
       "2     2014-04-06T23:19:30  https://www.openml.org/data/v1/download/4/labo...   \n",
       "3     2014-04-06T23:19:36  https://www.openml.org/data/v1/download/5/arrh...   \n",
       "4     2014-04-06T23:19:41  https://www.openml.org/data/v1/download/6/lett...   \n",
       "...                   ...                                                ...   \n",
       "3458  2021-11-12T23:49:39  https://www.openml.org/data/v1/download/220479...   \n",
       "3459  2021-12-05T07:54:08  https://www.openml.org/data/v1/download/221015...   \n",
       "3460  2021-12-08T14:02:06  https://www.openml.org/data/v1/download/221015...   \n",
       "3461  2021-12-09T13:15:11  https://www.openml.org/data/v1/download/221016...   \n",
       "3462  2021-12-15T17:36:49  https://www.openml.org/data/v1/download/221016...   \n",
       "\n",
       "     version_label visibility  num_downloads  num_runs  num_tasks  \\\n",
       "0                1     public           16.0   13779.0       51.0   \n",
       "1                1     public           44.0  274200.0       41.0   \n",
       "2                1     public           17.0    7681.0       29.0   \n",
       "3                1     public           50.0    4430.0       31.0   \n",
       "4                1     public           73.0   69569.0      132.0   \n",
       "...            ...        ...            ...       ...        ...   \n",
       "3458             1     public            0.0       0.0        0.0   \n",
       "3459             1     public            0.0       0.0        0.0   \n",
       "3460            01     public            0.0       0.0        0.0   \n",
       "3461          test     public            0.0       0.0        0.0   \n",
       "3462          test     public            0.0       0.0        0.0   \n",
       "\n",
       "      num_unique_downloads                                           task_ids  \\\n",
       "0                     19.0  [2, 232, 1766, 1882, 7286, 145952, 1945, 23309...   \n",
       "1                     56.0  [3, 145953, 1767, 233, 1883, 317602, 233091, 1...   \n",
       "2                     17.0  [4, 1768, 234, 1884, 145954, 1946, 64, 1703, 1...   \n",
       "3                     57.0  [5, 235, 1769, 1885, 145955, 1947, 233092, 65,...   \n",
       "4                     89.0  [6, 1770, 236, 1886, 145956, 167150, 1705, 167...   \n",
       "...                    ...                                                ...   \n",
       "3458                   0.0                                                 []   \n",
       "3459                   0.0                                                 []   \n",
       "3460                   0.0                                                 []   \n",
       "3461                   0.0                                                 []   \n",
       "3462                   0.0                                                 []   \n",
       "\n",
       "                                             task_types  \n",
       "0     [Supervised Classification, Supervised Classif...  \n",
       "1     [Supervised Classification, Supervised Classif...  \n",
       "2     [Supervised Classification, Supervised Classif...  \n",
       "3     [Supervised Classification, Supervised Classif...  \n",
       "4     [Supervised Classification, Supervised Classif...  \n",
       "...                                                 ...  \n",
       "3458                                                 []  \n",
       "3459                                                 []  \n",
       "3460                                                 []  \n",
       "3461                                                 []  \n",
       "3462                                                 []  \n",
       "\n",
       "[3463 rows x 53 columns]"
      ]
     },
     "execution_count": 6,
     "metadata": {},
     "output_type": "execute_result"
    }
   ],
   "source": [
    "df"
   ]
  },
  {
   "cell_type": "markdown",
   "id": "d8348ca0",
   "metadata": {
    "pycharm": {
     "name": "#%% md\n"
    }
   },
   "source": [
    "## 1. How many total objects (not just records) are in our main dataset extracts for each repository?\n",
    "**Property:** unique_identifier"
   ]
  },
  {
   "cell_type": "code",
   "execution_count": 7,
   "id": "582a1654",
   "metadata": {
    "pycharm": {
     "is_executing": true,
     "name": "#%%\n"
    }
   },
   "outputs": [],
   "source": [
    "ids = df.OpenMLDatasetsCrosswalk.unique_identifier"
   ]
  },
  {
   "cell_type": "code",
   "execution_count": 8,
   "id": "6043a507",
   "metadata": {},
   "outputs": [
    {
     "data": {
      "text/plain": [
       "0           2\n",
       "1           3\n",
       "2           4\n",
       "3           5\n",
       "4           6\n",
       "        ...  \n",
       "3458    43119\n",
       "3459    43121\n",
       "3460    43122\n",
       "3461    43123\n",
       "3462    43127\n",
       "Name: did, Length: 3463, dtype: int64"
      ]
     },
     "execution_count": 8,
     "metadata": {},
     "output_type": "execute_result"
    }
   ],
   "source": [
    "ids"
   ]
  },
  {
   "cell_type": "code",
   "execution_count": 9,
   "id": "143c1bbe",
   "metadata": {
    "pycharm": {
     "is_executing": true,
     "name": "#%%\n"
    }
   },
   "outputs": [
    {
     "data": {
      "text/plain": [
       "3461"
      ]
     },
     "execution_count": 9,
     "metadata": {},
     "output_type": "execute_result"
    }
   ],
   "source": [
    "ids.nunique()"
   ]
  },
  {
   "cell_type": "code",
   "execution_count": 10,
   "id": "008c3b36",
   "metadata": {},
   "outputs": [
    {
     "name": "stdout",
     "output_type": "stream",
     "text": [
      "There are 3463 items in the OpenML extract, with 3461 unique IDs.\n"
     ]
    }
   ],
   "source": [
    "print(f'There are {len(ids)} items in the OpenML extract, with {ids.nunique()} unique IDs.')"
   ]
  },
  {
   "cell_type": "code",
   "execution_count": 11,
   "id": "0db3759c",
   "metadata": {
    "scrolled": true
   },
   "outputs": [
    {
     "data": {
      "text/plain": [
       "1179     2\n",
       "1178     2\n",
       "4097     1\n",
       "4084     1\n",
       "4074     1\n",
       "        ..\n",
       "1471     1\n",
       "1472     1\n",
       "1473     1\n",
       "1475     1\n",
       "43127    1\n",
       "Name: did, Length: 3461, dtype: int64"
      ]
     },
     "execution_count": 11,
     "metadata": {},
     "output_type": "execute_result"
    }
   ],
   "source": [
    "#for the most part, each row is a unique object, except for two with duplicates\n",
    "ids.value_counts()"
   ]
  },
  {
   "cell_type": "code",
   "execution_count": 12,
   "id": "e7231795",
   "metadata": {},
   "outputs": [
    {
     "data": {
      "text/html": [
       "<div>\n",
       "<style scoped>\n",
       "    .dataframe tbody tr th:only-of-type {\n",
       "        vertical-align: middle;\n",
       "    }\n",
       "\n",
       "    .dataframe tbody tr th {\n",
       "        vertical-align: top;\n",
       "    }\n",
       "\n",
       "    .dataframe thead th {\n",
       "        text-align: right;\n",
       "    }\n",
       "</style>\n",
       "<table border=\"1\" class=\"dataframe\">\n",
       "  <thead>\n",
       "    <tr style=\"text-align: right;\">\n",
       "      <th></th>\n",
       "      <th>did</th>\n",
       "      <th>name</th>\n",
       "      <th>version</th>\n",
       "      <th>uploader</th>\n",
       "      <th>status</th>\n",
       "      <th>format</th>\n",
       "      <th>MajorityClassSize</th>\n",
       "      <th>MaxNominalAttDistinctValues</th>\n",
       "      <th>MinorityClassSize</th>\n",
       "      <th>NumberOfClasses</th>\n",
       "      <th>NumberOfFeatures</th>\n",
       "      <th>NumberOfInstances</th>\n",
       "      <th>NumberOfInstancesWithMissingValues</th>\n",
       "      <th>NumberOfMissingValues</th>\n",
       "      <th>NumberOfNumericFeatures</th>\n",
       "      <th>NumberOfSymbolicFeatures</th>\n",
       "      <th>page</th>\n",
       "      <th>cache_format</th>\n",
       "      <th>citation</th>\n",
       "      <th>collection_date</th>\n",
       "      <th>contributor</th>\n",
       "      <th>creator</th>\n",
       "      <th>data_feather_file</th>\n",
       "      <th>data_file</th>\n",
       "      <th>data_pickle_file</th>\n",
       "      <th>dataset_id</th>\n",
       "      <th>default_target_attribute</th>\n",
       "      <th>description</th>\n",
       "      <th>feather_attribute_file</th>\n",
       "      <th>features</th>\n",
       "      <th>id</th>\n",
       "      <th>ignore_attribute</th>\n",
       "      <th>language</th>\n",
       "      <th>licence</th>\n",
       "      <th>md5_checksum</th>\n",
       "      <th>openml_url</th>\n",
       "      <th>original_data_url</th>\n",
       "      <th>paper_url</th>\n",
       "      <th>parquet_file</th>\n",
       "      <th>qualities</th>\n",
       "      <th>row_id_attribute</th>\n",
       "      <th>tag</th>\n",
       "      <th>update_comment</th>\n",
       "      <th>upload_date</th>\n",
       "      <th>url</th>\n",
       "      <th>version_label</th>\n",
       "      <th>visibility</th>\n",
       "      <th>num_downloads</th>\n",
       "      <th>num_runs</th>\n",
       "      <th>num_tasks</th>\n",
       "      <th>num_unique_downloads</th>\n",
       "      <th>task_ids</th>\n",
       "      <th>task_types</th>\n",
       "    </tr>\n",
       "  </thead>\n",
       "  <tbody>\n",
       "    <tr>\n",
       "      <th>1003</th>\n",
       "      <td>1179</td>\n",
       "      <td>BNG(solar-flare)</td>\n",
       "      <td>1</td>\n",
       "      <td>1</td>\n",
       "      <td>active</td>\n",
       "      <td>ARFF</td>\n",
       "      <td>994382.0</td>\n",
       "      <td>8.0</td>\n",
       "      <td>1393.0</td>\n",
       "      <td>3.0</td>\n",
       "      <td>13.0</td>\n",
       "      <td>1000000.0</td>\n",
       "      <td>0.0</td>\n",
       "      <td>0.0</td>\n",
       "      <td>0.0</td>\n",
       "      <td>13.0</td>\n",
       "      <td>1</td>\n",
       "      <td>pickle</td>\n",
       "      <td>None</td>\n",
       "      <td>2014-11-12 12:13:19</td>\n",
       "      <td>None</td>\n",
       "      <td>[Geoffrey Holmes, Bernhard Pfahringer, Jan van...</td>\n",
       "      <td>NaN</td>\n",
       "      <td>/Users/michaelbaluja/.openml/org/openml/www/da...</td>\n",
       "      <td>None</td>\n",
       "      <td>1178.0</td>\n",
       "      <td>X-class_flares_production_by_this_region</td>\n",
       "      <td>None</td>\n",
       "      <td>NaN</td>\n",
       "      <td>{'0': {'LEGAL_DATA_TYPES': ['nominal', 'numeri...</td>\n",
       "      <td>1178.0</td>\n",
       "      <td>None</td>\n",
       "      <td>None</td>\n",
       "      <td>public domain</td>\n",
       "      <td>5dc14d82580d27f169aecdb1fc4b07ca</td>\n",
       "      <td>https://www.openml.org/d/1178</td>\n",
       "      <td>None</td>\n",
       "      <td>None</td>\n",
       "      <td>None</td>\n",
       "      <td>{'AutoCorrelation': 0.9550464094000001, 'CfsSu...</td>\n",
       "      <td>None</td>\n",
       "      <td>[artificial, BNG]</td>\n",
       "      <td>NaN</td>\n",
       "      <td>2014-11-12T12:13:14</td>\n",
       "      <td>https://www.openml.org/data/v1/download/150656...</td>\n",
       "      <td>None</td>\n",
       "      <td>public</td>\n",
       "      <td>3.0</td>\n",
       "      <td>90.0</td>\n",
       "      <td>22.0</td>\n",
       "      <td>3.0</td>\n",
       "      <td>[146087, 146385, 168071, 167713, 167355, 16848...</td>\n",
       "      <td>[Supervised Classification, Learning Curve, Le...</td>\n",
       "    </tr>\n",
       "    <tr>\n",
       "      <th>1004</th>\n",
       "      <td>1179</td>\n",
       "      <td>BNG(solar-flare)</td>\n",
       "      <td>1</td>\n",
       "      <td>1</td>\n",
       "      <td>active</td>\n",
       "      <td>ARFF</td>\n",
       "      <td>994382.0</td>\n",
       "      <td>8.0</td>\n",
       "      <td>1393.0</td>\n",
       "      <td>3.0</td>\n",
       "      <td>13.0</td>\n",
       "      <td>1000000.0</td>\n",
       "      <td>0.0</td>\n",
       "      <td>0.0</td>\n",
       "      <td>0.0</td>\n",
       "      <td>13.0</td>\n",
       "      <td>1</td>\n",
       "      <td>pickle</td>\n",
       "      <td>None</td>\n",
       "      <td>2014-11-12 12:13:28</td>\n",
       "      <td>None</td>\n",
       "      <td>[Geoffrey Holmes, Bernhard Pfahringer, Jan van...</td>\n",
       "      <td>NaN</td>\n",
       "      <td>/Users/michaelbaluja/.openml/org/openml/www/da...</td>\n",
       "      <td>None</td>\n",
       "      <td>1179.0</td>\n",
       "      <td>X-class_flares_production_by_this_region</td>\n",
       "      <td>None</td>\n",
       "      <td>NaN</td>\n",
       "      <td>{'0': {'LEGAL_DATA_TYPES': ['nominal', 'numeri...</td>\n",
       "      <td>1179.0</td>\n",
       "      <td>None</td>\n",
       "      <td>None</td>\n",
       "      <td>public domain</td>\n",
       "      <td>5d9fdf8c44970fc782cb21ef722bd236</td>\n",
       "      <td>https://www.openml.org/d/1179</td>\n",
       "      <td>None</td>\n",
       "      <td>None</td>\n",
       "      <td>None</td>\n",
       "      <td>{'AutoCorrelation': 0.9888189888000001, 'CfsSu...</td>\n",
       "      <td>None</td>\n",
       "      <td>[artificial, BNG, study_16]</td>\n",
       "      <td>NaN</td>\n",
       "      <td>2014-11-12T12:13:24</td>\n",
       "      <td>https://www.openml.org/data/v1/download/150657...</td>\n",
       "      <td>None</td>\n",
       "      <td>public</td>\n",
       "      <td>2.0</td>\n",
       "      <td>337.0</td>\n",
       "      <td>22.0</td>\n",
       "      <td>2.0</td>\n",
       "      <td>[146088, 146386, 168072, 167714, 167356, 16848...</td>\n",
       "      <td>[Supervised Classification, Learning Curve, Le...</td>\n",
       "    </tr>\n",
       "  </tbody>\n",
       "</table>\n",
       "</div>"
      ],
      "text/plain": [
       "       did              name  version  uploader  status format  \\\n",
       "1003  1179  BNG(solar-flare)        1         1  active   ARFF   \n",
       "1004  1179  BNG(solar-flare)        1         1  active   ARFF   \n",
       "\n",
       "      MajorityClassSize  MaxNominalAttDistinctValues  MinorityClassSize  \\\n",
       "1003           994382.0                          8.0             1393.0   \n",
       "1004           994382.0                          8.0             1393.0   \n",
       "\n",
       "      NumberOfClasses  NumberOfFeatures  NumberOfInstances  \\\n",
       "1003              3.0              13.0          1000000.0   \n",
       "1004              3.0              13.0          1000000.0   \n",
       "\n",
       "      NumberOfInstancesWithMissingValues  NumberOfMissingValues  \\\n",
       "1003                                 0.0                    0.0   \n",
       "1004                                 0.0                    0.0   \n",
       "\n",
       "      NumberOfNumericFeatures  NumberOfSymbolicFeatures  page cache_format  \\\n",
       "1003                      0.0                      13.0     1       pickle   \n",
       "1004                      0.0                      13.0     1       pickle   \n",
       "\n",
       "     citation      collection_date contributor  \\\n",
       "1003     None  2014-11-12 12:13:19        None   \n",
       "1004     None  2014-11-12 12:13:28        None   \n",
       "\n",
       "                                                creator  data_feather_file  \\\n",
       "1003  [Geoffrey Holmes, Bernhard Pfahringer, Jan van...                NaN   \n",
       "1004  [Geoffrey Holmes, Bernhard Pfahringer, Jan van...                NaN   \n",
       "\n",
       "                                              data_file data_pickle_file  \\\n",
       "1003  /Users/michaelbaluja/.openml/org/openml/www/da...             None   \n",
       "1004  /Users/michaelbaluja/.openml/org/openml/www/da...             None   \n",
       "\n",
       "      dataset_id                  default_target_attribute description  \\\n",
       "1003      1178.0  X-class_flares_production_by_this_region        None   \n",
       "1004      1179.0  X-class_flares_production_by_this_region        None   \n",
       "\n",
       "      feather_attribute_file  \\\n",
       "1003                     NaN   \n",
       "1004                     NaN   \n",
       "\n",
       "                                               features      id  \\\n",
       "1003  {'0': {'LEGAL_DATA_TYPES': ['nominal', 'numeri...  1178.0   \n",
       "1004  {'0': {'LEGAL_DATA_TYPES': ['nominal', 'numeri...  1179.0   \n",
       "\n",
       "     ignore_attribute language        licence  \\\n",
       "1003             None     None  public domain   \n",
       "1004             None     None  public domain   \n",
       "\n",
       "                          md5_checksum                     openml_url  \\\n",
       "1003  5dc14d82580d27f169aecdb1fc4b07ca  https://www.openml.org/d/1178   \n",
       "1004  5d9fdf8c44970fc782cb21ef722bd236  https://www.openml.org/d/1179   \n",
       "\n",
       "     original_data_url paper_url parquet_file  \\\n",
       "1003              None      None         None   \n",
       "1004              None      None         None   \n",
       "\n",
       "                                              qualities row_id_attribute  \\\n",
       "1003  {'AutoCorrelation': 0.9550464094000001, 'CfsSu...             None   \n",
       "1004  {'AutoCorrelation': 0.9888189888000001, 'CfsSu...             None   \n",
       "\n",
       "                              tag  update_comment          upload_date  \\\n",
       "1003            [artificial, BNG]             NaN  2014-11-12T12:13:14   \n",
       "1004  [artificial, BNG, study_16]             NaN  2014-11-12T12:13:24   \n",
       "\n",
       "                                                    url version_label  \\\n",
       "1003  https://www.openml.org/data/v1/download/150656...          None   \n",
       "1004  https://www.openml.org/data/v1/download/150657...          None   \n",
       "\n",
       "     visibility  num_downloads  num_runs  num_tasks  num_unique_downloads  \\\n",
       "1003     public            3.0      90.0       22.0                   3.0   \n",
       "1004     public            2.0     337.0       22.0                   2.0   \n",
       "\n",
       "                                               task_ids  \\\n",
       "1003  [146087, 146385, 168071, 167713, 167355, 16848...   \n",
       "1004  [146088, 146386, 168072, 167714, 167356, 16848...   \n",
       "\n",
       "                                             task_types  \n",
       "1003  [Supervised Classification, Learning Curve, Le...  \n",
       "1004  [Supervised Classification, Learning Curve, Le...  "
      ]
     },
     "execution_count": 12,
     "metadata": {},
     "output_type": "execute_result"
    }
   ],
   "source": [
    "#check this duplicate object\n",
    "dupes = df[df['did'] == 1179]\n",
    "dupes"
   ]
  },
  {
   "cell_type": "code",
   "execution_count": 13,
   "id": "aebdc497",
   "metadata": {},
   "outputs": [],
   "source": [
    "dupes1 = dupes.iloc[0]\n",
    "dupes2 = dupes.iloc[1]"
   ]
  },
  {
   "cell_type": "code",
   "execution_count": 14,
   "id": "db033f3f",
   "metadata": {
    "scrolled": true
   },
   "outputs": [
    {
     "data": {
      "text/plain": [
       "did                                                                                1179\n",
       "name                                                                   BNG(solar-flare)\n",
       "version                                                                               1\n",
       "uploader                                                                              1\n",
       "status                                                                           active\n",
       "format                                                                             ARFF\n",
       "MajorityClassSize                                                              994382.0\n",
       "MaxNominalAttDistinctValues                                                         8.0\n",
       "MinorityClassSize                                                                1393.0\n",
       "NumberOfClasses                                                                     3.0\n",
       "NumberOfFeatures                                                                   13.0\n",
       "NumberOfInstances                                                             1000000.0\n",
       "NumberOfInstancesWithMissingValues                                                  0.0\n",
       "NumberOfMissingValues                                                               0.0\n",
       "NumberOfNumericFeatures                                                             0.0\n",
       "NumberOfSymbolicFeatures                                                           13.0\n",
       "page                                                                                  1\n",
       "cache_format                                                                     pickle\n",
       "citation                                                                           None\n",
       "collection_date                                                     2014-11-12 12:13:19\n",
       "contributor                                                                        None\n",
       "creator                               [Geoffrey Holmes, Bernhard Pfahringer, Jan van...\n",
       "data_feather_file                                                                   NaN\n",
       "data_file                             /Users/michaelbaluja/.openml/org/openml/www/da...\n",
       "data_pickle_file                                                                   None\n",
       "dataset_id                                                                       1178.0\n",
       "default_target_attribute                       X-class_flares_production_by_this_region\n",
       "description                                                                        None\n",
       "feather_attribute_file                                                              NaN\n",
       "features                              {'0': {'LEGAL_DATA_TYPES': ['nominal', 'numeri...\n",
       "id                                                                               1178.0\n",
       "ignore_attribute                                                                   None\n",
       "language                                                                           None\n",
       "licence                                                                   public domain\n",
       "md5_checksum                                           5dc14d82580d27f169aecdb1fc4b07ca\n",
       "openml_url                                                https://www.openml.org/d/1178\n",
       "original_data_url                                                                  None\n",
       "paper_url                                                                          None\n",
       "parquet_file                                                                       None\n",
       "qualities                             {'AutoCorrelation': 0.9550464094000001, 'CfsSu...\n",
       "row_id_attribute                                                                   None\n",
       "tag                                                                   [artificial, BNG]\n",
       "update_comment                                                                      NaN\n",
       "upload_date                                                         2014-11-12T12:13:14\n",
       "url                                   https://www.openml.org/data/v1/download/150656...\n",
       "version_label                                                                      None\n",
       "visibility                                                                       public\n",
       "num_downloads                                                                       3.0\n",
       "num_runs                                                                           90.0\n",
       "num_tasks                                                                          22.0\n",
       "num_unique_downloads                                                                3.0\n",
       "task_ids                              [146087, 146385, 168071, 167713, 167355, 16848...\n",
       "task_types                            [Supervised Classification, Learning Curve, Le...\n",
       "Name: 1003, dtype: object"
      ]
     },
     "execution_count": 14,
     "metadata": {},
     "output_type": "execute_result"
    }
   ],
   "source": [
    "dupes1"
   ]
  },
  {
   "cell_type": "code",
   "execution_count": 15,
   "id": "8dd08791",
   "metadata": {
    "scrolled": true
   },
   "outputs": [
    {
     "data": {
      "text/plain": [
       "did                                                                                1179\n",
       "name                                                                   BNG(solar-flare)\n",
       "version                                                                               1\n",
       "uploader                                                                              1\n",
       "status                                                                           active\n",
       "format                                                                             ARFF\n",
       "MajorityClassSize                                                              994382.0\n",
       "MaxNominalAttDistinctValues                                                         8.0\n",
       "MinorityClassSize                                                                1393.0\n",
       "NumberOfClasses                                                                     3.0\n",
       "NumberOfFeatures                                                                   13.0\n",
       "NumberOfInstances                                                             1000000.0\n",
       "NumberOfInstancesWithMissingValues                                                  0.0\n",
       "NumberOfMissingValues                                                               0.0\n",
       "NumberOfNumericFeatures                                                             0.0\n",
       "NumberOfSymbolicFeatures                                                           13.0\n",
       "page                                                                                  1\n",
       "cache_format                                                                     pickle\n",
       "citation                                                                           None\n",
       "collection_date                                                     2014-11-12 12:13:28\n",
       "contributor                                                                        None\n",
       "creator                               [Geoffrey Holmes, Bernhard Pfahringer, Jan van...\n",
       "data_feather_file                                                                   NaN\n",
       "data_file                             /Users/michaelbaluja/.openml/org/openml/www/da...\n",
       "data_pickle_file                                                                   None\n",
       "dataset_id                                                                       1179.0\n",
       "default_target_attribute                       X-class_flares_production_by_this_region\n",
       "description                                                                        None\n",
       "feather_attribute_file                                                              NaN\n",
       "features                              {'0': {'LEGAL_DATA_TYPES': ['nominal', 'numeri...\n",
       "id                                                                               1179.0\n",
       "ignore_attribute                                                                   None\n",
       "language                                                                           None\n",
       "licence                                                                   public domain\n",
       "md5_checksum                                           5d9fdf8c44970fc782cb21ef722bd236\n",
       "openml_url                                                https://www.openml.org/d/1179\n",
       "original_data_url                                                                  None\n",
       "paper_url                                                                          None\n",
       "parquet_file                                                                       None\n",
       "qualities                             {'AutoCorrelation': 0.9888189888000001, 'CfsSu...\n",
       "row_id_attribute                                                                   None\n",
       "tag                                                         [artificial, BNG, study_16]\n",
       "update_comment                                                                      NaN\n",
       "upload_date                                                         2014-11-12T12:13:24\n",
       "url                                   https://www.openml.org/data/v1/download/150657...\n",
       "version_label                                                                      None\n",
       "visibility                                                                       public\n",
       "num_downloads                                                                       2.0\n",
       "num_runs                                                                          337.0\n",
       "num_tasks                                                                          22.0\n",
       "num_unique_downloads                                                                2.0\n",
       "task_ids                              [146088, 146386, 168072, 167714, 167356, 16848...\n",
       "task_types                            [Supervised Classification, Learning Curve, Le...\n",
       "Name: 1004, dtype: object"
      ]
     },
     "execution_count": 15,
     "metadata": {},
     "output_type": "execute_result"
    }
   ],
   "source": [
    "dupes2"
   ]
  },
  {
   "cell_type": "code",
   "execution_count": 16,
   "id": "b606bba5",
   "metadata": {},
   "outputs": [],
   "source": [
    "#quite a few differences here, but many of these are None of NaN"
   ]
  },
  {
   "cell_type": "code",
   "execution_count": 17,
   "id": "44d62e6c",
   "metadata": {},
   "outputs": [],
   "source": [
    "dupes1_clean = dupes1.dropna()\n",
    "dupes2_clean = dupes2.dropna()"
   ]
  },
  {
   "cell_type": "code",
   "execution_count": 18,
   "id": "8573b782",
   "metadata": {
    "scrolled": true
   },
   "outputs": [
    {
     "data": {
      "text/plain": [
       "did                                    True\n",
       "name                                   True\n",
       "version                                True\n",
       "uploader                               True\n",
       "status                                 True\n",
       "format                                 True\n",
       "MajorityClassSize                      True\n",
       "MaxNominalAttDistinctValues            True\n",
       "MinorityClassSize                      True\n",
       "NumberOfClasses                        True\n",
       "NumberOfFeatures                       True\n",
       "NumberOfInstances                      True\n",
       "NumberOfInstancesWithMissingValues     True\n",
       "NumberOfMissingValues                  True\n",
       "NumberOfNumericFeatures                True\n",
       "NumberOfSymbolicFeatures               True\n",
       "page                                   True\n",
       "cache_format                           True\n",
       "collection_date                       False\n",
       "creator                                True\n",
       "data_file                             False\n",
       "dataset_id                            False\n",
       "default_target_attribute               True\n",
       "features                               True\n",
       "id                                    False\n",
       "licence                                True\n",
       "md5_checksum                          False\n",
       "openml_url                            False\n",
       "qualities                             False\n",
       "tag                                   False\n",
       "upload_date                           False\n",
       "url                                   False\n",
       "visibility                             True\n",
       "num_downloads                         False\n",
       "num_runs                              False\n",
       "num_tasks                              True\n",
       "num_unique_downloads                  False\n",
       "task_ids                              False\n",
       "task_types                             True\n",
       "dtype: bool"
      ]
     },
     "execution_count": 18,
     "metadata": {},
     "output_type": "execute_result"
    }
   ],
   "source": [
    "#find which fields have real differences\n",
    "openml_diffs = dupes1_clean == dupes2_clean\n",
    "openml_diffs"
   ]
  },
  {
   "cell_type": "code",
   "execution_count": 19,
   "id": "13a2b88f",
   "metadata": {},
   "outputs": [
    {
     "data": {
      "text/plain": [
       "collection_date         False\n",
       "data_file               False\n",
       "dataset_id              False\n",
       "id                      False\n",
       "md5_checksum            False\n",
       "openml_url              False\n",
       "qualities               False\n",
       "tag                     False\n",
       "upload_date             False\n",
       "url                     False\n",
       "num_downloads           False\n",
       "num_runs                False\n",
       "num_unique_downloads    False\n",
       "task_ids                False\n",
       "dtype: bool"
      ]
     },
     "execution_count": 19,
     "metadata": {},
     "output_type": "execute_result"
    }
   ],
   "source": [
    "index_diffs = openml_diffs[openml_diffs == False]\n",
    "index_diffs"
   ]
  },
  {
   "cell_type": "code",
   "execution_count": 20,
   "id": "762352f7",
   "metadata": {
    "scrolled": true
   },
   "outputs": [
    {
     "data": {
      "text/plain": [
       "['collection_date',\n",
       " 'data_file',\n",
       " 'dataset_id',\n",
       " 'id',\n",
       " 'md5_checksum',\n",
       " 'openml_url',\n",
       " 'qualities',\n",
       " 'tag',\n",
       " 'upload_date',\n",
       " 'url',\n",
       " 'num_downloads',\n",
       " 'num_runs',\n",
       " 'num_unique_downloads',\n",
       " 'task_ids']"
      ]
     },
     "execution_count": 20,
     "metadata": {},
     "output_type": "execute_result"
    }
   ],
   "source": [
    "index_diffs_str = index_diffs.index.tolist()\n",
    "index_diffs_str"
   ]
  },
  {
   "cell_type": "code",
   "execution_count": 21,
   "id": "574d52f0",
   "metadata": {
    "scrolled": true
   },
   "outputs": [
    {
     "data": {
      "text/plain": [
       "collection_date                                       2014-11-12 12:13:19\n",
       "data_file               /Users/michaelbaluja/.openml/org/openml/www/da...\n",
       "dataset_id                                                         1178.0\n",
       "id                                                                 1178.0\n",
       "md5_checksum                             5dc14d82580d27f169aecdb1fc4b07ca\n",
       "openml_url                                  https://www.openml.org/d/1178\n",
       "qualities               {'AutoCorrelation': 0.9550464094000001, 'CfsSu...\n",
       "tag                                                     [artificial, BNG]\n",
       "upload_date                                           2014-11-12T12:13:14\n",
       "url                     https://www.openml.org/data/v1/download/150656...\n",
       "num_downloads                                                         3.0\n",
       "num_runs                                                             90.0\n",
       "num_unique_downloads                                                  3.0\n",
       "task_ids                [146087, 146385, 168071, 167713, 167355, 16848...\n",
       "Name: 1003, dtype: object"
      ]
     },
     "execution_count": 21,
     "metadata": {},
     "output_type": "execute_result"
    }
   ],
   "source": [
    "dupes1_clean[index_diffs_str]"
   ]
  },
  {
   "cell_type": "code",
   "execution_count": 22,
   "id": "0d65b041",
   "metadata": {
    "scrolled": true
   },
   "outputs": [
    {
     "data": {
      "text/plain": [
       "collection_date                                       2014-11-12 12:13:28\n",
       "data_file               /Users/michaelbaluja/.openml/org/openml/www/da...\n",
       "dataset_id                                                         1179.0\n",
       "id                                                                 1179.0\n",
       "md5_checksum                             5d9fdf8c44970fc782cb21ef722bd236\n",
       "openml_url                                  https://www.openml.org/d/1179\n",
       "qualities               {'AutoCorrelation': 0.9888189888000001, 'CfsSu...\n",
       "tag                                           [artificial, BNG, study_16]\n",
       "upload_date                                           2014-11-12T12:13:24\n",
       "url                     https://www.openml.org/data/v1/download/150657...\n",
       "num_downloads                                                         2.0\n",
       "num_runs                                                            337.0\n",
       "num_unique_downloads                                                  2.0\n",
       "task_ids                [146088, 146386, 168072, 167714, 167356, 16848...\n",
       "Name: 1004, dtype: object"
      ]
     },
     "execution_count": 22,
     "metadata": {},
     "output_type": "execute_result"
    }
   ],
   "source": [
    "dupes2_clean[index_diffs_str]"
   ]
  },
  {
   "cell_type": "code",
   "execution_count": 23,
   "id": "8ce672b5",
   "metadata": {},
   "outputs": [],
   "source": [
    "#we can ignore data_file, which is artifact of data collection for this project\n",
    "#looks like collection and upload date change minimally\n",
    "#appears to be re-upload - download URL leads to file and file (1) [so duplicate]"
   ]
  },
  {
   "cell_type": "code",
   "execution_count": 24,
   "id": "dff31788",
   "metadata": {},
   "outputs": [
    {
     "data": {
      "text/html": [
       "<div>\n",
       "<style scoped>\n",
       "    .dataframe tbody tr th:only-of-type {\n",
       "        vertical-align: middle;\n",
       "    }\n",
       "\n",
       "    .dataframe tbody tr th {\n",
       "        vertical-align: top;\n",
       "    }\n",
       "\n",
       "    .dataframe thead th {\n",
       "        text-align: right;\n",
       "    }\n",
       "</style>\n",
       "<table border=\"1\" class=\"dataframe\">\n",
       "  <thead>\n",
       "    <tr style=\"text-align: right;\">\n",
       "      <th></th>\n",
       "      <th>did</th>\n",
       "    </tr>\n",
       "  </thead>\n",
       "  <tbody>\n",
       "    <tr>\n",
       "      <th>1179</th>\n",
       "      <td>2</td>\n",
       "    </tr>\n",
       "    <tr>\n",
       "      <th>1178</th>\n",
       "      <td>2</td>\n",
       "    </tr>\n",
       "  </tbody>\n",
       "</table>\n",
       "</div>"
      ],
      "text/plain": [
       "      did\n",
       "1179    2\n",
       "1178    2"
      ]
     },
     "execution_count": 24,
     "metadata": {},
     "output_type": "execute_result"
    }
   ],
   "source": [
    "#subset to view only the duplicate ids\n",
    "dupes_all = ids.value_counts().to_frame()\n",
    "dupes_all = dupes_all[dupes_all['did'] == 2]\n",
    "dupes_all"
   ]
  },
  {
   "cell_type": "code",
   "execution_count": 25,
   "id": "7d779a46",
   "metadata": {},
   "outputs": [
    {
     "data": {
      "text/plain": [
       "[1179, 1178]"
      ]
     },
     "execution_count": 25,
     "metadata": {},
     "output_type": "execute_result"
    }
   ],
   "source": [
    "dupes_all_ids = dupes_all.index.to_list()\n",
    "dupes_all_ids"
   ]
  },
  {
   "cell_type": "code",
   "execution_count": 26,
   "id": "92ba35f9",
   "metadata": {
    "scrolled": true
   },
   "outputs": [
    {
     "data": {
      "text/html": [
       "<div>\n",
       "<style scoped>\n",
       "    .dataframe tbody tr th:only-of-type {\n",
       "        vertical-align: middle;\n",
       "    }\n",
       "\n",
       "    .dataframe tbody tr th {\n",
       "        vertical-align: top;\n",
       "    }\n",
       "\n",
       "    .dataframe thead th {\n",
       "        text-align: right;\n",
       "    }\n",
       "</style>\n",
       "<table border=\"1\" class=\"dataframe\">\n",
       "  <thead>\n",
       "    <tr style=\"text-align: right;\">\n",
       "      <th></th>\n",
       "      <th>collection_date</th>\n",
       "      <th>data_file</th>\n",
       "      <th>dataset_id</th>\n",
       "      <th>id</th>\n",
       "      <th>md5_checksum</th>\n",
       "      <th>openml_url</th>\n",
       "      <th>qualities</th>\n",
       "      <th>tag</th>\n",
       "      <th>upload_date</th>\n",
       "      <th>url</th>\n",
       "      <th>num_downloads</th>\n",
       "      <th>num_runs</th>\n",
       "      <th>num_unique_downloads</th>\n",
       "      <th>task_ids</th>\n",
       "    </tr>\n",
       "  </thead>\n",
       "  <tbody>\n",
       "    <tr>\n",
       "      <th>1001</th>\n",
       "      <td>2014-11-12 12:13:19</td>\n",
       "      <td>/Users/michaelbaluja/.openml/org/openml/www/da...</td>\n",
       "      <td>1178.0</td>\n",
       "      <td>1178.0</td>\n",
       "      <td>5dc14d82580d27f169aecdb1fc4b07ca</td>\n",
       "      <td>https://www.openml.org/d/1178</td>\n",
       "      <td>{'AutoCorrelation': 0.9550464094000001, 'CfsSu...</td>\n",
       "      <td>[artificial, BNG]</td>\n",
       "      <td>2014-11-12T12:13:14</td>\n",
       "      <td>https://www.openml.org/data/v1/download/150656...</td>\n",
       "      <td>3.0</td>\n",
       "      <td>90.0</td>\n",
       "      <td>3.0</td>\n",
       "      <td>[146087, 146385, 168071, 167713, 167355, 16848...</td>\n",
       "    </tr>\n",
       "    <tr>\n",
       "      <th>1003</th>\n",
       "      <td>2014-11-12 12:13:19</td>\n",
       "      <td>/Users/michaelbaluja/.openml/org/openml/www/da...</td>\n",
       "      <td>1178.0</td>\n",
       "      <td>1178.0</td>\n",
       "      <td>5dc14d82580d27f169aecdb1fc4b07ca</td>\n",
       "      <td>https://www.openml.org/d/1178</td>\n",
       "      <td>{'AutoCorrelation': 0.9550464094000001, 'CfsSu...</td>\n",
       "      <td>[artificial, BNG]</td>\n",
       "      <td>2014-11-12T12:13:14</td>\n",
       "      <td>https://www.openml.org/data/v1/download/150656...</td>\n",
       "      <td>3.0</td>\n",
       "      <td>90.0</td>\n",
       "      <td>3.0</td>\n",
       "      <td>[146087, 146385, 168071, 167713, 167355, 16848...</td>\n",
       "    </tr>\n",
       "    <tr>\n",
       "      <th>1002</th>\n",
       "      <td>2014-11-12 12:13:28</td>\n",
       "      <td>/Users/michaelbaluja/.openml/org/openml/www/da...</td>\n",
       "      <td>1179.0</td>\n",
       "      <td>1179.0</td>\n",
       "      <td>5d9fdf8c44970fc782cb21ef722bd236</td>\n",
       "      <td>https://www.openml.org/d/1179</td>\n",
       "      <td>{'AutoCorrelation': 0.9888189888000001, 'CfsSu...</td>\n",
       "      <td>[artificial, BNG, study_16]</td>\n",
       "      <td>2014-11-12T12:13:24</td>\n",
       "      <td>https://www.openml.org/data/v1/download/150657...</td>\n",
       "      <td>2.0</td>\n",
       "      <td>337.0</td>\n",
       "      <td>2.0</td>\n",
       "      <td>[146088, 146386, 168072, 167714, 167356, 16848...</td>\n",
       "    </tr>\n",
       "    <tr>\n",
       "      <th>1004</th>\n",
       "      <td>2014-11-12 12:13:28</td>\n",
       "      <td>/Users/michaelbaluja/.openml/org/openml/www/da...</td>\n",
       "      <td>1179.0</td>\n",
       "      <td>1179.0</td>\n",
       "      <td>5d9fdf8c44970fc782cb21ef722bd236</td>\n",
       "      <td>https://www.openml.org/d/1179</td>\n",
       "      <td>{'AutoCorrelation': 0.9888189888000001, 'CfsSu...</td>\n",
       "      <td>[artificial, BNG, study_16]</td>\n",
       "      <td>2014-11-12T12:13:24</td>\n",
       "      <td>https://www.openml.org/data/v1/download/150657...</td>\n",
       "      <td>2.0</td>\n",
       "      <td>337.0</td>\n",
       "      <td>2.0</td>\n",
       "      <td>[146088, 146386, 168072, 167714, 167356, 16848...</td>\n",
       "    </tr>\n",
       "  </tbody>\n",
       "</table>\n",
       "</div>"
      ],
      "text/plain": [
       "          collection_date                                          data_file  \\\n",
       "1001  2014-11-12 12:13:19  /Users/michaelbaluja/.openml/org/openml/www/da...   \n",
       "1003  2014-11-12 12:13:19  /Users/michaelbaluja/.openml/org/openml/www/da...   \n",
       "1002  2014-11-12 12:13:28  /Users/michaelbaluja/.openml/org/openml/www/da...   \n",
       "1004  2014-11-12 12:13:28  /Users/michaelbaluja/.openml/org/openml/www/da...   \n",
       "\n",
       "      dataset_id      id                      md5_checksum  \\\n",
       "1001      1178.0  1178.0  5dc14d82580d27f169aecdb1fc4b07ca   \n",
       "1003      1178.0  1178.0  5dc14d82580d27f169aecdb1fc4b07ca   \n",
       "1002      1179.0  1179.0  5d9fdf8c44970fc782cb21ef722bd236   \n",
       "1004      1179.0  1179.0  5d9fdf8c44970fc782cb21ef722bd236   \n",
       "\n",
       "                         openml_url  \\\n",
       "1001  https://www.openml.org/d/1178   \n",
       "1003  https://www.openml.org/d/1178   \n",
       "1002  https://www.openml.org/d/1179   \n",
       "1004  https://www.openml.org/d/1179   \n",
       "\n",
       "                                              qualities  \\\n",
       "1001  {'AutoCorrelation': 0.9550464094000001, 'CfsSu...   \n",
       "1003  {'AutoCorrelation': 0.9550464094000001, 'CfsSu...   \n",
       "1002  {'AutoCorrelation': 0.9888189888000001, 'CfsSu...   \n",
       "1004  {'AutoCorrelation': 0.9888189888000001, 'CfsSu...   \n",
       "\n",
       "                              tag          upload_date  \\\n",
       "1001            [artificial, BNG]  2014-11-12T12:13:14   \n",
       "1003            [artificial, BNG]  2014-11-12T12:13:14   \n",
       "1002  [artificial, BNG, study_16]  2014-11-12T12:13:24   \n",
       "1004  [artificial, BNG, study_16]  2014-11-12T12:13:24   \n",
       "\n",
       "                                                    url  num_downloads  \\\n",
       "1001  https://www.openml.org/data/v1/download/150656...            3.0   \n",
       "1003  https://www.openml.org/data/v1/download/150656...            3.0   \n",
       "1002  https://www.openml.org/data/v1/download/150657...            2.0   \n",
       "1004  https://www.openml.org/data/v1/download/150657...            2.0   \n",
       "\n",
       "      num_runs  num_unique_downloads  \\\n",
       "1001      90.0                   3.0   \n",
       "1003      90.0                   3.0   \n",
       "1002     337.0                   2.0   \n",
       "1004     337.0                   2.0   \n",
       "\n",
       "                                               task_ids  \n",
       "1001  [146087, 146385, 168071, 167713, 167355, 16848...  \n",
       "1003  [146087, 146385, 168071, 167713, 167355, 16848...  \n",
       "1002  [146088, 146386, 168072, 167714, 167356, 16848...  \n",
       "1004  [146088, 146386, 168072, 167714, 167356, 16848...  "
      ]
     },
     "execution_count": 26,
     "metadata": {},
     "output_type": "execute_result"
    }
   ],
   "source": [
    "dupes_df = df[df.id.isin(dupes_all_ids)]\n",
    "dupes_df[index_diffs_str].sort_values('upload_date')"
   ]
  },
  {
   "cell_type": "code",
   "execution_count": 27,
   "id": "91f717f2",
   "metadata": {
    "scrolled": true
   },
   "outputs": [
    {
     "data": {
      "text/html": [
       "<div>\n",
       "<style scoped>\n",
       "    .dataframe tbody tr th:only-of-type {\n",
       "        vertical-align: middle;\n",
       "    }\n",
       "\n",
       "    .dataframe tbody tr th {\n",
       "        vertical-align: top;\n",
       "    }\n",
       "\n",
       "    .dataframe thead th {\n",
       "        text-align: right;\n",
       "    }\n",
       "</style>\n",
       "<table border=\"1\" class=\"dataframe\">\n",
       "  <thead>\n",
       "    <tr style=\"text-align: right;\">\n",
       "      <th></th>\n",
       "      <th>did</th>\n",
       "      <th>name</th>\n",
       "      <th>collection_date</th>\n",
       "      <th>upload_date</th>\n",
       "    </tr>\n",
       "  </thead>\n",
       "  <tbody>\n",
       "    <tr>\n",
       "      <th>1001</th>\n",
       "      <td>1178</td>\n",
       "      <td>BNG(solar-flare)</td>\n",
       "      <td>2014-11-12 12:13:19</td>\n",
       "      <td>2014-11-12T12:13:14</td>\n",
       "    </tr>\n",
       "    <tr>\n",
       "      <th>1003</th>\n",
       "      <td>1179</td>\n",
       "      <td>BNG(solar-flare)</td>\n",
       "      <td>2014-11-12 12:13:19</td>\n",
       "      <td>2014-11-12T12:13:14</td>\n",
       "    </tr>\n",
       "    <tr>\n",
       "      <th>1002</th>\n",
       "      <td>1178</td>\n",
       "      <td>BNG(solar-flare)</td>\n",
       "      <td>2014-11-12 12:13:28</td>\n",
       "      <td>2014-11-12T12:13:24</td>\n",
       "    </tr>\n",
       "    <tr>\n",
       "      <th>1004</th>\n",
       "      <td>1179</td>\n",
       "      <td>BNG(solar-flare)</td>\n",
       "      <td>2014-11-12 12:13:28</td>\n",
       "      <td>2014-11-12T12:13:24</td>\n",
       "    </tr>\n",
       "  </tbody>\n",
       "</table>\n",
       "</div>"
      ],
      "text/plain": [
       "       did              name      collection_date          upload_date\n",
       "1001  1178  BNG(solar-flare)  2014-11-12 12:13:19  2014-11-12T12:13:14\n",
       "1003  1179  BNG(solar-flare)  2014-11-12 12:13:19  2014-11-12T12:13:14\n",
       "1002  1178  BNG(solar-flare)  2014-11-12 12:13:28  2014-11-12T12:13:24\n",
       "1004  1179  BNG(solar-flare)  2014-11-12 12:13:28  2014-11-12T12:13:24"
      ]
     },
     "execution_count": 27,
     "metadata": {},
     "output_type": "execute_result"
    }
   ],
   "source": [
    "#two latter uploaded objects have different did values\n",
    "dupes_df[['did', 'name', 'collection_date', 'upload_date']].sort_values('upload_date')"
   ]
  },
  {
   "cell_type": "code",
   "execution_count": 28,
   "id": "9b4b8d96",
   "metadata": {},
   "outputs": [],
   "source": [
    "#all 4 of these are actually duplications of a single object"
   ]
  },
  {
   "cell_type": "code",
   "execution_count": 29,
   "id": "a762be58",
   "metadata": {},
   "outputs": [],
   "source": [
    "#decision - remove object 1178 and keep latter upload date row for object 1179"
   ]
  },
  {
   "cell_type": "code",
   "execution_count": 30,
   "id": "08b71a32",
   "metadata": {},
   "outputs": [
    {
     "data": {
      "text/plain": [
       "3463"
      ]
     },
     "execution_count": 30,
     "metadata": {},
     "output_type": "execute_result"
    }
   ],
   "source": [
    "len(df)"
   ]
  },
  {
   "cell_type": "code",
   "execution_count": 31,
   "id": "56acdbe0",
   "metadata": {},
   "outputs": [],
   "source": [
    "#remove object 1178\n",
    "df_use = df[df.did != 1178]"
   ]
  },
  {
   "cell_type": "code",
   "execution_count": 32,
   "id": "cb15539a",
   "metadata": {},
   "outputs": [
    {
     "data": {
      "text/plain": [
       "3461"
      ]
     },
     "execution_count": 32,
     "metadata": {},
     "output_type": "execute_result"
    }
   ],
   "source": [
    "#confirm new number of ids\n",
    "len(df_use)"
   ]
  },
  {
   "cell_type": "code",
   "execution_count": 33,
   "id": "cfe1d16c",
   "metadata": {},
   "outputs": [
    {
     "data": {
      "text/html": [
       "<div>\n",
       "<style scoped>\n",
       "    .dataframe tbody tr th:only-of-type {\n",
       "        vertical-align: middle;\n",
       "    }\n",
       "\n",
       "    .dataframe tbody tr th {\n",
       "        vertical-align: top;\n",
       "    }\n",
       "\n",
       "    .dataframe thead th {\n",
       "        text-align: right;\n",
       "    }\n",
       "</style>\n",
       "<table border=\"1\" class=\"dataframe\">\n",
       "  <thead>\n",
       "    <tr style=\"text-align: right;\">\n",
       "      <th></th>\n",
       "      <th>did</th>\n",
       "      <th>collection_date</th>\n",
       "      <th>upload_date</th>\n",
       "    </tr>\n",
       "  </thead>\n",
       "  <tbody>\n",
       "    <tr>\n",
       "      <th>1001</th>\n",
       "      <td>1179</td>\n",
       "      <td>2014-11-12 12:13:28</td>\n",
       "      <td>2014-11-12T12:13:24</td>\n",
       "    </tr>\n",
       "  </tbody>\n",
       "</table>\n",
       "</div>"
      ],
      "text/plain": [
       "       did      collection_date          upload_date\n",
       "1001  1179  2014-11-12 12:13:28  2014-11-12T12:13:24"
      ]
     },
     "execution_count": 33,
     "metadata": {},
     "output_type": "execute_result"
    }
   ],
   "source": [
    "#group by did, sort descending by upload_date, and select first within group\n",
    "df_use = df_use.sort_values(['upload_date'], ascending = False).groupby('did').nth(0).reset_index()\n",
    "df_use[df_use.did == 1179][['did','collection_date', 'upload_date']]"
   ]
  },
  {
   "cell_type": "code",
   "execution_count": 34,
   "id": "630d058c",
   "metadata": {},
   "outputs": [
    {
     "data": {
      "text/plain": [
       "3460"
      ]
     },
     "execution_count": 34,
     "metadata": {},
     "output_type": "execute_result"
    }
   ],
   "source": [
    "#confirm new number of ids\n",
    "len(df_use)"
   ]
  },
  {
   "cell_type": "code",
   "execution_count": 35,
   "id": "e821bd81",
   "metadata": {},
   "outputs": [],
   "source": [
    "#for matching other notebooks, rename 'df_use' back to 'df'\n",
    "df = df_use"
   ]
  },
  {
   "cell_type": "code",
   "execution_count": 36,
   "id": "59867590",
   "metadata": {},
   "outputs": [
    {
     "name": "stdout",
     "output_type": "stream",
     "text": [
      "There are 3460 items in the OpenML extract, with 3460 unique IDs.\n"
     ]
    }
   ],
   "source": [
    "ids = df.OpenMLDatasetsCrosswalk.unique_identifier\n",
    "print(f'There are {len(ids)} items in the OpenML extract, with {ids.nunique()} unique IDs.')"
   ]
  },
  {
   "cell_type": "markdown",
   "id": "563473bb",
   "metadata": {
    "pycharm": {
     "name": "#%% md\n"
    }
   },
   "source": [
    "## 2. See the \"Licenses offered\" tab in /Working documents/Licenses sheet for list of licenses by repo.\n",
    "\n",
    "## Given the type(s) of license(s) offered by the repo, how many of each type is assigned?\n",
    "**Property:** License"
   ]
  },
  {
   "cell_type": "code",
   "execution_count": 37,
   "id": "6917549b",
   "metadata": {
    "pycharm": {
     "name": "#%%\n"
    }
   },
   "outputs": [
    {
     "data": {
      "text/plain": [
       "0                        Public\n",
       "1                        Public\n",
       "2                        Public\n",
       "3                        Public\n",
       "4                        Public\n",
       "                 ...           \n",
       "3455                        CC0\n",
       "3456                        CC0\n",
       "3457                        CC0\n",
       "3458    BSD (from scikit-learn)\n",
       "3459    BSD (from scikit-learn)\n",
       "Name: licence, Length: 3460, dtype: object"
      ]
     },
     "execution_count": 37,
     "metadata": {},
     "output_type": "execute_result"
    }
   ],
   "source": [
    "licenses = df.OpenMLDatasetsCrosswalk.license\n",
    "licenses"
   ]
  },
  {
   "cell_type": "code",
   "execution_count": 38,
   "id": "a735f67c",
   "metadata": {
    "scrolled": true
   },
   "outputs": [
    {
     "data": {
      "text/html": [
       "<div>\n",
       "<style scoped>\n",
       "    .dataframe tbody tr th:only-of-type {\n",
       "        vertical-align: middle;\n",
       "    }\n",
       "\n",
       "    .dataframe tbody tr th {\n",
       "        vertical-align: top;\n",
       "    }\n",
       "\n",
       "    .dataframe thead th {\n",
       "        text-align: right;\n",
       "    }\n",
       "</style>\n",
       "<table border=\"1\" class=\"dataframe\">\n",
       "  <thead>\n",
       "    <tr style=\"text-align: right;\">\n",
       "      <th></th>\n",
       "      <th>licence</th>\n",
       "      <th>percent</th>\n",
       "    </tr>\n",
       "  </thead>\n",
       "  <tbody>\n",
       "    <tr>\n",
       "      <th>Public</th>\n",
       "      <td>2802</td>\n",
       "      <td>80.982659</td>\n",
       "    </tr>\n",
       "    <tr>\n",
       "      <th>CC0</th>\n",
       "      <td>275</td>\n",
       "      <td>7.947977</td>\n",
       "    </tr>\n",
       "    <tr>\n",
       "      <th>public domain</th>\n",
       "      <td>98</td>\n",
       "      <td>2.832370</td>\n",
       "    </tr>\n",
       "    <tr>\n",
       "      <th>Free</th>\n",
       "      <td>53</td>\n",
       "      <td>1.531792</td>\n",
       "    </tr>\n",
       "    <tr>\n",
       "      <th>Publicly available</th>\n",
       "      <td>43</td>\n",
       "      <td>1.242775</td>\n",
       "    </tr>\n",
       "    <tr>\n",
       "      <th>public</th>\n",
       "      <td>41</td>\n",
       "      <td>1.184971</td>\n",
       "    </tr>\n",
       "    <tr>\n",
       "      <th>CC-BY</th>\n",
       "      <td>16</td>\n",
       "      <td>0.462428</td>\n",
       "    </tr>\n",
       "    <tr>\n",
       "      <th>CC_BY-SA</th>\n",
       "      <td>10</td>\n",
       "      <td>0.289017</td>\n",
       "    </tr>\n",
       "    <tr>\n",
       "      <th>Undefined</th>\n",
       "      <td>10</td>\n",
       "      <td>0.289017</td>\n",
       "    </tr>\n",
       "    <tr>\n",
       "      <th>BSD (from scikit-learn)</th>\n",
       "      <td>10</td>\n",
       "      <td>0.289017</td>\n",
       "    </tr>\n",
       "    <tr>\n",
       "      <th>Public Domain (CC0)</th>\n",
       "      <td>9</td>\n",
       "      <td>0.260116</td>\n",
       "    </tr>\n",
       "    <tr>\n",
       "      <th>CC_BY</th>\n",
       "      <td>7</td>\n",
       "      <td>0.202312</td>\n",
       "    </tr>\n",
       "    <tr>\n",
       "      <th>NA</th>\n",
       "      <td>5</td>\n",
       "      <td>0.144509</td>\n",
       "    </tr>\n",
       "    <tr>\n",
       "      <th>CC0 Public Domain</th>\n",
       "      <td>4</td>\n",
       "      <td>0.115607</td>\n",
       "    </tr>\n",
       "    <tr>\n",
       "      <th>The data is free to use (when citing the publication).</th>\n",
       "      <td>4</td>\n",
       "      <td>0.115607</td>\n",
       "    </tr>\n",
       "    <tr>\n",
       "      <th>CC_BY-NC-SA</th>\n",
       "      <td>4</td>\n",
       "      <td>0.115607</td>\n",
       "    </tr>\n",
       "    <tr>\n",
       "      <th>CC BY-NC-SA 4.0</th>\n",
       "      <td>3</td>\n",
       "      <td>0.086705</td>\n",
       "    </tr>\n",
       "    <tr>\n",
       "      <th>CC_BY-NC</th>\n",
       "      <td>3</td>\n",
       "      <td>0.086705</td>\n",
       "    </tr>\n",
       "    <tr>\n",
       "      <th>Creative Commons Attribution 4.0 International License</th>\n",
       "      <td>3</td>\n",
       "      <td>0.086705</td>\n",
       "    </tr>\n",
       "    <tr>\n",
       "      <th>CC BY-SA 4.0</th>\n",
       "      <td>2</td>\n",
       "      <td>0.057803</td>\n",
       "    </tr>\n",
       "    <tr>\n",
       "      <th>CC0 Public Domaine</th>\n",
       "      <td>2</td>\n",
       "      <td>0.057803</td>\n",
       "    </tr>\n",
       "    <tr>\n",
       "      <th>CCZero</th>\n",
       "      <td>2</td>\n",
       "      <td>0.057803</td>\n",
       "    </tr>\n",
       "    <tr>\n",
       "      <th>UNKNOWN LICENSE</th>\n",
       "      <td>1</td>\n",
       "      <td>0.028902</td>\n",
       "    </tr>\n",
       "    <tr>\n",
       "      <th>CC_BY-NC-ND</th>\n",
       "      <td>1</td>\n",
       "      <td>0.028902</td>\n",
       "    </tr>\n",
       "    <tr>\n",
       "      <th>CC BY-NC-ND</th>\n",
       "      <td>1</td>\n",
       "      <td>0.028902</td>\n",
       "    </tr>\n",
       "    <tr>\n",
       "      <th>GPL-2</th>\n",
       "      <td>1</td>\n",
       "      <td>0.028902</td>\n",
       "    </tr>\n",
       "    <tr>\n",
       "      <th>ODC Public Domain Dedication and Licence (PDDL)</th>\n",
       "      <td>1</td>\n",
       "      <td>0.028902</td>\n",
       "    </tr>\n",
       "    <tr>\n",
       "      <th>English</th>\n",
       "      <td>1</td>\n",
       "      <td>0.028902</td>\n",
       "    </tr>\n",
       "    <tr>\n",
       "      <th>Open Government Licence (OGL)</th>\n",
       "      <td>1</td>\n",
       "      <td>0.028902</td>\n",
       "    </tr>\n",
       "    <tr>\n",
       "      <th>CC0 1.0</th>\n",
       "      <td>1</td>\n",
       "      <td>0.028902</td>\n",
       "    </tr>\n",
       "    <tr>\n",
       "      <th>GPL-1</th>\n",
       "      <td>1</td>\n",
       "      <td>0.028902</td>\n",
       "    </tr>\n",
       "    <tr>\n",
       "      <th>CC BY 4.0</th>\n",
       "      <td>1</td>\n",
       "      <td>0.028902</td>\n",
       "    </tr>\n",
       "    <tr>\n",
       "      <th>Open Government License</th>\n",
       "      <td>1</td>\n",
       "      <td>0.028902</td>\n",
       "    </tr>\n",
       "  </tbody>\n",
       "</table>\n",
       "</div>"
      ],
      "text/plain": [
       "                                                    licence    percent\n",
       "Public                                                 2802  80.982659\n",
       "CC0                                                     275   7.947977\n",
       "public domain                                            98   2.832370\n",
       "Free                                                     53   1.531792\n",
       "Publicly available                                       43   1.242775\n",
       "public                                                   41   1.184971\n",
       "CC-BY                                                    16   0.462428\n",
       "CC_BY-SA                                                 10   0.289017\n",
       "Undefined                                                10   0.289017\n",
       "BSD (from scikit-learn)                                  10   0.289017\n",
       "Public Domain (CC0)                                       9   0.260116\n",
       "CC_BY                                                     7   0.202312\n",
       "NA                                                        5   0.144509\n",
       "CC0 Public Domain                                         4   0.115607\n",
       "The data is free to use (when citing the public...        4   0.115607\n",
       "CC_BY-NC-SA                                               4   0.115607\n",
       "CC BY-NC-SA 4.0                                           3   0.086705\n",
       "CC_BY-NC                                                  3   0.086705\n",
       "Creative Commons Attribution 4.0 International ...        3   0.086705\n",
       "CC BY-SA 4.0                                              2   0.057803\n",
       "CC0 Public Domaine                                        2   0.057803\n",
       "CCZero                                                    2   0.057803\n",
       "UNKNOWN LICENSE                                           1   0.028902\n",
       "CC_BY-NC-ND                                               1   0.028902\n",
       "CC BY-NC-ND                                               1   0.028902\n",
       "GPL-2                                                     1   0.028902\n",
       "ODC Public Domain Dedication and Licence (PDDL)           1   0.028902\n",
       "English                                                   1   0.028902\n",
       "Open Government Licence (OGL)                             1   0.028902\n",
       "CC0 1.0                                                   1   0.028902\n",
       "GPL-1                                                     1   0.028902\n",
       "CC BY 4.0                                                 1   0.028902\n",
       "Open Government License                                   1   0.028902"
      ]
     },
     "execution_count": 38,
     "metadata": {},
     "output_type": "execute_result"
    }
   ],
   "source": [
    "license_counts = licenses.value_counts().to_frame()\n",
    "license_counts['percent'] = license_counts['licence']/len(licenses)*100\n",
    "license_counts"
   ]
  },
  {
   "cell_type": "markdown",
   "id": "02bbd836",
   "metadata": {
    "pycharm": {
     "name": "#%% md\n"
    }
   },
   "source": [
    "## 3. What is the mean number of characters (excluding whitespaces, if possible) per object?\n",
    "**Property:** Description\n",
    "**Related function:** `mean_characters`"
   ]
  },
  {
   "cell_type": "code",
   "execution_count": 39,
   "id": "a4aca7b7",
   "metadata": {
    "pycharm": {
     "is_executing": true,
     "name": "#%%\n"
    }
   },
   "outputs": [
    {
     "data": {
      "text/plain": [
       "0       **Author**: Unknown. Donated by David Sterling...\n",
       "1       Author: Alen Shapiro\\nSource: [UCI](https://ar...\n",
       "2       **Author**: Unknown\\n**Source**: Collective Ba...\n",
       "3       **Author**: H. Altay Guvenir, Burak Acar, Hald...\n",
       "4       **Author**: David J. Slate  \\n**Source**: [UCI...\n",
       "                              ...                        \n",
       "3455                                            whitewine\n",
       "3456    2nd Place Lightgbm Solution of Kaggle Porto Se...\n",
       "3457    Rotating hyperplane is a stream generator that...\n",
       "3458    .. _diabetes_dataset:\\n\\nDiabetes dataset\\n---...\n",
       "3459                                      une description\n",
       "Name: description, Length: 3460, dtype: object"
      ]
     },
     "execution_count": 39,
     "metadata": {},
     "output_type": "execute_result"
    }
   ],
   "source": [
    "descriptions = df.OpenMLDatasetsCrosswalk.description\n",
    "descriptions"
   ]
  },
  {
   "cell_type": "code",
   "execution_count": 40,
   "id": "56637f4e",
   "metadata": {
    "pycharm": {
     "is_executing": true,
     "name": "#%%\n"
    }
   },
   "outputs": [
    {
     "name": "stdout",
     "output_type": "stream",
     "text": [
      "1211.3025814642403 mean characters\n"
     ]
    }
   ],
   "source": [
    "#text cleaning needed for more accuracte counts, but this is a starting estimate for mean characters\n",
    "print(f'{analysis.mean_characters(descriptions)} mean characters')"
   ]
  },
  {
   "cell_type": "markdown",
   "id": "8454fa29",
   "metadata": {
    "pycharm": {
     "name": "#%% md\n"
    }
   },
   "source": [
    "## 4. What is the mean number of characters (excluding whitespaces, if possible) per object?\n",
    "**Property:** Methods\n",
    "**Related function:** `mean_characters`"
   ]
  },
  {
   "cell_type": "code",
   "execution_count": 41,
   "id": "d31fcc45",
   "metadata": {
    "pycharm": {
     "name": "#%%\n"
    }
   },
   "outputs": [],
   "source": [
    "methods = df.OpenMLDatasetsCrosswalk.methods\n",
    "methods"
   ]
  },
  {
   "cell_type": "code",
   "execution_count": 42,
   "id": "2022ab13",
   "metadata": {},
   "outputs": [
    {
     "name": "stdout",
     "output_type": "stream",
     "text": [
      "None\n"
     ]
    }
   ],
   "source": [
    "#confirm missing for this repo\n",
    "print(df.OpenMLDatasetsCrosswalk.methods)"
   ]
  },
  {
   "cell_type": "markdown",
   "id": "3aa24eb7",
   "metadata": {
    "pycharm": {
     "name": "#%% md\n"
    }
   },
   "source": [
    "## 5. What are the min and max publication dates for each repo?\n",
    "\n",
    "## How many objects were published each year for each repo?\n",
    "**Property:** Publication date"
   ]
  },
  {
   "cell_type": "code",
   "execution_count": 43,
   "id": "c69b1dcd",
   "metadata": {
    "pycharm": {
     "name": "#%%\n"
    }
   },
   "outputs": [
    {
     "data": {
      "text/plain": [
       "0       2014-04-06T23:19:24\n",
       "1       2014-04-06T23:19:28\n",
       "2       2014-04-06T23:19:30\n",
       "3       2014-04-06T23:19:36\n",
       "4       2014-04-06T23:19:41\n",
       "               ...         \n",
       "3455    2021-11-12T23:49:39\n",
       "3456    2021-12-05T07:54:08\n",
       "3457    2021-12-08T14:02:06\n",
       "3458    2021-12-09T13:15:11\n",
       "3459    2021-12-15T17:36:49\n",
       "Name: upload_date, Length: 3460, dtype: object"
      ]
     },
     "execution_count": 43,
     "metadata": {},
     "output_type": "execute_result"
    }
   ],
   "source": [
    "publication_dates = df.OpenMLDatasetsCrosswalk.publication_date\n",
    "publication_dates"
   ]
  },
  {
   "cell_type": "code",
   "execution_count": 44,
   "id": "74f0cc30",
   "metadata": {},
   "outputs": [],
   "source": [
    "#remove None values\n",
    "publication_dates = pd.Series(filter(None, publication_dates))"
   ]
  },
  {
   "cell_type": "code",
   "execution_count": 45,
   "id": "49c63a98",
   "metadata": {},
   "outputs": [
    {
     "data": {
      "text/plain": [
       "('2014-04-06T23:19:20', '2021-12-15T17:36:49')"
      ]
     },
     "execution_count": 45,
     "metadata": {},
     "output_type": "execute_result"
    }
   ],
   "source": [
    "#min and max publication year\n",
    "publication_dates.min(), publication_dates.max()"
   ]
  },
  {
   "cell_type": "code",
   "execution_count": 46,
   "id": "20b8d446",
   "metadata": {},
   "outputs": [
    {
     "data": {
      "text/plain": [
       "2014    1036\n",
       "2015    1323\n",
       "2016      55\n",
       "2017      95\n",
       "2018      41\n",
       "2019     422\n",
       "2020     253\n",
       "2021     192\n",
       "dtype: int64"
      ]
     },
     "execution_count": 46,
     "metadata": {},
     "output_type": "execute_result"
    }
   ],
   "source": [
    "#records per year\n",
    "publication_dates.astype('datetime64').apply(lambda date: date.year).value_counts().sort_index()"
   ]
  },
  {
   "cell_type": "code",
   "execution_count": 47,
   "id": "ebb404ae",
   "metadata": {},
   "outputs": [],
   "source": [
    "#export for plotting\n",
    "pub_dates_export = publication_dates.astype('datetime64').apply(lambda date: date.year).value_counts().sort_index().to_frame()"
   ]
  },
  {
   "cell_type": "code",
   "execution_count": 48,
   "id": "206cd484",
   "metadata": {},
   "outputs": [],
   "source": [
    "#update column names\n",
    "pub_dates_export_ready = pub_dates_export.reset_index(level=0)\n",
    "pub_dates_export_ready.columns = ['year', 'count']"
   ]
  },
  {
   "cell_type": "code",
   "execution_count": 49,
   "id": "d5ad0c00",
   "metadata": {},
   "outputs": [
    {
     "data": {
      "text/html": [
       "<div>\n",
       "<style scoped>\n",
       "    .dataframe tbody tr th:only-of-type {\n",
       "        vertical-align: middle;\n",
       "    }\n",
       "\n",
       "    .dataframe tbody tr th {\n",
       "        vertical-align: top;\n",
       "    }\n",
       "\n",
       "    .dataframe thead th {\n",
       "        text-align: right;\n",
       "    }\n",
       "</style>\n",
       "<table border=\"1\" class=\"dataframe\">\n",
       "  <thead>\n",
       "    <tr style=\"text-align: right;\">\n",
       "      <th></th>\n",
       "      <th>year</th>\n",
       "      <th>count</th>\n",
       "      <th>repo</th>\n",
       "    </tr>\n",
       "  </thead>\n",
       "  <tbody>\n",
       "    <tr>\n",
       "      <th>0</th>\n",
       "      <td>2014</td>\n",
       "      <td>1036</td>\n",
       "      <td>openml</td>\n",
       "    </tr>\n",
       "    <tr>\n",
       "      <th>1</th>\n",
       "      <td>2015</td>\n",
       "      <td>1323</td>\n",
       "      <td>openml</td>\n",
       "    </tr>\n",
       "    <tr>\n",
       "      <th>2</th>\n",
       "      <td>2016</td>\n",
       "      <td>55</td>\n",
       "      <td>openml</td>\n",
       "    </tr>\n",
       "    <tr>\n",
       "      <th>3</th>\n",
       "      <td>2017</td>\n",
       "      <td>95</td>\n",
       "      <td>openml</td>\n",
       "    </tr>\n",
       "    <tr>\n",
       "      <th>4</th>\n",
       "      <td>2018</td>\n",
       "      <td>41</td>\n",
       "      <td>openml</td>\n",
       "    </tr>\n",
       "    <tr>\n",
       "      <th>5</th>\n",
       "      <td>2019</td>\n",
       "      <td>422</td>\n",
       "      <td>openml</td>\n",
       "    </tr>\n",
       "    <tr>\n",
       "      <th>6</th>\n",
       "      <td>2020</td>\n",
       "      <td>253</td>\n",
       "      <td>openml</td>\n",
       "    </tr>\n",
       "    <tr>\n",
       "      <th>7</th>\n",
       "      <td>2021</td>\n",
       "      <td>192</td>\n",
       "      <td>openml</td>\n",
       "    </tr>\n",
       "  </tbody>\n",
       "</table>\n",
       "</div>"
      ],
      "text/plain": [
       "   year  count    repo\n",
       "0  2014   1036  openml\n",
       "1  2015   1323  openml\n",
       "2  2016     55  openml\n",
       "3  2017     95  openml\n",
       "4  2018     41  openml\n",
       "5  2019    422  openml\n",
       "6  2020    253  openml\n",
       "7  2021    192  openml"
      ]
     },
     "execution_count": 49,
     "metadata": {},
     "output_type": "execute_result"
    }
   ],
   "source": [
    "#add column with name of repo\n",
    "pub_dates_export_ready['repo'] = 'openml'\n",
    "pub_dates_export_ready"
   ]
  },
  {
   "cell_type": "code",
   "execution_count": 50,
   "id": "e2be71ca",
   "metadata": {},
   "outputs": [],
   "source": [
    "#export to Figures folder\n",
    "pub_dates_export_ready.to_csv('..\\\\..\\\\Figures\\\\Figure1\\\\repository_dates\\\\openml_pub_years.csv')"
   ]
  },
  {
   "cell_type": "markdown",
   "id": "8e0c2e62",
   "metadata": {
    "pycharm": {
     "name": "#%% md\n"
    }
   },
   "source": [
    "## 6. What are the unweighted mean, median, and max file sizes among all ingested files?\n",
    "**Property:** File size\n",
    "**Related function:** `get_summary_statistics`"
   ]
  },
  {
   "cell_type": "markdown",
   "id": "ae24513c",
   "metadata": {
    "pycharm": {
     "name": "#%% md\n"
    }
   },
   "source": [
    "We first get the file size attribute using the crosswalk."
   ]
  },
  {
   "cell_type": "code",
   "execution_count": 51,
   "id": "6fe6c76a",
   "metadata": {
    "pycharm": {
     "name": "#%%\n"
    }
   },
   "outputs": [],
   "source": [
    "file_sizes = df.OpenMLDatasetsCrosswalk.file_size\n",
    "file_sizes"
   ]
  },
  {
   "cell_type": "code",
   "execution_count": 52,
   "id": "b19df5ee",
   "metadata": {},
   "outputs": [
    {
     "name": "stdout",
     "output_type": "stream",
     "text": [
      "None\n"
     ]
    }
   ],
   "source": [
    "#confirm missing for this repo\n",
    "print(df.OpenMLDatasetsCrosswalk.file_size)"
   ]
  },
  {
   "cell_type": "markdown",
   "id": "482fd832",
   "metadata": {
    "pycharm": {
     "name": "#%% md\n"
    }
   },
   "source": [
    "## 7. What are the mean, median, and max number of files per object?\n",
    "**Property:** URL\n",
    "**Related function:** `get_summary_statistics`"
   ]
  },
  {
   "cell_type": "code",
   "execution_count": 53,
   "id": "4025e220",
   "metadata": {
    "pycharm": {
     "name": "#%%\n"
    },
    "scrolled": true
   },
   "outputs": [
    {
     "data": {
      "text/plain": [
       "0       https://www.openml.org/data/v1/download/166687...\n",
       "1       https://www.openml.org/data/v1/download/3/kr-v...\n",
       "2       https://www.openml.org/data/v1/download/4/labo...\n",
       "3       https://www.openml.org/data/v1/download/5/arrh...\n",
       "4       https://www.openml.org/data/v1/download/6/lett...\n",
       "                              ...                        \n",
       "3455    https://www.openml.org/data/v1/download/220479...\n",
       "3456    https://www.openml.org/data/v1/download/221015...\n",
       "3457    https://www.openml.org/data/v1/download/221015...\n",
       "3458    https://www.openml.org/data/v1/download/221016...\n",
       "3459    https://www.openml.org/data/v1/download/221016...\n",
       "Name: url, Length: 3460, dtype: object"
      ]
     },
     "execution_count": 53,
     "metadata": {},
     "output_type": "execute_result"
    }
   ],
   "source": [
    "files = df.OpenMLDatasetsCrosswalk.url\n",
    "files"
   ]
  },
  {
   "cell_type": "code",
   "execution_count": 54,
   "id": "c4022be6",
   "metadata": {
    "scrolled": true
   },
   "outputs": [
    {
     "data": {
      "text/plain": [
       "0       https://www.openml.org/data/v1/download/166687...\n",
       "1       https://www.openml.org/data/v1/download/3/kr-v...\n",
       "2       https://www.openml.org/data/v1/download/4/labo...\n",
       "3       https://www.openml.org/data/v1/download/5/arrh...\n",
       "4       https://www.openml.org/data/v1/download/6/lett...\n",
       "                              ...                        \n",
       "3455    https://www.openml.org/data/v1/download/220479...\n",
       "3456    https://www.openml.org/data/v1/download/221015...\n",
       "3457    https://www.openml.org/data/v1/download/221015...\n",
       "3458    https://www.openml.org/data/v1/download/221016...\n",
       "3459    https://www.openml.org/data/v1/download/221016...\n",
       "Name: url, Length: 3417, dtype: object"
      ]
     },
     "execution_count": 54,
     "metadata": {},
     "output_type": "execute_result"
    }
   ],
   "source": [
    "files = files.dropna()\n",
    "files"
   ]
  },
  {
   "cell_type": "code",
   "execution_count": 55,
   "id": "3f9773ed",
   "metadata": {},
   "outputs": [],
   "source": [
    "#files are strings; convert to list to ensure one string URL per object for file"
   ]
  },
  {
   "cell_type": "code",
   "execution_count": 56,
   "id": "747aff4f",
   "metadata": {},
   "outputs": [
    {
     "data": {
      "text/plain": [
       "0       [https://www.openml.org/data/v1/download/16668...\n",
       "1       [https://www.openml.org/data/v1/download/3/kr-...\n",
       "2       [https://www.openml.org/data/v1/download/4/lab...\n",
       "3       [https://www.openml.org/data/v1/download/5/arr...\n",
       "4       [https://www.openml.org/data/v1/download/6/let...\n",
       "                              ...                        \n",
       "3455    [https://www.openml.org/data/v1/download/22047...\n",
       "3456    [https://www.openml.org/data/v1/download/22101...\n",
       "3457    [https://www.openml.org/data/v1/download/22101...\n",
       "3458    [https://www.openml.org/data/v1/download/22101...\n",
       "3459    [https://www.openml.org/data/v1/download/22101...\n",
       "Name: url, Length: 3417, dtype: object"
      ]
     },
     "execution_count": 56,
     "metadata": {},
     "output_type": "execute_result"
    }
   ],
   "source": [
    "files_list = files.str.split(',')\n",
    "files_list"
   ]
  },
  {
   "cell_type": "code",
   "execution_count": 57,
   "id": "a40de129",
   "metadata": {},
   "outputs": [
    {
     "data": {
      "text/plain": [
       "1104    3\n",
       "64      3\n",
       "95      3\n",
       "94      3\n",
       "1086    3\n",
       "       ..\n",
       "1215    1\n",
       "1216    1\n",
       "1217    1\n",
       "1218    1\n",
       "3459    1\n",
       "Name: url, Length: 3417, dtype: int64"
      ]
     },
     "execution_count": 57,
     "metadata": {},
     "output_type": "execute_result"
    }
   ],
   "source": [
    "files_counts = files_list.apply(len)\n",
    "files_counts.sort_values(ascending = False)"
   ]
  },
  {
   "cell_type": "code",
   "execution_count": 58,
   "id": "2eb8aebe",
   "metadata": {},
   "outputs": [
    {
     "name": "stdout",
     "output_type": "stream",
     "text": [
      "https://www.openml.org/data/v1/download/584452/BNG(autos,10000,10).arff\n",
      "https://www.openml.org/data/v1/download/1836/BNG(bridges_version1,nominal,1000000).arff\n"
     ]
    }
   ],
   "source": [
    "#confirm that those 3 values are accurate\n",
    "print(files[1104])\n",
    "print(files[64])"
   ]
  },
  {
   "cell_type": "code",
   "execution_count": 59,
   "id": "8d51aa3c",
   "metadata": {},
   "outputs": [],
   "source": [
    "#incorrect - these are also single files they just have commas in file name"
   ]
  },
  {
   "cell_type": "code",
   "execution_count": 60,
   "id": "bd9a3a62",
   "metadata": {},
   "outputs": [],
   "source": [
    "#because we know from preliminary analylsis that all OpenML obects are ARFF file format\n",
    "#makes sense that all objects have just one associated file"
   ]
  },
  {
   "cell_type": "markdown",
   "id": "e9986506",
   "metadata": {},
   "source": [
    "All objects have only one associated file"
   ]
  },
  {
   "cell_type": "markdown",
   "id": "e6570a66",
   "metadata": {
    "pycharm": {
     "name": "#%% md\n"
    }
   },
   "source": [
    "## 8. What are the mean, median, and max total dataset size (summed across all files) per object?\n",
    "**Property:** Dataset size\n",
    "**Related function:** `get_summary_statistics`"
   ]
  },
  {
   "cell_type": "code",
   "execution_count": 61,
   "id": "4904884d",
   "metadata": {
    "pycharm": {
     "name": "#%%\n"
    }
   },
   "outputs": [],
   "source": [
    "dataset_sizes = df.OpenMLDatasetsCrosswalk.dataset_size\n",
    "dataset_sizes"
   ]
  },
  {
   "cell_type": "code",
   "execution_count": 62,
   "id": "6264a908",
   "metadata": {},
   "outputs": [
    {
     "name": "stdout",
     "output_type": "stream",
     "text": [
      "None\n"
     ]
    }
   ],
   "source": [
    "#confirm missing for this repo\n",
    "print(df.OpenMLDatasetsCrosswalk.dataset_size)"
   ]
  },
  {
   "cell_type": "markdown",
   "id": "3410d1d2",
   "metadata": {
    "pycharm": {
     "name": "#%% md\n"
    }
   },
   "source": [
    "## 9. How many of each scientific domain are assigned?\n",
    "**Property:** Domain\n",
    "**Related function:** `domains.value_counts()`"
   ]
  },
  {
   "cell_type": "code",
   "execution_count": 63,
   "id": "0887968c",
   "metadata": {
    "pycharm": {
     "name": "#%%\n"
    }
   },
   "outputs": [],
   "source": [
    "domains = df.OpenMLDatasetsCrosswalk.domain\n",
    "domains"
   ]
  },
  {
   "cell_type": "code",
   "execution_count": 64,
   "id": "a24002b1",
   "metadata": {},
   "outputs": [
    {
     "name": "stdout",
     "output_type": "stream",
     "text": [
      "None\n"
     ]
    }
   ],
   "source": [
    "#confirm missing for repo\n",
    "print(df.OpenMLDatasetsCrosswalk.domain)"
   ]
  },
  {
   "cell_type": "markdown",
   "id": "65df89cf",
   "metadata": {
    "pycharm": {
     "name": "#%% md\n"
    }
   },
   "source": [
    "## 10. What is the mean number of characters (excluding whitespaces, if possible) per object?\n",
    "**Property:** Technical details\n",
    "**Related function:** `mean_characters`"
   ]
  },
  {
   "cell_type": "code",
   "execution_count": 65,
   "id": "40ebdece",
   "metadata": {
    "pycharm": {
     "name": "#%%\n"
    }
   },
   "outputs": [],
   "source": [
    "# \"usage notes\" is not in crosswalk"
   ]
  },
  {
   "cell_type": "markdown",
   "id": "946cfc11",
   "metadata": {
    "pycharm": {
     "name": "#%% md\n"
    }
   },
   "source": [
    "## 11-13. What are the mean and median total number of keyword terms per object, after merging results for Keyword, Geographic keyword, and Scientific keyword?\n",
    "**Property:** Keyword"
   ]
  },
  {
   "cell_type": "code",
   "execution_count": 66,
   "id": "d443edbb",
   "metadata": {
    "pycharm": {
     "is_executing": true,
     "name": "#%%\n"
    }
   },
   "outputs": [
    {
     "name": "stdout",
     "output_type": "stream",
     "text": [
      "0       [study_1, study_14, study_34, study_37, study_...\n",
      "1       [mythbusting_1, OpenML-CC18, OpenML100, study_...\n",
      "2       [mythbusting_1, study_1, study_15, study_20, s...\n",
      "3       [sport, study_1, study_41, study_76, study_93,...\n",
      "4       [AzurePilot, AzurePilot1, OpenML-CC18, OpenML1...\n",
      "                              ...                        \n",
      "3455                                                 None\n",
      "3456                                                 None\n",
      "3457                                        concept drift\n",
      "3458                                                 None\n",
      "3459                                                 None\n",
      "Name: tag, Length: 3460, dtype: object\n"
     ]
    }
   ],
   "source": [
    "print(df.OpenMLDatasetsCrosswalk.keyword)"
   ]
  },
  {
   "cell_type": "code",
   "execution_count": 67,
   "id": "cef5ccb4",
   "metadata": {},
   "outputs": [
    {
     "name": "stdout",
     "output_type": "stream",
     "text": [
      "None\n"
     ]
    }
   ],
   "source": [
    "print(df.OpenMLDatasetsCrosswalk.geographic_keyword)"
   ]
  },
  {
   "cell_type": "code",
   "execution_count": 68,
   "id": "e5f3f957",
   "metadata": {},
   "outputs": [
    {
     "name": "stdout",
     "output_type": "stream",
     "text": [
      "None\n"
     ]
    }
   ],
   "source": [
    "print(df.OpenMLDatasetsCrosswalk.scientific_keyword)"
   ]
  },
  {
   "cell_type": "code",
   "execution_count": 69,
   "id": "8158742d",
   "metadata": {},
   "outputs": [
    {
     "data": {
      "text/plain": [
       "0       [study_1, study_14, study_34, study_37, study_...\n",
       "1       [mythbusting_1, OpenML-CC18, OpenML100, study_...\n",
       "2       [mythbusting_1, study_1, study_15, study_20, s...\n",
       "3       [sport, study_1, study_41, study_76, study_93,...\n",
       "4       [AzurePilot, AzurePilot1, OpenML-CC18, OpenML1...\n",
       "                              ...                        \n",
       "3455                                                 None\n",
       "3456                                                 None\n",
       "3457                                        concept drift\n",
       "3458                                                 None\n",
       "3459                                                 None\n",
       "Name: tag, Length: 3460, dtype: object"
      ]
     },
     "execution_count": 69,
     "metadata": {},
     "output_type": "execute_result"
    }
   ],
   "source": [
    "keywords = df.OpenMLDatasetsCrosswalk.keyword\n",
    "keywords"
   ]
  },
  {
   "cell_type": "code",
   "execution_count": 70,
   "id": "370ebf8a",
   "metadata": {
    "scrolled": true
   },
   "outputs": [
    {
     "data": {
      "text/html": [
       "<div>\n",
       "<style scoped>\n",
       "    .dataframe tbody tr th:only-of-type {\n",
       "        vertical-align: middle;\n",
       "    }\n",
       "\n",
       "    .dataframe tbody tr th {\n",
       "        vertical-align: top;\n",
       "    }\n",
       "\n",
       "    .dataframe thead th {\n",
       "        text-align: right;\n",
       "    }\n",
       "</style>\n",
       "<table border=\"1\" class=\"dataframe\">\n",
       "  <thead>\n",
       "    <tr style=\"text-align: right;\">\n",
       "      <th></th>\n",
       "      <th>tag</th>\n",
       "    </tr>\n",
       "  </thead>\n",
       "  <tbody>\n",
       "    <tr>\n",
       "      <th>0</th>\n",
       "      <td>[study_1, study_14, study_34, study_37, study_...</td>\n",
       "    </tr>\n",
       "    <tr>\n",
       "      <th>1</th>\n",
       "      <td>[mythbusting_1, OpenML-CC18, OpenML100, study_...</td>\n",
       "    </tr>\n",
       "    <tr>\n",
       "      <th>2</th>\n",
       "      <td>[mythbusting_1, study_1, study_15, study_20, s...</td>\n",
       "    </tr>\n",
       "    <tr>\n",
       "      <th>3</th>\n",
       "      <td>[sport, study_1, study_41, study_76, study_93,...</td>\n",
       "    </tr>\n",
       "    <tr>\n",
       "      <th>4</th>\n",
       "      <td>[AzurePilot, AzurePilot1, OpenML-CC18, OpenML1...</td>\n",
       "    </tr>\n",
       "    <tr>\n",
       "      <th>...</th>\n",
       "      <td>...</td>\n",
       "    </tr>\n",
       "    <tr>\n",
       "      <th>3455</th>\n",
       "      <td>[]</td>\n",
       "    </tr>\n",
       "    <tr>\n",
       "      <th>3456</th>\n",
       "      <td>[]</td>\n",
       "    </tr>\n",
       "    <tr>\n",
       "      <th>3457</th>\n",
       "      <td>[concept drift]</td>\n",
       "    </tr>\n",
       "    <tr>\n",
       "      <th>3458</th>\n",
       "      <td>[]</td>\n",
       "    </tr>\n",
       "    <tr>\n",
       "      <th>3459</th>\n",
       "      <td>[]</td>\n",
       "    </tr>\n",
       "  </tbody>\n",
       "</table>\n",
       "<p>3460 rows × 1 columns</p>\n",
       "</div>"
      ],
      "text/plain": [
       "                                                    tag\n",
       "0     [study_1, study_14, study_34, study_37, study_...\n",
       "1     [mythbusting_1, OpenML-CC18, OpenML100, study_...\n",
       "2     [mythbusting_1, study_1, study_15, study_20, s...\n",
       "3     [sport, study_1, study_41, study_76, study_93,...\n",
       "4     [AzurePilot, AzurePilot1, OpenML-CC18, OpenML1...\n",
       "...                                                 ...\n",
       "3455                                                 []\n",
       "3456                                                 []\n",
       "3457                                    [concept drift]\n",
       "3458                                                 []\n",
       "3459                                                 []\n",
       "\n",
       "[3460 rows x 1 columns]"
      ]
     },
     "execution_count": 70,
     "metadata": {},
     "output_type": "execute_result"
    }
   ],
   "source": [
    "#replace the None values with empty lists so the count of string values evaluates to 0\n",
    "#and make sure each cell is a list\n",
    "keywords_use = keywords.to_frame().apply(\n",
    "    lambda row: row.apply(\n",
    "        lambda cell: [cell] if isinstance(cell, str) else cell if isinstance(cell, list) else []\n",
    "    ),\n",
    "    axis=1    \n",
    ")\n",
    "keywords_use"
   ]
  },
  {
   "cell_type": "code",
   "execution_count": 71,
   "id": "0ca6c22d",
   "metadata": {},
   "outputs": [
    {
     "data": {
      "text/plain": [
       "0        9\n",
       "1       20\n",
       "2        7\n",
       "3        6\n",
       "4       16\n",
       "        ..\n",
       "3455     0\n",
       "3456     0\n",
       "3457     1\n",
       "3458     0\n",
       "3459     0\n",
       "Length: 3460, dtype: int64"
      ]
     },
     "execution_count": 71,
     "metadata": {},
     "output_type": "execute_result"
    }
   ],
   "source": [
    "#count keywords for each object\n",
    "keyword_counts = keywords_use.apply(\n",
    "    lambda row: sum([len(row[entry]) for entry in keywords_use.columns if row[entry]]),\n",
    "    axis=1\n",
    ")\n",
    "keyword_counts"
   ]
  },
  {
   "cell_type": "code",
   "execution_count": 72,
   "id": "80329f07",
   "metadata": {},
   "outputs": [
    {
     "data": {
      "text/plain": [
       "{'mean': 2.421098265895954, 'median': 2.0, 'max': 23}"
      ]
     },
     "execution_count": 72,
     "metadata": {},
     "output_type": "execute_result"
    }
   ],
   "source": [
    "#get summary statistics\n",
    "analysis.get_summary_statistics(keyword_counts)"
   ]
  },
  {
   "cell_type": "markdown",
   "id": "696bef5e",
   "metadata": {
    "pycharm": {
     "name": "#%% md\n"
    }
   },
   "source": [
    "## 14. Who are the most common funding agencies for each repo? What are the object counts per agency?\n",
    "**Property:** Funding Agency"
   ]
  },
  {
   "cell_type": "code",
   "execution_count": 73,
   "id": "13b88b58",
   "metadata": {
    "pycharm": {
     "name": "#%%\n"
    }
   },
   "outputs": [],
   "source": [
    "funders = df.OpenMLDatasetsCrosswalk.funding_agency\n",
    "funders"
   ]
  },
  {
   "cell_type": "code",
   "execution_count": 74,
   "id": "b5ca0e4e",
   "metadata": {},
   "outputs": [
    {
     "name": "stdout",
     "output_type": "stream",
     "text": [
      "None\n"
     ]
    }
   ],
   "source": [
    "#confirm missing for this repo\n",
    "print(df.OpenMLDatasetsCrosswalk.funding_agency)"
   ]
  },
  {
   "cell_type": "markdown",
   "id": "b4467922",
   "metadata": {
    "pycharm": {
     "name": "#%% md\n"
    }
   },
   "source": [
    "## 15. What are the mean, median, and max number of Views per object?\n",
    "**Property:** Views\n",
    "**Related function:** `get_summary_statistics`"
   ]
  },
  {
   "cell_type": "code",
   "execution_count": 75,
   "id": "6807f028",
   "metadata": {
    "pycharm": {
     "name": "#%%\n"
    }
   },
   "outputs": [],
   "source": [
    "views = df.OpenMLDatasetsCrosswalk.views\n",
    "views"
   ]
  },
  {
   "cell_type": "code",
   "execution_count": 76,
   "id": "ada036c0",
   "metadata": {},
   "outputs": [
    {
     "name": "stdout",
     "output_type": "stream",
     "text": [
      "None\n"
     ]
    }
   ],
   "source": [
    "#confirm missing for repo\n",
    "print(df.OpenMLDatasetsCrosswalk.views)"
   ]
  },
  {
   "cell_type": "markdown",
   "id": "54ec7768",
   "metadata": {
    "pycharm": {
     "name": "#%% md\n"
    }
   },
   "source": [
    "## 16. What are the mean, median, and max (total) number of downloads per object?\n",
    "**Property:** Downloads\n",
    "**Related function:** `get_summary_statistics`"
   ]
  },
  {
   "cell_type": "code",
   "execution_count": 77,
   "id": "eb9ff0d1",
   "metadata": {
    "pycharm": {
     "name": "#%%\n"
    }
   },
   "outputs": [
    {
     "data": {
      "text/html": [
       "<div>\n",
       "<style scoped>\n",
       "    .dataframe tbody tr th:only-of-type {\n",
       "        vertical-align: middle;\n",
       "    }\n",
       "\n",
       "    .dataframe tbody tr th {\n",
       "        vertical-align: top;\n",
       "    }\n",
       "\n",
       "    .dataframe thead th {\n",
       "        text-align: right;\n",
       "    }\n",
       "</style>\n",
       "<table border=\"1\" class=\"dataframe\">\n",
       "  <thead>\n",
       "    <tr style=\"text-align: right;\">\n",
       "      <th></th>\n",
       "      <th>num_downloads</th>\n",
       "      <th>num_unique_downloads</th>\n",
       "    </tr>\n",
       "  </thead>\n",
       "  <tbody>\n",
       "    <tr>\n",
       "      <th>0</th>\n",
       "      <td>16.0</td>\n",
       "      <td>19.0</td>\n",
       "    </tr>\n",
       "    <tr>\n",
       "      <th>1</th>\n",
       "      <td>44.0</td>\n",
       "      <td>56.0</td>\n",
       "    </tr>\n",
       "    <tr>\n",
       "      <th>2</th>\n",
       "      <td>17.0</td>\n",
       "      <td>17.0</td>\n",
       "    </tr>\n",
       "    <tr>\n",
       "      <th>3</th>\n",
       "      <td>50.0</td>\n",
       "      <td>57.0</td>\n",
       "    </tr>\n",
       "    <tr>\n",
       "      <th>4</th>\n",
       "      <td>73.0</td>\n",
       "      <td>89.0</td>\n",
       "    </tr>\n",
       "    <tr>\n",
       "      <th>...</th>\n",
       "      <td>...</td>\n",
       "      <td>...</td>\n",
       "    </tr>\n",
       "    <tr>\n",
       "      <th>3455</th>\n",
       "      <td>0.0</td>\n",
       "      <td>0.0</td>\n",
       "    </tr>\n",
       "    <tr>\n",
       "      <th>3456</th>\n",
       "      <td>0.0</td>\n",
       "      <td>0.0</td>\n",
       "    </tr>\n",
       "    <tr>\n",
       "      <th>3457</th>\n",
       "      <td>0.0</td>\n",
       "      <td>0.0</td>\n",
       "    </tr>\n",
       "    <tr>\n",
       "      <th>3458</th>\n",
       "      <td>0.0</td>\n",
       "      <td>0.0</td>\n",
       "    </tr>\n",
       "    <tr>\n",
       "      <th>3459</th>\n",
       "      <td>0.0</td>\n",
       "      <td>0.0</td>\n",
       "    </tr>\n",
       "  </tbody>\n",
       "</table>\n",
       "<p>3460 rows × 2 columns</p>\n",
       "</div>"
      ],
      "text/plain": [
       "      num_downloads  num_unique_downloads\n",
       "0              16.0                  19.0\n",
       "1              44.0                  56.0\n",
       "2              17.0                  17.0\n",
       "3              50.0                  57.0\n",
       "4              73.0                  89.0\n",
       "...             ...                   ...\n",
       "3455            0.0                   0.0\n",
       "3456            0.0                   0.0\n",
       "3457            0.0                   0.0\n",
       "3458            0.0                   0.0\n",
       "3459            0.0                   0.0\n",
       "\n",
       "[3460 rows x 2 columns]"
      ]
     },
     "execution_count": 77,
     "metadata": {},
     "output_type": "execute_result"
    }
   ],
   "source": [
    "downloads = df.OpenMLDatasetsCrosswalk.downloads\n",
    "downloads"
   ]
  },
  {
   "cell_type": "code",
   "execution_count": 78,
   "id": "b6f3a57e",
   "metadata": {},
   "outputs": [
    {
     "data": {
      "text/plain": [
       "{'mean': 3.4796605209247877, 'median': 1.0, 'max': 294.0}"
      ]
     },
     "execution_count": 78,
     "metadata": {},
     "output_type": "execute_result"
    }
   ],
   "source": [
    "#number of downloads\n",
    "analysis.get_summary_statistics(downloads['num_downloads'].dropna())"
   ]
  },
  {
   "cell_type": "code",
   "execution_count": 79,
   "id": "7194fa2b",
   "metadata": {},
   "outputs": [
    {
     "data": {
      "text/plain": [
       "{'mean': 4.309628328943518, 'median': 1.0, 'max': 457.0}"
      ]
     },
     "execution_count": 79,
     "metadata": {},
     "output_type": "execute_result"
    }
   ],
   "source": [
    "#number of unique downloads\n",
    "analysis.get_summary_statistics(downloads['num_unique_downloads'].dropna())"
   ]
  },
  {
   "cell_type": "code",
   "execution_count": 80,
   "id": "bd7f467c",
   "metadata": {},
   "outputs": [
    {
     "data": {
      "text/html": [
       "<div>\n",
       "<style scoped>\n",
       "    .dataframe tbody tr th:only-of-type {\n",
       "        vertical-align: middle;\n",
       "    }\n",
       "\n",
       "    .dataframe tbody tr th {\n",
       "        vertical-align: top;\n",
       "    }\n",
       "\n",
       "    .dataframe thead th {\n",
       "        text-align: right;\n",
       "    }\n",
       "</style>\n",
       "<table border=\"1\" class=\"dataframe\">\n",
       "  <thead>\n",
       "    <tr style=\"text-align: right;\">\n",
       "      <th></th>\n",
       "      <th>num_downloads</th>\n",
       "      <th>num_unique_downloads</th>\n",
       "    </tr>\n",
       "  </thead>\n",
       "  <tbody>\n",
       "    <tr>\n",
       "      <th>26</th>\n",
       "      <td>294.0</td>\n",
       "      <td>457.0</td>\n",
       "    </tr>\n",
       "  </tbody>\n",
       "</table>\n",
       "</div>"
      ],
      "text/plain": [
       "    num_downloads  num_unique_downloads\n",
       "26          294.0                 457.0"
      ]
     },
     "execution_count": 80,
     "metadata": {},
     "output_type": "execute_result"
    }
   ],
   "source": [
    "#max unique shouldn't be higher than max for all downloads\n",
    "downloads.loc[downloads['num_downloads'] == 294]"
   ]
  },
  {
   "cell_type": "code",
   "execution_count": 81,
   "id": "cd2f6557",
   "metadata": {},
   "outputs": [],
   "source": [
    "#this is from the underlying data, not something induced by analysis"
   ]
  },
  {
   "cell_type": "markdown",
   "id": "3df2a3d2",
   "metadata": {
    "pycharm": {
     "name": "#%% md\n"
    }
   },
   "source": [
    "## 17. What are the mean, median, and max Citation counts per object?\n",
    "**Property:** Citation count\n",
    "**Related function:** `get_summary_statistics`"
   ]
  },
  {
   "cell_type": "code",
   "execution_count": 82,
   "id": "c80f5924",
   "metadata": {
    "pycharm": {
     "name": "#%%\n"
    }
   },
   "outputs": [],
   "source": [
    "citation_count = df.OpenMLDatasetsCrosswalk.citation_count\n",
    "citation_count"
   ]
  },
  {
   "cell_type": "code",
   "execution_count": 83,
   "id": "c57ae882",
   "metadata": {},
   "outputs": [
    {
     "name": "stdout",
     "output_type": "stream",
     "text": [
      "None\n"
     ]
    }
   ],
   "source": [
    "#confirm missing for repo\n",
    "print(df.OpenMLDatasetsCrosswalk.citation_count)"
   ]
  },
  {
   "cell_type": "markdown",
   "id": "f45949bb",
   "metadata": {
    "pycharm": {
     "name": "#%% md\n"
    }
   },
   "source": [
    "## 18. How many objects contain each given resource type?\n",
    "**Property:** Resource type"
   ]
  },
  {
   "cell_type": "code",
   "execution_count": 84,
   "id": "901fd410",
   "metadata": {
    "pycharm": {
     "name": "#%%\n"
    }
   },
   "outputs": [],
   "source": [
    "resource_types = df.OpenMLDatasetsCrosswalk.resource_type\n",
    "resource_types"
   ]
  },
  {
   "cell_type": "code",
   "execution_count": 85,
   "id": "ba282046",
   "metadata": {},
   "outputs": [
    {
     "name": "stdout",
     "output_type": "stream",
     "text": [
      "None\n"
     ]
    }
   ],
   "source": [
    "#confirm missing for repo\n",
    "print(df.OpenMLDatasetsCrosswalk.resource_type)"
   ]
  },
  {
   "cell_type": "markdown",
   "id": "729bd05d",
   "metadata": {
    "pycharm": {
     "name": "#%% md\n"
    }
   },
   "source": [
    "## 19. How many objects contain each type of file extension given?\n",
    "**Property:** File Extension\n",
    "**Related function:** `get_file_extensions`"
   ]
  },
  {
   "cell_type": "code",
   "execution_count": 86,
   "id": "199cd881",
   "metadata": {
    "pycharm": {
     "is_executing": true,
     "name": "#%%\n"
    }
   },
   "outputs": [],
   "source": [
    "files = df.OpenMLDatasetsCrosswalk.file_extension\n",
    "files"
   ]
  },
  {
   "cell_type": "code",
   "execution_count": 87,
   "id": "67f30363",
   "metadata": {},
   "outputs": [
    {
     "name": "stdout",
     "output_type": "stream",
     "text": [
      "None\n"
     ]
    }
   ],
   "source": [
    "#confirm missing for this repo\n",
    "print(df.OpenMLDatasetsCrosswalk.file_extension)"
   ]
  },
  {
   "cell_type": "markdown",
   "id": "13746c63",
   "metadata": {
    "pycharm": {
     "name": "#%% md\n"
    }
   },
   "source": [
    "## 19.5 How many files of each type of file extension are present?\n",
    "**Property:** File extension"
   ]
  },
  {
   "cell_type": "code",
   "execution_count": 88,
   "id": "29d24f5e",
   "metadata": {
    "pycharm": {
     "is_executing": true,
     "name": "#%%\n"
    }
   },
   "outputs": [],
   "source": [
    "files = df.OpenMLDatasetsCrosswalk.file_extension\n",
    "files"
   ]
  },
  {
   "cell_type": "code",
   "execution_count": 89,
   "id": "598c0da9",
   "metadata": {},
   "outputs": [
    {
     "name": "stdout",
     "output_type": "stream",
     "text": [
      "None\n"
     ]
    }
   ],
   "source": [
    "#confirm missing for this repo\n",
    "print(df.OpenMLDatasetsCrosswalk.file_extension)"
   ]
  },
  {
   "cell_type": "markdown",
   "id": "60a0c3ce",
   "metadata": {
    "pycharm": {
     "name": "#%% md\n"
    }
   },
   "source": [
    "## 20. How many objects contain each type of File format given?\n",
    "**Property:** File format"
   ]
  },
  {
   "cell_type": "code",
   "execution_count": 90,
   "id": "6ce376f2",
   "metadata": {
    "pycharm": {
     "name": "#%%\n"
    }
   },
   "outputs": [
    {
     "data": {
      "text/plain": [
       "0       ARFF\n",
       "1       ARFF\n",
       "2       ARFF\n",
       "3       ARFF\n",
       "4       ARFF\n",
       "        ... \n",
       "3455    ARFF\n",
       "3456    ARFF\n",
       "3457    ARFF\n",
       "3458    arff\n",
       "3459    arff\n",
       "Name: format, Length: 3460, dtype: object"
      ]
     },
     "execution_count": 90,
     "metadata": {},
     "output_type": "execute_result"
    }
   ],
   "source": [
    "file_formats = df.OpenMLDatasetsCrosswalk.file_format\n",
    "file_formats"
   ]
  },
  {
   "cell_type": "code",
   "execution_count": 91,
   "id": "9fa36676",
   "metadata": {},
   "outputs": [
    {
     "data": {
      "text/plain": [
       "ARFF           1815\n",
       "Sparse_ARFF    1149\n",
       "arff            495\n",
       "sparse_arff       1\n",
       "Name: format, dtype: int64"
      ]
     },
     "execution_count": 91,
     "metadata": {},
     "output_type": "execute_result"
    }
   ],
   "source": [
    "file_formats.value_counts()"
   ]
  },
  {
   "cell_type": "markdown",
   "id": "5bb7ac59",
   "metadata": {},
   "source": [
    "All objects have ARFF format"
   ]
  },
  {
   "cell_type": "markdown",
   "id": "667f3493",
   "metadata": {
    "pycharm": {
     "name": "#%% md\n"
    }
   },
   "source": [
    "## 21. How many objects contain each type of Media type given?\n",
    "**Property:** Media type"
   ]
  },
  {
   "cell_type": "code",
   "execution_count": 92,
   "id": "27b592a8",
   "metadata": {
    "pycharm": {
     "name": "#%%\n"
    }
   },
   "outputs": [],
   "source": [
    "media_types = df.OpenMLDatasetsCrosswalk.media_type\n",
    "media_types"
   ]
  },
  {
   "cell_type": "code",
   "execution_count": 93,
   "id": "c05864be",
   "metadata": {},
   "outputs": [
    {
     "name": "stdout",
     "output_type": "stream",
     "text": [
      "None\n"
     ]
    }
   ],
   "source": [
    "#confirm missing for repo\n",
    "print(df.OpenMLDatasetsCrosswalk.media_type)"
   ]
  },
  {
   "cell_type": "markdown",
   "id": "19354692",
   "metadata": {
    "pycharm": {
     "name": "#%% md\n"
    }
   },
   "source": [
    "## 22. a) How many objects report one related resource type, and b) how many objects report each of those types? c) How many objects report multiple related resource types (regardless of which types)?\n",
    "**Property:** Related resource type"
   ]
  },
  {
   "cell_type": "code",
   "execution_count": 94,
   "id": "cf1f428c",
   "metadata": {
    "pycharm": {
     "name": "#%%\n"
    }
   },
   "outputs": [],
   "source": [
    "related_resource_types = df.OpenMLDatasetsCrosswalk.related_resource_type\n",
    "related_resource_types"
   ]
  },
  {
   "cell_type": "code",
   "execution_count": 95,
   "id": "de6c93f5",
   "metadata": {},
   "outputs": [
    {
     "name": "stdout",
     "output_type": "stream",
     "text": [
      "None\n"
     ]
    }
   ],
   "source": [
    "#confirm missing for repo\n",
    "print(df.OpenMLDatasetsCrosswalk.related_resource_type)"
   ]
  },
  {
   "cell_type": "markdown",
   "id": "8975767e",
   "metadata": {
    "pycharm": {
     "name": "#%% md\n"
    }
   },
   "source": [
    "\n",
    "## 23-25. If there is an entry for an object in one of the three properties (Original data URL, Primary manuscript PID/URL, and Related resource identifier) count as Related resources = True and then count the number of objects that return True.\n",
    "**Property:** Related Resource Identifier"
   ]
  },
  {
   "cell_type": "code",
   "execution_count": 96,
   "id": "b68ba047",
   "metadata": {
    "pycharm": {
     "is_executing": true,
     "name": "#%%\n"
    }
   },
   "outputs": [
    {
     "name": "stdout",
     "output_type": "stream",
     "text": [
      "0       https://archive.ics.uci.edu/ml/datasets/Annealing\n",
      "1       https://archive.ics.uci.edu/ml/datasets/Chess+...\n",
      "2       https://archive.ics.uci.edu/ml/datasets/Labor+...\n",
      "3       https://archive.ics.uci.edu/ml/datasets/arrhyt...\n",
      "4       https://archive.ics.uci.edu/ml/datasets/Letter...\n",
      "                              ...                        \n",
      "3455                                                 None\n",
      "3456    https://www.kaggle.com/xiaozhouwang/2nd-place-...\n",
      "3457                                                 None\n",
      "3458    https://www4.stat.ncsu.edu/~boos/var.select/di...\n",
      "3459    https://www4.stat.ncsu.edu/~boos/var.select/di...\n",
      "Name: original_data_url, Length: 3460, dtype: object\n"
     ]
    }
   ],
   "source": [
    "print(df.OpenMLDatasetsCrosswalk.original_data_url)"
   ]
  },
  {
   "cell_type": "code",
   "execution_count": 97,
   "id": "93013314",
   "metadata": {},
   "outputs": [
    {
     "name": "stdout",
     "output_type": "stream",
     "text": [
      "None\n"
     ]
    }
   ],
   "source": [
    "print(df.OpenMLDatasetsCrosswalk.primary_manuscript)"
   ]
  },
  {
   "cell_type": "code",
   "execution_count": 98,
   "id": "32af2477",
   "metadata": {},
   "outputs": [
    {
     "name": "stdout",
     "output_type": "stream",
     "text": [
      "0                                                    None\n",
      "1                https://dl.acm.org/doi/abs/10.5555/32231\n",
      "2       http://citeseerx.ist.psu.edu/viewdoc/summary?d...\n",
      "3                                                    None\n",
      "4       https://link.springer.com/article/10.1007%252F...\n",
      "                              ...                        \n",
      "3455                                                 None\n",
      "3456                                                 None\n",
      "3457                                                 None\n",
      "3458    https://web.stanford.edu/~hastie/Papers/LARS/L...\n",
      "3459                                                 test\n",
      "Name: paper_url, Length: 3460, dtype: object\n"
     ]
    }
   ],
   "source": [
    "print(df.OpenMLDatasetsCrosswalk.related_resource_identifier)"
   ]
  },
  {
   "cell_type": "code",
   "execution_count": 99,
   "id": "bf190683",
   "metadata": {},
   "outputs": [],
   "source": [
    "related_resource1 = df.OpenMLDatasetsCrosswalk.original_data_url\n",
    "related_resource2 = df.OpenMLDatasetsCrosswalk.related_resource_identifier"
   ]
  },
  {
   "cell_type": "code",
   "execution_count": 100,
   "id": "43442a3a",
   "metadata": {},
   "outputs": [
    {
     "data": {
      "text/html": [
       "<div>\n",
       "<style scoped>\n",
       "    .dataframe tbody tr th:only-of-type {\n",
       "        vertical-align: middle;\n",
       "    }\n",
       "\n",
       "    .dataframe tbody tr th {\n",
       "        vertical-align: top;\n",
       "    }\n",
       "\n",
       "    .dataframe thead th {\n",
       "        text-align: right;\n",
       "    }\n",
       "</style>\n",
       "<table border=\"1\" class=\"dataframe\">\n",
       "  <thead>\n",
       "    <tr style=\"text-align: right;\">\n",
       "      <th></th>\n",
       "      <th>did</th>\n",
       "      <th>original_data_url</th>\n",
       "      <th>paper_url</th>\n",
       "    </tr>\n",
       "  </thead>\n",
       "  <tbody>\n",
       "    <tr>\n",
       "      <th>0</th>\n",
       "      <td>2</td>\n",
       "      <td>https://archive.ics.uci.edu/ml/datasets/Annealing</td>\n",
       "      <td>None</td>\n",
       "    </tr>\n",
       "    <tr>\n",
       "      <th>1</th>\n",
       "      <td>3</td>\n",
       "      <td>https://archive.ics.uci.edu/ml/datasets/Chess+...</td>\n",
       "      <td>https://dl.acm.org/doi/abs/10.5555/32231</td>\n",
       "    </tr>\n",
       "    <tr>\n",
       "      <th>2</th>\n",
       "      <td>4</td>\n",
       "      <td>https://archive.ics.uci.edu/ml/datasets/Labor+...</td>\n",
       "      <td>http://citeseerx.ist.psu.edu/viewdoc/summary?d...</td>\n",
       "    </tr>\n",
       "    <tr>\n",
       "      <th>3</th>\n",
       "      <td>5</td>\n",
       "      <td>https://archive.ics.uci.edu/ml/datasets/arrhyt...</td>\n",
       "      <td>None</td>\n",
       "    </tr>\n",
       "    <tr>\n",
       "      <th>4</th>\n",
       "      <td>6</td>\n",
       "      <td>https://archive.ics.uci.edu/ml/datasets/Letter...</td>\n",
       "      <td>https://link.springer.com/article/10.1007%252F...</td>\n",
       "    </tr>\n",
       "    <tr>\n",
       "      <th>...</th>\n",
       "      <td>...</td>\n",
       "      <td>...</td>\n",
       "      <td>...</td>\n",
       "    </tr>\n",
       "    <tr>\n",
       "      <th>3455</th>\n",
       "      <td>43119</td>\n",
       "      <td>None</td>\n",
       "      <td>None</td>\n",
       "    </tr>\n",
       "    <tr>\n",
       "      <th>3456</th>\n",
       "      <td>43121</td>\n",
       "      <td>https://www.kaggle.com/xiaozhouwang/2nd-place-...</td>\n",
       "      <td>None</td>\n",
       "    </tr>\n",
       "    <tr>\n",
       "      <th>3457</th>\n",
       "      <td>43122</td>\n",
       "      <td>None</td>\n",
       "      <td>None</td>\n",
       "    </tr>\n",
       "    <tr>\n",
       "      <th>3458</th>\n",
       "      <td>43123</td>\n",
       "      <td>https://www4.stat.ncsu.edu/~boos/var.select/di...</td>\n",
       "      <td>https://web.stanford.edu/~hastie/Papers/LARS/L...</td>\n",
       "    </tr>\n",
       "    <tr>\n",
       "      <th>3459</th>\n",
       "      <td>43127</td>\n",
       "      <td>https://www4.stat.ncsu.edu/~boos/var.select/di...</td>\n",
       "      <td>test</td>\n",
       "    </tr>\n",
       "  </tbody>\n",
       "</table>\n",
       "<p>3460 rows × 3 columns</p>\n",
       "</div>"
      ],
      "text/plain": [
       "        did                                  original_data_url  \\\n",
       "0         2  https://archive.ics.uci.edu/ml/datasets/Annealing   \n",
       "1         3  https://archive.ics.uci.edu/ml/datasets/Chess+...   \n",
       "2         4  https://archive.ics.uci.edu/ml/datasets/Labor+...   \n",
       "3         5  https://archive.ics.uci.edu/ml/datasets/arrhyt...   \n",
       "4         6  https://archive.ics.uci.edu/ml/datasets/Letter...   \n",
       "...     ...                                                ...   \n",
       "3455  43119                                               None   \n",
       "3456  43121  https://www.kaggle.com/xiaozhouwang/2nd-place-...   \n",
       "3457  43122                                               None   \n",
       "3458  43123  https://www4.stat.ncsu.edu/~boos/var.select/di...   \n",
       "3459  43127  https://www4.stat.ncsu.edu/~boos/var.select/di...   \n",
       "\n",
       "                                              paper_url  \n",
       "0                                                  None  \n",
       "1              https://dl.acm.org/doi/abs/10.5555/32231  \n",
       "2     http://citeseerx.ist.psu.edu/viewdoc/summary?d...  \n",
       "3                                                  None  \n",
       "4     https://link.springer.com/article/10.1007%252F...  \n",
       "...                                                 ...  \n",
       "3455                                               None  \n",
       "3456                                               None  \n",
       "3457                                               None  \n",
       "3458  https://web.stanford.edu/~hastie/Papers/LARS/L...  \n",
       "3459                                               test  \n",
       "\n",
       "[3460 rows x 3 columns]"
      ]
     },
     "execution_count": 100,
     "metadata": {},
     "output_type": "execute_result"
    }
   ],
   "source": [
    "#concatenate resources and id\n",
    "related_resource_all = pd.concat([related_resource1, related_resource2], axis = 1)\n",
    "related_resource_all = pd.concat([ids, related_resource_all], axis = 1)\n",
    "related_resource_all"
   ]
  },
  {
   "cell_type": "code",
   "execution_count": 101,
   "id": "072c0055",
   "metadata": {
    "scrolled": true
   },
   "outputs": [
    {
     "data": {
      "text/html": [
       "<div>\n",
       "<style scoped>\n",
       "    .dataframe tbody tr th:only-of-type {\n",
       "        vertical-align: middle;\n",
       "    }\n",
       "\n",
       "    .dataframe tbody tr th {\n",
       "        vertical-align: top;\n",
       "    }\n",
       "\n",
       "    .dataframe thead th {\n",
       "        text-align: right;\n",
       "    }\n",
       "</style>\n",
       "<table border=\"1\" class=\"dataframe\">\n",
       "  <thead>\n",
       "    <tr style=\"text-align: right;\">\n",
       "      <th></th>\n",
       "      <th>did</th>\n",
       "      <th>original_data_url</th>\n",
       "      <th>paper_url</th>\n",
       "    </tr>\n",
       "  </thead>\n",
       "  <tbody>\n",
       "    <tr>\n",
       "      <th>0</th>\n",
       "      <td>[2]</td>\n",
       "      <td>[https://archive.ics.uci.edu/ml/datasets/Annea...</td>\n",
       "      <td>[]</td>\n",
       "    </tr>\n",
       "    <tr>\n",
       "      <th>1</th>\n",
       "      <td>[3]</td>\n",
       "      <td>[https://archive.ics.uci.edu/ml/datasets/Chess...</td>\n",
       "      <td>[https://dl.acm.org/doi/abs/10.5555/32231]</td>\n",
       "    </tr>\n",
       "    <tr>\n",
       "      <th>2</th>\n",
       "      <td>[4]</td>\n",
       "      <td>[https://archive.ics.uci.edu/ml/datasets/Labor...</td>\n",
       "      <td>[http://citeseerx.ist.psu.edu/viewdoc/summary?...</td>\n",
       "    </tr>\n",
       "    <tr>\n",
       "      <th>3</th>\n",
       "      <td>[5]</td>\n",
       "      <td>[https://archive.ics.uci.edu/ml/datasets/arrhy...</td>\n",
       "      <td>[]</td>\n",
       "    </tr>\n",
       "    <tr>\n",
       "      <th>4</th>\n",
       "      <td>[6]</td>\n",
       "      <td>[https://archive.ics.uci.edu/ml/datasets/Lette...</td>\n",
       "      <td>[https://link.springer.com/article/10.1007%252...</td>\n",
       "    </tr>\n",
       "    <tr>\n",
       "      <th>...</th>\n",
       "      <td>...</td>\n",
       "      <td>...</td>\n",
       "      <td>...</td>\n",
       "    </tr>\n",
       "    <tr>\n",
       "      <th>3455</th>\n",
       "      <td>[43119]</td>\n",
       "      <td>[]</td>\n",
       "      <td>[]</td>\n",
       "    </tr>\n",
       "    <tr>\n",
       "      <th>3456</th>\n",
       "      <td>[43121]</td>\n",
       "      <td>[https://www.kaggle.com/xiaozhouwang/2nd-place...</td>\n",
       "      <td>[]</td>\n",
       "    </tr>\n",
       "    <tr>\n",
       "      <th>3457</th>\n",
       "      <td>[43122]</td>\n",
       "      <td>[]</td>\n",
       "      <td>[]</td>\n",
       "    </tr>\n",
       "    <tr>\n",
       "      <th>3458</th>\n",
       "      <td>[43123]</td>\n",
       "      <td>[https://www4.stat.ncsu.edu/~boos/var.select/d...</td>\n",
       "      <td>[https://web.stanford.edu/~hastie/Papers/LARS/...</td>\n",
       "    </tr>\n",
       "    <tr>\n",
       "      <th>3459</th>\n",
       "      <td>[43127]</td>\n",
       "      <td>[https://www4.stat.ncsu.edu/~boos/var.select/d...</td>\n",
       "      <td>[test]</td>\n",
       "    </tr>\n",
       "  </tbody>\n",
       "</table>\n",
       "<p>3460 rows × 3 columns</p>\n",
       "</div>"
      ],
      "text/plain": [
       "          did                                  original_data_url  \\\n",
       "0         [2]  [https://archive.ics.uci.edu/ml/datasets/Annea...   \n",
       "1         [3]  [https://archive.ics.uci.edu/ml/datasets/Chess...   \n",
       "2         [4]  [https://archive.ics.uci.edu/ml/datasets/Labor...   \n",
       "3         [5]  [https://archive.ics.uci.edu/ml/datasets/arrhy...   \n",
       "4         [6]  [https://archive.ics.uci.edu/ml/datasets/Lette...   \n",
       "...       ...                                                ...   \n",
       "3455  [43119]                                                 []   \n",
       "3456  [43121]  [https://www.kaggle.com/xiaozhouwang/2nd-place...   \n",
       "3457  [43122]                                                 []   \n",
       "3458  [43123]  [https://www4.stat.ncsu.edu/~boos/var.select/d...   \n",
       "3459  [43127]  [https://www4.stat.ncsu.edu/~boos/var.select/d...   \n",
       "\n",
       "                                              paper_url  \n",
       "0                                                    []  \n",
       "1            [https://dl.acm.org/doi/abs/10.5555/32231]  \n",
       "2     [http://citeseerx.ist.psu.edu/viewdoc/summary?...  \n",
       "3                                                    []  \n",
       "4     [https://link.springer.com/article/10.1007%252...  \n",
       "...                                                 ...  \n",
       "3455                                                 []  \n",
       "3456                                                 []  \n",
       "3457                                                 []  \n",
       "3458  [https://web.stanford.edu/~hastie/Papers/LARS/...  \n",
       "3459                                             [test]  \n",
       "\n",
       "[3460 rows x 3 columns]"
      ]
     },
     "execution_count": 101,
     "metadata": {},
     "output_type": "execute_result"
    }
   ],
   "source": [
    "#replace the None values with empty lists so the count of string values evaluates to 0\n",
    "#put item in each cell into list\n",
    "related_resource_all = related_resource_all.apply(\n",
    "    lambda row: row.apply(\n",
    "        lambda cell: [cell] if cell else []\n",
    "    ),\n",
    "    axis=1\n",
    ")\n",
    "related_resource_all"
   ]
  },
  {
   "cell_type": "code",
   "execution_count": 102,
   "id": "1914fe7b",
   "metadata": {},
   "outputs": [
    {
     "data": {
      "text/html": [
       "<div>\n",
       "<style scoped>\n",
       "    .dataframe tbody tr th:only-of-type {\n",
       "        vertical-align: middle;\n",
       "    }\n",
       "\n",
       "    .dataframe tbody tr th {\n",
       "        vertical-align: top;\n",
       "    }\n",
       "\n",
       "    .dataframe thead th {\n",
       "        text-align: right;\n",
       "    }\n",
       "</style>\n",
       "<table border=\"1\" class=\"dataframe\">\n",
       "  <thead>\n",
       "    <tr style=\"text-align: right;\">\n",
       "      <th></th>\n",
       "      <th>original_data_url</th>\n",
       "      <th>paper_url</th>\n",
       "    </tr>\n",
       "  </thead>\n",
       "  <tbody>\n",
       "    <tr>\n",
       "      <th>0</th>\n",
       "      <td>[https://archive.ics.uci.edu/ml/datasets/Annea...</td>\n",
       "      <td>[]</td>\n",
       "    </tr>\n",
       "    <tr>\n",
       "      <th>1</th>\n",
       "      <td>[https://archive.ics.uci.edu/ml/datasets/Chess...</td>\n",
       "      <td>[https://dl.acm.org/doi/abs/10.5555/32231]</td>\n",
       "    </tr>\n",
       "    <tr>\n",
       "      <th>2</th>\n",
       "      <td>[https://archive.ics.uci.edu/ml/datasets/Labor...</td>\n",
       "      <td>[http://citeseerx.ist.psu.edu/viewdoc/summary?...</td>\n",
       "    </tr>\n",
       "    <tr>\n",
       "      <th>3</th>\n",
       "      <td>[https://archive.ics.uci.edu/ml/datasets/arrhy...</td>\n",
       "      <td>[]</td>\n",
       "    </tr>\n",
       "    <tr>\n",
       "      <th>4</th>\n",
       "      <td>[https://archive.ics.uci.edu/ml/datasets/Lette...</td>\n",
       "      <td>[https://link.springer.com/article/10.1007%252...</td>\n",
       "    </tr>\n",
       "    <tr>\n",
       "      <th>...</th>\n",
       "      <td>...</td>\n",
       "      <td>...</td>\n",
       "    </tr>\n",
       "    <tr>\n",
       "      <th>3455</th>\n",
       "      <td>[]</td>\n",
       "      <td>[]</td>\n",
       "    </tr>\n",
       "    <tr>\n",
       "      <th>3456</th>\n",
       "      <td>[https://www.kaggle.com/xiaozhouwang/2nd-place...</td>\n",
       "      <td>[]</td>\n",
       "    </tr>\n",
       "    <tr>\n",
       "      <th>3457</th>\n",
       "      <td>[]</td>\n",
       "      <td>[]</td>\n",
       "    </tr>\n",
       "    <tr>\n",
       "      <th>3458</th>\n",
       "      <td>[https://www4.stat.ncsu.edu/~boos/var.select/d...</td>\n",
       "      <td>[https://web.stanford.edu/~hastie/Papers/LARS/...</td>\n",
       "    </tr>\n",
       "    <tr>\n",
       "      <th>3459</th>\n",
       "      <td>[https://www4.stat.ncsu.edu/~boos/var.select/d...</td>\n",
       "      <td>[test]</td>\n",
       "    </tr>\n",
       "  </tbody>\n",
       "</table>\n",
       "<p>3460 rows × 2 columns</p>\n",
       "</div>"
      ],
      "text/plain": [
       "                                      original_data_url  \\\n",
       "0     [https://archive.ics.uci.edu/ml/datasets/Annea...   \n",
       "1     [https://archive.ics.uci.edu/ml/datasets/Chess...   \n",
       "2     [https://archive.ics.uci.edu/ml/datasets/Labor...   \n",
       "3     [https://archive.ics.uci.edu/ml/datasets/arrhy...   \n",
       "4     [https://archive.ics.uci.edu/ml/datasets/Lette...   \n",
       "...                                                 ...   \n",
       "3455                                                 []   \n",
       "3456  [https://www.kaggle.com/xiaozhouwang/2nd-place...   \n",
       "3457                                                 []   \n",
       "3458  [https://www4.stat.ncsu.edu/~boos/var.select/d...   \n",
       "3459  [https://www4.stat.ncsu.edu/~boos/var.select/d...   \n",
       "\n",
       "                                              paper_url  \n",
       "0                                                    []  \n",
       "1            [https://dl.acm.org/doi/abs/10.5555/32231]  \n",
       "2     [http://citeseerx.ist.psu.edu/viewdoc/summary?...  \n",
       "3                                                    []  \n",
       "4     [https://link.springer.com/article/10.1007%252...  \n",
       "...                                                 ...  \n",
       "3455                                                 []  \n",
       "3456                                                 []  \n",
       "3457                                                 []  \n",
       "3458  [https://web.stanford.edu/~hastie/Papers/LARS/...  \n",
       "3459                                             [test]  \n",
       "\n",
       "[3460 rows x 2 columns]"
      ]
     },
     "execution_count": 102,
     "metadata": {},
     "output_type": "execute_result"
    }
   ],
   "source": [
    "#remove 'did' column\n",
    "related_resource_use = related_resource_all.drop(['did'], axis = 1)\n",
    "related_resource_use"
   ]
  },
  {
   "cell_type": "markdown",
   "id": "9f26206f",
   "metadata": {
    "pycharm": {
     "name": "#%% md\n"
    }
   },
   "source": [
    "The following code looks at each row of the resulting DataFrame `related_resource_use` and returns `True` if any of the values in it evaluate to `True` (ie not None or empty list)\n",
    "\n",
    "To break it down,\n",
    "```python\n",
    "dd_related_resources.apply(\n",
    "    lambda row: ...,\n",
    "    axis=1\n",
    ")\n",
    "```\n",
    "applies the `lambda: row` function to every row in the DataFrame.\n",
    "\n",
    "```python\n",
    "lambda row: any(row)\n",
    "```\n",
    "is `True` if `any` of the values in the row evaluate as `True`."
   ]
  },
  {
   "cell_type": "code",
   "execution_count": 103,
   "id": "599f5032",
   "metadata": {},
   "outputs": [
    {
     "data": {
      "text/plain": [
       "0        True\n",
       "1        True\n",
       "2        True\n",
       "3        True\n",
       "4        True\n",
       "        ...  \n",
       "3455    False\n",
       "3456     True\n",
       "3457    False\n",
       "3458     True\n",
       "3459     True\n",
       "Length: 3460, dtype: bool"
      ]
     },
     "execution_count": 103,
     "metadata": {},
     "output_type": "execute_result"
    }
   ],
   "source": [
    "related_resource_mask = related_resource_use.apply(\n",
    "    lambda row: any(row), \n",
    "    axis=1\n",
    ")\n",
    "\n",
    "related_resource_mask"
   ]
  },
  {
   "cell_type": "code",
   "execution_count": 104,
   "id": "87895feb",
   "metadata": {},
   "outputs": [
    {
     "name": "stdout",
     "output_type": "stream",
     "text": [
      "1661 of the 3460 objects have a related_resource\n"
     ]
    }
   ],
   "source": [
    "print(f'{related_resource_mask.sum()} of the {len(related_resource_all)} objects have a related_resource')"
   ]
  },
  {
   "cell_type": "markdown",
   "id": "a5b237a2",
   "metadata": {
    "pycharm": {
     "name": "#%% md\n"
    }
   },
   "source": [
    "## 23-25. Also, what is the mean number of related resource links per object (again looking at the three properties (Original data URL, Primary manuscript PID/URL, nd Related resource identifier)?\n",
    "**Property:** Related Resource Identifier"
   ]
  },
  {
   "cell_type": "markdown",
   "id": "42b3cde4",
   "metadata": {},
   "source": [
    "We want to calculate this value to be mean number of links *for objects that have links*\n",
    "\n",
    "We can start by subsetting `related_resource_use` by `related_resource_mask`"
   ]
  },
  {
   "cell_type": "code",
   "execution_count": 105,
   "id": "483db539",
   "metadata": {},
   "outputs": [
    {
     "data": {
      "text/html": [
       "<div>\n",
       "<style scoped>\n",
       "    .dataframe tbody tr th:only-of-type {\n",
       "        vertical-align: middle;\n",
       "    }\n",
       "\n",
       "    .dataframe tbody tr th {\n",
       "        vertical-align: top;\n",
       "    }\n",
       "\n",
       "    .dataframe thead th {\n",
       "        text-align: right;\n",
       "    }\n",
       "</style>\n",
       "<table border=\"1\" class=\"dataframe\">\n",
       "  <thead>\n",
       "    <tr style=\"text-align: right;\">\n",
       "      <th></th>\n",
       "      <th>original_data_url</th>\n",
       "      <th>paper_url</th>\n",
       "    </tr>\n",
       "  </thead>\n",
       "  <tbody>\n",
       "    <tr>\n",
       "      <th>0</th>\n",
       "      <td>[https://archive.ics.uci.edu/ml/datasets/Annea...</td>\n",
       "      <td>[]</td>\n",
       "    </tr>\n",
       "    <tr>\n",
       "      <th>1</th>\n",
       "      <td>[https://archive.ics.uci.edu/ml/datasets/Chess...</td>\n",
       "      <td>[https://dl.acm.org/doi/abs/10.5555/32231]</td>\n",
       "    </tr>\n",
       "    <tr>\n",
       "      <th>2</th>\n",
       "      <td>[https://archive.ics.uci.edu/ml/datasets/Labor...</td>\n",
       "      <td>[http://citeseerx.ist.psu.edu/viewdoc/summary?...</td>\n",
       "    </tr>\n",
       "    <tr>\n",
       "      <th>3</th>\n",
       "      <td>[https://archive.ics.uci.edu/ml/datasets/arrhy...</td>\n",
       "      <td>[]</td>\n",
       "    </tr>\n",
       "    <tr>\n",
       "      <th>4</th>\n",
       "      <td>[https://archive.ics.uci.edu/ml/datasets/Lette...</td>\n",
       "      <td>[https://link.springer.com/article/10.1007%252...</td>\n",
       "    </tr>\n",
       "  </tbody>\n",
       "</table>\n",
       "</div>"
      ],
      "text/plain": [
       "                                   original_data_url  \\\n",
       "0  [https://archive.ics.uci.edu/ml/datasets/Annea...   \n",
       "1  [https://archive.ics.uci.edu/ml/datasets/Chess...   \n",
       "2  [https://archive.ics.uci.edu/ml/datasets/Labor...   \n",
       "3  [https://archive.ics.uci.edu/ml/datasets/arrhy...   \n",
       "4  [https://archive.ics.uci.edu/ml/datasets/Lette...   \n",
       "\n",
       "                                           paper_url  \n",
       "0                                                 []  \n",
       "1         [https://dl.acm.org/doi/abs/10.5555/32231]  \n",
       "2  [http://citeseerx.ist.psu.edu/viewdoc/summary?...  \n",
       "3                                                 []  \n",
       "4  [https://link.springer.com/article/10.1007%252...  "
      ]
     },
     "execution_count": 105,
     "metadata": {},
     "output_type": "execute_result"
    }
   ],
   "source": [
    "related_resource_use.head()"
   ]
  },
  {
   "cell_type": "code",
   "execution_count": 106,
   "id": "342f2f4a",
   "metadata": {},
   "outputs": [
    {
     "data": {
      "text/plain": [
       "0        True\n",
       "1        True\n",
       "2        True\n",
       "3        True\n",
       "4        True\n",
       "        ...  \n",
       "3455    False\n",
       "3456     True\n",
       "3457    False\n",
       "3458     True\n",
       "3459     True\n",
       "Length: 3460, dtype: bool"
      ]
     },
     "execution_count": 106,
     "metadata": {},
     "output_type": "execute_result"
    }
   ],
   "source": [
    "related_resource_mask"
   ]
  },
  {
   "cell_type": "code",
   "execution_count": 107,
   "id": "f982a0a6",
   "metadata": {},
   "outputs": [
    {
     "data": {
      "text/html": [
       "<div>\n",
       "<style scoped>\n",
       "    .dataframe tbody tr th:only-of-type {\n",
       "        vertical-align: middle;\n",
       "    }\n",
       "\n",
       "    .dataframe tbody tr th {\n",
       "        vertical-align: top;\n",
       "    }\n",
       "\n",
       "    .dataframe thead th {\n",
       "        text-align: right;\n",
       "    }\n",
       "</style>\n",
       "<table border=\"1\" class=\"dataframe\">\n",
       "  <thead>\n",
       "    <tr style=\"text-align: right;\">\n",
       "      <th></th>\n",
       "      <th>original_data_url</th>\n",
       "      <th>paper_url</th>\n",
       "    </tr>\n",
       "  </thead>\n",
       "  <tbody>\n",
       "    <tr>\n",
       "      <th>0</th>\n",
       "      <td>[https://archive.ics.uci.edu/ml/datasets/Annea...</td>\n",
       "      <td>[]</td>\n",
       "    </tr>\n",
       "    <tr>\n",
       "      <th>1</th>\n",
       "      <td>[https://archive.ics.uci.edu/ml/datasets/Chess...</td>\n",
       "      <td>[https://dl.acm.org/doi/abs/10.5555/32231]</td>\n",
       "    </tr>\n",
       "    <tr>\n",
       "      <th>2</th>\n",
       "      <td>[https://archive.ics.uci.edu/ml/datasets/Labor...</td>\n",
       "      <td>[http://citeseerx.ist.psu.edu/viewdoc/summary?...</td>\n",
       "    </tr>\n",
       "    <tr>\n",
       "      <th>3</th>\n",
       "      <td>[https://archive.ics.uci.edu/ml/datasets/arrhy...</td>\n",
       "      <td>[]</td>\n",
       "    </tr>\n",
       "    <tr>\n",
       "      <th>4</th>\n",
       "      <td>[https://archive.ics.uci.edu/ml/datasets/Lette...</td>\n",
       "      <td>[https://link.springer.com/article/10.1007%252...</td>\n",
       "    </tr>\n",
       "    <tr>\n",
       "      <th>...</th>\n",
       "      <td>...</td>\n",
       "      <td>...</td>\n",
       "    </tr>\n",
       "    <tr>\n",
       "      <th>3428</th>\n",
       "      <td>[http://data.dft.gov.uk/road-accidents-safety-...</td>\n",
       "      <td>[https://data.gov.uk/dataset/road-accidents-sa...</td>\n",
       "    </tr>\n",
       "    <tr>\n",
       "      <th>3431</th>\n",
       "      <td>[http://www.vincentlemaire-labs.fr/kddcup2009/]</td>\n",
       "      <td>[]</td>\n",
       "    </tr>\n",
       "    <tr>\n",
       "      <th>3456</th>\n",
       "      <td>[https://www.kaggle.com/xiaozhouwang/2nd-place...</td>\n",
       "      <td>[]</td>\n",
       "    </tr>\n",
       "    <tr>\n",
       "      <th>3458</th>\n",
       "      <td>[https://www4.stat.ncsu.edu/~boos/var.select/d...</td>\n",
       "      <td>[https://web.stanford.edu/~hastie/Papers/LARS/...</td>\n",
       "    </tr>\n",
       "    <tr>\n",
       "      <th>3459</th>\n",
       "      <td>[https://www4.stat.ncsu.edu/~boos/var.select/d...</td>\n",
       "      <td>[test]</td>\n",
       "    </tr>\n",
       "  </tbody>\n",
       "</table>\n",
       "<p>1661 rows × 2 columns</p>\n",
       "</div>"
      ],
      "text/plain": [
       "                                      original_data_url  \\\n",
       "0     [https://archive.ics.uci.edu/ml/datasets/Annea...   \n",
       "1     [https://archive.ics.uci.edu/ml/datasets/Chess...   \n",
       "2     [https://archive.ics.uci.edu/ml/datasets/Labor...   \n",
       "3     [https://archive.ics.uci.edu/ml/datasets/arrhy...   \n",
       "4     [https://archive.ics.uci.edu/ml/datasets/Lette...   \n",
       "...                                                 ...   \n",
       "3428  [http://data.dft.gov.uk/road-accidents-safety-...   \n",
       "3431    [http://www.vincentlemaire-labs.fr/kddcup2009/]   \n",
       "3456  [https://www.kaggle.com/xiaozhouwang/2nd-place...   \n",
       "3458  [https://www4.stat.ncsu.edu/~boos/var.select/d...   \n",
       "3459  [https://www4.stat.ncsu.edu/~boos/var.select/d...   \n",
       "\n",
       "                                              paper_url  \n",
       "0                                                    []  \n",
       "1            [https://dl.acm.org/doi/abs/10.5555/32231]  \n",
       "2     [http://citeseerx.ist.psu.edu/viewdoc/summary?...  \n",
       "3                                                    []  \n",
       "4     [https://link.springer.com/article/10.1007%252...  \n",
       "...                                                 ...  \n",
       "3428  [https://data.gov.uk/dataset/road-accidents-sa...  \n",
       "3431                                                 []  \n",
       "3456                                                 []  \n",
       "3458  [https://web.stanford.edu/~hastie/Papers/LARS/...  \n",
       "3459                                             [test]  \n",
       "\n",
       "[1661 rows x 2 columns]"
      ]
     },
     "execution_count": 107,
     "metadata": {},
     "output_type": "execute_result"
    }
   ],
   "source": [
    "rr_subset = related_resource_use[related_resource_mask]\n",
    "rr_subset"
   ]
  },
  {
   "cell_type": "code",
   "execution_count": 108,
   "id": "a669c7ce",
   "metadata": {},
   "outputs": [
    {
     "data": {
      "text/plain": [
       "1661"
      ]
     },
     "execution_count": 108,
     "metadata": {},
     "output_type": "execute_result"
    }
   ],
   "source": [
    "len(rr_subset)"
   ]
  },
  {
   "cell_type": "code",
   "execution_count": 109,
   "id": "1ce4e54f",
   "metadata": {},
   "outputs": [],
   "source": [
    "#function to count links\n",
    "def count_links(entry):\n",
    "    try:\n",
    "        return len(entry)\n",
    "    except TypeError:\n",
    "        return 0"
   ]
  },
  {
   "cell_type": "code",
   "execution_count": 110,
   "id": "39641fe1",
   "metadata": {
    "pycharm": {
     "name": "#%%\n"
    }
   },
   "outputs": [
    {
     "data": {
      "text/plain": [
       "0       1\n",
       "1       2\n",
       "2       2\n",
       "3       1\n",
       "4       2\n",
       "       ..\n",
       "3428    2\n",
       "3431    1\n",
       "3456    1\n",
       "3458    2\n",
       "3459    2\n",
       "Length: 1661, dtype: int64"
      ]
     },
     "execution_count": 110,
     "metadata": {},
     "output_type": "execute_result"
    }
   ],
   "source": [
    "links_per_object = rr_subset.apply(\n",
    "    lambda row: sum([count_links(entry) for entry in row]),\n",
    "    axis=1\n",
    ")\n",
    "\n",
    "links_per_object"
   ]
  },
  {
   "cell_type": "code",
   "execution_count": 111,
   "id": "6ba9224f",
   "metadata": {
    "pycharm": {
     "is_executing": true,
     "name": "#%%\n"
    }
   },
   "outputs": [
    {
     "name": "stdout",
     "output_type": "stream",
     "text": [
      "mean 1.142 links per object\n"
     ]
    }
   ],
   "source": [
    "print(f'mean {round(links_per_object.mean(), 3)} links per object')"
   ]
  },
  {
   "cell_type": "code",
   "execution_count": 112,
   "id": "80b8676e",
   "metadata": {},
   "outputs": [
    {
     "name": "stdout",
     "output_type": "stream",
     "text": [
      "median 1.0 links per object\n"
     ]
    }
   ],
   "source": [
    "print(f'median {round(links_per_object.median(), 3)} links per object')"
   ]
  },
  {
   "cell_type": "markdown",
   "id": "1ce011c5",
   "metadata": {
    "pycharm": {
     "name": "#%% md\n"
    }
   },
   "source": [
    "## 26. How many objects report each relation type? How many objects report multiple relation types, regardless of what those types are?\n",
    "**Property:** Related resource relation type"
   ]
  },
  {
   "cell_type": "code",
   "execution_count": 113,
   "id": "70a683a4",
   "metadata": {
    "pycharm": {
     "name": "#%%\n"
    }
   },
   "outputs": [],
   "source": [
    "relation_type = df.OpenMLDatasetsCrosswalk.related_resource_relation_type\n",
    "relation_type"
   ]
  },
  {
   "cell_type": "code",
   "execution_count": 114,
   "id": "82036494",
   "metadata": {},
   "outputs": [
    {
     "name": "stdout",
     "output_type": "stream",
     "text": [
      "None\n"
     ]
    }
   ],
   "source": [
    "#confirm missing for repo\n",
    "print(df.OpenMLDatasetsCrosswalk.related_resource_relation_type)"
   ]
  },
  {
   "cell_type": "markdown",
   "id": "274dcfd3",
   "metadata": {
    "pycharm": {
     "name": "#%% md\n"
    }
   },
   "source": [
    "## 27. For repositories that store the full citation in a designated field, how many objects have a populated citation? How many objects have a citation and a URL or other actionable link?\n",
    "**Property:** Citation"
   ]
  },
  {
   "cell_type": "code",
   "execution_count": 115,
   "id": "155df9fb",
   "metadata": {
    "pycharm": {
     "name": "#%%\n"
    }
   },
   "outputs": [],
   "source": [
    "citations = df.OpenMLDatasetsCrosswalk.citation\n",
    "citations"
   ]
  },
  {
   "cell_type": "code",
   "execution_count": 116,
   "id": "2476dc24",
   "metadata": {},
   "outputs": [
    {
     "name": "stdout",
     "output_type": "stream",
     "text": [
      "None\n"
     ]
    }
   ],
   "source": [
    "#confirm missing for this repo\n",
    "print(df.OpenMLDatasetsCrosswalk.citation)"
   ]
  }
 ],
 "metadata": {
  "kernelspec": {
   "display_name": "Python 3 (ipykernel)",
   "language": "python",
   "name": "python3"
  },
  "language_info": {
   "codemirror_mode": {
    "name": "ipython",
    "version": 3
   },
   "file_extension": ".py",
   "mimetype": "text/x-python",
   "name": "python",
   "nbconvert_exporter": "python",
   "pygments_lexer": "ipython3",
   "version": "3.10.0"
  }
 },
 "nbformat": 4,
 "nbformat_minor": 5
}
