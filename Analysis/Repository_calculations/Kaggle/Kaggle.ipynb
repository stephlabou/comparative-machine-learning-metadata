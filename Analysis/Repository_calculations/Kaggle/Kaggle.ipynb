{
 "cells": [
  {
   "cell_type": "markdown",
   "id": "f743f8b9",
   "metadata": {
    "pycharm": {
     "name": "#%% md\n"
    }
   },
   "source": [
    "# Analysis Template Walkthrough"
   ]
  },
  {
   "cell_type": "markdown",
   "id": "3169bcdc",
   "metadata": {
    "pycharm": {
     "name": "#%% md\n"
    }
   },
   "source": [
    "# Setup"
   ]
  },
  {
   "cell_type": "markdown",
   "id": "a81ae043",
   "metadata": {
    "pycharm": {
     "name": "#%% md\n"
    }
   },
   "source": [
    "## Select extract\n",
    "In order for the template cells to query data from the correct repository, enter the repository name as `repository` and repository object type as `object_type`."
   ]
  },
  {
   "cell_type": "code",
   "execution_count": 1,
   "id": "452941d5",
   "metadata": {
    "pycharm": {
     "name": "#%%\n"
    }
   },
   "outputs": [],
   "source": [
    "repository = 'kaggle'\n",
    "object_type = 'datasets'"
   ]
  },
  {
   "cell_type": "code",
   "execution_count": 2,
   "id": "11b1827e",
   "metadata": {
    "pycharm": {
     "name": "#%%\n"
    }
   },
   "outputs": [],
   "source": [
    "import pandas as pd\n",
    "import numpy as np\n",
    "import re\n",
    "from pathlib import Path"
   ]
  },
  {
   "cell_type": "code",
   "execution_count": 3,
   "id": "5b12796b",
   "metadata": {},
   "outputs": [],
   "source": [
    "#see more rows and columns of output\n",
    "pd.set_option('display.max_rows', 100)\n",
    "pd.set_option('display.max_columns', 100) "
   ]
  },
  {
   "cell_type": "markdown",
   "id": "886d5cc0",
   "metadata": {
    "pycharm": {
     "name": "#%% md\n"
    }
   },
   "source": [
    "## Helper Functions"
   ]
  },
  {
   "cell_type": "code",
   "execution_count": 4,
   "id": "8b68bc6d",
   "metadata": {
    "pycharm": {
     "name": "#%%\n"
    }
   },
   "outputs": [],
   "source": [
    "import os, sys\n",
    "dir2 = os.path.abspath('../')\n",
    "dir1 = os.path.dirname(dir2)\n",
    "if not dir1 in sys.path: sys.path.append(dir1)\n",
    "\n",
    "from utils import analysis\n",
    "from utils.crosswalk import RepositoryExtract, property_crosswalk\n",
    "from utils import accessors"
   ]
  },
  {
   "cell_type": "markdown",
   "id": "dc166f0c",
   "metadata": {
    "pycharm": {
     "name": "#%% md\n"
    }
   },
   "source": [
    "# Summary Statistic Walkthroughs"
   ]
  },
  {
   "cell_type": "markdown",
   "id": "0e2dc048",
   "metadata": {
    "pycharm": {
     "name": "#%% md\n"
    }
   },
   "source": [
    "Read in repository .json file"
   ]
  },
  {
   "cell_type": "code",
   "execution_count": 5,
   "id": "f71012d1",
   "metadata": {
    "pycharm": {
     "name": "#%%\n"
    }
   },
   "outputs": [],
   "source": [
    "df = pd.read_json(f'{repository}_{object_type}.json')"
   ]
  },
  {
   "cell_type": "code",
   "execution_count": 6,
   "id": "3a0b85a7",
   "metadata": {
    "scrolled": true
   },
   "outputs": [
    {
     "data": {
      "text/html": [
       "<div>\n",
       "<style scoped>\n",
       "    .dataframe tbody tr th:only-of-type {\n",
       "        vertical-align: middle;\n",
       "    }\n",
       "\n",
       "    .dataframe tbody tr th {\n",
       "        vertical-align: top;\n",
       "    }\n",
       "\n",
       "    .dataframe thead th {\n",
       "        text-align: right;\n",
       "    }\n",
       "</style>\n",
       "<table border=\"1\" class=\"dataframe\">\n",
       "  <thead>\n",
       "    <tr style=\"text-align: right;\">\n",
       "      <th></th>\n",
       "      <th>datasetId_search</th>\n",
       "      <th>id</th>\n",
       "      <th>subtitle_search</th>\n",
       "      <th>creatorName</th>\n",
       "      <th>creatorUrl</th>\n",
       "      <th>totalBytes</th>\n",
       "      <th>url</th>\n",
       "      <th>lastUpdated</th>\n",
       "      <th>downloadCount</th>\n",
       "      <th>isPrivate_search</th>\n",
       "      <th>isReviewed</th>\n",
       "      <th>isFeatured</th>\n",
       "      <th>licenseName</th>\n",
       "      <th>description_search</th>\n",
       "      <th>ownerName</th>\n",
       "      <th>ownerRef</th>\n",
       "      <th>kernelCount</th>\n",
       "      <th>title_search</th>\n",
       "      <th>topicCount</th>\n",
       "      <th>currentVersionNumber</th>\n",
       "      <th>usabilityRating_search</th>\n",
       "      <th>tags</th>\n",
       "      <th>files</th>\n",
       "      <th>versions</th>\n",
       "      <th>page</th>\n",
       "      <th>collaborators</th>\n",
       "      <th>data</th>\n",
       "      <th>datasetId_metadata</th>\n",
       "      <th>datasetSlug</th>\n",
       "      <th>description_metadata</th>\n",
       "      <th>id_no</th>\n",
       "      <th>isPrivate_metadata</th>\n",
       "      <th>keywords</th>\n",
       "      <th>licenses</th>\n",
       "      <th>ownerUser</th>\n",
       "      <th>subtitle_metadata</th>\n",
       "      <th>title_metadata</th>\n",
       "      <th>totalDownloads</th>\n",
       "      <th>totalViews</th>\n",
       "      <th>totalVotes</th>\n",
       "      <th>usabilityRating_metadata</th>\n",
       "    </tr>\n",
       "  </thead>\n",
       "  <tbody>\n",
       "    <tr>\n",
       "      <th>0</th>\n",
       "      <td>70947</td>\n",
       "      <td>kaggle/kaggle-survey-2018</td>\n",
       "      <td>The most comprehensive dataset available on th...</td>\n",
       "      <td>Paul Mooney</td>\n",
       "      <td>paultimothymooney</td>\n",
       "      <td>4.405170e+06</td>\n",
       "      <td>https://www.kaggle.com/kaggle/kaggle-survey-2018</td>\n",
       "      <td>2018-11-03T22:35:07.12Z</td>\n",
       "      <td>16346</td>\n",
       "      <td>False</td>\n",
       "      <td>True</td>\n",
       "      <td>False</td>\n",
       "      <td>CC BY-SA 4.0</td>\n",
       "      <td>NaN</td>\n",
       "      <td>Kaggle</td>\n",
       "      <td>kaggle</td>\n",
       "      <td>483</td>\n",
       "      <td>2018 Kaggle Machine Learning &amp; Data Science Su...</td>\n",
       "      <td>16</td>\n",
       "      <td>5</td>\n",
       "      <td>0.852941</td>\n",
       "      <td>[{'ref': 'survey analysis', 'name': 'survey an...</td>\n",
       "      <td>[]</td>\n",
       "      <td>[]</td>\n",
       "      <td>1</td>\n",
       "      <td>None</td>\n",
       "      <td>None</td>\n",
       "      <td>NaN</td>\n",
       "      <td>None</td>\n",
       "      <td>None</td>\n",
       "      <td>NaN</td>\n",
       "      <td>NaN</td>\n",
       "      <td>None</td>\n",
       "      <td>None</td>\n",
       "      <td>None</td>\n",
       "      <td>None</td>\n",
       "      <td>None</td>\n",
       "      <td>NaN</td>\n",
       "      <td>NaN</td>\n",
       "      <td>NaN</td>\n",
       "      <td>NaN</td>\n",
       "    </tr>\n",
       "    <tr>\n",
       "      <th>1</th>\n",
       "      <td>2733</td>\n",
       "      <td>kaggle/kaggle-survey-2017</td>\n",
       "      <td>A big picture view of the state of data scienc...</td>\n",
       "      <td>Mark McDonald</td>\n",
       "      <td>markmcdonald</td>\n",
       "      <td>3.692241e+06</td>\n",
       "      <td>https://www.kaggle.com/kaggle/kaggle-survey-2017</td>\n",
       "      <td>2017-10-27T22:03:03.417Z</td>\n",
       "      <td>24031</td>\n",
       "      <td>False</td>\n",
       "      <td>True</td>\n",
       "      <td>False</td>\n",
       "      <td>Database: Open Database, Contents: © Original ...</td>\n",
       "      <td>NaN</td>\n",
       "      <td>Kaggle</td>\n",
       "      <td>kaggle</td>\n",
       "      <td>435</td>\n",
       "      <td>2017 Kaggle Machine Learning &amp; Data Science Su...</td>\n",
       "      <td>10</td>\n",
       "      <td>4</td>\n",
       "      <td>0.823529</td>\n",
       "      <td>[{'ref': 'employment', 'name': 'employment', '...</td>\n",
       "      <td>[]</td>\n",
       "      <td>[]</td>\n",
       "      <td>1</td>\n",
       "      <td>None</td>\n",
       "      <td>None</td>\n",
       "      <td>NaN</td>\n",
       "      <td>None</td>\n",
       "      <td>None</td>\n",
       "      <td>NaN</td>\n",
       "      <td>NaN</td>\n",
       "      <td>None</td>\n",
       "      <td>None</td>\n",
       "      <td>None</td>\n",
       "      <td>None</td>\n",
       "      <td>None</td>\n",
       "      <td>NaN</td>\n",
       "      <td>NaN</td>\n",
       "      <td>NaN</td>\n",
       "      <td>NaN</td>\n",
       "    </tr>\n",
       "    <tr>\n",
       "      <th>2</th>\n",
       "      <td>635</td>\n",
       "      <td>alopez247/pokemon</td>\n",
       "      <td>(Almost) all Pokémon stats until generation 6:...</td>\n",
       "      <td>alopez247</td>\n",
       "      <td>alopez247</td>\n",
       "      <td>7.317770e+05</td>\n",
       "      <td>https://www.kaggle.com/alopez247/pokemon</td>\n",
       "      <td>2017-03-05T15:01:26.013Z</td>\n",
       "      <td>11232</td>\n",
       "      <td>False</td>\n",
       "      <td>True</td>\n",
       "      <td>False</td>\n",
       "      <td>CC BY-NC-SA 4.0</td>\n",
       "      <td>NaN</td>\n",
       "      <td>alopez247</td>\n",
       "      <td>alopez247</td>\n",
       "      <td>47</td>\n",
       "      <td>Pokémon for Data Mining and Machine Learning</td>\n",
       "      <td>0</td>\n",
       "      <td>2</td>\n",
       "      <td>0.852941</td>\n",
       "      <td>[{'ref': 'video games', 'name': 'video games',...</td>\n",
       "      <td>[]</td>\n",
       "      <td>[]</td>\n",
       "      <td>1</td>\n",
       "      <td>[]</td>\n",
       "      <td>[]</td>\n",
       "      <td>635.0</td>\n",
       "      <td>pokemon</td>\n",
       "      <td># Context \\n\\nWith the rise of the popularity ...</td>\n",
       "      <td>635.0</td>\n",
       "      <td>0.0</td>\n",
       "      <td>[arts and entertainment, games, card games, vi...</td>\n",
       "      <td>[{'name': 'CC-BY-NC-SA-4.0'}]</td>\n",
       "      <td>alopez247</td>\n",
       "      <td>(Almost) all Pokémon stats until generation 6:...</td>\n",
       "      <td>Pokémon for Data Mining and Machine Learning</td>\n",
       "      <td>11232.0</td>\n",
       "      <td>151545.0</td>\n",
       "      <td>248.0</td>\n",
       "      <td>0.852941</td>\n",
       "    </tr>\n",
       "    <tr>\n",
       "      <th>3</th>\n",
       "      <td>654897</td>\n",
       "      <td>kaushil268/disease-prediction-using-machine-le...</td>\n",
       "      <td>Use Machine Learning and Deep Learning models ...</td>\n",
       "      <td>KAUSHIL268</td>\n",
       "      <td>kaushil268</td>\n",
       "      <td>3.049000e+04</td>\n",
       "      <td>https://www.kaggle.com/kaushil268/disease-pred...</td>\n",
       "      <td>2020-05-15T03:58:44.15Z</td>\n",
       "      <td>3698</td>\n",
       "      <td>False</td>\n",
       "      <td>False</td>\n",
       "      <td>False</td>\n",
       "      <td>Database: Open Database, Contents: Database Co...</td>\n",
       "      <td>NaN</td>\n",
       "      <td>KAUSHIL268</td>\n",
       "      <td>kaushil268</td>\n",
       "      <td>17</td>\n",
       "      <td>Disease Prediction Using Machine Learning</td>\n",
       "      <td>2</td>\n",
       "      <td>1</td>\n",
       "      <td>0.823529</td>\n",
       "      <td>[{'ref': 'neural networks', 'name': 'neural ne...</td>\n",
       "      <td>[]</td>\n",
       "      <td>[]</td>\n",
       "      <td>1</td>\n",
       "      <td>[]</td>\n",
       "      <td>[]</td>\n",
       "      <td>654897.0</td>\n",
       "      <td>disease-prediction-using-machine-learning</td>\n",
       "      <td>### Context\\n\\nDuring the time when Machine Le...</td>\n",
       "      <td>654897.0</td>\n",
       "      <td>0.0</td>\n",
       "      <td>[diseases, earth and nature, biology, educatio...</td>\n",
       "      <td>[{'name': 'DbCL-1.0'}]</td>\n",
       "      <td>kaushil268</td>\n",
       "      <td>Use Machine Learning and Deep Learning models ...</td>\n",
       "      <td>Disease Prediction Using Machine Learning</td>\n",
       "      <td>3698.0</td>\n",
       "      <td>26306.0</td>\n",
       "      <td>56.0</td>\n",
       "      <td>0.823529</td>\n",
       "    </tr>\n",
       "    <tr>\n",
       "      <th>4</th>\n",
       "      <td>32132</td>\n",
       "      <td>kashnitsky/mlcourse</td>\n",
       "      <td>Open Machine Learning Course by OpenDataScience</td>\n",
       "      <td>Yury Kashnitsky</td>\n",
       "      <td>kashnitsky</td>\n",
       "      <td>5.359952e+07</td>\n",
       "      <td>https://www.kaggle.com/kashnitsky/mlcourse</td>\n",
       "      <td>2018-12-09T16:45:09.507Z</td>\n",
       "      <td>27972</td>\n",
       "      <td>False</td>\n",
       "      <td>True</td>\n",
       "      <td>False</td>\n",
       "      <td>CC BY-NC-SA 4.0</td>\n",
       "      <td>NaN</td>\n",
       "      <td>Yury Kashnitsky</td>\n",
       "      <td>kashnitsky</td>\n",
       "      <td>472</td>\n",
       "      <td>mlcourse.ai</td>\n",
       "      <td>4</td>\n",
       "      <td>17</td>\n",
       "      <td>0.882353</td>\n",
       "      <td>[{'ref': 'classification', 'name': 'classifica...</td>\n",
       "      <td>[]</td>\n",
       "      <td>[]</td>\n",
       "      <td>1</td>\n",
       "      <td>[]</td>\n",
       "      <td>[]</td>\n",
       "      <td>32132.0</td>\n",
       "      <td>mlcourse</td>\n",
       "      <td>![](https://habrastorage.org/webt/ia/m9/zk/iam...</td>\n",
       "      <td>32132.0</td>\n",
       "      <td>0.0</td>\n",
       "      <td>[computer science, data visualization, classif...</td>\n",
       "      <td>[{'name': 'CC-BY-NC-SA-4.0'}]</td>\n",
       "      <td>kashnitsky</td>\n",
       "      <td>Open Machine Learning Course by OpenDataScience</td>\n",
       "      <td>mlcourse.ai</td>\n",
       "      <td>27973.0</td>\n",
       "      <td>214157.0</td>\n",
       "      <td>1411.0</td>\n",
       "      <td>0.882353</td>\n",
       "    </tr>\n",
       "    <tr>\n",
       "      <th>...</th>\n",
       "      <td>...</td>\n",
       "      <td>...</td>\n",
       "      <td>...</td>\n",
       "      <td>...</td>\n",
       "      <td>...</td>\n",
       "      <td>...</td>\n",
       "      <td>...</td>\n",
       "      <td>...</td>\n",
       "      <td>...</td>\n",
       "      <td>...</td>\n",
       "      <td>...</td>\n",
       "      <td>...</td>\n",
       "      <td>...</td>\n",
       "      <td>...</td>\n",
       "      <td>...</td>\n",
       "      <td>...</td>\n",
       "      <td>...</td>\n",
       "      <td>...</td>\n",
       "      <td>...</td>\n",
       "      <td>...</td>\n",
       "      <td>...</td>\n",
       "      <td>...</td>\n",
       "      <td>...</td>\n",
       "      <td>...</td>\n",
       "      <td>...</td>\n",
       "      <td>...</td>\n",
       "      <td>...</td>\n",
       "      <td>...</td>\n",
       "      <td>...</td>\n",
       "      <td>...</td>\n",
       "      <td>...</td>\n",
       "      <td>...</td>\n",
       "      <td>...</td>\n",
       "      <td>...</td>\n",
       "      <td>...</td>\n",
       "      <td>...</td>\n",
       "      <td>...</td>\n",
       "      <td>...</td>\n",
       "      <td>...</td>\n",
       "      <td>...</td>\n",
       "      <td>...</td>\n",
       "    </tr>\n",
       "    <tr>\n",
       "      <th>2011</th>\n",
       "      <td>1755248</td>\n",
       "      <td>manishtripathi86/deloitte-hackathon-predict-th...</td>\n",
       "      <td></td>\n",
       "      <td>Manish Tripathi</td>\n",
       "      <td>manishtripathi86</td>\n",
       "      <td>9.131913e+06</td>\n",
       "      <td>https://www.kaggle.com/manishtripathi86/deloit...</td>\n",
       "      <td>2021-11-30T18:00:43.22Z</td>\n",
       "      <td>5</td>\n",
       "      <td>False</td>\n",
       "      <td>False</td>\n",
       "      <td>False</td>\n",
       "      <td>Unknown</td>\n",
       "      <td>NaN</td>\n",
       "      <td>Manish Tripathi</td>\n",
       "      <td>manishtripathi86</td>\n",
       "      <td>0</td>\n",
       "      <td>deloitte hackathon predict the loan defaulter</td>\n",
       "      <td>0</td>\n",
       "      <td>2</td>\n",
       "      <td>0.470588</td>\n",
       "      <td>[{'ref': 'business', 'name': 'business', 'desc...</td>\n",
       "      <td>[]</td>\n",
       "      <td>[]</td>\n",
       "      <td>101</td>\n",
       "      <td>[]</td>\n",
       "      <td>[]</td>\n",
       "      <td>1755248.0</td>\n",
       "      <td>deloitte-hackathon-predict-the-loan-defaulter</td>\n",
       "      <td>Overview\\nDeloitte refers to one or more of De...</td>\n",
       "      <td>1755248.0</td>\n",
       "      <td>0.0</td>\n",
       "      <td>[business]</td>\n",
       "      <td>[{'name': 'unknown'}]</td>\n",
       "      <td>manishtripathi86</td>\n",
       "      <td></td>\n",
       "      <td>deloitte hackathon predict the loan defaulter</td>\n",
       "      <td>5.0</td>\n",
       "      <td>41.0</td>\n",
       "      <td>0.0</td>\n",
       "      <td>0.470588</td>\n",
       "    </tr>\n",
       "    <tr>\n",
       "      <th>2012</th>\n",
       "      <td>1418312</td>\n",
       "      <td>jimregan/dalaj-v10</td>\n",
       "      <td></td>\n",
       "      <td>Jim O'Regan</td>\n",
       "      <td>jimregan</td>\n",
       "      <td>2.664310e+05</td>\n",
       "      <td>https://www.kaggle.com/jimregan/dalaj-v10</td>\n",
       "      <td>2021-06-18T21:07:57.907Z</td>\n",
       "      <td>7</td>\n",
       "      <td>False</td>\n",
       "      <td>False</td>\n",
       "      <td>False</td>\n",
       "      <td>Attribution 4.0 International (CC BY 4.0)</td>\n",
       "      <td>NaN</td>\n",
       "      <td>Jim O'Regan</td>\n",
       "      <td>jimregan</td>\n",
       "      <td>0</td>\n",
       "      <td>DaLAJ v.1.0</td>\n",
       "      <td>0</td>\n",
       "      <td>1</td>\n",
       "      <td>0.705882</td>\n",
       "      <td>[{'ref': 'linguistics', 'name': 'linguistics',...</td>\n",
       "      <td>[]</td>\n",
       "      <td>[]</td>\n",
       "      <td>101</td>\n",
       "      <td>[]</td>\n",
       "      <td>[]</td>\n",
       "      <td>1418312.0</td>\n",
       "      <td>dalaj-v10</td>\n",
       "      <td># I. IDENTIFYING INFORMATION\\n\\n## Title\\n\\nDa...</td>\n",
       "      <td>1418312.0</td>\n",
       "      <td>0.0</td>\n",
       "      <td>[sports, education, linguistics]</td>\n",
       "      <td>[{'name': 'Attribution 4.0 International (CC B...</td>\n",
       "      <td>jimregan</td>\n",
       "      <td></td>\n",
       "      <td>DaLAJ v.1.0</td>\n",
       "      <td>7.0</td>\n",
       "      <td>75.0</td>\n",
       "      <td>0.0</td>\n",
       "      <td>0.705882</td>\n",
       "    </tr>\n",
       "    <tr>\n",
       "      <th>2013</th>\n",
       "      <td>1736649</td>\n",
       "      <td>claytonmiller/ashrae-global-occupant-behavior-...</td>\n",
       "      <td>Data from 32 research studies focused on occup...</td>\n",
       "      <td>Clayton Miller</td>\n",
       "      <td>claytonmiller</td>\n",
       "      <td>4.209520e+08</td>\n",
       "      <td>https://www.kaggle.com/claytonmiller/ashrae-gl...</td>\n",
       "      <td>2021-11-22T06:21:35.157Z</td>\n",
       "      <td>4</td>\n",
       "      <td>False</td>\n",
       "      <td>False</td>\n",
       "      <td>False</td>\n",
       "      <td>ODC Attribution License (ODC-By)</td>\n",
       "      <td>NaN</td>\n",
       "      <td>Clayton Miller</td>\n",
       "      <td>claytonmiller</td>\n",
       "      <td>0</td>\n",
       "      <td>ASHRAE Global Occupant Behavior Database</td>\n",
       "      <td>0</td>\n",
       "      <td>1</td>\n",
       "      <td>0.764706</td>\n",
       "      <td>[{'ref': 'architecture', 'name': 'architecture...</td>\n",
       "      <td>[]</td>\n",
       "      <td>[]</td>\n",
       "      <td>101</td>\n",
       "      <td>[]</td>\n",
       "      <td>[]</td>\n",
       "      <td>1736649.0</td>\n",
       "      <td>ashrae-global-occupant-behavior-database</td>\n",
       "      <td># Dataset and documentation: https://ashraeobd...</td>\n",
       "      <td>1736649.0</td>\n",
       "      <td>0.0</td>\n",
       "      <td>[architecture, energy, renewable energy, time ...</td>\n",
       "      <td>[{'name': 'ODC Attribution License (ODC-By)'}]</td>\n",
       "      <td>claytonmiller</td>\n",
       "      <td>Data from 32 research studies focused on occup...</td>\n",
       "      <td>ASHRAE Global Occupant Behavior Database</td>\n",
       "      <td>4.0</td>\n",
       "      <td>73.0</td>\n",
       "      <td>0.0</td>\n",
       "      <td>0.764706</td>\n",
       "    </tr>\n",
       "    <tr>\n",
       "      <th>2014</th>\n",
       "      <td>776337</td>\n",
       "      <td>awsaf49/vip-cup-2020</td>\n",
       "      <td></td>\n",
       "      <td>Awsaf</td>\n",
       "      <td>awsaf49</td>\n",
       "      <td>5.307890e+09</td>\n",
       "      <td>https://www.kaggle.com/awsaf49/vip-cup-2020</td>\n",
       "      <td>2020-08-02T18:30:26.807Z</td>\n",
       "      <td>21</td>\n",
       "      <td>False</td>\n",
       "      <td>False</td>\n",
       "      <td>False</td>\n",
       "      <td>CC0: Public Domain</td>\n",
       "      <td>NaN</td>\n",
       "      <td>Awsaf</td>\n",
       "      <td>awsaf49</td>\n",
       "      <td>0</td>\n",
       "      <td>VIP CUP 2020</td>\n",
       "      <td>0</td>\n",
       "      <td>8</td>\n",
       "      <td>0.529412</td>\n",
       "      <td>[{'ref': 'universities and colleges', 'name': ...</td>\n",
       "      <td>[]</td>\n",
       "      <td>[]</td>\n",
       "      <td>101</td>\n",
       "      <td>[]</td>\n",
       "      <td>[]</td>\n",
       "      <td>776337.0</td>\n",
       "      <td>vip-cup-2020</td>\n",
       "      <td>## IEEE Video and Image Processing Cup (VIP Cu...</td>\n",
       "      <td>776337.0</td>\n",
       "      <td>0.0</td>\n",
       "      <td>[universities and colleges, arts and entertain...</td>\n",
       "      <td>[{'name': 'CC0-1.0'}]</td>\n",
       "      <td>awsaf49</td>\n",
       "      <td></td>\n",
       "      <td>VIP CUP 2020</td>\n",
       "      <td>21.0</td>\n",
       "      <td>387.0</td>\n",
       "      <td>0.0</td>\n",
       "      <td>0.529412</td>\n",
       "    </tr>\n",
       "    <tr>\n",
       "      <th>2015</th>\n",
       "      <td>1527261</td>\n",
       "      <td>kusuri/melspectrogramsdemo</td>\n",
       "      <td></td>\n",
       "      <td>Kunal Suri</td>\n",
       "      <td>kusuri</td>\n",
       "      <td>1.274100e+08</td>\n",
       "      <td>https://www.kaggle.com/kusuri/melspectrogramsdemo</td>\n",
       "      <td>2021-08-13T18:34:12.427Z</td>\n",
       "      <td>0</td>\n",
       "      <td>False</td>\n",
       "      <td>False</td>\n",
       "      <td>False</td>\n",
       "      <td>Unknown</td>\n",
       "      <td>NaN</td>\n",
       "      <td>Kunal Suri</td>\n",
       "      <td>kusuri</td>\n",
       "      <td>0</td>\n",
       "      <td>melspectrograms-demo</td>\n",
       "      <td>0</td>\n",
       "      <td>2</td>\n",
       "      <td>0.125000</td>\n",
       "      <td>[]</td>\n",
       "      <td>[]</td>\n",
       "      <td>[]</td>\n",
       "      <td>101</td>\n",
       "      <td>[]</td>\n",
       "      <td>[]</td>\n",
       "      <td>1527261.0</td>\n",
       "      <td>melspectrogramsdemo</td>\n",
       "      <td></td>\n",
       "      <td>1527261.0</td>\n",
       "      <td>0.0</td>\n",
       "      <td>[]</td>\n",
       "      <td>[{'name': 'unknown'}]</td>\n",
       "      <td>kusuri</td>\n",
       "      <td></td>\n",
       "      <td>melspectrograms-demo</td>\n",
       "      <td>0.0</td>\n",
       "      <td>62.0</td>\n",
       "      <td>0.0</td>\n",
       "      <td>0.125000</td>\n",
       "    </tr>\n",
       "  </tbody>\n",
       "</table>\n",
       "<p>2016 rows × 41 columns</p>\n",
       "</div>"
      ],
      "text/plain": [
       "      datasetId_search                                                 id  \\\n",
       "0                70947                          kaggle/kaggle-survey-2018   \n",
       "1                 2733                          kaggle/kaggle-survey-2017   \n",
       "2                  635                                  alopez247/pokemon   \n",
       "3               654897  kaushil268/disease-prediction-using-machine-le...   \n",
       "4                32132                                kashnitsky/mlcourse   \n",
       "...                ...                                                ...   \n",
       "2011           1755248  manishtripathi86/deloitte-hackathon-predict-th...   \n",
       "2012           1418312                                 jimregan/dalaj-v10   \n",
       "2013           1736649  claytonmiller/ashrae-global-occupant-behavior-...   \n",
       "2014            776337                               awsaf49/vip-cup-2020   \n",
       "2015           1527261                         kusuri/melspectrogramsdemo   \n",
       "\n",
       "                                        subtitle_search      creatorName  \\\n",
       "0     The most comprehensive dataset available on th...      Paul Mooney   \n",
       "1     A big picture view of the state of data scienc...    Mark McDonald   \n",
       "2     (Almost) all Pokémon stats until generation 6:...        alopez247   \n",
       "3     Use Machine Learning and Deep Learning models ...       KAUSHIL268   \n",
       "4       Open Machine Learning Course by OpenDataScience  Yury Kashnitsky   \n",
       "...                                                 ...              ...   \n",
       "2011                                                     Manish Tripathi   \n",
       "2012                                                         Jim O'Regan   \n",
       "2013  Data from 32 research studies focused on occup...   Clayton Miller   \n",
       "2014                                                               Awsaf   \n",
       "2015                                                          Kunal Suri   \n",
       "\n",
       "             creatorUrl    totalBytes  \\\n",
       "0     paultimothymooney  4.405170e+06   \n",
       "1          markmcdonald  3.692241e+06   \n",
       "2             alopez247  7.317770e+05   \n",
       "3            kaushil268  3.049000e+04   \n",
       "4            kashnitsky  5.359952e+07   \n",
       "...                 ...           ...   \n",
       "2011   manishtripathi86  9.131913e+06   \n",
       "2012           jimregan  2.664310e+05   \n",
       "2013      claytonmiller  4.209520e+08   \n",
       "2014            awsaf49  5.307890e+09   \n",
       "2015             kusuri  1.274100e+08   \n",
       "\n",
       "                                                    url  \\\n",
       "0      https://www.kaggle.com/kaggle/kaggle-survey-2018   \n",
       "1      https://www.kaggle.com/kaggle/kaggle-survey-2017   \n",
       "2              https://www.kaggle.com/alopez247/pokemon   \n",
       "3     https://www.kaggle.com/kaushil268/disease-pred...   \n",
       "4            https://www.kaggle.com/kashnitsky/mlcourse   \n",
       "...                                                 ...   \n",
       "2011  https://www.kaggle.com/manishtripathi86/deloit...   \n",
       "2012          https://www.kaggle.com/jimregan/dalaj-v10   \n",
       "2013  https://www.kaggle.com/claytonmiller/ashrae-gl...   \n",
       "2014        https://www.kaggle.com/awsaf49/vip-cup-2020   \n",
       "2015  https://www.kaggle.com/kusuri/melspectrogramsdemo   \n",
       "\n",
       "                   lastUpdated  downloadCount  isPrivate_search  isReviewed  \\\n",
       "0      2018-11-03T22:35:07.12Z          16346             False        True   \n",
       "1     2017-10-27T22:03:03.417Z          24031             False        True   \n",
       "2     2017-03-05T15:01:26.013Z          11232             False        True   \n",
       "3      2020-05-15T03:58:44.15Z           3698             False       False   \n",
       "4     2018-12-09T16:45:09.507Z          27972             False        True   \n",
       "...                        ...            ...               ...         ...   \n",
       "2011   2021-11-30T18:00:43.22Z              5             False       False   \n",
       "2012  2021-06-18T21:07:57.907Z              7             False       False   \n",
       "2013  2021-11-22T06:21:35.157Z              4             False       False   \n",
       "2014  2020-08-02T18:30:26.807Z             21             False       False   \n",
       "2015  2021-08-13T18:34:12.427Z              0             False       False   \n",
       "\n",
       "      isFeatured                                        licenseName  \\\n",
       "0          False                                       CC BY-SA 4.0   \n",
       "1          False  Database: Open Database, Contents: © Original ...   \n",
       "2          False                                    CC BY-NC-SA 4.0   \n",
       "3          False  Database: Open Database, Contents: Database Co...   \n",
       "4          False                                    CC BY-NC-SA 4.0   \n",
       "...          ...                                                ...   \n",
       "2011       False                                            Unknown   \n",
       "2012       False          Attribution 4.0 International (CC BY 4.0)   \n",
       "2013       False                   ODC Attribution License (ODC-By)   \n",
       "2014       False                                 CC0: Public Domain   \n",
       "2015       False                                            Unknown   \n",
       "\n",
       "      description_search        ownerName          ownerRef  kernelCount  \\\n",
       "0                    NaN           Kaggle            kaggle          483   \n",
       "1                    NaN           Kaggle            kaggle          435   \n",
       "2                    NaN        alopez247         alopez247           47   \n",
       "3                    NaN       KAUSHIL268        kaushil268           17   \n",
       "4                    NaN  Yury Kashnitsky        kashnitsky          472   \n",
       "...                  ...              ...               ...          ...   \n",
       "2011                 NaN  Manish Tripathi  manishtripathi86            0   \n",
       "2012                 NaN      Jim O'Regan          jimregan            0   \n",
       "2013                 NaN   Clayton Miller     claytonmiller            0   \n",
       "2014                 NaN            Awsaf           awsaf49            0   \n",
       "2015                 NaN       Kunal Suri            kusuri            0   \n",
       "\n",
       "                                           title_search  topicCount  \\\n",
       "0     2018 Kaggle Machine Learning & Data Science Su...          16   \n",
       "1     2017 Kaggle Machine Learning & Data Science Su...          10   \n",
       "2          Pokémon for Data Mining and Machine Learning           0   \n",
       "3            Disease Prediction Using Machine Learning            2   \n",
       "4                                           mlcourse.ai           4   \n",
       "...                                                 ...         ...   \n",
       "2011      deloitte hackathon predict the loan defaulter           0   \n",
       "2012                                        DaLAJ v.1.0           0   \n",
       "2013           ASHRAE Global Occupant Behavior Database           0   \n",
       "2014                                       VIP CUP 2020           0   \n",
       "2015                               melspectrograms-demo           0   \n",
       "\n",
       "      currentVersionNumber  usabilityRating_search  \\\n",
       "0                        5                0.852941   \n",
       "1                        4                0.823529   \n",
       "2                        2                0.852941   \n",
       "3                        1                0.823529   \n",
       "4                       17                0.882353   \n",
       "...                    ...                     ...   \n",
       "2011                     2                0.470588   \n",
       "2012                     1                0.705882   \n",
       "2013                     1                0.764706   \n",
       "2014                     8                0.529412   \n",
       "2015                     2                0.125000   \n",
       "\n",
       "                                                   tags files versions  page  \\\n",
       "0     [{'ref': 'survey analysis', 'name': 'survey an...    []       []     1   \n",
       "1     [{'ref': 'employment', 'name': 'employment', '...    []       []     1   \n",
       "2     [{'ref': 'video games', 'name': 'video games',...    []       []     1   \n",
       "3     [{'ref': 'neural networks', 'name': 'neural ne...    []       []     1   \n",
       "4     [{'ref': 'classification', 'name': 'classifica...    []       []     1   \n",
       "...                                                 ...   ...      ...   ...   \n",
       "2011  [{'ref': 'business', 'name': 'business', 'desc...    []       []   101   \n",
       "2012  [{'ref': 'linguistics', 'name': 'linguistics',...    []       []   101   \n",
       "2013  [{'ref': 'architecture', 'name': 'architecture...    []       []   101   \n",
       "2014  [{'ref': 'universities and colleges', 'name': ...    []       []   101   \n",
       "2015                                                 []    []       []   101   \n",
       "\n",
       "     collaborators  data  datasetId_metadata  \\\n",
       "0             None  None                 NaN   \n",
       "1             None  None                 NaN   \n",
       "2               []    []               635.0   \n",
       "3               []    []            654897.0   \n",
       "4               []    []             32132.0   \n",
       "...            ...   ...                 ...   \n",
       "2011            []    []           1755248.0   \n",
       "2012            []    []           1418312.0   \n",
       "2013            []    []           1736649.0   \n",
       "2014            []    []            776337.0   \n",
       "2015            []    []           1527261.0   \n",
       "\n",
       "                                        datasetSlug  \\\n",
       "0                                              None   \n",
       "1                                              None   \n",
       "2                                           pokemon   \n",
       "3         disease-prediction-using-machine-learning   \n",
       "4                                          mlcourse   \n",
       "...                                             ...   \n",
       "2011  deloitte-hackathon-predict-the-loan-defaulter   \n",
       "2012                                      dalaj-v10   \n",
       "2013       ashrae-global-occupant-behavior-database   \n",
       "2014                                   vip-cup-2020   \n",
       "2015                            melspectrogramsdemo   \n",
       "\n",
       "                                   description_metadata      id_no  \\\n",
       "0                                                  None        NaN   \n",
       "1                                                  None        NaN   \n",
       "2     # Context \\n\\nWith the rise of the popularity ...      635.0   \n",
       "3     ### Context\\n\\nDuring the time when Machine Le...   654897.0   \n",
       "4     ![](https://habrastorage.org/webt/ia/m9/zk/iam...    32132.0   \n",
       "...                                                 ...        ...   \n",
       "2011  Overview\\nDeloitte refers to one or more of De...  1755248.0   \n",
       "2012  # I. IDENTIFYING INFORMATION\\n\\n## Title\\n\\nDa...  1418312.0   \n",
       "2013  # Dataset and documentation: https://ashraeobd...  1736649.0   \n",
       "2014  ## IEEE Video and Image Processing Cup (VIP Cu...   776337.0   \n",
       "2015                                                     1527261.0   \n",
       "\n",
       "      isPrivate_metadata                                           keywords  \\\n",
       "0                    NaN                                               None   \n",
       "1                    NaN                                               None   \n",
       "2                    0.0  [arts and entertainment, games, card games, vi...   \n",
       "3                    0.0  [diseases, earth and nature, biology, educatio...   \n",
       "4                    0.0  [computer science, data visualization, classif...   \n",
       "...                  ...                                                ...   \n",
       "2011                 0.0                                         [business]   \n",
       "2012                 0.0                   [sports, education, linguistics]   \n",
       "2013                 0.0  [architecture, energy, renewable energy, time ...   \n",
       "2014                 0.0  [universities and colleges, arts and entertain...   \n",
       "2015                 0.0                                                 []   \n",
       "\n",
       "                                               licenses         ownerUser  \\\n",
       "0                                                  None              None   \n",
       "1                                                  None              None   \n",
       "2                         [{'name': 'CC-BY-NC-SA-4.0'}]         alopez247   \n",
       "3                                [{'name': 'DbCL-1.0'}]        kaushil268   \n",
       "4                         [{'name': 'CC-BY-NC-SA-4.0'}]        kashnitsky   \n",
       "...                                                 ...               ...   \n",
       "2011                              [{'name': 'unknown'}]  manishtripathi86   \n",
       "2012  [{'name': 'Attribution 4.0 International (CC B...          jimregan   \n",
       "2013     [{'name': 'ODC Attribution License (ODC-By)'}]     claytonmiller   \n",
       "2014                              [{'name': 'CC0-1.0'}]           awsaf49   \n",
       "2015                              [{'name': 'unknown'}]            kusuri   \n",
       "\n",
       "                                      subtitle_metadata  \\\n",
       "0                                                  None   \n",
       "1                                                  None   \n",
       "2     (Almost) all Pokémon stats until generation 6:...   \n",
       "3     Use Machine Learning and Deep Learning models ...   \n",
       "4       Open Machine Learning Course by OpenDataScience   \n",
       "...                                                 ...   \n",
       "2011                                                      \n",
       "2012                                                      \n",
       "2013  Data from 32 research studies focused on occup...   \n",
       "2014                                                      \n",
       "2015                                                      \n",
       "\n",
       "                                     title_metadata  totalDownloads  \\\n",
       "0                                              None             NaN   \n",
       "1                                              None             NaN   \n",
       "2      Pokémon for Data Mining and Machine Learning         11232.0   \n",
       "3        Disease Prediction Using Machine Learning           3698.0   \n",
       "4                                       mlcourse.ai         27973.0   \n",
       "...                                             ...             ...   \n",
       "2011  deloitte hackathon predict the loan defaulter             5.0   \n",
       "2012                                    DaLAJ v.1.0             7.0   \n",
       "2013       ASHRAE Global Occupant Behavior Database             4.0   \n",
       "2014                                   VIP CUP 2020            21.0   \n",
       "2015                           melspectrograms-demo             0.0   \n",
       "\n",
       "      totalViews  totalVotes  usabilityRating_metadata  \n",
       "0            NaN         NaN                       NaN  \n",
       "1            NaN         NaN                       NaN  \n",
       "2       151545.0       248.0                  0.852941  \n",
       "3        26306.0        56.0                  0.823529  \n",
       "4       214157.0      1411.0                  0.882353  \n",
       "...          ...         ...                       ...  \n",
       "2011        41.0         0.0                  0.470588  \n",
       "2012        75.0         0.0                  0.705882  \n",
       "2013        73.0         0.0                  0.764706  \n",
       "2014       387.0         0.0                  0.529412  \n",
       "2015        62.0         0.0                  0.125000  \n",
       "\n",
       "[2016 rows x 41 columns]"
      ]
     },
     "execution_count": 6,
     "metadata": {},
     "output_type": "execute_result"
    }
   ],
   "source": [
    "df"
   ]
  },
  {
   "cell_type": "markdown",
   "id": "be9725fa",
   "metadata": {
    "pycharm": {
     "name": "#%% md\n"
    }
   },
   "source": [
    "## 1. How many total objects (not just records) are in our main dataset extracts for each repository?\n",
    "**Property:** unique_identifier"
   ]
  },
  {
   "cell_type": "code",
   "execution_count": 7,
   "id": "67070f39",
   "metadata": {
    "pycharm": {
     "name": "#%%\n"
    }
   },
   "outputs": [
    {
     "data": {
      "text/plain": [
       "0                               kaggle/kaggle-survey-2018\n",
       "1                               kaggle/kaggle-survey-2017\n",
       "2                                       alopez247/pokemon\n",
       "3       kaushil268/disease-prediction-using-machine-le...\n",
       "4                                     kashnitsky/mlcourse\n",
       "                              ...                        \n",
       "2011    manishtripathi86/deloitte-hackathon-predict-th...\n",
       "2012                                   jimregan/dalaj-v10\n",
       "2013    claytonmiller/ashrae-global-occupant-behavior-...\n",
       "2014                                 awsaf49/vip-cup-2020\n",
       "2015                           kusuri/melspectrogramsdemo\n",
       "Name: id, Length: 2016, dtype: object"
      ]
     },
     "execution_count": 7,
     "metadata": {},
     "output_type": "execute_result"
    }
   ],
   "source": [
    "ids = df.KaggleDatasetsCrosswalk.unique_identifier\n",
    "ids"
   ]
  },
  {
   "cell_type": "code",
   "execution_count": 8,
   "id": "9952f2fa",
   "metadata": {
    "pycharm": {
     "name": "#%%\n"
    }
   },
   "outputs": [
    {
     "data": {
      "text/plain": [
       "2007"
      ]
     },
     "execution_count": 8,
     "metadata": {},
     "output_type": "execute_result"
    }
   ],
   "source": [
    "ids.nunique()"
   ]
  },
  {
   "cell_type": "code",
   "execution_count": 9,
   "id": "4145bb04",
   "metadata": {},
   "outputs": [
    {
     "name": "stdout",
     "output_type": "stream",
     "text": [
      "There are 2016 items in the Kaggle extract, with 2007 unique IDs.\n"
     ]
    }
   ],
   "source": [
    "print(f'There are {len(ids)} items in the Kaggle extract, with {ids.nunique()} unique IDs.')"
   ]
  },
  {
   "cell_type": "code",
   "execution_count": 10,
   "id": "e107287d",
   "metadata": {
    "scrolled": true
   },
   "outputs": [
    {
     "data": {
      "text/plain": [
       "arbazkhan971/github-bugs-prediction-challenge-machine-hack    4\n",
       "sakhawat18/asteroid-dataset                                   4\n",
       "ranjan6459/flairs-for-machine-learning-subreddit-data         4\n",
       "kaggle/kaggle-survey-2018                                     1\n",
       "csbuja/people-walking-with-no-occlusion                       1\n",
       "                                                             ..\n",
       "danielbacioiu/tig-stainless-steel-304                         1\n",
       "fanbyprinciple/file-pe-headers                                1\n",
       "blessondensil294/av-janatahack-healthcare-hackathon-ii        1\n",
       "prathumarikeri/american-sign-language-09az                    1\n",
       "kusuri/melspectrogramsdemo                                    1\n",
       "Name: id, Length: 2007, dtype: int64"
      ]
     },
     "execution_count": 10,
     "metadata": {},
     "output_type": "execute_result"
    }
   ],
   "source": [
    "#for the most part, each row is a unique object except for a few that have 4\n",
    "ids.value_counts()"
   ]
  },
  {
   "cell_type": "code",
   "execution_count": 11,
   "id": "5a0d3fc5",
   "metadata": {
    "scrolled": true
   },
   "outputs": [
    {
     "data": {
      "text/html": [
       "<div>\n",
       "<style scoped>\n",
       "    .dataframe tbody tr th:only-of-type {\n",
       "        vertical-align: middle;\n",
       "    }\n",
       "\n",
       "    .dataframe tbody tr th {\n",
       "        vertical-align: top;\n",
       "    }\n",
       "\n",
       "    .dataframe thead th {\n",
       "        text-align: right;\n",
       "    }\n",
       "</style>\n",
       "<table border=\"1\" class=\"dataframe\">\n",
       "  <thead>\n",
       "    <tr style=\"text-align: right;\">\n",
       "      <th></th>\n",
       "      <th>datasetId_search</th>\n",
       "      <th>id</th>\n",
       "      <th>subtitle_search</th>\n",
       "      <th>creatorName</th>\n",
       "      <th>creatorUrl</th>\n",
       "      <th>totalBytes</th>\n",
       "      <th>url</th>\n",
       "      <th>lastUpdated</th>\n",
       "      <th>downloadCount</th>\n",
       "      <th>isPrivate_search</th>\n",
       "      <th>isReviewed</th>\n",
       "      <th>isFeatured</th>\n",
       "      <th>licenseName</th>\n",
       "      <th>description_search</th>\n",
       "      <th>ownerName</th>\n",
       "      <th>ownerRef</th>\n",
       "      <th>kernelCount</th>\n",
       "      <th>title_search</th>\n",
       "      <th>topicCount</th>\n",
       "      <th>currentVersionNumber</th>\n",
       "      <th>usabilityRating_search</th>\n",
       "      <th>tags</th>\n",
       "      <th>files</th>\n",
       "      <th>versions</th>\n",
       "      <th>page</th>\n",
       "      <th>collaborators</th>\n",
       "      <th>data</th>\n",
       "      <th>datasetId_metadata</th>\n",
       "      <th>datasetSlug</th>\n",
       "      <th>description_metadata</th>\n",
       "      <th>id_no</th>\n",
       "      <th>isPrivate_metadata</th>\n",
       "      <th>keywords</th>\n",
       "      <th>licenses</th>\n",
       "      <th>ownerUser</th>\n",
       "      <th>subtitle_metadata</th>\n",
       "      <th>title_metadata</th>\n",
       "      <th>totalDownloads</th>\n",
       "      <th>totalViews</th>\n",
       "      <th>totalVotes</th>\n",
       "      <th>usabilityRating_metadata</th>\n",
       "    </tr>\n",
       "  </thead>\n",
       "  <tbody>\n",
       "    <tr>\n",
       "      <th>541</th>\n",
       "      <td>911365</td>\n",
       "      <td>arbazkhan971/github-bugs-prediction-challenge-...</td>\n",
       "      <td>GitHub Bugs Prediction Challenge (Machine Hack)</td>\n",
       "      <td>ask9</td>\n",
       "      <td>arbazkhan971</td>\n",
       "      <td>103105526.0</td>\n",
       "      <td>https://www.kaggle.com/arbazkhan971/github-bug...</td>\n",
       "      <td>2020-10-08T08:05:42.173Z</td>\n",
       "      <td>123</td>\n",
       "      <td>False</td>\n",
       "      <td>False</td>\n",
       "      <td>False</td>\n",
       "      <td>Other (specified in description)</td>\n",
       "      <td>NaN</td>\n",
       "      <td>ask9</td>\n",
       "      <td>arbazkhan971</td>\n",
       "      <td>1</td>\n",
       "      <td>GitHub Bugs Prediction Challenge (Machine Hack)</td>\n",
       "      <td>0</td>\n",
       "      <td>1</td>\n",
       "      <td>0.647059</td>\n",
       "      <td>[{'ref': 'computer science', 'name': 'computer...</td>\n",
       "      <td>[]</td>\n",
       "      <td>[]</td>\n",
       "      <td>27</td>\n",
       "      <td>[]</td>\n",
       "      <td>[]</td>\n",
       "      <td>911365.0</td>\n",
       "      <td>github-bugs-prediction-challenge-machine-hack</td>\n",
       "      <td>Overview\\nForeseeing bugs, features, and quest...</td>\n",
       "      <td>911365.0</td>\n",
       "      <td>0.0</td>\n",
       "      <td>[computer science, programming, nlp, classific...</td>\n",
       "      <td>[{'name': 'other'}]</td>\n",
       "      <td>arbazkhan971</td>\n",
       "      <td>GitHub Bugs Prediction Challenge (Machine Hack)</td>\n",
       "      <td>GitHub Bugs Prediction Challenge (Machine Hack)</td>\n",
       "      <td>123.0</td>\n",
       "      <td>1553.0</td>\n",
       "      <td>25.0</td>\n",
       "      <td>0.647059</td>\n",
       "    </tr>\n",
       "    <tr>\n",
       "      <th>542</th>\n",
       "      <td>911365</td>\n",
       "      <td>arbazkhan971/github-bugs-prediction-challenge-...</td>\n",
       "      <td>GitHub Bugs Prediction Challenge (Machine Hack)</td>\n",
       "      <td>ask9</td>\n",
       "      <td>arbazkhan971</td>\n",
       "      <td>103105526.0</td>\n",
       "      <td>https://www.kaggle.com/arbazkhan971/github-bug...</td>\n",
       "      <td>2020-10-08T08:05:42.173Z</td>\n",
       "      <td>123</td>\n",
       "      <td>False</td>\n",
       "      <td>False</td>\n",
       "      <td>False</td>\n",
       "      <td>Other (specified in description)</td>\n",
       "      <td>NaN</td>\n",
       "      <td>ask9</td>\n",
       "      <td>arbazkhan971</td>\n",
       "      <td>1</td>\n",
       "      <td>GitHub Bugs Prediction Challenge (Machine Hack)</td>\n",
       "      <td>0</td>\n",
       "      <td>1</td>\n",
       "      <td>0.647059</td>\n",
       "      <td>[{'ref': 'computer science', 'name': 'computer...</td>\n",
       "      <td>[]</td>\n",
       "      <td>[]</td>\n",
       "      <td>27</td>\n",
       "      <td>[]</td>\n",
       "      <td>[]</td>\n",
       "      <td>911365.0</td>\n",
       "      <td>github-bugs-prediction-challenge-machine-hack</td>\n",
       "      <td>Overview\\nForeseeing bugs, features, and quest...</td>\n",
       "      <td>911365.0</td>\n",
       "      <td>0.0</td>\n",
       "      <td>[computer science, programming, nlp, classific...</td>\n",
       "      <td>[{'name': 'other'}]</td>\n",
       "      <td>arbazkhan971</td>\n",
       "      <td>GitHub Bugs Prediction Challenge (Machine Hack)</td>\n",
       "      <td>GitHub Bugs Prediction Challenge (Machine Hack)</td>\n",
       "      <td>123.0</td>\n",
       "      <td>1553.0</td>\n",
       "      <td>25.0</td>\n",
       "      <td>0.647059</td>\n",
       "    </tr>\n",
       "    <tr>\n",
       "      <th>543</th>\n",
       "      <td>911365</td>\n",
       "      <td>arbazkhan971/github-bugs-prediction-challenge-...</td>\n",
       "      <td>GitHub Bugs Prediction Challenge (Machine Hack)</td>\n",
       "      <td>ask9</td>\n",
       "      <td>arbazkhan971</td>\n",
       "      <td>103105526.0</td>\n",
       "      <td>https://www.kaggle.com/arbazkhan971/github-bug...</td>\n",
       "      <td>2020-10-08T08:05:42.173Z</td>\n",
       "      <td>123</td>\n",
       "      <td>False</td>\n",
       "      <td>False</td>\n",
       "      <td>False</td>\n",
       "      <td>Other (specified in description)</td>\n",
       "      <td>NaN</td>\n",
       "      <td>ask9</td>\n",
       "      <td>arbazkhan971</td>\n",
       "      <td>1</td>\n",
       "      <td>GitHub Bugs Prediction Challenge (Machine Hack)</td>\n",
       "      <td>0</td>\n",
       "      <td>1</td>\n",
       "      <td>0.647059</td>\n",
       "      <td>[{'ref': 'computer science', 'name': 'computer...</td>\n",
       "      <td>[]</td>\n",
       "      <td>[]</td>\n",
       "      <td>28</td>\n",
       "      <td>[]</td>\n",
       "      <td>[]</td>\n",
       "      <td>911365.0</td>\n",
       "      <td>github-bugs-prediction-challenge-machine-hack</td>\n",
       "      <td>Overview\\nForeseeing bugs, features, and quest...</td>\n",
       "      <td>911365.0</td>\n",
       "      <td>0.0</td>\n",
       "      <td>[computer science, programming, nlp, classific...</td>\n",
       "      <td>[{'name': 'other'}]</td>\n",
       "      <td>arbazkhan971</td>\n",
       "      <td>GitHub Bugs Prediction Challenge (Machine Hack)</td>\n",
       "      <td>GitHub Bugs Prediction Challenge (Machine Hack)</td>\n",
       "      <td>123.0</td>\n",
       "      <td>1553.0</td>\n",
       "      <td>25.0</td>\n",
       "      <td>0.647059</td>\n",
       "    </tr>\n",
       "    <tr>\n",
       "      <th>544</th>\n",
       "      <td>911365</td>\n",
       "      <td>arbazkhan971/github-bugs-prediction-challenge-...</td>\n",
       "      <td>GitHub Bugs Prediction Challenge (Machine Hack)</td>\n",
       "      <td>ask9</td>\n",
       "      <td>arbazkhan971</td>\n",
       "      <td>103105526.0</td>\n",
       "      <td>https://www.kaggle.com/arbazkhan971/github-bug...</td>\n",
       "      <td>2020-10-08T08:05:42.173Z</td>\n",
       "      <td>123</td>\n",
       "      <td>False</td>\n",
       "      <td>False</td>\n",
       "      <td>False</td>\n",
       "      <td>Other (specified in description)</td>\n",
       "      <td>NaN</td>\n",
       "      <td>ask9</td>\n",
       "      <td>arbazkhan971</td>\n",
       "      <td>1</td>\n",
       "      <td>GitHub Bugs Prediction Challenge (Machine Hack)</td>\n",
       "      <td>0</td>\n",
       "      <td>1</td>\n",
       "      <td>0.647059</td>\n",
       "      <td>[{'ref': 'computer science', 'name': 'computer...</td>\n",
       "      <td>[]</td>\n",
       "      <td>[]</td>\n",
       "      <td>28</td>\n",
       "      <td>[]</td>\n",
       "      <td>[]</td>\n",
       "      <td>911365.0</td>\n",
       "      <td>github-bugs-prediction-challenge-machine-hack</td>\n",
       "      <td>Overview\\nForeseeing bugs, features, and quest...</td>\n",
       "      <td>911365.0</td>\n",
       "      <td>0.0</td>\n",
       "      <td>[computer science, programming, nlp, classific...</td>\n",
       "      <td>[{'name': 'other'}]</td>\n",
       "      <td>arbazkhan971</td>\n",
       "      <td>GitHub Bugs Prediction Challenge (Machine Hack)</td>\n",
       "      <td>GitHub Bugs Prediction Challenge (Machine Hack)</td>\n",
       "      <td>123.0</td>\n",
       "      <td>1553.0</td>\n",
       "      <td>25.0</td>\n",
       "      <td>0.647059</td>\n",
       "    </tr>\n",
       "  </tbody>\n",
       "</table>\n",
       "</div>"
      ],
      "text/plain": [
       "     datasetId_search                                                 id  \\\n",
       "541            911365  arbazkhan971/github-bugs-prediction-challenge-...   \n",
       "542            911365  arbazkhan971/github-bugs-prediction-challenge-...   \n",
       "543            911365  arbazkhan971/github-bugs-prediction-challenge-...   \n",
       "544            911365  arbazkhan971/github-bugs-prediction-challenge-...   \n",
       "\n",
       "                                     subtitle_search creatorName  \\\n",
       "541  GitHub Bugs Prediction Challenge (Machine Hack)        ask9   \n",
       "542  GitHub Bugs Prediction Challenge (Machine Hack)        ask9   \n",
       "543  GitHub Bugs Prediction Challenge (Machine Hack)        ask9   \n",
       "544  GitHub Bugs Prediction Challenge (Machine Hack)        ask9   \n",
       "\n",
       "       creatorUrl   totalBytes  \\\n",
       "541  arbazkhan971  103105526.0   \n",
       "542  arbazkhan971  103105526.0   \n",
       "543  arbazkhan971  103105526.0   \n",
       "544  arbazkhan971  103105526.0   \n",
       "\n",
       "                                                   url  \\\n",
       "541  https://www.kaggle.com/arbazkhan971/github-bug...   \n",
       "542  https://www.kaggle.com/arbazkhan971/github-bug...   \n",
       "543  https://www.kaggle.com/arbazkhan971/github-bug...   \n",
       "544  https://www.kaggle.com/arbazkhan971/github-bug...   \n",
       "\n",
       "                  lastUpdated  downloadCount  isPrivate_search  isReviewed  \\\n",
       "541  2020-10-08T08:05:42.173Z            123             False       False   \n",
       "542  2020-10-08T08:05:42.173Z            123             False       False   \n",
       "543  2020-10-08T08:05:42.173Z            123             False       False   \n",
       "544  2020-10-08T08:05:42.173Z            123             False       False   \n",
       "\n",
       "     isFeatured                       licenseName  description_search  \\\n",
       "541       False  Other (specified in description)                 NaN   \n",
       "542       False  Other (specified in description)                 NaN   \n",
       "543       False  Other (specified in description)                 NaN   \n",
       "544       False  Other (specified in description)                 NaN   \n",
       "\n",
       "    ownerName      ownerRef  kernelCount  \\\n",
       "541      ask9  arbazkhan971            1   \n",
       "542      ask9  arbazkhan971            1   \n",
       "543      ask9  arbazkhan971            1   \n",
       "544      ask9  arbazkhan971            1   \n",
       "\n",
       "                                        title_search  topicCount  \\\n",
       "541  GitHub Bugs Prediction Challenge (Machine Hack)           0   \n",
       "542  GitHub Bugs Prediction Challenge (Machine Hack)           0   \n",
       "543  GitHub Bugs Prediction Challenge (Machine Hack)           0   \n",
       "544  GitHub Bugs Prediction Challenge (Machine Hack)           0   \n",
       "\n",
       "     currentVersionNumber  usabilityRating_search  \\\n",
       "541                     1                0.647059   \n",
       "542                     1                0.647059   \n",
       "543                     1                0.647059   \n",
       "544                     1                0.647059   \n",
       "\n",
       "                                                  tags files versions  page  \\\n",
       "541  [{'ref': 'computer science', 'name': 'computer...    []       []    27   \n",
       "542  [{'ref': 'computer science', 'name': 'computer...    []       []    27   \n",
       "543  [{'ref': 'computer science', 'name': 'computer...    []       []    28   \n",
       "544  [{'ref': 'computer science', 'name': 'computer...    []       []    28   \n",
       "\n",
       "    collaborators data  datasetId_metadata  \\\n",
       "541            []   []            911365.0   \n",
       "542            []   []            911365.0   \n",
       "543            []   []            911365.0   \n",
       "544            []   []            911365.0   \n",
       "\n",
       "                                       datasetSlug  \\\n",
       "541  github-bugs-prediction-challenge-machine-hack   \n",
       "542  github-bugs-prediction-challenge-machine-hack   \n",
       "543  github-bugs-prediction-challenge-machine-hack   \n",
       "544  github-bugs-prediction-challenge-machine-hack   \n",
       "\n",
       "                                  description_metadata     id_no  \\\n",
       "541  Overview\\nForeseeing bugs, features, and quest...  911365.0   \n",
       "542  Overview\\nForeseeing bugs, features, and quest...  911365.0   \n",
       "543  Overview\\nForeseeing bugs, features, and quest...  911365.0   \n",
       "544  Overview\\nForeseeing bugs, features, and quest...  911365.0   \n",
       "\n",
       "     isPrivate_metadata                                           keywords  \\\n",
       "541                 0.0  [computer science, programming, nlp, classific...   \n",
       "542                 0.0  [computer science, programming, nlp, classific...   \n",
       "543                 0.0  [computer science, programming, nlp, classific...   \n",
       "544                 0.0  [computer science, programming, nlp, classific...   \n",
       "\n",
       "                licenses     ownerUser  \\\n",
       "541  [{'name': 'other'}]  arbazkhan971   \n",
       "542  [{'name': 'other'}]  arbazkhan971   \n",
       "543  [{'name': 'other'}]  arbazkhan971   \n",
       "544  [{'name': 'other'}]  arbazkhan971   \n",
       "\n",
       "                                   subtitle_metadata  \\\n",
       "541  GitHub Bugs Prediction Challenge (Machine Hack)   \n",
       "542  GitHub Bugs Prediction Challenge (Machine Hack)   \n",
       "543  GitHub Bugs Prediction Challenge (Machine Hack)   \n",
       "544  GitHub Bugs Prediction Challenge (Machine Hack)   \n",
       "\n",
       "                                      title_metadata  totalDownloads  \\\n",
       "541  GitHub Bugs Prediction Challenge (Machine Hack)           123.0   \n",
       "542  GitHub Bugs Prediction Challenge (Machine Hack)           123.0   \n",
       "543  GitHub Bugs Prediction Challenge (Machine Hack)           123.0   \n",
       "544  GitHub Bugs Prediction Challenge (Machine Hack)           123.0   \n",
       "\n",
       "     totalViews  totalVotes  usabilityRating_metadata  \n",
       "541      1553.0        25.0                  0.647059  \n",
       "542      1553.0        25.0                  0.647059  \n",
       "543      1553.0        25.0                  0.647059  \n",
       "544      1553.0        25.0                  0.647059  "
      ]
     },
     "execution_count": 11,
     "metadata": {},
     "output_type": "execute_result"
    }
   ],
   "source": [
    "#look into these duplicate IDs\n",
    "kaggle_dupes1 = df.loc[df['id'] == \"arbazkhan971/github-bugs-prediction-challenge-machine-hack\"]\n",
    "kaggle_dupes1"
   ]
  },
  {
   "cell_type": "code",
   "execution_count": 12,
   "id": "a3806c6a",
   "metadata": {},
   "outputs": [],
   "source": [
    "#look closer at these\n",
    "dupes1_1 = kaggle_dupes1.iloc[0]\n",
    "dupes1_2 = kaggle_dupes1.iloc[1]\n",
    "dupes1_3 = kaggle_dupes1.iloc[2]\n",
    "dupes1_4 = kaggle_dupes1.iloc[3]"
   ]
  },
  {
   "cell_type": "code",
   "execution_count": 13,
   "id": "e2cfb6f6",
   "metadata": {},
   "outputs": [
    {
     "data": {
      "text/plain": [
       "True"
      ]
     },
     "execution_count": 13,
     "metadata": {},
     "output_type": "execute_result"
    }
   ],
   "source": [
    "dupes1_2.equals(dupes1_1)"
   ]
  },
  {
   "cell_type": "code",
   "execution_count": 14,
   "id": "a2b3334c",
   "metadata": {},
   "outputs": [
    {
     "data": {
      "text/plain": [
       "False"
      ]
     },
     "execution_count": 14,
     "metadata": {},
     "output_type": "execute_result"
    }
   ],
   "source": [
    "dupes1_2.equals(dupes1_3)"
   ]
  },
  {
   "cell_type": "code",
   "execution_count": 15,
   "id": "f17e32f2",
   "metadata": {},
   "outputs": [
    {
     "data": {
      "text/plain": [
       "True"
      ]
     },
     "execution_count": 15,
     "metadata": {},
     "output_type": "execute_result"
    }
   ],
   "source": [
    "dupes1_3.equals(dupes1_4)"
   ]
  },
  {
   "cell_type": "code",
   "execution_count": 16,
   "id": "2482dc75",
   "metadata": {},
   "outputs": [],
   "source": [
    "#first two equal each other, and last two equal each other, but they differ from each other"
   ]
  },
  {
   "cell_type": "code",
   "execution_count": 17,
   "id": "c3e2ae22",
   "metadata": {
    "scrolled": true
   },
   "outputs": [
    {
     "data": {
      "text/plain": [
       "datasetId_search             True\n",
       "id                           True\n",
       "subtitle_search              True\n",
       "creatorName                  True\n",
       "creatorUrl                   True\n",
       "totalBytes                   True\n",
       "url                          True\n",
       "lastUpdated                  True\n",
       "downloadCount                True\n",
       "isPrivate_search             True\n",
       "isReviewed                   True\n",
       "isFeatured                   True\n",
       "licenseName                  True\n",
       "description_search          False\n",
       "ownerName                    True\n",
       "ownerRef                     True\n",
       "kernelCount                  True\n",
       "title_search                 True\n",
       "topicCount                   True\n",
       "currentVersionNumber         True\n",
       "usabilityRating_search       True\n",
       "tags                         True\n",
       "files                        True\n",
       "versions                     True\n",
       "page                        False\n",
       "collaborators                True\n",
       "data                         True\n",
       "datasetId_metadata           True\n",
       "datasetSlug                  True\n",
       "description_metadata         True\n",
       "id_no                        True\n",
       "isPrivate_metadata           True\n",
       "keywords                     True\n",
       "licenses                     True\n",
       "ownerUser                    True\n",
       "subtitle_metadata            True\n",
       "title_metadata               True\n",
       "totalDownloads               True\n",
       "totalViews                   True\n",
       "totalVotes                   True\n",
       "usabilityRating_metadata     True\n",
       "dtype: bool"
      ]
     },
     "execution_count": 17,
     "metadata": {},
     "output_type": "execute_result"
    }
   ],
   "source": [
    "#find where instances differ\n",
    "kaggle_diffs = dupes1_1 == dupes1_4\n",
    "kaggle_diffs"
   ]
  },
  {
   "cell_type": "code",
   "execution_count": 18,
   "id": "9cc20cfd",
   "metadata": {},
   "outputs": [
    {
     "data": {
      "text/plain": [
       "description_search    False\n",
       "page                  False\n",
       "dtype: bool"
      ]
     },
     "execution_count": 18,
     "metadata": {},
     "output_type": "execute_result"
    }
   ],
   "source": [
    "index_diffs = kaggle_diffs[kaggle_diffs == False]\n",
    "index_diffs"
   ]
  },
  {
   "cell_type": "code",
   "execution_count": 19,
   "id": "dbbdbb16",
   "metadata": {},
   "outputs": [
    {
     "data": {
      "text/plain": [
       "['description_search', 'page']"
      ]
     },
     "execution_count": 19,
     "metadata": {},
     "output_type": "execute_result"
    }
   ],
   "source": [
    "index_diffs_str = index_diffs.index.tolist()\n",
    "index_diffs_str"
   ]
  },
  {
   "cell_type": "code",
   "execution_count": 20,
   "id": "5c60440d",
   "metadata": {},
   "outputs": [
    {
     "data": {
      "text/plain": [
       "description_search    NaN\n",
       "page                   27\n",
       "Name: 541, dtype: object"
      ]
     },
     "execution_count": 20,
     "metadata": {},
     "output_type": "execute_result"
    }
   ],
   "source": [
    "dupes1_1[index_diffs_str]"
   ]
  },
  {
   "cell_type": "code",
   "execution_count": 21,
   "id": "bd0a834c",
   "metadata": {},
   "outputs": [
    {
     "data": {
      "text/plain": [
       "description_search    NaN\n",
       "page                   28\n",
       "Name: 544, dtype: object"
      ]
     },
     "execution_count": 21,
     "metadata": {},
     "output_type": "execute_result"
    }
   ],
   "source": [
    "dupes1_4[index_diffs_str]"
   ]
  },
  {
   "cell_type": "code",
   "execution_count": 22,
   "id": "55341478",
   "metadata": {},
   "outputs": [],
   "source": [
    "#page number is only difference (may be artifact of web scraping)\n",
    "#decision: we don't use this field for any calculations, so just group by ID and select first"
   ]
  },
  {
   "cell_type": "code",
   "execution_count": 23,
   "id": "24f16c73",
   "metadata": {},
   "outputs": [
    {
     "data": {
      "text/html": [
       "<div>\n",
       "<style scoped>\n",
       "    .dataframe tbody tr th:only-of-type {\n",
       "        vertical-align: middle;\n",
       "    }\n",
       "\n",
       "    .dataframe tbody tr th {\n",
       "        vertical-align: top;\n",
       "    }\n",
       "\n",
       "    .dataframe thead th {\n",
       "        text-align: right;\n",
       "    }\n",
       "</style>\n",
       "<table border=\"1\" class=\"dataframe\">\n",
       "  <thead>\n",
       "    <tr style=\"text-align: right;\">\n",
       "      <th></th>\n",
       "      <th>id</th>\n",
       "    </tr>\n",
       "  </thead>\n",
       "  <tbody>\n",
       "    <tr>\n",
       "      <th>arbazkhan971/github-bugs-prediction-challenge-machine-hack</th>\n",
       "      <td>4</td>\n",
       "    </tr>\n",
       "    <tr>\n",
       "      <th>sakhawat18/asteroid-dataset</th>\n",
       "      <td>4</td>\n",
       "    </tr>\n",
       "    <tr>\n",
       "      <th>ranjan6459/flairs-for-machine-learning-subreddit-data</th>\n",
       "      <td>4</td>\n",
       "    </tr>\n",
       "  </tbody>\n",
       "</table>\n",
       "</div>"
      ],
      "text/plain": [
       "                                                    id\n",
       "arbazkhan971/github-bugs-prediction-challenge-m...   4\n",
       "sakhawat18/asteroid-dataset                          4\n",
       "ranjan6459/flairs-for-machine-learning-subreddi...   4"
      ]
     },
     "execution_count": 23,
     "metadata": {},
     "output_type": "execute_result"
    }
   ],
   "source": [
    "#subset to view only the duplicate ids\n",
    "dupes_all = ids.value_counts().to_frame()\n",
    "dupes_all = dupes_all[dupes_all['id'] == 4]\n",
    "dupes_all"
   ]
  },
  {
   "cell_type": "code",
   "execution_count": 24,
   "id": "7341da13",
   "metadata": {},
   "outputs": [
    {
     "data": {
      "text/plain": [
       "['arbazkhan971/github-bugs-prediction-challenge-machine-hack',\n",
       " 'sakhawat18/asteroid-dataset',\n",
       " 'ranjan6459/flairs-for-machine-learning-subreddit-data']"
      ]
     },
     "execution_count": 24,
     "metadata": {},
     "output_type": "execute_result"
    }
   ],
   "source": [
    "dupes_all_ids = dupes_all.index.to_list()\n",
    "dupes_all_ids"
   ]
  },
  {
   "cell_type": "code",
   "execution_count": 25,
   "id": "633e2d24",
   "metadata": {
    "scrolled": true
   },
   "outputs": [
    {
     "data": {
      "text/html": [
       "<div>\n",
       "<style scoped>\n",
       "    .dataframe tbody tr th:only-of-type {\n",
       "        vertical-align: middle;\n",
       "    }\n",
       "\n",
       "    .dataframe tbody tr th {\n",
       "        vertical-align: top;\n",
       "    }\n",
       "\n",
       "    .dataframe thead th {\n",
       "        text-align: right;\n",
       "    }\n",
       "</style>\n",
       "<table border=\"1\" class=\"dataframe\">\n",
       "  <thead>\n",
       "    <tr style=\"text-align: right;\">\n",
       "      <th></th>\n",
       "      <th>id</th>\n",
       "      <th>page</th>\n",
       "    </tr>\n",
       "  </thead>\n",
       "  <tbody>\n",
       "    <tr>\n",
       "      <th>541</th>\n",
       "      <td>arbazkhan971/github-bugs-prediction-challenge-...</td>\n",
       "      <td>27</td>\n",
       "    </tr>\n",
       "    <tr>\n",
       "      <th>542</th>\n",
       "      <td>arbazkhan971/github-bugs-prediction-challenge-...</td>\n",
       "      <td>27</td>\n",
       "    </tr>\n",
       "    <tr>\n",
       "      <th>543</th>\n",
       "      <td>arbazkhan971/github-bugs-prediction-challenge-...</td>\n",
       "      <td>28</td>\n",
       "    </tr>\n",
       "    <tr>\n",
       "      <th>544</th>\n",
       "      <td>arbazkhan971/github-bugs-prediction-challenge-...</td>\n",
       "      <td>28</td>\n",
       "    </tr>\n",
       "    <tr>\n",
       "      <th>1342</th>\n",
       "      <td>ranjan6459/flairs-for-machine-learning-subredd...</td>\n",
       "      <td>67</td>\n",
       "    </tr>\n",
       "    <tr>\n",
       "      <th>1343</th>\n",
       "      <td>ranjan6459/flairs-for-machine-learning-subredd...</td>\n",
       "      <td>67</td>\n",
       "    </tr>\n",
       "    <tr>\n",
       "      <th>1344</th>\n",
       "      <td>ranjan6459/flairs-for-machine-learning-subredd...</td>\n",
       "      <td>68</td>\n",
       "    </tr>\n",
       "    <tr>\n",
       "      <th>1345</th>\n",
       "      <td>ranjan6459/flairs-for-machine-learning-subredd...</td>\n",
       "      <td>68</td>\n",
       "    </tr>\n",
       "    <tr>\n",
       "      <th>139</th>\n",
       "      <td>sakhawat18/asteroid-dataset</td>\n",
       "      <td>7</td>\n",
       "    </tr>\n",
       "    <tr>\n",
       "      <th>140</th>\n",
       "      <td>sakhawat18/asteroid-dataset</td>\n",
       "      <td>7</td>\n",
       "    </tr>\n",
       "    <tr>\n",
       "      <th>141</th>\n",
       "      <td>sakhawat18/asteroid-dataset</td>\n",
       "      <td>8</td>\n",
       "    </tr>\n",
       "    <tr>\n",
       "      <th>142</th>\n",
       "      <td>sakhawat18/asteroid-dataset</td>\n",
       "      <td>8</td>\n",
       "    </tr>\n",
       "  </tbody>\n",
       "</table>\n",
       "</div>"
      ],
      "text/plain": [
       "                                                     id  page\n",
       "541   arbazkhan971/github-bugs-prediction-challenge-...    27\n",
       "542   arbazkhan971/github-bugs-prediction-challenge-...    27\n",
       "543   arbazkhan971/github-bugs-prediction-challenge-...    28\n",
       "544   arbazkhan971/github-bugs-prediction-challenge-...    28\n",
       "1342  ranjan6459/flairs-for-machine-learning-subredd...    67\n",
       "1343  ranjan6459/flairs-for-machine-learning-subredd...    67\n",
       "1344  ranjan6459/flairs-for-machine-learning-subredd...    68\n",
       "1345  ranjan6459/flairs-for-machine-learning-subredd...    68\n",
       "139                         sakhawat18/asteroid-dataset     7\n",
       "140                         sakhawat18/asteroid-dataset     7\n",
       "141                         sakhawat18/asteroid-dataset     8\n",
       "142                         sakhawat18/asteroid-dataset     8"
      ]
     },
     "execution_count": 25,
     "metadata": {},
     "output_type": "execute_result"
    }
   ],
   "source": [
    "dupes_df = df[df.id.isin(dupes_all_ids)].sort_values(['id', 'page'])\n",
    "dupes_df[['id', 'page']]"
   ]
  },
  {
   "cell_type": "code",
   "execution_count": 26,
   "id": "f984c899",
   "metadata": {},
   "outputs": [],
   "source": [
    "#confirmed - value is off by 1 for page"
   ]
  },
  {
   "cell_type": "code",
   "execution_count": 27,
   "id": "0f0660aa",
   "metadata": {},
   "outputs": [
    {
     "data": {
      "text/html": [
       "<div>\n",
       "<style scoped>\n",
       "    .dataframe tbody tr th:only-of-type {\n",
       "        vertical-align: middle;\n",
       "    }\n",
       "\n",
       "    .dataframe tbody tr th {\n",
       "        vertical-align: top;\n",
       "    }\n",
       "\n",
       "    .dataframe thead th {\n",
       "        text-align: right;\n",
       "    }\n",
       "</style>\n",
       "<table border=\"1\" class=\"dataframe\">\n",
       "  <thead>\n",
       "    <tr style=\"text-align: right;\">\n",
       "      <th></th>\n",
       "      <th>id</th>\n",
       "      <th>page</th>\n",
       "    </tr>\n",
       "  </thead>\n",
       "  <tbody>\n",
       "    <tr>\n",
       "      <th>195</th>\n",
       "      <td>arbazkhan971/github-bugs-prediction-challenge-...</td>\n",
       "      <td>27</td>\n",
       "    </tr>\n",
       "    <tr>\n",
       "      <th>1413</th>\n",
       "      <td>ranjan6459/flairs-for-machine-learning-subredd...</td>\n",
       "      <td>67</td>\n",
       "    </tr>\n",
       "    <tr>\n",
       "      <th>1521</th>\n",
       "      <td>sakhawat18/asteroid-dataset</td>\n",
       "      <td>7</td>\n",
       "    </tr>\n",
       "  </tbody>\n",
       "</table>\n",
       "</div>"
      ],
      "text/plain": [
       "                                                     id  page\n",
       "195   arbazkhan971/github-bugs-prediction-challenge-...    27\n",
       "1413  ranjan6459/flairs-for-machine-learning-subredd...    67\n",
       "1521                        sakhawat18/asteroid-dataset     7"
      ]
     },
     "execution_count": 27,
     "metadata": {},
     "output_type": "execute_result"
    }
   ],
   "source": [
    "#group by id and select first within group\n",
    "df_use = df.groupby('id').nth(0).reset_index()\n",
    "df_use[df_use.id.isin(dupes_all_ids)].sort_values(['id', 'page'])[['id','page']]"
   ]
  },
  {
   "cell_type": "code",
   "execution_count": 28,
   "id": "e9e52140",
   "metadata": {},
   "outputs": [],
   "source": [
    "#for matching other notebooks, rename 'df_use' back to 'df'\n",
    "df = df_use"
   ]
  },
  {
   "cell_type": "code",
   "execution_count": 29,
   "id": "963e991d",
   "metadata": {},
   "outputs": [],
   "source": [
    "ids = df.KaggleDatasetsCrosswalk.unique_identifier"
   ]
  },
  {
   "cell_type": "code",
   "execution_count": 30,
   "id": "26e41149",
   "metadata": {},
   "outputs": [
    {
     "name": "stdout",
     "output_type": "stream",
     "text": [
      "There are 2007 items in the Kaggle extract after removing duplicates, with 2007 unique IDs.\n"
     ]
    }
   ],
   "source": [
    "ids = df.KaggleDatasetsCrosswalk.unique_identifier\n",
    "print(f'There are {len(ids)} items in the Kaggle extract after removing duplicates, with {ids.nunique()} unique IDs.')"
   ]
  },
  {
   "cell_type": "markdown",
   "id": "f2456b73",
   "metadata": {
    "pycharm": {
     "name": "#%% md\n"
    }
   },
   "source": [
    "## 2. See the \"Licenses offered\" tab in /Working documents/Licenses sheet for list of licenses by repo.\n",
    "\n",
    "## Given the type(s) of license(s) offered by the repo, how many of each type is assigned?\n",
    "**Property:** License"
   ]
  },
  {
   "cell_type": "code",
   "execution_count": 31,
   "id": "8e8f655a",
   "metadata": {
    "pycharm": {
     "name": "#%%\n"
    }
   },
   "outputs": [
    {
     "data": {
      "text/plain": [
       "0                      None\n",
       "1                      None\n",
       "2                      None\n",
       "3                      None\n",
       "4                      None\n",
       "               ...         \n",
       "2002    [copyright-authors]\n",
       "2003              [CC0-1.0]\n",
       "2004              [CC0-1.0]\n",
       "2005             [DbCL-1.0]\n",
       "2006              [CC0-1.0]\n",
       "Name: licenses, Length: 2007, dtype: object"
      ]
     },
     "execution_count": 31,
     "metadata": {},
     "output_type": "execute_result"
    }
   ],
   "source": [
    "licenses = df.KaggleDatasetsCrosswalk.license\n",
    "licenses"
   ]
  },
  {
   "cell_type": "code",
   "execution_count": 32,
   "id": "53536350",
   "metadata": {},
   "outputs": [
    {
     "data": {
      "text/plain": [
       "0                        []\n",
       "1                        []\n",
       "2                        []\n",
       "3                        []\n",
       "4                        []\n",
       "               ...         \n",
       "2002    [copyright-authors]\n",
       "2003              [CC0-1.0]\n",
       "2004              [CC0-1.0]\n",
       "2005             [DbCL-1.0]\n",
       "2006              [CC0-1.0]\n",
       "Name: licenses, Length: 2007, dtype: object"
      ]
     },
     "execution_count": 32,
     "metadata": {},
     "output_type": "execute_result"
    }
   ],
   "source": [
    "#replace None values with empty list\n",
    "licenses = licenses.apply(lambda d: d if isinstance(d, list) else [])\n",
    "licenses"
   ]
  },
  {
   "cell_type": "code",
   "execution_count": 33,
   "id": "a740ceec",
   "metadata": {
    "scrolled": true
   },
   "outputs": [
    {
     "data": {
      "text/html": [
       "<div>\n",
       "<style scoped>\n",
       "    .dataframe tbody tr th:only-of-type {\n",
       "        vertical-align: middle;\n",
       "    }\n",
       "\n",
       "    .dataframe tbody tr th {\n",
       "        vertical-align: top;\n",
       "    }\n",
       "\n",
       "    .dataframe thead th {\n",
       "        text-align: right;\n",
       "    }\n",
       "</style>\n",
       "<table border=\"1\" class=\"dataframe\">\n",
       "  <thead>\n",
       "    <tr style=\"text-align: right;\">\n",
       "      <th></th>\n",
       "      <th>id</th>\n",
       "      <th>licenses</th>\n",
       "    </tr>\n",
       "  </thead>\n",
       "  <tbody>\n",
       "    <tr>\n",
       "      <th>0</th>\n",
       "      <td>BengaliAI/numta</td>\n",
       "      <td>[]</td>\n",
       "    </tr>\n",
       "    <tr>\n",
       "      <th>1</th>\n",
       "      <td>Cornell-University/arxiv</td>\n",
       "      <td>[]</td>\n",
       "    </tr>\n",
       "    <tr>\n",
       "      <th>2</th>\n",
       "      <td>FootballPrediction/fbpdataset</td>\n",
       "      <td>[]</td>\n",
       "    </tr>\n",
       "    <tr>\n",
       "      <th>3</th>\n",
       "      <td>HRAnalyticRepository/employee-attrition-data</td>\n",
       "      <td>[]</td>\n",
       "    </tr>\n",
       "    <tr>\n",
       "      <th>4</th>\n",
       "      <td>HRAnalyticRepository/job-classification-dataset</td>\n",
       "      <td>[]</td>\n",
       "    </tr>\n",
       "    <tr>\n",
       "      <th>...</th>\n",
       "      <td>...</td>\n",
       "      <td>...</td>\n",
       "    </tr>\n",
       "    <tr>\n",
       "      <th>2002</th>\n",
       "      <td>zusmani/pakistans-largest-ecommerce-dataset</td>\n",
       "      <td>[copyright-authors]</td>\n",
       "    </tr>\n",
       "    <tr>\n",
       "      <th>2003</th>\n",
       "      <td>zusmani/the-holy-quran</td>\n",
       "      <td>[CC0-1.0]</td>\n",
       "    </tr>\n",
       "    <tr>\n",
       "      <th>2004</th>\n",
       "      <td>zusmani/trumps-legacy</td>\n",
       "      <td>[CC0-1.0]</td>\n",
       "    </tr>\n",
       "    <tr>\n",
       "      <th>2005</th>\n",
       "      <td>zusmani/us-mass-shootings-last-50-years</td>\n",
       "      <td>[DbCL-1.0]</td>\n",
       "    </tr>\n",
       "    <tr>\n",
       "      <th>2006</th>\n",
       "      <td>zynicide/nfl-football-player-stats</td>\n",
       "      <td>[CC0-1.0]</td>\n",
       "    </tr>\n",
       "  </tbody>\n",
       "</table>\n",
       "<p>2007 rows × 2 columns</p>\n",
       "</div>"
      ],
      "text/plain": [
       "                                                   id             licenses\n",
       "0                                     BengaliAI/numta                   []\n",
       "1                            Cornell-University/arxiv                   []\n",
       "2                       FootballPrediction/fbpdataset                   []\n",
       "3        HRAnalyticRepository/employee-attrition-data                   []\n",
       "4     HRAnalyticRepository/job-classification-dataset                   []\n",
       "...                                               ...                  ...\n",
       "2002      zusmani/pakistans-largest-ecommerce-dataset  [copyright-authors]\n",
       "2003                           zusmani/the-holy-quran            [CC0-1.0]\n",
       "2004                            zusmani/trumps-legacy            [CC0-1.0]\n",
       "2005          zusmani/us-mass-shootings-last-50-years           [DbCL-1.0]\n",
       "2006               zynicide/nfl-football-player-stats            [CC0-1.0]\n",
       "\n",
       "[2007 rows x 2 columns]"
      ]
     },
     "execution_count": 33,
     "metadata": {},
     "output_type": "execute_result"
    }
   ],
   "source": [
    "#since interested in per object, need to group by ID\n",
    "licenses_ids = pd.concat([ids, licenses], axis = 1)\n",
    "licenses_ids"
   ]
  },
  {
   "cell_type": "code",
   "execution_count": 34,
   "id": "8fe1db56",
   "metadata": {
    "scrolled": true
   },
   "outputs": [
    {
     "data": {
      "text/html": [
       "<div>\n",
       "<style scoped>\n",
       "    .dataframe tbody tr th:only-of-type {\n",
       "        vertical-align: middle;\n",
       "    }\n",
       "\n",
       "    .dataframe tbody tr th {\n",
       "        vertical-align: top;\n",
       "    }\n",
       "\n",
       "    .dataframe thead th {\n",
       "        text-align: right;\n",
       "    }\n",
       "</style>\n",
       "<table border=\"1\" class=\"dataframe\">\n",
       "  <thead>\n",
       "    <tr style=\"text-align: right;\">\n",
       "      <th></th>\n",
       "      <th>id</th>\n",
       "      <th>licenses</th>\n",
       "    </tr>\n",
       "  </thead>\n",
       "  <tbody>\n",
       "    <tr>\n",
       "      <th>0</th>\n",
       "      <td>BengaliAI/numta</td>\n",
       "      <td>NaN</td>\n",
       "    </tr>\n",
       "    <tr>\n",
       "      <th>1</th>\n",
       "      <td>Cornell-University/arxiv</td>\n",
       "      <td>NaN</td>\n",
       "    </tr>\n",
       "    <tr>\n",
       "      <th>2</th>\n",
       "      <td>FootballPrediction/fbpdataset</td>\n",
       "      <td>NaN</td>\n",
       "    </tr>\n",
       "    <tr>\n",
       "      <th>3</th>\n",
       "      <td>HRAnalyticRepository/employee-attrition-data</td>\n",
       "      <td>NaN</td>\n",
       "    </tr>\n",
       "    <tr>\n",
       "      <th>4</th>\n",
       "      <td>HRAnalyticRepository/job-classification-dataset</td>\n",
       "      <td>NaN</td>\n",
       "    </tr>\n",
       "    <tr>\n",
       "      <th>...</th>\n",
       "      <td>...</td>\n",
       "      <td>...</td>\n",
       "    </tr>\n",
       "    <tr>\n",
       "      <th>2002</th>\n",
       "      <td>zusmani/pakistans-largest-ecommerce-dataset</td>\n",
       "      <td>copyright-authors</td>\n",
       "    </tr>\n",
       "    <tr>\n",
       "      <th>2003</th>\n",
       "      <td>zusmani/the-holy-quran</td>\n",
       "      <td>CC0-1.0</td>\n",
       "    </tr>\n",
       "    <tr>\n",
       "      <th>2004</th>\n",
       "      <td>zusmani/trumps-legacy</td>\n",
       "      <td>CC0-1.0</td>\n",
       "    </tr>\n",
       "    <tr>\n",
       "      <th>2005</th>\n",
       "      <td>zusmani/us-mass-shootings-last-50-years</td>\n",
       "      <td>DbCL-1.0</td>\n",
       "    </tr>\n",
       "    <tr>\n",
       "      <th>2006</th>\n",
       "      <td>zynicide/nfl-football-player-stats</td>\n",
       "      <td>CC0-1.0</td>\n",
       "    </tr>\n",
       "  </tbody>\n",
       "</table>\n",
       "<p>2007 rows × 2 columns</p>\n",
       "</div>"
      ],
      "text/plain": [
       "                                                   id           licenses\n",
       "0                                     BengaliAI/numta                NaN\n",
       "1                            Cornell-University/arxiv                NaN\n",
       "2                       FootballPrediction/fbpdataset                NaN\n",
       "3        HRAnalyticRepository/employee-attrition-data                NaN\n",
       "4     HRAnalyticRepository/job-classification-dataset                NaN\n",
       "...                                               ...                ...\n",
       "2002      zusmani/pakistans-largest-ecommerce-dataset  copyright-authors\n",
       "2003                           zusmani/the-holy-quran            CC0-1.0\n",
       "2004                            zusmani/trumps-legacy            CC0-1.0\n",
       "2005          zusmani/us-mass-shootings-last-50-years           DbCL-1.0\n",
       "2006               zynicide/nfl-football-player-stats            CC0-1.0\n",
       "\n",
       "[2007 rows x 2 columns]"
      ]
     },
     "execution_count": 34,
     "metadata": {},
     "output_type": "execute_result"
    }
   ],
   "source": [
    "#expand licenses in list (in case of multiple) and drop duplicates, so one license per unique ID\n",
    "licenses_ids_unique = licenses_ids.explode(['licenses']).drop_duplicates()\n",
    "licenses_ids_unique"
   ]
  },
  {
   "cell_type": "code",
   "execution_count": 35,
   "id": "6865b9c6",
   "metadata": {
    "scrolled": true
   },
   "outputs": [
    {
     "data": {
      "text/html": [
       "<div>\n",
       "<style scoped>\n",
       "    .dataframe tbody tr th:only-of-type {\n",
       "        vertical-align: middle;\n",
       "    }\n",
       "\n",
       "    .dataframe tbody tr th {\n",
       "        vertical-align: top;\n",
       "    }\n",
       "\n",
       "    .dataframe thead th {\n",
       "        text-align: right;\n",
       "    }\n",
       "</style>\n",
       "<table border=\"1\" class=\"dataframe\">\n",
       "  <thead>\n",
       "    <tr style=\"text-align: right;\">\n",
       "      <th></th>\n",
       "      <th>licenses</th>\n",
       "      <th>percent</th>\n",
       "    </tr>\n",
       "  </thead>\n",
       "  <tbody>\n",
       "    <tr>\n",
       "      <th>unknown</th>\n",
       "      <td>645</td>\n",
       "      <td>32.137519</td>\n",
       "    </tr>\n",
       "    <tr>\n",
       "      <th>CC0-1.0</th>\n",
       "      <td>431</td>\n",
       "      <td>21.474838</td>\n",
       "    </tr>\n",
       "    <tr>\n",
       "      <th>other</th>\n",
       "      <td>215</td>\n",
       "      <td>10.712506</td>\n",
       "    </tr>\n",
       "    <tr>\n",
       "      <th>copyright-authors</th>\n",
       "      <td>167</td>\n",
       "      <td>8.320877</td>\n",
       "    </tr>\n",
       "    <tr>\n",
       "      <th>Attribution 4.0 International (CC BY 4.0)</th>\n",
       "      <td>99</td>\n",
       "      <td>4.932735</td>\n",
       "    </tr>\n",
       "    <tr>\n",
       "      <th>DbCL-1.0</th>\n",
       "      <td>84</td>\n",
       "      <td>4.185351</td>\n",
       "    </tr>\n",
       "    <tr>\n",
       "      <th>CC-BY-NC-SA-4.0</th>\n",
       "      <td>65</td>\n",
       "      <td>3.238665</td>\n",
       "    </tr>\n",
       "    <tr>\n",
       "      <th>ODbL-1.0</th>\n",
       "      <td>48</td>\n",
       "      <td>2.391629</td>\n",
       "    </tr>\n",
       "    <tr>\n",
       "      <th>CC-BY-SA-4.0</th>\n",
       "      <td>44</td>\n",
       "      <td>2.192327</td>\n",
       "    </tr>\n",
       "    <tr>\n",
       "      <th>GPL-2.0</th>\n",
       "      <td>42</td>\n",
       "      <td>2.092676</td>\n",
       "    </tr>\n",
       "    <tr>\n",
       "      <th>Attribution-NonCommercial-NoDerivatives 4.0 International (CC BY-NC-ND 4.0)</th>\n",
       "      <td>19</td>\n",
       "      <td>0.946687</td>\n",
       "    </tr>\n",
       "    <tr>\n",
       "      <th>ODC Attribution License (ODC-By)</th>\n",
       "      <td>14</td>\n",
       "      <td>0.697559</td>\n",
       "    </tr>\n",
       "    <tr>\n",
       "      <th>GNU Lesser General Public License 3.0</th>\n",
       "      <td>11</td>\n",
       "      <td>0.548082</td>\n",
       "    </tr>\n",
       "    <tr>\n",
       "      <th>Attribution-NonCommercial 4.0 International (CC BY-NC 4.0)</th>\n",
       "      <td>9</td>\n",
       "      <td>0.448430</td>\n",
       "    </tr>\n",
       "    <tr>\n",
       "      <th>U.S. Government Works</th>\n",
       "      <td>8</td>\n",
       "      <td>0.398605</td>\n",
       "    </tr>\n",
       "    <tr>\n",
       "      <th>Attribution 3.0 Unported (CC BY 3.0)</th>\n",
       "      <td>8</td>\n",
       "      <td>0.398605</td>\n",
       "    </tr>\n",
       "    <tr>\n",
       "      <th>EU ODP Legal Notice</th>\n",
       "      <td>8</td>\n",
       "      <td>0.398605</td>\n",
       "    </tr>\n",
       "    <tr>\n",
       "      <th>Attribution-NonCommercial-ShareAlike 3.0 IGO (CC BY-NC-SA 3.0 IGO)</th>\n",
       "      <td>6</td>\n",
       "      <td>0.298954</td>\n",
       "    </tr>\n",
       "    <tr>\n",
       "      <th>Community Data License Agreement - Sharing - Version 1.0</th>\n",
       "      <td>6</td>\n",
       "      <td>0.298954</td>\n",
       "    </tr>\n",
       "    <tr>\n",
       "      <th>Community Data License Agreement - Permissive - Version 1.0</th>\n",
       "      <td>4</td>\n",
       "      <td>0.199302</td>\n",
       "    </tr>\n",
       "    <tr>\n",
       "      <th>reddit-api</th>\n",
       "      <td>3</td>\n",
       "      <td>0.149477</td>\n",
       "    </tr>\n",
       "    <tr>\n",
       "      <th>world-bank</th>\n",
       "      <td>2</td>\n",
       "      <td>0.099651</td>\n",
       "    </tr>\n",
       "    <tr>\n",
       "      <th>GNU Affero General Public License 3.0</th>\n",
       "      <td>2</td>\n",
       "      <td>0.099651</td>\n",
       "    </tr>\n",
       "    <tr>\n",
       "      <th>CC-BY-SA-3.0</th>\n",
       "      <td>1</td>\n",
       "      <td>0.049826</td>\n",
       "    </tr>\n",
       "    <tr>\n",
       "      <th>Attribution-NoDerivatives 4.0 International (CC BY-ND 4.0)</th>\n",
       "      <td>1</td>\n",
       "      <td>0.049826</td>\n",
       "    </tr>\n",
       "    <tr>\n",
       "      <th>GNU Free Documentation License 1.3</th>\n",
       "      <td>1</td>\n",
       "      <td>0.049826</td>\n",
       "    </tr>\n",
       "  </tbody>\n",
       "</table>\n",
       "</div>"
      ],
      "text/plain": [
       "                                                    licenses    percent\n",
       "unknown                                                  645  32.137519\n",
       "CC0-1.0                                                  431  21.474838\n",
       "other                                                    215  10.712506\n",
       "copyright-authors                                        167   8.320877\n",
       "Attribution 4.0 International (CC BY 4.0)                 99   4.932735\n",
       "DbCL-1.0                                                  84   4.185351\n",
       "CC-BY-NC-SA-4.0                                           65   3.238665\n",
       "ODbL-1.0                                                  48   2.391629\n",
       "CC-BY-SA-4.0                                              44   2.192327\n",
       "GPL-2.0                                                   42   2.092676\n",
       "Attribution-NonCommercial-NoDerivatives 4.0 Int...        19   0.946687\n",
       "ODC Attribution License (ODC-By)                          14   0.697559\n",
       "GNU Lesser General Public License 3.0                     11   0.548082\n",
       "Attribution-NonCommercial 4.0 International (CC...         9   0.448430\n",
       "U.S. Government Works                                      8   0.398605\n",
       "Attribution 3.0 Unported (CC BY 3.0)                       8   0.398605\n",
       "EU ODP Legal Notice                                        8   0.398605\n",
       "Attribution-NonCommercial-ShareAlike 3.0 IGO (C...         6   0.298954\n",
       "Community Data License Agreement - Sharing - Ve...         6   0.298954\n",
       "Community Data License Agreement - Permissive -...         4   0.199302\n",
       "reddit-api                                                 3   0.149477\n",
       "world-bank                                                 2   0.099651\n",
       "GNU Affero General Public License 3.0                      2   0.099651\n",
       "CC-BY-SA-3.0                                               1   0.049826\n",
       "Attribution-NoDerivatives 4.0 International (CC...         1   0.049826\n",
       "GNU Free Documentation License 1.3                         1   0.049826"
      ]
     },
     "execution_count": 35,
     "metadata": {},
     "output_type": "execute_result"
    }
   ],
   "source": [
    "license_counts = licenses_ids_unique['licenses'].value_counts().to_frame()\n",
    "license_counts['percent'] = license_counts['licenses']/len(licenses_ids_unique) * 100\n",
    "license_counts"
   ]
  },
  {
   "cell_type": "markdown",
   "id": "02bbd836",
   "metadata": {
    "pycharm": {
     "name": "#%% md\n"
    }
   },
   "source": [
    "## 3. What is the mean number of characters (excluding whitespaces, if possible) per object?\n",
    "**Property:** Description\n",
    "**Related function:** `mean_characters`"
   ]
  },
  {
   "cell_type": "code",
   "execution_count": 36,
   "id": "a4aca7b7",
   "metadata": {
    "pycharm": {
     "name": "#%%\n"
    }
   },
   "outputs": [
    {
     "data": {
      "text/plain": [
       "0                                                    None\n",
       "1                                                    None\n",
       "2                                                    None\n",
       "3                                                    None\n",
       "4                                                    None\n",
       "                              ...                        \n",
       "2002    ### Context\\n\\nThis is the largest retail e-co...\n",
       "2003    ### Context\\n\\nThe Holy Quran is the central t...\n",
       "2004    ### Context\\n\\nUnited States 45th President Do...\n",
       "2005    ### Context\\n\\nMass Shootings in the United St...\n",
       "2006    # NFL Football Stats\\nMy family has always bee...\n",
       "Name: description_metadata, Length: 2007, dtype: object"
      ]
     },
     "execution_count": 36,
     "metadata": {},
     "output_type": "execute_result"
    }
   ],
   "source": [
    "descriptions = df.KaggleDatasetsCrosswalk.description\n",
    "descriptions"
   ]
  },
  {
   "cell_type": "code",
   "execution_count": 37,
   "id": "84831388",
   "metadata": {},
   "outputs": [],
   "source": [
    "descriptions = descriptions.drop_duplicates()"
   ]
  },
  {
   "cell_type": "code",
   "execution_count": 38,
   "id": "56637f4e",
   "metadata": {
    "pycharm": {
     "name": "#%%\n"
    }
   },
   "outputs": [
    {
     "name": "stdout",
     "output_type": "stream",
     "text": [
      "2132.1904212348527 mean characters\n"
     ]
    }
   ],
   "source": [
    "#this would need massive text clean up, but a starting point for mean characters for now\n",
    "print(f'{analysis.mean_characters(descriptions)} mean characters')"
   ]
  },
  {
   "cell_type": "markdown",
   "id": "daee6f6a",
   "metadata": {
    "pycharm": {
     "name": "#%% md\n"
    }
   },
   "source": [
    "## 4. What is the mean number of characters (excluding whitespaces, if possible) per object?\n",
    "**Property:** Methods\n",
    "**Related function:** `mean_characters`"
   ]
  },
  {
   "cell_type": "code",
   "execution_count": 39,
   "id": "3c80f53b",
   "metadata": {
    "pycharm": {
     "name": "#%%\n"
    }
   },
   "outputs": [],
   "source": [
    "methods = df.KaggleDatasetsCrosswalk.methods\n",
    "methods"
   ]
  },
  {
   "cell_type": "code",
   "execution_count": 40,
   "id": "892d961a",
   "metadata": {},
   "outputs": [
    {
     "name": "stdout",
     "output_type": "stream",
     "text": [
      "None\n"
     ]
    }
   ],
   "source": [
    "#confirm missing for repo\n",
    "print(df.KaggleDatasetsCrosswalk.methods)"
   ]
  },
  {
   "cell_type": "markdown",
   "id": "298ee0d7",
   "metadata": {
    "pycharm": {
     "name": "#%% md\n"
    }
   },
   "source": [
    "## 5. What are the min and max publication dates for each repo?\n",
    "\n",
    "## How many objects were published each year for each repo?\n",
    "**Property:** Publication date"
   ]
  },
  {
   "cell_type": "code",
   "execution_count": 41,
   "id": "10107d3e",
   "metadata": {
    "pycharm": {
     "name": "#%%\n"
    }
   },
   "outputs": [
    {
     "data": {
      "text/plain": [
       "0        2018-08-14T03:08:59.81Z\n",
       "1       2021-11-28T00:51:07.293Z\n",
       "2       2019-03-23T09:35:39.467Z\n",
       "3       2017-04-26T18:39:14.473Z\n",
       "4         2017-01-07T22:15:38.4Z\n",
       "                  ...           \n",
       "2002     2021-01-19T11:42:57.93Z\n",
       "2003    2017-11-20T09:46:11.137Z\n",
       "2004    2021-01-29T14:24:20.103Z\n",
       "2005    2021-05-10T05:36:10.597Z\n",
       "2006    2017-12-08T03:40:48.143Z\n",
       "Name: lastUpdated, Length: 2007, dtype: object"
      ]
     },
     "execution_count": 41,
     "metadata": {},
     "output_type": "execute_result"
    }
   ],
   "source": [
    "publication_dates = df.KaggleDatasetsCrosswalk.publication_date\n",
    "publication_dates"
   ]
  },
  {
   "cell_type": "code",
   "execution_count": 42,
   "id": "2bea2eb7",
   "metadata": {},
   "outputs": [
    {
     "data": {
      "text/html": [
       "<div>\n",
       "<style scoped>\n",
       "    .dataframe tbody tr th:only-of-type {\n",
       "        vertical-align: middle;\n",
       "    }\n",
       "\n",
       "    .dataframe tbody tr th {\n",
       "        vertical-align: top;\n",
       "    }\n",
       "\n",
       "    .dataframe thead th {\n",
       "        text-align: right;\n",
       "    }\n",
       "</style>\n",
       "<table border=\"1\" class=\"dataframe\">\n",
       "  <thead>\n",
       "    <tr style=\"text-align: right;\">\n",
       "      <th></th>\n",
       "      <th>id</th>\n",
       "      <th>lastUpdated</th>\n",
       "    </tr>\n",
       "  </thead>\n",
       "  <tbody>\n",
       "    <tr>\n",
       "      <th>0</th>\n",
       "      <td>BengaliAI/numta</td>\n",
       "      <td>2018-08-14T03:08:59.81Z</td>\n",
       "    </tr>\n",
       "    <tr>\n",
       "      <th>1</th>\n",
       "      <td>Cornell-University/arxiv</td>\n",
       "      <td>2021-11-28T00:51:07.293Z</td>\n",
       "    </tr>\n",
       "    <tr>\n",
       "      <th>2</th>\n",
       "      <td>FootballPrediction/fbpdataset</td>\n",
       "      <td>2019-03-23T09:35:39.467Z</td>\n",
       "    </tr>\n",
       "    <tr>\n",
       "      <th>3</th>\n",
       "      <td>HRAnalyticRepository/employee-attrition-data</td>\n",
       "      <td>2017-04-26T18:39:14.473Z</td>\n",
       "    </tr>\n",
       "    <tr>\n",
       "      <th>4</th>\n",
       "      <td>HRAnalyticRepository/job-classification-dataset</td>\n",
       "      <td>2017-01-07T22:15:38.4Z</td>\n",
       "    </tr>\n",
       "    <tr>\n",
       "      <th>...</th>\n",
       "      <td>...</td>\n",
       "      <td>...</td>\n",
       "    </tr>\n",
       "    <tr>\n",
       "      <th>2002</th>\n",
       "      <td>zusmani/pakistans-largest-ecommerce-dataset</td>\n",
       "      <td>2021-01-19T11:42:57.93Z</td>\n",
       "    </tr>\n",
       "    <tr>\n",
       "      <th>2003</th>\n",
       "      <td>zusmani/the-holy-quran</td>\n",
       "      <td>2017-11-20T09:46:11.137Z</td>\n",
       "    </tr>\n",
       "    <tr>\n",
       "      <th>2004</th>\n",
       "      <td>zusmani/trumps-legacy</td>\n",
       "      <td>2021-01-29T14:24:20.103Z</td>\n",
       "    </tr>\n",
       "    <tr>\n",
       "      <th>2005</th>\n",
       "      <td>zusmani/us-mass-shootings-last-50-years</td>\n",
       "      <td>2021-05-10T05:36:10.597Z</td>\n",
       "    </tr>\n",
       "    <tr>\n",
       "      <th>2006</th>\n",
       "      <td>zynicide/nfl-football-player-stats</td>\n",
       "      <td>2017-12-08T03:40:48.143Z</td>\n",
       "    </tr>\n",
       "  </tbody>\n",
       "</table>\n",
       "<p>2007 rows × 2 columns</p>\n",
       "</div>"
      ],
      "text/plain": [
       "                                                   id  \\\n",
       "0                                     BengaliAI/numta   \n",
       "1                            Cornell-University/arxiv   \n",
       "2                       FootballPrediction/fbpdataset   \n",
       "3        HRAnalyticRepository/employee-attrition-data   \n",
       "4     HRAnalyticRepository/job-classification-dataset   \n",
       "...                                               ...   \n",
       "2002      zusmani/pakistans-largest-ecommerce-dataset   \n",
       "2003                           zusmani/the-holy-quran   \n",
       "2004                            zusmani/trumps-legacy   \n",
       "2005          zusmani/us-mass-shootings-last-50-years   \n",
       "2006               zynicide/nfl-football-player-stats   \n",
       "\n",
       "                   lastUpdated  \n",
       "0      2018-08-14T03:08:59.81Z  \n",
       "1     2021-11-28T00:51:07.293Z  \n",
       "2     2019-03-23T09:35:39.467Z  \n",
       "3     2017-04-26T18:39:14.473Z  \n",
       "4       2017-01-07T22:15:38.4Z  \n",
       "...                        ...  \n",
       "2002   2021-01-19T11:42:57.93Z  \n",
       "2003  2017-11-20T09:46:11.137Z  \n",
       "2004  2021-01-29T14:24:20.103Z  \n",
       "2005  2021-05-10T05:36:10.597Z  \n",
       "2006  2017-12-08T03:40:48.143Z  \n",
       "\n",
       "[2007 rows x 2 columns]"
      ]
     },
     "execution_count": 42,
     "metadata": {},
     "output_type": "execute_result"
    }
   ],
   "source": [
    "#since interested in object, group by ID\n",
    "publication_dates_ids = pd.concat([ids, publication_dates], axis = 1)\n",
    "publication_dates_ids"
   ]
  },
  {
   "cell_type": "code",
   "execution_count": 43,
   "id": "fadadd8a",
   "metadata": {},
   "outputs": [
    {
     "data": {
      "text/html": [
       "<div>\n",
       "<style scoped>\n",
       "    .dataframe tbody tr th:only-of-type {\n",
       "        vertical-align: middle;\n",
       "    }\n",
       "\n",
       "    .dataframe tbody tr th {\n",
       "        vertical-align: top;\n",
       "    }\n",
       "\n",
       "    .dataframe thead th {\n",
       "        text-align: right;\n",
       "    }\n",
       "</style>\n",
       "<table border=\"1\" class=\"dataframe\">\n",
       "  <thead>\n",
       "    <tr style=\"text-align: right;\">\n",
       "      <th></th>\n",
       "      <th>id</th>\n",
       "      <th>lastUpdated</th>\n",
       "    </tr>\n",
       "  </thead>\n",
       "  <tbody>\n",
       "    <tr>\n",
       "      <th>0</th>\n",
       "      <td>BengaliAI/numta</td>\n",
       "      <td>2018-08-14T03:08:59.81Z</td>\n",
       "    </tr>\n",
       "    <tr>\n",
       "      <th>1</th>\n",
       "      <td>Cornell-University/arxiv</td>\n",
       "      <td>2021-11-28T00:51:07.293Z</td>\n",
       "    </tr>\n",
       "    <tr>\n",
       "      <th>2</th>\n",
       "      <td>FootballPrediction/fbpdataset</td>\n",
       "      <td>2019-03-23T09:35:39.467Z</td>\n",
       "    </tr>\n",
       "    <tr>\n",
       "      <th>3</th>\n",
       "      <td>HRAnalyticRepository/employee-attrition-data</td>\n",
       "      <td>2017-04-26T18:39:14.473Z</td>\n",
       "    </tr>\n",
       "    <tr>\n",
       "      <th>4</th>\n",
       "      <td>HRAnalyticRepository/job-classification-dataset</td>\n",
       "      <td>2017-01-07T22:15:38.4Z</td>\n",
       "    </tr>\n",
       "    <tr>\n",
       "      <th>...</th>\n",
       "      <td>...</td>\n",
       "      <td>...</td>\n",
       "    </tr>\n",
       "    <tr>\n",
       "      <th>2002</th>\n",
       "      <td>zusmani/pakistans-largest-ecommerce-dataset</td>\n",
       "      <td>2021-01-19T11:42:57.93Z</td>\n",
       "    </tr>\n",
       "    <tr>\n",
       "      <th>2003</th>\n",
       "      <td>zusmani/the-holy-quran</td>\n",
       "      <td>2017-11-20T09:46:11.137Z</td>\n",
       "    </tr>\n",
       "    <tr>\n",
       "      <th>2004</th>\n",
       "      <td>zusmani/trumps-legacy</td>\n",
       "      <td>2021-01-29T14:24:20.103Z</td>\n",
       "    </tr>\n",
       "    <tr>\n",
       "      <th>2005</th>\n",
       "      <td>zusmani/us-mass-shootings-last-50-years</td>\n",
       "      <td>2021-05-10T05:36:10.597Z</td>\n",
       "    </tr>\n",
       "    <tr>\n",
       "      <th>2006</th>\n",
       "      <td>zynicide/nfl-football-player-stats</td>\n",
       "      <td>2017-12-08T03:40:48.143Z</td>\n",
       "    </tr>\n",
       "  </tbody>\n",
       "</table>\n",
       "<p>2007 rows × 2 columns</p>\n",
       "</div>"
      ],
      "text/plain": [
       "                                                   id  \\\n",
       "0                                     BengaliAI/numta   \n",
       "1                            Cornell-University/arxiv   \n",
       "2                       FootballPrediction/fbpdataset   \n",
       "3        HRAnalyticRepository/employee-attrition-data   \n",
       "4     HRAnalyticRepository/job-classification-dataset   \n",
       "...                                               ...   \n",
       "2002      zusmani/pakistans-largest-ecommerce-dataset   \n",
       "2003                           zusmani/the-holy-quran   \n",
       "2004                            zusmani/trumps-legacy   \n",
       "2005          zusmani/us-mass-shootings-last-50-years   \n",
       "2006               zynicide/nfl-football-player-stats   \n",
       "\n",
       "                   lastUpdated  \n",
       "0      2018-08-14T03:08:59.81Z  \n",
       "1     2021-11-28T00:51:07.293Z  \n",
       "2     2019-03-23T09:35:39.467Z  \n",
       "3     2017-04-26T18:39:14.473Z  \n",
       "4       2017-01-07T22:15:38.4Z  \n",
       "...                        ...  \n",
       "2002   2021-01-19T11:42:57.93Z  \n",
       "2003  2017-11-20T09:46:11.137Z  \n",
       "2004  2021-01-29T14:24:20.103Z  \n",
       "2005  2021-05-10T05:36:10.597Z  \n",
       "2006  2017-12-08T03:40:48.143Z  \n",
       "\n",
       "[2007 rows x 2 columns]"
      ]
     },
     "execution_count": 43,
     "metadata": {},
     "output_type": "execute_result"
    }
   ],
   "source": [
    "publication_dates_unique = publication_dates_ids.drop_duplicates()\n",
    "publication_dates_unique"
   ]
  },
  {
   "cell_type": "code",
   "execution_count": 44,
   "id": "ddfd8458",
   "metadata": {},
   "outputs": [
    {
     "data": {
      "text/plain": [
       "('2016-05-20T01:32:31.27Z', '2021-12-03T01:47:37.417Z')"
      ]
     },
     "execution_count": 44,
     "metadata": {},
     "output_type": "execute_result"
    }
   ],
   "source": [
    "#min and max publication year\n",
    "publication_dates_unique['lastUpdated'].min(), publication_dates_unique['lastUpdated'].max()"
   ]
  },
  {
   "cell_type": "code",
   "execution_count": 45,
   "id": "5aedd694",
   "metadata": {},
   "outputs": [
    {
     "data": {
      "text/plain": [
       "2016     35\n",
       "2017    144\n",
       "2018    187\n",
       "2019    241\n",
       "2020    663\n",
       "2021    737\n",
       "Name: lastUpdated, dtype: int64"
      ]
     },
     "execution_count": 45,
     "metadata": {},
     "output_type": "execute_result"
    }
   ],
   "source": [
    "#objects per year\n",
    "publication_dates_unique['lastUpdated'].astype('datetime64').apply(lambda date: date.year).value_counts().sort_index()"
   ]
  },
  {
   "cell_type": "code",
   "execution_count": 46,
   "id": "4557c846",
   "metadata": {},
   "outputs": [],
   "source": [
    "#what we get from Kaggle is last updated\n",
    "#but that's only date available to compare to other repo pub dates"
   ]
  },
  {
   "cell_type": "code",
   "execution_count": 47,
   "id": "d84ff8ad",
   "metadata": {},
   "outputs": [],
   "source": [
    "#export for plotting\n",
    "pub_dates_export = publication_dates_unique['lastUpdated'].astype('datetime64').apply(lambda date: date.year).value_counts().sort_index().to_frame()"
   ]
  },
  {
   "cell_type": "code",
   "execution_count": 48,
   "id": "9b8699c9",
   "metadata": {},
   "outputs": [],
   "source": [
    "#update column names\n",
    "pub_dates_export_ready = pub_dates_export.reset_index(level=0)\n",
    "pub_dates_export_ready.columns = ['year', 'count']"
   ]
  },
  {
   "cell_type": "code",
   "execution_count": 49,
   "id": "7785a340",
   "metadata": {},
   "outputs": [
    {
     "data": {
      "text/html": [
       "<div>\n",
       "<style scoped>\n",
       "    .dataframe tbody tr th:only-of-type {\n",
       "        vertical-align: middle;\n",
       "    }\n",
       "\n",
       "    .dataframe tbody tr th {\n",
       "        vertical-align: top;\n",
       "    }\n",
       "\n",
       "    .dataframe thead th {\n",
       "        text-align: right;\n",
       "    }\n",
       "</style>\n",
       "<table border=\"1\" class=\"dataframe\">\n",
       "  <thead>\n",
       "    <tr style=\"text-align: right;\">\n",
       "      <th></th>\n",
       "      <th>year</th>\n",
       "      <th>count</th>\n",
       "      <th>repo</th>\n",
       "    </tr>\n",
       "  </thead>\n",
       "  <tbody>\n",
       "    <tr>\n",
       "      <th>0</th>\n",
       "      <td>2016</td>\n",
       "      <td>35</td>\n",
       "      <td>kaggle</td>\n",
       "    </tr>\n",
       "    <tr>\n",
       "      <th>1</th>\n",
       "      <td>2017</td>\n",
       "      <td>144</td>\n",
       "      <td>kaggle</td>\n",
       "    </tr>\n",
       "    <tr>\n",
       "      <th>2</th>\n",
       "      <td>2018</td>\n",
       "      <td>187</td>\n",
       "      <td>kaggle</td>\n",
       "    </tr>\n",
       "    <tr>\n",
       "      <th>3</th>\n",
       "      <td>2019</td>\n",
       "      <td>241</td>\n",
       "      <td>kaggle</td>\n",
       "    </tr>\n",
       "    <tr>\n",
       "      <th>4</th>\n",
       "      <td>2020</td>\n",
       "      <td>663</td>\n",
       "      <td>kaggle</td>\n",
       "    </tr>\n",
       "    <tr>\n",
       "      <th>5</th>\n",
       "      <td>2021</td>\n",
       "      <td>737</td>\n",
       "      <td>kaggle</td>\n",
       "    </tr>\n",
       "  </tbody>\n",
       "</table>\n",
       "</div>"
      ],
      "text/plain": [
       "   year  count    repo\n",
       "0  2016     35  kaggle\n",
       "1  2017    144  kaggle\n",
       "2  2018    187  kaggle\n",
       "3  2019    241  kaggle\n",
       "4  2020    663  kaggle\n",
       "5  2021    737  kaggle"
      ]
     },
     "execution_count": 49,
     "metadata": {},
     "output_type": "execute_result"
    }
   ],
   "source": [
    "#add column with name of repo\n",
    "pub_dates_export_ready['repo'] = 'kaggle'\n",
    "pub_dates_export_ready"
   ]
  },
  {
   "cell_type": "code",
   "execution_count": 50,
   "id": "71128a37",
   "metadata": {},
   "outputs": [],
   "source": [
    "#export to Figures folder\n",
    "pub_dates_export_ready.to_csv('..\\\\..\\\\Figures\\\\Figure1\\\\repository_dates\\\\kaggle_pub_years.csv')"
   ]
  },
  {
   "cell_type": "markdown",
   "id": "8e0c2e62",
   "metadata": {
    "pycharm": {
     "name": "#%% md\n"
    }
   },
   "source": [
    "## 6. What are the unweighted mean, median, and max file sizes among all ingested files?\n",
    "**Property:** File size\n",
    "**Related function:** `get_summary_statistics`"
   ]
  },
  {
   "cell_type": "markdown",
   "id": "ae24513c",
   "metadata": {
    "pycharm": {
     "name": "#%% md\n"
    }
   },
   "source": [
    "We first get the file size attribute using the crosswalk."
   ]
  },
  {
   "cell_type": "code",
   "execution_count": 51,
   "id": "6fe6c76a",
   "metadata": {
    "pycharm": {
     "name": "#%%\n"
    }
   },
   "outputs": [],
   "source": [
    "file_sizes = df.KaggleDatasetsCrosswalk.file_size\n",
    "file_sizes"
   ]
  },
  {
   "cell_type": "code",
   "execution_count": 52,
   "id": "ea92f4e7",
   "metadata": {},
   "outputs": [
    {
     "name": "stdout",
     "output_type": "stream",
     "text": [
      "None\n"
     ]
    }
   ],
   "source": [
    "#confirm missing for repo\n",
    "print(df.KaggleDatasetsCrosswalk.file_size)"
   ]
  },
  {
   "cell_type": "markdown",
   "id": "2b9ce8b6",
   "metadata": {
    "pycharm": {
     "name": "#%% md\n"
    }
   },
   "source": [
    "## 7. What are the mean, median, and max number of files per object?\n",
    "**Property:** URL\n",
    "**Related function:** `get_summary_statistics`"
   ]
  },
  {
   "cell_type": "markdown",
   "id": "c7ee1c0f",
   "metadata": {},
   "source": [
    "Note that while there is a 'file' column in the original metadata extract, all entries are empty lists."
   ]
  },
  {
   "cell_type": "code",
   "execution_count": 53,
   "id": "24fe6ecc",
   "metadata": {},
   "outputs": [
    {
     "data": {
      "text/plain": [
       "0       []\n",
       "1       []\n",
       "2       []\n",
       "3       []\n",
       "4       []\n",
       "        ..\n",
       "2002    []\n",
       "2003    []\n",
       "2004    []\n",
       "2005    []\n",
       "2006    []\n",
       "Name: files, Length: 2007, dtype: object"
      ]
     },
     "execution_count": 53,
     "metadata": {},
     "output_type": "execute_result"
    }
   ],
   "source": [
    "files_metadata = df['files']\n",
    "files_metadata"
   ]
  },
  {
   "cell_type": "code",
   "execution_count": 54,
   "id": "4ef73e7e",
   "metadata": {},
   "outputs": [
    {
     "data": {
      "text/plain": [
       "0    []\n",
       "Name: files, dtype: object"
      ]
     },
     "execution_count": 54,
     "metadata": {},
     "output_type": "execute_result"
    }
   ],
   "source": [
    "files_metadata.drop_duplicates()"
   ]
  },
  {
   "cell_type": "markdown",
   "id": "e8ca990d",
   "metadata": {
    "pycharm": {
     "name": "#%% md\n"
    }
   },
   "source": [
    "## 8. What are the mean, median, and max total dataset size (summed across all files) per object?\n",
    "**Property:** Dataset size\n",
    "**Related function:** `get_summary_statistics`"
   ]
  },
  {
   "cell_type": "code",
   "execution_count": 55,
   "id": "4904884d",
   "metadata": {
    "pycharm": {
     "name": "#%%\n"
    },
    "scrolled": true
   },
   "outputs": [
    {
     "data": {
      "text/plain": [
       "0       2.049704e+09\n",
       "1       1.064541e+09\n",
       "2       3.681320e+05\n",
       "3       5.132020e+05\n",
       "4       1.428000e+03\n",
       "            ...     \n",
       "2002    1.443226e+07\n",
       "2003    1.004318e+07\n",
       "2004    3.896206e+06\n",
       "2005    2.700300e+05\n",
       "2006    3.439986e+07\n",
       "Name: totalBytes, Length: 2007, dtype: float64"
      ]
     },
     "execution_count": 55,
     "metadata": {},
     "output_type": "execute_result"
    }
   ],
   "source": [
    "dataset_sizes = df.KaggleDatasetsCrosswalk.dataset_size\n",
    "dataset_sizes"
   ]
  },
  {
   "cell_type": "code",
   "execution_count": 56,
   "id": "b5114bee",
   "metadata": {},
   "outputs": [
    {
     "data": {
      "text/html": [
       "<div>\n",
       "<style scoped>\n",
       "    .dataframe tbody tr th:only-of-type {\n",
       "        vertical-align: middle;\n",
       "    }\n",
       "\n",
       "    .dataframe tbody tr th {\n",
       "        vertical-align: top;\n",
       "    }\n",
       "\n",
       "    .dataframe thead th {\n",
       "        text-align: right;\n",
       "    }\n",
       "</style>\n",
       "<table border=\"1\" class=\"dataframe\">\n",
       "  <thead>\n",
       "    <tr style=\"text-align: right;\">\n",
       "      <th></th>\n",
       "      <th>id</th>\n",
       "      <th>totalBytes</th>\n",
       "    </tr>\n",
       "  </thead>\n",
       "  <tbody>\n",
       "    <tr>\n",
       "      <th>0</th>\n",
       "      <td>BengaliAI/numta</td>\n",
       "      <td>2.049704e+09</td>\n",
       "    </tr>\n",
       "    <tr>\n",
       "      <th>1</th>\n",
       "      <td>Cornell-University/arxiv</td>\n",
       "      <td>1.064541e+09</td>\n",
       "    </tr>\n",
       "    <tr>\n",
       "      <th>2</th>\n",
       "      <td>FootballPrediction/fbpdataset</td>\n",
       "      <td>3.681320e+05</td>\n",
       "    </tr>\n",
       "    <tr>\n",
       "      <th>3</th>\n",
       "      <td>HRAnalyticRepository/employee-attrition-data</td>\n",
       "      <td>5.132020e+05</td>\n",
       "    </tr>\n",
       "    <tr>\n",
       "      <th>4</th>\n",
       "      <td>HRAnalyticRepository/job-classification-dataset</td>\n",
       "      <td>1.428000e+03</td>\n",
       "    </tr>\n",
       "    <tr>\n",
       "      <th>...</th>\n",
       "      <td>...</td>\n",
       "      <td>...</td>\n",
       "    </tr>\n",
       "    <tr>\n",
       "      <th>2002</th>\n",
       "      <td>zusmani/pakistans-largest-ecommerce-dataset</td>\n",
       "      <td>1.443226e+07</td>\n",
       "    </tr>\n",
       "    <tr>\n",
       "      <th>2003</th>\n",
       "      <td>zusmani/the-holy-quran</td>\n",
       "      <td>1.004318e+07</td>\n",
       "    </tr>\n",
       "    <tr>\n",
       "      <th>2004</th>\n",
       "      <td>zusmani/trumps-legacy</td>\n",
       "      <td>3.896206e+06</td>\n",
       "    </tr>\n",
       "    <tr>\n",
       "      <th>2005</th>\n",
       "      <td>zusmani/us-mass-shootings-last-50-years</td>\n",
       "      <td>2.700300e+05</td>\n",
       "    </tr>\n",
       "    <tr>\n",
       "      <th>2006</th>\n",
       "      <td>zynicide/nfl-football-player-stats</td>\n",
       "      <td>3.439986e+07</td>\n",
       "    </tr>\n",
       "  </tbody>\n",
       "</table>\n",
       "<p>2007 rows × 2 columns</p>\n",
       "</div>"
      ],
      "text/plain": [
       "                                                   id    totalBytes\n",
       "0                                     BengaliAI/numta  2.049704e+09\n",
       "1                            Cornell-University/arxiv  1.064541e+09\n",
       "2                       FootballPrediction/fbpdataset  3.681320e+05\n",
       "3        HRAnalyticRepository/employee-attrition-data  5.132020e+05\n",
       "4     HRAnalyticRepository/job-classification-dataset  1.428000e+03\n",
       "...                                               ...           ...\n",
       "2002      zusmani/pakistans-largest-ecommerce-dataset  1.443226e+07\n",
       "2003                           zusmani/the-holy-quran  1.004318e+07\n",
       "2004                            zusmani/trumps-legacy  3.896206e+06\n",
       "2005          zusmani/us-mass-shootings-last-50-years  2.700300e+05\n",
       "2006               zynicide/nfl-football-player-stats  3.439986e+07\n",
       "\n",
       "[2007 rows x 2 columns]"
      ]
     },
     "execution_count": 56,
     "metadata": {},
     "output_type": "execute_result"
    }
   ],
   "source": [
    "#since interested in object, group by ID\n",
    "dataset_sizes_ids = pd.concat([ids, dataset_sizes], axis = 1)\n",
    "dataset_sizes_ids"
   ]
  },
  {
   "cell_type": "code",
   "execution_count": 57,
   "id": "9daf704c",
   "metadata": {},
   "outputs": [
    {
     "data": {
      "text/html": [
       "<div>\n",
       "<style scoped>\n",
       "    .dataframe tbody tr th:only-of-type {\n",
       "        vertical-align: middle;\n",
       "    }\n",
       "\n",
       "    .dataframe tbody tr th {\n",
       "        vertical-align: top;\n",
       "    }\n",
       "\n",
       "    .dataframe thead th {\n",
       "        text-align: right;\n",
       "    }\n",
       "</style>\n",
       "<table border=\"1\" class=\"dataframe\">\n",
       "  <thead>\n",
       "    <tr style=\"text-align: right;\">\n",
       "      <th></th>\n",
       "      <th>id</th>\n",
       "      <th>totalBytes</th>\n",
       "    </tr>\n",
       "  </thead>\n",
       "  <tbody>\n",
       "    <tr>\n",
       "      <th>0</th>\n",
       "      <td>BengaliAI/numta</td>\n",
       "      <td>2.049704e+09</td>\n",
       "    </tr>\n",
       "    <tr>\n",
       "      <th>1</th>\n",
       "      <td>Cornell-University/arxiv</td>\n",
       "      <td>1.064541e+09</td>\n",
       "    </tr>\n",
       "    <tr>\n",
       "      <th>2</th>\n",
       "      <td>FootballPrediction/fbpdataset</td>\n",
       "      <td>3.681320e+05</td>\n",
       "    </tr>\n",
       "    <tr>\n",
       "      <th>3</th>\n",
       "      <td>HRAnalyticRepository/employee-attrition-data</td>\n",
       "      <td>5.132020e+05</td>\n",
       "    </tr>\n",
       "    <tr>\n",
       "      <th>4</th>\n",
       "      <td>HRAnalyticRepository/job-classification-dataset</td>\n",
       "      <td>1.428000e+03</td>\n",
       "    </tr>\n",
       "    <tr>\n",
       "      <th>...</th>\n",
       "      <td>...</td>\n",
       "      <td>...</td>\n",
       "    </tr>\n",
       "    <tr>\n",
       "      <th>2002</th>\n",
       "      <td>zusmani/pakistans-largest-ecommerce-dataset</td>\n",
       "      <td>1.443226e+07</td>\n",
       "    </tr>\n",
       "    <tr>\n",
       "      <th>2003</th>\n",
       "      <td>zusmani/the-holy-quran</td>\n",
       "      <td>1.004318e+07</td>\n",
       "    </tr>\n",
       "    <tr>\n",
       "      <th>2004</th>\n",
       "      <td>zusmani/trumps-legacy</td>\n",
       "      <td>3.896206e+06</td>\n",
       "    </tr>\n",
       "    <tr>\n",
       "      <th>2005</th>\n",
       "      <td>zusmani/us-mass-shootings-last-50-years</td>\n",
       "      <td>2.700300e+05</td>\n",
       "    </tr>\n",
       "    <tr>\n",
       "      <th>2006</th>\n",
       "      <td>zynicide/nfl-football-player-stats</td>\n",
       "      <td>3.439986e+07</td>\n",
       "    </tr>\n",
       "  </tbody>\n",
       "</table>\n",
       "<p>2004 rows × 2 columns</p>\n",
       "</div>"
      ],
      "text/plain": [
       "                                                   id    totalBytes\n",
       "0                                     BengaliAI/numta  2.049704e+09\n",
       "1                            Cornell-University/arxiv  1.064541e+09\n",
       "2                       FootballPrediction/fbpdataset  3.681320e+05\n",
       "3        HRAnalyticRepository/employee-attrition-data  5.132020e+05\n",
       "4     HRAnalyticRepository/job-classification-dataset  1.428000e+03\n",
       "...                                               ...           ...\n",
       "2002      zusmani/pakistans-largest-ecommerce-dataset  1.443226e+07\n",
       "2003                           zusmani/the-holy-quran  1.004318e+07\n",
       "2004                            zusmani/trumps-legacy  3.896206e+06\n",
       "2005          zusmani/us-mass-shootings-last-50-years  2.700300e+05\n",
       "2006               zynicide/nfl-football-player-stats  3.439986e+07\n",
       "\n",
       "[2004 rows x 2 columns]"
      ]
     },
     "execution_count": 57,
     "metadata": {},
     "output_type": "execute_result"
    }
   ],
   "source": [
    "#remove NA values\n",
    "dataset_sizes_ids = dataset_sizes_ids.dropna()\n",
    "dataset_sizes_ids"
   ]
  },
  {
   "cell_type": "code",
   "execution_count": 58,
   "id": "0f50df83",
   "metadata": {},
   "outputs": [
    {
     "data": {
      "text/plain": [
       "{'mean': 638643184.5164671, 'median': 1233604.0, 'max': 73677739407.0}"
      ]
     },
     "execution_count": 58,
     "metadata": {},
     "output_type": "execute_result"
    }
   ],
   "source": [
    "analysis.get_summary_statistics(dataset_sizes_ids['totalBytes'])"
   ]
  },
  {
   "cell_type": "markdown",
   "id": "3410d1d2",
   "metadata": {
    "pycharm": {
     "name": "#%% md\n"
    }
   },
   "source": [
    "## 9. How many of each scientific domain are assigned?\n",
    "**Property:** Domain\n",
    "**Related function:** `domains.value_counts()`"
   ]
  },
  {
   "cell_type": "code",
   "execution_count": 59,
   "id": "0887968c",
   "metadata": {
    "pycharm": {
     "name": "#%%\n"
    }
   },
   "outputs": [],
   "source": [
    "domains = df.KaggleDatasetsCrosswalk.domain\n",
    "domains"
   ]
  },
  {
   "cell_type": "code",
   "execution_count": 60,
   "id": "dbac6fe8",
   "metadata": {},
   "outputs": [
    {
     "name": "stdout",
     "output_type": "stream",
     "text": [
      "None\n"
     ]
    }
   ],
   "source": [
    "#confirm missing for repo\n",
    "print(df.KaggleDatasetsCrosswalk.domain)"
   ]
  },
  {
   "cell_type": "markdown",
   "id": "aad71270",
   "metadata": {
    "pycharm": {
     "name": "#%% md\n"
    }
   },
   "source": [
    "## 10. What is the mean number of characters (excluding whitespaces, if possible) per object?\n",
    "**Property:** Technical details\n",
    "**Related function:** `mean_characters`"
   ]
  },
  {
   "cell_type": "code",
   "execution_count": 61,
   "id": "a62f9b09",
   "metadata": {
    "pycharm": {
     "name": "#%%\n"
    }
   },
   "outputs": [],
   "source": [
    "# \"usage notes\" is not in crosswalk"
   ]
  },
  {
   "cell_type": "markdown",
   "id": "64a08db6",
   "metadata": {
    "pycharm": {
     "name": "#%% md\n"
    }
   },
   "source": [
    "## 11-13. What are the mean and median total number of keyword terms per object, after merging results for Keyword, Geographic keyword, and Scientific keyword?\n",
    "**Property:** Keyword"
   ]
  },
  {
   "cell_type": "code",
   "execution_count": 62,
   "id": "b5d5328b",
   "metadata": {
    "scrolled": true
   },
   "outputs": [
    {
     "name": "stdout",
     "output_type": "stream",
     "text": [
      "                                               keywords  \\\n",
      "0                                                  None   \n",
      "1                                                  None   \n",
      "2                                                  None   \n",
      "3                                                  None   \n",
      "4                                                  None   \n",
      "...                                                 ...   \n",
      "2002  [business, computer science, internet, retail ...   \n",
      "2003  [languages, religion and belief systems, inter...   \n",
      "2004                          [united states, politics]   \n",
      "2005                             [united states, crime]   \n",
      "2006                                    [games, sports]   \n",
      "\n",
      "                                                   tags  \n",
      "0               [image data, computer vision, business]  \n",
      "1                         [earth and nature, education]  \n",
      "2                                               [games]  \n",
      "3                      [employment, business, internet]  \n",
      "4                                    [earth and nature]  \n",
      "...                                                 ...  \n",
      "2002  [e-commerce services, retail and shopping, int...  \n",
      "2003  [languages, internet, religion and belief syst...  \n",
      "2004                          [united states, politics]  \n",
      "2005                             [united states, crime]  \n",
      "2006                                    [sports, games]  \n",
      "\n",
      "[2007 rows x 2 columns]\n"
     ]
    }
   ],
   "source": [
    "print(df.KaggleDatasetsCrosswalk.keyword)"
   ]
  },
  {
   "cell_type": "code",
   "execution_count": 63,
   "id": "2e24afd3",
   "metadata": {},
   "outputs": [
    {
     "name": "stdout",
     "output_type": "stream",
     "text": [
      "None\n"
     ]
    }
   ],
   "source": [
    "print(df.KaggleDatasetsCrosswalk.geographic_keyword)"
   ]
  },
  {
   "cell_type": "code",
   "execution_count": 64,
   "id": "b8a916e0",
   "metadata": {},
   "outputs": [
    {
     "name": "stdout",
     "output_type": "stream",
     "text": [
      "None\n"
     ]
    }
   ],
   "source": [
    "print(df.KaggleDatasetsCrosswalk.scientific_keyword)"
   ]
  },
  {
   "cell_type": "code",
   "execution_count": 65,
   "id": "1476e1d4",
   "metadata": {
    "scrolled": true
   },
   "outputs": [
    {
     "data": {
      "text/html": [
       "<div>\n",
       "<style scoped>\n",
       "    .dataframe tbody tr th:only-of-type {\n",
       "        vertical-align: middle;\n",
       "    }\n",
       "\n",
       "    .dataframe tbody tr th {\n",
       "        vertical-align: top;\n",
       "    }\n",
       "\n",
       "    .dataframe thead th {\n",
       "        text-align: right;\n",
       "    }\n",
       "</style>\n",
       "<table border=\"1\" class=\"dataframe\">\n",
       "  <thead>\n",
       "    <tr style=\"text-align: right;\">\n",
       "      <th></th>\n",
       "      <th>keywords</th>\n",
       "      <th>tags</th>\n",
       "    </tr>\n",
       "  </thead>\n",
       "  <tbody>\n",
       "    <tr>\n",
       "      <th>0</th>\n",
       "      <td>None</td>\n",
       "      <td>[image data, computer vision, business]</td>\n",
       "    </tr>\n",
       "    <tr>\n",
       "      <th>1</th>\n",
       "      <td>None</td>\n",
       "      <td>[earth and nature, education]</td>\n",
       "    </tr>\n",
       "    <tr>\n",
       "      <th>2</th>\n",
       "      <td>None</td>\n",
       "      <td>[games]</td>\n",
       "    </tr>\n",
       "    <tr>\n",
       "      <th>3</th>\n",
       "      <td>None</td>\n",
       "      <td>[employment, business, internet]</td>\n",
       "    </tr>\n",
       "    <tr>\n",
       "      <th>4</th>\n",
       "      <td>None</td>\n",
       "      <td>[earth and nature]</td>\n",
       "    </tr>\n",
       "    <tr>\n",
       "      <th>...</th>\n",
       "      <td>...</td>\n",
       "      <td>...</td>\n",
       "    </tr>\n",
       "    <tr>\n",
       "      <th>2002</th>\n",
       "      <td>[business, computer science, internet, retail ...</td>\n",
       "      <td>[e-commerce services, retail and shopping, int...</td>\n",
       "    </tr>\n",
       "    <tr>\n",
       "      <th>2003</th>\n",
       "      <td>[languages, religion and belief systems, inter...</td>\n",
       "      <td>[languages, internet, religion and belief syst...</td>\n",
       "    </tr>\n",
       "    <tr>\n",
       "      <th>2004</th>\n",
       "      <td>[united states, politics]</td>\n",
       "      <td>[united states, politics]</td>\n",
       "    </tr>\n",
       "    <tr>\n",
       "      <th>2005</th>\n",
       "      <td>[united states, crime]</td>\n",
       "      <td>[united states, crime]</td>\n",
       "    </tr>\n",
       "    <tr>\n",
       "      <th>2006</th>\n",
       "      <td>[games, sports]</td>\n",
       "      <td>[sports, games]</td>\n",
       "    </tr>\n",
       "  </tbody>\n",
       "</table>\n",
       "<p>2007 rows × 2 columns</p>\n",
       "</div>"
      ],
      "text/plain": [
       "                                               keywords  \\\n",
       "0                                                  None   \n",
       "1                                                  None   \n",
       "2                                                  None   \n",
       "3                                                  None   \n",
       "4                                                  None   \n",
       "...                                                 ...   \n",
       "2002  [business, computer science, internet, retail ...   \n",
       "2003  [languages, religion and belief systems, inter...   \n",
       "2004                          [united states, politics]   \n",
       "2005                             [united states, crime]   \n",
       "2006                                    [games, sports]   \n",
       "\n",
       "                                                   tags  \n",
       "0               [image data, computer vision, business]  \n",
       "1                         [earth and nature, education]  \n",
       "2                                               [games]  \n",
       "3                      [employment, business, internet]  \n",
       "4                                    [earth and nature]  \n",
       "...                                                 ...  \n",
       "2002  [e-commerce services, retail and shopping, int...  \n",
       "2003  [languages, internet, religion and belief syst...  \n",
       "2004                          [united states, politics]  \n",
       "2005                             [united states, crime]  \n",
       "2006                                    [sports, games]  \n",
       "\n",
       "[2007 rows x 2 columns]"
      ]
     },
     "execution_count": 65,
     "metadata": {},
     "output_type": "execute_result"
    }
   ],
   "source": [
    "#keywords field has both keywords and tags, which we consider all together as keywords\n",
    "keywords = df.KaggleDatasetsCrosswalk.keyword\n",
    "keywords"
   ]
  },
  {
   "cell_type": "code",
   "execution_count": 66,
   "id": "8f007281",
   "metadata": {
    "scrolled": true
   },
   "outputs": [
    {
     "data": {
      "text/html": [
       "<div>\n",
       "<style scoped>\n",
       "    .dataframe tbody tr th:only-of-type {\n",
       "        vertical-align: middle;\n",
       "    }\n",
       "\n",
       "    .dataframe tbody tr th {\n",
       "        vertical-align: top;\n",
       "    }\n",
       "\n",
       "    .dataframe thead th {\n",
       "        text-align: right;\n",
       "    }\n",
       "</style>\n",
       "<table border=\"1\" class=\"dataframe\">\n",
       "  <thead>\n",
       "    <tr style=\"text-align: right;\">\n",
       "      <th></th>\n",
       "      <th>id</th>\n",
       "      <th>keywords</th>\n",
       "      <th>tags</th>\n",
       "    </tr>\n",
       "  </thead>\n",
       "  <tbody>\n",
       "    <tr>\n",
       "      <th>0</th>\n",
       "      <td>BengaliAI/numta</td>\n",
       "      <td>None</td>\n",
       "      <td>[image data, computer vision, business]</td>\n",
       "    </tr>\n",
       "    <tr>\n",
       "      <th>1</th>\n",
       "      <td>Cornell-University/arxiv</td>\n",
       "      <td>None</td>\n",
       "      <td>[earth and nature, education]</td>\n",
       "    </tr>\n",
       "    <tr>\n",
       "      <th>2</th>\n",
       "      <td>FootballPrediction/fbpdataset</td>\n",
       "      <td>None</td>\n",
       "      <td>[games]</td>\n",
       "    </tr>\n",
       "    <tr>\n",
       "      <th>3</th>\n",
       "      <td>HRAnalyticRepository/employee-attrition-data</td>\n",
       "      <td>None</td>\n",
       "      <td>[employment, business, internet]</td>\n",
       "    </tr>\n",
       "    <tr>\n",
       "      <th>4</th>\n",
       "      <td>HRAnalyticRepository/job-classification-dataset</td>\n",
       "      <td>None</td>\n",
       "      <td>[earth and nature]</td>\n",
       "    </tr>\n",
       "    <tr>\n",
       "      <th>...</th>\n",
       "      <td>...</td>\n",
       "      <td>...</td>\n",
       "      <td>...</td>\n",
       "    </tr>\n",
       "    <tr>\n",
       "      <th>2002</th>\n",
       "      <td>zusmani/pakistans-largest-ecommerce-dataset</td>\n",
       "      <td>[business, computer science, internet, retail ...</td>\n",
       "      <td>[e-commerce services, retail and shopping, int...</td>\n",
       "    </tr>\n",
       "    <tr>\n",
       "      <th>2003</th>\n",
       "      <td>zusmani/the-holy-quran</td>\n",
       "      <td>[languages, religion and belief systems, inter...</td>\n",
       "      <td>[languages, internet, religion and belief syst...</td>\n",
       "    </tr>\n",
       "    <tr>\n",
       "      <th>2004</th>\n",
       "      <td>zusmani/trumps-legacy</td>\n",
       "      <td>[united states, politics]</td>\n",
       "      <td>[united states, politics]</td>\n",
       "    </tr>\n",
       "    <tr>\n",
       "      <th>2005</th>\n",
       "      <td>zusmani/us-mass-shootings-last-50-years</td>\n",
       "      <td>[united states, crime]</td>\n",
       "      <td>[united states, crime]</td>\n",
       "    </tr>\n",
       "    <tr>\n",
       "      <th>2006</th>\n",
       "      <td>zynicide/nfl-football-player-stats</td>\n",
       "      <td>[games, sports]</td>\n",
       "      <td>[sports, games]</td>\n",
       "    </tr>\n",
       "  </tbody>\n",
       "</table>\n",
       "<p>2007 rows × 3 columns</p>\n",
       "</div>"
      ],
      "text/plain": [
       "                                                   id  \\\n",
       "0                                     BengaliAI/numta   \n",
       "1                            Cornell-University/arxiv   \n",
       "2                       FootballPrediction/fbpdataset   \n",
       "3        HRAnalyticRepository/employee-attrition-data   \n",
       "4     HRAnalyticRepository/job-classification-dataset   \n",
       "...                                               ...   \n",
       "2002      zusmani/pakistans-largest-ecommerce-dataset   \n",
       "2003                           zusmani/the-holy-quran   \n",
       "2004                            zusmani/trumps-legacy   \n",
       "2005          zusmani/us-mass-shootings-last-50-years   \n",
       "2006               zynicide/nfl-football-player-stats   \n",
       "\n",
       "                                               keywords  \\\n",
       "0                                                  None   \n",
       "1                                                  None   \n",
       "2                                                  None   \n",
       "3                                                  None   \n",
       "4                                                  None   \n",
       "...                                                 ...   \n",
       "2002  [business, computer science, internet, retail ...   \n",
       "2003  [languages, religion and belief systems, inter...   \n",
       "2004                          [united states, politics]   \n",
       "2005                             [united states, crime]   \n",
       "2006                                    [games, sports]   \n",
       "\n",
       "                                                   tags  \n",
       "0               [image data, computer vision, business]  \n",
       "1                         [earth and nature, education]  \n",
       "2                                               [games]  \n",
       "3                      [employment, business, internet]  \n",
       "4                                    [earth and nature]  \n",
       "...                                                 ...  \n",
       "2002  [e-commerce services, retail and shopping, int...  \n",
       "2003  [languages, internet, religion and belief syst...  \n",
       "2004                          [united states, politics]  \n",
       "2005                             [united states, crime]  \n",
       "2006                                    [sports, games]  \n",
       "\n",
       "[2007 rows x 3 columns]"
      ]
     },
     "execution_count": 66,
     "metadata": {},
     "output_type": "execute_result"
    }
   ],
   "source": [
    "#since interested in object, group by ID\n",
    "keywords = pd.concat([ids, keywords], axis = 1)\n",
    "keywords"
   ]
  },
  {
   "cell_type": "code",
   "execution_count": 67,
   "id": "cab55158",
   "metadata": {
    "scrolled": true
   },
   "outputs": [
    {
     "data": {
      "text/html": [
       "<div>\n",
       "<style scoped>\n",
       "    .dataframe tbody tr th:only-of-type {\n",
       "        vertical-align: middle;\n",
       "    }\n",
       "\n",
       "    .dataframe tbody tr th {\n",
       "        vertical-align: top;\n",
       "    }\n",
       "\n",
       "    .dataframe thead th {\n",
       "        text-align: right;\n",
       "    }\n",
       "</style>\n",
       "<table border=\"1\" class=\"dataframe\">\n",
       "  <thead>\n",
       "    <tr style=\"text-align: right;\">\n",
       "      <th></th>\n",
       "      <th>id</th>\n",
       "      <th>keywords</th>\n",
       "      <th>tags</th>\n",
       "    </tr>\n",
       "  </thead>\n",
       "  <tbody>\n",
       "    <tr>\n",
       "      <th>0</th>\n",
       "      <td>BengaliAI/numta</td>\n",
       "      <td>[]</td>\n",
       "      <td>[image data, computer vision, business]</td>\n",
       "    </tr>\n",
       "    <tr>\n",
       "      <th>1</th>\n",
       "      <td>Cornell-University/arxiv</td>\n",
       "      <td>[]</td>\n",
       "      <td>[earth and nature, education]</td>\n",
       "    </tr>\n",
       "    <tr>\n",
       "      <th>2</th>\n",
       "      <td>FootballPrediction/fbpdataset</td>\n",
       "      <td>[]</td>\n",
       "      <td>[games]</td>\n",
       "    </tr>\n",
       "    <tr>\n",
       "      <th>3</th>\n",
       "      <td>HRAnalyticRepository/employee-attrition-data</td>\n",
       "      <td>[]</td>\n",
       "      <td>[employment, business, internet]</td>\n",
       "    </tr>\n",
       "    <tr>\n",
       "      <th>4</th>\n",
       "      <td>HRAnalyticRepository/job-classification-dataset</td>\n",
       "      <td>[]</td>\n",
       "      <td>[earth and nature]</td>\n",
       "    </tr>\n",
       "    <tr>\n",
       "      <th>...</th>\n",
       "      <td>...</td>\n",
       "      <td>...</td>\n",
       "      <td>...</td>\n",
       "    </tr>\n",
       "    <tr>\n",
       "      <th>2002</th>\n",
       "      <td>zusmani/pakistans-largest-ecommerce-dataset</td>\n",
       "      <td>[business, computer science, internet, retail ...</td>\n",
       "      <td>[e-commerce services, retail and shopping, int...</td>\n",
       "    </tr>\n",
       "    <tr>\n",
       "      <th>2003</th>\n",
       "      <td>zusmani/the-holy-quran</td>\n",
       "      <td>[languages, religion and belief systems, inter...</td>\n",
       "      <td>[languages, internet, religion and belief syst...</td>\n",
       "    </tr>\n",
       "    <tr>\n",
       "      <th>2004</th>\n",
       "      <td>zusmani/trumps-legacy</td>\n",
       "      <td>[united states, politics]</td>\n",
       "      <td>[united states, politics]</td>\n",
       "    </tr>\n",
       "    <tr>\n",
       "      <th>2005</th>\n",
       "      <td>zusmani/us-mass-shootings-last-50-years</td>\n",
       "      <td>[united states, crime]</td>\n",
       "      <td>[united states, crime]</td>\n",
       "    </tr>\n",
       "    <tr>\n",
       "      <th>2006</th>\n",
       "      <td>zynicide/nfl-football-player-stats</td>\n",
       "      <td>[games, sports]</td>\n",
       "      <td>[sports, games]</td>\n",
       "    </tr>\n",
       "  </tbody>\n",
       "</table>\n",
       "<p>2007 rows × 3 columns</p>\n",
       "</div>"
      ],
      "text/plain": [
       "                                                   id  \\\n",
       "0                                     BengaliAI/numta   \n",
       "1                            Cornell-University/arxiv   \n",
       "2                       FootballPrediction/fbpdataset   \n",
       "3        HRAnalyticRepository/employee-attrition-data   \n",
       "4     HRAnalyticRepository/job-classification-dataset   \n",
       "...                                               ...   \n",
       "2002      zusmani/pakistans-largest-ecommerce-dataset   \n",
       "2003                           zusmani/the-holy-quran   \n",
       "2004                            zusmani/trumps-legacy   \n",
       "2005          zusmani/us-mass-shootings-last-50-years   \n",
       "2006               zynicide/nfl-football-player-stats   \n",
       "\n",
       "                                               keywords  \\\n",
       "0                                                    []   \n",
       "1                                                    []   \n",
       "2                                                    []   \n",
       "3                                                    []   \n",
       "4                                                    []   \n",
       "...                                                 ...   \n",
       "2002  [business, computer science, internet, retail ...   \n",
       "2003  [languages, religion and belief systems, inter...   \n",
       "2004                          [united states, politics]   \n",
       "2005                             [united states, crime]   \n",
       "2006                                    [games, sports]   \n",
       "\n",
       "                                                   tags  \n",
       "0               [image data, computer vision, business]  \n",
       "1                         [earth and nature, education]  \n",
       "2                                               [games]  \n",
       "3                      [employment, business, internet]  \n",
       "4                                    [earth and nature]  \n",
       "...                                                 ...  \n",
       "2002  [e-commerce services, retail and shopping, int...  \n",
       "2003  [languages, internet, religion and belief syst...  \n",
       "2004                          [united states, politics]  \n",
       "2005                             [united states, crime]  \n",
       "2006                                    [sports, games]  \n",
       "\n",
       "[2007 rows x 3 columns]"
      ]
     },
     "execution_count": 67,
     "metadata": {},
     "output_type": "execute_result"
    }
   ],
   "source": [
    "#replace the None values with empty lists so the count of string values evaluates to 0\n",
    "keywords_all = keywords.apply(\n",
    "    lambda row: row.apply(\n",
    "        lambda cell: cell if cell else []\n",
    "    ),\n",
    "    axis=1\n",
    ")\n",
    "keywords_all"
   ]
  },
  {
   "cell_type": "code",
   "execution_count": 68,
   "id": "f99a54f5",
   "metadata": {
    "scrolled": true
   },
   "outputs": [
    {
     "data": {
      "text/html": [
       "<div>\n",
       "<style scoped>\n",
       "    .dataframe tbody tr th:only-of-type {\n",
       "        vertical-align: middle;\n",
       "    }\n",
       "\n",
       "    .dataframe tbody tr th {\n",
       "        vertical-align: top;\n",
       "    }\n",
       "\n",
       "    .dataframe thead th {\n",
       "        text-align: right;\n",
       "    }\n",
       "</style>\n",
       "<table border=\"1\" class=\"dataframe\">\n",
       "  <thead>\n",
       "    <tr style=\"text-align: right;\">\n",
       "      <th></th>\n",
       "      <th>keywords</th>\n",
       "      <th>tags</th>\n",
       "    </tr>\n",
       "  </thead>\n",
       "  <tbody>\n",
       "    <tr>\n",
       "      <th>0</th>\n",
       "      <td>[]</td>\n",
       "      <td>[image data, computer vision, business]</td>\n",
       "    </tr>\n",
       "    <tr>\n",
       "      <th>1</th>\n",
       "      <td>[]</td>\n",
       "      <td>[earth and nature, education]</td>\n",
       "    </tr>\n",
       "    <tr>\n",
       "      <th>2</th>\n",
       "      <td>[]</td>\n",
       "      <td>[games]</td>\n",
       "    </tr>\n",
       "    <tr>\n",
       "      <th>3</th>\n",
       "      <td>[]</td>\n",
       "      <td>[employment, business, internet]</td>\n",
       "    </tr>\n",
       "    <tr>\n",
       "      <th>4</th>\n",
       "      <td>[]</td>\n",
       "      <td>[earth and nature]</td>\n",
       "    </tr>\n",
       "    <tr>\n",
       "      <th>...</th>\n",
       "      <td>...</td>\n",
       "      <td>...</td>\n",
       "    </tr>\n",
       "    <tr>\n",
       "      <th>2002</th>\n",
       "      <td>[business, computer science, internet, retail ...</td>\n",
       "      <td>[e-commerce services, retail and shopping, int...</td>\n",
       "    </tr>\n",
       "    <tr>\n",
       "      <th>2003</th>\n",
       "      <td>[languages, religion and belief systems, inter...</td>\n",
       "      <td>[languages, internet, religion and belief syst...</td>\n",
       "    </tr>\n",
       "    <tr>\n",
       "      <th>2004</th>\n",
       "      <td>[united states, politics]</td>\n",
       "      <td>[united states, politics]</td>\n",
       "    </tr>\n",
       "    <tr>\n",
       "      <th>2005</th>\n",
       "      <td>[united states, crime]</td>\n",
       "      <td>[united states, crime]</td>\n",
       "    </tr>\n",
       "    <tr>\n",
       "      <th>2006</th>\n",
       "      <td>[games, sports]</td>\n",
       "      <td>[sports, games]</td>\n",
       "    </tr>\n",
       "  </tbody>\n",
       "</table>\n",
       "<p>2007 rows × 2 columns</p>\n",
       "</div>"
      ],
      "text/plain": [
       "                                               keywords  \\\n",
       "0                                                    []   \n",
       "1                                                    []   \n",
       "2                                                    []   \n",
       "3                                                    []   \n",
       "4                                                    []   \n",
       "...                                                 ...   \n",
       "2002  [business, computer science, internet, retail ...   \n",
       "2003  [languages, religion and belief systems, inter...   \n",
       "2004                          [united states, politics]   \n",
       "2005                             [united states, crime]   \n",
       "2006                                    [games, sports]   \n",
       "\n",
       "                                                   tags  \n",
       "0               [image data, computer vision, business]  \n",
       "1                         [earth and nature, education]  \n",
       "2                                               [games]  \n",
       "3                      [employment, business, internet]  \n",
       "4                                    [earth and nature]  \n",
       "...                                                 ...  \n",
       "2002  [e-commerce services, retail and shopping, int...  \n",
       "2003  [languages, internet, religion and belief syst...  \n",
       "2004                          [united states, politics]  \n",
       "2005                             [united states, crime]  \n",
       "2006                                    [sports, games]  \n",
       "\n",
       "[2007 rows x 2 columns]"
      ]
     },
     "execution_count": 68,
     "metadata": {},
     "output_type": "execute_result"
    }
   ],
   "source": [
    "#remove id column for counts\n",
    "keywords_use = keywords_all.drop('id', axis=1)\n",
    "keywords_use"
   ]
  },
  {
   "cell_type": "code",
   "execution_count": 69,
   "id": "f978a95d",
   "metadata": {
    "scrolled": true
   },
   "outputs": [
    {
     "data": {
      "text/html": [
       "<div>\n",
       "<style scoped>\n",
       "    .dataframe tbody tr th:only-of-type {\n",
       "        vertical-align: middle;\n",
       "    }\n",
       "\n",
       "    .dataframe tbody tr th {\n",
       "        vertical-align: top;\n",
       "    }\n",
       "\n",
       "    .dataframe thead th {\n",
       "        text-align: right;\n",
       "    }\n",
       "</style>\n",
       "<table border=\"1\" class=\"dataframe\">\n",
       "  <thead>\n",
       "    <tr style=\"text-align: right;\">\n",
       "      <th></th>\n",
       "      <th>keywords</th>\n",
       "      <th>tags</th>\n",
       "      <th>keywords_all</th>\n",
       "    </tr>\n",
       "  </thead>\n",
       "  <tbody>\n",
       "    <tr>\n",
       "      <th>0</th>\n",
       "      <td>[]</td>\n",
       "      <td>[image data, computer vision, business]</td>\n",
       "      <td>[image data, computer vision, business]</td>\n",
       "    </tr>\n",
       "    <tr>\n",
       "      <th>1</th>\n",
       "      <td>[]</td>\n",
       "      <td>[earth and nature, education]</td>\n",
       "      <td>[earth and nature, education]</td>\n",
       "    </tr>\n",
       "    <tr>\n",
       "      <th>2</th>\n",
       "      <td>[]</td>\n",
       "      <td>[games]</td>\n",
       "      <td>[games]</td>\n",
       "    </tr>\n",
       "    <tr>\n",
       "      <th>3</th>\n",
       "      <td>[]</td>\n",
       "      <td>[employment, business, internet]</td>\n",
       "      <td>[employment, business, internet]</td>\n",
       "    </tr>\n",
       "    <tr>\n",
       "      <th>4</th>\n",
       "      <td>[]</td>\n",
       "      <td>[earth and nature]</td>\n",
       "      <td>[earth and nature]</td>\n",
       "    </tr>\n",
       "    <tr>\n",
       "      <th>...</th>\n",
       "      <td>...</td>\n",
       "      <td>...</td>\n",
       "      <td>...</td>\n",
       "    </tr>\n",
       "    <tr>\n",
       "      <th>2002</th>\n",
       "      <td>[business, computer science, internet, retail ...</td>\n",
       "      <td>[e-commerce services, retail and shopping, int...</td>\n",
       "      <td>[business, computer science, internet, retail ...</td>\n",
       "    </tr>\n",
       "    <tr>\n",
       "      <th>2003</th>\n",
       "      <td>[languages, religion and belief systems, inter...</td>\n",
       "      <td>[languages, internet, religion and belief syst...</td>\n",
       "      <td>[languages, religion and belief systems, inter...</td>\n",
       "    </tr>\n",
       "    <tr>\n",
       "      <th>2004</th>\n",
       "      <td>[united states, politics]</td>\n",
       "      <td>[united states, politics]</td>\n",
       "      <td>[united states, politics, united states, polit...</td>\n",
       "    </tr>\n",
       "    <tr>\n",
       "      <th>2005</th>\n",
       "      <td>[united states, crime]</td>\n",
       "      <td>[united states, crime]</td>\n",
       "      <td>[united states, crime, united states, crime]</td>\n",
       "    </tr>\n",
       "    <tr>\n",
       "      <th>2006</th>\n",
       "      <td>[games, sports]</td>\n",
       "      <td>[sports, games]</td>\n",
       "      <td>[games, sports, sports, games]</td>\n",
       "    </tr>\n",
       "  </tbody>\n",
       "</table>\n",
       "<p>2007 rows × 3 columns</p>\n",
       "</div>"
      ],
      "text/plain": [
       "                                               keywords  \\\n",
       "0                                                    []   \n",
       "1                                                    []   \n",
       "2                                                    []   \n",
       "3                                                    []   \n",
       "4                                                    []   \n",
       "...                                                 ...   \n",
       "2002  [business, computer science, internet, retail ...   \n",
       "2003  [languages, religion and belief systems, inter...   \n",
       "2004                          [united states, politics]   \n",
       "2005                             [united states, crime]   \n",
       "2006                                    [games, sports]   \n",
       "\n",
       "                                                   tags  \\\n",
       "0               [image data, computer vision, business]   \n",
       "1                         [earth and nature, education]   \n",
       "2                                               [games]   \n",
       "3                      [employment, business, internet]   \n",
       "4                                    [earth and nature]   \n",
       "...                                                 ...   \n",
       "2002  [e-commerce services, retail and shopping, int...   \n",
       "2003  [languages, internet, religion and belief syst...   \n",
       "2004                          [united states, politics]   \n",
       "2005                             [united states, crime]   \n",
       "2006                                    [sports, games]   \n",
       "\n",
       "                                           keywords_all  \n",
       "0               [image data, computer vision, business]  \n",
       "1                         [earth and nature, education]  \n",
       "2                                               [games]  \n",
       "3                      [employment, business, internet]  \n",
       "4                                    [earth and nature]  \n",
       "...                                                 ...  \n",
       "2002  [business, computer science, internet, retail ...  \n",
       "2003  [languages, religion and belief systems, inter...  \n",
       "2004  [united states, politics, united states, polit...  \n",
       "2005       [united states, crime, united states, crime]  \n",
       "2006                     [games, sports, sports, games]  \n",
       "\n",
       "[2007 rows x 3 columns]"
      ]
     },
     "execution_count": 69,
     "metadata": {},
     "output_type": "execute_result"
    }
   ],
   "source": [
    "#since there is some duplicate across keywords and tags, but not alwyays in the same order\n",
    "#combine lists\n",
    "keywords_use['keywords_all'] = keywords_use['keywords'] + keywords_use['tags']\n",
    "keywords_use"
   ]
  },
  {
   "cell_type": "code",
   "execution_count": 70,
   "id": "a22acde6",
   "metadata": {
    "scrolled": true
   },
   "outputs": [
    {
     "data": {
      "text/html": [
       "<div>\n",
       "<style scoped>\n",
       "    .dataframe tbody tr th:only-of-type {\n",
       "        vertical-align: middle;\n",
       "    }\n",
       "\n",
       "    .dataframe tbody tr th {\n",
       "        vertical-align: top;\n",
       "    }\n",
       "\n",
       "    .dataframe thead th {\n",
       "        text-align: right;\n",
       "    }\n",
       "</style>\n",
       "<table border=\"1\" class=\"dataframe\">\n",
       "  <thead>\n",
       "    <tr style=\"text-align: right;\">\n",
       "      <th></th>\n",
       "      <th>keywords</th>\n",
       "      <th>tags</th>\n",
       "      <th>keywords_all</th>\n",
       "    </tr>\n",
       "  </thead>\n",
       "  <tbody>\n",
       "    <tr>\n",
       "      <th>0</th>\n",
       "      <td>[]</td>\n",
       "      <td>[image data, computer vision, business]</td>\n",
       "      <td>[computer vision, image data, business]</td>\n",
       "    </tr>\n",
       "    <tr>\n",
       "      <th>1</th>\n",
       "      <td>[]</td>\n",
       "      <td>[earth and nature, education]</td>\n",
       "      <td>[earth and nature, education]</td>\n",
       "    </tr>\n",
       "    <tr>\n",
       "      <th>2</th>\n",
       "      <td>[]</td>\n",
       "      <td>[games]</td>\n",
       "      <td>[games]</td>\n",
       "    </tr>\n",
       "    <tr>\n",
       "      <th>3</th>\n",
       "      <td>[]</td>\n",
       "      <td>[employment, business, internet]</td>\n",
       "      <td>[employment, internet, business]</td>\n",
       "    </tr>\n",
       "    <tr>\n",
       "      <th>4</th>\n",
       "      <td>[]</td>\n",
       "      <td>[earth and nature]</td>\n",
       "      <td>[earth and nature]</td>\n",
       "    </tr>\n",
       "    <tr>\n",
       "      <th>...</th>\n",
       "      <td>...</td>\n",
       "      <td>...</td>\n",
       "      <td>...</td>\n",
       "    </tr>\n",
       "    <tr>\n",
       "      <th>2002</th>\n",
       "      <td>[business, computer science, internet, retail ...</td>\n",
       "      <td>[e-commerce services, retail and shopping, int...</td>\n",
       "      <td>[retail and shopping, internet, business, e-co...</td>\n",
       "    </tr>\n",
       "    <tr>\n",
       "      <th>2003</th>\n",
       "      <td>[languages, religion and belief systems, inter...</td>\n",
       "      <td>[languages, internet, religion and belief syst...</td>\n",
       "      <td>[languages, religion and belief systems, inter...</td>\n",
       "    </tr>\n",
       "    <tr>\n",
       "      <th>2004</th>\n",
       "      <td>[united states, politics]</td>\n",
       "      <td>[united states, politics]</td>\n",
       "      <td>[politics, united states]</td>\n",
       "    </tr>\n",
       "    <tr>\n",
       "      <th>2005</th>\n",
       "      <td>[united states, crime]</td>\n",
       "      <td>[united states, crime]</td>\n",
       "      <td>[crime, united states]</td>\n",
       "    </tr>\n",
       "    <tr>\n",
       "      <th>2006</th>\n",
       "      <td>[games, sports]</td>\n",
       "      <td>[sports, games]</td>\n",
       "      <td>[games, sports]</td>\n",
       "    </tr>\n",
       "  </tbody>\n",
       "</table>\n",
       "<p>2007 rows × 3 columns</p>\n",
       "</div>"
      ],
      "text/plain": [
       "                                               keywords  \\\n",
       "0                                                    []   \n",
       "1                                                    []   \n",
       "2                                                    []   \n",
       "3                                                    []   \n",
       "4                                                    []   \n",
       "...                                                 ...   \n",
       "2002  [business, computer science, internet, retail ...   \n",
       "2003  [languages, religion and belief systems, inter...   \n",
       "2004                          [united states, politics]   \n",
       "2005                             [united states, crime]   \n",
       "2006                                    [games, sports]   \n",
       "\n",
       "                                                   tags  \\\n",
       "0               [image data, computer vision, business]   \n",
       "1                         [earth and nature, education]   \n",
       "2                                               [games]   \n",
       "3                      [employment, business, internet]   \n",
       "4                                    [earth and nature]   \n",
       "...                                                 ...   \n",
       "2002  [e-commerce services, retail and shopping, int...   \n",
       "2003  [languages, internet, religion and belief syst...   \n",
       "2004                          [united states, politics]   \n",
       "2005                             [united states, crime]   \n",
       "2006                                    [sports, games]   \n",
       "\n",
       "                                           keywords_all  \n",
       "0               [computer vision, image data, business]  \n",
       "1                         [earth and nature, education]  \n",
       "2                                               [games]  \n",
       "3                      [employment, internet, business]  \n",
       "4                                    [earth and nature]  \n",
       "...                                                 ...  \n",
       "2002  [retail and shopping, internet, business, e-co...  \n",
       "2003  [languages, religion and belief systems, inter...  \n",
       "2004                          [politics, united states]  \n",
       "2005                             [crime, united states]  \n",
       "2006                                    [games, sports]  \n",
       "\n",
       "[2007 rows x 3 columns]"
      ]
     },
     "execution_count": 70,
     "metadata": {},
     "output_type": "execute_result"
    }
   ],
   "source": [
    "#then remove duplicates within list\n",
    "keywords_use['keywords_all'] = keywords_use['keywords_all'].apply(lambda x: list(set(x)))\n",
    "keywords_use"
   ]
  },
  {
   "cell_type": "code",
   "execution_count": 71,
   "id": "f51203eb",
   "metadata": {
    "scrolled": true
   },
   "outputs": [
    {
     "data": {
      "text/plain": [
       "0                 [computer vision, image data, business]\n",
       "1                           [earth and nature, education]\n",
       "2                                                 [games]\n",
       "3                        [employment, internet, business]\n",
       "4                                      [earth and nature]\n",
       "                              ...                        \n",
       "2002    [retail and shopping, internet, business, e-co...\n",
       "2003    [languages, religion and belief systems, inter...\n",
       "2004                            [politics, united states]\n",
       "2005                               [crime, united states]\n",
       "2006                                      [games, sports]\n",
       "Name: keywords_all, Length: 2007, dtype: object"
      ]
     },
     "execution_count": 71,
     "metadata": {},
     "output_type": "execute_result"
    }
   ],
   "source": [
    "keywords_use_clean = keywords_use['keywords_all']\n",
    "keywords_use_clean"
   ]
  },
  {
   "cell_type": "code",
   "execution_count": 72,
   "id": "71c954cc",
   "metadata": {},
   "outputs": [
    {
     "data": {
      "text/plain": [
       "0       3\n",
       "1       2\n",
       "2       1\n",
       "3       3\n",
       "4       1\n",
       "       ..\n",
       "2002    5\n",
       "2003    3\n",
       "2004    2\n",
       "2005    2\n",
       "2006    2\n",
       "Name: keywords_all, Length: 2007, dtype: int64"
      ]
     },
     "execution_count": 72,
     "metadata": {},
     "output_type": "execute_result"
    }
   ],
   "source": [
    "keywords_counts = keywords_use_clean.apply(len)\n",
    "keywords_counts"
   ]
  },
  {
   "cell_type": "code",
   "execution_count": 73,
   "id": "5142703b",
   "metadata": {},
   "outputs": [
    {
     "data": {
      "text/plain": [
       "{'mean': 3.4314897857498754, 'median': 3.0, 'max': 11}"
      ]
     },
     "execution_count": 73,
     "metadata": {},
     "output_type": "execute_result"
    }
   ],
   "source": [
    "analysis.get_summary_statistics(keywords_counts)"
   ]
  },
  {
   "cell_type": "markdown",
   "id": "905fe875",
   "metadata": {
    "pycharm": {
     "name": "#%% md\n"
    }
   },
   "source": [
    "## 14. Who are the most common funding agencies for each repo? What are the object counts per agency?\n",
    "**Property:** Funding Agency"
   ]
  },
  {
   "cell_type": "code",
   "execution_count": 74,
   "id": "12ac092c",
   "metadata": {},
   "outputs": [],
   "source": [
    "funders = df.KaggleDatasetsCrosswalk.funding_agency\n",
    "funders"
   ]
  },
  {
   "cell_type": "code",
   "execution_count": 75,
   "id": "7932570e",
   "metadata": {},
   "outputs": [
    {
     "name": "stdout",
     "output_type": "stream",
     "text": [
      "None\n"
     ]
    }
   ],
   "source": [
    "#confirm missing for this repo\n",
    "print(df.KaggleDatasetsCrosswalk.funding_agency)"
   ]
  },
  {
   "cell_type": "markdown",
   "id": "54ec7768",
   "metadata": {
    "pycharm": {
     "name": "#%% md\n"
    }
   },
   "source": [
    "## 15. What are the mean, median, and max number of Views per object?\n",
    "**Property:** Views\n",
    "**Related function:** get_summary_statistics"
   ]
  },
  {
   "cell_type": "code",
   "execution_count": 76,
   "id": "eb9ff0d1",
   "metadata": {
    "pycharm": {
     "name": "#%%\n"
    }
   },
   "outputs": [
    {
     "data": {
      "text/plain": [
       "0           NaN\n",
       "1           NaN\n",
       "2           NaN\n",
       "3           NaN\n",
       "4           NaN\n",
       "         ...   \n",
       "2002    25255.0\n",
       "2003    44997.0\n",
       "2004    10696.0\n",
       "2005    89557.0\n",
       "2006    30590.0\n",
       "Name: totalViews, Length: 2007, dtype: float64"
      ]
     },
     "execution_count": 76,
     "metadata": {},
     "output_type": "execute_result"
    }
   ],
   "source": [
    "views = df.KaggleDatasetsCrosswalk.views\n",
    "views"
   ]
  },
  {
   "cell_type": "code",
   "execution_count": 77,
   "id": "1ca00493",
   "metadata": {},
   "outputs": [
    {
     "data": {
      "text/plain": [
       "11        376.0\n",
       "12       7897.0\n",
       "13       2122.0\n",
       "14        288.0\n",
       "15        564.0\n",
       "         ...   \n",
       "2002    25255.0\n",
       "2003    44997.0\n",
       "2004    10696.0\n",
       "2005    89557.0\n",
       "2006    30590.0\n",
       "Name: totalViews, Length: 1943, dtype: float64"
      ]
     },
     "execution_count": 77,
     "metadata": {},
     "output_type": "execute_result"
    }
   ],
   "source": [
    "#remove NA values\n",
    "views_clean = views.dropna()\n",
    "views_clean"
   ]
  },
  {
   "cell_type": "code",
   "execution_count": 78,
   "id": "017f1bb7",
   "metadata": {},
   "outputs": [
    {
     "data": {
      "text/plain": [
       "{'mean': 11826.444673185795, 'median': 1436.0, 'max': 1147607.0}"
      ]
     },
     "execution_count": 78,
     "metadata": {},
     "output_type": "execute_result"
    }
   ],
   "source": [
    "analysis.get_summary_statistics(views_clean)"
   ]
  },
  {
   "cell_type": "markdown",
   "id": "ea2a9180",
   "metadata": {
    "pycharm": {
     "name": "#%% md\n"
    }
   },
   "source": [
    "## 16. What are the mean, median, and max (total) number of downloads per object?\n",
    "**Property:** Downloads\n",
    "**Related function:** `get_summary_statistics`"
   ]
  },
  {
   "cell_type": "code",
   "execution_count": 79,
   "id": "797766b8",
   "metadata": {},
   "outputs": [
    {
     "data": {
      "text/plain": [
       "0        2935\n",
       "1       11323\n",
       "2          60\n",
       "3       10548\n",
       "4        3215\n",
       "        ...  \n",
       "2002     2407\n",
       "2003     3774\n",
       "2004      132\n",
       "2005    13583\n",
       "2006     3528\n",
       "Name: downloadCount, Length: 2007, dtype: int64"
      ]
     },
     "execution_count": 79,
     "metadata": {},
     "output_type": "execute_result"
    }
   ],
   "source": [
    "downloads = df.KaggleDatasetsCrosswalk.downloads\n",
    "downloads"
   ]
  },
  {
   "cell_type": "code",
   "execution_count": 80,
   "id": "7a4e0b73",
   "metadata": {},
   "outputs": [
    {
     "data": {
      "text/plain": [
       "{'mean': 2348.1011459890383, 'median': 129.0, 'max': 365376}"
      ]
     },
     "execution_count": 80,
     "metadata": {},
     "output_type": "execute_result"
    }
   ],
   "source": [
    "#get summary statistics\n",
    "analysis.get_summary_statistics(downloads)"
   ]
  },
  {
   "cell_type": "markdown",
   "id": "cfe990f9",
   "metadata": {
    "pycharm": {
     "name": "#%% md\n"
    }
   },
   "source": [
    "## 17. What are the mean, median, and max Citation counts per object?\n",
    "**Property:** Citation count\n",
    "**Related function:** `get_summary_statistics`"
   ]
  },
  {
   "cell_type": "code",
   "execution_count": 81,
   "id": "bed3fd9f",
   "metadata": {},
   "outputs": [],
   "source": [
    "citation_count = df.KaggleDatasetsCrosswalk.citation_count\n",
    "citation_count"
   ]
  },
  {
   "cell_type": "code",
   "execution_count": 82,
   "id": "8820bb59",
   "metadata": {},
   "outputs": [
    {
     "name": "stdout",
     "output_type": "stream",
     "text": [
      "None\n"
     ]
    }
   ],
   "source": [
    "#confirm missing for this repo\n",
    "print(df.KaggleDatasetsCrosswalk.citation_count)"
   ]
  },
  {
   "cell_type": "markdown",
   "id": "470b28cb",
   "metadata": {
    "pycharm": {
     "name": "#%% md\n"
    }
   },
   "source": [
    "## 18. How many objects contain each given resource type?\n",
    "**Property:** Resource type"
   ]
  },
  {
   "cell_type": "code",
   "execution_count": 83,
   "id": "5cb43dd3",
   "metadata": {},
   "outputs": [],
   "source": [
    "resource_types = df.KaggleDatasetsCrosswalk.resource_type\n",
    "resource_types"
   ]
  },
  {
   "cell_type": "code",
   "execution_count": 84,
   "id": "5130f173",
   "metadata": {},
   "outputs": [
    {
     "name": "stdout",
     "output_type": "stream",
     "text": [
      "None\n"
     ]
    }
   ],
   "source": [
    "#confirm missing for this repo\n",
    "print(df.KaggleDatasetsCrosswalk.resource_type)"
   ]
  },
  {
   "cell_type": "markdown",
   "id": "db872f82",
   "metadata": {
    "pycharm": {
     "name": "#%% md\n"
    }
   },
   "source": [
    "## 19. How many objects contain each type of file extension given?\n",
    "**Property:** File Extension"
   ]
  },
  {
   "cell_type": "code",
   "execution_count": 85,
   "id": "aefdeabc",
   "metadata": {
    "pycharm": {
     "name": "#%%\n"
    }
   },
   "outputs": [],
   "source": [
    "files = df.KaggleDatasetsCrosswalk.file_extension\n",
    "files"
   ]
  },
  {
   "cell_type": "code",
   "execution_count": 86,
   "id": "b9e1143c",
   "metadata": {},
   "outputs": [
    {
     "name": "stdout",
     "output_type": "stream",
     "text": [
      "None\n"
     ]
    }
   ],
   "source": [
    "#confirm missing for this repo\n",
    "print(df.KaggleDatasetsCrosswalk.file_extension)"
   ]
  },
  {
   "cell_type": "markdown",
   "id": "481c7cfc",
   "metadata": {
    "pycharm": {
     "name": "#%% md\n"
    }
   },
   "source": [
    "## 19.5 How many files of each type of file extension are present?\n",
    "**Property:** File extension\n",
    "**Related function:** `get_file_extensions`"
   ]
  },
  {
   "cell_type": "code",
   "execution_count": 87,
   "id": "511f540a",
   "metadata": {
    "pycharm": {
     "name": "#%%\n"
    }
   },
   "outputs": [],
   "source": [
    "files = df.KaggleDatasetsCrosswalk.file_extension\n",
    "files"
   ]
  },
  {
   "cell_type": "code",
   "execution_count": 88,
   "id": "fdbf08d8",
   "metadata": {},
   "outputs": [
    {
     "name": "stdout",
     "output_type": "stream",
     "text": [
      "None\n"
     ]
    }
   ],
   "source": [
    "#confirm missing for this repo\n",
    "print(df.KaggleDatasetsCrosswalk.file_extension)"
   ]
  },
  {
   "cell_type": "markdown",
   "id": "32cb8bd4",
   "metadata": {
    "pycharm": {
     "name": "#%% md\n"
    }
   },
   "source": [
    "## 20. How many objects contain each type of File format given?\n",
    "**Property:** File format"
   ]
  },
  {
   "cell_type": "code",
   "execution_count": 89,
   "id": "aeb33fc8",
   "metadata": {},
   "outputs": [],
   "source": [
    "file_formats = df.KaggleDatasetsCrosswalk.file_format\n",
    "file_formats"
   ]
  },
  {
   "cell_type": "code",
   "execution_count": 90,
   "id": "373c98f1",
   "metadata": {},
   "outputs": [
    {
     "name": "stdout",
     "output_type": "stream",
     "text": [
      "None\n"
     ]
    }
   ],
   "source": [
    "#confirm missing for repo\n",
    "print(df.KaggleDatasetsCrosswalk.file_format)"
   ]
  },
  {
   "cell_type": "markdown",
   "id": "908f11d9",
   "metadata": {
    "pycharm": {
     "name": "#%% md\n"
    }
   },
   "source": [
    "## 21. How many objects contain each type of Media type given?\n",
    "**Property:** Media type"
   ]
  },
  {
   "cell_type": "code",
   "execution_count": 91,
   "id": "0cdb7dc3",
   "metadata": {},
   "outputs": [],
   "source": [
    "media_types = df.KaggleDatasetsCrosswalk.media_type\n",
    "media_types"
   ]
  },
  {
   "cell_type": "code",
   "execution_count": 92,
   "id": "ae77d54b",
   "metadata": {},
   "outputs": [
    {
     "name": "stdout",
     "output_type": "stream",
     "text": [
      "None\n"
     ]
    }
   ],
   "source": [
    "#confirm missing for repo\n",
    "print(df.KaggleDatasetsCrosswalk.media_type)"
   ]
  },
  {
   "cell_type": "markdown",
   "id": "f5ae5792",
   "metadata": {
    "pycharm": {
     "name": "#%% md\n"
    }
   },
   "source": [
    "## 22. a) How many objects report one related resource type, and b) how many objects report each of those types? c) How many objects report multiple related resource types (regardless of which types)?\n",
    "**Property:** Related resource type"
   ]
  },
  {
   "cell_type": "code",
   "execution_count": 93,
   "id": "5a139734",
   "metadata": {},
   "outputs": [],
   "source": [
    "related_resource_types = df.KaggleDatasetsCrosswalk.related_resource_type\n",
    "related_resource_types"
   ]
  },
  {
   "cell_type": "code",
   "execution_count": 94,
   "id": "a30d12ed",
   "metadata": {},
   "outputs": [
    {
     "name": "stdout",
     "output_type": "stream",
     "text": [
      "None\n"
     ]
    }
   ],
   "source": [
    "#confirm missing for repo\n",
    "print(df.KaggleDatasetsCrosswalk.related_resource_type)"
   ]
  },
  {
   "cell_type": "markdown",
   "id": "8975767e",
   "metadata": {
    "pycharm": {
     "name": "#%% md\n"
    }
   },
   "source": [
    "\n",
    "## 23-25. If there is an entry for an object in one of the three properties (Original data URL, Primary manuscript PID/URL, and Related resource identifier) count as Related resources = True and then count the number of objects that return True.\n",
    "**Property:** Related Resource Identifier"
   ]
  },
  {
   "cell_type": "code",
   "execution_count": 95,
   "id": "ec76b96c",
   "metadata": {},
   "outputs": [
    {
     "name": "stdout",
     "output_type": "stream",
     "text": [
      "None\n"
     ]
    }
   ],
   "source": [
    "#confirm missing for this repo\n",
    "print(df.KaggleDatasetsCrosswalk.original_data_url)"
   ]
  },
  {
   "cell_type": "code",
   "execution_count": 96,
   "id": "c2837575",
   "metadata": {},
   "outputs": [
    {
     "name": "stdout",
     "output_type": "stream",
     "text": [
      "None\n"
     ]
    }
   ],
   "source": [
    "#confirm missing for this repo\n",
    "print(df.KaggleDatasetsCrosswalk.primary_manuscript)"
   ]
  },
  {
   "cell_type": "code",
   "execution_count": 97,
   "id": "317e4adf",
   "metadata": {},
   "outputs": [
    {
     "name": "stdout",
     "output_type": "stream",
     "text": [
      "None\n"
     ]
    }
   ],
   "source": [
    "#confirm missing for this repo\n",
    "print(df.KaggleDatasetsCrosswalk.related_resource_identifier)"
   ]
  },
  {
   "cell_type": "markdown",
   "id": "a5b237a2",
   "metadata": {
    "pycharm": {
     "name": "#%% md\n"
    }
   },
   "source": [
    "## 23-25. Also, what is the mean number of related resource links per object (again looking at the three properties (Original data URL, Primary manuscript PID/URL, nd Related resource identifier)?\n",
    "**Property:** Related Resource Identifier"
   ]
  },
  {
   "cell_type": "code",
   "execution_count": 98,
   "id": "88c73aa9",
   "metadata": {},
   "outputs": [],
   "source": [
    "#none of these properties present in this repo (see above)"
   ]
  },
  {
   "cell_type": "markdown",
   "id": "1ce011c5",
   "metadata": {
    "pycharm": {
     "name": "#%% md\n"
    }
   },
   "source": [
    "## 26. How many objects report each relation type? How many objects report multiple relation types, regardless of what those types are?\n",
    "**Property:** Related resource relation type"
   ]
  },
  {
   "cell_type": "code",
   "execution_count": 99,
   "id": "c98952ff",
   "metadata": {},
   "outputs": [],
   "source": [
    "relation_type = df.KaggleDatasetsCrosswalk.related_resource_relation_type\n",
    "relation_type"
   ]
  },
  {
   "cell_type": "code",
   "execution_count": 100,
   "id": "3f8bc0e6",
   "metadata": {},
   "outputs": [
    {
     "name": "stdout",
     "output_type": "stream",
     "text": [
      "None\n"
     ]
    }
   ],
   "source": [
    "#confirm missing for repo\n",
    "print(df.KaggleDatasetsCrosswalk.related_resource_relation_type)"
   ]
  },
  {
   "cell_type": "markdown",
   "id": "4942586d",
   "metadata": {
    "pycharm": {
     "name": "#%% md\n"
    }
   },
   "source": [
    "## 27. For repositories that store the full citation in a designated field, how many objects have a populated citation? How many objects have a citation and a URL or other actionable link?\n",
    "**Property:** Citation"
   ]
  },
  {
   "cell_type": "code",
   "execution_count": 101,
   "id": "fadcd49d",
   "metadata": {},
   "outputs": [],
   "source": [
    "citations = df.KaggleDatasetsCrosswalk.citation\n",
    "citations"
   ]
  },
  {
   "cell_type": "code",
   "execution_count": 102,
   "id": "ed9b1247",
   "metadata": {},
   "outputs": [
    {
     "name": "stdout",
     "output_type": "stream",
     "text": [
      "None\n"
     ]
    }
   ],
   "source": [
    "#confirm missing for repo\n",
    "print(df.KaggleDatasetsCrosswalk.citation)"
   ]
  }
 ],
 "metadata": {
  "kernelspec": {
   "display_name": "Python 3 (ipykernel)",
   "language": "python",
   "name": "python3"
  },
  "language_info": {
   "codemirror_mode": {
    "name": "ipython",
    "version": 3
   },
   "file_extension": ".py",
   "mimetype": "text/x-python",
   "name": "python",
   "nbconvert_exporter": "python",
   "pygments_lexer": "ipython3",
   "version": "3.10.0"
  }
 },
 "nbformat": 4,
 "nbformat_minor": 5
}
