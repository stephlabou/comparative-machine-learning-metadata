{
 "cells": [
  {
   "cell_type": "markdown",
   "id": "f743f8b9",
   "metadata": {
    "pycharm": {
     "name": "#%% md\n"
    }
   },
   "source": [
    "# Analysis Template Walkthrough"
   ]
  },
  {
   "cell_type": "markdown",
   "id": "3169bcdc",
   "metadata": {
    "pycharm": {
     "name": "#%% md\n"
    }
   },
   "source": [
    "# Setup"
   ]
  },
  {
   "cell_type": "markdown",
   "id": "d6ac0424",
   "metadata": {
    "pycharm": {
     "name": "#%% md\n"
    }
   },
   "source": [
    "## Select extract\n",
    "In order for the template cells to query data from the correct repository, enter the repository name as `repository` and repository object type as `object_type`."
   ]
  },
  {
   "cell_type": "code",
   "execution_count": 1,
   "id": "6f52706a",
   "metadata": {
    "pycharm": {
     "name": "#%%\n"
    }
   },
   "outputs": [],
   "source": [
    "repository = 'uci'\n",
    "object_type = 'datasets'"
   ]
  },
  {
   "cell_type": "code",
   "execution_count": 2,
   "id": "a5ef7ee9",
   "metadata": {
    "pycharm": {
     "name": "#%%\n"
    }
   },
   "outputs": [],
   "source": [
    "import pandas as pd\n",
    "import numpy as np\n",
    "import re\n",
    "from pathlib import Path"
   ]
  },
  {
   "cell_type": "code",
   "execution_count": 3,
   "id": "ed934541",
   "metadata": {},
   "outputs": [],
   "source": [
    "#see more rows and columns of output\n",
    "pd.set_option('display.max_rows', 100)\n",
    "pd.set_option('display.max_columns', 100) "
   ]
  },
  {
   "cell_type": "markdown",
   "id": "886d5cc0",
   "metadata": {
    "pycharm": {
     "name": "#%% md\n"
    }
   },
   "source": [
    "## Helper Functions"
   ]
  },
  {
   "cell_type": "code",
   "execution_count": 4,
   "id": "0dbbe911",
   "metadata": {
    "pycharm": {
     "name": "#%%\n"
    }
   },
   "outputs": [],
   "source": [
    "import os, sys\n",
    "dir2 = os.path.abspath('../')\n",
    "dir1 = os.path.dirname(dir2)\n",
    "if not dir1 in sys.path: sys.path.append(dir1)\n",
    "\n",
    "from utils import analysis\n",
    "from utils.crosswalk import RepositoryExtract, property_crosswalk\n",
    "from utils import accessors"
   ]
  },
  {
   "cell_type": "markdown",
   "id": "037a6805",
   "metadata": {
    "pycharm": {
     "name": "#%% md\n"
    }
   },
   "source": [
    "# Summary Statistic Walkthroughs"
   ]
  },
  {
   "cell_type": "markdown",
   "id": "c6f17a49",
   "metadata": {},
   "source": [
    "Read in repository .json file"
   ]
  },
  {
   "cell_type": "code",
   "execution_count": 5,
   "id": "f71012d1",
   "metadata": {
    "pycharm": {
     "name": "#%%\n"
    }
   },
   "outputs": [],
   "source": [
    "df = pd.read_json(f'{repository}_{object_type}.json')"
   ]
  },
  {
   "cell_type": "code",
   "execution_count": 6,
   "id": "9cfe49b1",
   "metadata": {
    "scrolled": true
   },
   "outputs": [
    {
     "data": {
      "text/html": [
       "<div>\n",
       "<style scoped>\n",
       "    .dataframe tbody tr th:only-of-type {\n",
       "        vertical-align: middle;\n",
       "    }\n",
       "\n",
       "    .dataframe tbody tr th {\n",
       "        vertical-align: top;\n",
       "    }\n",
       "\n",
       "    .dataframe thead th {\n",
       "        text-align: right;\n",
       "    }\n",
       "</style>\n",
       "<table border=\"1\" class=\"dataframe\">\n",
       "  <thead>\n",
       "    <tr style=\"text-align: right;\">\n",
       "      <th></th>\n",
       "      <th>abstract</th>\n",
       "      <th>additional_info</th>\n",
       "      <th>associated_tasks</th>\n",
       "      <th>citation_requests/acknowledgements</th>\n",
       "      <th>creation_purpose</th>\n",
       "      <th>creators</th>\n",
       "      <th>dataset_characteristics</th>\n",
       "      <th>doi</th>\n",
       "      <th>donation_date</th>\n",
       "      <th>files</th>\n",
       "      <th>funders</th>\n",
       "      <th>instances_represent</th>\n",
       "      <th>keywords</th>\n",
       "      <th>license</th>\n",
       "      <th>link_date</th>\n",
       "      <th>missing_value_placeholder</th>\n",
       "      <th>missing_values</th>\n",
       "      <th>num_attributes</th>\n",
       "      <th>num_citations</th>\n",
       "      <th>num_instances</th>\n",
       "      <th>num_views</th>\n",
       "      <th>preprocessing_done</th>\n",
       "      <th>previous_tasks</th>\n",
       "      <th>recommended_data_split</th>\n",
       "      <th>sensitive_data</th>\n",
       "      <th>subject_area</th>\n",
       "      <th>url</th>\n",
       "      <th>papers</th>\n",
       "    </tr>\n",
       "  </thead>\n",
       "  <tbody>\n",
       "    <tr>\n",
       "      <th>0</th>\n",
       "      <td>A small classic dataset from Fisher, 1936. One...</td>\n",
       "      <td>This is perhaps the best known database to be ...</td>\n",
       "      <td>Classification</td>\n",
       "      <td>N/A</td>\n",
       "      <td>N/A</td>\n",
       "      <td>[R.A. Fisher]</td>\n",
       "      <td>Multivariate</td>\n",
       "      <td>None</td>\n",
       "      <td>1988-07-01</td>\n",
       "      <td>[ Parent Directory,  Index,  bezdekIris.data, ...</td>\n",
       "      <td>N/A</td>\n",
       "      <td>1. sepal length in cm\\n   2. sepal width in...</td>\n",
       "      <td>[ecology]</td>\n",
       "      <td>[This allows for the sharing and adaptation of...</td>\n",
       "      <td>None</td>\n",
       "      <td>N/A</td>\n",
       "      <td>False</td>\n",
       "      <td>5.0</td>\n",
       "      <td>351</td>\n",
       "      <td>150</td>\n",
       "      <td>120760</td>\n",
       "      <td>N/A</td>\n",
       "      <td>N/A</td>\n",
       "      <td>N/A</td>\n",
       "      <td>N/A</td>\n",
       "      <td>Life Science</td>\n",
       "      <td>https://archive-beta.ics.uci.edu/ml/datasets/iris</td>\n",
       "      <td>[{'title': '$ell_p$-Box ADMM: A Versatile Fram...</td>\n",
       "    </tr>\n",
       "    <tr>\n",
       "      <th>1</th>\n",
       "      <td>This diabetes dataset is from AIM '94</td>\n",
       "      <td>Diabetes patient records were obtained from tw...</td>\n",
       "      <td>N/A</td>\n",
       "      <td>N/A</td>\n",
       "      <td>N/A</td>\n",
       "      <td>[Michael Kahn]</td>\n",
       "      <td>Multivariate, Time-Series</td>\n",
       "      <td>None</td>\n",
       "      <td>None</td>\n",
       "      <td>[ Parent Directory,  Index,  README,  diabetes...</td>\n",
       "      <td>N/A</td>\n",
       "      <td>Diabetes files consist of four fields per reco...</td>\n",
       "      <td>[N/A]</td>\n",
       "      <td>[This allows for the sharing and adaptation of...</td>\n",
       "      <td>None</td>\n",
       "      <td>None</td>\n",
       "      <td>None</td>\n",
       "      <td>NaN</td>\n",
       "      <td>102</td>\n",
       "      <td>0</td>\n",
       "      <td>84510</td>\n",
       "      <td>N/A</td>\n",
       "      <td>N/A</td>\n",
       "      <td>N/A</td>\n",
       "      <td>N/A</td>\n",
       "      <td>Life</td>\n",
       "      <td>https://archive-beta.ics.uci.edu/ml/datasets/d...</td>\n",
       "      <td>[{'title': 'A Cooperative Learning Model for t...</td>\n",
       "    </tr>\n",
       "    <tr>\n",
       "      <th>2</th>\n",
       "      <td>Predict whether income exceeds $50K/yr based o...</td>\n",
       "      <td>Extraction was done by Barry Becker from the 1...</td>\n",
       "      <td>Classification</td>\n",
       "      <td>N/A</td>\n",
       "      <td>N/A</td>\n",
       "      <td>[]</td>\n",
       "      <td>Multivariate</td>\n",
       "      <td>None</td>\n",
       "      <td>1996-05-01</td>\n",
       "      <td>[ Parent Directory,  Index,  adult.data,  adul...</td>\n",
       "      <td>N/A</td>\n",
       "      <td>Listing of attributes:\\n\\n&gt;50K, &lt;=50K.\\n\\nage:...</td>\n",
       "      <td>[fairness, census]</td>\n",
       "      <td>[This allows for the sharing and adaptation of...</td>\n",
       "      <td>None</td>\n",
       "      <td>1</td>\n",
       "      <td>True</td>\n",
       "      <td>15.0</td>\n",
       "      <td>256</td>\n",
       "      <td>48842</td>\n",
       "      <td>79966</td>\n",
       "      <td>N/A</td>\n",
       "      <td>N/A</td>\n",
       "      <td>N/A</td>\n",
       "      <td>N/A</td>\n",
       "      <td>Social</td>\n",
       "      <td>https://archive-beta.ics.uci.edu/ml/datasets/a...</td>\n",
       "      <td>[{'title': '($k$,$epsilon$)-Anonymity: $k$-Ano...</td>\n",
       "    </tr>\n",
       "    <tr>\n",
       "      <th>3</th>\n",
       "      <td>4 databases: Cleveland, Hungary, Switzerland, ...</td>\n",
       "      <td>This database contains 76 attributes, but all ...</td>\n",
       "      <td>Classification</td>\n",
       "      <td>N/A</td>\n",
       "      <td>N/A</td>\n",
       "      <td>[Andras Janosi, William Steinbrunn, Matthias P...</td>\n",
       "      <td>Multivariate</td>\n",
       "      <td>None</td>\n",
       "      <td>1988-07-01</td>\n",
       "      <td>[ Parent Directory,  Index,  WARNING,  ask-det...</td>\n",
       "      <td>N/A</td>\n",
       "      <td>Only 14 attributes used:\\n      1. #3  (age)  ...</td>\n",
       "      <td>[N/A]</td>\n",
       "      <td>[This allows for the sharing and adaptation of...</td>\n",
       "      <td>None</td>\n",
       "      <td>None</td>\n",
       "      <td>None</td>\n",
       "      <td>NaN</td>\n",
       "      <td>63</td>\n",
       "      <td>303</td>\n",
       "      <td>75839</td>\n",
       "      <td>N/A</td>\n",
       "      <td>N/A</td>\n",
       "      <td>N/A</td>\n",
       "      <td>N/A</td>\n",
       "      <td>Life</td>\n",
       "      <td>https://archive-beta.ics.uci.edu/ml/datasets/h...</td>\n",
       "      <td>[{'title': 'A Collective Learning Approach for...</td>\n",
       "    </tr>\n",
       "    <tr>\n",
       "      <th>4</th>\n",
       "      <td>Using chemical analysis determine the origin o...</td>\n",
       "      <td>These data are the results of a chemical analy...</td>\n",
       "      <td>Classification</td>\n",
       "      <td>N/A</td>\n",
       "      <td>test</td>\n",
       "      <td>[]</td>\n",
       "      <td>Multivariate</td>\n",
       "      <td>None</td>\n",
       "      <td>1991-07-01</td>\n",
       "      <td>[ Parent Directory,  Index,  wine.data,  wine....</td>\n",
       "      <td>N/A</td>\n",
       "      <td>All attributes are continuous\\n\\t\\nNo statisti...</td>\n",
       "      <td>[N/A]</td>\n",
       "      <td>[This allows for the sharing and adaptation of...</td>\n",
       "      <td>None</td>\n",
       "      <td>0</td>\n",
       "      <td>True</td>\n",
       "      <td>14.0</td>\n",
       "      <td>130</td>\n",
       "      <td>178</td>\n",
       "      <td>62072</td>\n",
       "      <td>N/A</td>\n",
       "      <td>N/A</td>\n",
       "      <td>N/A</td>\n",
       "      <td>N/A</td>\n",
       "      <td>Physical</td>\n",
       "      <td>https://archive-beta.ics.uci.edu/ml/datasets/wine</td>\n",
       "      <td>[{'title': '$k$-POD: A Method for $k$-Means Cl...</td>\n",
       "    </tr>\n",
       "    <tr>\n",
       "      <th>...</th>\n",
       "      <td>...</td>\n",
       "      <td>...</td>\n",
       "      <td>...</td>\n",
       "      <td>...</td>\n",
       "      <td>...</td>\n",
       "      <td>...</td>\n",
       "      <td>...</td>\n",
       "      <td>...</td>\n",
       "      <td>...</td>\n",
       "      <td>...</td>\n",
       "      <td>...</td>\n",
       "      <td>...</td>\n",
       "      <td>...</td>\n",
       "      <td>...</td>\n",
       "      <td>...</td>\n",
       "      <td>...</td>\n",
       "      <td>...</td>\n",
       "      <td>...</td>\n",
       "      <td>...</td>\n",
       "      <td>...</td>\n",
       "      <td>...</td>\n",
       "      <td>...</td>\n",
       "      <td>...</td>\n",
       "      <td>...</td>\n",
       "      <td>...</td>\n",
       "      <td>...</td>\n",
       "      <td>...</td>\n",
       "      <td>...</td>\n",
       "    </tr>\n",
       "    <tr>\n",
       "      <th>586</th>\n",
       "      <td>This dataset was collected by Shan-Hung Wu and...</td>\n",
       "      <td>This dataset was collected by Shan-Hung Wu and...</td>\n",
       "      <td>Clustering</td>\n",
       "      <td>N/A</td>\n",
       "      <td>N/A</td>\n",
       "      <td>[Shan-Hung Wu]</td>\n",
       "      <td>Multivariate, Text</td>\n",
       "      <td>None</td>\n",
       "      <td>2016-11-02</td>\n",
       "      <td>[ Parent Directory,  Mturk User-Perceived Clus...</td>\n",
       "      <td>N/A</td>\n",
       "      <td>As the above.</td>\n",
       "      <td>[N/A]</td>\n",
       "      <td>[This allows for the sharing and adaptation of...</td>\n",
       "      <td>None</td>\n",
       "      <td></td>\n",
       "      <td>True</td>\n",
       "      <td>500.0</td>\n",
       "      <td>0</td>\n",
       "      <td>180</td>\n",
       "      <td>24</td>\n",
       "      <td>N/A</td>\n",
       "      <td>N/A</td>\n",
       "      <td>N/A</td>\n",
       "      <td>N/A</td>\n",
       "      <td>Computer</td>\n",
       "      <td>https://archive-beta.ics.uci.edu/ml/datasets/m...</td>\n",
       "      <td>[]</td>\n",
       "    </tr>\n",
       "    <tr>\n",
       "      <th>587</th>\n",
       "      <td>A pen-based database with more than 11k isolat...</td>\n",
       "      <td>&lt;font class=\"normal\"&gt;We have created the UJIpe...</td>\n",
       "      <td>Classification</td>\n",
       "      <td>N/A</td>\n",
       "      <td>N/A</td>\n",
       "      <td>[F. Prat, M. Castro, D. Llorens, A. Marzal, J....</td>\n",
       "      <td>Multivariate, Sequential</td>\n",
       "      <td>None</td>\n",
       "      <td>2009-01-22</td>\n",
       "      <td>[ Parent Directory,  uji2.names,  ujipenchars2...</td>\n",
       "      <td>N/A</td>\n",
       "      <td>&lt;font class=\"normal\"&gt;The file 'ujipenchars2.tx...</td>\n",
       "      <td>[N/A]</td>\n",
       "      <td>[This allows for the sharing and adaptation of...</td>\n",
       "      <td>None</td>\n",
       "      <td>None</td>\n",
       "      <td>None</td>\n",
       "      <td>NaN</td>\n",
       "      <td>0</td>\n",
       "      <td>11640</td>\n",
       "      <td>22</td>\n",
       "      <td>N/A</td>\n",
       "      <td>N/A</td>\n",
       "      <td>N/A</td>\n",
       "      <td>N/A</td>\n",
       "      <td>Computer</td>\n",
       "      <td>https://archive-beta.ics.uci.edu/ml/datasets/u...</td>\n",
       "      <td>[]</td>\n",
       "    </tr>\n",
       "    <tr>\n",
       "      <th>588</th>\n",
       "      <td>The handwritten dataset was collected from 170...</td>\n",
       "      <td>The dataset contains handwritten Urdu/Arabic n...</td>\n",
       "      <td>Classification</td>\n",
       "      <td>N/A</td>\n",
       "      <td>N/A</td>\n",
       "      <td>[Ghazanfar Latif]</td>\n",
       "      <td>Univariate</td>\n",
       "      <td>None</td>\n",
       "      <td>2018-08-05</td>\n",
       "      <td>[ Parent Directory,  PMU-UD.zip]</td>\n",
       "      <td>N/A</td>\n",
       "      <td>The participants were asked to write the numer...</td>\n",
       "      <td>[N/A]</td>\n",
       "      <td>[This allows for the sharing and adaptation of...</td>\n",
       "      <td>None</td>\n",
       "      <td>None</td>\n",
       "      <td>None</td>\n",
       "      <td>NaN</td>\n",
       "      <td>0</td>\n",
       "      <td>5180</td>\n",
       "      <td>22</td>\n",
       "      <td>N/A</td>\n",
       "      <td>N/A</td>\n",
       "      <td>N/A</td>\n",
       "      <td>N/A</td>\n",
       "      <td>Computer</td>\n",
       "      <td>https://archive-beta.ics.uci.edu/ml/datasets/p...</td>\n",
       "      <td>[]</td>\n",
       "    </tr>\n",
       "    <tr>\n",
       "      <th>589</th>\n",
       "      <td>This dataset contains sentences extracted from...</td>\n",
       "      <td>This dataset contains sentences extracted from...</td>\n",
       "      <td>N/A</td>\n",
       "      <td>N/A</td>\n",
       "      <td>N/A</td>\n",
       "      <td>[]</td>\n",
       "      <td>Text</td>\n",
       "      <td>None</td>\n",
       "      <td>2010-07-06</td>\n",
       "      <td>[ Parent Directory,  OpinosisDataset1.0.zip,  ...</td>\n",
       "      <td>N/A</td>\n",
       "      <td></td>\n",
       "      <td>[N/A]</td>\n",
       "      <td>[This allows for the sharing and adaptation of...</td>\n",
       "      <td>None</td>\n",
       "      <td>None</td>\n",
       "      <td>None</td>\n",
       "      <td>NaN</td>\n",
       "      <td>0</td>\n",
       "      <td>51</td>\n",
       "      <td>21</td>\n",
       "      <td>N/A</td>\n",
       "      <td>N/A</td>\n",
       "      <td>N/A</td>\n",
       "      <td>N/A</td>\n",
       "      <td>Computer</td>\n",
       "      <td>https://archive-beta.ics.uci.edu/ml/datasets/o...</td>\n",
       "      <td>[]</td>\n",
       "    </tr>\n",
       "    <tr>\n",
       "      <th>590</th>\n",
       "      <td>The file nettalk.data\" contains a list of 20</td>\n",
       "      <td>This is an updated and corrected version of th...</td>\n",
       "      <td>along with a phonetic transcription for each ...</td>\n",
       "      <td>N/A</td>\n",
       "      <td>N/A</td>\n",
       "      <td>[]</td>\n",
       "      <td>008 English words</td>\n",
       "      <td>None</td>\n",
       "      <td>1954-10-11</td>\n",
       "      <td>[.., Graphics3/11/2021 3:33:47 AM]</td>\n",
       "      <td>N/A</td>\n",
       "      <td>The pronouncing dictionary was created to stud...</td>\n",
       "      <td>[N/A]</td>\n",
       "      <td>[This allows for the sharing and adaptation of...</td>\n",
       "      <td>None</td>\n",
       "      <td></td>\n",
       "      <td>True</td>\n",
       "      <td>4.0</td>\n",
       "      <td>0</td>\n",
       "      <td>0</td>\n",
       "      <td>18</td>\n",
       "      <td>N/A</td>\n",
       "      <td>N/A</td>\n",
       "      <td>N/A</td>\n",
       "      <td>N/A</td>\n",
       "      <td>Multivariate</td>\n",
       "      <td>https://archive-beta.ics.uci.edu/ml/datasets/c...</td>\n",
       "      <td>[]</td>\n",
       "    </tr>\n",
       "  </tbody>\n",
       "</table>\n",
       "<p>591 rows × 28 columns</p>\n",
       "</div>"
      ],
      "text/plain": [
       "                                              abstract  \\\n",
       "0    A small classic dataset from Fisher, 1936. One...   \n",
       "1                This diabetes dataset is from AIM '94   \n",
       "2    Predict whether income exceeds $50K/yr based o...   \n",
       "3    4 databases: Cleveland, Hungary, Switzerland, ...   \n",
       "4    Using chemical analysis determine the origin o...   \n",
       "..                                                 ...   \n",
       "586  This dataset was collected by Shan-Hung Wu and...   \n",
       "587  A pen-based database with more than 11k isolat...   \n",
       "588  The handwritten dataset was collected from 170...   \n",
       "589  This dataset contains sentences extracted from...   \n",
       "590       The file nettalk.data\" contains a list of 20   \n",
       "\n",
       "                                       additional_info  \\\n",
       "0    This is perhaps the best known database to be ...   \n",
       "1    Diabetes patient records were obtained from tw...   \n",
       "2    Extraction was done by Barry Becker from the 1...   \n",
       "3    This database contains 76 attributes, but all ...   \n",
       "4    These data are the results of a chemical analy...   \n",
       "..                                                 ...   \n",
       "586  This dataset was collected by Shan-Hung Wu and...   \n",
       "587  <font class=\"normal\">We have created the UJIpe...   \n",
       "588  The dataset contains handwritten Urdu/Arabic n...   \n",
       "589  This dataset contains sentences extracted from...   \n",
       "590  This is an updated and corrected version of th...   \n",
       "\n",
       "                                      associated_tasks  \\\n",
       "0                                       Classification   \n",
       "1                                                  N/A   \n",
       "2                                       Classification   \n",
       "3                                       Classification   \n",
       "4                                       Classification   \n",
       "..                                                 ...   \n",
       "586                                         Clustering   \n",
       "587                                     Classification   \n",
       "588                                     Classification   \n",
       "589                                                N/A   \n",
       "590   along with a phonetic transcription for each ...   \n",
       "\n",
       "    citation_requests/acknowledgements creation_purpose  \\\n",
       "0                                  N/A              N/A   \n",
       "1                                  N/A              N/A   \n",
       "2                                  N/A              N/A   \n",
       "3                                  N/A              N/A   \n",
       "4                                  N/A             test   \n",
       "..                                 ...              ...   \n",
       "586                                N/A              N/A   \n",
       "587                                N/A              N/A   \n",
       "588                                N/A              N/A   \n",
       "589                                N/A              N/A   \n",
       "590                                N/A              N/A   \n",
       "\n",
       "                                              creators  \\\n",
       "0                                        [R.A. Fisher]   \n",
       "1                                       [Michael Kahn]   \n",
       "2                                                   []   \n",
       "3    [Andras Janosi, William Steinbrunn, Matthias P...   \n",
       "4                                                   []   \n",
       "..                                                 ...   \n",
       "586                                     [Shan-Hung Wu]   \n",
       "587  [F. Prat, M. Castro, D. Llorens, A. Marzal, J....   \n",
       "588                                  [Ghazanfar Latif]   \n",
       "589                                                 []   \n",
       "590                                                 []   \n",
       "\n",
       "       dataset_characteristics   doi donation_date  \\\n",
       "0                 Multivariate  None    1988-07-01   \n",
       "1    Multivariate, Time-Series  None          None   \n",
       "2                 Multivariate  None    1996-05-01   \n",
       "3                 Multivariate  None    1988-07-01   \n",
       "4                 Multivariate  None    1991-07-01   \n",
       "..                         ...   ...           ...   \n",
       "586         Multivariate, Text  None    2016-11-02   \n",
       "587   Multivariate, Sequential  None    2009-01-22   \n",
       "588                 Univariate  None    2018-08-05   \n",
       "589                       Text  None    2010-07-06   \n",
       "590          008 English words  None    1954-10-11   \n",
       "\n",
       "                                                 files funders  \\\n",
       "0    [ Parent Directory,  Index,  bezdekIris.data, ...     N/A   \n",
       "1    [ Parent Directory,  Index,  README,  diabetes...     N/A   \n",
       "2    [ Parent Directory,  Index,  adult.data,  adul...     N/A   \n",
       "3    [ Parent Directory,  Index,  WARNING,  ask-det...     N/A   \n",
       "4    [ Parent Directory,  Index,  wine.data,  wine....     N/A   \n",
       "..                                                 ...     ...   \n",
       "586  [ Parent Directory,  Mturk User-Perceived Clus...     N/A   \n",
       "587  [ Parent Directory,  uji2.names,  ujipenchars2...     N/A   \n",
       "588                   [ Parent Directory,  PMU-UD.zip]     N/A   \n",
       "589  [ Parent Directory,  OpinosisDataset1.0.zip,  ...     N/A   \n",
       "590                 [.., Graphics3/11/2021 3:33:47 AM]     N/A   \n",
       "\n",
       "                                   instances_represent            keywords  \\\n",
       "0       1. sepal length in cm\\n   2. sepal width in...           [ecology]   \n",
       "1    Diabetes files consist of four fields per reco...               [N/A]   \n",
       "2    Listing of attributes:\\n\\n>50K, <=50K.\\n\\nage:...  [fairness, census]   \n",
       "3    Only 14 attributes used:\\n      1. #3  (age)  ...               [N/A]   \n",
       "4    All attributes are continuous\\n\\t\\nNo statisti...               [N/A]   \n",
       "..                                                 ...                 ...   \n",
       "586                                      As the above.               [N/A]   \n",
       "587  <font class=\"normal\">The file 'ujipenchars2.tx...               [N/A]   \n",
       "588  The participants were asked to write the numer...               [N/A]   \n",
       "589                                                                  [N/A]   \n",
       "590  The pronouncing dictionary was created to stud...               [N/A]   \n",
       "\n",
       "                                               license link_date  \\\n",
       "0    [This allows for the sharing and adaptation of...      None   \n",
       "1    [This allows for the sharing and adaptation of...      None   \n",
       "2    [This allows for the sharing and adaptation of...      None   \n",
       "3    [This allows for the sharing and adaptation of...      None   \n",
       "4    [This allows for the sharing and adaptation of...      None   \n",
       "..                                                 ...       ...   \n",
       "586  [This allows for the sharing and adaptation of...      None   \n",
       "587  [This allows for the sharing and adaptation of...      None   \n",
       "588  [This allows for the sharing and adaptation of...      None   \n",
       "589  [This allows for the sharing and adaptation of...      None   \n",
       "590  [This allows for the sharing and adaptation of...      None   \n",
       "\n",
       "    missing_value_placeholder missing_values  num_attributes  num_citations  \\\n",
       "0                         N/A          False             5.0            351   \n",
       "1                        None           None             NaN            102   \n",
       "2                           1           True            15.0            256   \n",
       "3                        None           None             NaN             63   \n",
       "4                           0           True            14.0            130   \n",
       "..                        ...            ...             ...            ...   \n",
       "586                                     True           500.0              0   \n",
       "587                      None           None             NaN              0   \n",
       "588                      None           None             NaN              0   \n",
       "589                      None           None             NaN              0   \n",
       "590                                     True             4.0              0   \n",
       "\n",
       "     num_instances  num_views preprocessing_done previous_tasks  \\\n",
       "0              150     120760                N/A            N/A   \n",
       "1                0      84510                N/A            N/A   \n",
       "2            48842      79966                N/A            N/A   \n",
       "3              303      75839                N/A            N/A   \n",
       "4              178      62072                N/A            N/A   \n",
       "..             ...        ...                ...            ...   \n",
       "586            180         24                N/A            N/A   \n",
       "587          11640         22                N/A            N/A   \n",
       "588           5180         22                N/A            N/A   \n",
       "589             51         21                N/A            N/A   \n",
       "590              0         18                N/A            N/A   \n",
       "\n",
       "    recommended_data_split sensitive_data  subject_area  \\\n",
       "0                      N/A            N/A  Life Science   \n",
       "1                      N/A            N/A          Life   \n",
       "2                      N/A            N/A        Social   \n",
       "3                      N/A            N/A          Life   \n",
       "4                      N/A            N/A      Physical   \n",
       "..                     ...            ...           ...   \n",
       "586                    N/A            N/A      Computer   \n",
       "587                    N/A            N/A      Computer   \n",
       "588                    N/A            N/A      Computer   \n",
       "589                    N/A            N/A      Computer   \n",
       "590                    N/A            N/A  Multivariate   \n",
       "\n",
       "                                                   url  \\\n",
       "0    https://archive-beta.ics.uci.edu/ml/datasets/iris   \n",
       "1    https://archive-beta.ics.uci.edu/ml/datasets/d...   \n",
       "2    https://archive-beta.ics.uci.edu/ml/datasets/a...   \n",
       "3    https://archive-beta.ics.uci.edu/ml/datasets/h...   \n",
       "4    https://archive-beta.ics.uci.edu/ml/datasets/wine   \n",
       "..                                                 ...   \n",
       "586  https://archive-beta.ics.uci.edu/ml/datasets/m...   \n",
       "587  https://archive-beta.ics.uci.edu/ml/datasets/u...   \n",
       "588  https://archive-beta.ics.uci.edu/ml/datasets/p...   \n",
       "589  https://archive-beta.ics.uci.edu/ml/datasets/o...   \n",
       "590  https://archive-beta.ics.uci.edu/ml/datasets/c...   \n",
       "\n",
       "                                                papers  \n",
       "0    [{'title': '$ell_p$-Box ADMM: A Versatile Fram...  \n",
       "1    [{'title': 'A Cooperative Learning Model for t...  \n",
       "2    [{'title': '($k$,$epsilon$)-Anonymity: $k$-Ano...  \n",
       "3    [{'title': 'A Collective Learning Approach for...  \n",
       "4    [{'title': '$k$-POD: A Method for $k$-Means Cl...  \n",
       "..                                                 ...  \n",
       "586                                                 []  \n",
       "587                                                 []  \n",
       "588                                                 []  \n",
       "589                                                 []  \n",
       "590                                                 []  \n",
       "\n",
       "[591 rows x 28 columns]"
      ]
     },
     "execution_count": 6,
     "metadata": {},
     "output_type": "execute_result"
    }
   ],
   "source": [
    "df"
   ]
  },
  {
   "cell_type": "markdown",
   "id": "f7ad4837",
   "metadata": {
    "pycharm": {
     "name": "#%% md\n"
    }
   },
   "source": [
    "## 1. How many total objects (not just records) are in our main dataset extracts for each repository?\n",
    "**Property:** unique_identifier"
   ]
  },
  {
   "cell_type": "code",
   "execution_count": 7,
   "id": "32658730",
   "metadata": {
    "pycharm": {
     "is_executing": true,
     "name": "#%%\n"
    }
   },
   "outputs": [
    {
     "data": {
      "text/plain": [
       "0      https://archive-beta.ics.uci.edu/ml/datasets/iris\n",
       "1      https://archive-beta.ics.uci.edu/ml/datasets/d...\n",
       "2      https://archive-beta.ics.uci.edu/ml/datasets/a...\n",
       "3      https://archive-beta.ics.uci.edu/ml/datasets/h...\n",
       "4      https://archive-beta.ics.uci.edu/ml/datasets/wine\n",
       "                             ...                        \n",
       "586    https://archive-beta.ics.uci.edu/ml/datasets/m...\n",
       "587    https://archive-beta.ics.uci.edu/ml/datasets/u...\n",
       "588    https://archive-beta.ics.uci.edu/ml/datasets/p...\n",
       "589    https://archive-beta.ics.uci.edu/ml/datasets/o...\n",
       "590    https://archive-beta.ics.uci.edu/ml/datasets/c...\n",
       "Name: url, Length: 591, dtype: object"
      ]
     },
     "execution_count": 7,
     "metadata": {},
     "output_type": "execute_result"
    }
   ],
   "source": [
    "ids = df.UCIDatasetsCrosswalk.unique_identifier\n",
    "ids"
   ]
  },
  {
   "cell_type": "code",
   "execution_count": 8,
   "id": "f6de0dce",
   "metadata": {
    "pycharm": {
     "name": "#%%\n"
    }
   },
   "outputs": [
    {
     "data": {
      "text/plain": [
       "583"
      ]
     },
     "execution_count": 8,
     "metadata": {},
     "output_type": "execute_result"
    }
   ],
   "source": [
    "ids.nunique()"
   ]
  },
  {
   "cell_type": "code",
   "execution_count": 9,
   "id": "da5d60d2",
   "metadata": {},
   "outputs": [
    {
     "name": "stdout",
     "output_type": "stream",
     "text": [
      "There are 591 items in the UCI extract, with 583 unique IDs.\n"
     ]
    }
   ],
   "source": [
    "print(f'There are {len(ids)} items in the UCI extract, with {ids.nunique()} unique IDs.')"
   ]
  },
  {
   "cell_type": "code",
   "execution_count": 10,
   "id": "4d371b27",
   "metadata": {},
   "outputs": [
    {
     "data": {
      "text/plain": [
       "https://archive-beta.ics.uci.edu/ml/datasets/divorce+predictors+data+set           2\n",
       "https://archive-beta.ics.uci.edu/ml/datasets/air+quality                           2\n",
       "https://archive-beta.ics.uci.edu/ml/datasets/stock+keeping+units                   2\n",
       "https://archive-beta.ics.uci.edu/ml/datasets/lastfm+asia+social+network            2\n",
       "https://archive-beta.ics.uci.edu/ml/datasets/wave+energy+converters                2\n",
       "                                                                                  ..\n",
       "https://archive-beta.ics.uci.edu/ml/datasets/banknote+authentication               1\n",
       "https://archive-beta.ics.uci.edu/ml/datasets/drug+consumption+quantified           1\n",
       "https://archive-beta.ics.uci.edu/ml/datasets/wikipedia+math+essentials-1           1\n",
       "https://archive-beta.ics.uci.edu/ml/datasets/parkinsons                            1\n",
       "https://archive-beta.ics.uci.edu/ml/datasets/connectionist+bench+nettalk+corpus    1\n",
       "Name: url, Length: 583, dtype: int64"
      ]
     },
     "execution_count": 10,
     "metadata": {},
     "output_type": "execute_result"
    }
   ],
   "source": [
    "#for the most part, each row is a unique object except for some that have 2\n",
    "ids.value_counts()"
   ]
  },
  {
   "cell_type": "code",
   "execution_count": 11,
   "id": "4a6ea36c",
   "metadata": {
    "scrolled": true
   },
   "outputs": [
    {
     "data": {
      "text/html": [
       "<div>\n",
       "<style scoped>\n",
       "    .dataframe tbody tr th:only-of-type {\n",
       "        vertical-align: middle;\n",
       "    }\n",
       "\n",
       "    .dataframe tbody tr th {\n",
       "        vertical-align: top;\n",
       "    }\n",
       "\n",
       "    .dataframe thead th {\n",
       "        text-align: right;\n",
       "    }\n",
       "</style>\n",
       "<table border=\"1\" class=\"dataframe\">\n",
       "  <thead>\n",
       "    <tr style=\"text-align: right;\">\n",
       "      <th></th>\n",
       "      <th>abstract</th>\n",
       "      <th>additional_info</th>\n",
       "      <th>associated_tasks</th>\n",
       "      <th>citation_requests/acknowledgements</th>\n",
       "      <th>creation_purpose</th>\n",
       "      <th>creators</th>\n",
       "      <th>dataset_characteristics</th>\n",
       "      <th>doi</th>\n",
       "      <th>donation_date</th>\n",
       "      <th>files</th>\n",
       "      <th>funders</th>\n",
       "      <th>instances_represent</th>\n",
       "      <th>keywords</th>\n",
       "      <th>license</th>\n",
       "      <th>link_date</th>\n",
       "      <th>missing_value_placeholder</th>\n",
       "      <th>missing_values</th>\n",
       "      <th>num_attributes</th>\n",
       "      <th>num_citations</th>\n",
       "      <th>num_instances</th>\n",
       "      <th>num_views</th>\n",
       "      <th>preprocessing_done</th>\n",
       "      <th>previous_tasks</th>\n",
       "      <th>recommended_data_split</th>\n",
       "      <th>sensitive_data</th>\n",
       "      <th>subject_area</th>\n",
       "      <th>url</th>\n",
       "      <th>papers</th>\n",
       "    </tr>\n",
       "  </thead>\n",
       "  <tbody>\n",
       "    <tr>\n",
       "      <th>166</th>\n",
       "      <td>Participants completed the Personal Informatio...</td>\n",
       "      <td>Provide all relevant information about your da...</td>\n",
       "      <td>Classification</td>\n",
       "      <td>N/A</td>\n",
       "      <td>N/A</td>\n",
       "      <td>[Mustafa Yntem, Kemal Adem, Serhat Klarslan]</td>\n",
       "      <td>Multivariate, Univariate</td>\n",
       "      <td>None</td>\n",
       "      <td>2019-07-24</td>\n",
       "      <td>[ Parent Directory,  divorce.rar]</td>\n",
       "      <td>N/A</td>\n",
       "      <td>1. If one of us apologizes when our discussion...</td>\n",
       "      <td>[N/A]</td>\n",
       "      <td>[This allows for the sharing and adaptation of...</td>\n",
       "      <td>None</td>\n",
       "      <td></td>\n",
       "      <td>True</td>\n",
       "      <td>54.0</td>\n",
       "      <td>1</td>\n",
       "      <td>170</td>\n",
       "      <td>429</td>\n",
       "      <td>N/A</td>\n",
       "      <td>N/A</td>\n",
       "      <td>N/A</td>\n",
       "      <td>N/A</td>\n",
       "      <td>Life</td>\n",
       "      <td>https://archive-beta.ics.uci.edu/ml/datasets/d...</td>\n",
       "      <td>[{'title': 'Paper', 'authors': [], 'year': '19...</td>\n",
       "    </tr>\n",
       "    <tr>\n",
       "      <th>295</th>\n",
       "      <td>Participants completed the Personal Informatio...</td>\n",
       "      <td>Provide all relevant information about your da...</td>\n",
       "      <td>Classification</td>\n",
       "      <td>N/A</td>\n",
       "      <td>N/A</td>\n",
       "      <td>[Mustafa Yntem, Kemal Adem, Serhat Klarslan]</td>\n",
       "      <td>Multivariate, Univariate</td>\n",
       "      <td>None</td>\n",
       "      <td>2019-07-24</td>\n",
       "      <td>[ Parent Directory,  divorce.rar]</td>\n",
       "      <td>N/A</td>\n",
       "      <td>1. If one of us apologizes when our discussion...</td>\n",
       "      <td>[N/A]</td>\n",
       "      <td>[This allows for the sharing and adaptation of...</td>\n",
       "      <td>None</td>\n",
       "      <td></td>\n",
       "      <td>True</td>\n",
       "      <td>54.0</td>\n",
       "      <td>1</td>\n",
       "      <td>170</td>\n",
       "      <td>430</td>\n",
       "      <td>N/A</td>\n",
       "      <td>N/A</td>\n",
       "      <td>N/A</td>\n",
       "      <td>N/A</td>\n",
       "      <td>Life</td>\n",
       "      <td>https://archive-beta.ics.uci.edu/ml/datasets/d...</td>\n",
       "      <td>[{'title': 'Paper', 'authors': [], 'year': '19...</td>\n",
       "    </tr>\n",
       "  </tbody>\n",
       "</table>\n",
       "</div>"
      ],
      "text/plain": [
       "                                              abstract  \\\n",
       "166  Participants completed the Personal Informatio...   \n",
       "295  Participants completed the Personal Informatio...   \n",
       "\n",
       "                                       additional_info associated_tasks  \\\n",
       "166  Provide all relevant information about your da...   Classification   \n",
       "295  Provide all relevant information about your da...   Classification   \n",
       "\n",
       "    citation_requests/acknowledgements creation_purpose  \\\n",
       "166                                N/A              N/A   \n",
       "295                                N/A              N/A   \n",
       "\n",
       "                                         creators   dataset_characteristics  \\\n",
       "166  [Mustafa Yntem, Kemal Adem, Serhat Klarslan]  Multivariate, Univariate   \n",
       "295  [Mustafa Yntem, Kemal Adem, Serhat Klarslan]  Multivariate, Univariate   \n",
       "\n",
       "      doi donation_date                              files funders  \\\n",
       "166  None    2019-07-24  [ Parent Directory,  divorce.rar]     N/A   \n",
       "295  None    2019-07-24  [ Parent Directory,  divorce.rar]     N/A   \n",
       "\n",
       "                                   instances_represent keywords  \\\n",
       "166  1. If one of us apologizes when our discussion...    [N/A]   \n",
       "295  1. If one of us apologizes when our discussion...    [N/A]   \n",
       "\n",
       "                                               license link_date  \\\n",
       "166  [This allows for the sharing and adaptation of...      None   \n",
       "295  [This allows for the sharing and adaptation of...      None   \n",
       "\n",
       "    missing_value_placeholder missing_values  num_attributes  num_citations  \\\n",
       "166                                     True            54.0              1   \n",
       "295                                     True            54.0              1   \n",
       "\n",
       "     num_instances  num_views preprocessing_done previous_tasks  \\\n",
       "166            170        429                N/A            N/A   \n",
       "295            170        430                N/A            N/A   \n",
       "\n",
       "    recommended_data_split sensitive_data subject_area  \\\n",
       "166                    N/A            N/A         Life   \n",
       "295                    N/A            N/A         Life   \n",
       "\n",
       "                                                   url  \\\n",
       "166  https://archive-beta.ics.uci.edu/ml/datasets/d...   \n",
       "295  https://archive-beta.ics.uci.edu/ml/datasets/d...   \n",
       "\n",
       "                                                papers  \n",
       "166  [{'title': 'Paper', 'authors': [], 'year': '19...  \n",
       "295  [{'title': 'Paper', 'authors': [], 'year': '19...  "
      ]
     },
     "execution_count": 11,
     "metadata": {},
     "output_type": "execute_result"
    }
   ],
   "source": [
    "#look into these duplicate IDs\n",
    "uci_test_dupes = df.loc[df['url'] == \"https://archive-beta.ics.uci.edu/ml/datasets/divorce+predictors+data+set\"]\n",
    "uci_test_dupes"
   ]
  },
  {
   "cell_type": "code",
   "execution_count": 12,
   "id": "a6216b23",
   "metadata": {},
   "outputs": [
    {
     "name": "stdout",
     "output_type": "stream",
     "text": [
      "False\n"
     ]
    }
   ],
   "source": [
    "#check if they are identical\n",
    "uci1 = uci_test_dupes.iloc[0]\n",
    "uci2 = uci_test_dupes.iloc[1]\n",
    "print(uci1.equals(uci2))"
   ]
  },
  {
   "cell_type": "code",
   "execution_count": 13,
   "id": "1ed94862",
   "metadata": {
    "scrolled": true
   },
   "outputs": [
    {
     "data": {
      "text/plain": [
       "abstract                               True\n",
       "additional_info                        True\n",
       "associated_tasks                       True\n",
       "citation_requests/acknowledgements     True\n",
       "creation_purpose                       True\n",
       "creators                               True\n",
       "dataset_characteristics                True\n",
       "doi                                   False\n",
       "donation_date                          True\n",
       "files                                  True\n",
       "funders                                True\n",
       "instances_represent                    True\n",
       "keywords                               True\n",
       "license                                True\n",
       "link_date                             False\n",
       "missing_value_placeholder              True\n",
       "missing_values                         True\n",
       "num_attributes                         True\n",
       "num_citations                          True\n",
       "num_instances                          True\n",
       "num_views                             False\n",
       "preprocessing_done                     True\n",
       "previous_tasks                         True\n",
       "recommended_data_split                 True\n",
       "sensitive_data                         True\n",
       "subject_area                           True\n",
       "url                                    True\n",
       "papers                                 True\n",
       "dtype: bool"
      ]
     },
     "execution_count": 13,
     "metadata": {},
     "output_type": "execute_result"
    }
   ],
   "source": [
    "#find where instances differ\n",
    "uci_diffs = uci1 == uci2\n",
    "uci_diffs"
   ]
  },
  {
   "cell_type": "code",
   "execution_count": 14,
   "id": "f85e744c",
   "metadata": {},
   "outputs": [
    {
     "data": {
      "text/plain": [
       "doi          False\n",
       "link_date    False\n",
       "num_views    False\n",
       "dtype: bool"
      ]
     },
     "execution_count": 14,
     "metadata": {},
     "output_type": "execute_result"
    }
   ],
   "source": [
    "index_diffs = uci_diffs[uci_diffs == False]\n",
    "index_diffs"
   ]
  },
  {
   "cell_type": "code",
   "execution_count": 15,
   "id": "eec630cc",
   "metadata": {},
   "outputs": [
    {
     "data": {
      "text/plain": [
       "['doi', 'link_date', 'num_views']"
      ]
     },
     "execution_count": 15,
     "metadata": {},
     "output_type": "execute_result"
    }
   ],
   "source": [
    "index_diffs_str = index_diffs.index.tolist()\n",
    "index_diffs_str"
   ]
  },
  {
   "cell_type": "code",
   "execution_count": 16,
   "id": "a0baad12",
   "metadata": {
    "scrolled": true
   },
   "outputs": [
    {
     "data": {
      "text/plain": [
       "doi          None\n",
       "link_date    None\n",
       "num_views     429\n",
       "Name: 166, dtype: object"
      ]
     },
     "execution_count": 16,
     "metadata": {},
     "output_type": "execute_result"
    }
   ],
   "source": [
    "uci1[index_diffs_str]"
   ]
  },
  {
   "cell_type": "code",
   "execution_count": 17,
   "id": "7195cd45",
   "metadata": {},
   "outputs": [
    {
     "data": {
      "text/plain": [
       "doi          None\n",
       "link_date    None\n",
       "num_views     430\n",
       "Name: 295, dtype: object"
      ]
     },
     "execution_count": 17,
     "metadata": {},
     "output_type": "execute_result"
    }
   ],
   "source": [
    "uci2[index_diffs_str]"
   ]
  },
  {
   "cell_type": "code",
   "execution_count": 18,
   "id": "7f341c1a",
   "metadata": {},
   "outputs": [],
   "source": [
    "#number of views is only difference (may be artifact of web scraping)\n",
    "#decision: select one with more views, assuming that it is more current\n",
    "#(not seeing large difference in views, so downstream effects on calculations will be minimal)"
   ]
  },
  {
   "cell_type": "code",
   "execution_count": 19,
   "id": "d55ef3ab",
   "metadata": {},
   "outputs": [
    {
     "data": {
      "text/html": [
       "<div>\n",
       "<style scoped>\n",
       "    .dataframe tbody tr th:only-of-type {\n",
       "        vertical-align: middle;\n",
       "    }\n",
       "\n",
       "    .dataframe tbody tr th {\n",
       "        vertical-align: top;\n",
       "    }\n",
       "\n",
       "    .dataframe thead th {\n",
       "        text-align: right;\n",
       "    }\n",
       "</style>\n",
       "<table border=\"1\" class=\"dataframe\">\n",
       "  <thead>\n",
       "    <tr style=\"text-align: right;\">\n",
       "      <th></th>\n",
       "      <th>url</th>\n",
       "    </tr>\n",
       "  </thead>\n",
       "  <tbody>\n",
       "    <tr>\n",
       "      <th>https://archive-beta.ics.uci.edu/ml/datasets/divorce+predictors+data+set</th>\n",
       "      <td>2</td>\n",
       "    </tr>\n",
       "    <tr>\n",
       "      <th>https://archive-beta.ics.uci.edu/ml/datasets/air+quality</th>\n",
       "      <td>2</td>\n",
       "    </tr>\n",
       "    <tr>\n",
       "      <th>https://archive-beta.ics.uci.edu/ml/datasets/stock+keeping+units</th>\n",
       "      <td>2</td>\n",
       "    </tr>\n",
       "    <tr>\n",
       "      <th>https://archive-beta.ics.uci.edu/ml/datasets/lastfm+asia+social+network</th>\n",
       "      <td>2</td>\n",
       "    </tr>\n",
       "    <tr>\n",
       "      <th>https://archive-beta.ics.uci.edu/ml/datasets/wave+energy+converters</th>\n",
       "      <td>2</td>\n",
       "    </tr>\n",
       "    <tr>\n",
       "      <th>https://archive-beta.ics.uci.edu/ml/datasets/iranian+churn+dataset</th>\n",
       "      <td>2</td>\n",
       "    </tr>\n",
       "    <tr>\n",
       "      <th>https://archive-beta.ics.uci.edu/ml/datasets/unmanned+aerial+vehicle+uav+intrusion+detection</th>\n",
       "      <td>2</td>\n",
       "    </tr>\n",
       "    <tr>\n",
       "      <th>https://archive-beta.ics.uci.edu/ml/datasets/bar+crawl+detecting+heavy+drinking</th>\n",
       "      <td>2</td>\n",
       "    </tr>\n",
       "  </tbody>\n",
       "</table>\n",
       "</div>"
      ],
      "text/plain": [
       "                                                    url\n",
       "https://archive-beta.ics.uci.edu/ml/datasets/di...    2\n",
       "https://archive-beta.ics.uci.edu/ml/datasets/ai...    2\n",
       "https://archive-beta.ics.uci.edu/ml/datasets/st...    2\n",
       "https://archive-beta.ics.uci.edu/ml/datasets/la...    2\n",
       "https://archive-beta.ics.uci.edu/ml/datasets/wa...    2\n",
       "https://archive-beta.ics.uci.edu/ml/datasets/ir...    2\n",
       "https://archive-beta.ics.uci.edu/ml/datasets/un...    2\n",
       "https://archive-beta.ics.uci.edu/ml/datasets/ba...    2"
      ]
     },
     "execution_count": 19,
     "metadata": {},
     "output_type": "execute_result"
    }
   ],
   "source": [
    "#subset to view only the duplicate ids\n",
    "dupes_all = ids.value_counts().to_frame()\n",
    "dupes_all = dupes_all[dupes_all['url'] == 2]\n",
    "dupes_all"
   ]
  },
  {
   "cell_type": "code",
   "execution_count": 20,
   "id": "9f5482a9",
   "metadata": {},
   "outputs": [
    {
     "data": {
      "text/plain": [
       "['https://archive-beta.ics.uci.edu/ml/datasets/divorce+predictors+data+set',\n",
       " 'https://archive-beta.ics.uci.edu/ml/datasets/air+quality',\n",
       " 'https://archive-beta.ics.uci.edu/ml/datasets/stock+keeping+units',\n",
       " 'https://archive-beta.ics.uci.edu/ml/datasets/lastfm+asia+social+network',\n",
       " 'https://archive-beta.ics.uci.edu/ml/datasets/wave+energy+converters',\n",
       " 'https://archive-beta.ics.uci.edu/ml/datasets/iranian+churn+dataset',\n",
       " 'https://archive-beta.ics.uci.edu/ml/datasets/unmanned+aerial+vehicle+uav+intrusion+detection',\n",
       " 'https://archive-beta.ics.uci.edu/ml/datasets/bar+crawl+detecting+heavy+drinking']"
      ]
     },
     "execution_count": 20,
     "metadata": {},
     "output_type": "execute_result"
    }
   ],
   "source": [
    "dupes_all_ids = dupes_all.index.to_list()\n",
    "dupes_all_ids"
   ]
  },
  {
   "cell_type": "code",
   "execution_count": 21,
   "id": "ddc0fb0c",
   "metadata": {
    "scrolled": true
   },
   "outputs": [
    {
     "data": {
      "text/html": [
       "<div>\n",
       "<style scoped>\n",
       "    .dataframe tbody tr th:only-of-type {\n",
       "        vertical-align: middle;\n",
       "    }\n",
       "\n",
       "    .dataframe tbody tr th {\n",
       "        vertical-align: top;\n",
       "    }\n",
       "\n",
       "    .dataframe thead th {\n",
       "        text-align: right;\n",
       "    }\n",
       "</style>\n",
       "<table border=\"1\" class=\"dataframe\">\n",
       "  <thead>\n",
       "    <tr style=\"text-align: right;\">\n",
       "      <th></th>\n",
       "      <th>url</th>\n",
       "      <th>num_views</th>\n",
       "    </tr>\n",
       "  </thead>\n",
       "  <tbody>\n",
       "    <tr>\n",
       "      <th>120</th>\n",
       "      <td>https://archive-beta.ics.uci.edu/ml/datasets/a...</td>\n",
       "      <td>1450</td>\n",
       "    </tr>\n",
       "    <tr>\n",
       "      <th>277</th>\n",
       "      <td>https://archive-beta.ics.uci.edu/ml/datasets/a...</td>\n",
       "      <td>1451</td>\n",
       "    </tr>\n",
       "    <tr>\n",
       "      <th>143</th>\n",
       "      <td>https://archive-beta.ics.uci.edu/ml/datasets/b...</td>\n",
       "      <td>656</td>\n",
       "    </tr>\n",
       "    <tr>\n",
       "      <th>386</th>\n",
       "      <td>https://archive-beta.ics.uci.edu/ml/datasets/b...</td>\n",
       "      <td>657</td>\n",
       "    </tr>\n",
       "    <tr>\n",
       "      <th>166</th>\n",
       "      <td>https://archive-beta.ics.uci.edu/ml/datasets/d...</td>\n",
       "      <td>429</td>\n",
       "    </tr>\n",
       "    <tr>\n",
       "      <th>295</th>\n",
       "      <td>https://archive-beta.ics.uci.edu/ml/datasets/d...</td>\n",
       "      <td>430</td>\n",
       "    </tr>\n",
       "    <tr>\n",
       "      <th>160</th>\n",
       "      <td>https://archive-beta.ics.uci.edu/ml/datasets/i...</td>\n",
       "      <td>488</td>\n",
       "    </tr>\n",
       "    <tr>\n",
       "      <th>389</th>\n",
       "      <td>https://archive-beta.ics.uci.edu/ml/datasets/i...</td>\n",
       "      <td>489</td>\n",
       "    </tr>\n",
       "    <tr>\n",
       "      <th>323</th>\n",
       "      <td>https://archive-beta.ics.uci.edu/ml/datasets/l...</td>\n",
       "      <td>124</td>\n",
       "    </tr>\n",
       "    <tr>\n",
       "      <th>526</th>\n",
       "      <td>https://archive-beta.ics.uci.edu/ml/datasets/l...</td>\n",
       "      <td>125</td>\n",
       "    </tr>\n",
       "    <tr>\n",
       "      <th>276</th>\n",
       "      <td>https://archive-beta.ics.uci.edu/ml/datasets/s...</td>\n",
       "      <td>162</td>\n",
       "    </tr>\n",
       "    <tr>\n",
       "      <th>561</th>\n",
       "      <td>https://archive-beta.ics.uci.edu/ml/datasets/s...</td>\n",
       "      <td>163</td>\n",
       "    </tr>\n",
       "    <tr>\n",
       "      <th>194</th>\n",
       "      <td>https://archive-beta.ics.uci.edu/ml/datasets/u...</td>\n",
       "      <td>307</td>\n",
       "    </tr>\n",
       "    <tr>\n",
       "      <th>455</th>\n",
       "      <td>https://archive-beta.ics.uci.edu/ml/datasets/u...</td>\n",
       "      <td>308</td>\n",
       "    </tr>\n",
       "    <tr>\n",
       "      <th>348</th>\n",
       "      <td>https://archive-beta.ics.uci.edu/ml/datasets/w...</td>\n",
       "      <td>99</td>\n",
       "    </tr>\n",
       "    <tr>\n",
       "      <th>533</th>\n",
       "      <td>https://archive-beta.ics.uci.edu/ml/datasets/w...</td>\n",
       "      <td>100</td>\n",
       "    </tr>\n",
       "  </tbody>\n",
       "</table>\n",
       "</div>"
      ],
      "text/plain": [
       "                                                   url  num_views\n",
       "120  https://archive-beta.ics.uci.edu/ml/datasets/a...       1450\n",
       "277  https://archive-beta.ics.uci.edu/ml/datasets/a...       1451\n",
       "143  https://archive-beta.ics.uci.edu/ml/datasets/b...        656\n",
       "386  https://archive-beta.ics.uci.edu/ml/datasets/b...        657\n",
       "166  https://archive-beta.ics.uci.edu/ml/datasets/d...        429\n",
       "295  https://archive-beta.ics.uci.edu/ml/datasets/d...        430\n",
       "160  https://archive-beta.ics.uci.edu/ml/datasets/i...        488\n",
       "389  https://archive-beta.ics.uci.edu/ml/datasets/i...        489\n",
       "323  https://archive-beta.ics.uci.edu/ml/datasets/l...        124\n",
       "526  https://archive-beta.ics.uci.edu/ml/datasets/l...        125\n",
       "276  https://archive-beta.ics.uci.edu/ml/datasets/s...        162\n",
       "561  https://archive-beta.ics.uci.edu/ml/datasets/s...        163\n",
       "194  https://archive-beta.ics.uci.edu/ml/datasets/u...        307\n",
       "455  https://archive-beta.ics.uci.edu/ml/datasets/u...        308\n",
       "348  https://archive-beta.ics.uci.edu/ml/datasets/w...         99\n",
       "533  https://archive-beta.ics.uci.edu/ml/datasets/w...        100"
      ]
     },
     "execution_count": 21,
     "metadata": {},
     "output_type": "execute_result"
    }
   ],
   "source": [
    "#confirm that number of views is off by 1 for these duplicates\n",
    "dupes_df = df[df.url.isin(dupes_all_ids)].sort_values(['url', 'num_views'])\n",
    "dupes_df[['url', 'num_views']]"
   ]
  },
  {
   "cell_type": "code",
   "execution_count": 22,
   "id": "c73209a6",
   "metadata": {},
   "outputs": [
    {
     "data": {
      "text/html": [
       "<div>\n",
       "<style scoped>\n",
       "    .dataframe tbody tr th:only-of-type {\n",
       "        vertical-align: middle;\n",
       "    }\n",
       "\n",
       "    .dataframe tbody tr th {\n",
       "        vertical-align: top;\n",
       "    }\n",
       "\n",
       "    .dataframe thead th {\n",
       "        text-align: right;\n",
       "    }\n",
       "</style>\n",
       "<table border=\"1\" class=\"dataframe\">\n",
       "  <thead>\n",
       "    <tr style=\"text-align: right;\">\n",
       "      <th></th>\n",
       "      <th>url</th>\n",
       "      <th>num_views</th>\n",
       "    </tr>\n",
       "  </thead>\n",
       "  <tbody>\n",
       "    <tr>\n",
       "      <th>0</th>\n",
       "      <td>https://archive-beta.ics.uci.edu/ml/datasets/2...</td>\n",
       "      <td>683</td>\n",
       "    </tr>\n",
       "    <tr>\n",
       "      <th>1</th>\n",
       "      <td>https://archive-beta.ics.uci.edu/ml/datasets/3...</td>\n",
       "      <td>350</td>\n",
       "    </tr>\n",
       "    <tr>\n",
       "      <th>2</th>\n",
       "      <td>https://archive-beta.ics.uci.edu/ml/datasets/3...</td>\n",
       "      <td>502</td>\n",
       "    </tr>\n",
       "    <tr>\n",
       "      <th>3</th>\n",
       "      <td>https://archive-beta.ics.uci.edu/ml/datasets/a...</td>\n",
       "      <td>335</td>\n",
       "    </tr>\n",
       "    <tr>\n",
       "      <th>4</th>\n",
       "      <td>https://archive-beta.ics.uci.edu/ml/datasets/a...</td>\n",
       "      <td>117</td>\n",
       "    </tr>\n",
       "    <tr>\n",
       "      <th>...</th>\n",
       "      <td>...</td>\n",
       "      <td>...</td>\n",
       "    </tr>\n",
       "    <tr>\n",
       "      <th>578</th>\n",
       "      <td>https://archive-beta.ics.uci.edu/ml/datasets/y...</td>\n",
       "      <td>42</td>\n",
       "    </tr>\n",
       "    <tr>\n",
       "      <th>579</th>\n",
       "      <td>https://archive-beta.ics.uci.edu/ml/datasets/y...</td>\n",
       "      <td>148</td>\n",
       "    </tr>\n",
       "    <tr>\n",
       "      <th>580</th>\n",
       "      <td>https://archive-beta.ics.uci.edu/ml/datasets/y...</td>\n",
       "      <td>215</td>\n",
       "    </tr>\n",
       "    <tr>\n",
       "      <th>581</th>\n",
       "      <td>https://archive-beta.ics.uci.edu/ml/datasets/z...</td>\n",
       "      <td>24</td>\n",
       "    </tr>\n",
       "    <tr>\n",
       "      <th>582</th>\n",
       "      <td>https://archive-beta.ics.uci.edu/ml/datasets/zoo</td>\n",
       "      <td>24200</td>\n",
       "    </tr>\n",
       "  </tbody>\n",
       "</table>\n",
       "<p>583 rows × 2 columns</p>\n",
       "</div>"
      ],
      "text/plain": [
       "                                                   url  num_views\n",
       "0    https://archive-beta.ics.uci.edu/ml/datasets/2...        683\n",
       "1    https://archive-beta.ics.uci.edu/ml/datasets/3...        350\n",
       "2    https://archive-beta.ics.uci.edu/ml/datasets/3...        502\n",
       "3    https://archive-beta.ics.uci.edu/ml/datasets/a...        335\n",
       "4    https://archive-beta.ics.uci.edu/ml/datasets/a...        117\n",
       "..                                                 ...        ...\n",
       "578  https://archive-beta.ics.uci.edu/ml/datasets/y...         42\n",
       "579  https://archive-beta.ics.uci.edu/ml/datasets/y...        148\n",
       "580  https://archive-beta.ics.uci.edu/ml/datasets/y...        215\n",
       "581  https://archive-beta.ics.uci.edu/ml/datasets/z...         24\n",
       "582   https://archive-beta.ics.uci.edu/ml/datasets/zoo      24200\n",
       "\n",
       "[583 rows x 2 columns]"
      ]
     },
     "execution_count": 22,
     "metadata": {},
     "output_type": "execute_result"
    }
   ],
   "source": [
    "#group by url, sort descending by num_views, and select second within group\n",
    "df_use = df.sort_values(['num_views'], ascending = False).groupby('url').nth(0).reset_index()\n",
    "df_use[['url', 'num_views']]"
   ]
  },
  {
   "cell_type": "code",
   "execution_count": 23,
   "id": "0a1f7b8f",
   "metadata": {
    "scrolled": true
   },
   "outputs": [
    {
     "data": {
      "text/html": [
       "<div>\n",
       "<style scoped>\n",
       "    .dataframe tbody tr th:only-of-type {\n",
       "        vertical-align: middle;\n",
       "    }\n",
       "\n",
       "    .dataframe tbody tr th {\n",
       "        vertical-align: top;\n",
       "    }\n",
       "\n",
       "    .dataframe thead th {\n",
       "        text-align: right;\n",
       "    }\n",
       "</style>\n",
       "<table border=\"1\" class=\"dataframe\">\n",
       "  <thead>\n",
       "    <tr style=\"text-align: right;\">\n",
       "      <th></th>\n",
       "      <th>url</th>\n",
       "      <th>num_views</th>\n",
       "    </tr>\n",
       "  </thead>\n",
       "  <tbody>\n",
       "    <tr>\n",
       "      <th>17</th>\n",
       "      <td>https://archive-beta.ics.uci.edu/ml/datasets/a...</td>\n",
       "      <td>1451</td>\n",
       "    </tr>\n",
       "    <tr>\n",
       "      <th>54</th>\n",
       "      <td>https://archive-beta.ics.uci.edu/ml/datasets/b...</td>\n",
       "      <td>657</td>\n",
       "    </tr>\n",
       "    <tr>\n",
       "      <th>160</th>\n",
       "      <td>https://archive-beta.ics.uci.edu/ml/datasets/d...</td>\n",
       "      <td>430</td>\n",
       "    </tr>\n",
       "    <tr>\n",
       "      <th>280</th>\n",
       "      <td>https://archive-beta.ics.uci.edu/ml/datasets/i...</td>\n",
       "      <td>489</td>\n",
       "    </tr>\n",
       "    <tr>\n",
       "      <th>297</th>\n",
       "      <td>https://archive-beta.ics.uci.edu/ml/datasets/l...</td>\n",
       "      <td>125</td>\n",
       "    </tr>\n",
       "    <tr>\n",
       "      <th>498</th>\n",
       "      <td>https://archive-beta.ics.uci.edu/ml/datasets/s...</td>\n",
       "      <td>163</td>\n",
       "    </tr>\n",
       "    <tr>\n",
       "      <th>540</th>\n",
       "      <td>https://archive-beta.ics.uci.edu/ml/datasets/u...</td>\n",
       "      <td>308</td>\n",
       "    </tr>\n",
       "    <tr>\n",
       "      <th>556</th>\n",
       "      <td>https://archive-beta.ics.uci.edu/ml/datasets/w...</td>\n",
       "      <td>100</td>\n",
       "    </tr>\n",
       "  </tbody>\n",
       "</table>\n",
       "</div>"
      ],
      "text/plain": [
       "                                                   url  num_views\n",
       "17   https://archive-beta.ics.uci.edu/ml/datasets/a...       1451\n",
       "54   https://archive-beta.ics.uci.edu/ml/datasets/b...        657\n",
       "160  https://archive-beta.ics.uci.edu/ml/datasets/d...        430\n",
       "280  https://archive-beta.ics.uci.edu/ml/datasets/i...        489\n",
       "297  https://archive-beta.ics.uci.edu/ml/datasets/l...        125\n",
       "498  https://archive-beta.ics.uci.edu/ml/datasets/s...        163\n",
       "540  https://archive-beta.ics.uci.edu/ml/datasets/u...        308\n",
       "556  https://archive-beta.ics.uci.edu/ml/datasets/w...        100"
      ]
     },
     "execution_count": 23,
     "metadata": {},
     "output_type": "execute_result"
    }
   ],
   "source": [
    "#check output\n",
    "df_use[df_use.url.isin(dupes_all_ids)].sort_values(['url', 'num_views'])[['url','num_views']]"
   ]
  },
  {
   "cell_type": "code",
   "execution_count": 24,
   "id": "0a938f9f",
   "metadata": {},
   "outputs": [],
   "source": [
    "#for matching other notebooks, rename 'df_use' back to 'df'\n",
    "df = df_use"
   ]
  },
  {
   "cell_type": "code",
   "execution_count": 25,
   "id": "645763e6",
   "metadata": {},
   "outputs": [
    {
     "data": {
      "text/plain": [
       "583"
      ]
     },
     "execution_count": 25,
     "metadata": {},
     "output_type": "execute_result"
    }
   ],
   "source": [
    "len(df)"
   ]
  },
  {
   "cell_type": "code",
   "execution_count": 26,
   "id": "727eae16",
   "metadata": {},
   "outputs": [
    {
     "name": "stdout",
     "output_type": "stream",
     "text": [
      "There are 583 items in the UCI extract after removing duplicates, with 583 unique IDs.\n"
     ]
    }
   ],
   "source": [
    "ids = df.UCIDatasetsCrosswalk.unique_identifier\n",
    "print(f'There are {len(ids)} items in the UCI extract after removing duplicates, with {ids.nunique()} unique IDs.')"
   ]
  },
  {
   "cell_type": "code",
   "execution_count": 27,
   "id": "3571c4ef",
   "metadata": {},
   "outputs": [],
   "source": [
    "#For UCI, each row is an object, with file components in a list in a field within row"
   ]
  },
  {
   "cell_type": "markdown",
   "id": "d2e6eae0",
   "metadata": {
    "pycharm": {
     "name": "#%% md\n"
    }
   },
   "source": [
    "## 2. See the \"Licenses offered\" tab in /Working documents/Licenses sheet for list of licenses by repo.\n",
    "\n",
    "## Given the type(s) of license(s) offered by the repo, how many of each type is assigned?\n",
    "**Property:** License"
   ]
  },
  {
   "cell_type": "code",
   "execution_count": 28,
   "id": "9e988cee",
   "metadata": {
    "pycharm": {
     "name": "#%%\n"
    }
   },
   "outputs": [
    {
     "data": {
      "text/plain": [
       "0      [This allows for the sharing and adaptation of...\n",
       "1      [This allows for the sharing and adaptation of...\n",
       "2      [This allows for the sharing and adaptation of...\n",
       "3      [This allows for the sharing and adaptation of...\n",
       "4      [This allows for the sharing and adaptation of...\n",
       "                             ...                        \n",
       "578    [This allows for the sharing and adaptation of...\n",
       "579    [This allows for the sharing and adaptation of...\n",
       "580    [This allows for the sharing and adaptation of...\n",
       "581    [This allows for the sharing and adaptation of...\n",
       "582    [This allows for the sharing and adaptation of...\n",
       "Name: license, Length: 583, dtype: object"
      ]
     },
     "execution_count": 28,
     "metadata": {},
     "output_type": "execute_result"
    }
   ],
   "source": [
    "licenses = df.UCIDatasetsCrosswalk.license\n",
    "licenses"
   ]
  },
  {
   "cell_type": "code",
   "execution_count": 29,
   "id": "6f947657",
   "metadata": {
    "scrolled": true
   },
   "outputs": [
    {
     "data": {
      "text/html": [
       "<div>\n",
       "<style scoped>\n",
       "    .dataframe tbody tr th:only-of-type {\n",
       "        vertical-align: middle;\n",
       "    }\n",
       "\n",
       "    .dataframe tbody tr th {\n",
       "        vertical-align: top;\n",
       "    }\n",
       "\n",
       "    .dataframe thead th {\n",
       "        text-align: right;\n",
       "    }\n",
       "</style>\n",
       "<table border=\"1\" class=\"dataframe\">\n",
       "  <thead>\n",
       "    <tr style=\"text-align: right;\">\n",
       "      <th></th>\n",
       "      <th>license</th>\n",
       "      <th>percent</th>\n",
       "    </tr>\n",
       "  </thead>\n",
       "  <tbody>\n",
       "    <tr>\n",
       "      <th>[This allows for the sharing and adaptation of the datasets for any purpose, provided that the appropriate credit is given.]</th>\n",
       "      <td>576</td>\n",
       "      <td>98.799314</td>\n",
       "    </tr>\n",
       "    <tr>\n",
       "      <th>[Go to linked dataset for licensing information]</th>\n",
       "      <td>5</td>\n",
       "      <td>0.857633</td>\n",
       "    </tr>\n",
       "    <tr>\n",
       "      <th>[Additional Information, This file is part of APS Failure and Operational Data for Scania Trucks.\\n\\nCopyright (c) &lt;2016&gt; &lt;Scania CV AB&gt;\\n\\nThis program (APS Failure and Operational Data for Scania Trucks) is \\nfree software: you can redistribute it and/or modify\\nit under the terms of the GNU General Public License as published by\\nthe Free Software Foundation, either version 3 of the License, or\\n(at your option) any later version.\\n\\nThis program is distributed in the hope that it will be useful,\\nbut WITHOUT ANY WARRANTY; without even the implied warranty of\\nMERCHANTABILITY or FITNESS FOR A PARTICULAR PURPOSE.  See the\\nGNU General Public License for more details.\\n\\nYou should have received a copy of the GNU General Public License\\nalong with this program.  If not, see &lt;http://www.gnu.org/licenses/&gt;.\\n\\n------------------------------------------------------------------------\\n\\n1. Title: APS Failure at Scania Trucks\\n\\n2. Source Information\\n   -- Creator: Scania CV AB\\n               VagnmakarvÃ¤gen 1 \\n               151 32 SÃ¶dertÃ¤lje \\n               Stockholm\\n               Sweden \\n   -- Donor:   Tony Lindgren (tony@dsv.su.se) and Jonas Biteus (jonas.biteus@scania.com)\\n   -- Date:    September, 2016\\n \\n3. Past Usage:\\n   Industrial Challenge 2016 at The 15th International Symposium on Intelligent Data Analysis (IDA) \\n   -- Results:         \\n     The top three contestants                                                | Score | Number of Type 1 faults | Number of Type 2 faults\\n     ------------------------------------------------------------------------------------------------------------------------------------\\n     Camila F. Costa and Mario A. Nascimento                                  | 9920  | 542                     | 9\\n     Christopher Gondek, Daniel Hafner and Oliver R. Sampson                  | 10900 | 490                     | 12\\n     Sumeet Garnaik, Sushovan Das, Rama Syamala Sreepada and Bidyut Kr. Patra | 11480 | 398                     | 15\\n\\n4. Relevant Information:\\n   -- Introduction\\n     The dataset consists of data collected from heavy Scania \\n     trucks in everyday usage. The system in focus is the \\n     Air Pressure system (APS) which generates pressurised \\n     air that are utilized in various functions in a truck, \\n     such as braking and gear changes. The datasets' \\n     positive class consists of component failures \\n     for a specific component of the APS system. \\n     The negative class consists of trucks with failures \\n     for components not related to the APS. The data consists \\n     of a subset of all available data, selected by experts. \\n\\n   -- Challenge metric  \\n\\n     Cost-metric of miss-classification:\\n\\n     Predicted class |      True class       |\\n                     |    pos    |    neg    |\\n     -----------------------------------------\\n      pos            |     -     |  Cost_1   |\\n     -----------------------------------------\\n      neg            |  Cost_2   |     -     |\\n     -----------------------------------------\\n     Cost_1 = 10 and cost_2 = 500\\n\\n     The total cost of a prediction model the sum of 'Cost_1' \\n     multiplied by the number of Instances with type 1 failure \\n     and 'Cost_2' with the number of instances with type 2 failure, \\n     resulting in a 'Total_cost'.\\n\\n     In this case Cost_1 refers to the cost that an unnessecary \\n     check needs to be done by an mechanic at an workshop, while \\n     Cost_2 refer to the cost of missing a faulty truck, \\n     which may cause a breakdown.\\n\\n     Total_cost = Cost_1*No_Instances + Cost_2*No_Instances.\\n\\n5. Number of Instances: \\n     The training set contains 60000 examples in total in which \\n     59000 belong to the negative class and 1000 positive class. \\n     The test set contains 16000 examples. \\n\\n6. Number of Attributes: 171 \\n\\n7. Attribute Information:\\n   The attribute names of the data have been anonymized for \\n   proprietary reasons. It consists of both single numerical \\n   counters and histograms consisting of bins with different \\n   conditions. Typically the histograms have open-ended \\n   conditions at each end. For example if we measuring \\n   the ambient temperature 'T' then the histogram could \\n   be defined with 4 bins where: \\n\\n   bin 1 collect values for temperature T &lt; -20\\n   bin 2 collect values for temperature T &gt;= -20 and T &lt; 0     \\n   bin 3 collect values for temperature T &gt;= 0 and T &lt; 20  \\n   bin 4 collect values for temperature T &gt; 20 \\n\\n   |  b1  |  b2  |  b3  |  b4  |   \\n   ----------------------------- \\n         -20     0      20\\n\\n  The attributes are as follows: class, then \\n  anonymized operational data. The operational data have \\n  an identifier and a bin id, like 'Identifier_Bin'.\\n  In total there are 171 attributes, of which 7 are \\n  histogram variabels. Missing values are denoted by 'na'.]</th>\n",
       "      <td>2</td>\n",
       "      <td>0.343053</td>\n",
       "    </tr>\n",
       "  </tbody>\n",
       "</table>\n",
       "</div>"
      ],
      "text/plain": [
       "                                                    license    percent\n",
       "[This allows for the sharing and adaptation of ...      576  98.799314\n",
       "[Go to linked dataset for licensing information]          5   0.857633\n",
       "[Additional Information, This file is part of A...        2   0.343053"
      ]
     },
     "execution_count": 29,
     "metadata": {},
     "output_type": "execute_result"
    }
   ],
   "source": [
    "license_counts = licenses.value_counts().to_frame()\n",
    "license_counts['percent'] = license_counts['license']/len(licenses) * 100\n",
    "license_counts"
   ]
  },
  {
   "cell_type": "markdown",
   "id": "02bbd836",
   "metadata": {
    "pycharm": {
     "name": "#%% md\n"
    }
   },
   "source": [
    "## 3. What is the mean number of characters (excluding whitespaces, if possible) per object?\n",
    "**Property:** Description\n",
    "**Related function:** `mean_characters`"
   ]
  },
  {
   "cell_type": "code",
   "execution_count": 30,
   "id": "a4aca7b7",
   "metadata": {
    "pycharm": {
     "name": "#%%\n"
    }
   },
   "outputs": [
    {
     "data": {
      "text/plain": [
       "0      Measurement of the S21,consists of 10 sweeps, ...\n",
       "1      3D road network with highly accurate elevation...\n",
       "2      The first realistic and public dataset with ra...\n",
       "3      Mainly from Project Gutenberg, we combine Upan...\n",
       "4      This data set compromises the metadata for the...\n",
       "                             ...                        \n",
       "578    The datasets are taken from top 2 Indian cooki...\n",
       "579    This dataset contains about 120k instances, ea...\n",
       "580    It is a public set of comments collected for s...\n",
       "581                  It was collected for CAD diagnosis.\n",
       "582                     Artificial, 7 classes of animals\n",
       "Name: abstract, Length: 583, dtype: object"
      ]
     },
     "execution_count": 30,
     "metadata": {},
     "output_type": "execute_result"
    }
   ],
   "source": [
    "descriptions = df.UCIDatasetsCrosswalk.description\n",
    "descriptions"
   ]
  },
  {
   "cell_type": "code",
   "execution_count": 31,
   "id": "56637f4e",
   "metadata": {
    "pycharm": {
     "name": "#%%\n"
    }
   },
   "outputs": [
    {
     "name": "stdout",
     "output_type": "stream",
     "text": [
      "139.82547993019196 mean characters\n"
     ]
    }
   ],
   "source": [
    "print(f'{analysis.mean_characters(descriptions)} mean characters')"
   ]
  },
  {
   "cell_type": "markdown",
   "id": "cb1f74d3",
   "metadata": {
    "pycharm": {
     "name": "#%% md\n"
    }
   },
   "source": [
    "## 4. What is the mean number of characters (excluding whitespaces, if possible) per object?\n",
    "**Property:** Methods\n",
    "**Related function:** `mean_characters`"
   ]
  },
  {
   "cell_type": "code",
   "execution_count": 32,
   "id": "faf664b1",
   "metadata": {
    "pycharm": {
     "name": "#%%\n"
    }
   },
   "outputs": [],
   "source": [
    "methods = df.UCIDatasetsCrosswalk.methods\n",
    "methods"
   ]
  },
  {
   "cell_type": "code",
   "execution_count": 33,
   "id": "be228646",
   "metadata": {},
   "outputs": [
    {
     "name": "stdout",
     "output_type": "stream",
     "text": [
      "None\n"
     ]
    }
   ],
   "source": [
    "#confirm missing for this repo\n",
    "print(df.UCIDatasetsCrosswalk.methods)"
   ]
  },
  {
   "cell_type": "markdown",
   "id": "b67d93cd",
   "metadata": {
    "pycharm": {
     "name": "#%% md\n"
    }
   },
   "source": [
    "## 5. What are the min and max publication dates for each repo?\n",
    "\n",
    "## How many objects were published each year for each repo?\n",
    "**Property:** Publication date"
   ]
  },
  {
   "cell_type": "code",
   "execution_count": 34,
   "id": "056aa612",
   "metadata": {
    "pycharm": {
     "name": "#%%\n"
    }
   },
   "outputs": [
    {
     "data": {
      "text/plain": [
       "0      2018-11-30\n",
       "1      2013-04-16\n",
       "2      2019-08-15\n",
       "3      2019-12-24\n",
       "4      2014-07-30\n",
       "          ...    \n",
       "578    2019-07-03\n",
       "579    2013-10-16\n",
       "580    2017-03-26\n",
       "581    2017-11-17\n",
       "582    1990-05-15\n",
       "Name: donation_date, Length: 583, dtype: object"
      ]
     },
     "execution_count": 34,
     "metadata": {},
     "output_type": "execute_result"
    }
   ],
   "source": [
    "publication_dates = df.UCIDatasetsCrosswalk.publication_date\n",
    "publication_dates"
   ]
  },
  {
   "cell_type": "code",
   "execution_count": 35,
   "id": "615db43a",
   "metadata": {},
   "outputs": [
    {
     "data": {
      "text/plain": [
       "34"
      ]
     },
     "execution_count": 35,
     "metadata": {},
     "output_type": "execute_result"
    }
   ],
   "source": [
    "#there are missing values, need to remove those\n",
    "sum(publication_dates.isna())"
   ]
  },
  {
   "cell_type": "code",
   "execution_count": 36,
   "id": "952d4783",
   "metadata": {},
   "outputs": [],
   "source": [
    "publication_dates = publication_dates.dropna()"
   ]
  },
  {
   "cell_type": "code",
   "execution_count": 37,
   "id": "43d6e669",
   "metadata": {},
   "outputs": [],
   "source": [
    "#need to coerce to recognize as date\n",
    "publication_dates = pd.to_datetime(publication_dates)"
   ]
  },
  {
   "cell_type": "code",
   "execution_count": 38,
   "id": "856fc349",
   "metadata": {},
   "outputs": [
    {
     "data": {
      "text/plain": [
       "(Timestamp('1900-05-30 00:00:00'), Timestamp('2021-07-05 00:00:00'))"
      ]
     },
     "execution_count": 38,
     "metadata": {},
     "output_type": "execute_result"
    }
   ],
   "source": [
    "#min and max publication year\n",
    "publication_dates.min(), publication_dates.max()"
   ]
  },
  {
   "cell_type": "code",
   "execution_count": 39,
   "id": "135f93c4",
   "metadata": {
    "scrolled": true
   },
   "outputs": [
    {
     "data": {
      "text/plain": [
       "1900     1\n",
       "1954     1\n",
       "1987     8\n",
       "1988    15\n",
       "1989     7\n",
       "1990    11\n",
       "1991     4\n",
       "1992     9\n",
       "1993     7\n",
       "1994    10\n",
       "1995     7\n",
       "1996     5\n",
       "1997     4\n",
       "1998     9\n",
       "1999    17\n",
       "2000     3\n",
       "2001     4\n",
       "2002     1\n",
       "2003     1\n",
       "2006     2\n",
       "2007     5\n",
       "2008    17\n",
       "2009     8\n",
       "2010    11\n",
       "2011    18\n",
       "2012    20\n",
       "2013    33\n",
       "2014    41\n",
       "2015    27\n",
       "2016    39\n",
       "2017    38\n",
       "2018    54\n",
       "2019    59\n",
       "2020    46\n",
       "2021     7\n",
       "Name: donation_date, dtype: int64"
      ]
     },
     "execution_count": 39,
     "metadata": {},
     "output_type": "execute_result"
    }
   ],
   "source": [
    "#objects per year\n",
    "publication_dates.apply(lambda date: date.year).value_counts().sort_index()"
   ]
  },
  {
   "cell_type": "code",
   "execution_count": 40,
   "id": "4eb1a9c3",
   "metadata": {},
   "outputs": [],
   "source": [
    "#export for plotting\n",
    "pub_dates_export = publication_dates.apply(lambda date: date.year).value_counts().sort_index().to_frame()"
   ]
  },
  {
   "cell_type": "code",
   "execution_count": 41,
   "id": "5baadfc6",
   "metadata": {},
   "outputs": [],
   "source": [
    "#update column names\n",
    "pub_dates_export_ready = pub_dates_export.reset_index(level=0)\n",
    "pub_dates_export_ready.columns = ['year', 'count']"
   ]
  },
  {
   "cell_type": "code",
   "execution_count": 42,
   "id": "217c4481",
   "metadata": {
    "scrolled": true
   },
   "outputs": [
    {
     "data": {
      "text/html": [
       "<div>\n",
       "<style scoped>\n",
       "    .dataframe tbody tr th:only-of-type {\n",
       "        vertical-align: middle;\n",
       "    }\n",
       "\n",
       "    .dataframe tbody tr th {\n",
       "        vertical-align: top;\n",
       "    }\n",
       "\n",
       "    .dataframe thead th {\n",
       "        text-align: right;\n",
       "    }\n",
       "</style>\n",
       "<table border=\"1\" class=\"dataframe\">\n",
       "  <thead>\n",
       "    <tr style=\"text-align: right;\">\n",
       "      <th></th>\n",
       "      <th>year</th>\n",
       "      <th>count</th>\n",
       "      <th>repo</th>\n",
       "    </tr>\n",
       "  </thead>\n",
       "  <tbody>\n",
       "    <tr>\n",
       "      <th>0</th>\n",
       "      <td>1900</td>\n",
       "      <td>1</td>\n",
       "      <td>uci</td>\n",
       "    </tr>\n",
       "    <tr>\n",
       "      <th>1</th>\n",
       "      <td>1954</td>\n",
       "      <td>1</td>\n",
       "      <td>uci</td>\n",
       "    </tr>\n",
       "    <tr>\n",
       "      <th>2</th>\n",
       "      <td>1987</td>\n",
       "      <td>8</td>\n",
       "      <td>uci</td>\n",
       "    </tr>\n",
       "    <tr>\n",
       "      <th>3</th>\n",
       "      <td>1988</td>\n",
       "      <td>15</td>\n",
       "      <td>uci</td>\n",
       "    </tr>\n",
       "    <tr>\n",
       "      <th>4</th>\n",
       "      <td>1989</td>\n",
       "      <td>7</td>\n",
       "      <td>uci</td>\n",
       "    </tr>\n",
       "    <tr>\n",
       "      <th>5</th>\n",
       "      <td>1990</td>\n",
       "      <td>11</td>\n",
       "      <td>uci</td>\n",
       "    </tr>\n",
       "    <tr>\n",
       "      <th>6</th>\n",
       "      <td>1991</td>\n",
       "      <td>4</td>\n",
       "      <td>uci</td>\n",
       "    </tr>\n",
       "    <tr>\n",
       "      <th>7</th>\n",
       "      <td>1992</td>\n",
       "      <td>9</td>\n",
       "      <td>uci</td>\n",
       "    </tr>\n",
       "    <tr>\n",
       "      <th>8</th>\n",
       "      <td>1993</td>\n",
       "      <td>7</td>\n",
       "      <td>uci</td>\n",
       "    </tr>\n",
       "    <tr>\n",
       "      <th>9</th>\n",
       "      <td>1994</td>\n",
       "      <td>10</td>\n",
       "      <td>uci</td>\n",
       "    </tr>\n",
       "    <tr>\n",
       "      <th>10</th>\n",
       "      <td>1995</td>\n",
       "      <td>7</td>\n",
       "      <td>uci</td>\n",
       "    </tr>\n",
       "    <tr>\n",
       "      <th>11</th>\n",
       "      <td>1996</td>\n",
       "      <td>5</td>\n",
       "      <td>uci</td>\n",
       "    </tr>\n",
       "    <tr>\n",
       "      <th>12</th>\n",
       "      <td>1997</td>\n",
       "      <td>4</td>\n",
       "      <td>uci</td>\n",
       "    </tr>\n",
       "    <tr>\n",
       "      <th>13</th>\n",
       "      <td>1998</td>\n",
       "      <td>9</td>\n",
       "      <td>uci</td>\n",
       "    </tr>\n",
       "    <tr>\n",
       "      <th>14</th>\n",
       "      <td>1999</td>\n",
       "      <td>17</td>\n",
       "      <td>uci</td>\n",
       "    </tr>\n",
       "    <tr>\n",
       "      <th>15</th>\n",
       "      <td>2000</td>\n",
       "      <td>3</td>\n",
       "      <td>uci</td>\n",
       "    </tr>\n",
       "    <tr>\n",
       "      <th>16</th>\n",
       "      <td>2001</td>\n",
       "      <td>4</td>\n",
       "      <td>uci</td>\n",
       "    </tr>\n",
       "    <tr>\n",
       "      <th>17</th>\n",
       "      <td>2002</td>\n",
       "      <td>1</td>\n",
       "      <td>uci</td>\n",
       "    </tr>\n",
       "    <tr>\n",
       "      <th>18</th>\n",
       "      <td>2003</td>\n",
       "      <td>1</td>\n",
       "      <td>uci</td>\n",
       "    </tr>\n",
       "    <tr>\n",
       "      <th>19</th>\n",
       "      <td>2006</td>\n",
       "      <td>2</td>\n",
       "      <td>uci</td>\n",
       "    </tr>\n",
       "    <tr>\n",
       "      <th>20</th>\n",
       "      <td>2007</td>\n",
       "      <td>5</td>\n",
       "      <td>uci</td>\n",
       "    </tr>\n",
       "    <tr>\n",
       "      <th>21</th>\n",
       "      <td>2008</td>\n",
       "      <td>17</td>\n",
       "      <td>uci</td>\n",
       "    </tr>\n",
       "    <tr>\n",
       "      <th>22</th>\n",
       "      <td>2009</td>\n",
       "      <td>8</td>\n",
       "      <td>uci</td>\n",
       "    </tr>\n",
       "    <tr>\n",
       "      <th>23</th>\n",
       "      <td>2010</td>\n",
       "      <td>11</td>\n",
       "      <td>uci</td>\n",
       "    </tr>\n",
       "    <tr>\n",
       "      <th>24</th>\n",
       "      <td>2011</td>\n",
       "      <td>18</td>\n",
       "      <td>uci</td>\n",
       "    </tr>\n",
       "    <tr>\n",
       "      <th>25</th>\n",
       "      <td>2012</td>\n",
       "      <td>20</td>\n",
       "      <td>uci</td>\n",
       "    </tr>\n",
       "    <tr>\n",
       "      <th>26</th>\n",
       "      <td>2013</td>\n",
       "      <td>33</td>\n",
       "      <td>uci</td>\n",
       "    </tr>\n",
       "    <tr>\n",
       "      <th>27</th>\n",
       "      <td>2014</td>\n",
       "      <td>41</td>\n",
       "      <td>uci</td>\n",
       "    </tr>\n",
       "    <tr>\n",
       "      <th>28</th>\n",
       "      <td>2015</td>\n",
       "      <td>27</td>\n",
       "      <td>uci</td>\n",
       "    </tr>\n",
       "    <tr>\n",
       "      <th>29</th>\n",
       "      <td>2016</td>\n",
       "      <td>39</td>\n",
       "      <td>uci</td>\n",
       "    </tr>\n",
       "    <tr>\n",
       "      <th>30</th>\n",
       "      <td>2017</td>\n",
       "      <td>38</td>\n",
       "      <td>uci</td>\n",
       "    </tr>\n",
       "    <tr>\n",
       "      <th>31</th>\n",
       "      <td>2018</td>\n",
       "      <td>54</td>\n",
       "      <td>uci</td>\n",
       "    </tr>\n",
       "    <tr>\n",
       "      <th>32</th>\n",
       "      <td>2019</td>\n",
       "      <td>59</td>\n",
       "      <td>uci</td>\n",
       "    </tr>\n",
       "    <tr>\n",
       "      <th>33</th>\n",
       "      <td>2020</td>\n",
       "      <td>46</td>\n",
       "      <td>uci</td>\n",
       "    </tr>\n",
       "    <tr>\n",
       "      <th>34</th>\n",
       "      <td>2021</td>\n",
       "      <td>7</td>\n",
       "      <td>uci</td>\n",
       "    </tr>\n",
       "  </tbody>\n",
       "</table>\n",
       "</div>"
      ],
      "text/plain": [
       "    year  count repo\n",
       "0   1900      1  uci\n",
       "1   1954      1  uci\n",
       "2   1987      8  uci\n",
       "3   1988     15  uci\n",
       "4   1989      7  uci\n",
       "5   1990     11  uci\n",
       "6   1991      4  uci\n",
       "7   1992      9  uci\n",
       "8   1993      7  uci\n",
       "9   1994     10  uci\n",
       "10  1995      7  uci\n",
       "11  1996      5  uci\n",
       "12  1997      4  uci\n",
       "13  1998      9  uci\n",
       "14  1999     17  uci\n",
       "15  2000      3  uci\n",
       "16  2001      4  uci\n",
       "17  2002      1  uci\n",
       "18  2003      1  uci\n",
       "19  2006      2  uci\n",
       "20  2007      5  uci\n",
       "21  2008     17  uci\n",
       "22  2009      8  uci\n",
       "23  2010     11  uci\n",
       "24  2011     18  uci\n",
       "25  2012     20  uci\n",
       "26  2013     33  uci\n",
       "27  2014     41  uci\n",
       "28  2015     27  uci\n",
       "29  2016     39  uci\n",
       "30  2017     38  uci\n",
       "31  2018     54  uci\n",
       "32  2019     59  uci\n",
       "33  2020     46  uci\n",
       "34  2021      7  uci"
      ]
     },
     "execution_count": 42,
     "metadata": {},
     "output_type": "execute_result"
    }
   ],
   "source": [
    "#add column with name of repo\n",
    "pub_dates_export_ready['repo'] = 'uci'\n",
    "pub_dates_export_ready"
   ]
  },
  {
   "cell_type": "code",
   "execution_count": 43,
   "id": "f0c25b50",
   "metadata": {},
   "outputs": [],
   "source": [
    "#export to Figures folder\n",
    "pub_dates_export_ready.to_csv('..\\\\..\\\\Figures\\\\Figure1\\\\repository_dates\\\\uci_pub_years.csv')"
   ]
  },
  {
   "cell_type": "markdown",
   "id": "8e0c2e62",
   "metadata": {
    "pycharm": {
     "name": "#%% md\n"
    }
   },
   "source": [
    "## 6. What are the unweighted mean, median, and max file sizes among all ingested files?\n",
    "**Property:** File size\n",
    "**Related function:** `get_summary_statistics`"
   ]
  },
  {
   "cell_type": "markdown",
   "id": "ae24513c",
   "metadata": {
    "pycharm": {
     "name": "#%% md\n"
    }
   },
   "source": [
    "We first get the file size attribute using the crosswalk."
   ]
  },
  {
   "cell_type": "code",
   "execution_count": 44,
   "id": "6fe6c76a",
   "metadata": {
    "pycharm": {
     "name": "#%%\n"
    }
   },
   "outputs": [],
   "source": [
    "file_sizes = df.UCIDatasetsCrosswalk.file_size"
   ]
  },
  {
   "cell_type": "code",
   "execution_count": 45,
   "id": "16f9ee9e",
   "metadata": {},
   "outputs": [
    {
     "name": "stdout",
     "output_type": "stream",
     "text": [
      "None\n"
     ]
    }
   ],
   "source": [
    "#confirm missing for this repo\n",
    "print(df.UCIDatasetsCrosswalk.file_size)"
   ]
  },
  {
   "cell_type": "markdown",
   "id": "3d193423",
   "metadata": {
    "pycharm": {
     "name": "#%% md\n"
    }
   },
   "source": [
    "## 7. What are the mean, median, and max number of files per object?\n",
    "**Property:** URL\n",
    "**Related function:** `get_summary_statistics`"
   ]
  },
  {
   "cell_type": "markdown",
   "id": "1c95965e",
   "metadata": {
    "pycharm": {
     "name": "#%% md\n"
    }
   },
   "source": [
    "`missing` is set to an empty list so that the `None` values for objects without files have \"zero files\""
   ]
  },
  {
   "cell_type": "code",
   "execution_count": 46,
   "id": "29d7b0f2",
   "metadata": {
    "pycharm": {
     "name": "#%%\n"
    }
   },
   "outputs": [
    {
     "data": {
      "text/plain": [
       "0      [ Parent Directory,  Measurements_Upload_Small...\n",
       "1           [ Parent Directory,  3D_spatial_network.txt]\n",
       "2                       [ Parent Directory,  readme.txt]\n",
       "3           [ Parent Directory,  AsianReligionsData.zip]\n",
       "4      [ Parent Directory,  [UCI] AAAI-13 Accepted Pa...\n",
       "                             ...                        \n",
       "578               [ Parent Directory,  Cooking Data.zip]\n",
       "579                   [ Parent Directory,  dir_data.tar]\n",
       "580    [ Parent Directory,  YouTube-Spam-Collection-v...\n",
       "581    [ Parent Directory,  Z-Alizadeh sani dataset.x...\n",
       "582    [ Parent Directory,  Index,  zoo.data,  zoo.na...\n",
       "Name: files, Length: 583, dtype: object"
      ]
     },
     "execution_count": 46,
     "metadata": {},
     "output_type": "execute_result"
    }
   ],
   "source": [
    "files = df.UCIDatasetsCrosswalk.url\n",
    "files"
   ]
  },
  {
   "cell_type": "code",
   "execution_count": 47,
   "id": "19fdba8a",
   "metadata": {},
   "outputs": [
    {
     "data": {
      "text/plain": [
       "0      [ Parent Directory,  Measurements_Upload_Small...\n",
       "1           [ Parent Directory,  3D_spatial_network.txt]\n",
       "2                       [ Parent Directory,  readme.txt]\n",
       "3           [ Parent Directory,  AsianReligionsData.zip]\n",
       "4      [ Parent Directory,  [UCI] AAAI-13 Accepted Pa...\n",
       "                             ...                        \n",
       "578               [ Parent Directory,  Cooking Data.zip]\n",
       "579                   [ Parent Directory,  dir_data.tar]\n",
       "580    [ Parent Directory,  YouTube-Spam-Collection-v...\n",
       "581    [ Parent Directory,  Z-Alizadeh sani dataset.x...\n",
       "582    [ Parent Directory,  Index,  zoo.data,  zoo.na...\n",
       "Name: files, Length: 583, dtype: object"
      ]
     },
     "execution_count": 47,
     "metadata": {},
     "output_type": "execute_result"
    }
   ],
   "source": [
    "#replace None with empty list\n",
    "files.fillna(value='[]', inplace=True)\n",
    "files"
   ]
  },
  {
   "cell_type": "code",
   "execution_count": 48,
   "id": "b858248c",
   "metadata": {},
   "outputs": [
    {
     "data": {
      "text/plain": [
       "0      [ Parent Directory,  Measurements_Upload_Small...\n",
       "1           [ Parent Directory,  3D_spatial_network.txt]\n",
       "2                       [ Parent Directory,  readme.txt]\n",
       "3           [ Parent Directory,  AsianReligionsData.zip]\n",
       "4      [ Parent Directory,  [UCI] AAAI-13 Accepted Pa...\n",
       "                             ...                        \n",
       "578               [ Parent Directory,  Cooking Data.zip]\n",
       "579                   [ Parent Directory,  dir_data.tar]\n",
       "580    [ Parent Directory,  YouTube-Spam-Collection-v...\n",
       "581    [ Parent Directory,  Z-Alizadeh sani dataset.x...\n",
       "582    [ Parent Directory,  Index,  zoo.data,  zoo.na...\n",
       "Name: files, Length: 583, dtype: object"
      ]
     },
     "execution_count": 48,
     "metadata": {},
     "output_type": "execute_result"
    }
   ],
   "source": [
    "#make sure empty list is recognized as list\n",
    "files = files.apply(lambda d: d if isinstance(d, list) else [])\n",
    "files"
   ]
  },
  {
   "cell_type": "code",
   "execution_count": 49,
   "id": "de72b8ed",
   "metadata": {},
   "outputs": [
    {
     "data": {
      "text/plain": [
       "0      2\n",
       "1      2\n",
       "2      2\n",
       "3      2\n",
       "4      2\n",
       "      ..\n",
       "578    2\n",
       "579    2\n",
       "580    2\n",
       "581    2\n",
       "582    4\n",
       "Name: files, Length: 583, dtype: int64"
      ]
     },
     "execution_count": 49,
     "metadata": {},
     "output_type": "execute_result"
    }
   ],
   "source": [
    "files_counts = files.apply(len)\n",
    "files_counts"
   ]
  },
  {
   "cell_type": "code",
   "execution_count": 50,
   "id": "f93c3beb",
   "metadata": {},
   "outputs": [
    {
     "data": {
      "text/plain": [
       "{'mean': 3.334476843910806, 'median': 2.0, 'max': 35}"
      ]
     },
     "execution_count": 50,
     "metadata": {},
     "output_type": "execute_result"
    }
   ],
   "source": [
    "analysis.get_summary_statistics(files_counts)"
   ]
  },
  {
   "cell_type": "markdown",
   "id": "73d5d757",
   "metadata": {
    "pycharm": {
     "name": "#%% md\n"
    }
   },
   "source": [
    "## 8. What are the mean, median, and max total dataset size (summed across all files) per object?\n",
    "**Property:** Dataset size\n",
    "**Related function:** `get_summary_statistics`"
   ]
  },
  {
   "cell_type": "code",
   "execution_count": 51,
   "id": "4904884d",
   "metadata": {
    "pycharm": {
     "name": "#%%\n"
    }
   },
   "outputs": [],
   "source": [
    "dataset_sizes = df.UCIDatasetsCrosswalk.dataset_size\n",
    "dataset_sizes"
   ]
  },
  {
   "cell_type": "code",
   "execution_count": 52,
   "id": "74c99a2c",
   "metadata": {},
   "outputs": [
    {
     "name": "stdout",
     "output_type": "stream",
     "text": [
      "None\n"
     ]
    }
   ],
   "source": [
    "#confirm missing for this repo\n",
    "print(df.UCIDatasetsCrosswalk.dataset_size)"
   ]
  },
  {
   "cell_type": "markdown",
   "id": "3410d1d2",
   "metadata": {
    "pycharm": {
     "name": "#%% md\n"
    }
   },
   "source": [
    "## 9. How many of each scientific domain are assigned?\n",
    "**Property:** Domain\n",
    "**Related function:** `domains.value_counts()`"
   ]
  },
  {
   "cell_type": "code",
   "execution_count": 53,
   "id": "0887968c",
   "metadata": {
    "pycharm": {
     "name": "#%%\n"
    }
   },
   "outputs": [
    {
     "data": {
      "text/plain": [
       "0      Computer\n",
       "1      Computer\n",
       "2      Computer\n",
       "3        Social\n",
       "4      Computer\n",
       "         ...   \n",
       "578    Computer\n",
       "579    Computer\n",
       "580    Computer\n",
       "581        Life\n",
       "582        Life\n",
       "Name: subject_area, Length: 583, dtype: object"
      ]
     },
     "execution_count": 53,
     "metadata": {},
     "output_type": "execute_result"
    }
   ],
   "source": [
    "domains = df.UCIDatasetsCrosswalk.domain\n",
    "domains"
   ]
  },
  {
   "cell_type": "code",
   "execution_count": 54,
   "id": "22b4a331",
   "metadata": {
    "scrolled": true
   },
   "outputs": [
    {
     "data": {
      "text/html": [
       "<div>\n",
       "<style scoped>\n",
       "    .dataframe tbody tr th:only-of-type {\n",
       "        vertical-align: middle;\n",
       "    }\n",
       "\n",
       "    .dataframe tbody tr th {\n",
       "        vertical-align: top;\n",
       "    }\n",
       "\n",
       "    .dataframe thead th {\n",
       "        text-align: right;\n",
       "    }\n",
       "</style>\n",
       "<table border=\"1\" class=\"dataframe\">\n",
       "  <thead>\n",
       "    <tr style=\"text-align: right;\">\n",
       "      <th></th>\n",
       "      <th>subject_area</th>\n",
       "      <th>percent</th>\n",
       "    </tr>\n",
       "  </thead>\n",
       "  <tbody>\n",
       "    <tr>\n",
       "      <th>Computer</th>\n",
       "      <td>210</td>\n",
       "      <td>36.020583</td>\n",
       "    </tr>\n",
       "    <tr>\n",
       "      <th>Life</th>\n",
       "      <td>130</td>\n",
       "      <td>22.298456</td>\n",
       "    </tr>\n",
       "    <tr>\n",
       "      <th>Other</th>\n",
       "      <td>78</td>\n",
       "      <td>13.379074</td>\n",
       "    </tr>\n",
       "    <tr>\n",
       "      <th>Physical</th>\n",
       "      <td>57</td>\n",
       "      <td>9.777015</td>\n",
       "    </tr>\n",
       "    <tr>\n",
       "      <th>Business</th>\n",
       "      <td>40</td>\n",
       "      <td>6.861063</td>\n",
       "    </tr>\n",
       "    <tr>\n",
       "      <th>Social</th>\n",
       "      <td>37</td>\n",
       "      <td>6.346484</td>\n",
       "    </tr>\n",
       "    <tr>\n",
       "      <th>Game</th>\n",
       "      <td>11</td>\n",
       "      <td>1.886792</td>\n",
       "    </tr>\n",
       "    <tr>\n",
       "      <th>Financial</th>\n",
       "      <td>5</td>\n",
       "      <td>0.857633</td>\n",
       "    </tr>\n",
       "    <tr>\n",
       "      <th>N/A</th>\n",
       "      <td>4</td>\n",
       "      <td>0.686106</td>\n",
       "    </tr>\n",
       "    <tr>\n",
       "      <th>Computer Science</th>\n",
       "      <td>3</td>\n",
       "      <td>0.514580</td>\n",
       "    </tr>\n",
       "    <tr>\n",
       "      <th>Engineering</th>\n",
       "      <td>3</td>\n",
       "      <td>0.514580</td>\n",
       "    </tr>\n",
       "    <tr>\n",
       "      <th>Multivariate</th>\n",
       "      <td>2</td>\n",
       "      <td>0.343053</td>\n",
       "    </tr>\n",
       "    <tr>\n",
       "      <th>Life Science</th>\n",
       "      <td>1</td>\n",
       "      <td>0.171527</td>\n",
       "    </tr>\n",
       "    <tr>\n",
       "      <th>Life Sciences</th>\n",
       "      <td>1</td>\n",
       "      <td>0.171527</td>\n",
       "    </tr>\n",
       "    <tr>\n",
       "      <th>Computer Security</th>\n",
       "      <td>1</td>\n",
       "      <td>0.171527</td>\n",
       "    </tr>\n",
       "  </tbody>\n",
       "</table>\n",
       "</div>"
      ],
      "text/plain": [
       "                   subject_area    percent\n",
       "Computer                    210  36.020583\n",
       "Life                        130  22.298456\n",
       "Other                        78  13.379074\n",
       "Physical                     57   9.777015\n",
       "Business                     40   6.861063\n",
       "Social                       37   6.346484\n",
       "Game                         11   1.886792\n",
       "Financial                     5   0.857633\n",
       "N/A                           4   0.686106\n",
       "Computer Science              3   0.514580\n",
       "Engineering                   3   0.514580\n",
       "Multivariate                  2   0.343053\n",
       "Life Science                  1   0.171527\n",
       "Life Sciences                 1   0.171527\n",
       "Computer Security             1   0.171527"
      ]
     },
     "execution_count": 54,
     "metadata": {},
     "output_type": "execute_result"
    }
   ],
   "source": [
    "domains_counts = domains.value_counts().to_frame()\n",
    "domains_counts['percent'] = domains_counts['subject_area']/len(domains) * 100\n",
    "domains_counts"
   ]
  },
  {
   "cell_type": "markdown",
   "id": "29fcc87a",
   "metadata": {
    "pycharm": {
     "name": "#%% md\n"
    }
   },
   "source": [
    "## 10. What is the mean number of characters (excluding whitespaces, if possible) per object?\n",
    "**Property:** Technical details\n",
    "**Related function:** `mean_characters`"
   ]
  },
  {
   "cell_type": "code",
   "execution_count": 55,
   "id": "98fa269e",
   "metadata": {
    "pycharm": {
     "name": "#%%\n"
    }
   },
   "outputs": [],
   "source": [
    "# \"usage notes\" is not in crosswalk"
   ]
  },
  {
   "cell_type": "markdown",
   "id": "121fe457",
   "metadata": {
    "pycharm": {
     "name": "#%% md\n"
    }
   },
   "source": [
    "## 11-13. What are the mean and median total number of keyword terms per object, after merging results for Keyword, Geographic keyword, and Scientific keyword?\n",
    "**Property:** Keyword"
   ]
  },
  {
   "cell_type": "code",
   "execution_count": 56,
   "id": "78806577",
   "metadata": {},
   "outputs": [
    {
     "name": "stdout",
     "output_type": "stream",
     "text": [
      "0                                                  [N/A]\n",
      "1                                                  [N/A]\n",
      "2                                                  [N/A]\n",
      "3                                                  [N/A]\n",
      "4      [What do the instances that comprise the datas...\n",
      "                             ...                        \n",
      "578                                                [N/A]\n",
      "579                                                [N/A]\n",
      "580                                                [N/A]\n",
      "581                                                [N/A]\n",
      "582                                                [N/A]\n",
      "Name: keywords, Length: 583, dtype: object\n"
     ]
    }
   ],
   "source": [
    "print(df.UCIDatasetsCrosswalk.keyword)"
   ]
  },
  {
   "cell_type": "code",
   "execution_count": 57,
   "id": "694e9056",
   "metadata": {},
   "outputs": [
    {
     "name": "stdout",
     "output_type": "stream",
     "text": [
      "None\n"
     ]
    }
   ],
   "source": [
    "print(df.UCIDatasetsCrosswalk.geographic_keyword)"
   ]
  },
  {
   "cell_type": "code",
   "execution_count": 58,
   "id": "86681ddc",
   "metadata": {},
   "outputs": [
    {
     "name": "stdout",
     "output_type": "stream",
     "text": [
      "None\n"
     ]
    }
   ],
   "source": [
    "print(df.UCIDatasetsCrosswalk.scientific_keyword)"
   ]
  },
  {
   "cell_type": "code",
   "execution_count": 59,
   "id": "56500ccd",
   "metadata": {},
   "outputs": [
    {
     "data": {
      "text/plain": [
       "0                                                  [N/A]\n",
       "1                                                  [N/A]\n",
       "2                                                  [N/A]\n",
       "3                                                  [N/A]\n",
       "4      [What do the instances that comprise the datas...\n",
       "                             ...                        \n",
       "578                                                [N/A]\n",
       "579                                                [N/A]\n",
       "580                                                [N/A]\n",
       "581                                                [N/A]\n",
       "582                                                [N/A]\n",
       "Name: keywords, Length: 583, dtype: object"
      ]
     },
     "execution_count": 59,
     "metadata": {},
     "output_type": "execute_result"
    }
   ],
   "source": [
    "keywords = df.UCIDatasetsCrosswalk.keyword\n",
    "keywords"
   ]
  },
  {
   "cell_type": "code",
   "execution_count": 60,
   "id": "6c330ad0",
   "metadata": {},
   "outputs": [],
   "source": [
    "#some keywords are potentially very messy\n",
    "#but for consistency with other repos, using quoted items as single keyword\n",
    "#example below"
   ]
  },
  {
   "cell_type": "code",
   "execution_count": 61,
   "id": "ce7f0696",
   "metadata": {},
   "outputs": [
    {
     "data": {
      "text/plain": [
       "['What do the instances that comprise the dataset represent?',\n",
       " 'Title: Free text; title of the paper\\nKeywords: Free text; author-generated keywords\\nTopics: Categorical; author-selected, low-level keywords from conference-provided list\\nHigh-level keywords: Categorical; author-selected, high-level keywords from conference-provided list\\n']"
      ]
     },
     "execution_count": 61,
     "metadata": {},
     "output_type": "execute_result"
    }
   ],
   "source": [
    "keywords[4]"
   ]
  },
  {
   "cell_type": "code",
   "execution_count": 62,
   "id": "d73b7b0f",
   "metadata": {},
   "outputs": [
    {
     "data": {
      "text/plain": [
       "0                                                     []\n",
       "1                                                     []\n",
       "2                                                     []\n",
       "3                                                     []\n",
       "4      [What do the instances that comprise the datas...\n",
       "                             ...                        \n",
       "578                                                   []\n",
       "579                                                   []\n",
       "580                                                   []\n",
       "581                                                   []\n",
       "582                                                   []\n",
       "Name: keywords, Length: 583, dtype: object"
      ]
     },
     "execution_count": 62,
     "metadata": {},
     "output_type": "execute_result"
    }
   ],
   "source": [
    "#remove N/A values from lists\n",
    "keywords_clean = keywords.apply(lambda el: [x for x in el if x != 'N/A'])\n",
    "keywords_clean"
   ]
  },
  {
   "cell_type": "code",
   "execution_count": 63,
   "id": "053e0c7e",
   "metadata": {},
   "outputs": [
    {
     "data": {
      "text/plain": [
       "0      0\n",
       "1      0\n",
       "2      0\n",
       "3      0\n",
       "4      2\n",
       "      ..\n",
       "578    0\n",
       "579    0\n",
       "580    0\n",
       "581    0\n",
       "582    0\n",
       "Name: keywords, Length: 583, dtype: int64"
      ]
     },
     "execution_count": 63,
     "metadata": {},
     "output_type": "execute_result"
    }
   ],
   "source": [
    "keywords_counts = keywords_clean.apply(len)\n",
    "keywords_counts"
   ]
  },
  {
   "cell_type": "code",
   "execution_count": 64,
   "id": "98e8179e",
   "metadata": {},
   "outputs": [
    {
     "data": {
      "text/plain": [
       "{'mean': 0.0823327615780446, 'median': 0.0, 'max': 4}"
      ]
     },
     "execution_count": 64,
     "metadata": {},
     "output_type": "execute_result"
    }
   ],
   "source": [
    "analysis.get_summary_statistics(keywords_counts)"
   ]
  },
  {
   "cell_type": "markdown",
   "id": "b4c3a923",
   "metadata": {
    "pycharm": {
     "name": "#%% md\n"
    }
   },
   "source": [
    "## 14. Who are the most common funding agencies for each repo? What are the object counts per agency?\n",
    "**Property:** Funding Agency"
   ]
  },
  {
   "cell_type": "code",
   "execution_count": 65,
   "id": "2f11b3b4",
   "metadata": {
    "pycharm": {
     "name": "#%%\n"
    }
   },
   "outputs": [],
   "source": [
    "funders = df.UCIDatasetsCrosswalk.funding_agency\n",
    "funders"
   ]
  },
  {
   "cell_type": "code",
   "execution_count": 66,
   "id": "c2ba8501",
   "metadata": {},
   "outputs": [
    {
     "name": "stdout",
     "output_type": "stream",
     "text": [
      "None\n"
     ]
    }
   ],
   "source": [
    "#confirm missing for this repo\n",
    "print(df.UCIDatasetsCrosswalk.funding_agency)"
   ]
  },
  {
   "cell_type": "markdown",
   "id": "d2127f12",
   "metadata": {
    "pycharm": {
     "name": "#%% md\n"
    }
   },
   "source": [
    "## 15. What are the mean, median, and max number of Views per object?\n",
    "**Property:** Views\n",
    "**Related function:** `get_summary_statistics`"
   ]
  },
  {
   "cell_type": "code",
   "execution_count": 67,
   "id": "7287cf9f",
   "metadata": {
    "pycharm": {
     "name": "#%%\n"
    }
   },
   "outputs": [
    {
     "data": {
      "text/plain": [
       "0        683\n",
       "1        350\n",
       "2        502\n",
       "3        335\n",
       "4        117\n",
       "       ...  \n",
       "578       42\n",
       "579      148\n",
       "580      215\n",
       "581       24\n",
       "582    24200\n",
       "Name: num_views, Length: 583, dtype: int64"
      ]
     },
     "execution_count": 67,
     "metadata": {},
     "output_type": "execute_result"
    }
   ],
   "source": [
    "views = df.UCIDatasetsCrosswalk.views\n",
    "views"
   ]
  },
  {
   "cell_type": "code",
   "execution_count": 68,
   "id": "2e10b2b9",
   "metadata": {},
   "outputs": [
    {
     "data": {
      "text/plain": [
       "{'mean': 4040.21269296741, 'median': 149.0, 'max': 120760}"
      ]
     },
     "execution_count": 68,
     "metadata": {},
     "output_type": "execute_result"
    }
   ],
   "source": [
    "#get summary statistics\n",
    "analysis.get_summary_statistics(views)"
   ]
  },
  {
   "cell_type": "markdown",
   "id": "54ec7768",
   "metadata": {
    "pycharm": {
     "name": "#%% md\n"
    }
   },
   "source": [
    "## 16. What are the mean, median, and max (total) number of downloads per object?\n",
    "**Property:** Downloads\n",
    "**Related function:** `get_summary_statistics`"
   ]
  },
  {
   "cell_type": "code",
   "execution_count": 69,
   "id": "eb9ff0d1",
   "metadata": {
    "pycharm": {
     "name": "#%%\n"
    }
   },
   "outputs": [],
   "source": [
    "downloads = df.UCIDatasetsCrosswalk.downloads\n",
    "downloads"
   ]
  },
  {
   "cell_type": "code",
   "execution_count": 70,
   "id": "a8115085",
   "metadata": {},
   "outputs": [
    {
     "name": "stdout",
     "output_type": "stream",
     "text": [
      "None\n"
     ]
    }
   ],
   "source": [
    "#confirm missing for this repo\n",
    "print(df.UCIDatasetsCrosswalk.downloads)"
   ]
  },
  {
   "cell_type": "markdown",
   "id": "766352d4",
   "metadata": {
    "pycharm": {
     "name": "#%% md\n"
    }
   },
   "source": [
    "## 17. What are the mean, median, and max Citation counts per object?\n",
    "**Property:** Citation count\n",
    "**Related function:** `get_summary_statistics`"
   ]
  },
  {
   "cell_type": "code",
   "execution_count": 71,
   "id": "4bcb3d36",
   "metadata": {
    "pycharm": {
     "name": "#%%\n"
    }
   },
   "outputs": [
    {
     "data": {
      "text/plain": [
       "0       0\n",
       "1       0\n",
       "2       0\n",
       "3       0\n",
       "4       0\n",
       "       ..\n",
       "578     0\n",
       "579     0\n",
       "580     0\n",
       "581     0\n",
       "582    29\n",
       "Name: num_citations, Length: 583, dtype: int64"
      ]
     },
     "execution_count": 71,
     "metadata": {},
     "output_type": "execute_result"
    }
   ],
   "source": [
    "citation_count = df.UCIDatasetsCrosswalk.citation_count\n",
    "citation_count"
   ]
  },
  {
   "cell_type": "code",
   "execution_count": 72,
   "id": "160d560b",
   "metadata": {},
   "outputs": [
    {
     "data": {
      "text/plain": [
       "{'mean': 3.7993138936535162, 'median': 0.0, 'max': 351}"
      ]
     },
     "execution_count": 72,
     "metadata": {},
     "output_type": "execute_result"
    }
   ],
   "source": [
    "#get summary statistics\n",
    "analysis.get_summary_statistics(citation_count)"
   ]
  },
  {
   "cell_type": "markdown",
   "id": "9fed1e41",
   "metadata": {
    "pycharm": {
     "name": "#%% md\n"
    }
   },
   "source": [
    "## 18. How many objects contain each given resource type?\n",
    "**Property:** Resource type"
   ]
  },
  {
   "cell_type": "code",
   "execution_count": 73,
   "id": "84995be3",
   "metadata": {
    "pycharm": {
     "name": "#%%\n"
    }
   },
   "outputs": [],
   "source": [
    "resource_types = df.UCIDatasetsCrosswalk.resource_type\n",
    "resource_types"
   ]
  },
  {
   "cell_type": "code",
   "execution_count": 74,
   "id": "ccb0ea47",
   "metadata": {},
   "outputs": [
    {
     "name": "stdout",
     "output_type": "stream",
     "text": [
      "None\n"
     ]
    }
   ],
   "source": [
    "#confirm missing for this repo\n",
    "print(df.UCIDatasetsCrosswalk.resource_type)"
   ]
  },
  {
   "cell_type": "markdown",
   "id": "c6c74bc4",
   "metadata": {
    "pycharm": {
     "name": "#%% md\n"
    }
   },
   "source": [
    "## 19. How many objects contain each type of file extension given?\n",
    "**Property:** File Extension\n",
    "**Related function:** `get_file_extensions`"
   ]
  },
  {
   "cell_type": "code",
   "execution_count": 75,
   "id": "bc39ea87",
   "metadata": {
    "pycharm": {
     "is_executing": true,
     "name": "#%%\n"
    }
   },
   "outputs": [
    {
     "data": {
      "text/plain": [
       "0      [ Parent Directory,  Measurements_Upload_Small...\n",
       "1           [ Parent Directory,  3D_spatial_network.txt]\n",
       "2                       [ Parent Directory,  readme.txt]\n",
       "3           [ Parent Directory,  AsianReligionsData.zip]\n",
       "4      [ Parent Directory,  [UCI] AAAI-13 Accepted Pa...\n",
       "                             ...                        \n",
       "578               [ Parent Directory,  Cooking Data.zip]\n",
       "579                   [ Parent Directory,  dir_data.tar]\n",
       "580    [ Parent Directory,  YouTube-Spam-Collection-v...\n",
       "581    [ Parent Directory,  Z-Alizadeh sani dataset.x...\n",
       "582    [ Parent Directory,  Index,  zoo.data,  zoo.na...\n",
       "Name: files, Length: 583, dtype: object"
      ]
     },
     "execution_count": 75,
     "metadata": {},
     "output_type": "execute_result"
    }
   ],
   "source": [
    "files = df.UCIDatasetsCrosswalk.file_extension\n",
    "files"
   ]
  },
  {
   "cell_type": "code",
   "execution_count": 76,
   "id": "bb5f42c6",
   "metadata": {
    "scrolled": true
   },
   "outputs": [
    {
     "data": {
      "text/plain": [
       "0      [ Parent Directory,  Measurements_Upload_Small...\n",
       "1           [ Parent Directory,  3D_spatial_network.txt]\n",
       "2                       [ Parent Directory,  readme.txt]\n",
       "3           [ Parent Directory,  AsianReligionsData.zip]\n",
       "4      [ Parent Directory,  [UCI] AAAI-13 Accepted Pa...\n",
       "                             ...                        \n",
       "578               [ Parent Directory,  Cooking Data.zip]\n",
       "579                   [ Parent Directory,  dir_data.tar]\n",
       "580    [ Parent Directory,  YouTube-Spam-Collection-v...\n",
       "581    [ Parent Directory,  Z-Alizadeh sani dataset.x...\n",
       "582    [ Parent Directory,  Index,  zoo.data,  zoo.na...\n",
       "Name: files, Length: 583, dtype: object"
      ]
     },
     "execution_count": 76,
     "metadata": {},
     "output_type": "execute_result"
    }
   ],
   "source": [
    "#replace any None values with empty list\n",
    "files_clean = files.apply(lambda d: d if isinstance(d, list) else [])\n",
    "files_clean"
   ]
  },
  {
   "cell_type": "code",
   "execution_count": 77,
   "id": "3971aa55",
   "metadata": {},
   "outputs": [
    {
     "data": {
      "text/html": [
       "<div>\n",
       "<style scoped>\n",
       "    .dataframe tbody tr th:only-of-type {\n",
       "        vertical-align: middle;\n",
       "    }\n",
       "\n",
       "    .dataframe tbody tr th {\n",
       "        vertical-align: top;\n",
       "    }\n",
       "\n",
       "    .dataframe thead th {\n",
       "        text-align: right;\n",
       "    }\n",
       "</style>\n",
       "<table border=\"1\" class=\"dataframe\">\n",
       "  <thead>\n",
       "    <tr style=\"text-align: right;\">\n",
       "      <th></th>\n",
       "      <th>url</th>\n",
       "      <th>files</th>\n",
       "    </tr>\n",
       "  </thead>\n",
       "  <tbody>\n",
       "    <tr>\n",
       "      <th>0</th>\n",
       "      <td>https://archive-beta.ics.uci.edu/ml/datasets/2...</td>\n",
       "      <td>[ Parent Directory,  Measurements_Upload_Small...</td>\n",
       "    </tr>\n",
       "    <tr>\n",
       "      <th>1</th>\n",
       "      <td>https://archive-beta.ics.uci.edu/ml/datasets/3...</td>\n",
       "      <td>[ Parent Directory,  3D_spatial_network.txt]</td>\n",
       "    </tr>\n",
       "    <tr>\n",
       "      <th>2</th>\n",
       "      <td>https://archive-beta.ics.uci.edu/ml/datasets/3...</td>\n",
       "      <td>[ Parent Directory,  readme.txt]</td>\n",
       "    </tr>\n",
       "    <tr>\n",
       "      <th>3</th>\n",
       "      <td>https://archive-beta.ics.uci.edu/ml/datasets/a...</td>\n",
       "      <td>[ Parent Directory,  AsianReligionsData.zip]</td>\n",
       "    </tr>\n",
       "    <tr>\n",
       "      <th>4</th>\n",
       "      <td>https://archive-beta.ics.uci.edu/ml/datasets/a...</td>\n",
       "      <td>[ Parent Directory,  [UCI] AAAI-13 Accepted Pa...</td>\n",
       "    </tr>\n",
       "    <tr>\n",
       "      <th>...</th>\n",
       "      <td>...</td>\n",
       "      <td>...</td>\n",
       "    </tr>\n",
       "    <tr>\n",
       "      <th>578</th>\n",
       "      <td>https://archive-beta.ics.uci.edu/ml/datasets/y...</td>\n",
       "      <td>[ Parent Directory,  Cooking Data.zip]</td>\n",
       "    </tr>\n",
       "    <tr>\n",
       "      <th>579</th>\n",
       "      <td>https://archive-beta.ics.uci.edu/ml/datasets/y...</td>\n",
       "      <td>[ Parent Directory,  dir_data.tar]</td>\n",
       "    </tr>\n",
       "    <tr>\n",
       "      <th>580</th>\n",
       "      <td>https://archive-beta.ics.uci.edu/ml/datasets/y...</td>\n",
       "      <td>[ Parent Directory,  YouTube-Spam-Collection-v...</td>\n",
       "    </tr>\n",
       "    <tr>\n",
       "      <th>581</th>\n",
       "      <td>https://archive-beta.ics.uci.edu/ml/datasets/z...</td>\n",
       "      <td>[ Parent Directory,  Z-Alizadeh sani dataset.x...</td>\n",
       "    </tr>\n",
       "    <tr>\n",
       "      <th>582</th>\n",
       "      <td>https://archive-beta.ics.uci.edu/ml/datasets/zoo</td>\n",
       "      <td>[ Parent Directory,  Index,  zoo.data,  zoo.na...</td>\n",
       "    </tr>\n",
       "  </tbody>\n",
       "</table>\n",
       "<p>583 rows × 2 columns</p>\n",
       "</div>"
      ],
      "text/plain": [
       "                                                   url  \\\n",
       "0    https://archive-beta.ics.uci.edu/ml/datasets/2...   \n",
       "1    https://archive-beta.ics.uci.edu/ml/datasets/3...   \n",
       "2    https://archive-beta.ics.uci.edu/ml/datasets/3...   \n",
       "3    https://archive-beta.ics.uci.edu/ml/datasets/a...   \n",
       "4    https://archive-beta.ics.uci.edu/ml/datasets/a...   \n",
       "..                                                 ...   \n",
       "578  https://archive-beta.ics.uci.edu/ml/datasets/y...   \n",
       "579  https://archive-beta.ics.uci.edu/ml/datasets/y...   \n",
       "580  https://archive-beta.ics.uci.edu/ml/datasets/y...   \n",
       "581  https://archive-beta.ics.uci.edu/ml/datasets/z...   \n",
       "582   https://archive-beta.ics.uci.edu/ml/datasets/zoo   \n",
       "\n",
       "                                                 files  \n",
       "0    [ Parent Directory,  Measurements_Upload_Small...  \n",
       "1         [ Parent Directory,  3D_spatial_network.txt]  \n",
       "2                     [ Parent Directory,  readme.txt]  \n",
       "3         [ Parent Directory,  AsianReligionsData.zip]  \n",
       "4    [ Parent Directory,  [UCI] AAAI-13 Accepted Pa...  \n",
       "..                                                 ...  \n",
       "578             [ Parent Directory,  Cooking Data.zip]  \n",
       "579                 [ Parent Directory,  dir_data.tar]  \n",
       "580  [ Parent Directory,  YouTube-Spam-Collection-v...  \n",
       "581  [ Parent Directory,  Z-Alizadeh sani dataset.x...  \n",
       "582  [ Parent Directory,  Index,  zoo.data,  zoo.na...  \n",
       "\n",
       "[583 rows x 2 columns]"
      ]
     },
     "execution_count": 77,
     "metadata": {},
     "output_type": "execute_result"
    }
   ],
   "source": [
    "#since interested in per object, need to group by ID\n",
    "files_ids = pd.concat([ids, files_clean], axis = 1)\n",
    "files_ids"
   ]
  },
  {
   "cell_type": "code",
   "execution_count": 78,
   "id": "65d60d41",
   "metadata": {
    "scrolled": true
   },
   "outputs": [
    {
     "data": {
      "text/plain": [
       "url\n",
       "https://archive-beta.ics.uci.edu/ml/datasets/2+4+ghz+indoor+channel+measurements                      [ Parent Directory,  Measurements_Upload_Small...\n",
       "https://archive-beta.ics.uci.edu/ml/datasets/3d+road+network+north+jutland+denmark                         [ Parent Directory,  3D_spatial_network.txt]\n",
       "https://archive-beta.ics.uci.edu/ml/datasets/3w+dataset                                                                [ Parent Directory,  readme.txt]\n",
       "https://archive-beta.ics.uci.edu/ml/datasets/a+study+of+asian+religious+and+biblical+texts                 [ Parent Directory,  AsianReligionsData.zip]\n",
       "https://archive-beta.ics.uci.edu/ml/datasets/aaai+2013+accepted+papers                                [ Parent Directory,  [UCI] AAAI-13 Accepted Pa...\n",
       "                                                                                                                            ...                        \n",
       "https://archive-beta.ics.uci.edu/ml/datasets/youtube+cookery+channels+viewers+comments+in+hinglish               [ Parent Directory,  Cooking Data.zip]\n",
       "https://archive-beta.ics.uci.edu/ml/datasets/youtube+multiview+video+games+dataset                                   [ Parent Directory,  dir_data.tar]\n",
       "https://archive-beta.ics.uci.edu/ml/datasets/youtube+spam+collection                                  [ Parent Directory,  YouTube-Spam-Collection-v...\n",
       "https://archive-beta.ics.uci.edu/ml/datasets/z+alizadeh+sani                                          [ Parent Directory,  Z-Alizadeh sani dataset.x...\n",
       "https://archive-beta.ics.uci.edu/ml/datasets/zoo                                                      [ Parent Directory,  Index,  zoo.data,  zoo.na...\n",
       "Name: files, Length: 583, dtype: object"
      ]
     },
     "execution_count": 78,
     "metadata": {},
     "output_type": "execute_result"
    }
   ],
   "source": [
    "#make files lists as series with index as object id\n",
    "files_use = files_clean.set_axis(files_ids['url'])\n",
    "files_use"
   ]
  },
  {
   "cell_type": "markdown",
   "id": "afdd2a80",
   "metadata": {},
   "source": [
    "The following code separates the full file extensions (all dot-separated values after the first dot) for a list of files and creates a set, allowing us to only look at the number of objects that contain a given extension."
   ]
  },
  {
   "cell_type": "code",
   "execution_count": 79,
   "id": "9db1f412",
   "metadata": {},
   "outputs": [
    {
     "data": {
      "text/plain": [
       "url\n",
       "https://archive-beta.ics.uci.edu/ml/datasets/2+4+ghz+indoor+channel+measurements                               [, .zip]\n",
       "https://archive-beta.ics.uci.edu/ml/datasets/3d+road+network+north+jutland+denmark                             [, .txt]\n",
       "https://archive-beta.ics.uci.edu/ml/datasets/3w+dataset                                                        [, .txt]\n",
       "https://archive-beta.ics.uci.edu/ml/datasets/a+study+of+asian+religious+and+biblical+texts                     [, .zip]\n",
       "https://archive-beta.ics.uci.edu/ml/datasets/aaai+2013+accepted+papers                                         [, .csv]\n",
       "                                                                                                            ...        \n",
       "https://archive-beta.ics.uci.edu/ml/datasets/youtube+cookery+channels+viewers+comments+in+hinglish             [, .zip]\n",
       "https://archive-beta.ics.uci.edu/ml/datasets/youtube+multiview+video+games+dataset                             [, .tar]\n",
       "https://archive-beta.ics.uci.edu/ml/datasets/youtube+spam+collection                                           [, .zip]\n",
       "https://archive-beta.ics.uci.edu/ml/datasets/z+alizadeh+sani                                                  [, .xlsx]\n",
       "https://archive-beta.ics.uci.edu/ml/datasets/zoo                                                      [, .data, .names]\n",
       "Name: files, Length: 583, dtype: object"
      ]
     },
     "execution_count": 79,
     "metadata": {},
     "output_type": "execute_result"
    }
   ],
   "source": [
    "files_extension_set = files_use.apply(\n",
    "    lambda file_list: list({''.join(Path(file).suffixes) for file in file_list})\n",
    ")\n",
    "files_extension_set"
   ]
  },
  {
   "cell_type": "code",
   "execution_count": 80,
   "id": "e07ec205",
   "metadata": {},
   "outputs": [],
   "source": [
    "#note that this approach ignores items that do not have an extension\n",
    "#each object for UCI looks to have a \"Parent Directory\" item (overarching folder  name) that will not be counted here"
   ]
  },
  {
   "cell_type": "markdown",
   "id": "15ebdd74",
   "metadata": {},
   "source": [
    "Confirm accuracy"
   ]
  },
  {
   "cell_type": "code",
   "execution_count": 81,
   "id": "6f3e2bc0",
   "metadata": {},
   "outputs": [
    {
     "data": {
      "text/plain": [
       "[[' Parent Directory', ' Measurements_Upload_Smaller.zip']]"
      ]
     },
     "execution_count": 81,
     "metadata": {},
     "output_type": "execute_result"
    }
   ],
   "source": [
    "files_ids[files_ids['url'] == 'https://archive-beta.ics.uci.edu/ml/datasets/2+4+ghz+indoor+channel+measurements']['files'].tolist()"
   ]
  },
  {
   "cell_type": "code",
   "execution_count": 82,
   "id": "d55ee35c",
   "metadata": {},
   "outputs": [
    {
     "data": {
      "text/plain": [
       "['', '.zip']"
      ]
     },
     "execution_count": 82,
     "metadata": {},
     "output_type": "execute_result"
    }
   ],
   "source": [
    "files_extension_set.loc['https://archive-beta.ics.uci.edu/ml/datasets/2+4+ghz+indoor+channel+measurements']"
   ]
  },
  {
   "cell_type": "code",
   "execution_count": 83,
   "id": "a75bd6c7",
   "metadata": {
    "scrolled": true
   },
   "outputs": [
    {
     "data": {
      "text/html": [
       "<div>\n",
       "<style scoped>\n",
       "    .dataframe tbody tr th:only-of-type {\n",
       "        vertical-align: middle;\n",
       "    }\n",
       "\n",
       "    .dataframe tbody tr th {\n",
       "        vertical-align: top;\n",
       "    }\n",
       "\n",
       "    .dataframe thead th {\n",
       "        text-align: right;\n",
       "    }\n",
       "</style>\n",
       "<table border=\"1\" class=\"dataframe\">\n",
       "  <thead>\n",
       "    <tr style=\"text-align: right;\">\n",
       "      <th></th>\n",
       "      <th>files</th>\n",
       "    </tr>\n",
       "    <tr>\n",
       "      <th>url</th>\n",
       "      <th></th>\n",
       "    </tr>\n",
       "  </thead>\n",
       "  <tbody>\n",
       "    <tr>\n",
       "      <th>https://archive-beta.ics.uci.edu/ml/datasets/2+4+ghz+indoor+channel+measurements</th>\n",
       "      <td></td>\n",
       "    </tr>\n",
       "    <tr>\n",
       "      <th>https://archive-beta.ics.uci.edu/ml/datasets/2+4+ghz+indoor+channel+measurements</th>\n",
       "      <td>.zip</td>\n",
       "    </tr>\n",
       "    <tr>\n",
       "      <th>https://archive-beta.ics.uci.edu/ml/datasets/3d+road+network+north+jutland+denmark</th>\n",
       "      <td></td>\n",
       "    </tr>\n",
       "    <tr>\n",
       "      <th>https://archive-beta.ics.uci.edu/ml/datasets/3d+road+network+north+jutland+denmark</th>\n",
       "      <td>.txt</td>\n",
       "    </tr>\n",
       "    <tr>\n",
       "      <th>https://archive-beta.ics.uci.edu/ml/datasets/3w+dataset</th>\n",
       "      <td></td>\n",
       "    </tr>\n",
       "    <tr>\n",
       "      <th>https://archive-beta.ics.uci.edu/ml/datasets/3w+dataset</th>\n",
       "      <td>.txt</td>\n",
       "    </tr>\n",
       "    <tr>\n",
       "      <th>https://archive-beta.ics.uci.edu/ml/datasets/a+study+of+asian+religious+and+biblical+texts</th>\n",
       "      <td></td>\n",
       "    </tr>\n",
       "    <tr>\n",
       "      <th>https://archive-beta.ics.uci.edu/ml/datasets/a+study+of+asian+religious+and+biblical+texts</th>\n",
       "      <td>.zip</td>\n",
       "    </tr>\n",
       "    <tr>\n",
       "      <th>https://archive-beta.ics.uci.edu/ml/datasets/aaai+2013+accepted+papers</th>\n",
       "      <td></td>\n",
       "    </tr>\n",
       "    <tr>\n",
       "      <th>https://archive-beta.ics.uci.edu/ml/datasets/aaai+2013+accepted+papers</th>\n",
       "      <td>.csv</td>\n",
       "    </tr>\n",
       "    <tr>\n",
       "      <th>https://archive-beta.ics.uci.edu/ml/datasets/aaai+2014+accepted+papers</th>\n",
       "      <td></td>\n",
       "    </tr>\n",
       "    <tr>\n",
       "      <th>https://archive-beta.ics.uci.edu/ml/datasets/aaai+2014+accepted+papers</th>\n",
       "      <td>.csv</td>\n",
       "    </tr>\n",
       "    <tr>\n",
       "      <th>https://archive-beta.ics.uci.edu/ml/datasets/abalone</th>\n",
       "      <td></td>\n",
       "    </tr>\n",
       "    <tr>\n",
       "      <th>https://archive-beta.ics.uci.edu/ml/datasets/abalone</th>\n",
       "      <td>.data</td>\n",
       "    </tr>\n",
       "    <tr>\n",
       "      <th>https://archive-beta.ics.uci.edu/ml/datasets/abalone</th>\n",
       "      <td>.names</td>\n",
       "    </tr>\n",
       "    <tr>\n",
       "      <th>https://archive-beta.ics.uci.edu/ml/datasets/abscisic+acid+signaling+network</th>\n",
       "      <td></td>\n",
       "    </tr>\n",
       "    <tr>\n",
       "      <th>https://archive-beta.ics.uci.edu/ml/datasets/abscisic+acid+signaling+network</th>\n",
       "      <td>.data</td>\n",
       "    </tr>\n",
       "    <tr>\n",
       "      <th>https://archive-beta.ics.uci.edu/ml/datasets/abscisic+acid+signaling+network</th>\n",
       "      <td>.names</td>\n",
       "    </tr>\n",
       "    <tr>\n",
       "      <th>https://archive-beta.ics.uci.edu/ml/datasets/absenteeism+at+work</th>\n",
       "      <td></td>\n",
       "    </tr>\n",
       "    <tr>\n",
       "      <th>https://archive-beta.ics.uci.edu/ml/datasets/absenteeism+at+work</th>\n",
       "      <td>.zip</td>\n",
       "    </tr>\n",
       "  </tbody>\n",
       "</table>\n",
       "</div>"
      ],
      "text/plain": [
       "                                                     files\n",
       "url                                                       \n",
       "https://archive-beta.ics.uci.edu/ml/datasets/2+...        \n",
       "https://archive-beta.ics.uci.edu/ml/datasets/2+...    .zip\n",
       "https://archive-beta.ics.uci.edu/ml/datasets/3d...        \n",
       "https://archive-beta.ics.uci.edu/ml/datasets/3d...    .txt\n",
       "https://archive-beta.ics.uci.edu/ml/datasets/3w...        \n",
       "https://archive-beta.ics.uci.edu/ml/datasets/3w...    .txt\n",
       "https://archive-beta.ics.uci.edu/ml/datasets/a+...        \n",
       "https://archive-beta.ics.uci.edu/ml/datasets/a+...    .zip\n",
       "https://archive-beta.ics.uci.edu/ml/datasets/aa...        \n",
       "https://archive-beta.ics.uci.edu/ml/datasets/aa...    .csv\n",
       "https://archive-beta.ics.uci.edu/ml/datasets/aa...        \n",
       "https://archive-beta.ics.uci.edu/ml/datasets/aa...    .csv\n",
       "https://archive-beta.ics.uci.edu/ml/datasets/ab...        \n",
       "https://archive-beta.ics.uci.edu/ml/datasets/ab...   .data\n",
       "https://archive-beta.ics.uci.edu/ml/datasets/ab...  .names\n",
       "https://archive-beta.ics.uci.edu/ml/datasets/ab...        \n",
       "https://archive-beta.ics.uci.edu/ml/datasets/ab...   .data\n",
       "https://archive-beta.ics.uci.edu/ml/datasets/ab...  .names\n",
       "https://archive-beta.ics.uci.edu/ml/datasets/ab...        \n",
       "https://archive-beta.ics.uci.edu/ml/datasets/ab...    .zip"
      ]
     },
     "execution_count": 83,
     "metadata": {},
     "output_type": "execute_result"
    }
   ],
   "source": [
    "#expand so each file within object is own row\n",
    "files_ext_ids = files_extension_set.explode().to_frame()\n",
    "files_ext_ids.head(20)"
   ]
  },
  {
   "cell_type": "code",
   "execution_count": 84,
   "id": "e3616b80",
   "metadata": {
    "scrolled": true
   },
   "outputs": [
    {
     "data": {
      "text/html": [
       "<div>\n",
       "<style scoped>\n",
       "    .dataframe tbody tr th:only-of-type {\n",
       "        vertical-align: middle;\n",
       "    }\n",
       "\n",
       "    .dataframe tbody tr th {\n",
       "        vertical-align: top;\n",
       "    }\n",
       "\n",
       "    .dataframe thead th {\n",
       "        text-align: right;\n",
       "    }\n",
       "</style>\n",
       "<table border=\"1\" class=\"dataframe\">\n",
       "  <thead>\n",
       "    <tr style=\"text-align: right;\">\n",
       "      <th></th>\n",
       "      <th>0</th>\n",
       "      <th>percent</th>\n",
       "    </tr>\n",
       "    <tr>\n",
       "      <th>files</th>\n",
       "      <th></th>\n",
       "      <th></th>\n",
       "    </tr>\n",
       "  </thead>\n",
       "  <tbody>\n",
       "    <tr>\n",
       "      <th></th>\n",
       "      <td>574</td>\n",
       "      <td>98.0</td>\n",
       "    </tr>\n",
       "    <tr>\n",
       "      <th>.zip</th>\n",
       "      <td>190</td>\n",
       "      <td>33.0</td>\n",
       "    </tr>\n",
       "    <tr>\n",
       "      <th>.names</th>\n",
       "      <td>128</td>\n",
       "      <td>22.0</td>\n",
       "    </tr>\n",
       "    <tr>\n",
       "      <th>.data</th>\n",
       "      <td>105</td>\n",
       "      <td>18.0</td>\n",
       "    </tr>\n",
       "    <tr>\n",
       "      <th>.csv</th>\n",
       "      <td>64</td>\n",
       "      <td>11.0</td>\n",
       "    </tr>\n",
       "    <tr>\n",
       "      <th>.txt</th>\n",
       "      <td>43</td>\n",
       "      <td>7.0</td>\n",
       "    </tr>\n",
       "    <tr>\n",
       "      <th>.html</th>\n",
       "      <td>31</td>\n",
       "      <td>5.0</td>\n",
       "    </tr>\n",
       "    <tr>\n",
       "      <th>.data.html</th>\n",
       "      <td>25</td>\n",
       "      <td>4.0</td>\n",
       "    </tr>\n",
       "    <tr>\n",
       "      <th>.rar</th>\n",
       "      <td>23</td>\n",
       "      <td>4.0</td>\n",
       "    </tr>\n",
       "    <tr>\n",
       "      <th>.tar.gz</th>\n",
       "      <td>19</td>\n",
       "      <td>3.0</td>\n",
       "    </tr>\n",
       "    <tr>\n",
       "      <th>.test</th>\n",
       "      <td>18</td>\n",
       "      <td>3.0</td>\n",
       "    </tr>\n",
       "    <tr>\n",
       "      <th>.xlsx</th>\n",
       "      <td>17</td>\n",
       "      <td>3.0</td>\n",
       "    </tr>\n",
       "    <tr>\n",
       "      <th>.pdf</th>\n",
       "      <td>14</td>\n",
       "      <td>2.0</td>\n",
       "    </tr>\n",
       "    <tr>\n",
       "      <th>.info</th>\n",
       "      <td>12</td>\n",
       "      <td>2.0</td>\n",
       "    </tr>\n",
       "    <tr>\n",
       "      <th>.data.Z</th>\n",
       "      <td>10</td>\n",
       "      <td>2.0</td>\n",
       "    </tr>\n",
       "    <tr>\n",
       "      <th>.arff</th>\n",
       "      <td>10</td>\n",
       "      <td>2.0</td>\n",
       "    </tr>\n",
       "    <tr>\n",
       "      <th>.dat</th>\n",
       "      <td>8</td>\n",
       "      <td>1.0</td>\n",
       "    </tr>\n",
       "    <tr>\n",
       "      <th>.doc</th>\n",
       "      <td>8</td>\n",
       "      <td>1.0</td>\n",
       "    </tr>\n",
       "    <tr>\n",
       "      <th>.xls</th>\n",
       "      <td>7</td>\n",
       "      <td>1.0</td>\n",
       "    </tr>\n",
       "    <tr>\n",
       "      <th>.c</th>\n",
       "      <td>6</td>\n",
       "      <td>1.0</td>\n",
       "    </tr>\n",
       "    <tr>\n",
       "      <th>.theory</th>\n",
       "      <td>6</td>\n",
       "      <td>1.0</td>\n",
       "    </tr>\n",
       "    <tr>\n",
       "      <th>.labels</th>\n",
       "      <td>5</td>\n",
       "      <td>1.0</td>\n",
       "    </tr>\n",
       "    <tr>\n",
       "      <th>.data.gz</th>\n",
       "      <td>5</td>\n",
       "      <td>1.0</td>\n",
       "    </tr>\n",
       "    <tr>\n",
       "      <th>.train</th>\n",
       "      <td>5</td>\n",
       "      <td>1.0</td>\n",
       "    </tr>\n",
       "    <tr>\n",
       "      <th>.tar.Z</th>\n",
       "      <td>5</td>\n",
       "      <td>1.0</td>\n",
       "    </tr>\n",
       "    <tr>\n",
       "      <th>.csv.gz</th>\n",
       "      <td>4</td>\n",
       "      <td>1.0</td>\n",
       "    </tr>\n",
       "    <tr>\n",
       "      <th>.jpg</th>\n",
       "      <td>4</td>\n",
       "      <td>1.0</td>\n",
       "    </tr>\n",
       "    <tr>\n",
       "      <th>.mat</th>\n",
       "      <td>3</td>\n",
       "      <td>1.0</td>\n",
       "    </tr>\n",
       "    <tr>\n",
       "      <th>.task.html</th>\n",
       "      <td>3</td>\n",
       "      <td>1.0</td>\n",
       "    </tr>\n",
       "    <tr>\n",
       "      <th>.tar</th>\n",
       "      <td>3</td>\n",
       "      <td>1.0</td>\n",
       "    </tr>\n",
       "  </tbody>\n",
       "</table>\n",
       "</div>"
      ],
      "text/plain": [
       "              0  percent\n",
       "files                   \n",
       "            574     98.0\n",
       ".zip        190     33.0\n",
       ".names      128     22.0\n",
       ".data       105     18.0\n",
       ".csv         64     11.0\n",
       ".txt         43      7.0\n",
       ".html        31      5.0\n",
       ".data.html   25      4.0\n",
       ".rar         23      4.0\n",
       ".tar.gz      19      3.0\n",
       ".test        18      3.0\n",
       ".xlsx        17      3.0\n",
       ".pdf         14      2.0\n",
       ".info        12      2.0\n",
       ".data.Z      10      2.0\n",
       ".arff        10      2.0\n",
       ".dat          8      1.0\n",
       ".doc          8      1.0\n",
       ".xls          7      1.0\n",
       ".c            6      1.0\n",
       ".theory       6      1.0\n",
       ".labels       5      1.0\n",
       ".data.gz      5      1.0\n",
       ".train        5      1.0\n",
       ".tar.Z        5      1.0\n",
       ".csv.gz       4      1.0\n",
       ".jpg          4      1.0\n",
       ".mat          3      1.0\n",
       ".task.html    3      1.0\n",
       ".tar          3      1.0"
      ]
     },
     "execution_count": 84,
     "metadata": {},
     "output_type": "execute_result"
    }
   ],
   "source": [
    "#get ESTIMATE of most common - needs some clean up of extensions\n",
    "\n",
    "#group by extension type to count how many objects have each file type\n",
    "ext_grouped = files_ext_ids.groupby('files').value_counts().to_frame().sort_values(0, ascending = False)\n",
    "ext_grouped['percent'] = round(ext_grouped[0]/len(files)*100)\n",
    "ext_grouped.head(30)"
   ]
  },
  {
   "cell_type": "code",
   "execution_count": 85,
   "id": "afb90221",
   "metadata": {},
   "outputs": [],
   "source": [
    "#The 'blank' 574 files are due to 'Parent Directory' and/or 'Index' being included in files list for objects.\n",
    "#Since these do not have a file extension, they are indicated by a blank file extension in this table."
   ]
  },
  {
   "cell_type": "code",
   "execution_count": 86,
   "id": "a2b8ca33",
   "metadata": {},
   "outputs": [
    {
     "data": {
      "text/html": [
       "<div>\n",
       "<style scoped>\n",
       "    .dataframe tbody tr th:only-of-type {\n",
       "        vertical-align: middle;\n",
       "    }\n",
       "\n",
       "    .dataframe tbody tr th {\n",
       "        vertical-align: top;\n",
       "    }\n",
       "\n",
       "    .dataframe thead th {\n",
       "        text-align: right;\n",
       "    }\n",
       "</style>\n",
       "<table border=\"1\" class=\"dataframe\">\n",
       "  <thead>\n",
       "    <tr style=\"text-align: right;\">\n",
       "      <th></th>\n",
       "      <th>0</th>\n",
       "      <th>percent</th>\n",
       "    </tr>\n",
       "    <tr>\n",
       "      <th>files</th>\n",
       "      <th></th>\n",
       "      <th></th>\n",
       "    </tr>\n",
       "  </thead>\n",
       "  <tbody>\n",
       "    <tr>\n",
       "      <th></th>\n",
       "      <td>574</td>\n",
       "      <td>98.0</td>\n",
       "    </tr>\n",
       "    <tr>\n",
       "      <th>.zip</th>\n",
       "      <td>190</td>\n",
       "      <td>33.0</td>\n",
       "    </tr>\n",
       "    <tr>\n",
       "      <th>.names</th>\n",
       "      <td>128</td>\n",
       "      <td>22.0</td>\n",
       "    </tr>\n",
       "    <tr>\n",
       "      <th>.data</th>\n",
       "      <td>105</td>\n",
       "      <td>18.0</td>\n",
       "    </tr>\n",
       "    <tr>\n",
       "      <th>.csv</th>\n",
       "      <td>64</td>\n",
       "      <td>11.0</td>\n",
       "    </tr>\n",
       "    <tr>\n",
       "      <th>.txt</th>\n",
       "      <td>43</td>\n",
       "      <td>7.0</td>\n",
       "    </tr>\n",
       "    <tr>\n",
       "      <th>.html</th>\n",
       "      <td>31</td>\n",
       "      <td>5.0</td>\n",
       "    </tr>\n",
       "  </tbody>\n",
       "</table>\n",
       "</div>"
      ],
      "text/plain": [
       "          0  percent\n",
       "files               \n",
       "        574     98.0\n",
       ".zip    190     33.0\n",
       ".names  128     22.0\n",
       ".data   105     18.0\n",
       ".csv     64     11.0\n",
       ".txt     43      7.0\n",
       ".html    31      5.0"
      ]
     },
     "execution_count": 86,
     "metadata": {},
     "output_type": "execute_result"
    }
   ],
   "source": [
    "ext_grouped[ext_grouped['percent'] >= 5]"
   ]
  },
  {
   "cell_type": "code",
   "execution_count": 87,
   "id": "4329488f",
   "metadata": {},
   "outputs": [],
   "source": [
    "#export for further cleaning, refining estimates, and plotting"
   ]
  },
  {
   "cell_type": "code",
   "execution_count": 88,
   "id": "723a9d1f",
   "metadata": {},
   "outputs": [
    {
     "data": {
      "text/html": [
       "<div>\n",
       "<style scoped>\n",
       "    .dataframe tbody tr th:only-of-type {\n",
       "        vertical-align: middle;\n",
       "    }\n",
       "\n",
       "    .dataframe tbody tr th {\n",
       "        vertical-align: top;\n",
       "    }\n",
       "\n",
       "    .dataframe thead th {\n",
       "        text-align: right;\n",
       "    }\n",
       "</style>\n",
       "<table border=\"1\" class=\"dataframe\">\n",
       "  <thead>\n",
       "    <tr style=\"text-align: right;\">\n",
       "      <th></th>\n",
       "      <th>index</th>\n",
       "      <th>files</th>\n",
       "      <th>repo</th>\n",
       "    </tr>\n",
       "  </thead>\n",
       "  <tbody>\n",
       "    <tr>\n",
       "      <th>0</th>\n",
       "      <td>https://archive-beta.ics.uci.edu/ml/datasets/2...</td>\n",
       "      <td></td>\n",
       "      <td>uci</td>\n",
       "    </tr>\n",
       "    <tr>\n",
       "      <th>1</th>\n",
       "      <td>https://archive-beta.ics.uci.edu/ml/datasets/2...</td>\n",
       "      <td>.zip</td>\n",
       "      <td>uci</td>\n",
       "    </tr>\n",
       "    <tr>\n",
       "      <th>2</th>\n",
       "      <td>https://archive-beta.ics.uci.edu/ml/datasets/3...</td>\n",
       "      <td></td>\n",
       "      <td>uci</td>\n",
       "    </tr>\n",
       "    <tr>\n",
       "      <th>3</th>\n",
       "      <td>https://archive-beta.ics.uci.edu/ml/datasets/3...</td>\n",
       "      <td>.txt</td>\n",
       "      <td>uci</td>\n",
       "    </tr>\n",
       "    <tr>\n",
       "      <th>4</th>\n",
       "      <td>https://archive-beta.ics.uci.edu/ml/datasets/3...</td>\n",
       "      <td></td>\n",
       "      <td>uci</td>\n",
       "    </tr>\n",
       "    <tr>\n",
       "      <th>5</th>\n",
       "      <td>https://archive-beta.ics.uci.edu/ml/datasets/3...</td>\n",
       "      <td>.txt</td>\n",
       "      <td>uci</td>\n",
       "    </tr>\n",
       "    <tr>\n",
       "      <th>6</th>\n",
       "      <td>https://archive-beta.ics.uci.edu/ml/datasets/a...</td>\n",
       "      <td></td>\n",
       "      <td>uci</td>\n",
       "    </tr>\n",
       "    <tr>\n",
       "      <th>7</th>\n",
       "      <td>https://archive-beta.ics.uci.edu/ml/datasets/a...</td>\n",
       "      <td>.zip</td>\n",
       "      <td>uci</td>\n",
       "    </tr>\n",
       "    <tr>\n",
       "      <th>8</th>\n",
       "      <td>https://archive-beta.ics.uci.edu/ml/datasets/a...</td>\n",
       "      <td></td>\n",
       "      <td>uci</td>\n",
       "    </tr>\n",
       "    <tr>\n",
       "      <th>9</th>\n",
       "      <td>https://archive-beta.ics.uci.edu/ml/datasets/a...</td>\n",
       "      <td>.csv</td>\n",
       "      <td>uci</td>\n",
       "    </tr>\n",
       "  </tbody>\n",
       "</table>\n",
       "</div>"
      ],
      "text/plain": [
       "                                               index files repo\n",
       "0  https://archive-beta.ics.uci.edu/ml/datasets/2...        uci\n",
       "1  https://archive-beta.ics.uci.edu/ml/datasets/2...  .zip  uci\n",
       "2  https://archive-beta.ics.uci.edu/ml/datasets/3...        uci\n",
       "3  https://archive-beta.ics.uci.edu/ml/datasets/3...  .txt  uci\n",
       "4  https://archive-beta.ics.uci.edu/ml/datasets/3...        uci\n",
       "5  https://archive-beta.ics.uci.edu/ml/datasets/3...  .txt  uci\n",
       "6  https://archive-beta.ics.uci.edu/ml/datasets/a...        uci\n",
       "7  https://archive-beta.ics.uci.edu/ml/datasets/a...  .zip  uci\n",
       "8  https://archive-beta.ics.uci.edu/ml/datasets/a...        uci\n",
       "9  https://archive-beta.ics.uci.edu/ml/datasets/a...  .csv  uci"
      ]
     },
     "execution_count": 88,
     "metadata": {},
     "output_type": "execute_result"
    }
   ],
   "source": [
    "#reset index and update column names\n",
    "ext_grouped_ready = files_ext_ids.reset_index(level=0)\n",
    "ext_grouped_ready.columns = ['index', 'files']\n",
    "\n",
    "#add column with name of repo\n",
    "ext_grouped_ready['repo'] = 'uci'\n",
    "\n",
    "ext_grouped_ready.head(10)"
   ]
  },
  {
   "cell_type": "code",
   "execution_count": 89,
   "id": "1e28105f",
   "metadata": {},
   "outputs": [],
   "source": [
    "#export to Figures folder\n",
    "ext_grouped_ready.to_csv('..\\\\..\\\\Figures\\\\Figure2\\\\file_ext_data\\\\uci_extensions.csv')"
   ]
  },
  {
   "cell_type": "markdown",
   "id": "60c29e17",
   "metadata": {
    "pycharm": {
     "name": "#%% md\n"
    }
   },
   "source": [
    "## 19.5 How many files of each type of file extension are present?\n",
    "**Property:** File extension"
   ]
  },
  {
   "cell_type": "code",
   "execution_count": 90,
   "id": "2b8c1bb4",
   "metadata": {
    "pycharm": {
     "is_executing": true,
     "name": "#%%\n"
    },
    "scrolled": true
   },
   "outputs": [
    {
     "data": {
      "text/plain": [
       "0      [ Parent Directory,  Measurements_Upload_Small...\n",
       "1           [ Parent Directory,  3D_spatial_network.txt]\n",
       "2                       [ Parent Directory,  readme.txt]\n",
       "3           [ Parent Directory,  AsianReligionsData.zip]\n",
       "4      [ Parent Directory,  [UCI] AAAI-13 Accepted Pa...\n",
       "                             ...                        \n",
       "578               [ Parent Directory,  Cooking Data.zip]\n",
       "579                   [ Parent Directory,  dir_data.tar]\n",
       "580    [ Parent Directory,  YouTube-Spam-Collection-v...\n",
       "581    [ Parent Directory,  Z-Alizadeh sani dataset.x...\n",
       "582    [ Parent Directory,  Index,  zoo.data,  zoo.na...\n",
       "Name: files, Length: 583, dtype: object"
      ]
     },
     "execution_count": 90,
     "metadata": {},
     "output_type": "execute_result"
    }
   ],
   "source": [
    "#pick up from files_clean\n",
    "files_clean"
   ]
  },
  {
   "cell_type": "code",
   "execution_count": 91,
   "id": "08092f7e",
   "metadata": {},
   "outputs": [
    {
     "data": {
      "text/plain": [
       "0                      Parent Directory\n",
       "0       Measurements_Upload_Smaller.zip\n",
       "1                      Parent Directory\n",
       "1                3D_spatial_network.txt\n",
       "2                      Parent Directory\n",
       "                     ...               \n",
       "581        Z-Alizadeh sani dataset.xlsx\n",
       "582                    Parent Directory\n",
       "582                               Index\n",
       "582                            zoo.data\n",
       "582                           zoo.names\n",
       "Name: files, Length: 1953, dtype: object"
      ]
     },
     "execution_count": 91,
     "metadata": {},
     "output_type": "execute_result"
    }
   ],
   "source": [
    "#expand so each file within object is own row\n",
    "files_all = files_clean.explode()\n",
    "files_all"
   ]
  },
  {
   "cell_type": "code",
   "execution_count": 92,
   "id": "2696ae65",
   "metadata": {},
   "outputs": [
    {
     "data": {
      "text/html": [
       "<div>\n",
       "<style scoped>\n",
       "    .dataframe tbody tr th:only-of-type {\n",
       "        vertical-align: middle;\n",
       "    }\n",
       "\n",
       "    .dataframe tbody tr th {\n",
       "        vertical-align: top;\n",
       "    }\n",
       "\n",
       "    .dataframe thead th {\n",
       "        text-align: right;\n",
       "    }\n",
       "</style>\n",
       "<table border=\"1\" class=\"dataframe\">\n",
       "  <thead>\n",
       "    <tr style=\"text-align: right;\">\n",
       "      <th></th>\n",
       "      <th>files</th>\n",
       "    </tr>\n",
       "  </thead>\n",
       "  <tbody>\n",
       "    <tr>\n",
       "      <th>0</th>\n",
       "      <td>Parent Directory</td>\n",
       "    </tr>\n",
       "    <tr>\n",
       "      <th>0</th>\n",
       "      <td>Measurements_Upload_Smaller.zip</td>\n",
       "    </tr>\n",
       "    <tr>\n",
       "      <th>1</th>\n",
       "      <td>Parent Directory</td>\n",
       "    </tr>\n",
       "    <tr>\n",
       "      <th>1</th>\n",
       "      <td>3D_spatial_network.txt</td>\n",
       "    </tr>\n",
       "    <tr>\n",
       "      <th>2</th>\n",
       "      <td>Parent Directory</td>\n",
       "    </tr>\n",
       "    <tr>\n",
       "      <th>...</th>\n",
       "      <td>...</td>\n",
       "    </tr>\n",
       "    <tr>\n",
       "      <th>581</th>\n",
       "      <td>Z-Alizadeh sani dataset.xlsx</td>\n",
       "    </tr>\n",
       "    <tr>\n",
       "      <th>582</th>\n",
       "      <td>Parent Directory</td>\n",
       "    </tr>\n",
       "    <tr>\n",
       "      <th>582</th>\n",
       "      <td>Index</td>\n",
       "    </tr>\n",
       "    <tr>\n",
       "      <th>582</th>\n",
       "      <td>zoo.data</td>\n",
       "    </tr>\n",
       "    <tr>\n",
       "      <th>582</th>\n",
       "      <td>zoo.names</td>\n",
       "    </tr>\n",
       "  </tbody>\n",
       "</table>\n",
       "<p>1953 rows × 1 columns</p>\n",
       "</div>"
      ],
      "text/plain": [
       "                                files\n",
       "0                    Parent Directory\n",
       "0     Measurements_Upload_Smaller.zip\n",
       "1                    Parent Directory\n",
       "1              3D_spatial_network.txt\n",
       "2                    Parent Directory\n",
       "..                                ...\n",
       "581      Z-Alizadeh sani dataset.xlsx\n",
       "582                  Parent Directory\n",
       "582                             Index\n",
       "582                          zoo.data\n",
       "582                         zoo.names\n",
       "\n",
       "[1953 rows x 1 columns]"
      ]
     },
     "execution_count": 92,
     "metadata": {},
     "output_type": "execute_result"
    }
   ],
   "source": [
    "files_ext_use = files_all.to_frame()\n",
    "#for some reason need to coerce to string to then remove 'Index' and 'Parent Directory'\n",
    "files_ext_use['files'] = files_ext_use['files'].astype(str)\n",
    "files_ext_use"
   ]
  },
  {
   "cell_type": "code",
   "execution_count": 93,
   "id": "76348d1b",
   "metadata": {
    "scrolled": true
   },
   "outputs": [
    {
     "data": {
      "text/html": [
       "<div>\n",
       "<style scoped>\n",
       "    .dataframe tbody tr th:only-of-type {\n",
       "        vertical-align: middle;\n",
       "    }\n",
       "\n",
       "    .dataframe tbody tr th {\n",
       "        vertical-align: top;\n",
       "    }\n",
       "\n",
       "    .dataframe thead th {\n",
       "        text-align: right;\n",
       "    }\n",
       "</style>\n",
       "<table border=\"1\" class=\"dataframe\">\n",
       "  <thead>\n",
       "    <tr style=\"text-align: right;\">\n",
       "      <th></th>\n",
       "      <th>files</th>\n",
       "    </tr>\n",
       "  </thead>\n",
       "  <tbody>\n",
       "    <tr>\n",
       "      <th>0</th>\n",
       "      <td>Measurements_Upload_Smaller.zip</td>\n",
       "    </tr>\n",
       "    <tr>\n",
       "      <th>1</th>\n",
       "      <td>3D_spatial_network.txt</td>\n",
       "    </tr>\n",
       "    <tr>\n",
       "      <th>2</th>\n",
       "      <td>readme.txt</td>\n",
       "    </tr>\n",
       "    <tr>\n",
       "      <th>3</th>\n",
       "      <td>AsianReligionsData.zip</td>\n",
       "    </tr>\n",
       "    <tr>\n",
       "      <th>4</th>\n",
       "      <td>[UCI] AAAI-13 Accepted Papers - Papers.csv</td>\n",
       "    </tr>\n",
       "    <tr>\n",
       "      <th>...</th>\n",
       "      <td>...</td>\n",
       "    </tr>\n",
       "    <tr>\n",
       "      <th>579</th>\n",
       "      <td>dir_data.tar</td>\n",
       "    </tr>\n",
       "    <tr>\n",
       "      <th>580</th>\n",
       "      <td>YouTube-Spam-Collection-v1.zip</td>\n",
       "    </tr>\n",
       "    <tr>\n",
       "      <th>581</th>\n",
       "      <td>Z-Alizadeh sani dataset.xlsx</td>\n",
       "    </tr>\n",
       "    <tr>\n",
       "      <th>582</th>\n",
       "      <td>zoo.data</td>\n",
       "    </tr>\n",
       "    <tr>\n",
       "      <th>582</th>\n",
       "      <td>zoo.names</td>\n",
       "    </tr>\n",
       "  </tbody>\n",
       "</table>\n",
       "<p>1279 rows × 1 columns</p>\n",
       "</div>"
      ],
      "text/plain": [
       "                                           files\n",
       "0                Measurements_Upload_Smaller.zip\n",
       "1                         3D_spatial_network.txt\n",
       "2                                     readme.txt\n",
       "3                         AsianReligionsData.zip\n",
       "4     [UCI] AAAI-13 Accepted Papers - Papers.csv\n",
       "..                                           ...\n",
       "579                                 dir_data.tar\n",
       "580               YouTube-Spam-Collection-v1.zip\n",
       "581                 Z-Alizadeh sani dataset.xlsx\n",
       "582                                     zoo.data\n",
       "582                                    zoo.names\n",
       "\n",
       "[1279 rows x 1 columns]"
      ]
     },
     "execution_count": 93,
     "metadata": {},
     "output_type": "execute_result"
    }
   ],
   "source": [
    "#remove rows with 'Parent Directory' or 'Index' as item\n",
    "files_ext_clean = files_ext_use\n",
    "files_ext_clean = files_ext_clean[~files_ext_clean['files'].str.contains(\"Parent Directory\")]\n",
    "files_ext_clean = files_ext_clean[~files_ext_clean['files'].str.contains(\"Index\")]\n",
    "files_ext_clean"
   ]
  },
  {
   "cell_type": "code",
   "execution_count": 94,
   "id": "b01be005",
   "metadata": {
    "scrolled": true
   },
   "outputs": [
    {
     "data": {
      "text/plain": [
       "0                  Measurements_Upload_Smaller.zip\n",
       "1                           3D_spatial_network.txt\n",
       "2                                       readme.txt\n",
       "3                           AsianReligionsData.zip\n",
       "4       [UCI] AAAI-13 Accepted Papers - Papers.csv\n",
       "                          ...                     \n",
       "579                                   dir_data.tar\n",
       "580                 YouTube-Spam-Collection-v1.zip\n",
       "581                   Z-Alizadeh sani dataset.xlsx\n",
       "582                                       zoo.data\n",
       "582                                      zoo.names\n",
       "Name: files, Length: 1279, dtype: object"
      ]
     },
     "execution_count": 94,
     "metadata": {},
     "output_type": "execute_result"
    }
   ],
   "source": [
    "#extract as series\n",
    "files_ext_ready = files_ext_clean['files']\n",
    "files_ext_ready"
   ]
  },
  {
   "cell_type": "code",
   "execution_count": 95,
   "id": "0c8144f5",
   "metadata": {},
   "outputs": [
    {
     "data": {
      "text/plain": [
       "0        [.zip]\n",
       "1        [.txt]\n",
       "2        [.txt]\n",
       "3        [.zip]\n",
       "4        [.csv]\n",
       "         ...   \n",
       "579      [.tar]\n",
       "580      [.zip]\n",
       "581     [.xlsx]\n",
       "582     [.data]\n",
       "582    [.names]\n",
       "Name: files, Length: 1279, dtype: object"
      ]
     },
     "execution_count": 95,
     "metadata": {},
     "output_type": "execute_result"
    }
   ],
   "source": [
    "files_ext_all = files_ext_ready.apply(lambda fn: Path(fn).suffixes)\n",
    "files_ext_all"
   ]
  },
  {
   "cell_type": "code",
   "execution_count": 96,
   "id": "a05fc5b9",
   "metadata": {},
   "outputs": [
    {
     "data": {
      "text/plain": [
       "[.zip]            202\n",
       "[.data]           171\n",
       "[.names]          163\n",
       "[]                142\n",
       "[.csv]             69\n",
       "[.txt]             49\n",
       "[.html]            37\n",
       "[.test]            32\n",
       "[.data, .html]     25\n",
       "[.rar]             23\n",
       "Name: files, dtype: int64"
      ]
     },
     "execution_count": 96,
     "metadata": {},
     "output_type": "execute_result"
    }
   ],
   "source": [
    "files_ext_all.value_counts().head(10)"
   ]
  },
  {
   "cell_type": "markdown",
   "id": "1a76f7dd",
   "metadata": {
    "pycharm": {
     "name": "#%% md\n"
    }
   },
   "source": [
    "## 20. How many objects contain each type of File format given?\n",
    "**Property:** File format"
   ]
  },
  {
   "cell_type": "code",
   "execution_count": 97,
   "id": "89260454",
   "metadata": {
    "pycharm": {
     "name": "#%%\n"
    }
   },
   "outputs": [],
   "source": [
    "file_formats = df.UCIDatasetsCrosswalk.file_format\n",
    "file_formats"
   ]
  },
  {
   "cell_type": "code",
   "execution_count": 98,
   "id": "91e5f8ee",
   "metadata": {},
   "outputs": [
    {
     "name": "stdout",
     "output_type": "stream",
     "text": [
      "None\n"
     ]
    }
   ],
   "source": [
    "#confirm missing for this repo\n",
    "print(df.UCIDatasetsCrosswalk.file_format)"
   ]
  },
  {
   "cell_type": "markdown",
   "id": "ddb9bcff",
   "metadata": {
    "pycharm": {
     "name": "#%% md\n"
    }
   },
   "source": [
    "## 21. How many objects contain each type of Media type given?\n",
    "**Property:** Media type"
   ]
  },
  {
   "cell_type": "code",
   "execution_count": 99,
   "id": "440efeb9",
   "metadata": {
    "pycharm": {
     "name": "#%%\n"
    }
   },
   "outputs": [],
   "source": [
    "media_types = df.UCIDatasetsCrosswalk.media_type\n",
    "media_types"
   ]
  },
  {
   "cell_type": "code",
   "execution_count": 100,
   "id": "7b689349",
   "metadata": {},
   "outputs": [
    {
     "name": "stdout",
     "output_type": "stream",
     "text": [
      "None\n"
     ]
    }
   ],
   "source": [
    "#confirm missing for this repo\n",
    "print(df.UCIDatasetsCrosswalk.media_type)"
   ]
  },
  {
   "cell_type": "markdown",
   "id": "ee132077",
   "metadata": {
    "pycharm": {
     "name": "#%% md\n"
    }
   },
   "source": [
    "## 22. a) How many objects report one related resource type, and b) how many objects report each of those types? c) How many objects report multiple related resource types (regardless of which types)?\n",
    "**Property:** Related resource type"
   ]
  },
  {
   "cell_type": "code",
   "execution_count": 101,
   "id": "8697b978",
   "metadata": {
    "pycharm": {
     "name": "#%%\n"
    }
   },
   "outputs": [],
   "source": [
    "related_resource_types = df.UCIDatasetsCrosswalk.related_resource_type\n",
    "related_resource_types"
   ]
  },
  {
   "cell_type": "code",
   "execution_count": 102,
   "id": "aaab09bc",
   "metadata": {},
   "outputs": [
    {
     "name": "stdout",
     "output_type": "stream",
     "text": [
      "None\n"
     ]
    }
   ],
   "source": [
    "#confirm missing for this repo\n",
    "print(df.UCIDatasetsCrosswalk.related_resource_type)"
   ]
  },
  {
   "cell_type": "markdown",
   "id": "8975767e",
   "metadata": {
    "pycharm": {
     "name": "#%% md\n"
    }
   },
   "source": [
    "\n",
    "## 23-25. If there is an entry for an object in one of the three properties (Original data URL, Primary manuscript PID/URL, and Related resource identifier) count as Related resources = True and then count the number of objects that return True.\n",
    "**Property:** Related Resource Identifier"
   ]
  },
  {
   "cell_type": "code",
   "execution_count": 103,
   "id": "14112152",
   "metadata": {},
   "outputs": [
    {
     "name": "stdout",
     "output_type": "stream",
     "text": [
      "None\n"
     ]
    }
   ],
   "source": [
    "print(df.UCIDatasetsCrosswalk.original_data_url)"
   ]
  },
  {
   "cell_type": "code",
   "execution_count": 104,
   "id": "9f27546a",
   "metadata": {},
   "outputs": [
    {
     "name": "stdout",
     "output_type": "stream",
     "text": [
      "0                                                     []\n",
      "1                                                     []\n",
      "2                                                     []\n",
      "3                                                     []\n",
      "4                                                     []\n",
      "                             ...                        \n",
      "578                                                   []\n",
      "579                                                   []\n",
      "580                                                   []\n",
      "581                                                   []\n",
      "582    [{'title': 'A Hash-based Co-Clustering Algorit...\n",
      "Name: papers, Length: 583, dtype: object\n"
     ]
    }
   ],
   "source": [
    "print(df.UCIDatasetsCrosswalk.primary_manuscript)"
   ]
  },
  {
   "cell_type": "code",
   "execution_count": 105,
   "id": "d56ff681",
   "metadata": {},
   "outputs": [
    {
     "name": "stdout",
     "output_type": "stream",
     "text": [
      "None\n"
     ]
    }
   ],
   "source": [
    "print(df.UCIDatasetsCrosswalk.related_resource_identifier)"
   ]
  },
  {
   "cell_type": "code",
   "execution_count": 106,
   "id": "e2e90faa",
   "metadata": {},
   "outputs": [
    {
     "data": {
      "text/plain": [
       "0                                                     []\n",
       "1                                                     []\n",
       "2                                                     []\n",
       "3                                                     []\n",
       "4                                                     []\n",
       "                             ...                        \n",
       "578                                                   []\n",
       "579                                                   []\n",
       "580                                                   []\n",
       "581                                                   []\n",
       "582    [{'title': 'A Hash-based Co-Clustering Algorit...\n",
       "Name: papers, Length: 583, dtype: object"
      ]
     },
     "execution_count": 106,
     "metadata": {},
     "output_type": "execute_result"
    }
   ],
   "source": [
    "#only one of related resources fields we identify has content\n",
    "related_resources = df.UCIDatasetsCrosswalk.primary_manuscript\n",
    "related_resources"
   ]
  },
  {
   "cell_type": "code",
   "execution_count": 107,
   "id": "13c0c096",
   "metadata": {},
   "outputs": [
    {
     "data": {
      "text/plain": [
       "6      [{'title': 'A Comparison of Model Aggregation ...\n",
       "14     [{'title': 'Determining the Acute Inflammation...\n",
       "15     [{'title': '($k$,$epsilon$)-Anonymity: $k$-Ano...\n",
       "17     [{'title': 'Boosting for Dynamical Systems', '...\n",
       "19     [{'title': 'Paper', 'authors': [], 'year': '19...\n",
       "                             ...                        \n",
       "564    [{'title': 'An Efficient Algorithm for Density...\n",
       "569    [{'title': '$k$-POD: A Method for $k$-Means Cl...\n",
       "575    [{'title': 'Active Learning to Rank using Pair...\n",
       "576    [{'title': 'A Siamese Deep Forest', 'link': 'h...\n",
       "582    [{'title': 'A Hash-based Co-Clustering Algorit...\n",
       "Name: papers, Length: 102, dtype: object"
      ]
     },
     "execution_count": 107,
     "metadata": {},
     "output_type": "execute_result"
    }
   ],
   "source": [
    "#since interested in number of objects with related resource\n",
    "#can count up non-empty lists in series\n",
    "related_resources_use = related_resources[(related_resources.str.len() == 0) == False]\n",
    "related_resources_use"
   ]
  },
  {
   "cell_type": "code",
   "execution_count": 108,
   "id": "ca0dd53b",
   "metadata": {},
   "outputs": [
    {
     "name": "stdout",
     "output_type": "stream",
     "text": [
      "There are 102 items with related resources.\n"
     ]
    }
   ],
   "source": [
    "print(f'There are {len(related_resources_use)} items with related resources.')"
   ]
  },
  {
   "cell_type": "markdown",
   "id": "a5b237a2",
   "metadata": {
    "pycharm": {
     "name": "#%% md\n"
    }
   },
   "source": [
    "## 23-25. Also, what is the mean number of related resource links per object (again looking at the three properties (Original data URL, Primary manuscript PID/URL, nd Related resource identifier)?\n",
    "**Property:** Related Resource Identifier"
   ]
  },
  {
   "cell_type": "markdown",
   "id": "18c86044",
   "metadata": {},
   "source": [
    "We want to calculate this value to be mean number of links *for objects that have links*"
   ]
  },
  {
   "cell_type": "code",
   "execution_count": 109,
   "id": "65b9f9dd",
   "metadata": {
    "scrolled": true
   },
   "outputs": [
    {
     "data": {
      "text/plain": [
       "[{'title': 'A Comparison of Model Aggregation Methods for Regression',\n",
       "  'link': 'https://api.semanticscholar.org/CorpusID:7173976',\n",
       "  'authors': ['Zafer Barutçuoglu'],\n",
       "  'year': '2003',\n",
       "  'published_in': 'icann',\n",
       "  'journal': 'Lecture Notes in Computer Science'},\n",
       " {'title': 'A highly efficient semismooth Newton augmented Lagrangian method for solving Lasso problems',\n",
       "  'link': 'https://api.semanticscholar.org/CorpusID:17305034',\n",
       "  'authors': ['Xudong Li', 'Defeng Sun'],\n",
       "  'year': '2016',\n",
       "  'published_in': 'siam journal on optimization',\n",
       "  'journal': 'SIAM Journal on Optimization'},\n",
       " {'title': 'Adaptive Linear and Normalized Combination of Radial Basis Function Networks for Function Approximation and Regression',\n",
       "  'link': 'https://api.semanticscholar.org/CorpusID:119685847',\n",
       "  'authors': ['Yunfeng Wu',\n",
       "   'Xin Luo',\n",
       "   'Fang Zheng',\n",
       "   'Shanshan Yang',\n",
       "   'Suxian Cai',\n",
       "   'Sin Ng'],\n",
       "  'year': '2014',\n",
       "  'published_in': 'mathematical problems in engineering',\n",
       "  'journal': 'Mathematical Problems in Engineering'},\n",
       " {'title': 'Aggregation of Classifiers: A Justifiable Information Granularity Approach',\n",
       "  'link': 'https://api.semanticscholar.org/CorpusID:3077738',\n",
       "  'authors': ['Tien Nguyen', 'Xuan Pham', 'Alan Liew', 'Witold Pedrycz'],\n",
       "  'year': '2017',\n",
       "  'published_in': 'arxiv',\n",
       "  'journal': 'ArXiv'},\n",
       " {'title': 'An Interactive Approach to Outlier Detection',\n",
       "  'link': 'https://api.semanticscholar.org/CorpusID:7113982',\n",
       "  'authors': ['Rob Konijn', 'Wojtek Kowalczyk'],\n",
       "  'year': '2010',\n",
       "  'published_in': 'rskt',\n",
       "  'journal': 'Rough Set and Knowledge Technology'}]"
      ]
     },
     "execution_count": 109,
     "metadata": {},
     "output_type": "execute_result"
    }
   ],
   "source": [
    "#look closer at dictionary content in related_resources_use\n",
    "related_resources_use[6]"
   ]
  },
  {
   "cell_type": "code",
   "execution_count": 110,
   "id": "a66ffeaf",
   "metadata": {
    "scrolled": true
   },
   "outputs": [
    {
     "data": {
      "text/html": [
       "<div>\n",
       "<style scoped>\n",
       "    .dataframe tbody tr th:only-of-type {\n",
       "        vertical-align: middle;\n",
       "    }\n",
       "\n",
       "    .dataframe tbody tr th {\n",
       "        vertical-align: top;\n",
       "    }\n",
       "\n",
       "    .dataframe thead th {\n",
       "        text-align: right;\n",
       "    }\n",
       "</style>\n",
       "<table border=\"1\" class=\"dataframe\">\n",
       "  <thead>\n",
       "    <tr style=\"text-align: right;\">\n",
       "      <th></th>\n",
       "      <th>0</th>\n",
       "      <th>1</th>\n",
       "      <th>2</th>\n",
       "      <th>3</th>\n",
       "      <th>4</th>\n",
       "    </tr>\n",
       "  </thead>\n",
       "  <tbody>\n",
       "    <tr>\n",
       "      <th>0</th>\n",
       "      <td>{'title': 'A Comparison of Model Aggregation M...</td>\n",
       "      <td>{'title': 'A highly efficient semismooth Newto...</td>\n",
       "      <td>{'title': 'Adaptive Linear and Normalized Comb...</td>\n",
       "      <td>{'title': 'Aggregation of Classifiers: A Justi...</td>\n",
       "      <td>{'title': 'An Interactive Approach to Outlier ...</td>\n",
       "    </tr>\n",
       "    <tr>\n",
       "      <th>1</th>\n",
       "      <td>{'title': 'Determining the Acute Inflammations...</td>\n",
       "      <td>None</td>\n",
       "      <td>None</td>\n",
       "      <td>None</td>\n",
       "      <td>None</td>\n",
       "    </tr>\n",
       "    <tr>\n",
       "      <th>2</th>\n",
       "      <td>{'title': '($k$,$epsilon$)-Anonymity: $k$-Anon...</td>\n",
       "      <td>{'title': '(α, k)-anonymous data publishing', ...</td>\n",
       "      <td>{'title': '1 Induction of Association Rules: A...</td>\n",
       "      <td>{'title': '2 Using SDR to Formulate Fairness D...</td>\n",
       "      <td>{'title': 'A Combintorial Tree based Frequent ...</td>\n",
       "    </tr>\n",
       "    <tr>\n",
       "      <th>3</th>\n",
       "      <td>{'title': 'Boosting for Dynamical Systems', 'l...</td>\n",
       "      <td>{'title': 'Combined modeling of sparse and den...</td>\n",
       "      <td>{'title': 'Zoom-SVD: Fast and Memory Efficient...</td>\n",
       "      <td>None</td>\n",
       "      <td>None</td>\n",
       "    </tr>\n",
       "    <tr>\n",
       "      <th>4</th>\n",
       "      <td>{'title': 'Paper', 'authors': [], 'year': '198...</td>\n",
       "      <td>None</td>\n",
       "      <td>None</td>\n",
       "      <td>None</td>\n",
       "      <td>None</td>\n",
       "    </tr>\n",
       "    <tr>\n",
       "      <th>...</th>\n",
       "      <td>...</td>\n",
       "      <td>...</td>\n",
       "      <td>...</td>\n",
       "      <td>...</td>\n",
       "      <td>...</td>\n",
       "    </tr>\n",
       "    <tr>\n",
       "      <th>97</th>\n",
       "      <td>{'title': 'An Efficient Algorithm for Density ...</td>\n",
       "      <td>None</td>\n",
       "      <td>None</td>\n",
       "      <td>None</td>\n",
       "      <td>None</td>\n",
       "    </tr>\n",
       "    <tr>\n",
       "      <th>98</th>\n",
       "      <td>{'title': '$k$-POD: A Method for $k$-Means Clu...</td>\n",
       "      <td>{'title': '2 9 A ug 2 01 9 Gradient Methods fo...</td>\n",
       "      <td>{'title': 'A Bayesian Approach for Classificat...</td>\n",
       "      <td>{'title': 'A Deep and Tractable Density Estima...</td>\n",
       "      <td>{'title': 'A Discretization Algorithm for Unce...</td>\n",
       "    </tr>\n",
       "    <tr>\n",
       "      <th>99</th>\n",
       "      <td>{'title': 'Active Learning to Rank using Pairw...</td>\n",
       "      <td>{'title': 'Anytime Stochastic Gradient Descent...</td>\n",
       "      <td>{'title': 'Closed Form Variational Objectives ...</td>\n",
       "      <td>{'title': 'Controversy Rules - Discovering Reg...</td>\n",
       "      <td>{'title': 'Linear Convergence of Stochastic Fr...</td>\n",
       "    </tr>\n",
       "    <tr>\n",
       "      <th>100</th>\n",
       "      <td>{'title': 'A Siamese Deep Forest', 'link': 'ht...</td>\n",
       "      <td>{'title': 'A new structure entropy of complex ...</td>\n",
       "      <td>{'title': 'AGORAS: A Fast Algorithm for Estima...</td>\n",
       "      <td>{'title': 'AdaCluster : Adaptive Clustering fo...</td>\n",
       "      <td>{'title': 'BAC: A Bagged Associative Classifie...</td>\n",
       "    </tr>\n",
       "    <tr>\n",
       "      <th>101</th>\n",
       "      <td>{'title': 'A Hash-based Co-Clustering Algorith...</td>\n",
       "      <td>{'title': 'A Nonlinear Orthogonal Non-Negative...</td>\n",
       "      <td>{'title': 'A fuzzified BRAIN algorithm for lea...</td>\n",
       "      <td>{'title': 'A-Ward_p\b{eta}: Effective hierarchi...</td>\n",
       "      <td>{'title': 'Angle-based outlier detection in hi...</td>\n",
       "    </tr>\n",
       "  </tbody>\n",
       "</table>\n",
       "<p>102 rows × 5 columns</p>\n",
       "</div>"
      ],
      "text/plain": [
       "                                                     0  \\\n",
       "0    {'title': 'A Comparison of Model Aggregation M...   \n",
       "1    {'title': 'Determining the Acute Inflammations...   \n",
       "2    {'title': '($k$,$epsilon$)-Anonymity: $k$-Anon...   \n",
       "3    {'title': 'Boosting for Dynamical Systems', 'l...   \n",
       "4    {'title': 'Paper', 'authors': [], 'year': '198...   \n",
       "..                                                 ...   \n",
       "97   {'title': 'An Efficient Algorithm for Density ...   \n",
       "98   {'title': '$k$-POD: A Method for $k$-Means Clu...   \n",
       "99   {'title': 'Active Learning to Rank using Pairw...   \n",
       "100  {'title': 'A Siamese Deep Forest', 'link': 'ht...   \n",
       "101  {'title': 'A Hash-based Co-Clustering Algorith...   \n",
       "\n",
       "                                                     1  \\\n",
       "0    {'title': 'A highly efficient semismooth Newto...   \n",
       "1                                                 None   \n",
       "2    {'title': '(α, k)-anonymous data publishing', ...   \n",
       "3    {'title': 'Combined modeling of sparse and den...   \n",
       "4                                                 None   \n",
       "..                                                 ...   \n",
       "97                                                None   \n",
       "98   {'title': '2 9 A ug 2 01 9 Gradient Methods fo...   \n",
       "99   {'title': 'Anytime Stochastic Gradient Descent...   \n",
       "100  {'title': 'A new structure entropy of complex ...   \n",
       "101  {'title': 'A Nonlinear Orthogonal Non-Negative...   \n",
       "\n",
       "                                                     2  \\\n",
       "0    {'title': 'Adaptive Linear and Normalized Comb...   \n",
       "1                                                 None   \n",
       "2    {'title': '1 Induction of Association Rules: A...   \n",
       "3    {'title': 'Zoom-SVD: Fast and Memory Efficient...   \n",
       "4                                                 None   \n",
       "..                                                 ...   \n",
       "97                                                None   \n",
       "98   {'title': 'A Bayesian Approach for Classificat...   \n",
       "99   {'title': 'Closed Form Variational Objectives ...   \n",
       "100  {'title': 'AGORAS: A Fast Algorithm for Estima...   \n",
       "101  {'title': 'A fuzzified BRAIN algorithm for lea...   \n",
       "\n",
       "                                                     3  \\\n",
       "0    {'title': 'Aggregation of Classifiers: A Justi...   \n",
       "1                                                 None   \n",
       "2    {'title': '2 Using SDR to Formulate Fairness D...   \n",
       "3                                                 None   \n",
       "4                                                 None   \n",
       "..                                                 ...   \n",
       "97                                                None   \n",
       "98   {'title': 'A Deep and Tractable Density Estima...   \n",
       "99   {'title': 'Controversy Rules - Discovering Reg...   \n",
       "100  {'title': 'AdaCluster : Adaptive Clustering fo...   \n",
       "101  {'title': 'A-Ward_p\b{eta}: Effective hierarchi...   \n",
       "\n",
       "                                                     4  \n",
       "0    {'title': 'An Interactive Approach to Outlier ...  \n",
       "1                                                 None  \n",
       "2    {'title': 'A Combintorial Tree based Frequent ...  \n",
       "3                                                 None  \n",
       "4                                                 None  \n",
       "..                                                 ...  \n",
       "97                                                None  \n",
       "98   {'title': 'A Discretization Algorithm for Unce...  \n",
       "99   {'title': 'Linear Convergence of Stochastic Fr...  \n",
       "100  {'title': 'BAC: A Bagged Associative Classifie...  \n",
       "101  {'title': 'Angle-based outlier detection in hi...  \n",
       "\n",
       "[102 rows x 5 columns]"
      ]
     },
     "execution_count": 110,
     "metadata": {},
     "output_type": "execute_result"
    }
   ],
   "source": [
    "#turn into dataframe\n",
    "related_resources_df = pd.DataFrame(related_resources_use.tolist())\n",
    "related_resources_df"
   ]
  },
  {
   "cell_type": "code",
   "execution_count": 111,
   "id": "f25211df",
   "metadata": {},
   "outputs": [
    {
     "data": {
      "text/plain": [
       "0      5\n",
       "1      1\n",
       "2      5\n",
       "3      3\n",
       "4      1\n",
       "      ..\n",
       "97     1\n",
       "98     5\n",
       "99     5\n",
       "100    5\n",
       "101    5\n",
       "Length: 102, dtype: int64"
      ]
     },
     "execution_count": 111,
     "metadata": {},
     "output_type": "execute_result"
    }
   ],
   "source": [
    "#for each row, count number of non 'None' cells\n",
    "related_resource_counts = related_resources_df.notnull().sum(axis=1)\n",
    "related_resource_counts"
   ]
  },
  {
   "cell_type": "code",
   "execution_count": 112,
   "id": "6ba9224f",
   "metadata": {
    "pycharm": {
     "is_executing": true,
     "name": "#%%\n"
    }
   },
   "outputs": [
    {
     "name": "stdout",
     "output_type": "stream",
     "text": [
      "mean 3.588 links per object\n"
     ]
    }
   ],
   "source": [
    "print(f'mean {round(related_resource_counts.mean(), 3)} links per object')"
   ]
  },
  {
   "cell_type": "code",
   "execution_count": 113,
   "id": "4e694fb7",
   "metadata": {},
   "outputs": [
    {
     "name": "stdout",
     "output_type": "stream",
     "text": [
      "median 5.0 links per object\n"
     ]
    }
   ],
   "source": [
    "print(f'median {round(related_resource_counts.median(), 3)} links per object')"
   ]
  },
  {
   "cell_type": "markdown",
   "id": "1ce011c5",
   "metadata": {
    "pycharm": {
     "name": "#%% md\n"
    }
   },
   "source": [
    "## 26. How many objects report each relation type? How many objects report multiple relation types, regardless of what those types are?\n",
    "**Property:** Related resource relation type"
   ]
  },
  {
   "cell_type": "code",
   "execution_count": 114,
   "id": "70a683a4",
   "metadata": {
    "pycharm": {
     "name": "#%%\n"
    }
   },
   "outputs": [],
   "source": [
    "relation_type = df.UCIDatasetsCrosswalk.related_resource_relation_type\n",
    "relation_type"
   ]
  },
  {
   "cell_type": "code",
   "execution_count": 115,
   "id": "0f5cdbf4",
   "metadata": {},
   "outputs": [
    {
     "name": "stdout",
     "output_type": "stream",
     "text": [
      "None\n"
     ]
    }
   ],
   "source": [
    "#confirm missing for repo\n",
    "print(df.UCIDatasetsCrosswalk.related_resource_relation_type)"
   ]
  },
  {
   "cell_type": "markdown",
   "id": "675ae250",
   "metadata": {
    "pycharm": {
     "name": "#%% md\n"
    }
   },
   "source": [
    "## 27. For repositories that store the full citation in a designated field, how many objects have a populated citation? How many objects have a citation and a URL or other actionable link?\n",
    "**Property:** Citation"
   ]
  },
  {
   "cell_type": "code",
   "execution_count": 116,
   "id": "f2d6a2ee",
   "metadata": {
    "pycharm": {
     "name": "#%%\n"
    }
   },
   "outputs": [
    {
     "data": {
      "text/plain": [
       "0      N/A\n",
       "1      N/A\n",
       "2      N/A\n",
       "3      N/A\n",
       "4      N/A\n",
       "      ... \n",
       "578    N/A\n",
       "579    N/A\n",
       "580    N/A\n",
       "581    N/A\n",
       "582    N/A\n",
       "Name: citation_requests/acknowledgements, Length: 583, dtype: object"
      ]
     },
     "execution_count": 116,
     "metadata": {},
     "output_type": "execute_result"
    }
   ],
   "source": [
    "citations = df.UCIDatasetsCrosswalk.citation\n",
    "citations"
   ]
  },
  {
   "cell_type": "code",
   "execution_count": 117,
   "id": "59debd3f",
   "metadata": {},
   "outputs": [
    {
     "data": {
      "text/html": [
       "<div>\n",
       "<style scoped>\n",
       "    .dataframe tbody tr th:only-of-type {\n",
       "        vertical-align: middle;\n",
       "    }\n",
       "\n",
       "    .dataframe tbody tr th {\n",
       "        vertical-align: top;\n",
       "    }\n",
       "\n",
       "    .dataframe thead th {\n",
       "        text-align: right;\n",
       "    }\n",
       "</style>\n",
       "<table border=\"1\" class=\"dataframe\">\n",
       "  <thead>\n",
       "    <tr style=\"text-align: right;\">\n",
       "      <th></th>\n",
       "      <th>citation_requests/acknowledgements</th>\n",
       "    </tr>\n",
       "  </thead>\n",
       "  <tbody>\n",
       "    <tr>\n",
       "      <th>N/A</th>\n",
       "      <td>577</td>\n",
       "    </tr>\n",
       "    <tr>\n",
       "      <th>Please cite Learning Multiple Layers of Features from Tiny Images, Alex Krizhevsky, Technical Report, Computer Science Department, University of Toronto, 2009.</th>\n",
       "      <td>1</td>\n",
       "    </tr>\n",
       "    <tr>\n",
       "      <th>If you use this dataset, please cite the following paper:\\n\\n@article{mancuso2021,\\ntitle = {A machine learning approach for forecasting hierarchical time series},\\njournal = {Expert Systems with Applications},\\nvolume = {182},\\npages = {115102},\\nyear = {2021},\\nissn = {0957-4174},\\ndoi = {https://doi.org/10.1016/j.eswa.2021.115102},\\nurl = {https://www.sciencedirect.com/science/article/pii/S0957417421005431},\\nauthor = {Paolo Mancuso and Veronica Piccialli and Antonio M. Sudoso},\\nkeywords = {Hierarchical time series, Forecast, Machine learning, Deep neural network}\\n}</th>\n",
       "      <td>1</td>\n",
       "    </tr>\n",
       "    <tr>\n",
       "      <th>Deng, J. and Dong, W. and Socher, R. and Li, L.-J. and Li, K. and Fei-Fei, L., ImageNet: A Large-Scale Hierarchical Image Database, CVPR, 2009</th>\n",
       "      <td>1</td>\n",
       "    </tr>\n",
       "    <tr>\n",
       "      <th>See the dataset’s link for required citation and use policies. Dataset image credit: Artwork by @allison_horst.</th>\n",
       "      <td>1</td>\n",
       "    </tr>\n",
       "    <tr>\n",
       "      <th>M. Irfan, L. Tokarchuk, L. Marcenaro and C. Regazzoni, \"ANOMALY DETECTION IN CROWDS USING MULTI SENSORY INFORMATION,\" 2018 15th IEEE International Conference on Advanced Video and Signal Based Surveillance (AVSS), 2018, pp. 1-6, doi: 10.1109/AVSS.2018.8639151.</th>\n",
       "      <td>1</td>\n",
       "    </tr>\n",
       "    <tr>\n",
       "      <th>Liang Zhao, Olga Gkountouna, and Dieter Pfoser. 2019. Spatial Auto-regressive Dependency Interpretable Learning Based on Spatial Topological Constraints. ACM Trans. Spatial Algorithms Syst. 5, 3, Article 19 (August 2019), 28 pages. DOI:https://doi.org/10.1145/3339823</th>\n",
       "      <td>1</td>\n",
       "    </tr>\n",
       "  </tbody>\n",
       "</table>\n",
       "</div>"
      ],
      "text/plain": [
       "                                                    citation_requests/acknowledgements\n",
       "N/A                                                                                577\n",
       "Please cite Learning Multiple Layers of Feature...                                   1\n",
       "If you use this dataset, please cite the follow...                                   1\n",
       "Deng, J. and Dong, W. and Socher, R. and Li, L....                                   1\n",
       "See the dataset’s link for required citation an...                                   1\n",
       "M. Irfan, L. Tokarchuk, L. Marcenaro and C. Reg...                                   1\n",
       "Liang Zhao, Olga Gkountouna, and Dieter Pfoser....                                   1"
      ]
     },
     "execution_count": 117,
     "metadata": {},
     "output_type": "execute_result"
    }
   ],
   "source": [
    "citations.value_counts().to_frame()"
   ]
  },
  {
   "cell_type": "markdown",
   "id": "9b9c6c9a",
   "metadata": {},
   "source": [
    "Note that beta site was scraped during transition and it looks like not all citations had transferred yet. Checking UCIMLR beta site at a later date shows more objects with citations."
   ]
  }
 ],
 "metadata": {
  "kernelspec": {
   "display_name": "Python 3 (ipykernel)",
   "language": "python",
   "name": "python3"
  },
  "language_info": {
   "codemirror_mode": {
    "name": "ipython",
    "version": 3
   },
   "file_extension": ".py",
   "mimetype": "text/x-python",
   "name": "python",
   "nbconvert_exporter": "python",
   "pygments_lexer": "ipython3",
   "version": "3.10.0"
  }
 },
 "nbformat": 4,
 "nbformat_minor": 5
}
